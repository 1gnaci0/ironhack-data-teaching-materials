{
 "cells": [
  {
   "cell_type": "markdown",
   "metadata": {},
   "source": [
    "# Model Selection and parameter tuning"
   ]
  },
  {
   "cell_type": "code",
   "execution_count": 1,
   "metadata": {},
   "outputs": [],
   "source": [
    "import numpy as np\n",
    "from matplotlib import pyplot as plt\n",
    "from mpl_toolkits.mplot3d import axes3d\n",
    "from matplotlib import cm\n",
    "%matplotlib inline\n",
    "%config Inlinebackend.figure_format = 'retina'\n",
    "\n",
    "import seaborn as sns\n",
    "sns.set_context('poster')\n",
    "sns.set(rc={'figure.figsize': (16., 9.)})\n",
    "sns.set_style('whitegrid')\n",
    "\n",
    "# Modeling libraries\n",
    "import statsmodels.formula.api as smf # welcome!!\n",
    "from sklearn.linear_model import LinearRegression, Lasso, Ridge, ElasticNet\n",
    "from sklearn.neighbors import KNeighborsClassifier\n",
    "from sklearn.metrics import mean_squared_error, r2_score\n",
    "from sklearn.model_selection import train_test_split\n",
    "from sklearn.model_selection import learning_curve, GridSearchCV\n",
    "from sklearn.model_selection import cross_validate, cross_val_score\n",
    "from sklearn.preprocessing import PolynomialFeatures\n",
    "from sklearn.preprocessing import StandardScaler\n",
    "from sklearn.pipeline import make_pipeline\n",
    "from sklearn import set_config\n",
    "set_config(display='diagram')\n",
    "\n",
    "import pandas as pd\n",
    "np.random.seed(123)\n",
    "\n",
    "import warnings\n",
    "warnings.filterwarnings('ignore')"
   ]
  },
  {
   "cell_type": "markdown",
   "metadata": {
    "toc": true
   },
   "source": [
    "<h1>Table of Contents<span class=\"tocSkip\"></span></h1>\n",
    "<div class=\"toc\"><ul class=\"toc-item\"><li><span><a href=\"#Validation-set\" data-toc-modified-id=\"Validation-set-1\"><span class=\"toc-item-num\">1&nbsp;&nbsp;</span>Validation set</a></span><ul class=\"toc-item\"><li><span><a href=\"#Example:-tune-regularization-in-Lasso\" data-toc-modified-id=\"Example:-tune-regularization-in-Lasso-1.1\"><span class=\"toc-item-num\">1.1&nbsp;&nbsp;</span>Example: tune regularization in Lasso</a></span></li></ul></li><li><span><a href=\"#k-fold-cross-validation\" data-toc-modified-id=\"k-fold-cross-validation-2\"><span class=\"toc-item-num\">2&nbsp;&nbsp;</span>k-fold cross validation</a></span><ul class=\"toc-item\"><li><span><a href=\"#GridSearch\" data-toc-modified-id=\"GridSearch-2.1\"><span class=\"toc-item-num\">2.1&nbsp;&nbsp;</span>GridSearch</a></span></li></ul></li><li><span><a href=\"#KNN-Neighbors-(classification)\" data-toc-modified-id=\"KNN-Neighbors-(classification)-3\"><span class=\"toc-item-num\">3&nbsp;&nbsp;</span>KNN Neighbors (classification)</a></span></li><li><span><a href=\"#Standarization-of-variables\" data-toc-modified-id=\"Standarization-of-variables-4\"><span class=\"toc-item-num\">4&nbsp;&nbsp;</span>Standarization of variables</a></span></li><li><span><a href=\"#Extra:-sklearn-pipelines\" data-toc-modified-id=\"Extra:-sklearn-pipelines-5\"><span class=\"toc-item-num\">5&nbsp;&nbsp;</span>Extra: sklearn pipelines</a></span></li><li><span><a href=\"#References\" data-toc-modified-id=\"References-6\"><span class=\"toc-item-num\">6&nbsp;&nbsp;</span>References</a></span></li></ul></div>"
   ]
  },
  {
   "attachments": {
    "image.png": {
     "image/png": "[encoded data removed]"
    }
   },
   "cell_type": "markdown",
   "metadata": {},
   "source": [
    "## Validation set\n",
    "\n",
    "When training a model, using different parameters may lead to very different solution. We could chose the ones that minimize the error in the **train set**, but: can you recall why that was not a good idea?\n",
    "\n",
    "OK, perhaps then we should chose the parameters that minimize the **test set**. But... this turns out to yield over optimistic results. Indeed we would be chosing the parameter settings that best perform in our particular test set, but not necessarily generalizing that well to other unseen observations.\n",
    "\n",
    "The solution is to create a **validation set** that is used to validate the parameter selections. Remember, the **test set** is to be used *exclusively* for assesing the quality of your model.\n",
    "\n",
    "![image.png](attachment:image.png)"
   ]
  },
  {
   "cell_type": "markdown",
   "metadata": {},
   "source": [
    "### Example: tune regularization in Lasso"
   ]
  },
  {
   "cell_type": "code",
   "execution_count": 2,
   "metadata": {},
   "outputs": [],
   "source": [
    "# load data\n",
    "df_ad = pd.read_csv('../datasets/Advertising.csv')"
   ]
  },
  {
   "cell_type": "code",
   "execution_count": 3,
   "metadata": {},
   "outputs": [],
   "source": [
    "\n",
    "# Split target and predictors\n",
    "X = df_ad.drop('Sales', axis=1)\n",
    "y = df_ad['Sales']\n",
    "\n",
    "\n",
    "# split data in train/ validation/ test/ \n",
    "X_train, X_test, y_train, y_test = train_test_split( X, \n",
    "                                                    y, \n",
    "                                                    test_size=0.20, \n",
    "                                                    random_state=123)\n",
    "\n",
    "X_train, X_val, y_train, y_val = train_test_split(X_train, \n",
    "                                                  y_train, \n",
    "                                                  test_size=0.20, \n",
    "                                                  random_state=123)"
   ]
  },
  {
   "cell_type": "code",
   "execution_count": 4,
   "metadata": {},
   "outputs": [
    {
     "data": {
      "text/plain": [
       "array([ 0.        ,  0.1010101 ,  0.2020202 ,  0.3030303 ,  0.4040404 ,\n",
       "        0.50505051,  0.60606061,  0.70707071,  0.80808081,  0.90909091,\n",
       "        1.01010101,  1.11111111,  1.21212121,  1.31313131,  1.41414141,\n",
       "        1.51515152,  1.61616162,  1.71717172,  1.81818182,  1.91919192,\n",
       "        2.02020202,  2.12121212,  2.22222222,  2.32323232,  2.42424242,\n",
       "        2.52525253,  2.62626263,  2.72727273,  2.82828283,  2.92929293,\n",
       "        3.03030303,  3.13131313,  3.23232323,  3.33333333,  3.43434343,\n",
       "        3.53535354,  3.63636364,  3.73737374,  3.83838384,  3.93939394,\n",
       "        4.04040404,  4.14141414,  4.24242424,  4.34343434,  4.44444444,\n",
       "        4.54545455,  4.64646465,  4.74747475,  4.84848485,  4.94949495,\n",
       "        5.05050505,  5.15151515,  5.25252525,  5.35353535,  5.45454545,\n",
       "        5.55555556,  5.65656566,  5.75757576,  5.85858586,  5.95959596,\n",
       "        6.06060606,  6.16161616,  6.26262626,  6.36363636,  6.46464646,\n",
       "        6.56565657,  6.66666667,  6.76767677,  6.86868687,  6.96969697,\n",
       "        7.07070707,  7.17171717,  7.27272727,  7.37373737,  7.47474747,\n",
       "        7.57575758,  7.67676768,  7.77777778,  7.87878788,  7.97979798,\n",
       "        8.08080808,  8.18181818,  8.28282828,  8.38383838,  8.48484848,\n",
       "        8.58585859,  8.68686869,  8.78787879,  8.88888889,  8.98989899,\n",
       "        9.09090909,  9.19191919,  9.29292929,  9.39393939,  9.49494949,\n",
       "        9.5959596 ,  9.6969697 ,  9.7979798 ,  9.8989899 , 10.        ])"
      ]
     },
     "execution_count": 4,
     "metadata": {},
     "output_type": "execute_result"
    }
   ],
   "source": [
    "# Select the best model with the validation set approach\n",
    "regularization_space = np.linspace(0, 10, 100)\n",
    "regularization_space"
   ]
  },
  {
   "cell_type": "code",
   "execution_count": 5,
   "metadata": {},
   "outputs": [],
   "source": [
    "validation_score = []\n",
    "for a in regularization_space:\n",
    "    lasso = Lasso(alpha=a) \n",
    "    lasso.fit(X_train, y_train)\n",
    "    score = lasso.score(X_val, y_val)\n",
    "    validation_score.append(score)"
   ]
  },
  {
   "cell_type": "code",
   "execution_count": 6,
   "metadata": {},
   "outputs": [
    {
     "data": {
      "image/png": "[encoded data removed]",
      "text/plain": [
       "<Figure size 1152x648 with 1 Axes>"
      ]
     },
     "metadata": {},
     "output_type": "display_data"
    }
   ],
   "source": [
    "plt.plot(regularization_space, validation_score);\n",
    "plt.xlabel('alpha (regularization)', size=20)\n",
    "plt.ylabel(f'$R^2$', size=20)\n",
    "plt.show()"
   ]
  },
  {
   "cell_type": "code",
   "execution_count": 7,
   "metadata": {},
   "outputs": [],
   "source": [
    "alpha_val = regularization_space[validation_score.index(max(validation_score))]"
   ]
  },
  {
   "cell_type": "code",
   "execution_count": 8,
   "metadata": {},
   "outputs": [],
   "source": [
    "# rejoin train and val set \n",
    "X_train = pd.concat([X_train, X_val], axis=0)\n",
    "y_train = pd.concat([y_train, y_val], axis=0)"
   ]
  },
  {
   "cell_type": "code",
   "execution_count": 9,
   "metadata": {},
   "outputs": [
    {
     "data": {
      "text/plain": [
       "0.9140719891117921"
      ]
     },
     "execution_count": 9,
     "metadata": {},
     "output_type": "execute_result"
    }
   ],
   "source": [
    "lasso = Lasso(alpha=alpha_val)\n",
    "lasso.fit(X_train, y_train)\n",
    "lasso.score(X_test, y_test)"
   ]
  },
  {
   "attachments": {
    "image.png": {
     "image/png": "[encoded data removed]"
    }
   },
   "cell_type": "markdown",
   "metadata": {},
   "source": [
    "## k-fold cross validation\n",
    "\n",
    "\n",
    "![image.png](attachment:image.png)"
   ]
  },
  {
   "cell_type": "markdown",
   "metadata": {},
   "source": [
    "### GridSearch\n",
    "\n",
    "We explore a space of parameters and evaluate their impact on the performance of the model. Then, we keep the best set of parameters to calculate our error in the Test set.\n",
    "\n",
    "**Note** This few lines are really enough to train good models!"
   ]
  },
  {
   "cell_type": "code",
   "execution_count": 10,
   "metadata": {},
   "outputs": [],
   "source": [
    "# load data\n",
    "df_ad = pd.read_csv('../datasets/Advertising.csv')\n",
    "# Split target and predictors\n",
    "X = df_ad.drop('Sales', axis=1)\n",
    "y = df_ad['Sales']\n",
    "\n",
    "\n",
    "# split data in train/ test/ \n",
    "X_train, X_test, y_train, y_test = train_test_split(X, \n",
    "                                                    y, \n",
    "                                                    test_size=0.20, \n",
    "                                                    random_state=123)"
   ]
  },
  {
   "cell_type": "code",
   "execution_count": 11,
   "metadata": {},
   "outputs": [
    {
     "data": {
      "text/html": [
       "<style>div.sk-top-container {color: black;background-color: white;}div.sk-toggleable {background-color: white;}label.sk-toggleable__label {cursor: pointer;display: block;width: 100%;margin-bottom: 0;padding: 0.2em 0.3em;box-sizing: border-box;text-align: center;}div.sk-toggleable__content {max-height: 0;max-width: 0;overflow: hidden;text-align: left;background-color: #f0f8ff;}div.sk-toggleable__content pre {margin: 0.2em;color: black;border-radius: 0.25em;background-color: #f0f8ff;}input.sk-toggleable__control:checked~div.sk-toggleable__content {max-height: 200px;max-width: 100%;overflow: auto;}div.sk-estimator input.sk-toggleable__control:checked~label.sk-toggleable__label {background-color: #d4ebff;}div.sk-label input.sk-toggleable__control:checked~label.sk-toggleable__label {background-color: #d4ebff;}input.sk-hidden--visually {border: 0;clip: rect(1px 1px 1px 1px);clip: rect(1px, 1px, 1px, 1px);height: 1px;margin: -1px;overflow: hidden;padding: 0;position: absolute;width: 1px;}div.sk-estimator {font-family: monospace;background-color: #f0f8ff;margin: 0.25em 0.25em;border: 1px dotted black;border-radius: 0.25em;box-sizing: border-box;}div.sk-estimator:hover {background-color: #d4ebff;}div.sk-parallel-item::after {content: \"\";width: 100%;border-bottom: 1px solid gray;flex-grow: 1;}div.sk-label:hover label.sk-toggleable__label {background-color: #d4ebff;}div.sk-serial::before {content: \"\";position: absolute;border-left: 1px solid gray;box-sizing: border-box;top: 2em;bottom: 0;left: 50%;}div.sk-serial {display: flex;flex-direction: column;align-items: center;background-color: white;}div.sk-item {z-index: 1;}div.sk-parallel {display: flex;align-items: stretch;justify-content: center;background-color: white;}div.sk-parallel-item {display: flex;flex-direction: column;position: relative;background-color: white;}div.sk-parallel-item:first-child::after {align-self: flex-end;width: 50%;}div.sk-parallel-item:last-child::after {align-self: flex-start;width: 50%;}div.sk-parallel-item:only-child::after {width: 0;}div.sk-dashed-wrapped {border: 1px dashed gray;margin: 0.2em;box-sizing: border-box;padding-bottom: 0.1em;background-color: white;position: relative;}div.sk-label label {font-family: monospace;font-weight: bold;background-color: white;display: inline-block;line-height: 1.2em;}div.sk-label-container {position: relative;z-index: 2;text-align: center;}div.sk-container {display: inline-block;position: relative;}</style><div class=\"sk-top-container\"><div class=\"sk-container\"><div class=\"sk-item sk-dashed-wrapped\"><div class=\"sk-label-container\"><div class=\"sk-label sk-toggleable\"><input class=\"sk-toggleable__control sk-hidden--visually\" id=\"1689ecea-69a7-4c5b-854a-95076e2b12b0\" type=\"checkbox\" ><label class=\"sk-toggleable__label\" for=\"1689ecea-69a7-4c5b-854a-95076e2b12b0\">GridSearchCV</label><div class=\"sk-toggleable__content\"><pre>GridSearchCV(cv=5, estimator=Ridge(),\n",
       "             param_grid={'alpha': array([  0.        ,   0.1001001 ,   0.2002002 ,   0.3003003 ,\n",
       "         0.4004004 ,   0.5005005 ,   0.6006006 ,   0.7007007 ,\n",
       "         0.8008008 ,   0.9009009 ,   1.001001  ,   1.1011011 ,\n",
       "         1.2012012 ,   1.3013013 ,   1.4014014 ,   1.5015015 ,\n",
       "         1.6016016 ,   1.7017017 ,   1.8018018 ,   1.9019019 ,\n",
       "         2.002002  ,   2.1021021 ,   2.2022022 ,   2.3023023 ,\n",
       "         2.4024024 ,   2.5025025 ,   2.6026026 ,   2.7027027 ,\n",
       "         2.8028028 ,   2.9029...\n",
       "        96.4964965 ,  96.5965966 ,  96.6966967 ,  96.7967968 ,\n",
       "        96.8968969 ,  96.996997  ,  97.0970971 ,  97.1971972 ,\n",
       "        97.2972973 ,  97.3973974 ,  97.4974975 ,  97.5975976 ,\n",
       "        97.6976977 ,  97.7977978 ,  97.8978979 ,  97.997998  ,\n",
       "        98.0980981 ,  98.1981982 ,  98.2982983 ,  98.3983984 ,\n",
       "        98.4984985 ,  98.5985986 ,  98.6986987 ,  98.7987988 ,\n",
       "        98.8988989 ,  98.998999  ,  99.0990991 ,  99.1991992 ,\n",
       "        99.2992993 ,  99.3993994 ,  99.4994995 ,  99.5995996 ,\n",
       "        99.6996997 ,  99.7997998 ,  99.8998999 , 100.        ])})</pre></div></div></div><div class=\"sk-parallel\"><div class=\"sk-parallel-item\"><div class=\"sk-item\"><div class=\"sk-serial\"><div class=\"sk-item\"><div class=\"sk-estimator sk-toggleable\"><input class=\"sk-toggleable__control sk-hidden--visually\" id=\"e2c6ee0e-cdb4-424d-bb1a-7a19f86b872a\" type=\"checkbox\" ><label class=\"sk-toggleable__label\" for=\"e2c6ee0e-cdb4-424d-bb1a-7a19f86b872a\">Ridge</label><div class=\"sk-toggleable__content\"><pre>Ridge()</pre></div></div></div></div></div></div></div></div></div></div>"
      ],
      "text/plain": [
       "GridSearchCV(cv=5, estimator=Ridge(),\n",
       "             param_grid={'alpha': array([  0.        ,   0.1001001 ,   0.2002002 ,   0.3003003 ,\n",
       "         0.4004004 ,   0.5005005 ,   0.6006006 ,   0.7007007 ,\n",
       "         0.8008008 ,   0.9009009 ,   1.001001  ,   1.1011011 ,\n",
       "         1.2012012 ,   1.3013013 ,   1.4014014 ,   1.5015015 ,\n",
       "         1.6016016 ,   1.7017017 ,   1.8018018 ,   1.9019019 ,\n",
       "         2.002002  ,   2.1021021 ,   2.2022022 ,   2.3023023 ,\n",
       "         2.4024024 ,   2.5025025 ,   2.6026026 ,   2.7027027 ,\n",
       "         2.8028028 ,   2.9029...\n",
       "        96.4964965 ,  96.5965966 ,  96.6966967 ,  96.7967968 ,\n",
       "        96.8968969 ,  96.996997  ,  97.0970971 ,  97.1971972 ,\n",
       "        97.2972973 ,  97.3973974 ,  97.4974975 ,  97.5975976 ,\n",
       "        97.6976977 ,  97.7977978 ,  97.8978979 ,  97.997998  ,\n",
       "        98.0980981 ,  98.1981982 ,  98.2982983 ,  98.3983984 ,\n",
       "        98.4984985 ,  98.5985986 ,  98.6986987 ,  98.7987988 ,\n",
       "        98.8988989 ,  98.998999  ,  99.0990991 ,  99.1991992 ,\n",
       "        99.2992993 ,  99.3993994 ,  99.4994995 ,  99.5995996 ,\n",
       "        99.6996997 ,  99.7997998 ,  99.8998999 , 100.        ])})"
      ]
     },
     "execution_count": 11,
     "metadata": {},
     "output_type": "execute_result"
    }
   ],
   "source": [
    "model = Ridge()\n",
    "parameter_space = {'alpha': np.linspace(0, 100, 1000),}\n",
    "\n",
    "grid_search = GridSearchCV(model,\n",
    "                           param_grid=parameter_space,\n",
    "                           cv=5)\n",
    "\n",
    "grid_search.fit(X_train, y_train)"
   ]
  },
  {
   "cell_type": "code",
   "execution_count": 12,
   "metadata": {},
   "outputs": [
    {
     "data": {
      "text/html": [
       "<style>div.sk-top-container {color: black;background-color: white;}div.sk-toggleable {background-color: white;}label.sk-toggleable__label {cursor: pointer;display: block;width: 100%;margin-bottom: 0;padding: 0.2em 0.3em;box-sizing: border-box;text-align: center;}div.sk-toggleable__content {max-height: 0;max-width: 0;overflow: hidden;text-align: left;background-color: #f0f8ff;}div.sk-toggleable__content pre {margin: 0.2em;color: black;border-radius: 0.25em;background-color: #f0f8ff;}input.sk-toggleable__control:checked~div.sk-toggleable__content {max-height: 200px;max-width: 100%;overflow: auto;}div.sk-estimator input.sk-toggleable__control:checked~label.sk-toggleable__label {background-color: #d4ebff;}div.sk-label input.sk-toggleable__control:checked~label.sk-toggleable__label {background-color: #d4ebff;}input.sk-hidden--visually {border: 0;clip: rect(1px 1px 1px 1px);clip: rect(1px, 1px, 1px, 1px);height: 1px;margin: -1px;overflow: hidden;padding: 0;position: absolute;width: 1px;}div.sk-estimator {font-family: monospace;background-color: #f0f8ff;margin: 0.25em 0.25em;border: 1px dotted black;border-radius: 0.25em;box-sizing: border-box;}div.sk-estimator:hover {background-color: #d4ebff;}div.sk-parallel-item::after {content: \"\";width: 100%;border-bottom: 1px solid gray;flex-grow: 1;}div.sk-label:hover label.sk-toggleable__label {background-color: #d4ebff;}div.sk-serial::before {content: \"\";position: absolute;border-left: 1px solid gray;box-sizing: border-box;top: 2em;bottom: 0;left: 50%;}div.sk-serial {display: flex;flex-direction: column;align-items: center;background-color: white;}div.sk-item {z-index: 1;}div.sk-parallel {display: flex;align-items: stretch;justify-content: center;background-color: white;}div.sk-parallel-item {display: flex;flex-direction: column;position: relative;background-color: white;}div.sk-parallel-item:first-child::after {align-self: flex-end;width: 50%;}div.sk-parallel-item:last-child::after {align-self: flex-start;width: 50%;}div.sk-parallel-item:only-child::after {width: 0;}div.sk-dashed-wrapped {border: 1px dashed gray;margin: 0.2em;box-sizing: border-box;padding-bottom: 0.1em;background-color: white;position: relative;}div.sk-label label {font-family: monospace;font-weight: bold;background-color: white;display: inline-block;line-height: 1.2em;}div.sk-label-container {position: relative;z-index: 2;text-align: center;}div.sk-container {display: inline-block;position: relative;}</style><div class=\"sk-top-container\"><div class=\"sk-container\"><div class=\"sk-item\"><div class=\"sk-estimator sk-toggleable\"><input class=\"sk-toggleable__control sk-hidden--visually\" id=\"f78f5d79-0654-450b-9b33-7abc754c49c0\" type=\"checkbox\" checked><label class=\"sk-toggleable__label\" for=\"f78f5d79-0654-450b-9b33-7abc754c49c0\">Ridge</label><div class=\"sk-toggleable__content\"><pre>Ridge(alpha=0.0)</pre></div></div></div></div></div>"
      ],
      "text/plain": [
       "Ridge(alpha=0.0)"
      ]
     },
     "execution_count": 12,
     "metadata": {},
     "output_type": "execute_result"
    }
   ],
   "source": [
    "best_model = grid_search.best_estimator_\n",
    "best_model"
   ]
  },
  {
   "cell_type": "code",
   "execution_count": 13,
   "metadata": {},
   "outputs": [],
   "source": [
    "y_pred = best_model.predict(X_test)"
   ]
  },
  {
   "cell_type": "code",
   "execution_count": 14,
   "metadata": {},
   "outputs": [
    {
     "data": {
      "text/plain": [
       "0.9288609285248162"
      ]
     },
     "execution_count": 14,
     "metadata": {},
     "output_type": "execute_result"
    }
   ],
   "source": [
    "r2_score(y_test, y_pred)"
   ]
  },
  {
   "cell_type": "code",
   "execution_count": 15,
   "metadata": {},
   "outputs": [
    {
     "data": {
      "text/plain": [
       "0.8715311078043417"
      ]
     },
     "execution_count": 15,
     "metadata": {},
     "output_type": "execute_result"
    }
   ],
   "source": [
    "grid_search.best_score_"
   ]
  },
  {
   "cell_type": "markdown",
   "metadata": {},
   "source": [
    "## KNN Neighbors (classification)\n",
    "\n",
    "\n",
    "\n",
    "[See Wikipedia article](https://en.wikipedia.org/wiki/K-nearest_neighbors_algorithm)\n",
    "\n",
    "[See sklearn implementation](https://scikit-learn.org/stable/modules/generated/sklearn.neighbors.KNeighborsClassifier.html?highlight=kneig#sklearn.neighbors.KNeighborsClassifier)"
   ]
  },
  {
   "attachments": {
    "image.png": {
     "image/png": "[encoded data removed]"
    }
   },
   "cell_type": "markdown",
   "metadata": {},
   "source": [
    "![image.png](attachment:image.png)"
   ]
  },
  {
   "cell_type": "code",
   "execution_count": 64,
   "metadata": {},
   "outputs": [],
   "source": [
    "df_cancer = pd.read_csv('../datasets/breast_cancer.csv')"
   ]
  },
  {
   "cell_type": "code",
   "execution_count": 65,
   "metadata": {},
   "outputs": [
    {
     "data": {
      "text/html": [
       "<div>\n",
       "<style scoped>\n",
       "    .dataframe tbody tr th:only-of-type {\n",
       "        vertical-align: middle;\n",
       "    }\n",
       "\n",
       "    .dataframe tbody tr th {\n",
       "        vertical-align: top;\n",
       "    }\n",
       "\n",
       "    .dataframe thead th {\n",
       "        text-align: right;\n",
       "    }\n",
       "</style>\n",
       "<table border=\"1\" class=\"dataframe\">\n",
       "  <thead>\n",
       "    <tr style=\"text-align: right;\">\n",
       "      <th></th>\n",
       "      <th>mean_radius</th>\n",
       "      <th>mean_texture</th>\n",
       "      <th>mean_perimeter</th>\n",
       "      <th>mean_area</th>\n",
       "      <th>mean_smoothness</th>\n",
       "      <th>mean_compactness</th>\n",
       "      <th>mean_concavity</th>\n",
       "      <th>mean_concave_points</th>\n",
       "      <th>mean_symmetry</th>\n",
       "      <th>mean_fractal_dimension</th>\n",
       "      <th>...</th>\n",
       "      <th>worst_texture</th>\n",
       "      <th>worst_perimeter</th>\n",
       "      <th>worst_area</th>\n",
       "      <th>worst_smoothness</th>\n",
       "      <th>worst_compactness</th>\n",
       "      <th>worst_concavity</th>\n",
       "      <th>worst_concave_points</th>\n",
       "      <th>worst_symmetry</th>\n",
       "      <th>worst_fractal_dimension</th>\n",
       "      <th>is_cancer</th>\n",
       "    </tr>\n",
       "  </thead>\n",
       "  <tbody>\n",
       "    <tr>\n",
       "      <th>0</th>\n",
       "      <td>17.99</td>\n",
       "      <td>10.38</td>\n",
       "      <td>122.80</td>\n",
       "      <td>1001.0</td>\n",
       "      <td>0.11840</td>\n",
       "      <td>0.27760</td>\n",
       "      <td>0.30010</td>\n",
       "      <td>0.14710</td>\n",
       "      <td>0.2419</td>\n",
       "      <td>0.07871</td>\n",
       "      <td>...</td>\n",
       "      <td>17.33</td>\n",
       "      <td>184.60</td>\n",
       "      <td>2019.0</td>\n",
       "      <td>0.16220</td>\n",
       "      <td>0.66560</td>\n",
       "      <td>0.7119</td>\n",
       "      <td>0.2654</td>\n",
       "      <td>0.4601</td>\n",
       "      <td>0.11890</td>\n",
       "      <td>1</td>\n",
       "    </tr>\n",
       "    <tr>\n",
       "      <th>1</th>\n",
       "      <td>20.57</td>\n",
       "      <td>17.77</td>\n",
       "      <td>132.90</td>\n",
       "      <td>1326.0</td>\n",
       "      <td>0.08474</td>\n",
       "      <td>0.07864</td>\n",
       "      <td>0.08690</td>\n",
       "      <td>0.07017</td>\n",
       "      <td>0.1812</td>\n",
       "      <td>0.05667</td>\n",
       "      <td>...</td>\n",
       "      <td>23.41</td>\n",
       "      <td>158.80</td>\n",
       "      <td>1956.0</td>\n",
       "      <td>0.12380</td>\n",
       "      <td>0.18660</td>\n",
       "      <td>0.2416</td>\n",
       "      <td>0.1860</td>\n",
       "      <td>0.2750</td>\n",
       "      <td>0.08902</td>\n",
       "      <td>1</td>\n",
       "    </tr>\n",
       "    <tr>\n",
       "      <th>2</th>\n",
       "      <td>19.69</td>\n",
       "      <td>21.25</td>\n",
       "      <td>130.00</td>\n",
       "      <td>1203.0</td>\n",
       "      <td>0.10960</td>\n",
       "      <td>0.15990</td>\n",
       "      <td>0.19740</td>\n",
       "      <td>0.12790</td>\n",
       "      <td>0.2069</td>\n",
       "      <td>0.05999</td>\n",
       "      <td>...</td>\n",
       "      <td>25.53</td>\n",
       "      <td>152.50</td>\n",
       "      <td>1709.0</td>\n",
       "      <td>0.14440</td>\n",
       "      <td>0.42450</td>\n",
       "      <td>0.4504</td>\n",
       "      <td>0.2430</td>\n",
       "      <td>0.3613</td>\n",
       "      <td>0.08758</td>\n",
       "      <td>1</td>\n",
       "    </tr>\n",
       "    <tr>\n",
       "      <th>3</th>\n",
       "      <td>11.42</td>\n",
       "      <td>20.38</td>\n",
       "      <td>77.58</td>\n",
       "      <td>386.1</td>\n",
       "      <td>0.14250</td>\n",
       "      <td>0.28390</td>\n",
       "      <td>0.24140</td>\n",
       "      <td>0.10520</td>\n",
       "      <td>0.2597</td>\n",
       "      <td>0.09744</td>\n",
       "      <td>...</td>\n",
       "      <td>26.50</td>\n",
       "      <td>98.87</td>\n",
       "      <td>567.7</td>\n",
       "      <td>0.20980</td>\n",
       "      <td>0.86630</td>\n",
       "      <td>0.6869</td>\n",
       "      <td>0.2575</td>\n",
       "      <td>0.6638</td>\n",
       "      <td>0.17300</td>\n",
       "      <td>1</td>\n",
       "    </tr>\n",
       "    <tr>\n",
       "      <th>4</th>\n",
       "      <td>20.29</td>\n",
       "      <td>14.34</td>\n",
       "      <td>135.10</td>\n",
       "      <td>1297.0</td>\n",
       "      <td>0.10030</td>\n",
       "      <td>0.13280</td>\n",
       "      <td>0.19800</td>\n",
       "      <td>0.10430</td>\n",
       "      <td>0.1809</td>\n",
       "      <td>0.05883</td>\n",
       "      <td>...</td>\n",
       "      <td>16.67</td>\n",
       "      <td>152.20</td>\n",
       "      <td>1575.0</td>\n",
       "      <td>0.13740</td>\n",
       "      <td>0.20500</td>\n",
       "      <td>0.4000</td>\n",
       "      <td>0.1625</td>\n",
       "      <td>0.2364</td>\n",
       "      <td>0.07678</td>\n",
       "      <td>1</td>\n",
       "    </tr>\n",
       "    <tr>\n",
       "      <th>...</th>\n",
       "      <td>...</td>\n",
       "      <td>...</td>\n",
       "      <td>...</td>\n",
       "      <td>...</td>\n",
       "      <td>...</td>\n",
       "      <td>...</td>\n",
       "      <td>...</td>\n",
       "      <td>...</td>\n",
       "      <td>...</td>\n",
       "      <td>...</td>\n",
       "      <td>...</td>\n",
       "      <td>...</td>\n",
       "      <td>...</td>\n",
       "      <td>...</td>\n",
       "      <td>...</td>\n",
       "      <td>...</td>\n",
       "      <td>...</td>\n",
       "      <td>...</td>\n",
       "      <td>...</td>\n",
       "      <td>...</td>\n",
       "      <td>...</td>\n",
       "    </tr>\n",
       "    <tr>\n",
       "      <th>564</th>\n",
       "      <td>21.56</td>\n",
       "      <td>22.39</td>\n",
       "      <td>142.00</td>\n",
       "      <td>1479.0</td>\n",
       "      <td>0.11100</td>\n",
       "      <td>0.11590</td>\n",
       "      <td>0.24390</td>\n",
       "      <td>0.13890</td>\n",
       "      <td>0.1726</td>\n",
       "      <td>0.05623</td>\n",
       "      <td>...</td>\n",
       "      <td>26.40</td>\n",
       "      <td>166.10</td>\n",
       "      <td>2027.0</td>\n",
       "      <td>0.14100</td>\n",
       "      <td>0.21130</td>\n",
       "      <td>0.4107</td>\n",
       "      <td>0.2216</td>\n",
       "      <td>0.2060</td>\n",
       "      <td>0.07115</td>\n",
       "      <td>1</td>\n",
       "    </tr>\n",
       "    <tr>\n",
       "      <th>565</th>\n",
       "      <td>20.13</td>\n",
       "      <td>28.25</td>\n",
       "      <td>131.20</td>\n",
       "      <td>1261.0</td>\n",
       "      <td>0.09780</td>\n",
       "      <td>0.10340</td>\n",
       "      <td>0.14400</td>\n",
       "      <td>0.09791</td>\n",
       "      <td>0.1752</td>\n",
       "      <td>0.05533</td>\n",
       "      <td>...</td>\n",
       "      <td>38.25</td>\n",
       "      <td>155.00</td>\n",
       "      <td>1731.0</td>\n",
       "      <td>0.11660</td>\n",
       "      <td>0.19220</td>\n",
       "      <td>0.3215</td>\n",
       "      <td>0.1628</td>\n",
       "      <td>0.2572</td>\n",
       "      <td>0.06637</td>\n",
       "      <td>1</td>\n",
       "    </tr>\n",
       "    <tr>\n",
       "      <th>566</th>\n",
       "      <td>16.60</td>\n",
       "      <td>28.08</td>\n",
       "      <td>108.30</td>\n",
       "      <td>858.1</td>\n",
       "      <td>0.08455</td>\n",
       "      <td>0.10230</td>\n",
       "      <td>0.09251</td>\n",
       "      <td>0.05302</td>\n",
       "      <td>0.1590</td>\n",
       "      <td>0.05648</td>\n",
       "      <td>...</td>\n",
       "      <td>34.12</td>\n",
       "      <td>126.70</td>\n",
       "      <td>1124.0</td>\n",
       "      <td>0.11390</td>\n",
       "      <td>0.30940</td>\n",
       "      <td>0.3403</td>\n",
       "      <td>0.1418</td>\n",
       "      <td>0.2218</td>\n",
       "      <td>0.07820</td>\n",
       "      <td>1</td>\n",
       "    </tr>\n",
       "    <tr>\n",
       "      <th>567</th>\n",
       "      <td>20.60</td>\n",
       "      <td>29.33</td>\n",
       "      <td>140.10</td>\n",
       "      <td>1265.0</td>\n",
       "      <td>0.11780</td>\n",
       "      <td>0.27700</td>\n",
       "      <td>0.35140</td>\n",
       "      <td>0.15200</td>\n",
       "      <td>0.2397</td>\n",
       "      <td>0.07016</td>\n",
       "      <td>...</td>\n",
       "      <td>39.42</td>\n",
       "      <td>184.60</td>\n",
       "      <td>1821.0</td>\n",
       "      <td>0.16500</td>\n",
       "      <td>0.86810</td>\n",
       "      <td>0.9387</td>\n",
       "      <td>0.2650</td>\n",
       "      <td>0.4087</td>\n",
       "      <td>0.12400</td>\n",
       "      <td>1</td>\n",
       "    </tr>\n",
       "    <tr>\n",
       "      <th>568</th>\n",
       "      <td>7.76</td>\n",
       "      <td>24.54</td>\n",
       "      <td>47.92</td>\n",
       "      <td>181.0</td>\n",
       "      <td>0.05263</td>\n",
       "      <td>0.04362</td>\n",
       "      <td>0.00000</td>\n",
       "      <td>0.00000</td>\n",
       "      <td>0.1587</td>\n",
       "      <td>0.05884</td>\n",
       "      <td>...</td>\n",
       "      <td>30.37</td>\n",
       "      <td>59.16</td>\n",
       "      <td>268.6</td>\n",
       "      <td>0.08996</td>\n",
       "      <td>0.06444</td>\n",
       "      <td>0.0000</td>\n",
       "      <td>0.0000</td>\n",
       "      <td>0.2871</td>\n",
       "      <td>0.07039</td>\n",
       "      <td>0</td>\n",
       "    </tr>\n",
       "  </tbody>\n",
       "</table>\n",
       "<p>569 rows × 31 columns</p>\n",
       "</div>"
      ],
      "text/plain": [
       "     mean_radius  mean_texture  mean_perimeter  mean_area  mean_smoothness  \\\n",
       "0          17.99         10.38          122.80     1001.0          0.11840   \n",
       "1          20.57         17.77          132.90     1326.0          0.08474   \n",
       "2          19.69         21.25          130.00     1203.0          0.10960   \n",
       "3          11.42         20.38           77.58      386.1          0.14250   \n",
       "4          20.29         14.34          135.10     1297.0          0.10030   \n",
       "..           ...           ...             ...        ...              ...   \n",
       "564        21.56         22.39          142.00     1479.0          0.11100   \n",
       "565        20.13         28.25          131.20     1261.0          0.09780   \n",
       "566        16.60         28.08          108.30      858.1          0.08455   \n",
       "567        20.60         29.33          140.10     1265.0          0.11780   \n",
       "568         7.76         24.54           47.92      181.0          0.05263   \n",
       "\n",
       "     mean_compactness  mean_concavity  mean_concave_points  mean_symmetry  \\\n",
       "0             0.27760         0.30010              0.14710         0.2419   \n",
       "1             0.07864         0.08690              0.07017         0.1812   \n",
       "2             0.15990         0.19740              0.12790         0.2069   \n",
       "3             0.28390         0.24140              0.10520         0.2597   \n",
       "4             0.13280         0.19800              0.10430         0.1809   \n",
       "..                ...             ...                  ...            ...   \n",
       "564           0.11590         0.24390              0.13890         0.1726   \n",
       "565           0.10340         0.14400              0.09791         0.1752   \n",
       "566           0.10230         0.09251              0.05302         0.1590   \n",
       "567           0.27700         0.35140              0.15200         0.2397   \n",
       "568           0.04362         0.00000              0.00000         0.1587   \n",
       "\n",
       "     mean_fractal_dimension  ...  worst_texture  worst_perimeter  worst_area  \\\n",
       "0                   0.07871  ...          17.33           184.60      2019.0   \n",
       "1                   0.05667  ...          23.41           158.80      1956.0   \n",
       "2                   0.05999  ...          25.53           152.50      1709.0   \n",
       "3                   0.09744  ...          26.50            98.87       567.7   \n",
       "4                   0.05883  ...          16.67           152.20      1575.0   \n",
       "..                      ...  ...            ...              ...         ...   \n",
       "564                 0.05623  ...          26.40           166.10      2027.0   \n",
       "565                 0.05533  ...          38.25           155.00      1731.0   \n",
       "566                 0.05648  ...          34.12           126.70      1124.0   \n",
       "567                 0.07016  ...          39.42           184.60      1821.0   \n",
       "568                 0.05884  ...          30.37            59.16       268.6   \n",
       "\n",
       "     worst_smoothness  worst_compactness  worst_concavity  \\\n",
       "0             0.16220            0.66560           0.7119   \n",
       "1             0.12380            0.18660           0.2416   \n",
       "2             0.14440            0.42450           0.4504   \n",
       "3             0.20980            0.86630           0.6869   \n",
       "4             0.13740            0.20500           0.4000   \n",
       "..                ...                ...              ...   \n",
       "564           0.14100            0.21130           0.4107   \n",
       "565           0.11660            0.19220           0.3215   \n",
       "566           0.11390            0.30940           0.3403   \n",
       "567           0.16500            0.86810           0.9387   \n",
       "568           0.08996            0.06444           0.0000   \n",
       "\n",
       "     worst_concave_points  worst_symmetry  worst_fractal_dimension  is_cancer  \n",
       "0                  0.2654          0.4601                  0.11890          1  \n",
       "1                  0.1860          0.2750                  0.08902          1  \n",
       "2                  0.2430          0.3613                  0.08758          1  \n",
       "3                  0.2575          0.6638                  0.17300          1  \n",
       "4                  0.1625          0.2364                  0.07678          1  \n",
       "..                    ...             ...                      ...        ...  \n",
       "564                0.2216          0.2060                  0.07115          1  \n",
       "565                0.1628          0.2572                  0.06637          1  \n",
       "566                0.1418          0.2218                  0.07820          1  \n",
       "567                0.2650          0.4087                  0.12400          1  \n",
       "568                0.0000          0.2871                  0.07039          0  \n",
       "\n",
       "[569 rows x 31 columns]"
      ]
     },
     "execution_count": 65,
     "metadata": {},
     "output_type": "execute_result"
    }
   ],
   "source": [
    "df_cancer"
   ]
  },
  {
   "cell_type": "code",
   "execution_count": 28,
   "metadata": {},
   "outputs": [],
   "source": [
    "# accuracy (logistic: 0.88)\n",
    "\n",
    "# Split target and predictors\n",
    "X = df_cancer.drop('is_cancer', axis=1)\n",
    "y = df_cancer['is_cancer']\n",
    "\n",
    "\n",
    "# split data in train/ test/ \n",
    "X_train, X_test, y_train, y_test = train_test_split(X, \n",
    "                                                    y, \n",
    "                                                    test_size=0.20, \n",
    "                                                    random_state=123)"
   ]
  },
  {
   "cell_type": "code",
   "execution_count": 29,
   "metadata": {},
   "outputs": [],
   "source": [
    "n_neighbors = np.arange(1,10)"
   ]
  },
  {
   "cell_type": "code",
   "execution_count": 30,
   "metadata": {},
   "outputs": [
    {
     "data": {
      "text/html": [
       "<style>div.sk-top-container {color: black;background-color: white;}div.sk-toggleable {background-color: white;}label.sk-toggleable__label {cursor: pointer;display: block;width: 100%;margin-bottom: 0;padding: 0.2em 0.3em;box-sizing: border-box;text-align: center;}div.sk-toggleable__content {max-height: 0;max-width: 0;overflow: hidden;text-align: left;background-color: #f0f8ff;}div.sk-toggleable__content pre {margin: 0.2em;color: black;border-radius: 0.25em;background-color: #f0f8ff;}input.sk-toggleable__control:checked~div.sk-toggleable__content {max-height: 200px;max-width: 100%;overflow: auto;}div.sk-estimator input.sk-toggleable__control:checked~label.sk-toggleable__label {background-color: #d4ebff;}div.sk-label input.sk-toggleable__control:checked~label.sk-toggleable__label {background-color: #d4ebff;}input.sk-hidden--visually {border: 0;clip: rect(1px 1px 1px 1px);clip: rect(1px, 1px, 1px, 1px);height: 1px;margin: -1px;overflow: hidden;padding: 0;position: absolute;width: 1px;}div.sk-estimator {font-family: monospace;background-color: #f0f8ff;margin: 0.25em 0.25em;border: 1px dotted black;border-radius: 0.25em;box-sizing: border-box;}div.sk-estimator:hover {background-color: #d4ebff;}div.sk-parallel-item::after {content: \"\";width: 100%;border-bottom: 1px solid gray;flex-grow: 1;}div.sk-label:hover label.sk-toggleable__label {background-color: #d4ebff;}div.sk-serial::before {content: \"\";position: absolute;border-left: 1px solid gray;box-sizing: border-box;top: 2em;bottom: 0;left: 50%;}div.sk-serial {display: flex;flex-direction: column;align-items: center;background-color: white;}div.sk-item {z-index: 1;}div.sk-parallel {display: flex;align-items: stretch;justify-content: center;background-color: white;}div.sk-parallel-item {display: flex;flex-direction: column;position: relative;background-color: white;}div.sk-parallel-item:first-child::after {align-self: flex-end;width: 50%;}div.sk-parallel-item:last-child::after {align-self: flex-start;width: 50%;}div.sk-parallel-item:only-child::after {width: 0;}div.sk-dashed-wrapped {border: 1px dashed gray;margin: 0.2em;box-sizing: border-box;padding-bottom: 0.1em;background-color: white;position: relative;}div.sk-label label {font-family: monospace;font-weight: bold;background-color: white;display: inline-block;line-height: 1.2em;}div.sk-label-container {position: relative;z-index: 2;text-align: center;}div.sk-container {display: inline-block;position: relative;}</style><div class=\"sk-top-container\"><div class=\"sk-container\"><div class=\"sk-item sk-dashed-wrapped\"><div class=\"sk-label-container\"><div class=\"sk-label sk-toggleable\"><input class=\"sk-toggleable__control sk-hidden--visually\" id=\"26a53243-db46-4bb2-8857-9e9d23c3b2ba\" type=\"checkbox\" ><label class=\"sk-toggleable__label\" for=\"26a53243-db46-4bb2-8857-9e9d23c3b2ba\">GridSearchCV</label><div class=\"sk-toggleable__content\"><pre>GridSearchCV(cv=5, estimator=KNeighborsClassifier(),\n",
       "             param_grid={'n_neighbors': array([1, 2, 3, 4, 5, 6, 7, 8, 9])})</pre></div></div></div><div class=\"sk-parallel\"><div class=\"sk-parallel-item\"><div class=\"sk-item\"><div class=\"sk-serial\"><div class=\"sk-item\"><div class=\"sk-estimator sk-toggleable\"><input class=\"sk-toggleable__control sk-hidden--visually\" id=\"eb5804ac-e14f-4b26-8ffc-ef17edfc5400\" type=\"checkbox\" ><label class=\"sk-toggleable__label\" for=\"eb5804ac-e14f-4b26-8ffc-ef17edfc5400\">KNeighborsClassifier</label><div class=\"sk-toggleable__content\"><pre>KNeighborsClassifier()</pre></div></div></div></div></div></div></div></div></div></div>"
      ],
      "text/plain": [
       "GridSearchCV(cv=5, estimator=KNeighborsClassifier(),\n",
       "             param_grid={'n_neighbors': array([1, 2, 3, 4, 5, 6, 7, 8, 9])})"
      ]
     },
     "execution_count": 30,
     "metadata": {},
     "output_type": "execute_result"
    }
   ],
   "source": [
    "# [self-guided] Apply a KNN neighborhs classifier with a GridSearchCV\n",
    "model = KNeighborsClassifier()\n",
    "parameter_space = {'n_neighbors': n_neighbors,\n",
    "                   }\n",
    "\n",
    "grid_search = GridSearchCV(model,\n",
    "                           param_grid=parameter_space,\n",
    "                           cv=5)\n",
    "\n",
    "grid_search.fit(X_train, y_train)\n",
    "# How does this result compares to the one using LogisticRegression?"
   ]
  },
  {
   "cell_type": "code",
   "execution_count": 31,
   "metadata": {},
   "outputs": [
    {
     "data": {
      "text/plain": [
       "0.9274725274725275"
      ]
     },
     "execution_count": 31,
     "metadata": {},
     "output_type": "execute_result"
    }
   ],
   "source": [
    "grid_search.best_score_"
   ]
  },
  {
   "cell_type": "code",
   "execution_count": 33,
   "metadata": {},
   "outputs": [],
   "source": [
    "best_knn = grid_search.best_estimator_"
   ]
  },
  {
   "cell_type": "code",
   "execution_count": 35,
   "metadata": {},
   "outputs": [
    {
     "data": {
      "text/plain": [
       "0.9473684210526315"
      ]
     },
     "execution_count": 35,
     "metadata": {},
     "output_type": "execute_result"
    }
   ],
   "source": [
    "best_knn.score(X_test, y_test)"
   ]
  },
  {
   "cell_type": "markdown",
   "metadata": {},
   "source": [
    "## Standarization of variables\n",
    "\n",
    "Needed with parameter shrinkage (Lasso and Ridge) and whenever we are using metric distances (such as KNN)"
   ]
  },
  {
   "cell_type": "code",
   "execution_count": 38,
   "metadata": {},
   "outputs": [
    {
     "data": {
      "text/html": [
       "<div>\n",
       "<style scoped>\n",
       "    .dataframe tbody tr th:only-of-type {\n",
       "        vertical-align: middle;\n",
       "    }\n",
       "\n",
       "    .dataframe tbody tr th {\n",
       "        vertical-align: top;\n",
       "    }\n",
       "\n",
       "    .dataframe thead th {\n",
       "        text-align: right;\n",
       "    }\n",
       "</style>\n",
       "<table border=\"1\" class=\"dataframe\">\n",
       "  <thead>\n",
       "    <tr style=\"text-align: right;\">\n",
       "      <th></th>\n",
       "      <th>mean_radius</th>\n",
       "      <th>mean_texture</th>\n",
       "      <th>mean_perimeter</th>\n",
       "      <th>mean_area</th>\n",
       "      <th>mean_smoothness</th>\n",
       "      <th>mean_compactness</th>\n",
       "      <th>mean_concavity</th>\n",
       "      <th>mean_concave_points</th>\n",
       "      <th>mean_symmetry</th>\n",
       "      <th>mean_fractal_dimension</th>\n",
       "      <th>...</th>\n",
       "      <th>worst_radius</th>\n",
       "      <th>worst_texture</th>\n",
       "      <th>worst_perimeter</th>\n",
       "      <th>worst_area</th>\n",
       "      <th>worst_smoothness</th>\n",
       "      <th>worst_compactness</th>\n",
       "      <th>worst_concavity</th>\n",
       "      <th>worst_concave_points</th>\n",
       "      <th>worst_symmetry</th>\n",
       "      <th>worst_fractal_dimension</th>\n",
       "    </tr>\n",
       "  </thead>\n",
       "  <tbody>\n",
       "    <tr>\n",
       "      <th>count</th>\n",
       "      <td>455.000000</td>\n",
       "      <td>455.000000</td>\n",
       "      <td>455.000000</td>\n",
       "      <td>455.000000</td>\n",
       "      <td>455.000000</td>\n",
       "      <td>455.000000</td>\n",
       "      <td>455.000000</td>\n",
       "      <td>455.000000</td>\n",
       "      <td>455.000000</td>\n",
       "      <td>455.000000</td>\n",
       "      <td>...</td>\n",
       "      <td>455.000000</td>\n",
       "      <td>455.000000</td>\n",
       "      <td>455.000000</td>\n",
       "      <td>455.000000</td>\n",
       "      <td>455.000000</td>\n",
       "      <td>455.000000</td>\n",
       "      <td>455.000000</td>\n",
       "      <td>455.000000</td>\n",
       "      <td>455.000000</td>\n",
       "      <td>455.000000</td>\n",
       "    </tr>\n",
       "    <tr>\n",
       "      <th>mean</th>\n",
       "      <td>14.188086</td>\n",
       "      <td>19.392000</td>\n",
       "      <td>92.402769</td>\n",
       "      <td>659.778462</td>\n",
       "      <td>0.096688</td>\n",
       "      <td>0.106124</td>\n",
       "      <td>0.090644</td>\n",
       "      <td>0.050018</td>\n",
       "      <td>0.181922</td>\n",
       "      <td>0.062987</td>\n",
       "      <td>...</td>\n",
       "      <td>16.349314</td>\n",
       "      <td>25.734901</td>\n",
       "      <td>107.830308</td>\n",
       "      <td>888.612967</td>\n",
       "      <td>0.132350</td>\n",
       "      <td>0.255226</td>\n",
       "      <td>0.274146</td>\n",
       "      <td>0.116275</td>\n",
       "      <td>0.290182</td>\n",
       "      <td>0.083903</td>\n",
       "    </tr>\n",
       "    <tr>\n",
       "      <th>std</th>\n",
       "      <td>3.519728</td>\n",
       "      <td>4.455268</td>\n",
       "      <td>24.220321</td>\n",
       "      <td>347.214043</td>\n",
       "      <td>0.014141</td>\n",
       "      <td>0.053248</td>\n",
       "      <td>0.079951</td>\n",
       "      <td>0.038939</td>\n",
       "      <td>0.028487</td>\n",
       "      <td>0.007329</td>\n",
       "      <td>...</td>\n",
       "      <td>4.868860</td>\n",
       "      <td>6.325063</td>\n",
       "      <td>33.795670</td>\n",
       "      <td>573.630619</td>\n",
       "      <td>0.023061</td>\n",
       "      <td>0.153465</td>\n",
       "      <td>0.206880</td>\n",
       "      <td>0.066025</td>\n",
       "      <td>0.062815</td>\n",
       "      <td>0.017372</td>\n",
       "    </tr>\n",
       "    <tr>\n",
       "      <th>min</th>\n",
       "      <td>6.981000</td>\n",
       "      <td>10.380000</td>\n",
       "      <td>43.790000</td>\n",
       "      <td>143.500000</td>\n",
       "      <td>0.052630</td>\n",
       "      <td>0.026500</td>\n",
       "      <td>0.000000</td>\n",
       "      <td>0.000000</td>\n",
       "      <td>0.106000</td>\n",
       "      <td>0.049960</td>\n",
       "      <td>...</td>\n",
       "      <td>7.930000</td>\n",
       "      <td>12.490000</td>\n",
       "      <td>50.410000</td>\n",
       "      <td>185.200000</td>\n",
       "      <td>0.084090</td>\n",
       "      <td>0.043270</td>\n",
       "      <td>0.000000</td>\n",
       "      <td>0.000000</td>\n",
       "      <td>0.156500</td>\n",
       "      <td>0.055040</td>\n",
       "    </tr>\n",
       "    <tr>\n",
       "      <th>25%</th>\n",
       "      <td>11.650000</td>\n",
       "      <td>16.050000</td>\n",
       "      <td>74.720000</td>\n",
       "      <td>415.650000</td>\n",
       "      <td>0.086650</td>\n",
       "      <td>0.066735</td>\n",
       "      <td>0.030410</td>\n",
       "      <td>0.020940</td>\n",
       "      <td>0.161950</td>\n",
       "      <td>0.057685</td>\n",
       "      <td>...</td>\n",
       "      <td>12.980000</td>\n",
       "      <td>21.070000</td>\n",
       "      <td>84.035000</td>\n",
       "      <td>513.500000</td>\n",
       "      <td>0.116700</td>\n",
       "      <td>0.148600</td>\n",
       "      <td>0.118350</td>\n",
       "      <td>0.065280</td>\n",
       "      <td>0.249400</td>\n",
       "      <td>0.071180</td>\n",
       "    </tr>\n",
       "    <tr>\n",
       "      <th>50%</th>\n",
       "      <td>13.490000</td>\n",
       "      <td>18.950000</td>\n",
       "      <td>87.210000</td>\n",
       "      <td>561.000000</td>\n",
       "      <td>0.096460</td>\n",
       "      <td>0.095090</td>\n",
       "      <td>0.064760</td>\n",
       "      <td>0.034000</td>\n",
       "      <td>0.179300</td>\n",
       "      <td>0.061680</td>\n",
       "      <td>...</td>\n",
       "      <td>15.050000</td>\n",
       "      <td>25.270000</td>\n",
       "      <td>98.840000</td>\n",
       "      <td>698.800000</td>\n",
       "      <td>0.131100</td>\n",
       "      <td>0.217000</td>\n",
       "      <td>0.228200</td>\n",
       "      <td>0.100100</td>\n",
       "      <td>0.282300</td>\n",
       "      <td>0.080090</td>\n",
       "    </tr>\n",
       "    <tr>\n",
       "      <th>75%</th>\n",
       "      <td>16.135000</td>\n",
       "      <td>21.925000</td>\n",
       "      <td>106.450000</td>\n",
       "      <td>801.550000</td>\n",
       "      <td>0.105400</td>\n",
       "      <td>0.130950</td>\n",
       "      <td>0.134000</td>\n",
       "      <td>0.074950</td>\n",
       "      <td>0.196300</td>\n",
       "      <td>0.066395</td>\n",
       "      <td>...</td>\n",
       "      <td>19.125000</td>\n",
       "      <td>30.200000</td>\n",
       "      <td>127.000000</td>\n",
       "      <td>1111.500000</td>\n",
       "      <td>0.146450</td>\n",
       "      <td>0.338100</td>\n",
       "      <td>0.387200</td>\n",
       "      <td>0.162650</td>\n",
       "      <td>0.316550</td>\n",
       "      <td>0.092120</td>\n",
       "    </tr>\n",
       "    <tr>\n",
       "      <th>max</th>\n",
       "      <td>27.420000</td>\n",
       "      <td>39.280000</td>\n",
       "      <td>186.900000</td>\n",
       "      <td>2501.000000</td>\n",
       "      <td>0.163400</td>\n",
       "      <td>0.345400</td>\n",
       "      <td>0.426800</td>\n",
       "      <td>0.201200</td>\n",
       "      <td>0.304000</td>\n",
       "      <td>0.097440</td>\n",
       "      <td>...</td>\n",
       "      <td>36.040000</td>\n",
       "      <td>49.540000</td>\n",
       "      <td>251.200000</td>\n",
       "      <td>4254.000000</td>\n",
       "      <td>0.222600</td>\n",
       "      <td>0.937900</td>\n",
       "      <td>1.252000</td>\n",
       "      <td>0.291000</td>\n",
       "      <td>0.663800</td>\n",
       "      <td>0.173000</td>\n",
       "    </tr>\n",
       "  </tbody>\n",
       "</table>\n",
       "<p>8 rows × 30 columns</p>\n",
       "</div>"
      ],
      "text/plain": [
       "       mean_radius  mean_texture  mean_perimeter    mean_area  \\\n",
       "count   455.000000    455.000000      455.000000   455.000000   \n",
       "mean     14.188086     19.392000       92.402769   659.778462   \n",
       "std       3.519728      4.455268       24.220321   347.214043   \n",
       "min       6.981000     10.380000       43.790000   143.500000   \n",
       "25%      11.650000     16.050000       74.720000   415.650000   \n",
       "50%      13.490000     18.950000       87.210000   561.000000   \n",
       "75%      16.135000     21.925000      106.450000   801.550000   \n",
       "max      27.420000     39.280000      186.900000  2501.000000   \n",
       "\n",
       "       mean_smoothness  mean_compactness  mean_concavity  mean_concave_points  \\\n",
       "count       455.000000        455.000000      455.000000           455.000000   \n",
       "mean          0.096688          0.106124        0.090644             0.050018   \n",
       "std           0.014141          0.053248        0.079951             0.038939   \n",
       "min           0.052630          0.026500        0.000000             0.000000   \n",
       "25%           0.086650          0.066735        0.030410             0.020940   \n",
       "50%           0.096460          0.095090        0.064760             0.034000   \n",
       "75%           0.105400          0.130950        0.134000             0.074950   \n",
       "max           0.163400          0.345400        0.426800             0.201200   \n",
       "\n",
       "       mean_symmetry  mean_fractal_dimension  ...  worst_radius  \\\n",
       "count     455.000000              455.000000  ...    455.000000   \n",
       "mean        0.181922                0.062987  ...     16.349314   \n",
       "std         0.028487                0.007329  ...      4.868860   \n",
       "min         0.106000                0.049960  ...      7.930000   \n",
       "25%         0.161950                0.057685  ...     12.980000   \n",
       "50%         0.179300                0.061680  ...     15.050000   \n",
       "75%         0.196300                0.066395  ...     19.125000   \n",
       "max         0.304000                0.097440  ...     36.040000   \n",
       "\n",
       "       worst_texture  worst_perimeter   worst_area  worst_smoothness  \\\n",
       "count     455.000000       455.000000   455.000000        455.000000   \n",
       "mean       25.734901       107.830308   888.612967          0.132350   \n",
       "std         6.325063        33.795670   573.630619          0.023061   \n",
       "min        12.490000        50.410000   185.200000          0.084090   \n",
       "25%        21.070000        84.035000   513.500000          0.116700   \n",
       "50%        25.270000        98.840000   698.800000          0.131100   \n",
       "75%        30.200000       127.000000  1111.500000          0.146450   \n",
       "max        49.540000       251.200000  4254.000000          0.222600   \n",
       "\n",
       "       worst_compactness  worst_concavity  worst_concave_points  \\\n",
       "count         455.000000       455.000000            455.000000   \n",
       "mean            0.255226         0.274146              0.116275   \n",
       "std             0.153465         0.206880              0.066025   \n",
       "min             0.043270         0.000000              0.000000   \n",
       "25%             0.148600         0.118350              0.065280   \n",
       "50%             0.217000         0.228200              0.100100   \n",
       "75%             0.338100         0.387200              0.162650   \n",
       "max             0.937900         1.252000              0.291000   \n",
       "\n",
       "       worst_symmetry  worst_fractal_dimension  \n",
       "count      455.000000               455.000000  \n",
       "mean         0.290182                 0.083903  \n",
       "std          0.062815                 0.017372  \n",
       "min          0.156500                 0.055040  \n",
       "25%          0.249400                 0.071180  \n",
       "50%          0.282300                 0.080090  \n",
       "75%          0.316550                 0.092120  \n",
       "max          0.663800                 0.173000  \n",
       "\n",
       "[8 rows x 30 columns]"
      ]
     },
     "execution_count": 38,
     "metadata": {},
     "output_type": "execute_result"
    }
   ],
   "source": [
    "X_train.describe()"
   ]
  },
  {
   "cell_type": "code",
   "execution_count": 39,
   "metadata": {},
   "outputs": [],
   "source": [
    "scaler = StandardScaler()\n",
    "X_train = scaler.fit_transform(X_train)"
   ]
  },
  {
   "cell_type": "code",
   "execution_count": 43,
   "metadata": {},
   "outputs": [
    {
     "data": {
      "text/html": [
       "<div>\n",
       "<style scoped>\n",
       "    .dataframe tbody tr th:only-of-type {\n",
       "        vertical-align: middle;\n",
       "    }\n",
       "\n",
       "    .dataframe tbody tr th {\n",
       "        vertical-align: top;\n",
       "    }\n",
       "\n",
       "    .dataframe thead th {\n",
       "        text-align: right;\n",
       "    }\n",
       "</style>\n",
       "<table border=\"1\" class=\"dataframe\">\n",
       "  <thead>\n",
       "    <tr style=\"text-align: right;\">\n",
       "      <th></th>\n",
       "      <th>mean_radius</th>\n",
       "      <th>mean_texture</th>\n",
       "      <th>mean_perimeter</th>\n",
       "      <th>mean_area</th>\n",
       "      <th>mean_smoothness</th>\n",
       "      <th>mean_compactness</th>\n",
       "      <th>mean_concavity</th>\n",
       "      <th>mean_concave_points</th>\n",
       "      <th>mean_symmetry</th>\n",
       "      <th>mean_fractal_dimension</th>\n",
       "      <th>...</th>\n",
       "      <th>worst_radius</th>\n",
       "      <th>worst_texture</th>\n",
       "      <th>worst_perimeter</th>\n",
       "      <th>worst_area</th>\n",
       "      <th>worst_smoothness</th>\n",
       "      <th>worst_compactness</th>\n",
       "      <th>worst_concavity</th>\n",
       "      <th>worst_concave_points</th>\n",
       "      <th>worst_symmetry</th>\n",
       "      <th>worst_fractal_dimension</th>\n",
       "    </tr>\n",
       "  </thead>\n",
       "  <tbody>\n",
       "    <tr>\n",
       "      <th>count</th>\n",
       "      <td>4.550000e+02</td>\n",
       "      <td>4.550000e+02</td>\n",
       "      <td>4.550000e+02</td>\n",
       "      <td>4.550000e+02</td>\n",
       "      <td>4.550000e+02</td>\n",
       "      <td>4.550000e+02</td>\n",
       "      <td>4.550000e+02</td>\n",
       "      <td>4.550000e+02</td>\n",
       "      <td>4.550000e+02</td>\n",
       "      <td>4.550000e+02</td>\n",
       "      <td>...</td>\n",
       "      <td>4.550000e+02</td>\n",
       "      <td>4.550000e+02</td>\n",
       "      <td>4.550000e+02</td>\n",
       "      <td>4.550000e+02</td>\n",
       "      <td>4.550000e+02</td>\n",
       "      <td>4.550000e+02</td>\n",
       "      <td>4.550000e+02</td>\n",
       "      <td>4.550000e+02</td>\n",
       "      <td>4.550000e+02</td>\n",
       "      <td>4.550000e+02</td>\n",
       "    </tr>\n",
       "    <tr>\n",
       "      <th>mean</th>\n",
       "      <td>5.075305e-17</td>\n",
       "      <td>-6.963904e-16</td>\n",
       "      <td>3.084224e-16</td>\n",
       "      <td>2.830459e-16</td>\n",
       "      <td>1.483551e-16</td>\n",
       "      <td>-3.513673e-17</td>\n",
       "      <td>6.441734e-17</td>\n",
       "      <td>-6.051325e-17</td>\n",
       "      <td>5.075305e-16</td>\n",
       "      <td>-5.270509e-17</td>\n",
       "      <td>...</td>\n",
       "      <td>3.904081e-18</td>\n",
       "      <td>1.683635e-16</td>\n",
       "      <td>-1.913000e-16</td>\n",
       "      <td>-1.171224e-17</td>\n",
       "      <td>1.795877e-16</td>\n",
       "      <td>1.171224e-17</td>\n",
       "      <td>-1.424990e-16</td>\n",
       "      <td>6.441734e-17</td>\n",
       "      <td>3.084224e-16</td>\n",
       "      <td>-2.147245e-16</td>\n",
       "    </tr>\n",
       "    <tr>\n",
       "      <th>std</th>\n",
       "      <td>1.001101e+00</td>\n",
       "      <td>1.001101e+00</td>\n",
       "      <td>1.001101e+00</td>\n",
       "      <td>1.001101e+00</td>\n",
       "      <td>1.001101e+00</td>\n",
       "      <td>1.001101e+00</td>\n",
       "      <td>1.001101e+00</td>\n",
       "      <td>1.001101e+00</td>\n",
       "      <td>1.001101e+00</td>\n",
       "      <td>1.001101e+00</td>\n",
       "      <td>...</td>\n",
       "      <td>1.001101e+00</td>\n",
       "      <td>1.001101e+00</td>\n",
       "      <td>1.001101e+00</td>\n",
       "      <td>1.001101e+00</td>\n",
       "      <td>1.001101e+00</td>\n",
       "      <td>1.001101e+00</td>\n",
       "      <td>1.001101e+00</td>\n",
       "      <td>1.001101e+00</td>\n",
       "      <td>1.001101e+00</td>\n",
       "      <td>1.001101e+00</td>\n",
       "    </tr>\n",
       "    <tr>\n",
       "      <th>min</th>\n",
       "      <td>-2.049880e+00</td>\n",
       "      <td>-2.025000e+00</td>\n",
       "      <td>-2.009316e+00</td>\n",
       "      <td>-1.488554e+00</td>\n",
       "      <td>-3.119031e+00</td>\n",
       "      <td>-1.497005e+00</td>\n",
       "      <td>-1.134988e+00</td>\n",
       "      <td>-1.285946e+00</td>\n",
       "      <td>-2.668076e+00</td>\n",
       "      <td>-1.779435e+00</td>\n",
       "      <td>...</td>\n",
       "      <td>-1.731120e+00</td>\n",
       "      <td>-2.096340e+00</td>\n",
       "      <td>-1.700913e+00</td>\n",
       "      <td>-1.227597e+00</td>\n",
       "      <td>-2.095018e+00</td>\n",
       "      <td>-1.382656e+00</td>\n",
       "      <td>-1.326603e+00</td>\n",
       "      <td>-1.763005e+00</td>\n",
       "      <td>-2.130541e+00</td>\n",
       "      <td>-1.663355e+00</td>\n",
       "    </tr>\n",
       "    <tr>\n",
       "      <th>25%</th>\n",
       "      <td>-7.218965e-01</td>\n",
       "      <td>-7.509489e-01</td>\n",
       "      <td>-7.308835e-01</td>\n",
       "      <td>-7.038805e-01</td>\n",
       "      <td>-7.106540e-01</td>\n",
       "      <td>-7.405516e-01</td>\n",
       "      <td>-7.542132e-01</td>\n",
       "      <td>-7.475845e-01</td>\n",
       "      <td>-7.018677e-01</td>\n",
       "      <td>-7.242377e-01</td>\n",
       "      <td>...</td>\n",
       "      <td>-6.927747e-01</td>\n",
       "      <td>-7.383382e-01</td>\n",
       "      <td>-7.048684e-01</td>\n",
       "      <td>-6.546475e-01</td>\n",
       "      <td>-6.793830e-01</td>\n",
       "      <td>-6.955558e-01</td>\n",
       "      <td>-7.539024e-01</td>\n",
       "      <td>-7.732045e-01</td>\n",
       "      <td>-6.499603e-01</td>\n",
       "      <td>-7.332266e-01</td>\n",
       "    </tr>\n",
       "    <tr>\n",
       "      <th>50%</th>\n",
       "      <td>-1.985534e-01</td>\n",
       "      <td>-9.931760e-02</td>\n",
       "      <td>-2.146332e-01</td>\n",
       "      <td>-2.848018e-01</td>\n",
       "      <td>-1.617503e-02</td>\n",
       "      <td>-2.074523e-01</td>\n",
       "      <td>-3.241046e-01</td>\n",
       "      <td>-4.118152e-01</td>\n",
       "      <td>-9.214990e-02</td>\n",
       "      <td>-1.785403e-01</td>\n",
       "      <td>...</td>\n",
       "      <td>-2.671559e-01</td>\n",
       "      <td>-7.358232e-02</td>\n",
       "      <td>-2.663123e-01</td>\n",
       "      <td>-3.312618e-01</td>\n",
       "      <td>-5.426382e-02</td>\n",
       "      <td>-2.493611e-01</td>\n",
       "      <td>-2.223335e-01</td>\n",
       "      <td>-2.452501e-01</td>\n",
       "      <td>-1.256214e-01</td>\n",
       "      <td>-2.197543e-01</td>\n",
       "    </tr>\n",
       "    <tr>\n",
       "      <th>75%</th>\n",
       "      <td>5.537523e-01</td>\n",
       "      <td>5.691662e-01</td>\n",
       "      <td>5.806155e-01</td>\n",
       "      <td>4.087611e-01</td>\n",
       "      <td>6.167141e-01</td>\n",
       "      <td>4.667476e-01</td>\n",
       "      <td>5.428739e-01</td>\n",
       "      <td>6.409988e-01</td>\n",
       "      <td>5.052682e-01</td>\n",
       "      <td>4.655056e-01</td>\n",
       "      <td>...</td>\n",
       "      <td>5.707170e-01</td>\n",
       "      <td>7.067145e-01</td>\n",
       "      <td>5.678477e-01</td>\n",
       "      <td>3.889827e-01</td>\n",
       "      <td>6.120959e-01</td>\n",
       "      <td>5.406123e-01</td>\n",
       "      <td>5.470745e-01</td>\n",
       "      <td>7.031573e-01</td>\n",
       "      <td>4.202330e-01</td>\n",
       "      <td>4.735197e-01</td>\n",
       "    </tr>\n",
       "    <tr>\n",
       "      <th>max</th>\n",
       "      <td>3.763495e+00</td>\n",
       "      <td>4.468843e+00</td>\n",
       "      <td>3.905863e+00</td>\n",
       "      <td>5.308680e+00</td>\n",
       "      <td>4.722706e+00</td>\n",
       "      <td>4.498599e+00</td>\n",
       "      <td>4.209126e+00</td>\n",
       "      <td>3.886854e+00</td>\n",
       "      <td>4.290087e+00</td>\n",
       "      <td>4.706100e+00</td>\n",
       "      <td>...</td>\n",
       "      <td>4.048660e+00</td>\n",
       "      <td>3.767757e+00</td>\n",
       "      <td>4.246920e+00</td>\n",
       "      <td>5.873277e+00</td>\n",
       "      <td>3.917848e+00</td>\n",
       "      <td>4.453296e+00</td>\n",
       "      <td>4.731879e+00</td>\n",
       "      <td>2.649250e+00</td>\n",
       "      <td>5.954479e+00</td>\n",
       "      <td>5.134534e+00</td>\n",
       "    </tr>\n",
       "  </tbody>\n",
       "</table>\n",
       "<p>8 rows × 30 columns</p>\n",
       "</div>"
      ],
      "text/plain": [
       "        mean_radius  mean_texture  mean_perimeter     mean_area  \\\n",
       "count  4.550000e+02  4.550000e+02    4.550000e+02  4.550000e+02   \n",
       "mean   5.075305e-17 -6.963904e-16    3.084224e-16  2.830459e-16   \n",
       "std    1.001101e+00  1.001101e+00    1.001101e+00  1.001101e+00   \n",
       "min   -2.049880e+00 -2.025000e+00   -2.009316e+00 -1.488554e+00   \n",
       "25%   -7.218965e-01 -7.509489e-01   -7.308835e-01 -7.038805e-01   \n",
       "50%   -1.985534e-01 -9.931760e-02   -2.146332e-01 -2.848018e-01   \n",
       "75%    5.537523e-01  5.691662e-01    5.806155e-01  4.087611e-01   \n",
       "max    3.763495e+00  4.468843e+00    3.905863e+00  5.308680e+00   \n",
       "\n",
       "       mean_smoothness  mean_compactness  mean_concavity  mean_concave_points  \\\n",
       "count     4.550000e+02      4.550000e+02    4.550000e+02         4.550000e+02   \n",
       "mean      1.483551e-16     -3.513673e-17    6.441734e-17        -6.051325e-17   \n",
       "std       1.001101e+00      1.001101e+00    1.001101e+00         1.001101e+00   \n",
       "min      -3.119031e+00     -1.497005e+00   -1.134988e+00        -1.285946e+00   \n",
       "25%      -7.106540e-01     -7.405516e-01   -7.542132e-01        -7.475845e-01   \n",
       "50%      -1.617503e-02     -2.074523e-01   -3.241046e-01        -4.118152e-01   \n",
       "75%       6.167141e-01      4.667476e-01    5.428739e-01         6.409988e-01   \n",
       "max       4.722706e+00      4.498599e+00    4.209126e+00         3.886854e+00   \n",
       "\n",
       "       mean_symmetry  mean_fractal_dimension  ...  worst_radius  \\\n",
       "count   4.550000e+02            4.550000e+02  ...  4.550000e+02   \n",
       "mean    5.075305e-16           -5.270509e-17  ...  3.904081e-18   \n",
       "std     1.001101e+00            1.001101e+00  ...  1.001101e+00   \n",
       "min    -2.668076e+00           -1.779435e+00  ... -1.731120e+00   \n",
       "25%    -7.018677e-01           -7.242377e-01  ... -6.927747e-01   \n",
       "50%    -9.214990e-02           -1.785403e-01  ... -2.671559e-01   \n",
       "75%     5.052682e-01            4.655056e-01  ...  5.707170e-01   \n",
       "max     4.290087e+00            4.706100e+00  ...  4.048660e+00   \n",
       "\n",
       "       worst_texture  worst_perimeter    worst_area  worst_smoothness  \\\n",
       "count   4.550000e+02     4.550000e+02  4.550000e+02      4.550000e+02   \n",
       "mean    1.683635e-16    -1.913000e-16 -1.171224e-17      1.795877e-16   \n",
       "std     1.001101e+00     1.001101e+00  1.001101e+00      1.001101e+00   \n",
       "min    -2.096340e+00    -1.700913e+00 -1.227597e+00     -2.095018e+00   \n",
       "25%    -7.383382e-01    -7.048684e-01 -6.546475e-01     -6.793830e-01   \n",
       "50%    -7.358232e-02    -2.663123e-01 -3.312618e-01     -5.426382e-02   \n",
       "75%     7.067145e-01     5.678477e-01  3.889827e-01      6.120959e-01   \n",
       "max     3.767757e+00     4.246920e+00  5.873277e+00      3.917848e+00   \n",
       "\n",
       "       worst_compactness  worst_concavity  worst_concave_points  \\\n",
       "count       4.550000e+02     4.550000e+02          4.550000e+02   \n",
       "mean        1.171224e-17    -1.424990e-16          6.441734e-17   \n",
       "std         1.001101e+00     1.001101e+00          1.001101e+00   \n",
       "min        -1.382656e+00    -1.326603e+00         -1.763005e+00   \n",
       "25%        -6.955558e-01    -7.539024e-01         -7.732045e-01   \n",
       "50%        -2.493611e-01    -2.223335e-01         -2.452501e-01   \n",
       "75%         5.406123e-01     5.470745e-01          7.031573e-01   \n",
       "max         4.453296e+00     4.731879e+00          2.649250e+00   \n",
       "\n",
       "       worst_symmetry  worst_fractal_dimension  \n",
       "count    4.550000e+02             4.550000e+02  \n",
       "mean     3.084224e-16            -2.147245e-16  \n",
       "std      1.001101e+00             1.001101e+00  \n",
       "min     -2.130541e+00            -1.663355e+00  \n",
       "25%     -6.499603e-01            -7.332266e-01  \n",
       "50%     -1.256214e-01            -2.197543e-01  \n",
       "75%      4.202330e-01             4.735197e-01  \n",
       "max      5.954479e+00             5.134534e+00  \n",
       "\n",
       "[8 rows x 30 columns]"
      ]
     },
     "execution_count": 43,
     "metadata": {},
     "output_type": "execute_result"
    }
   ],
   "source": [
    "pd.DataFrame(X_train, columns=X.columns).describe()"
   ]
  },
  {
   "cell_type": "code",
   "execution_count": 44,
   "metadata": {},
   "outputs": [
    {
     "data": {
      "text/html": [
       "<style>div.sk-top-container {color: black;background-color: white;}div.sk-toggleable {background-color: white;}label.sk-toggleable__label {cursor: pointer;display: block;width: 100%;margin-bottom: 0;padding: 0.2em 0.3em;box-sizing: border-box;text-align: center;}div.sk-toggleable__content {max-height: 0;max-width: 0;overflow: hidden;text-align: left;background-color: #f0f8ff;}div.sk-toggleable__content pre {margin: 0.2em;color: black;border-radius: 0.25em;background-color: #f0f8ff;}input.sk-toggleable__control:checked~div.sk-toggleable__content {max-height: 200px;max-width: 100%;overflow: auto;}div.sk-estimator input.sk-toggleable__control:checked~label.sk-toggleable__label {background-color: #d4ebff;}div.sk-label input.sk-toggleable__control:checked~label.sk-toggleable__label {background-color: #d4ebff;}input.sk-hidden--visually {border: 0;clip: rect(1px 1px 1px 1px);clip: rect(1px, 1px, 1px, 1px);height: 1px;margin: -1px;overflow: hidden;padding: 0;position: absolute;width: 1px;}div.sk-estimator {font-family: monospace;background-color: #f0f8ff;margin: 0.25em 0.25em;border: 1px dotted black;border-radius: 0.25em;box-sizing: border-box;}div.sk-estimator:hover {background-color: #d4ebff;}div.sk-parallel-item::after {content: \"\";width: 100%;border-bottom: 1px solid gray;flex-grow: 1;}div.sk-label:hover label.sk-toggleable__label {background-color: #d4ebff;}div.sk-serial::before {content: \"\";position: absolute;border-left: 1px solid gray;box-sizing: border-box;top: 2em;bottom: 0;left: 50%;}div.sk-serial {display: flex;flex-direction: column;align-items: center;background-color: white;}div.sk-item {z-index: 1;}div.sk-parallel {display: flex;align-items: stretch;justify-content: center;background-color: white;}div.sk-parallel-item {display: flex;flex-direction: column;position: relative;background-color: white;}div.sk-parallel-item:first-child::after {align-self: flex-end;width: 50%;}div.sk-parallel-item:last-child::after {align-self: flex-start;width: 50%;}div.sk-parallel-item:only-child::after {width: 0;}div.sk-dashed-wrapped {border: 1px dashed gray;margin: 0.2em;box-sizing: border-box;padding-bottom: 0.1em;background-color: white;position: relative;}div.sk-label label {font-family: monospace;font-weight: bold;background-color: white;display: inline-block;line-height: 1.2em;}div.sk-label-container {position: relative;z-index: 2;text-align: center;}div.sk-container {display: inline-block;position: relative;}</style><div class=\"sk-top-container\"><div class=\"sk-container\"><div class=\"sk-item sk-dashed-wrapped\"><div class=\"sk-label-container\"><div class=\"sk-label sk-toggleable\"><input class=\"sk-toggleable__control sk-hidden--visually\" id=\"c29da13c-8872-4005-90db-849af84ebfcf\" type=\"checkbox\" ><label class=\"sk-toggleable__label\" for=\"c29da13c-8872-4005-90db-849af84ebfcf\">GridSearchCV</label><div class=\"sk-toggleable__content\"><pre>GridSearchCV(cv=5, estimator=KNeighborsClassifier(),\n",
       "             param_grid={'n_neighbors': array([ 1,  2,  3,  4,  5,  6,  7,  8,  9, 10, 11, 12, 13, 14, 15, 16, 17,\n",
       "       18, 19])})</pre></div></div></div><div class=\"sk-parallel\"><div class=\"sk-parallel-item\"><div class=\"sk-item\"><div class=\"sk-serial\"><div class=\"sk-item\"><div class=\"sk-estimator sk-toggleable\"><input class=\"sk-toggleable__control sk-hidden--visually\" id=\"cba3c770-0a32-4b6a-a227-be5f803e8794\" type=\"checkbox\" ><label class=\"sk-toggleable__label\" for=\"cba3c770-0a32-4b6a-a227-be5f803e8794\">KNeighborsClassifier</label><div class=\"sk-toggleable__content\"><pre>KNeighborsClassifier()</pre></div></div></div></div></div></div></div></div></div></div>"
      ],
      "text/plain": [
       "GridSearchCV(cv=5, estimator=KNeighborsClassifier(),\n",
       "             param_grid={'n_neighbors': array([ 1,  2,  3,  4,  5,  6,  7,  8,  9, 10, 11, 12, 13, 14, 15, 16, 17,\n",
       "       18, 19])})"
      ]
     },
     "execution_count": 44,
     "metadata": {},
     "output_type": "execute_result"
    }
   ],
   "source": [
    "model = KNeighborsClassifier()\n",
    "n_neighbors = np.arange(1,20)\n",
    "parameter_space = {'n_neighbors': n_neighbors,\n",
    "                   }\n",
    "\n",
    "grid_search = GridSearchCV(model,\n",
    "                           param_grid=parameter_space,\n",
    "                           cv=5)\n",
    "\n",
    "grid_search.fit(X_train, y_train)\n"
   ]
  },
  {
   "cell_type": "code",
   "execution_count": 45,
   "metadata": {},
   "outputs": [
    {
     "data": {
      "text/plain": [
       "0.9582417582417582"
      ]
     },
     "execution_count": 45,
     "metadata": {},
     "output_type": "execute_result"
    }
   ],
   "source": [
    "grid_search.best_score_"
   ]
  },
  {
   "cell_type": "code",
   "execution_count": 46,
   "metadata": {},
   "outputs": [
    {
     "data": {
      "text/html": [
       "<style>div.sk-top-container {color: black;background-color: white;}div.sk-toggleable {background-color: white;}label.sk-toggleable__label {cursor: pointer;display: block;width: 100%;margin-bottom: 0;padding: 0.2em 0.3em;box-sizing: border-box;text-align: center;}div.sk-toggleable__content {max-height: 0;max-width: 0;overflow: hidden;text-align: left;background-color: #f0f8ff;}div.sk-toggleable__content pre {margin: 0.2em;color: black;border-radius: 0.25em;background-color: #f0f8ff;}input.sk-toggleable__control:checked~div.sk-toggleable__content {max-height: 200px;max-width: 100%;overflow: auto;}div.sk-estimator input.sk-toggleable__control:checked~label.sk-toggleable__label {background-color: #d4ebff;}div.sk-label input.sk-toggleable__control:checked~label.sk-toggleable__label {background-color: #d4ebff;}input.sk-hidden--visually {border: 0;clip: rect(1px 1px 1px 1px);clip: rect(1px, 1px, 1px, 1px);height: 1px;margin: -1px;overflow: hidden;padding: 0;position: absolute;width: 1px;}div.sk-estimator {font-family: monospace;background-color: #f0f8ff;margin: 0.25em 0.25em;border: 1px dotted black;border-radius: 0.25em;box-sizing: border-box;}div.sk-estimator:hover {background-color: #d4ebff;}div.sk-parallel-item::after {content: \"\";width: 100%;border-bottom: 1px solid gray;flex-grow: 1;}div.sk-label:hover label.sk-toggleable__label {background-color: #d4ebff;}div.sk-serial::before {content: \"\";position: absolute;border-left: 1px solid gray;box-sizing: border-box;top: 2em;bottom: 0;left: 50%;}div.sk-serial {display: flex;flex-direction: column;align-items: center;background-color: white;}div.sk-item {z-index: 1;}div.sk-parallel {display: flex;align-items: stretch;justify-content: center;background-color: white;}div.sk-parallel-item {display: flex;flex-direction: column;position: relative;background-color: white;}div.sk-parallel-item:first-child::after {align-self: flex-end;width: 50%;}div.sk-parallel-item:last-child::after {align-self: flex-start;width: 50%;}div.sk-parallel-item:only-child::after {width: 0;}div.sk-dashed-wrapped {border: 1px dashed gray;margin: 0.2em;box-sizing: border-box;padding-bottom: 0.1em;background-color: white;position: relative;}div.sk-label label {font-family: monospace;font-weight: bold;background-color: white;display: inline-block;line-height: 1.2em;}div.sk-label-container {position: relative;z-index: 2;text-align: center;}div.sk-container {display: inline-block;position: relative;}</style><div class=\"sk-top-container\"><div class=\"sk-container\"><div class=\"sk-item\"><div class=\"sk-estimator sk-toggleable\"><input class=\"sk-toggleable__control sk-hidden--visually\" id=\"53b68fb3-996a-4bc6-b827-a1d22c93d315\" type=\"checkbox\" checked><label class=\"sk-toggleable__label\" for=\"53b68fb3-996a-4bc6-b827-a1d22c93d315\">KNeighborsClassifier</label><div class=\"sk-toggleable__content\"><pre>KNeighborsClassifier(n_neighbors=7)</pre></div></div></div></div></div>"
      ],
      "text/plain": [
       "KNeighborsClassifier(n_neighbors=7)"
      ]
     },
     "execution_count": 46,
     "metadata": {},
     "output_type": "execute_result"
    }
   ],
   "source": [
    "best_knn = grid_search.best_estimator_\n",
    "best_knn"
   ]
  },
  {
   "cell_type": "code",
   "execution_count": 47,
   "metadata": {},
   "outputs": [
    {
     "data": {
      "text/plain": [
       "0.9824561403508771"
      ]
     },
     "execution_count": 47,
     "metadata": {},
     "output_type": "execute_result"
    }
   ],
   "source": [
    "X_test = scaler.transform(X_test)\n",
    "best_knn.score(X_test, y_test)"
   ]
  },
  {
   "cell_type": "markdown",
   "metadata": {},
   "source": [
    "## Extra: sklearn pipelines\n",
    "\n",
    "Encapsulate all parts of the modeling process into a single object. "
   ]
  },
  {
   "cell_type": "code",
   "execution_count": 55,
   "metadata": {},
   "outputs": [
    {
     "data": {
      "text/html": [
       "<style>div.sk-top-container {color: black;background-color: white;}div.sk-toggleable {background-color: white;}label.sk-toggleable__label {cursor: pointer;display: block;width: 100%;margin-bottom: 0;padding: 0.2em 0.3em;box-sizing: border-box;text-align: center;}div.sk-toggleable__content {max-height: 0;max-width: 0;overflow: hidden;text-align: left;background-color: #f0f8ff;}div.sk-toggleable__content pre {margin: 0.2em;color: black;border-radius: 0.25em;background-color: #f0f8ff;}input.sk-toggleable__control:checked~div.sk-toggleable__content {max-height: 200px;max-width: 100%;overflow: auto;}div.sk-estimator input.sk-toggleable__control:checked~label.sk-toggleable__label {background-color: #d4ebff;}div.sk-label input.sk-toggleable__control:checked~label.sk-toggleable__label {background-color: #d4ebff;}input.sk-hidden--visually {border: 0;clip: rect(1px 1px 1px 1px);clip: rect(1px, 1px, 1px, 1px);height: 1px;margin: -1px;overflow: hidden;padding: 0;position: absolute;width: 1px;}div.sk-estimator {font-family: monospace;background-color: #f0f8ff;margin: 0.25em 0.25em;border: 1px dotted black;border-radius: 0.25em;box-sizing: border-box;}div.sk-estimator:hover {background-color: #d4ebff;}div.sk-parallel-item::after {content: \"\";width: 100%;border-bottom: 1px solid gray;flex-grow: 1;}div.sk-label:hover label.sk-toggleable__label {background-color: #d4ebff;}div.sk-serial::before {content: \"\";position: absolute;border-left: 1px solid gray;box-sizing: border-box;top: 2em;bottom: 0;left: 50%;}div.sk-serial {display: flex;flex-direction: column;align-items: center;background-color: white;}div.sk-item {z-index: 1;}div.sk-parallel {display: flex;align-items: stretch;justify-content: center;background-color: white;}div.sk-parallel-item {display: flex;flex-direction: column;position: relative;background-color: white;}div.sk-parallel-item:first-child::after {align-self: flex-end;width: 50%;}div.sk-parallel-item:last-child::after {align-self: flex-start;width: 50%;}div.sk-parallel-item:only-child::after {width: 0;}div.sk-dashed-wrapped {border: 1px dashed gray;margin: 0.2em;box-sizing: border-box;padding-bottom: 0.1em;background-color: white;position: relative;}div.sk-label label {font-family: monospace;font-weight: bold;background-color: white;display: inline-block;line-height: 1.2em;}div.sk-label-container {position: relative;z-index: 2;text-align: center;}div.sk-container {display: inline-block;position: relative;}</style><div class=\"sk-top-container\"><div class=\"sk-container\"><div class=\"sk-item sk-dashed-wrapped\"><div class=\"sk-label-container\"><div class=\"sk-label sk-toggleable\"><input class=\"sk-toggleable__control sk-hidden--visually\" id=\"cdec2563-2975-4eeb-a6be-bba25955af64\" type=\"checkbox\" ><label class=\"sk-toggleable__label\" for=\"cdec2563-2975-4eeb-a6be-bba25955af64\">GridSearchCV</label><div class=\"sk-toggleable__content\"><pre>GridSearchCV(cv=5,\n",
       "             estimator=Pipeline(steps=[('standardscaler', StandardScaler()),\n",
       "                                       ('kneighborsclassifier',\n",
       "                                        KNeighborsClassifier())]),\n",
       "             param_grid={'kneighborsclassifier__n_neighbors': array([ 1,  2,  3,  4,  5,  6,  7,  8,  9, 10, 11, 12, 13, 14, 15, 16, 17,\n",
       "       18, 19])})</pre></div></div></div><div class=\"sk-parallel\"><div class=\"sk-parallel-item\"><div class=\"sk-item\"><div class=\"sk-serial\"><div class=\"sk-item\"><div class=\"sk-serial\"><div class=\"sk-item\"><div class=\"sk-estimator sk-toggleable\"><input class=\"sk-toggleable__control sk-hidden--visually\" id=\"73548387-44d3-47fe-a515-9b6c7b84668e\" type=\"checkbox\" ><label class=\"sk-toggleable__label\" for=\"73548387-44d3-47fe-a515-9b6c7b84668e\">StandardScaler</label><div class=\"sk-toggleable__content\"><pre>StandardScaler()</pre></div></div></div><div class=\"sk-item\"><div class=\"sk-estimator sk-toggleable\"><input class=\"sk-toggleable__control sk-hidden--visually\" id=\"36d89281-c4cb-4617-97d8-61d92eadea22\" type=\"checkbox\" ><label class=\"sk-toggleable__label\" for=\"36d89281-c4cb-4617-97d8-61d92eadea22\">KNeighborsClassifier</label><div class=\"sk-toggleable__content\"><pre>KNeighborsClassifier()</pre></div></div></div></div></div></div></div></div></div></div></div></div>"
      ],
      "text/plain": [
       "GridSearchCV(cv=5,\n",
       "             estimator=Pipeline(steps=[('standardscaler', StandardScaler()),\n",
       "                                       ('kneighborsclassifier',\n",
       "                                        KNeighborsClassifier())]),\n",
       "             param_grid={'kneighborsclassifier__n_neighbors': array([ 1,  2,  3,  4,  5,  6,  7,  8,  9, 10, 11, 12, 13, 14, 15, 16, 17,\n",
       "       18, 19])})"
      ]
     },
     "execution_count": 55,
     "metadata": {},
     "output_type": "execute_result"
    }
   ],
   "source": [
    "final_model = make_pipeline(StandardScaler(),\n",
    "                            KNeighborsClassifier())\n",
    "\n",
    "n_neighbors = np.arange(1,20)\n",
    "parameter_space = {'kneighborsclassifier__n_neighbors': n_neighbors,\n",
    "                   }\n",
    "\n",
    "grid_search = GridSearchCV(final_model,\n",
    "                           param_grid=parameter_space,\n",
    "                           cv=5)\n",
    "\n",
    "grid_search.fit(X_train, y_train)\n",
    "\n"
   ]
  },
  {
   "cell_type": "code",
   "execution_count": 57,
   "metadata": {
    "scrolled": true
   },
   "outputs": [
    {
     "data": {
      "text/html": [
       "<style>div.sk-top-container {color: black;background-color: white;}div.sk-toggleable {background-color: white;}label.sk-toggleable__label {cursor: pointer;display: block;width: 100%;margin-bottom: 0;padding: 0.2em 0.3em;box-sizing: border-box;text-align: center;}div.sk-toggleable__content {max-height: 0;max-width: 0;overflow: hidden;text-align: left;background-color: #f0f8ff;}div.sk-toggleable__content pre {margin: 0.2em;color: black;border-radius: 0.25em;background-color: #f0f8ff;}input.sk-toggleable__control:checked~div.sk-toggleable__content {max-height: 200px;max-width: 100%;overflow: auto;}div.sk-estimator input.sk-toggleable__control:checked~label.sk-toggleable__label {background-color: #d4ebff;}div.sk-label input.sk-toggleable__control:checked~label.sk-toggleable__label {background-color: #d4ebff;}input.sk-hidden--visually {border: 0;clip: rect(1px 1px 1px 1px);clip: rect(1px, 1px, 1px, 1px);height: 1px;margin: -1px;overflow: hidden;padding: 0;position: absolute;width: 1px;}div.sk-estimator {font-family: monospace;background-color: #f0f8ff;margin: 0.25em 0.25em;border: 1px dotted black;border-radius: 0.25em;box-sizing: border-box;}div.sk-estimator:hover {background-color: #d4ebff;}div.sk-parallel-item::after {content: \"\";width: 100%;border-bottom: 1px solid gray;flex-grow: 1;}div.sk-label:hover label.sk-toggleable__label {background-color: #d4ebff;}div.sk-serial::before {content: \"\";position: absolute;border-left: 1px solid gray;box-sizing: border-box;top: 2em;bottom: 0;left: 50%;}div.sk-serial {display: flex;flex-direction: column;align-items: center;background-color: white;}div.sk-item {z-index: 1;}div.sk-parallel {display: flex;align-items: stretch;justify-content: center;background-color: white;}div.sk-parallel-item {display: flex;flex-direction: column;position: relative;background-color: white;}div.sk-parallel-item:first-child::after {align-self: flex-end;width: 50%;}div.sk-parallel-item:last-child::after {align-self: flex-start;width: 50%;}div.sk-parallel-item:only-child::after {width: 0;}div.sk-dashed-wrapped {border: 1px dashed gray;margin: 0.2em;box-sizing: border-box;padding-bottom: 0.1em;background-color: white;position: relative;}div.sk-label label {font-family: monospace;font-weight: bold;background-color: white;display: inline-block;line-height: 1.2em;}div.sk-label-container {position: relative;z-index: 2;text-align: center;}div.sk-container {display: inline-block;position: relative;}</style><div class=\"sk-top-container\"><div class=\"sk-container\"><div class=\"sk-item sk-dashed-wrapped\"><div class=\"sk-label-container\"><div class=\"sk-label sk-toggleable\"><input class=\"sk-toggleable__control sk-hidden--visually\" id=\"2628c892-38e3-4717-8d95-acc0173ac1ac\" type=\"checkbox\" ><label class=\"sk-toggleable__label\" for=\"2628c892-38e3-4717-8d95-acc0173ac1ac\">Pipeline</label><div class=\"sk-toggleable__content\"><pre>Pipeline(steps=[('standardscaler', StandardScaler()),\n",
       "                ('kneighborsclassifier', KNeighborsClassifier(n_neighbors=7))])</pre></div></div></div><div class=\"sk-serial\"><div class=\"sk-item\"><div class=\"sk-estimator sk-toggleable\"><input class=\"sk-toggleable__control sk-hidden--visually\" id=\"28d812b4-2af3-41aa-92e8-fb491fde1554\" type=\"checkbox\" ><label class=\"sk-toggleable__label\" for=\"28d812b4-2af3-41aa-92e8-fb491fde1554\">StandardScaler</label><div class=\"sk-toggleable__content\"><pre>StandardScaler()</pre></div></div></div><div class=\"sk-item\"><div class=\"sk-estimator sk-toggleable\"><input class=\"sk-toggleable__control sk-hidden--visually\" id=\"4925c6f1-21d9-402c-8dc6-551832953494\" type=\"checkbox\" ><label class=\"sk-toggleable__label\" for=\"4925c6f1-21d9-402c-8dc6-551832953494\">KNeighborsClassifier</label><div class=\"sk-toggleable__content\"><pre>KNeighborsClassifier(n_neighbors=7)</pre></div></div></div></div></div></div></div>"
      ],
      "text/plain": [
       "Pipeline(steps=[('standardscaler', StandardScaler()),\n",
       "                ('kneighborsclassifier', KNeighborsClassifier(n_neighbors=7))])"
      ]
     },
     "execution_count": 57,
     "metadata": {},
     "output_type": "execute_result"
    }
   ],
   "source": [
    "knn_best = grid_search.best_estimator_\n",
    "knn_best"
   ]
  },
  {
   "cell_type": "code",
   "execution_count": 58,
   "metadata": {},
   "outputs": [
    {
     "data": {
      "text/plain": [
       "0.9824561403508771"
      ]
     },
     "execution_count": 58,
     "metadata": {},
     "output_type": "execute_result"
    }
   ],
   "source": [
    "knn_best.score(X_test, y_test)"
   ]
  },
  {
   "cell_type": "code",
   "execution_count": 59,
   "metadata": {},
   "outputs": [
    {
     "data": {
      "text/html": [
       "<style>div.sk-top-container {color: black;background-color: white;}div.sk-toggleable {background-color: white;}label.sk-toggleable__label {cursor: pointer;display: block;width: 100%;margin-bottom: 0;padding: 0.2em 0.3em;box-sizing: border-box;text-align: center;}div.sk-toggleable__content {max-height: 0;max-width: 0;overflow: hidden;text-align: left;background-color: #f0f8ff;}div.sk-toggleable__content pre {margin: 0.2em;color: black;border-radius: 0.25em;background-color: #f0f8ff;}input.sk-toggleable__control:checked~div.sk-toggleable__content {max-height: 200px;max-width: 100%;overflow: auto;}div.sk-estimator input.sk-toggleable__control:checked~label.sk-toggleable__label {background-color: #d4ebff;}div.sk-label input.sk-toggleable__control:checked~label.sk-toggleable__label {background-color: #d4ebff;}input.sk-hidden--visually {border: 0;clip: rect(1px 1px 1px 1px);clip: rect(1px, 1px, 1px, 1px);height: 1px;margin: -1px;overflow: hidden;padding: 0;position: absolute;width: 1px;}div.sk-estimator {font-family: monospace;background-color: #f0f8ff;margin: 0.25em 0.25em;border: 1px dotted black;border-radius: 0.25em;box-sizing: border-box;}div.sk-estimator:hover {background-color: #d4ebff;}div.sk-parallel-item::after {content: \"\";width: 100%;border-bottom: 1px solid gray;flex-grow: 1;}div.sk-label:hover label.sk-toggleable__label {background-color: #d4ebff;}div.sk-serial::before {content: \"\";position: absolute;border-left: 1px solid gray;box-sizing: border-box;top: 2em;bottom: 0;left: 50%;}div.sk-serial {display: flex;flex-direction: column;align-items: center;background-color: white;}div.sk-item {z-index: 1;}div.sk-parallel {display: flex;align-items: stretch;justify-content: center;background-color: white;}div.sk-parallel-item {display: flex;flex-direction: column;position: relative;background-color: white;}div.sk-parallel-item:first-child::after {align-self: flex-end;width: 50%;}div.sk-parallel-item:last-child::after {align-self: flex-start;width: 50%;}div.sk-parallel-item:only-child::after {width: 0;}div.sk-dashed-wrapped {border: 1px dashed gray;margin: 0.2em;box-sizing: border-box;padding-bottom: 0.1em;background-color: white;position: relative;}div.sk-label label {font-family: monospace;font-weight: bold;background-color: white;display: inline-block;line-height: 1.2em;}div.sk-label-container {position: relative;z-index: 2;text-align: center;}div.sk-container {display: inline-block;position: relative;}</style><div class=\"sk-top-container\"><div class=\"sk-container\"><div class=\"sk-item sk-dashed-wrapped\"><div class=\"sk-label-container\"><div class=\"sk-label sk-toggleable\"><input class=\"sk-toggleable__control sk-hidden--visually\" id=\"ec6a9aff-1779-42ec-a8e0-0d802aa1f478\" type=\"checkbox\" ><label class=\"sk-toggleable__label\" for=\"ec6a9aff-1779-42ec-a8e0-0d802aa1f478\">Pipeline</label><div class=\"sk-toggleable__content\"><pre>Pipeline(steps=[('standardscaler', StandardScaler()),\n",
       "                ('kneighborsclassifier', KNeighborsClassifier(n_neighbors=7))])</pre></div></div></div><div class=\"sk-serial\"><div class=\"sk-item\"><div class=\"sk-estimator sk-toggleable\"><input class=\"sk-toggleable__control sk-hidden--visually\" id=\"0e60f342-3601-4a03-8f84-62af52d24e95\" type=\"checkbox\" ><label class=\"sk-toggleable__label\" for=\"0e60f342-3601-4a03-8f84-62af52d24e95\">StandardScaler</label><div class=\"sk-toggleable__content\"><pre>StandardScaler()</pre></div></div></div><div class=\"sk-item\"><div class=\"sk-estimator sk-toggleable\"><input class=\"sk-toggleable__control sk-hidden--visually\" id=\"ee44c435-f6f5-43a4-a05b-df082d33ddd7\" type=\"checkbox\" ><label class=\"sk-toggleable__label\" for=\"ee44c435-f6f5-43a4-a05b-df082d33ddd7\">KNeighborsClassifier</label><div class=\"sk-toggleable__content\"><pre>KNeighborsClassifier(n_neighbors=7)</pre></div></div></div></div></div></div></div>"
      ],
      "text/plain": [
       "Pipeline(steps=[('standardscaler', StandardScaler()),\n",
       "                ('kneighborsclassifier', KNeighborsClassifier(n_neighbors=7))])"
      ]
     },
     "execution_count": 59,
     "metadata": {},
     "output_type": "execute_result"
    }
   ],
   "source": [
    "knn_best.fit(X, y) # to production!!"
   ]
  },
  {
   "cell_type": "code",
   "execution_count": 75,
   "metadata": {},
   "outputs": [
    {
     "data": {
      "text/plain": [
       "array([[0.        , 1.        ],\n",
       "       [0.        , 1.        ],\n",
       "       [0.        , 1.        ],\n",
       "       ...,\n",
       "       [0.28571429, 0.71428571],\n",
       "       [0.        , 1.        ],\n",
       "       [1.        , 0.        ]])"
      ]
     },
     "execution_count": 75,
     "metadata": {},
     "output_type": "execute_result"
    }
   ],
   "source": [
    "knn_best.predict_proba(X)"
   ]
  },
  {
   "cell_type": "markdown",
   "metadata": {},
   "source": [
    "## References\n",
    "* [Introduction to Statistical Learning ISL (Chapter 2)](http://faculty.marshall.usc.edu/gareth-james/ISL/ISLR%20Seventh%20Printing.pdf)\n",
    "* [repo from tdpetrou with materials from ISL](https://github.com/tdpetrou/Machine-Learning-Books-With-Python/tree/master/Introduction%20to%20Statistical%20Learning)\n"
   ]
  }
 ],
 "metadata": {
  "kernelspec": {
   "display_name": "Python 3",
   "language": "python",
   "name": "python3"
  },
  "language_info": {
   "codemirror_mode": {
    "name": "ipython",
    "version": 3
   },
   "file_extension": ".py",
   "mimetype": "text/x-python",
   "name": "python",
   "nbconvert_exporter": "python",
   "pygments_lexer": "ipython3",
   "version": "3.8.5"
  },
  "toc": {
   "base_numbering": 1,
   "nav_menu": {
    "height": "145.994px",
    "width": "198.991px"
   },
   "number_sections": true,
   "sideBar": true,
   "skip_h1_title": true,
   "title_cell": "Table of Contents",
   "title_sidebar": "Contents",
   "toc_cell": true,
   "toc_position": {
    "height": "calc(100% - 180px)",
    "left": "10px",
    "top": "150px",
    "width": "216.094px"
   },
   "toc_section_display": true,
   "toc_window_display": true
  },
  "varInspector": {
   "cols": {
    "lenName": 16,
    "lenType": 16,
    "lenVar": 40
   },
   "kernels_config": {
    "python": {
     "delete_cmd_postfix": "",
     "delete_cmd_prefix": "del ",
     "library": "var_list.py",
     "varRefreshCmd": "print(var_dic_list())"
    },
    "r": {
     "delete_cmd_postfix": ") ",
     "delete_cmd_prefix": "rm(",
     "library": "var_list.r",
     "varRefreshCmd": "cat(var_dic_list()) "
    }
   },
   "types_to_exclude": [
    "module",
    "function",
    "builtin_function_or_method",
    "instance",
    "_Feature"
   ],
   "window_display": false
  }
 },
 "nbformat": 4,
 "nbformat_minor": 4
}
