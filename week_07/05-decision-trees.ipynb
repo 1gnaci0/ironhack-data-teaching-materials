{
 "cells": [
  {
   "cell_type": "markdown",
   "metadata": {},
   "source": [
    "# Decision trees"
   ]
  },
  {
   "cell_type": "markdown",
   "metadata": {
    "toc": true
   },
   "source": [
    "<h1>Table of Contents<span class=\"tocSkip\"></span></h1>\n",
    "<div class=\"toc\"><ul class=\"toc-item\"><li><span><a href=\"#Intro\" data-toc-modified-id=\"Intro-1\"><span class=\"toc-item-num\">1&nbsp;&nbsp;</span>Intro</a></span></li><li><span><a href=\"#The-problem\" data-toc-modified-id=\"The-problem-2\"><span class=\"toc-item-num\">2&nbsp;&nbsp;</span>The problem</a></span></li><li><span><a href=\"#Data-exploration\" data-toc-modified-id=\"Data-exploration-3\"><span class=\"toc-item-num\">3&nbsp;&nbsp;</span>Data exploration</a></span></li><li><span><a href=\"#Train-test-splitting\" data-toc-modified-id=\"Train-test-splitting-4\"><span class=\"toc-item-num\">4&nbsp;&nbsp;</span>Train test splitting</a></span></li><li><span><a href=\"#Models\" data-toc-modified-id=\"Models-5\"><span class=\"toc-item-num\">5&nbsp;&nbsp;</span>Models</a></span><ul class=\"toc-item\"><li><span><a href=\"#Baseline-model\" data-toc-modified-id=\"Baseline-model-5.1\"><span class=\"toc-item-num\">5.1&nbsp;&nbsp;</span>Baseline model</a></span></li><li><span><a href=\"#Simple-tree-(depth=1)\" data-toc-modified-id=\"Simple-tree-(depth=1)-5.2\"><span class=\"toc-item-num\">5.2&nbsp;&nbsp;</span>Simple tree (depth=1)</a></span></li><li><span><a href=\"#Bigger-tree-(depth=3)\" data-toc-modified-id=\"Bigger-tree-(depth=3)-5.3\"><span class=\"toc-item-num\">5.3&nbsp;&nbsp;</span>Bigger tree (depth=3)</a></span></li><li><span><a href=\"#Huge-tree-(depth=20)\" data-toc-modified-id=\"Huge-tree-(depth=20)-5.4\"><span class=\"toc-item-num\">5.4&nbsp;&nbsp;</span>Huge tree (depth=20)</a></span></li><li><span><a href=\"#Overfitting\" data-toc-modified-id=\"Overfitting-5.5\"><span class=\"toc-item-num\">5.5&nbsp;&nbsp;</span>Overfitting</a></span></li><li><span><a href=\"#Other-hyperparameters\" data-toc-modified-id=\"Other-hyperparameters-5.6\"><span class=\"toc-item-num\">5.6&nbsp;&nbsp;</span>Other hyperparameters</a></span></li><li><span><a href=\"#Grid-search\" data-toc-modified-id=\"Grid-search-5.7\"><span class=\"toc-item-num\">5.7&nbsp;&nbsp;</span>Grid search</a></span></li></ul></li><li><span><a href=\"#Feature-importance\" data-toc-modified-id=\"Feature-importance-6\"><span class=\"toc-item-num\">6&nbsp;&nbsp;</span>Feature importance</a></span></li><li><span><a href=\"#Summary\" data-toc-modified-id=\"Summary-7\"><span class=\"toc-item-num\">7&nbsp;&nbsp;</span>Summary</a></span></li></ul></div>"
   ]
  },
  {
   "cell_type": "code",
   "execution_count": 4,
   "metadata": {},
   "outputs": [],
   "source": [
    "import pandas as pd\n",
    "import numpy as np\n",
    "\n",
    "import seaborn as sns\n",
    "import matplotlib.pyplot as plt"
   ]
  },
  {
   "cell_type": "markdown",
   "metadata": {},
   "source": [
    "## Intro"
   ]
  },
  {
   "cell_type": "markdown",
   "metadata": {},
   "source": [
    "Remember Titanic dataset? A decision tree tries to predict Survived Yes/No in the following way:"
   ]
  },
  {
   "cell_type": "markdown",
   "metadata": {},
   "source": [
    "<img src=\"https://www.researchgate.net/profile/Joop_Hox/publication/317307818/figure/fig2/AS:633029202571264@1527937331016/Decision-tree-on-Titanic-survival-data-Source-https-en_Q640.jpg\" width=300>"
   ]
  },
  {
   "cell_type": "markdown",
   "metadata": {},
   "source": [
    "Decision trees:\n",
    " * are used **both** for regression and classification\n",
    " * involve stratifying (segmenting) the predictor space...\n",
    " * in an iterative manner\n",
    " * are given this name because splitting rules can be summarized in a tree"
   ]
  },
  {
   "cell_type": "markdown",
   "metadata": {},
   "source": [
    "Decision trees:\n",
    " * are simple\n",
    " * are useful for interpretation\n",
    " * are not very powerful predictors but...\n",
    " * give rise to more complex models, like Random Forest or Gradient Boosted Trees algorithms"
   ]
  },
  {
   "cell_type": "markdown",
   "metadata": {},
   "source": [
    "## The problem"
   ]
  },
  {
   "cell_type": "markdown",
   "metadata": {},
   "source": [
    "Today we will be using a **white wine** dataset"
   ]
  },
  {
   "cell_type": "markdown",
   "metadata": {},
   "source": [
    "Experts have rated several wines, whose physical properties are also given"
   ]
  },
  {
   "cell_type": "code",
   "execution_count": 5,
   "metadata": {},
   "outputs": [],
   "source": [
    "df = pd.read_csv(\"../datasets/wine_quality.csv\")"
   ]
  },
  {
   "cell_type": "code",
   "execution_count": 6,
   "metadata": {},
   "outputs": [
    {
     "data": {
      "text/plain": [
       "(4898, 12)"
      ]
     },
     "execution_count": 6,
     "metadata": {},
     "output_type": "execute_result"
    }
   ],
   "source": [
    "df.shape"
   ]
  },
  {
   "cell_type": "code",
   "execution_count": 7,
   "metadata": {},
   "outputs": [
    {
     "data": {
      "text/html": [
       "<div>\n",
       "<style scoped>\n",
       "    .dataframe tbody tr th:only-of-type {\n",
       "        vertical-align: middle;\n",
       "    }\n",
       "\n",
       "    .dataframe tbody tr th {\n",
       "        vertical-align: top;\n",
       "    }\n",
       "\n",
       "    .dataframe thead th {\n",
       "        text-align: right;\n",
       "    }\n",
       "</style>\n",
       "<table border=\"1\" class=\"dataframe\">\n",
       "  <thead>\n",
       "    <tr style=\"text-align: right;\">\n",
       "      <th></th>\n",
       "      <th>fixed acidity</th>\n",
       "      <th>volatile acidity</th>\n",
       "      <th>citric acid</th>\n",
       "      <th>residual sugar</th>\n",
       "      <th>chlorides</th>\n",
       "      <th>free sulfur dioxide</th>\n",
       "      <th>total sulfur dioxide</th>\n",
       "      <th>density</th>\n",
       "      <th>pH</th>\n",
       "      <th>sulphates</th>\n",
       "      <th>alcohol</th>\n",
       "      <th>quality</th>\n",
       "    </tr>\n",
       "  </thead>\n",
       "  <tbody>\n",
       "    <tr>\n",
       "      <th>1132</th>\n",
       "      <td>6.8</td>\n",
       "      <td>0.390</td>\n",
       "      <td>0.31</td>\n",
       "      <td>14.35</td>\n",
       "      <td>0.043</td>\n",
       "      <td>28.0</td>\n",
       "      <td>162.0</td>\n",
       "      <td>0.99880</td>\n",
       "      <td>3.17</td>\n",
       "      <td>0.54</td>\n",
       "      <td>9.1</td>\n",
       "      <td>5</td>\n",
       "    </tr>\n",
       "    <tr>\n",
       "      <th>879</th>\n",
       "      <td>6.9</td>\n",
       "      <td>0.120</td>\n",
       "      <td>0.36</td>\n",
       "      <td>2.20</td>\n",
       "      <td>0.037</td>\n",
       "      <td>18.0</td>\n",
       "      <td>111.0</td>\n",
       "      <td>0.99190</td>\n",
       "      <td>3.41</td>\n",
       "      <td>0.82</td>\n",
       "      <td>11.9</td>\n",
       "      <td>8</td>\n",
       "    </tr>\n",
       "    <tr>\n",
       "      <th>1147</th>\n",
       "      <td>8.9</td>\n",
       "      <td>0.340</td>\n",
       "      <td>0.32</td>\n",
       "      <td>1.30</td>\n",
       "      <td>0.041</td>\n",
       "      <td>12.0</td>\n",
       "      <td>188.0</td>\n",
       "      <td>0.99530</td>\n",
       "      <td>3.17</td>\n",
       "      <td>0.49</td>\n",
       "      <td>9.5</td>\n",
       "      <td>5</td>\n",
       "    </tr>\n",
       "    <tr>\n",
       "      <th>3205</th>\n",
       "      <td>6.8</td>\n",
       "      <td>0.450</td>\n",
       "      <td>0.36</td>\n",
       "      <td>5.00</td>\n",
       "      <td>0.033</td>\n",
       "      <td>28.0</td>\n",
       "      <td>156.0</td>\n",
       "      <td>0.99100</td>\n",
       "      <td>3.11</td>\n",
       "      <td>0.40</td>\n",
       "      <td>12.4</td>\n",
       "      <td>7</td>\n",
       "    </tr>\n",
       "    <tr>\n",
       "      <th>4327</th>\n",
       "      <td>6.4</td>\n",
       "      <td>0.240</td>\n",
       "      <td>0.26</td>\n",
       "      <td>8.20</td>\n",
       "      <td>0.054</td>\n",
       "      <td>47.0</td>\n",
       "      <td>182.0</td>\n",
       "      <td>0.99538</td>\n",
       "      <td>3.12</td>\n",
       "      <td>0.50</td>\n",
       "      <td>9.5</td>\n",
       "      <td>5</td>\n",
       "    </tr>\n",
       "    <tr>\n",
       "      <th>2578</th>\n",
       "      <td>5.8</td>\n",
       "      <td>0.300</td>\n",
       "      <td>0.27</td>\n",
       "      <td>1.70</td>\n",
       "      <td>0.014</td>\n",
       "      <td>45.0</td>\n",
       "      <td>104.0</td>\n",
       "      <td>0.98914</td>\n",
       "      <td>3.40</td>\n",
       "      <td>0.56</td>\n",
       "      <td>12.6</td>\n",
       "      <td>7</td>\n",
       "    </tr>\n",
       "    <tr>\n",
       "      <th>2798</th>\n",
       "      <td>6.9</td>\n",
       "      <td>0.310</td>\n",
       "      <td>0.32</td>\n",
       "      <td>1.60</td>\n",
       "      <td>0.036</td>\n",
       "      <td>34.0</td>\n",
       "      <td>114.0</td>\n",
       "      <td>0.99068</td>\n",
       "      <td>3.19</td>\n",
       "      <td>0.45</td>\n",
       "      <td>11.4</td>\n",
       "      <td>7</td>\n",
       "    </tr>\n",
       "    <tr>\n",
       "      <th>2408</th>\n",
       "      <td>7.5</td>\n",
       "      <td>0.705</td>\n",
       "      <td>0.10</td>\n",
       "      <td>13.00</td>\n",
       "      <td>0.044</td>\n",
       "      <td>44.0</td>\n",
       "      <td>214.0</td>\n",
       "      <td>0.99741</td>\n",
       "      <td>3.10</td>\n",
       "      <td>0.50</td>\n",
       "      <td>9.1</td>\n",
       "      <td>5</td>\n",
       "    </tr>\n",
       "    <tr>\n",
       "      <th>3349</th>\n",
       "      <td>6.4</td>\n",
       "      <td>0.170</td>\n",
       "      <td>0.27</td>\n",
       "      <td>9.90</td>\n",
       "      <td>0.047</td>\n",
       "      <td>26.0</td>\n",
       "      <td>101.0</td>\n",
       "      <td>0.99596</td>\n",
       "      <td>3.34</td>\n",
       "      <td>0.50</td>\n",
       "      <td>9.9</td>\n",
       "      <td>6</td>\n",
       "    </tr>\n",
       "    <tr>\n",
       "      <th>4026</th>\n",
       "      <td>7.6</td>\n",
       "      <td>0.190</td>\n",
       "      <td>0.37</td>\n",
       "      <td>13.10</td>\n",
       "      <td>0.033</td>\n",
       "      <td>52.0</td>\n",
       "      <td>151.0</td>\n",
       "      <td>0.99726</td>\n",
       "      <td>3.18</td>\n",
       "      <td>0.79</td>\n",
       "      <td>10.4</td>\n",
       "      <td>6</td>\n",
       "    </tr>\n",
       "  </tbody>\n",
       "</table>\n",
       "</div>"
      ],
      "text/plain": [
       "      fixed acidity  volatile acidity  citric acid  residual sugar  chlorides  \\\n",
       "1132            6.8             0.390         0.31           14.35      0.043   \n",
       "879             6.9             0.120         0.36            2.20      0.037   \n",
       "1147            8.9             0.340         0.32            1.30      0.041   \n",
       "3205            6.8             0.450         0.36            5.00      0.033   \n",
       "4327            6.4             0.240         0.26            8.20      0.054   \n",
       "2578            5.8             0.300         0.27            1.70      0.014   \n",
       "2798            6.9             0.310         0.32            1.60      0.036   \n",
       "2408            7.5             0.705         0.10           13.00      0.044   \n",
       "3349            6.4             0.170         0.27            9.90      0.047   \n",
       "4026            7.6             0.190         0.37           13.10      0.033   \n",
       "\n",
       "      free sulfur dioxide  total sulfur dioxide  density    pH  sulphates  \\\n",
       "1132                 28.0                 162.0  0.99880  3.17       0.54   \n",
       "879                  18.0                 111.0  0.99190  3.41       0.82   \n",
       "1147                 12.0                 188.0  0.99530  3.17       0.49   \n",
       "3205                 28.0                 156.0  0.99100  3.11       0.40   \n",
       "4327                 47.0                 182.0  0.99538  3.12       0.50   \n",
       "2578                 45.0                 104.0  0.98914  3.40       0.56   \n",
       "2798                 34.0                 114.0  0.99068  3.19       0.45   \n",
       "2408                 44.0                 214.0  0.99741  3.10       0.50   \n",
       "3349                 26.0                 101.0  0.99596  3.34       0.50   \n",
       "4026                 52.0                 151.0  0.99726  3.18       0.79   \n",
       "\n",
       "      alcohol  quality  \n",
       "1132      9.1        5  \n",
       "879      11.9        8  \n",
       "1147      9.5        5  \n",
       "3205     12.4        7  \n",
       "4327      9.5        5  \n",
       "2578     12.6        7  \n",
       "2798     11.4        7  \n",
       "2408      9.1        5  \n",
       "3349      9.9        6  \n",
       "4026     10.4        6  "
      ]
     },
     "execution_count": 7,
     "metadata": {},
     "output_type": "execute_result"
    }
   ],
   "source": [
    "df.sample(10)"
   ]
  },
  {
   "cell_type": "markdown",
   "metadata": {},
   "source": [
    "We want to:\n",
    " * build a **supervised** learning model\n",
    " * which is a **regression** model (predict quantitative feature)\n",
    " * that tries to predict wine `quality` from its physical properties"
   ]
  },
  {
   "cell_type": "markdown",
   "metadata": {},
   "source": [
    "We will do train test splitting for correct asessment of model performance"
   ]
  },
  {
   "cell_type": "markdown",
   "metadata": {},
   "source": [
    "We will use MSE metric: $$MSE=\\frac{1}{N}\\sum(\\hat{y} - y)^2$$"
   ]
  },
  {
   "cell_type": "code",
   "execution_count": 8,
   "metadata": {},
   "outputs": [],
   "source": [
    "from sklearn.metrics import mean_squared_error"
   ]
  },
  {
   "cell_type": "markdown",
   "metadata": {},
   "source": [
    "We will:\n",
    " * try several models and...\n",
    " * keep the one with the **least** MSE on **test set** (also called test error)\n",
    " * anyways, we will always show training error too"
   ]
  },
  {
   "cell_type": "markdown",
   "metadata": {},
   "source": [
    "## Data exploration"
   ]
  },
  {
   "cell_type": "code",
   "execution_count": 9,
   "metadata": {},
   "outputs": [
    {
     "data": {
      "text/plain": [
       "fixed acidity           0\n",
       "volatile acidity        0\n",
       "citric acid             0\n",
       "residual sugar          0\n",
       "chlorides               0\n",
       "free sulfur dioxide     0\n",
       "total sulfur dioxide    0\n",
       "density                 0\n",
       "pH                      0\n",
       "sulphates               0\n",
       "alcohol                 0\n",
       "quality                 0\n",
       "dtype: int64"
      ]
     },
     "execution_count": 9,
     "metadata": {},
     "output_type": "execute_result"
    }
   ],
   "source": [
    "df.isna().sum()"
   ]
  },
  {
   "cell_type": "code",
   "execution_count": 153,
   "metadata": {},
   "outputs": [
    {
     "data": {
      "text/plain": [
       "Index(['fixed acidity', 'volatile acidity', 'citric acid', 'residual sugar',\n",
       "       'chlorides', 'free sulfur dioxide', 'total sulfur dioxide', 'density',\n",
       "       'pH', 'sulphates', 'alcohol', 'quality'],\n",
       "      dtype='object')"
      ]
     },
     "execution_count": 153,
     "metadata": {},
     "output_type": "execute_result"
    }
   ],
   "source": [
    "df.columns"
   ]
  },
  {
   "cell_type": "code",
   "execution_count": 10,
   "metadata": {},
   "outputs": [
    {
     "data": {
      "text/plain": [
       "<AxesSubplot:xlabel='quality', ylabel='count'>"
      ]
     },
     "execution_count": 10,
     "metadata": {},
     "output_type": "execute_result"
    },
    {
     "data": {
      "image/png": "[encoded data removed]",
      "text/plain": [
       "<Figure size 432x288 with 1 Axes>"
      ]
     },
     "metadata": {
      "needs_background": "light"
     },
     "output_type": "display_data"
    }
   ],
   "source": [
    "sns.countplot(x=df.quality, palette=\"Blues\")"
   ]
  },
  {
   "cell_type": "code",
   "execution_count": 155,
   "metadata": {},
   "outputs": [
    {
     "data": {
      "text/html": [
       "<div>\n",
       "<style scoped>\n",
       "    .dataframe tbody tr th:only-of-type {\n",
       "        vertical-align: middle;\n",
       "    }\n",
       "\n",
       "    .dataframe tbody tr th {\n",
       "        vertical-align: top;\n",
       "    }\n",
       "\n",
       "    .dataframe thead th {\n",
       "        text-align: right;\n",
       "    }\n",
       "</style>\n",
       "<table border=\"1\" class=\"dataframe\">\n",
       "  <thead>\n",
       "    <tr style=\"text-align: right;\">\n",
       "      <th></th>\n",
       "      <th>fixed acidity</th>\n",
       "      <th>volatile acidity</th>\n",
       "      <th>citric acid</th>\n",
       "      <th>residual sugar</th>\n",
       "      <th>chlorides</th>\n",
       "      <th>free sulfur dioxide</th>\n",
       "      <th>total sulfur dioxide</th>\n",
       "      <th>density</th>\n",
       "      <th>pH</th>\n",
       "      <th>sulphates</th>\n",
       "      <th>alcohol</th>\n",
       "      <th>quality</th>\n",
       "    </tr>\n",
       "  </thead>\n",
       "  <tbody>\n",
       "    <tr>\n",
       "      <th>count</th>\n",
       "      <td>4898.000000</td>\n",
       "      <td>4898.000000</td>\n",
       "      <td>4898.000000</td>\n",
       "      <td>4898.000000</td>\n",
       "      <td>4898.000000</td>\n",
       "      <td>4898.000000</td>\n",
       "      <td>4898.000000</td>\n",
       "      <td>4898.000000</td>\n",
       "      <td>4898.000000</td>\n",
       "      <td>4898.000000</td>\n",
       "      <td>4898.000000</td>\n",
       "      <td>4898.000000</td>\n",
       "    </tr>\n",
       "    <tr>\n",
       "      <th>mean</th>\n",
       "      <td>6.854788</td>\n",
       "      <td>0.278241</td>\n",
       "      <td>0.334192</td>\n",
       "      <td>6.391415</td>\n",
       "      <td>0.045772</td>\n",
       "      <td>35.308085</td>\n",
       "      <td>138.360657</td>\n",
       "      <td>0.994027</td>\n",
       "      <td>3.188267</td>\n",
       "      <td>0.489847</td>\n",
       "      <td>10.514267</td>\n",
       "      <td>5.877909</td>\n",
       "    </tr>\n",
       "    <tr>\n",
       "      <th>std</th>\n",
       "      <td>0.843868</td>\n",
       "      <td>0.100795</td>\n",
       "      <td>0.121020</td>\n",
       "      <td>5.072058</td>\n",
       "      <td>0.021848</td>\n",
       "      <td>17.007137</td>\n",
       "      <td>42.498065</td>\n",
       "      <td>0.002991</td>\n",
       "      <td>0.151001</td>\n",
       "      <td>0.114126</td>\n",
       "      <td>1.230621</td>\n",
       "      <td>0.885639</td>\n",
       "    </tr>\n",
       "    <tr>\n",
       "      <th>min</th>\n",
       "      <td>3.800000</td>\n",
       "      <td>0.080000</td>\n",
       "      <td>0.000000</td>\n",
       "      <td>0.600000</td>\n",
       "      <td>0.009000</td>\n",
       "      <td>2.000000</td>\n",
       "      <td>9.000000</td>\n",
       "      <td>0.987110</td>\n",
       "      <td>2.720000</td>\n",
       "      <td>0.220000</td>\n",
       "      <td>8.000000</td>\n",
       "      <td>3.000000</td>\n",
       "    </tr>\n",
       "    <tr>\n",
       "      <th>25%</th>\n",
       "      <td>6.300000</td>\n",
       "      <td>0.210000</td>\n",
       "      <td>0.270000</td>\n",
       "      <td>1.700000</td>\n",
       "      <td>0.036000</td>\n",
       "      <td>23.000000</td>\n",
       "      <td>108.000000</td>\n",
       "      <td>0.991723</td>\n",
       "      <td>3.090000</td>\n",
       "      <td>0.410000</td>\n",
       "      <td>9.500000</td>\n",
       "      <td>5.000000</td>\n",
       "    </tr>\n",
       "    <tr>\n",
       "      <th>50%</th>\n",
       "      <td>6.800000</td>\n",
       "      <td>0.260000</td>\n",
       "      <td>0.320000</td>\n",
       "      <td>5.200000</td>\n",
       "      <td>0.043000</td>\n",
       "      <td>34.000000</td>\n",
       "      <td>134.000000</td>\n",
       "      <td>0.993740</td>\n",
       "      <td>3.180000</td>\n",
       "      <td>0.470000</td>\n",
       "      <td>10.400000</td>\n",
       "      <td>6.000000</td>\n",
       "    </tr>\n",
       "    <tr>\n",
       "      <th>75%</th>\n",
       "      <td>7.300000</td>\n",
       "      <td>0.320000</td>\n",
       "      <td>0.390000</td>\n",
       "      <td>9.900000</td>\n",
       "      <td>0.050000</td>\n",
       "      <td>46.000000</td>\n",
       "      <td>167.000000</td>\n",
       "      <td>0.996100</td>\n",
       "      <td>3.280000</td>\n",
       "      <td>0.550000</td>\n",
       "      <td>11.400000</td>\n",
       "      <td>6.000000</td>\n",
       "    </tr>\n",
       "    <tr>\n",
       "      <th>max</th>\n",
       "      <td>14.200000</td>\n",
       "      <td>1.100000</td>\n",
       "      <td>1.660000</td>\n",
       "      <td>65.800000</td>\n",
       "      <td>0.346000</td>\n",
       "      <td>289.000000</td>\n",
       "      <td>440.000000</td>\n",
       "      <td>1.038980</td>\n",
       "      <td>3.820000</td>\n",
       "      <td>1.080000</td>\n",
       "      <td>14.200000</td>\n",
       "      <td>9.000000</td>\n",
       "    </tr>\n",
       "  </tbody>\n",
       "</table>\n",
       "</div>"
      ],
      "text/plain": [
       "       fixed acidity  volatile acidity  citric acid  residual sugar  \\\n",
       "count    4898.000000       4898.000000  4898.000000     4898.000000   \n",
       "mean        6.854788          0.278241     0.334192        6.391415   \n",
       "std         0.843868          0.100795     0.121020        5.072058   \n",
       "min         3.800000          0.080000     0.000000        0.600000   \n",
       "25%         6.300000          0.210000     0.270000        1.700000   \n",
       "50%         6.800000          0.260000     0.320000        5.200000   \n",
       "75%         7.300000          0.320000     0.390000        9.900000   \n",
       "max        14.200000          1.100000     1.660000       65.800000   \n",
       "\n",
       "         chlorides  free sulfur dioxide  total sulfur dioxide      density  \\\n",
       "count  4898.000000          4898.000000           4898.000000  4898.000000   \n",
       "mean      0.045772            35.308085            138.360657     0.994027   \n",
       "std       0.021848            17.007137             42.498065     0.002991   \n",
       "min       0.009000             2.000000              9.000000     0.987110   \n",
       "25%       0.036000            23.000000            108.000000     0.991723   \n",
       "50%       0.043000            34.000000            134.000000     0.993740   \n",
       "75%       0.050000            46.000000            167.000000     0.996100   \n",
       "max       0.346000           289.000000            440.000000     1.038980   \n",
       "\n",
       "                pH    sulphates      alcohol      quality  \n",
       "count  4898.000000  4898.000000  4898.000000  4898.000000  \n",
       "mean      3.188267     0.489847    10.514267     5.877909  \n",
       "std       0.151001     0.114126     1.230621     0.885639  \n",
       "min       2.720000     0.220000     8.000000     3.000000  \n",
       "25%       3.090000     0.410000     9.500000     5.000000  \n",
       "50%       3.180000     0.470000    10.400000     6.000000  \n",
       "75%       3.280000     0.550000    11.400000     6.000000  \n",
       "max       3.820000     1.080000    14.200000     9.000000  "
      ]
     },
     "execution_count": 155,
     "metadata": {},
     "output_type": "execute_result"
    }
   ],
   "source": [
    "df.describe()"
   ]
  },
  {
   "cell_type": "markdown",
   "metadata": {},
   "source": [
    "## Train test splitting"
   ]
  },
  {
   "cell_type": "code",
   "execution_count": 11,
   "metadata": {},
   "outputs": [],
   "source": [
    "from sklearn.model_selection import train_test_split"
   ]
  },
  {
   "cell_type": "code",
   "execution_count": 12,
   "metadata": {},
   "outputs": [],
   "source": [
    "target = \"quality\""
   ]
  },
  {
   "cell_type": "code",
   "execution_count": 13,
   "metadata": {},
   "outputs": [],
   "source": [
    "# predictors\n",
    "X = df.drop(target, axis=1)\n",
    "# target\n",
    "y = df[target]"
   ]
  },
  {
   "cell_type": "code",
   "execution_count": 14,
   "metadata": {},
   "outputs": [],
   "source": [
    "X_train, X_test, y_train, y_test = train_test_split(X, y, test_size=0.2, random_state=666)"
   ]
  },
  {
   "cell_type": "code",
   "execution_count": 15,
   "metadata": {},
   "outputs": [
    {
     "data": {
      "text/plain": [
       "(3918, 11)"
      ]
     },
     "execution_count": 15,
     "metadata": {},
     "output_type": "execute_result"
    }
   ],
   "source": [
    "X_train.shape"
   ]
  },
  {
   "cell_type": "code",
   "execution_count": 16,
   "metadata": {},
   "outputs": [
    {
     "data": {
      "text/plain": [
       "(980, 11)"
      ]
     },
     "execution_count": 16,
     "metadata": {},
     "output_type": "execute_result"
    }
   ],
   "source": [
    "X_test.shape"
   ]
  },
  {
   "cell_type": "code",
   "execution_count": 17,
   "metadata": {},
   "outputs": [
    {
     "data": {
      "text/plain": [
       "(3918,)"
      ]
     },
     "execution_count": 17,
     "metadata": {},
     "output_type": "execute_result"
    }
   ],
   "source": [
    "y_train.shape"
   ]
  },
  {
   "cell_type": "code",
   "execution_count": 18,
   "metadata": {},
   "outputs": [
    {
     "data": {
      "text/plain": [
       "(980,)"
      ]
     },
     "execution_count": 18,
     "metadata": {},
     "output_type": "execute_result"
    }
   ],
   "source": [
    "y_test.shape"
   ]
  },
  {
   "cell_type": "markdown",
   "metadata": {},
   "source": [
    "## Models"
   ]
  },
  {
   "cell_type": "markdown",
   "metadata": {},
   "source": [
    "We will change the maximum depth of a tree to explore different models"
   ]
  },
  {
   "cell_type": "markdown",
   "metadata": {},
   "source": [
    "### Baseline model"
   ]
  },
  {
   "cell_type": "markdown",
   "metadata": {},
   "source": [
    "The baseline model is predicting the mean"
   ]
  },
  {
   "cell_type": "code",
   "execution_count": 20,
   "metadata": {},
   "outputs": [],
   "source": [
    "baseline = y_train.mean()"
   ]
  },
  {
   "cell_type": "code",
   "execution_count": 22,
   "metadata": {},
   "outputs": [
    {
     "data": {
      "text/plain": [
       "5.8894844308320575"
      ]
     },
     "execution_count": 22,
     "metadata": {},
     "output_type": "execute_result"
    }
   ],
   "source": [
    "baseline"
   ]
  },
  {
   "cell_type": "markdown",
   "metadata": {},
   "source": [
    "MSE can be manually computed"
   ]
  },
  {
   "cell_type": "markdown",
   "metadata": {},
   "source": [
    "Train error"
   ]
  },
  {
   "cell_type": "code",
   "execution_count": 23,
   "metadata": {},
   "outputs": [
    {
     "data": {
      "text/plain": [
       "0.7782406223967026"
      ]
     },
     "execution_count": 23,
     "metadata": {},
     "output_type": "execute_result"
    }
   ],
   "source": [
    "((y_train - baseline) ** 2).mean()"
   ]
  },
  {
   "cell_type": "markdown",
   "metadata": {},
   "source": [
    "Test error"
   ]
  },
  {
   "cell_type": "code",
   "execution_count": 167,
   "metadata": {},
   "outputs": [
    {
     "data": {
      "text/plain": [
       "0.8086727340637989"
      ]
     },
     "execution_count": 167,
     "metadata": {},
     "output_type": "execute_result"
    }
   ],
   "source": [
    "((y_test - baseline) ** 2).mean()"
   ]
  },
  {
   "cell_type": "markdown",
   "metadata": {},
   "source": [
    "### Simple tree (depth=1)"
   ]
  },
  {
   "cell_type": "code",
   "execution_count": 25,
   "metadata": {},
   "outputs": [],
   "source": [
    "from sklearn.tree import DecisionTreeRegressor"
   ]
  },
  {
   "cell_type": "code",
   "execution_count": 26,
   "metadata": {},
   "outputs": [],
   "source": [
    "model = DecisionTreeRegressor(max_depth=1)"
   ]
  },
  {
   "cell_type": "code",
   "execution_count": 27,
   "metadata": {},
   "outputs": [
    {
     "data": {
      "text/plain": [
       "DecisionTreeRegressor(max_depth=1)"
      ]
     },
     "execution_count": 27,
     "metadata": {},
     "output_type": "execute_result"
    }
   ],
   "source": [
    "model.fit(X_train, y_train)"
   ]
  },
  {
   "cell_type": "markdown",
   "metadata": {},
   "source": [
    "Train error"
   ]
  },
  {
   "cell_type": "code",
   "execution_count": 42,
   "metadata": {},
   "outputs": [
    {
     "data": {
      "text/plain": [
       "0.6511398839609709"
      ]
     },
     "execution_count": 42,
     "metadata": {},
     "output_type": "execute_result"
    }
   ],
   "source": [
    "mean_squared_error(\n",
    "    y_true=y_train,\n",
    "    y_pred=model.predict(X_train)\n",
    ")"
   ]
  },
  {
   "cell_type": "markdown",
   "metadata": {},
   "source": [
    "Test error"
   ]
  },
  {
   "cell_type": "code",
   "execution_count": 43,
   "metadata": {},
   "outputs": [
    {
     "data": {
      "text/plain": [
       "0.685559553685101"
      ]
     },
     "execution_count": 43,
     "metadata": {},
     "output_type": "execute_result"
    }
   ],
   "source": [
    "mean_squared_error(\n",
    "    y_true=y_test,\n",
    "    y_pred=model.predict(X_test)\n",
    ")"
   ]
  },
  {
   "cell_type": "code",
   "execution_count": 44,
   "metadata": {},
   "outputs": [],
   "source": [
    "from sklearn.tree import plot_tree"
   ]
  },
  {
   "cell_type": "code",
   "execution_count": 46,
   "metadata": {},
   "outputs": [
    {
     "data": {
      "text/html": [
       "<div>\n",
       "<style scoped>\n",
       "    .dataframe tbody tr th:only-of-type {\n",
       "        vertical-align: middle;\n",
       "    }\n",
       "\n",
       "    .dataframe tbody tr th {\n",
       "        vertical-align: top;\n",
       "    }\n",
       "\n",
       "    .dataframe thead th {\n",
       "        text-align: right;\n",
       "    }\n",
       "</style>\n",
       "<table border=\"1\" class=\"dataframe\">\n",
       "  <thead>\n",
       "    <tr style=\"text-align: right;\">\n",
       "      <th></th>\n",
       "      <th>fixed acidity</th>\n",
       "      <th>volatile acidity</th>\n",
       "      <th>citric acid</th>\n",
       "      <th>residual sugar</th>\n",
       "      <th>chlorides</th>\n",
       "      <th>free sulfur dioxide</th>\n",
       "      <th>total sulfur dioxide</th>\n",
       "      <th>density</th>\n",
       "      <th>pH</th>\n",
       "      <th>sulphates</th>\n",
       "      <th>alcohol</th>\n",
       "      <th>quality</th>\n",
       "    </tr>\n",
       "  </thead>\n",
       "  <tbody>\n",
       "    <tr>\n",
       "      <th>0</th>\n",
       "      <td>7.0</td>\n",
       "      <td>0.27</td>\n",
       "      <td>0.36</td>\n",
       "      <td>20.7</td>\n",
       "      <td>0.045</td>\n",
       "      <td>45.0</td>\n",
       "      <td>170.0</td>\n",
       "      <td>1.0010</td>\n",
       "      <td>3.00</td>\n",
       "      <td>0.45</td>\n",
       "      <td>8.8</td>\n",
       "      <td>6</td>\n",
       "    </tr>\n",
       "    <tr>\n",
       "      <th>1</th>\n",
       "      <td>6.3</td>\n",
       "      <td>0.30</td>\n",
       "      <td>0.34</td>\n",
       "      <td>1.6</td>\n",
       "      <td>0.049</td>\n",
       "      <td>14.0</td>\n",
       "      <td>132.0</td>\n",
       "      <td>0.9940</td>\n",
       "      <td>3.30</td>\n",
       "      <td>0.49</td>\n",
       "      <td>9.5</td>\n",
       "      <td>6</td>\n",
       "    </tr>\n",
       "    <tr>\n",
       "      <th>2</th>\n",
       "      <td>8.1</td>\n",
       "      <td>0.28</td>\n",
       "      <td>0.40</td>\n",
       "      <td>6.9</td>\n",
       "      <td>0.050</td>\n",
       "      <td>30.0</td>\n",
       "      <td>97.0</td>\n",
       "      <td>0.9951</td>\n",
       "      <td>3.26</td>\n",
       "      <td>0.44</td>\n",
       "      <td>10.1</td>\n",
       "      <td>6</td>\n",
       "    </tr>\n",
       "    <tr>\n",
       "      <th>3</th>\n",
       "      <td>7.2</td>\n",
       "      <td>0.23</td>\n",
       "      <td>0.32</td>\n",
       "      <td>8.5</td>\n",
       "      <td>0.058</td>\n",
       "      <td>47.0</td>\n",
       "      <td>186.0</td>\n",
       "      <td>0.9956</td>\n",
       "      <td>3.19</td>\n",
       "      <td>0.40</td>\n",
       "      <td>9.9</td>\n",
       "      <td>6</td>\n",
       "    </tr>\n",
       "    <tr>\n",
       "      <th>4</th>\n",
       "      <td>7.2</td>\n",
       "      <td>0.23</td>\n",
       "      <td>0.32</td>\n",
       "      <td>8.5</td>\n",
       "      <td>0.058</td>\n",
       "      <td>47.0</td>\n",
       "      <td>186.0</td>\n",
       "      <td>0.9956</td>\n",
       "      <td>3.19</td>\n",
       "      <td>0.40</td>\n",
       "      <td>9.9</td>\n",
       "      <td>6</td>\n",
       "    </tr>\n",
       "  </tbody>\n",
       "</table>\n",
       "</div>"
      ],
      "text/plain": [
       "   fixed acidity  volatile acidity  citric acid  residual sugar  chlorides  \\\n",
       "0            7.0              0.27         0.36            20.7      0.045   \n",
       "1            6.3              0.30         0.34             1.6      0.049   \n",
       "2            8.1              0.28         0.40             6.9      0.050   \n",
       "3            7.2              0.23         0.32             8.5      0.058   \n",
       "4            7.2              0.23         0.32             8.5      0.058   \n",
       "\n",
       "   free sulfur dioxide  total sulfur dioxide  density    pH  sulphates  \\\n",
       "0                 45.0                 170.0   1.0010  3.00       0.45   \n",
       "1                 14.0                 132.0   0.9940  3.30       0.49   \n",
       "2                 30.0                  97.0   0.9951  3.26       0.44   \n",
       "3                 47.0                 186.0   0.9956  3.19       0.40   \n",
       "4                 47.0                 186.0   0.9956  3.19       0.40   \n",
       "\n",
       "   alcohol  quality  \n",
       "0      8.8        6  \n",
       "1      9.5        6  \n",
       "2     10.1        6  \n",
       "3      9.9        6  \n",
       "4      9.9        6  "
      ]
     },
     "execution_count": 46,
     "metadata": {},
     "output_type": "execute_result"
    }
   ],
   "source": [
    "df.head()"
   ]
  },
  {
   "cell_type": "code",
   "execution_count": 45,
   "metadata": {},
   "outputs": [
    {
     "data": {
      "image/png": "[encoded data removed]",
      "text/plain": [
       "<Figure size 720x432 with 1 Axes>"
      ]
     },
     "metadata": {
      "needs_background": "light"
     },
     "output_type": "display_data"
    }
   ],
   "source": [
    "fig = plt.figure(figsize=(10, 6))\n",
    "plot_tree(model, feature_names=df.columns[:-1], filled=True);"
   ]
  },
  {
   "cell_type": "markdown",
   "metadata": {},
   "source": [
    "Some important questions for deep understanding:\n",
    " * while training, why did the DecisionTree choose `alcohol` and $10.85$ ?\n",
    " * what is the meaning of `mse` ?\n",
    " * what is the meaning of `value` ?\n",
    " "
   ]
  },
  {
   "cell_type": "markdown",
   "metadata": {},
   "source": [
    " * while testing (predicting a new instance), how does the tree operate?"
   ]
  },
  {
   "cell_type": "markdown",
   "metadata": {},
   "source": [
    "### Bigger tree (depth=3)"
   ]
  },
  {
   "cell_type": "code",
   "execution_count": 51,
   "metadata": {},
   "outputs": [],
   "source": [
    "model = DecisionTreeRegressor(max_depth=3)"
   ]
  },
  {
   "cell_type": "code",
   "execution_count": 52,
   "metadata": {},
   "outputs": [
    {
     "data": {
      "text/plain": [
       "DecisionTreeRegressor(max_depth=3)"
      ]
     },
     "execution_count": 52,
     "metadata": {},
     "output_type": "execute_result"
    }
   ],
   "source": [
    "model.fit(X_train, y_train)"
   ]
  },
  {
   "cell_type": "markdown",
   "metadata": {},
   "source": [
    "Train error"
   ]
  },
  {
   "cell_type": "code",
   "execution_count": 53,
   "metadata": {},
   "outputs": [
    {
     "data": {
      "text/plain": [
       "0.5598058565365571"
      ]
     },
     "execution_count": 53,
     "metadata": {},
     "output_type": "execute_result"
    }
   ],
   "source": [
    "mean_squared_error(\n",
    "    y_true=y_train,\n",
    "    y_pred=model.predict(X_train)\n",
    ")"
   ]
  },
  {
   "cell_type": "markdown",
   "metadata": {},
   "source": [
    "Test error"
   ]
  },
  {
   "cell_type": "code",
   "execution_count": 54,
   "metadata": {},
   "outputs": [
    {
     "data": {
      "text/plain": [
       "0.5831944046394488"
      ]
     },
     "execution_count": 54,
     "metadata": {},
     "output_type": "execute_result"
    }
   ],
   "source": [
    "mean_squared_error(\n",
    "    y_true=y_test,\n",
    "    y_pred=model.predict(X_test)\n",
    ")"
   ]
  },
  {
   "cell_type": "code",
   "execution_count": 56,
   "metadata": {},
   "outputs": [
    {
     "data": {
      "text/plain": [
       "fixed acidity             6.2000\n",
       "volatile acidity          0.3200\n",
       "citric acid               0.1600\n",
       "residual sugar            7.0000\n",
       "chlorides                 0.0450\n",
       "free sulfur dioxide      30.0000\n",
       "total sulfur dioxide    136.0000\n",
       "density                   0.9949\n",
       "pH                        3.1800\n",
       "sulphates                 0.4700\n",
       "alcohol                   9.6000\n",
       "quality                   6.0000\n",
       "Name: 6, dtype: float64"
      ]
     },
     "execution_count": 56,
     "metadata": {},
     "output_type": "execute_result"
    }
   ],
   "source": [
    "df.iloc[6]"
   ]
  },
  {
   "cell_type": "code",
   "execution_count": 55,
   "metadata": {},
   "outputs": [
    {
     "data": {
      "image/png": "[encoded data removed]",
      "text/plain": [
       "<Figure size 1800x1440 with 1 Axes>"
      ]
     },
     "metadata": {
      "needs_background": "light"
     },
     "output_type": "display_data"
    }
   ],
   "source": [
    "fig = plt.figure(figsize=(25,20))\n",
    "plot_tree(model, feature_names=df.columns[:-1], filled=True);"
   ]
  },
  {
   "cell_type": "markdown",
   "metadata": {},
   "source": [
    "### Huge tree (depth=20)"
   ]
  },
  {
   "cell_type": "code",
   "execution_count": 57,
   "metadata": {},
   "outputs": [],
   "source": [
    "model = DecisionTreeRegressor(max_depth=20)"
   ]
  },
  {
   "cell_type": "code",
   "execution_count": 58,
   "metadata": {},
   "outputs": [
    {
     "data": {
      "text/plain": [
       "DecisionTreeRegressor(max_depth=20)"
      ]
     },
     "execution_count": 58,
     "metadata": {},
     "output_type": "execute_result"
    }
   ],
   "source": [
    "model.fit(X_train, y_train)"
   ]
  },
  {
   "cell_type": "markdown",
   "metadata": {},
   "source": [
    "Train error"
   ]
  },
  {
   "cell_type": "code",
   "execution_count": 59,
   "metadata": {},
   "outputs": [
    {
     "data": {
      "text/plain": [
       "0.005237513698750157"
      ]
     },
     "execution_count": 59,
     "metadata": {},
     "output_type": "execute_result"
    }
   ],
   "source": [
    "mean_squared_error(\n",
    "    y_true=y_train,\n",
    "    y_pred=model.predict(X_train)\n",
    ")"
   ]
  },
  {
   "cell_type": "markdown",
   "metadata": {},
   "source": [
    "Test error"
   ]
  },
  {
   "cell_type": "code",
   "execution_count": 60,
   "metadata": {},
   "outputs": [
    {
     "data": {
      "text/plain": [
       "0.7063335027169083"
      ]
     },
     "execution_count": 60,
     "metadata": {},
     "output_type": "execute_result"
    }
   ],
   "source": [
    "mean_squared_error(\n",
    "    y_true=y_test,\n",
    "    y_pred=model.predict(X_test)\n",
    ")"
   ]
  },
  {
   "cell_type": "markdown",
   "metadata": {},
   "source": [
    "**WHAT HAPPENED??**"
   ]
  },
  {
   "cell_type": "code",
   "execution_count": null,
   "metadata": {},
   "outputs": [],
   "source": [
    "fig = plt.figure(figsize=(25,20))\n",
    "plot_tree(model, feature_names=df.columns[:-1], filled=True);"
   ]
  },
  {
   "cell_type": "markdown",
   "metadata": {},
   "source": [
    "### Overfitting"
   ]
  },
  {
   "cell_type": "markdown",
   "metadata": {},
   "source": [
    "Lets see how training and test error changes with `max_depth`"
   ]
  },
  {
   "cell_type": "code",
   "execution_count": 62,
   "metadata": {},
   "outputs": [],
   "source": [
    "results = []\n",
    "\n",
    "for depth in range(1, 20):\n",
    "    model = DecisionTreeRegressor(max_depth=depth)\n",
    "    model.fit(X_train, y_train)\n",
    "    \n",
    "    result = {\n",
    "        \"depth\": depth,\n",
    "        \"train_error\": mean_squared_error(y_train, model.predict(X_train)),\n",
    "        \"test_error\": mean_squared_error(y_test, model.predict(X_test))\n",
    "    }\n",
    "    \n",
    "    results.append(result)"
   ]
  },
  {
   "cell_type": "code",
   "execution_count": 63,
   "metadata": {},
   "outputs": [],
   "source": [
    "results_df = pd.DataFrame(results)"
   ]
  },
  {
   "cell_type": "code",
   "execution_count": 64,
   "metadata": {},
   "outputs": [
    {
     "data": {
      "text/html": [
       "<div>\n",
       "<style scoped>\n",
       "    .dataframe tbody tr th:only-of-type {\n",
       "        vertical-align: middle;\n",
       "    }\n",
       "\n",
       "    .dataframe tbody tr th {\n",
       "        vertical-align: top;\n",
       "    }\n",
       "\n",
       "    .dataframe thead th {\n",
       "        text-align: right;\n",
       "    }\n",
       "</style>\n",
       "<table border=\"1\" class=\"dataframe\">\n",
       "  <thead>\n",
       "    <tr style=\"text-align: right;\">\n",
       "      <th></th>\n",
       "      <th>depth</th>\n",
       "      <th>train_error</th>\n",
       "      <th>test_error</th>\n",
       "    </tr>\n",
       "  </thead>\n",
       "  <tbody>\n",
       "    <tr>\n",
       "      <th>0</th>\n",
       "      <td>1</td>\n",
       "      <td>0.651140</td>\n",
       "      <td>0.685560</td>\n",
       "    </tr>\n",
       "    <tr>\n",
       "      <th>1</th>\n",
       "      <td>2</td>\n",
       "      <td>0.590774</td>\n",
       "      <td>0.615895</td>\n",
       "    </tr>\n",
       "    <tr>\n",
       "      <th>2</th>\n",
       "      <td>3</td>\n",
       "      <td>0.559806</td>\n",
       "      <td>0.583194</td>\n",
       "    </tr>\n",
       "    <tr>\n",
       "      <th>3</th>\n",
       "      <td>4</td>\n",
       "      <td>0.526841</td>\n",
       "      <td>0.552649</td>\n",
       "    </tr>\n",
       "    <tr>\n",
       "      <th>4</th>\n",
       "      <td>5</td>\n",
       "      <td>0.491170</td>\n",
       "      <td>0.550328</td>\n",
       "    </tr>\n",
       "    <tr>\n",
       "      <th>5</th>\n",
       "      <td>6</td>\n",
       "      <td>0.452954</td>\n",
       "      <td>0.564348</td>\n",
       "    </tr>\n",
       "    <tr>\n",
       "      <th>6</th>\n",
       "      <td>7</td>\n",
       "      <td>0.413359</td>\n",
       "      <td>0.554860</td>\n",
       "    </tr>\n",
       "    <tr>\n",
       "      <th>7</th>\n",
       "      <td>8</td>\n",
       "      <td>0.373803</td>\n",
       "      <td>0.580703</td>\n",
       "    </tr>\n",
       "    <tr>\n",
       "      <th>8</th>\n",
       "      <td>9</td>\n",
       "      <td>0.328421</td>\n",
       "      <td>0.590542</td>\n",
       "    </tr>\n",
       "    <tr>\n",
       "      <th>9</th>\n",
       "      <td>10</td>\n",
       "      <td>0.277939</td>\n",
       "      <td>0.600465</td>\n",
       "    </tr>\n",
       "    <tr>\n",
       "      <th>10</th>\n",
       "      <td>11</td>\n",
       "      <td>0.225288</td>\n",
       "      <td>0.617463</td>\n",
       "    </tr>\n",
       "    <tr>\n",
       "      <th>11</th>\n",
       "      <td>12</td>\n",
       "      <td>0.175724</td>\n",
       "      <td>0.646753</td>\n",
       "    </tr>\n",
       "    <tr>\n",
       "      <th>12</th>\n",
       "      <td>13</td>\n",
       "      <td>0.131355</td>\n",
       "      <td>0.670599</td>\n",
       "    </tr>\n",
       "    <tr>\n",
       "      <th>13</th>\n",
       "      <td>14</td>\n",
       "      <td>0.094507</td>\n",
       "      <td>0.651716</td>\n",
       "    </tr>\n",
       "    <tr>\n",
       "      <th>14</th>\n",
       "      <td>15</td>\n",
       "      <td>0.066956</td>\n",
       "      <td>0.677538</td>\n",
       "    </tr>\n",
       "    <tr>\n",
       "      <th>15</th>\n",
       "      <td>16</td>\n",
       "      <td>0.043106</td>\n",
       "      <td>0.681937</td>\n",
       "    </tr>\n",
       "    <tr>\n",
       "      <th>16</th>\n",
       "      <td>17</td>\n",
       "      <td>0.027465</td>\n",
       "      <td>0.726280</td>\n",
       "    </tr>\n",
       "    <tr>\n",
       "      <th>17</th>\n",
       "      <td>18</td>\n",
       "      <td>0.016657</td>\n",
       "      <td>0.713682</td>\n",
       "    </tr>\n",
       "    <tr>\n",
       "      <th>18</th>\n",
       "      <td>19</td>\n",
       "      <td>0.009110</td>\n",
       "      <td>0.677344</td>\n",
       "    </tr>\n",
       "  </tbody>\n",
       "</table>\n",
       "</div>"
      ],
      "text/plain": [
       "    depth  train_error  test_error\n",
       "0       1     0.651140    0.685560\n",
       "1       2     0.590774    0.615895\n",
       "2       3     0.559806    0.583194\n",
       "3       4     0.526841    0.552649\n",
       "4       5     0.491170    0.550328\n",
       "5       6     0.452954    0.564348\n",
       "6       7     0.413359    0.554860\n",
       "7       8     0.373803    0.580703\n",
       "8       9     0.328421    0.590542\n",
       "9      10     0.277939    0.600465\n",
       "10     11     0.225288    0.617463\n",
       "11     12     0.175724    0.646753\n",
       "12     13     0.131355    0.670599\n",
       "13     14     0.094507    0.651716\n",
       "14     15     0.066956    0.677538\n",
       "15     16     0.043106    0.681937\n",
       "16     17     0.027465    0.726280\n",
       "17     18     0.016657    0.713682\n",
       "18     19     0.009110    0.677344"
      ]
     },
     "execution_count": 64,
     "metadata": {},
     "output_type": "execute_result"
    }
   ],
   "source": [
    "results_df"
   ]
  },
  {
   "cell_type": "code",
   "execution_count": 257,
   "metadata": {},
   "outputs": [
    {
     "data": {
      "text/plain": [
       "<matplotlib.legend.Legend at 0x7f4a504f5f70>"
      ]
     },
     "execution_count": 257,
     "metadata": {},
     "output_type": "execute_result"
    },
    {
     "data": {
      "image/png": "[encoded data removed]",
      "text/plain": [
       "<Figure size 720x720 with 1 Axes>"
      ]
     },
     "metadata": {
      "needs_background": "light"
     },
     "output_type": "display_data"
    }
   ],
   "source": [
    "fig = plt.figure(figsize=(10, 10))\n",
    "plt.plot(results_df.depth, results_df.train_error, label=\"train error\")\n",
    "plt.plot(results_df.depth, results_df.test_error, label=\"test error\")\n",
    "plt.legend()"
   ]
  },
  {
   "cell_type": "markdown",
   "metadata": {},
   "source": [
    "We can see how, when `max_depth` increases above ~6:\n",
    " * training error decresases (more precise on training samples)\n",
    " * test error increases (model is memorizing training set and not generalizing very well)"
   ]
  },
  {
   "cell_type": "markdown",
   "metadata": {},
   "source": [
    "This is the famous overfitting! And this is why **test error** is the one you should look at!"
   ]
  },
  {
   "cell_type": "markdown",
   "metadata": {},
   "source": [
    "### Other hyperparameters"
   ]
  },
  {
   "cell_type": "code",
   "execution_count": 65,
   "metadata": {},
   "outputs": [],
   "source": [
    "DecisionTreeRegressor??"
   ]
  },
  {
   "cell_type": "markdown",
   "metadata": {},
   "source": [
    "`min_samples_split`: the minimum number of samples required to split an internal node  "
   ]
  },
  {
   "cell_type": "markdown",
   "metadata": {},
   "source": [
    "`max_features`: the number of features to consider when looking for the best split  \n",
    "Why would you not consider all the features to find a Decision Tree?"
   ]
  },
  {
   "cell_type": "code",
   "execution_count": 66,
   "metadata": {},
   "outputs": [],
   "source": [
    "model = DecisionTreeRegressor(max_depth=5, min_samples_split=100, max_features=8)"
   ]
  },
  {
   "cell_type": "code",
   "execution_count": 67,
   "metadata": {},
   "outputs": [
    {
     "data": {
      "text/plain": [
       "DecisionTreeRegressor(max_depth=5, max_features=8, min_samples_split=100)"
      ]
     },
     "execution_count": 67,
     "metadata": {},
     "output_type": "execute_result"
    }
   ],
   "source": [
    "model.fit(X_train, y_train)"
   ]
  },
  {
   "cell_type": "code",
   "execution_count": 68,
   "metadata": {},
   "outputs": [
    {
     "name": "stdout",
     "output_type": "stream",
     "text": [
      "train error: 0.5080783714486715\n",
      "test error: 0.5569004700669884\n"
     ]
    }
   ],
   "source": [
    "print(f\"train error: {mean_squared_error(y_train, model.predict(X_train))}\")\n",
    "print(f\"test error: {mean_squared_error(y_test, model.predict(X_test))}\")"
   ]
  },
  {
   "cell_type": "markdown",
   "metadata": {},
   "source": [
    "### Grid search"
   ]
  },
  {
   "cell_type": "markdown",
   "metadata": {},
   "source": [
    "Lets find the **best** combination of hyperparameters, i.e. the ones yielding the least test error"
   ]
  },
  {
   "cell_type": "code",
   "execution_count": 70,
   "metadata": {},
   "outputs": [],
   "source": [
    "from sklearn.model_selection import GridSearchCV"
   ]
  },
  {
   "cell_type": "code",
   "execution_count": 71,
   "metadata": {},
   "outputs": [],
   "source": [
    "gs = GridSearchCV(\n",
    "    estimator=DecisionTreeRegressor(),\n",
    "    param_grid={\n",
    "        \"max_depth\": [2, 4, 6, 8, 10, 12],\n",
    "        \"min_samples_split\": [10, 50, 100, 200, 300, 500, 1000],\n",
    "        \"max_features\": [5, 7, 9, 11]\n",
    "    },\n",
    "    cv=5,\n",
    "    verbose=3,\n",
    "    scoring=\"neg_mean_squared_error\",\n",
    "    return_train_score=True\n",
    ")"
   ]
  },
  {
   "cell_type": "code",
   "execution_count": 72,
   "metadata": {},
   "outputs": [
    {
     "name": "stdout",
     "output_type": "stream",
     "text": [
      "Fitting 5 folds for each of 168 candidates, totalling 840 fits\n",
      "[CV] max_depth=2, max_features=5, min_samples_split=10 ...............\n",
      "[CV]  max_depth=2, max_features=5, min_samples_split=10, score=(train=-0.628, test=-0.727), total=   0.0s\n",
      "[CV] max_depth=2, max_features=5, min_samples_split=10 ...............\n",
      "[CV]  max_depth=2, max_features=5, min_samples_split=10, score=(train=-0.614, test=-0.623), total=   0.0s\n",
      "[CV] max_depth=2, max_features=5, min_samples_split=10 ...............\n",
      "[CV]  max_depth=2, max_features=5, min_samples_split=10, score=(train=-0.648, test=-0.695), total=   0.0s\n",
      "[CV] max_depth=2, max_features=5, min_samples_split=10 ...............\n",
      "[CV]  max_depth=2, max_features=5, min_samples_split=10, score=(train=-0.630, test=-0.636), total=   0.0s\n",
      "[CV] max_depth=2, max_features=5, min_samples_split=10 ...............\n",
      "[CV]  max_depth=2, max_features=5, min_samples_split=10, score=(train=-0.620, test=-0.618), total=   0.0s\n",
      "[CV] max_depth=2, max_features=5, min_samples_split=50 ...............\n",
      "[CV]  max_depth=2, max_features=5, min_samples_split=50, score=(train=-0.611, test=-0.635), total=   0.0s\n",
      "[CV] max_depth=2, max_features=5, min_samples_split=50 ...............\n"
     ]
    },
    {
     "name": "stderr",
     "output_type": "stream",
     "text": [
      "[Parallel(n_jobs=1)]: Using backend SequentialBackend with 1 concurrent workers.\n",
      "[Parallel(n_jobs=1)]: Done   1 out of   1 | elapsed:    0.0s remaining:    0.0s\n",
      "[Parallel(n_jobs=1)]: Done   2 out of   2 | elapsed:    0.1s remaining:    0.0s\n"
     ]
    },
    {
     "name": "stdout",
     "output_type": "stream",
     "text": [
      "[CV]  max_depth=2, max_features=5, min_samples_split=50, score=(train=-0.620, test=-0.618), total=   0.0s\n",
      "[CV] max_depth=2, max_features=5, min_samples_split=50 ...............\n",
      "[CV]  max_depth=2, max_features=5, min_samples_split=50, score=(train=-0.663, test=-0.698), total=   0.0s\n",
      "[CV] max_depth=2, max_features=5, min_samples_split=50 ...............\n",
      "[CV]  max_depth=2, max_features=5, min_samples_split=50, score=(train=-0.597, test=-0.587), total=   0.0s\n",
      "[CV] max_depth=2, max_features=5, min_samples_split=50 ...............\n",
      "[CV]  max_depth=2, max_features=5, min_samples_split=50, score=(train=-0.633, test=-0.626), total=   0.0s\n",
      "[CV] max_depth=2, max_features=5, min_samples_split=100 ..............\n",
      "[CV]  max_depth=2, max_features=5, min_samples_split=100, score=(train=-0.586, test=-0.612), total=   0.0s\n",
      "[CV] max_depth=2, max_features=5, min_samples_split=100 ..............\n",
      "[CV]  max_depth=2, max_features=5, min_samples_split=100, score=(train=-0.658, test=-0.654), total=   0.0s\n",
      "[CV] max_depth=2, max_features=5, min_samples_split=100 ..............\n",
      "[CV]  max_depth=2, max_features=5, min_samples_split=100, score=(train=-0.648, test=-0.696), total=   0.0s\n",
      "[CV] max_depth=2, max_features=5, min_samples_split=100 ..............\n",
      "[CV]  max_depth=2, max_features=5, min_samples_split=100, score=(train=-0.633, test=-0.674), total=   0.0s\n",
      "[CV] max_depth=2, max_features=5, min_samples_split=100 ..............\n",
      "[CV]  max_depth=2, max_features=5, min_samples_split=100, score=(train=-0.641, test=-0.642), total=   0.0s\n",
      "[CV] max_depth=2, max_features=5, min_samples_split=200 ..............\n",
      "[CV]  max_depth=2, max_features=5, min_samples_split=200, score=(train=-0.596, test=-0.633), total=   0.0s\n",
      "[CV] max_depth=2, max_features=5, min_samples_split=200 ..............\n",
      "[CV]  max_depth=2, max_features=5, min_samples_split=200, score=(train=-0.614, test=-0.623), total=   0.0s\n",
      "[CV] max_depth=2, max_features=5, min_samples_split=200 ..............\n",
      "[CV]  max_depth=2, max_features=5, min_samples_split=200, score=(train=-0.658, test=-0.711), total=   0.0s\n",
      "[CV] max_depth=2, max_features=5, min_samples_split=200 ..............\n",
      "[CV]  max_depth=2, max_features=5, min_samples_split=200, score=(train=-0.603, test=-0.605), total=   0.0s\n",
      "[CV] max_depth=2, max_features=5, min_samples_split=200 ..............\n",
      "[CV]  max_depth=2, max_features=5, min_samples_split=200, score=(train=-0.620, test=-0.618), total=   0.0s\n",
      "[CV] max_depth=2, max_features=5, min_samples_split=300 ..............\n",
      "[CV]  max_depth=2, max_features=5, min_samples_split=300, score=(train=-0.613, test=-0.645), total=   0.0s\n",
      "[CV] max_depth=2, max_features=5, min_samples_split=300 ..............\n",
      "[CV]  max_depth=2, max_features=5, min_samples_split=300, score=(train=-0.620, test=-0.618), total=   0.0s\n",
      "[CV] max_depth=2, max_features=5, min_samples_split=300 ..............\n",
      "[CV]  max_depth=2, max_features=5, min_samples_split=300, score=(train=-0.632, test=-0.671), total=   0.0s\n",
      "[CV] max_depth=2, max_features=5, min_samples_split=300 ..............\n",
      "[CV]  max_depth=2, max_features=5, min_samples_split=300, score=(train=-0.594, test=-0.583), total=   0.0s\n",
      "[CV] max_depth=2, max_features=5, min_samples_split=300 ..............\n",
      "[CV]  max_depth=2, max_features=5, min_samples_split=300, score=(train=-0.646, test=-0.611), total=   0.0s\n",
      "[CV] max_depth=2, max_features=5, min_samples_split=500 ..............\n",
      "[CV]  max_depth=2, max_features=5, min_samples_split=500, score=(train=-0.596, test=-0.630), total=   0.0s\n",
      "[CV] max_depth=2, max_features=5, min_samples_split=500 ..............\n",
      "[CV]  max_depth=2, max_features=5, min_samples_split=500, score=(train=-0.628, test=-0.623), total=   0.0s\n",
      "[CV] max_depth=2, max_features=5, min_samples_split=500 ..............\n",
      "[CV]  max_depth=2, max_features=5, min_samples_split=500, score=(train=-0.586, test=-0.614), total=   0.0s\n",
      "[CV] max_depth=2, max_features=5, min_samples_split=500 ..............\n",
      "[CV]  max_depth=2, max_features=5, min_samples_split=500, score=(train=-0.648, test=-0.622), total=   0.0s\n",
      "[CV] max_depth=2, max_features=5, min_samples_split=500 ..............\n",
      "[CV]  max_depth=2, max_features=5, min_samples_split=500, score=(train=-0.655, test=-0.610), total=   0.0s\n",
      "[CV] max_depth=2, max_features=5, min_samples_split=1000 .............\n",
      "[CV]  max_depth=2, max_features=5, min_samples_split=1000, score=(train=-0.720, test=-0.752), total=   0.0s\n",
      "[CV] max_depth=2, max_features=5, min_samples_split=1000 .............\n",
      "[CV]  max_depth=2, max_features=5, min_samples_split=1000, score=(train=-0.687, test=-0.668), total=   0.0s\n",
      "[CV] max_depth=2, max_features=5, min_samples_split=1000 .............\n",
      "[CV]  max_depth=2, max_features=5, min_samples_split=1000, score=(train=-0.589, test=-0.620), total=   0.0s\n",
      "[CV] max_depth=2, max_features=5, min_samples_split=1000 .............\n",
      "[CV]  max_depth=2, max_features=5, min_samples_split=1000, score=(train=-0.630, test=-0.663), total=   0.0s\n",
      "[CV] max_depth=2, max_features=5, min_samples_split=1000 .............\n",
      "[CV]  max_depth=2, max_features=5, min_samples_split=1000, score=(train=-0.620, test=-0.618), total=   0.0s\n",
      "[CV] max_depth=2, max_features=7, min_samples_split=10 ...............\n",
      "[CV]  max_depth=2, max_features=7, min_samples_split=10, score=(train=-0.642, test=-0.727), total=   0.0s\n",
      "[CV] max_depth=2, max_features=7, min_samples_split=10 ...............\n",
      "[CV]  max_depth=2, max_features=7, min_samples_split=10, score=(train=-0.618, test=-0.624), total=   0.0s\n",
      "[CV] max_depth=2, max_features=7, min_samples_split=10 ...............\n",
      "[CV]  max_depth=2, max_features=7, min_samples_split=10, score=(train=-0.586, test=-0.614), total=   0.0s\n",
      "[CV] max_depth=2, max_features=7, min_samples_split=10 ...............\n",
      "[CV]  max_depth=2, max_features=7, min_samples_split=10, score=(train=-0.630, test=-0.663), total=   0.0s\n",
      "[CV] max_depth=2, max_features=7, min_samples_split=10 ...............\n",
      "[CV]  max_depth=2, max_features=7, min_samples_split=10, score=(train=-0.645, test=-0.636), total=   0.0s\n",
      "[CV] max_depth=2, max_features=7, min_samples_split=50 ...............\n",
      "[CV]  max_depth=2, max_features=7, min_samples_split=50, score=(train=-0.586, test=-0.612), total=   0.0s\n",
      "[CV] max_depth=2, max_features=7, min_samples_split=50 ...............\n",
      "[CV]  max_depth=2, max_features=7, min_samples_split=50, score=(train=-0.589, test=-0.597), total=   0.0s\n",
      "[CV] max_depth=2, max_features=7, min_samples_split=50 ...............\n",
      "[CV]  max_depth=2, max_features=7, min_samples_split=50, score=(train=-0.637, test=-0.680), total=   0.0s\n",
      "[CV] max_depth=2, max_features=7, min_samples_split=50 ...............\n",
      "[CV]  max_depth=2, max_features=7, min_samples_split=50, score=(train=-0.619, test=-0.611), total=   0.0s\n",
      "[CV] max_depth=2, max_features=7, min_samples_split=50 ...............\n",
      "[CV]  max_depth=2, max_features=7, min_samples_split=50, score=(train=-0.651, test=-0.633), total=   0.0s\n",
      "[CV] max_depth=2, max_features=7, min_samples_split=100 ..............\n",
      "[CV]  max_depth=2, max_features=7, min_samples_split=100, score=(train=-0.648, test=-0.673), total=   0.0s\n",
      "[CV] max_depth=2, max_features=7, min_samples_split=100 ..............\n",
      "[CV]  max_depth=2, max_features=7, min_samples_split=100, score=(train=-0.589, test=-0.597), total=   0.0s\n",
      "[CV] max_depth=2, max_features=7, min_samples_split=100 ..............\n",
      "[CV]  max_depth=2, max_features=7, min_samples_split=100, score=(train=-0.648, test=-0.702), total=   0.0s\n",
      "[CV] max_depth=2, max_features=7, min_samples_split=100 ..............\n",
      "[CV]  max_depth=2, max_features=7, min_samples_split=100, score=(train=-0.648, test=-0.622), total=   0.0s\n",
      "[CV] max_depth=2, max_features=7, min_samples_split=100 ..............\n",
      "[CV]  max_depth=2, max_features=7, min_samples_split=100, score=(train=-0.655, test=-0.610), total=   0.0s\n",
      "[CV] max_depth=2, max_features=7, min_samples_split=200 ..............\n",
      "[CV]  max_depth=2, max_features=7, min_samples_split=200, score=(train=-0.586, test=-0.612), total=   0.0s\n",
      "[CV] max_depth=2, max_features=7, min_samples_split=200 ..............\n",
      "[CV]  max_depth=2, max_features=7, min_samples_split=200, score=(train=-0.645, test=-0.643), total=   0.0s\n",
      "[CV] max_depth=2, max_features=7, min_samples_split=200 ..............\n",
      "[CV]  max_depth=2, max_features=7, min_samples_split=200, score=(train=-0.586, test=-0.614), total=   0.0s\n",
      "[CV] max_depth=2, max_features=7, min_samples_split=200 ..............\n",
      "[CV]  max_depth=2, max_features=7, min_samples_split=200, score=(train=-0.622, test=-0.616), total=   0.0s\n",
      "[CV] max_depth=2, max_features=7, min_samples_split=200 ..............\n",
      "[CV]  max_depth=2, max_features=7, min_samples_split=200, score=(train=-0.595, test=-0.579), total=   0.0s\n",
      "[CV] max_depth=2, max_features=7, min_samples_split=300 ..............\n",
      "[CV]  max_depth=2, max_features=7, min_samples_split=300, score=(train=-0.611, test=-0.635), total=   0.0s\n",
      "[CV] max_depth=2, max_features=7, min_samples_split=300 ..............\n",
      "[CV]  max_depth=2, max_features=7, min_samples_split=300, score=(train=-0.645, test=-0.643), total=   0.0s\n",
      "[CV] max_depth=2, max_features=7, min_samples_split=300 ..............\n",
      "[CV]  max_depth=2, max_features=7, min_samples_split=300, score=(train=-0.614, test=-0.622), total=   0.0s\n",
      "[CV] max_depth=2, max_features=7, min_samples_split=300 ..............\n",
      "[CV]  max_depth=2, max_features=7, min_samples_split=300, score=(train=-0.645, test=-0.637), total=   0.0s\n",
      "[CV] max_depth=2, max_features=7, min_samples_split=300 ..............\n"
     ]
    },
    {
     "name": "stdout",
     "output_type": "stream",
     "text": [
      "[CV]  max_depth=2, max_features=7, min_samples_split=300, score=(train=-0.649, test=-0.605), total=   0.0s\n",
      "[CV] max_depth=2, max_features=7, min_samples_split=500 ..............\n",
      "[CV]  max_depth=2, max_features=7, min_samples_split=500, score=(train=-0.613, test=-0.645), total=   0.0s\n",
      "[CV] max_depth=2, max_features=7, min_samples_split=500 ..............\n",
      "[CV]  max_depth=2, max_features=7, min_samples_split=500, score=(train=-0.595, test=-0.593), total=   0.0s\n",
      "[CV] max_depth=2, max_features=7, min_samples_split=500 ..............\n",
      "[CV]  max_depth=2, max_features=7, min_samples_split=500, score=(train=-0.624, test=-0.669), total=   0.0s\n",
      "[CV] max_depth=2, max_features=7, min_samples_split=500 ..............\n",
      "[CV]  max_depth=2, max_features=7, min_samples_split=500, score=(train=-0.619, test=-0.611), total=   0.0s\n",
      "[CV] max_depth=2, max_features=7, min_samples_split=500 ..............\n",
      "[CV]  max_depth=2, max_features=7, min_samples_split=500, score=(train=-0.623, test=-0.613), total=   0.0s\n",
      "[CV] max_depth=2, max_features=7, min_samples_split=1000 .............\n",
      "[CV]  max_depth=2, max_features=7, min_samples_split=1000, score=(train=-0.643, test=-0.728), total=   0.0s\n",
      "[CV] max_depth=2, max_features=7, min_samples_split=1000 .............\n",
      "[CV]  max_depth=2, max_features=7, min_samples_split=1000, score=(train=-0.618, test=-0.624), total=   0.0s\n",
      "[CV] max_depth=2, max_features=7, min_samples_split=1000 .............\n",
      "[CV]  max_depth=2, max_features=7, min_samples_split=1000, score=(train=-0.645, test=-0.702), total=   0.1s\n",
      "[CV] max_depth=2, max_features=7, min_samples_split=1000 .............\n",
      "[CV]  max_depth=2, max_features=7, min_samples_split=1000, score=(train=-0.603, test=-0.605), total=   0.0s\n",
      "[CV] max_depth=2, max_features=7, min_samples_split=1000 .............\n",
      "[CV]  max_depth=2, max_features=7, min_samples_split=1000, score=(train=-0.626, test=-0.618), total=   0.0s\n",
      "[CV] max_depth=2, max_features=9, min_samples_split=10 ...............\n",
      "[CV]  max_depth=2, max_features=9, min_samples_split=10, score=(train=-0.586, test=-0.612), total=   0.0s\n",
      "[CV] max_depth=2, max_features=9, min_samples_split=10 ...............\n",
      "[CV]  max_depth=2, max_features=9, min_samples_split=10, score=(train=-0.589, test=-0.597), total=   0.1s\n",
      "[CV] max_depth=2, max_features=9, min_samples_split=10 ...............\n",
      "[CV]  max_depth=2, max_features=9, min_samples_split=10, score=(train=-0.586, test=-0.614), total=   0.0s\n",
      "[CV] max_depth=2, max_features=9, min_samples_split=10 ...............\n",
      "[CV]  max_depth=2, max_features=9, min_samples_split=10, score=(train=-0.594, test=-0.583), total=   0.0s\n",
      "[CV] max_depth=2, max_features=9, min_samples_split=10 ...............\n",
      "[CV]  max_depth=2, max_features=9, min_samples_split=10, score=(train=-0.620, test=-0.618), total=   0.0s\n",
      "[CV] max_depth=2, max_features=9, min_samples_split=50 ...............\n",
      "[CV]  max_depth=2, max_features=9, min_samples_split=50, score=(train=-0.588, test=-0.621), total=   0.0s\n",
      "[CV] max_depth=2, max_features=9, min_samples_split=50 ...............\n",
      "[CV]  max_depth=2, max_features=9, min_samples_split=50, score=(train=-0.635, test=-0.638), total=   0.0s\n",
      "[CV] max_depth=2, max_features=9, min_samples_split=50 ...............\n",
      "[CV]  max_depth=2, max_features=9, min_samples_split=50, score=(train=-0.586, test=-0.614), total=   0.0s\n",
      "[CV] max_depth=2, max_features=9, min_samples_split=50 ...............\n",
      "[CV]  max_depth=2, max_features=9, min_samples_split=50, score=(train=-0.630, test=-0.663), total=   0.0s\n",
      "[CV] max_depth=2, max_features=9, min_samples_split=50 ...............\n",
      "[CV]  max_depth=2, max_features=9, min_samples_split=50, score=(train=-0.595, test=-0.579), total=   0.0s\n",
      "[CV] max_depth=2, max_features=9, min_samples_split=100 ..............\n",
      "[CV]  max_depth=2, max_features=9, min_samples_split=100, score=(train=-0.586, test=-0.612), total=   0.0s\n",
      "[CV] max_depth=2, max_features=9, min_samples_split=100 ..............\n",
      "[CV]  max_depth=2, max_features=9, min_samples_split=100, score=(train=-0.589, test=-0.597), total=   0.0s\n",
      "[CV] max_depth=2, max_features=9, min_samples_split=100 ..............\n",
      "[CV]  max_depth=2, max_features=9, min_samples_split=100, score=(train=-0.586, test=-0.614), total=   0.0s\n",
      "[CV] max_depth=2, max_features=9, min_samples_split=100 ..............\n",
      "[CV]  max_depth=2, max_features=9, min_samples_split=100, score=(train=-0.633, test=-0.674), total=   0.0s\n",
      "[CV] max_depth=2, max_features=9, min_samples_split=100 ..............\n",
      "[CV]  max_depth=2, max_features=9, min_samples_split=100, score=(train=-0.595, test=-0.579), total=   0.0s\n",
      "[CV] max_depth=2, max_features=9, min_samples_split=200 ..............\n",
      "[CV]  max_depth=2, max_features=9, min_samples_split=200, score=(train=-0.634, test=-0.655), total=   0.0s\n",
      "[CV] max_depth=2, max_features=9, min_samples_split=200 ..............\n",
      "[CV]  max_depth=2, max_features=9, min_samples_split=200, score=(train=-0.589, test=-0.597), total=   0.0s\n",
      "[CV] max_depth=2, max_features=9, min_samples_split=200 ..............\n",
      "[CV]  max_depth=2, max_features=9, min_samples_split=200, score=(train=-0.632, test=-0.675), total=   0.0s\n",
      "[CV] max_depth=2, max_features=9, min_samples_split=200 ..............\n",
      "[CV]  max_depth=2, max_features=9, min_samples_split=200, score=(train=-0.594, test=-0.583), total=   0.0s\n",
      "[CV] max_depth=2, max_features=9, min_samples_split=200 ..............\n",
      "[CV]  max_depth=2, max_features=9, min_samples_split=200, score=(train=-0.595, test=-0.579), total=   0.0s\n",
      "[CV] max_depth=2, max_features=9, min_samples_split=300 ..............\n",
      "[CV]  max_depth=2, max_features=9, min_samples_split=300, score=(train=-0.586, test=-0.612), total=   0.0s\n",
      "[CV] max_depth=2, max_features=9, min_samples_split=300 ..............\n",
      "[CV]  max_depth=2, max_features=9, min_samples_split=300, score=(train=-0.589, test=-0.597), total=   0.0s\n",
      "[CV] max_depth=2, max_features=9, min_samples_split=300 ..............\n",
      "[CV]  max_depth=2, max_features=9, min_samples_split=300, score=(train=-0.586, test=-0.614), total=   0.0s\n",
      "[CV] max_depth=2, max_features=9, min_samples_split=300 ..............\n",
      "[CV]  max_depth=2, max_features=9, min_samples_split=300, score=(train=-0.633, test=-0.674), total=   0.0s\n",
      "[CV] max_depth=2, max_features=9, min_samples_split=300 ..............\n",
      "[CV]  max_depth=2, max_features=9, min_samples_split=300, score=(train=-0.645, test=-0.600), total=   0.0s\n",
      "[CV] max_depth=2, max_features=9, min_samples_split=500 ..............\n",
      "[CV]  max_depth=2, max_features=9, min_samples_split=500, score=(train=-0.586, test=-0.612), total=   0.0s\n",
      "[CV] max_depth=2, max_features=9, min_samples_split=500 ..............\n",
      "[CV]  max_depth=2, max_features=9, min_samples_split=500, score=(train=-0.589, test=-0.597), total=   0.0s\n",
      "[CV] max_depth=2, max_features=9, min_samples_split=500 ..............\n",
      "[CV]  max_depth=2, max_features=9, min_samples_split=500, score=(train=-0.632, test=-0.671), total=   0.0s\n",
      "[CV] max_depth=2, max_features=9, min_samples_split=500 ..............\n",
      "[CV]  max_depth=2, max_features=9, min_samples_split=500, score=(train=-0.643, test=-0.626), total=   0.0s\n",
      "[CV] max_depth=2, max_features=9, min_samples_split=500 ..............\n",
      "[CV]  max_depth=2, max_features=9, min_samples_split=500, score=(train=-0.620, test=-0.618), total=   0.0s\n",
      "[CV] max_depth=2, max_features=9, min_samples_split=1000 .............\n",
      "[CV]  max_depth=2, max_features=9, min_samples_split=1000, score=(train=-0.586, test=-0.612), total=   0.0s\n",
      "[CV] max_depth=2, max_features=9, min_samples_split=1000 .............\n",
      "[CV]  max_depth=2, max_features=9, min_samples_split=1000, score=(train=-0.589, test=-0.597), total=   0.0s\n",
      "[CV] max_depth=2, max_features=9, min_samples_split=1000 .............\n",
      "[CV]  max_depth=2, max_features=9, min_samples_split=1000, score=(train=-0.589, test=-0.620), total=   0.0s\n",
      "[CV] max_depth=2, max_features=9, min_samples_split=1000 .............\n",
      "[CV]  max_depth=2, max_features=9, min_samples_split=1000, score=(train=-0.619, test=-0.611), total=   0.0s\n",
      "[CV] max_depth=2, max_features=9, min_samples_split=1000 .............\n",
      "[CV]  max_depth=2, max_features=9, min_samples_split=1000, score=(train=-0.595, test=-0.579), total=   0.0s\n",
      "[CV] max_depth=2, max_features=11, min_samples_split=10 ..............\n",
      "[CV]  max_depth=2, max_features=11, min_samples_split=10, score=(train=-0.586, test=-0.612), total=   0.0s\n",
      "[CV] max_depth=2, max_features=11, min_samples_split=10 ..............\n",
      "[CV]  max_depth=2, max_features=11, min_samples_split=10, score=(train=-0.589, test=-0.597), total=   0.0s\n",
      "[CV] max_depth=2, max_features=11, min_samples_split=10 ..............\n",
      "[CV]  max_depth=2, max_features=11, min_samples_split=10, score=(train=-0.586, test=-0.614), total=   0.0s\n",
      "[CV] max_depth=2, max_features=11, min_samples_split=10 ..............\n",
      "[CV]  max_depth=2, max_features=11, min_samples_split=10, score=(train=-0.594, test=-0.583), total=   0.0s\n",
      "[CV] max_depth=2, max_features=11, min_samples_split=10 ..............\n",
      "[CV]  max_depth=2, max_features=11, min_samples_split=10, score=(train=-0.595, test=-0.579), total=   0.0s\n",
      "[CV] max_depth=2, max_features=11, min_samples_split=50 ..............\n",
      "[CV]  max_depth=2, max_features=11, min_samples_split=50, score=(train=-0.586, test=-0.612), total=   0.0s\n",
      "[CV] max_depth=2, max_features=11, min_samples_split=50 ..............\n",
      "[CV]  max_depth=2, max_features=11, min_samples_split=50, score=(train=-0.589, test=-0.597), total=   0.0s\n"
     ]
    },
    {
     "name": "stdout",
     "output_type": "stream",
     "text": [
      "[CV] max_depth=2, max_features=11, min_samples_split=50 ..............\n",
      "[CV]  max_depth=2, max_features=11, min_samples_split=50, score=(train=-0.586, test=-0.614), total=   0.0s\n",
      "[CV] max_depth=2, max_features=11, min_samples_split=50 ..............\n",
      "[CV]  max_depth=2, max_features=11, min_samples_split=50, score=(train=-0.594, test=-0.583), total=   0.0s\n",
      "[CV] max_depth=2, max_features=11, min_samples_split=50 ..............\n",
      "[CV]  max_depth=2, max_features=11, min_samples_split=50, score=(train=-0.595, test=-0.579), total=   0.0s\n",
      "[CV] max_depth=2, max_features=11, min_samples_split=100 .............\n",
      "[CV]  max_depth=2, max_features=11, min_samples_split=100, score=(train=-0.586, test=-0.612), total=   0.0s\n",
      "[CV] max_depth=2, max_features=11, min_samples_split=100 .............\n",
      "[CV]  max_depth=2, max_features=11, min_samples_split=100, score=(train=-0.589, test=-0.597), total=   0.0s\n",
      "[CV] max_depth=2, max_features=11, min_samples_split=100 .............\n",
      "[CV]  max_depth=2, max_features=11, min_samples_split=100, score=(train=-0.586, test=-0.614), total=   0.0s\n",
      "[CV] max_depth=2, max_features=11, min_samples_split=100 .............\n",
      "[CV]  max_depth=2, max_features=11, min_samples_split=100, score=(train=-0.594, test=-0.583), total=   0.0s\n",
      "[CV] max_depth=2, max_features=11, min_samples_split=100 .............\n",
      "[CV]  max_depth=2, max_features=11, min_samples_split=100, score=(train=-0.595, test=-0.579), total=   0.0s\n",
      "[CV] max_depth=2, max_features=11, min_samples_split=200 .............\n",
      "[CV]  max_depth=2, max_features=11, min_samples_split=200, score=(train=-0.586, test=-0.612), total=   0.0s\n",
      "[CV] max_depth=2, max_features=11, min_samples_split=200 .............\n",
      "[CV]  max_depth=2, max_features=11, min_samples_split=200, score=(train=-0.589, test=-0.597), total=   0.0s\n",
      "[CV] max_depth=2, max_features=11, min_samples_split=200 .............\n",
      "[CV]  max_depth=2, max_features=11, min_samples_split=200, score=(train=-0.586, test=-0.614), total=   0.0s\n",
      "[CV] max_depth=2, max_features=11, min_samples_split=200 .............\n",
      "[CV]  max_depth=2, max_features=11, min_samples_split=200, score=(train=-0.594, test=-0.583), total=   0.0s\n",
      "[CV] max_depth=2, max_features=11, min_samples_split=200 .............\n",
      "[CV]  max_depth=2, max_features=11, min_samples_split=200, score=(train=-0.595, test=-0.579), total=   0.0s\n",
      "[CV] max_depth=2, max_features=11, min_samples_split=300 .............\n",
      "[CV]  max_depth=2, max_features=11, min_samples_split=300, score=(train=-0.586, test=-0.612), total=   0.0s\n",
      "[CV] max_depth=2, max_features=11, min_samples_split=300 .............\n",
      "[CV]  max_depth=2, max_features=11, min_samples_split=300, score=(train=-0.589, test=-0.597), total=   0.0s\n",
      "[CV] max_depth=2, max_features=11, min_samples_split=300 .............\n",
      "[CV]  max_depth=2, max_features=11, min_samples_split=300, score=(train=-0.586, test=-0.614), total=   0.0s\n",
      "[CV] max_depth=2, max_features=11, min_samples_split=300 .............\n",
      "[CV]  max_depth=2, max_features=11, min_samples_split=300, score=(train=-0.594, test=-0.583), total=   0.0s\n",
      "[CV] max_depth=2, max_features=11, min_samples_split=300 .............\n",
      "[CV]  max_depth=2, max_features=11, min_samples_split=300, score=(train=-0.595, test=-0.579), total=   0.0s\n",
      "[CV] max_depth=2, max_features=11, min_samples_split=500 .............\n",
      "[CV]  max_depth=2, max_features=11, min_samples_split=500, score=(train=-0.586, test=-0.612), total=   0.0s\n",
      "[CV] max_depth=2, max_features=11, min_samples_split=500 .............\n",
      "[CV]  max_depth=2, max_features=11, min_samples_split=500, score=(train=-0.589, test=-0.597), total=   0.0s\n",
      "[CV] max_depth=2, max_features=11, min_samples_split=500 .............\n",
      "[CV]  max_depth=2, max_features=11, min_samples_split=500, score=(train=-0.586, test=-0.614), total=   0.0s\n",
      "[CV] max_depth=2, max_features=11, min_samples_split=500 .............\n",
      "[CV]  max_depth=2, max_features=11, min_samples_split=500, score=(train=-0.594, test=-0.583), total=   0.0s\n",
      "[CV] max_depth=2, max_features=11, min_samples_split=500 .............\n",
      "[CV]  max_depth=2, max_features=11, min_samples_split=500, score=(train=-0.595, test=-0.579), total=   0.0s\n",
      "[CV] max_depth=2, max_features=11, min_samples_split=1000 ............\n",
      "[CV]  max_depth=2, max_features=11, min_samples_split=1000, score=(train=-0.586, test=-0.612), total=   0.0s\n",
      "[CV] max_depth=2, max_features=11, min_samples_split=1000 ............\n",
      "[CV]  max_depth=2, max_features=11, min_samples_split=1000, score=(train=-0.589, test=-0.597), total=   0.0s\n",
      "[CV] max_depth=2, max_features=11, min_samples_split=1000 ............\n",
      "[CV]  max_depth=2, max_features=11, min_samples_split=1000, score=(train=-0.586, test=-0.614), total=   0.0s\n",
      "[CV] max_depth=2, max_features=11, min_samples_split=1000 ............\n",
      "[CV]  max_depth=2, max_features=11, min_samples_split=1000, score=(train=-0.594, test=-0.583), total=   0.0s\n",
      "[CV] max_depth=2, max_features=11, min_samples_split=1000 ............\n",
      "[CV]  max_depth=2, max_features=11, min_samples_split=1000, score=(train=-0.595, test=-0.579), total=   0.0s\n",
      "[CV] max_depth=4, max_features=5, min_samples_split=10 ...............\n",
      "[CV]  max_depth=4, max_features=5, min_samples_split=10, score=(train=-0.562, test=-0.605), total=   0.0s\n",
      "[CV] max_depth=4, max_features=5, min_samples_split=10 ...............\n",
      "[CV]  max_depth=4, max_features=5, min_samples_split=10, score=(train=-0.565, test=-0.610), total=   0.0s\n",
      "[CV] max_depth=4, max_features=5, min_samples_split=10 ...............\n",
      "[CV]  max_depth=4, max_features=5, min_samples_split=10, score=(train=-0.553, test=-0.647), total=   0.0s\n",
      "[CV] max_depth=4, max_features=5, min_samples_split=10 ...............\n",
      "[CV]  max_depth=4, max_features=5, min_samples_split=10, score=(train=-0.567, test=-0.601), total=   0.0s\n",
      "[CV] max_depth=4, max_features=5, min_samples_split=10 ...............\n",
      "[CV]  max_depth=4, max_features=5, min_samples_split=10, score=(train=-0.572, test=-0.618), total=   0.0s\n",
      "[CV] max_depth=4, max_features=5, min_samples_split=50 ...............\n",
      "[CV]  max_depth=4, max_features=5, min_samples_split=50, score=(train=-0.535, test=-0.590), total=   0.0s\n",
      "[CV] max_depth=4, max_features=5, min_samples_split=50 ...............\n",
      "[CV]  max_depth=4, max_features=5, min_samples_split=50, score=(train=-0.539, test=-0.584), total=   0.0s\n",
      "[CV] max_depth=4, max_features=5, min_samples_split=50 ...............\n",
      "[CV]  max_depth=4, max_features=5, min_samples_split=50, score=(train=-0.550, test=-0.585), total=   0.0s\n",
      "[CV] max_depth=4, max_features=5, min_samples_split=50 ...............\n",
      "[CV]  max_depth=4, max_features=5, min_samples_split=50, score=(train=-0.528, test=-0.566), total=   0.0s\n",
      "[CV] max_depth=4, max_features=5, min_samples_split=50 ...............\n",
      "[CV]  max_depth=4, max_features=5, min_samples_split=50, score=(train=-0.558, test=-0.563), total=   0.0s\n",
      "[CV] max_depth=4, max_features=5, min_samples_split=100 ..............\n",
      "[CV]  max_depth=4, max_features=5, min_samples_split=100, score=(train=-0.532, test=-0.565), total=   0.0s\n",
      "[CV] max_depth=4, max_features=5, min_samples_split=100 ..............\n",
      "[CV]  max_depth=4, max_features=5, min_samples_split=100, score=(train=-0.572, test=-0.602), total=   0.0s\n",
      "[CV] max_depth=4, max_features=5, min_samples_split=100 ..............\n",
      "[CV]  max_depth=4, max_features=5, min_samples_split=100, score=(train=-0.554, test=-0.625), total=   0.0s\n",
      "[CV] max_depth=4, max_features=5, min_samples_split=100 ..............\n",
      "[CV]  max_depth=4, max_features=5, min_samples_split=100, score=(train=-0.567, test=-0.585), total=   0.0s\n",
      "[CV] max_depth=4, max_features=5, min_samples_split=100 ..............\n",
      "[CV]  max_depth=4, max_features=5, min_samples_split=100, score=(train=-0.561, test=-0.585), total=   0.0s\n",
      "[CV] max_depth=4, max_features=5, min_samples_split=200 ..............\n",
      "[CV]  max_depth=4, max_features=5, min_samples_split=200, score=(train=-0.538, test=-0.583), total=   0.0s\n",
      "[CV] max_depth=4, max_features=5, min_samples_split=200 ..............\n",
      "[CV]  max_depth=4, max_features=5, min_samples_split=200, score=(train=-0.584, test=-0.608), total=   0.0s\n",
      "[CV] max_depth=4, max_features=5, min_samples_split=200 ..............\n",
      "[CV]  max_depth=4, max_features=5, min_samples_split=200, score=(train=-0.563, test=-0.608), total=   0.0s\n",
      "[CV] max_depth=4, max_features=5, min_samples_split=200 ..............\n",
      "[CV]  max_depth=4, max_features=5, min_samples_split=200, score=(train=-0.549, test=-0.565), total=   0.0s\n",
      "[CV] max_depth=4, max_features=5, min_samples_split=200 ..............\n"
     ]
    },
    {
     "name": "stdout",
     "output_type": "stream",
     "text": [
      "[CV]  max_depth=4, max_features=5, min_samples_split=200, score=(train=-0.611, test=-0.615), total=   0.0s\n",
      "[CV] max_depth=4, max_features=5, min_samples_split=300 ..............\n",
      "[CV]  max_depth=4, max_features=5, min_samples_split=300, score=(train=-0.565, test=-0.640), total=   0.0s\n",
      "[CV] max_depth=4, max_features=5, min_samples_split=300 ..............\n",
      "[CV]  max_depth=4, max_features=5, min_samples_split=300, score=(train=-0.570, test=-0.607), total=   0.0s\n",
      "[CV] max_depth=4, max_features=5, min_samples_split=300 ..............\n",
      "[CV]  max_depth=4, max_features=5, min_samples_split=300, score=(train=-0.560, test=-0.576), total=   0.0s\n",
      "[CV] max_depth=4, max_features=5, min_samples_split=300 ..............\n",
      "[CV]  max_depth=4, max_features=5, min_samples_split=300, score=(train=-0.579, test=-0.604), total=   0.0s\n",
      "[CV] max_depth=4, max_features=5, min_samples_split=300 ..............\n",
      "[CV]  max_depth=4, max_features=5, min_samples_split=300, score=(train=-0.546, test=-0.563), total=   0.0s\n",
      "[CV] max_depth=4, max_features=5, min_samples_split=500 ..............\n",
      "[CV]  max_depth=4, max_features=5, min_samples_split=500, score=(train=-0.603, test=-0.633), total=   0.0s\n",
      "[CV] max_depth=4, max_features=5, min_samples_split=500 ..............\n",
      "[CV]  max_depth=4, max_features=5, min_samples_split=500, score=(train=-0.567, test=-0.592), total=   0.0s\n",
      "[CV] max_depth=4, max_features=5, min_samples_split=500 ..............\n",
      "[CV]  max_depth=4, max_features=5, min_samples_split=500, score=(train=-0.604, test=-0.662), total=   0.0s\n",
      "[CV] max_depth=4, max_features=5, min_samples_split=500 ..............\n",
      "[CV]  max_depth=4, max_features=5, min_samples_split=500, score=(train=-0.578, test=-0.616), total=   0.0s\n",
      "[CV] max_depth=4, max_features=5, min_samples_split=500 ..............\n",
      "[CV]  max_depth=4, max_features=5, min_samples_split=500, score=(train=-0.575, test=-0.601), total=   0.0s\n",
      "[CV] max_depth=4, max_features=5, min_samples_split=1000 .............\n",
      "[CV]  max_depth=4, max_features=5, min_samples_split=1000, score=(train=-0.617, test=-0.650), total=   0.0s\n",
      "[CV] max_depth=4, max_features=5, min_samples_split=1000 .............\n",
      "[CV]  max_depth=4, max_features=5, min_samples_split=1000, score=(train=-0.628, test=-0.608), total=   0.0s\n",
      "[CV] max_depth=4, max_features=5, min_samples_split=1000 .............\n",
      "[CV]  max_depth=4, max_features=5, min_samples_split=1000, score=(train=-0.617, test=-0.674), total=   0.0s\n",
      "[CV] max_depth=4, max_features=5, min_samples_split=1000 .............\n",
      "[CV]  max_depth=4, max_features=5, min_samples_split=1000, score=(train=-0.625, test=-0.640), total=   0.0s\n",
      "[CV] max_depth=4, max_features=5, min_samples_split=1000 .............\n",
      "[CV]  max_depth=4, max_features=5, min_samples_split=1000, score=(train=-0.643, test=-0.602), total=   0.0s\n",
      "[CV] max_depth=4, max_features=7, min_samples_split=10 ...............\n",
      "[CV]  max_depth=4, max_features=7, min_samples_split=10, score=(train=-0.537, test=-0.601), total=   0.0s\n",
      "[CV] max_depth=4, max_features=7, min_samples_split=10 ...............\n",
      "[CV]  max_depth=4, max_features=7, min_samples_split=10, score=(train=-0.529, test=-0.573), total=   0.0s\n",
      "[CV] max_depth=4, max_features=7, min_samples_split=10 ...............\n",
      "[CV]  max_depth=4, max_features=7, min_samples_split=10, score=(train=-0.535, test=-0.571), total=   0.0s\n",
      "[CV] max_depth=4, max_features=7, min_samples_split=10 ...............\n",
      "[CV]  max_depth=4, max_features=7, min_samples_split=10, score=(train=-0.538, test=-0.580), total=   0.0s\n",
      "[CV] max_depth=4, max_features=7, min_samples_split=10 ...............\n",
      "[CV]  max_depth=4, max_features=7, min_samples_split=10, score=(train=-0.535, test=-0.555), total=   0.0s\n",
      "[CV] max_depth=4, max_features=7, min_samples_split=50 ...............\n",
      "[CV]  max_depth=4, max_features=7, min_samples_split=50, score=(train=-0.528, test=-0.566), total=   0.0s\n",
      "[CV] max_depth=4, max_features=7, min_samples_split=50 ...............\n",
      "[CV]  max_depth=4, max_features=7, min_samples_split=50, score=(train=-0.564, test=-0.609), total=   0.0s\n",
      "[CV] max_depth=4, max_features=7, min_samples_split=50 ...............\n",
      "[CV]  max_depth=4, max_features=7, min_samples_split=50, score=(train=-0.539, test=-0.556), total=   0.0s\n",
      "[CV] max_depth=4, max_features=7, min_samples_split=50 ...............\n",
      "[CV]  max_depth=4, max_features=7, min_samples_split=50, score=(train=-0.527, test=-0.564), total=   0.0s\n",
      "[CV] max_depth=4, max_features=7, min_samples_split=50 ...............\n",
      "[CV]  max_depth=4, max_features=7, min_samples_split=50, score=(train=-0.553, test=-0.579), total=   0.0s\n",
      "[CV] max_depth=4, max_features=7, min_samples_split=100 ..............\n",
      "[CV]  max_depth=4, max_features=7, min_samples_split=100, score=(train=-0.545, test=-0.579), total=   0.0s\n",
      "[CV] max_depth=4, max_features=7, min_samples_split=100 ..............\n",
      "[CV]  max_depth=4, max_features=7, min_samples_split=100, score=(train=-0.544, test=-0.587), total=   0.0s\n",
      "[CV] max_depth=4, max_features=7, min_samples_split=100 ..............\n",
      "[CV]  max_depth=4, max_features=7, min_samples_split=100, score=(train=-0.552, test=-0.571), total=   0.0s\n",
      "[CV] max_depth=4, max_features=7, min_samples_split=100 ..............\n",
      "[CV]  max_depth=4, max_features=7, min_samples_split=100, score=(train=-0.546, test=-0.561), total=   0.0s\n",
      "[CV] max_depth=4, max_features=7, min_samples_split=100 ..............\n",
      "[CV]  max_depth=4, max_features=7, min_samples_split=100, score=(train=-0.544, test=-0.559), total=   0.0s\n",
      "[CV] max_depth=4, max_features=7, min_samples_split=200 ..............\n",
      "[CV]  max_depth=4, max_features=7, min_samples_split=200, score=(train=-0.547, test=-0.602), total=   0.0s\n",
      "[CV] max_depth=4, max_features=7, min_samples_split=200 ..............\n",
      "[CV]  max_depth=4, max_features=7, min_samples_split=200, score=(train=-0.563, test=-0.591), total=   0.0s\n",
      "[CV] max_depth=4, max_features=7, min_samples_split=200 ..............\n",
      "[CV]  max_depth=4, max_features=7, min_samples_split=200, score=(train=-0.572, test=-0.580), total=   0.0s\n",
      "[CV] max_depth=4, max_features=7, min_samples_split=200 ..............\n",
      "[CV]  max_depth=4, max_features=7, min_samples_split=200, score=(train=-0.548, test=-0.611), total=   0.0s\n",
      "[CV] max_depth=4, max_features=7, min_samples_split=200 ..............\n",
      "[CV]  max_depth=4, max_features=7, min_samples_split=200, score=(train=-0.541, test=-0.550), total=   0.0s\n",
      "[CV] max_depth=4, max_features=7, min_samples_split=300 ..............\n",
      "[CV]  max_depth=4, max_features=7, min_samples_split=300, score=(train=-0.541, test=-0.594), total=   0.0s\n",
      "[CV] max_depth=4, max_features=7, min_samples_split=300 ..............\n",
      "[CV]  max_depth=4, max_features=7, min_samples_split=300, score=(train=-0.552, test=-0.579), total=   0.0s\n",
      "[CV] max_depth=4, max_features=7, min_samples_split=300 ..............\n",
      "[CV]  max_depth=4, max_features=7, min_samples_split=300, score=(train=-0.554, test=-0.606), total=   0.0s\n",
      "[CV] max_depth=4, max_features=7, min_samples_split=300 ..............\n",
      "[CV]  max_depth=4, max_features=7, min_samples_split=300, score=(train=-0.529, test=-0.581), total=   0.0s\n",
      "[CV] max_depth=4, max_features=7, min_samples_split=300 ..............\n",
      "[CV]  max_depth=4, max_features=7, min_samples_split=300, score=(train=-0.565, test=-0.562), total=   0.0s\n",
      "[CV] max_depth=4, max_features=7, min_samples_split=500 ..............\n",
      "[CV]  max_depth=4, max_features=7, min_samples_split=500, score=(train=-0.544, test=-0.583), total=   0.0s\n",
      "[CV] max_depth=4, max_features=7, min_samples_split=500 ..............\n",
      "[CV]  max_depth=4, max_features=7, min_samples_split=500, score=(train=-0.557, test=-0.571), total=   0.0s\n",
      "[CV] max_depth=4, max_features=7, min_samples_split=500 ..............\n",
      "[CV]  max_depth=4, max_features=7, min_samples_split=500, score=(train=-0.591, test=-0.626), total=   0.0s\n",
      "[CV] max_depth=4, max_features=7, min_samples_split=500 ..............\n",
      "[CV]  max_depth=4, max_features=7, min_samples_split=500, score=(train=-0.571, test=-0.600), total=   0.0s\n",
      "[CV] max_depth=4, max_features=7, min_samples_split=500 ..............\n",
      "[CV]  max_depth=4, max_features=7, min_samples_split=500, score=(train=-0.555, test=-0.563), total=   0.0s\n",
      "[CV] max_depth=4, max_features=7, min_samples_split=1000 .............\n",
      "[CV]  max_depth=4, max_features=7, min_samples_split=1000, score=(train=-0.564, test=-0.589), total=   0.0s\n",
      "[CV] max_depth=4, max_features=7, min_samples_split=1000 .............\n",
      "[CV]  max_depth=4, max_features=7, min_samples_split=1000, score=(train=-0.592, test=-0.604), total=   0.0s\n",
      "[CV] max_depth=4, max_features=7, min_samples_split=1000 .............\n",
      "[CV]  max_depth=4, max_features=7, min_samples_split=1000, score=(train=-0.613, test=-0.669), total=   0.0s\n",
      "[CV] max_depth=4, max_features=7, min_samples_split=1000 .............\n",
      "[CV]  max_depth=4, max_features=7, min_samples_split=1000, score=(train=-0.571, test=-0.561), total=   0.0s\n",
      "[CV] max_depth=4, max_features=7, min_samples_split=1000 .............\n",
      "[CV]  max_depth=4, max_features=7, min_samples_split=1000, score=(train=-0.580, test=-0.573), total=   0.0s\n",
      "[CV] max_depth=4, max_features=9, min_samples_split=10 ...............\n"
     ]
    },
    {
     "name": "stdout",
     "output_type": "stream",
     "text": [
      "[CV]  max_depth=4, max_features=9, min_samples_split=10, score=(train=-0.523, test=-0.569), total=   0.0s\n",
      "[CV] max_depth=4, max_features=9, min_samples_split=10 ...............\n",
      "[CV]  max_depth=4, max_features=9, min_samples_split=10, score=(train=-0.525, test=-0.560), total=   0.0s\n",
      "[CV] max_depth=4, max_features=9, min_samples_split=10 ...............\n",
      "[CV]  max_depth=4, max_features=9, min_samples_split=10, score=(train=-0.521, test=-0.558), total=   0.0s\n",
      "[CV] max_depth=4, max_features=9, min_samples_split=10 ...............\n",
      "[CV]  max_depth=4, max_features=9, min_samples_split=10, score=(train=-0.526, test=-0.580), total=   0.0s\n",
      "[CV] max_depth=4, max_features=9, min_samples_split=10 ...............\n",
      "[CV]  max_depth=4, max_features=9, min_samples_split=10, score=(train=-0.548, test=-0.595), total=   0.0s\n",
      "[CV] max_depth=4, max_features=9, min_samples_split=50 ...............\n",
      "[CV]  max_depth=4, max_features=9, min_samples_split=50, score=(train=-0.524, test=-0.559), total=   0.0s\n",
      "[CV] max_depth=4, max_features=9, min_samples_split=50 ...............\n",
      "[CV]  max_depth=4, max_features=9, min_samples_split=50, score=(train=-0.537, test=-0.568), total=   0.0s\n",
      "[CV] max_depth=4, max_features=9, min_samples_split=50 ...............\n",
      "[CV]  max_depth=4, max_features=9, min_samples_split=50, score=(train=-0.531, test=-0.569), total=   0.0s\n",
      "[CV] max_depth=4, max_features=9, min_samples_split=50 ...............\n",
      "[CV]  max_depth=4, max_features=9, min_samples_split=50, score=(train=-0.536, test=-0.566), total=   0.0s\n",
      "[CV] max_depth=4, max_features=9, min_samples_split=50 ...............\n",
      "[CV]  max_depth=4, max_features=9, min_samples_split=50, score=(train=-0.542, test=-0.540), total=   0.0s\n",
      "[CV] max_depth=4, max_features=9, min_samples_split=100 ..............\n",
      "[CV]  max_depth=4, max_features=9, min_samples_split=100, score=(train=-0.530, test=-0.559), total=   0.0s\n",
      "[CV] max_depth=4, max_features=9, min_samples_split=100 ..............\n",
      "[CV]  max_depth=4, max_features=9, min_samples_split=100, score=(train=-0.538, test=-0.570), total=   0.0s\n",
      "[CV] max_depth=4, max_features=9, min_samples_split=100 ..............\n",
      "[CV]  max_depth=4, max_features=9, min_samples_split=100, score=(train=-0.533, test=-0.581), total=   0.0s\n",
      "[CV] max_depth=4, max_features=9, min_samples_split=100 ..............\n",
      "[CV]  max_depth=4, max_features=9, min_samples_split=100, score=(train=-0.544, test=-0.581), total=   0.0s\n",
      "[CV] max_depth=4, max_features=9, min_samples_split=100 ..............\n",
      "[CV]  max_depth=4, max_features=9, min_samples_split=100, score=(train=-0.543, test=-0.559), total=   0.0s\n",
      "[CV] max_depth=4, max_features=9, min_samples_split=200 ..............\n",
      "[CV]  max_depth=4, max_features=9, min_samples_split=200, score=(train=-0.534, test=-0.571), total=   0.0s\n",
      "[CV] max_depth=4, max_features=9, min_samples_split=200 ..............\n",
      "[CV]  max_depth=4, max_features=9, min_samples_split=200, score=(train=-0.548, test=-0.590), total=   0.0s\n",
      "[CV] max_depth=4, max_features=9, min_samples_split=200 ..............\n",
      "[CV]  max_depth=4, max_features=9, min_samples_split=200, score=(train=-0.528, test=-0.566), total=   0.0s\n",
      "[CV] max_depth=4, max_features=9, min_samples_split=200 ..............\n",
      "[CV]  max_depth=4, max_features=9, min_samples_split=200, score=(train=-0.526, test=-0.572), total=   0.0s\n",
      "[CV] max_depth=4, max_features=9, min_samples_split=200 ..............\n",
      "[CV]  max_depth=4, max_features=9, min_samples_split=200, score=(train=-0.545, test=-0.552), total=   0.0s\n",
      "[CV] max_depth=4, max_features=9, min_samples_split=300 ..............\n",
      "[CV]  max_depth=4, max_features=9, min_samples_split=300, score=(train=-0.537, test=-0.572), total=   0.0s\n",
      "[CV] max_depth=4, max_features=9, min_samples_split=300 ..............\n",
      "[CV]  max_depth=4, max_features=9, min_samples_split=300, score=(train=-0.538, test=-0.557), total=   0.0s\n",
      "[CV] max_depth=4, max_features=9, min_samples_split=300 ..............\n",
      "[CV]  max_depth=4, max_features=9, min_samples_split=300, score=(train=-0.546, test=-0.549), total=   0.0s\n",
      "[CV] max_depth=4, max_features=9, min_samples_split=300 ..............\n",
      "[CV]  max_depth=4, max_features=9, min_samples_split=300, score=(train=-0.548, test=-0.555), total=   0.0s\n",
      "[CV] max_depth=4, max_features=9, min_samples_split=300 ..............\n",
      "[CV]  max_depth=4, max_features=9, min_samples_split=300, score=(train=-0.550, test=-0.563), total=   0.0s\n",
      "[CV] max_depth=4, max_features=9, min_samples_split=500 ..............\n",
      "[CV]  max_depth=4, max_features=9, min_samples_split=500, score=(train=-0.542, test=-0.581), total=   0.0s\n",
      "[CV] max_depth=4, max_features=9, min_samples_split=500 ..............\n",
      "[CV]  max_depth=4, max_features=9, min_samples_split=500, score=(train=-0.539, test=-0.572), total=   0.0s\n",
      "[CV] max_depth=4, max_features=9, min_samples_split=500 ..............\n",
      "[CV]  max_depth=4, max_features=9, min_samples_split=500, score=(train=-0.546, test=-0.561), total=   0.0s\n",
      "[CV] max_depth=4, max_features=9, min_samples_split=500 ..............\n",
      "[CV]  max_depth=4, max_features=9, min_samples_split=500, score=(train=-0.556, test=-0.571), total=   0.0s\n",
      "[CV] max_depth=4, max_features=9, min_samples_split=500 ..............\n",
      "[CV]  max_depth=4, max_features=9, min_samples_split=500, score=(train=-0.553, test=-0.555), total=   0.0s\n",
      "[CV] max_depth=4, max_features=9, min_samples_split=1000 .............\n",
      "[CV]  max_depth=4, max_features=9, min_samples_split=1000, score=(train=-0.570, test=-0.597), total=   0.0s\n",
      "[CV] max_depth=4, max_features=9, min_samples_split=1000 .............\n",
      "[CV]  max_depth=4, max_features=9, min_samples_split=1000, score=(train=-0.566, test=-0.587), total=   0.0s\n",
      "[CV] max_depth=4, max_features=9, min_samples_split=1000 .............\n",
      "[CV]  max_depth=4, max_features=9, min_samples_split=1000, score=(train=-0.602, test=-0.663), total=   0.0s\n",
      "[CV] max_depth=4, max_features=9, min_samples_split=1000 .............\n",
      "[CV]  max_depth=4, max_features=9, min_samples_split=1000, score=(train=-0.586, test=-0.589), total=   0.0s\n",
      "[CV] max_depth=4, max_features=9, min_samples_split=1000 .............\n",
      "[CV]  max_depth=4, max_features=9, min_samples_split=1000, score=(train=-0.573, test=-0.564), total=   0.0s\n",
      "[CV] max_depth=4, max_features=11, min_samples_split=10 ..............\n",
      "[CV]  max_depth=4, max_features=11, min_samples_split=10, score=(train=-0.524, test=-0.559), total=   0.0s\n",
      "[CV] max_depth=4, max_features=11, min_samples_split=10 ..............\n",
      "[CV]  max_depth=4, max_features=11, min_samples_split=10, score=(train=-0.528, test=-0.577), total=   0.0s\n",
      "[CV] max_depth=4, max_features=11, min_samples_split=10 ..............\n",
      "[CV]  max_depth=4, max_features=11, min_samples_split=10, score=(train=-0.521, test=-0.564), total=   0.0s\n",
      "[CV] max_depth=4, max_features=11, min_samples_split=10 ..............\n",
      "[CV]  max_depth=4, max_features=11, min_samples_split=10, score=(train=-0.519, test=-0.576), total=   0.0s\n",
      "[CV] max_depth=4, max_features=11, min_samples_split=10 ..............\n",
      "[CV]  max_depth=4, max_features=11, min_samples_split=10, score=(train=-0.534, test=-0.565), total=   0.0s\n",
      "[CV] max_depth=4, max_features=11, min_samples_split=50 ..............\n",
      "[CV]  max_depth=4, max_features=11, min_samples_split=50, score=(train=-0.524, test=-0.559), total=   0.0s\n",
      "[CV] max_depth=4, max_features=11, min_samples_split=50 ..............\n",
      "[CV]  max_depth=4, max_features=11, min_samples_split=50, score=(train=-0.530, test=-0.577), total=   0.0s\n",
      "[CV] max_depth=4, max_features=11, min_samples_split=50 ..............\n",
      "[CV]  max_depth=4, max_features=11, min_samples_split=50, score=(train=-0.521, test=-0.564), total=   0.0s\n",
      "[CV] max_depth=4, max_features=11, min_samples_split=50 ..............\n",
      "[CV]  max_depth=4, max_features=11, min_samples_split=50, score=(train=-0.519, test=-0.576), total=   0.0s\n",
      "[CV] max_depth=4, max_features=11, min_samples_split=50 ..............\n",
      "[CV]  max_depth=4, max_features=11, min_samples_split=50, score=(train=-0.537, test=-0.560), total=   0.0s\n",
      "[CV] max_depth=4, max_features=11, min_samples_split=100 .............\n",
      "[CV]  max_depth=4, max_features=11, min_samples_split=100, score=(train=-0.531, test=-0.552), total=   0.0s\n",
      "[CV] max_depth=4, max_features=11, min_samples_split=100 .............\n",
      "[CV]  max_depth=4, max_features=11, min_samples_split=100, score=(train=-0.537, test=-0.576), total=   0.0s\n",
      "[CV] max_depth=4, max_features=11, min_samples_split=100 .............\n",
      "[CV]  max_depth=4, max_features=11, min_samples_split=100, score=(train=-0.528, test=-0.566), total=   0.0s\n",
      "[CV] max_depth=4, max_features=11, min_samples_split=100 .............\n",
      "[CV]  max_depth=4, max_features=11, min_samples_split=100, score=(train=-0.524, test=-0.575), total=   0.0s\n",
      "[CV] max_depth=4, max_features=11, min_samples_split=100 .............\n",
      "[CV]  max_depth=4, max_features=11, min_samples_split=100, score=(train=-0.543, test=-0.559), total=   0.0s\n",
      "[CV] max_depth=4, max_features=11, min_samples_split=200 .............\n",
      "[CV]  max_depth=4, max_features=11, min_samples_split=200, score=(train=-0.532, test=-0.553), total=   0.0s\n",
      "[CV] max_depth=4, max_features=11, min_samples_split=200 .............\n"
     ]
    },
    {
     "name": "stdout",
     "output_type": "stream",
     "text": [
      "[CV]  max_depth=4, max_features=11, min_samples_split=200, score=(train=-0.537, test=-0.576), total=   0.0s\n",
      "[CV] max_depth=4, max_features=11, min_samples_split=200 .............\n",
      "[CV]  max_depth=4, max_features=11, min_samples_split=200, score=(train=-0.528, test=-0.566), total=   0.0s\n",
      "[CV] max_depth=4, max_features=11, min_samples_split=200 .............\n",
      "[CV]  max_depth=4, max_features=11, min_samples_split=200, score=(train=-0.526, test=-0.572), total=   0.0s\n",
      "[CV] max_depth=4, max_features=11, min_samples_split=200 .............\n",
      "[CV]  max_depth=4, max_features=11, min_samples_split=200, score=(train=-0.543, test=-0.559), total=   0.0s\n",
      "[CV] max_depth=4, max_features=11, min_samples_split=300 .............\n",
      "[CV]  max_depth=4, max_features=11, min_samples_split=300, score=(train=-0.532, test=-0.553), total=   0.0s\n",
      "[CV] max_depth=4, max_features=11, min_samples_split=300 .............\n",
      "[CV]  max_depth=4, max_features=11, min_samples_split=300, score=(train=-0.537, test=-0.576), total=   0.0s\n",
      "[CV] max_depth=4, max_features=11, min_samples_split=300 .............\n",
      "[CV]  max_depth=4, max_features=11, min_samples_split=300, score=(train=-0.530, test=-0.562), total=   0.0s\n",
      "[CV] max_depth=4, max_features=11, min_samples_split=300 .............\n",
      "[CV]  max_depth=4, max_features=11, min_samples_split=300, score=(train=-0.526, test=-0.572), total=   0.0s\n",
      "[CV] max_depth=4, max_features=11, min_samples_split=300 .............\n",
      "[CV]  max_depth=4, max_features=11, min_samples_split=300, score=(train=-0.549, test=-0.563), total=   0.0s\n",
      "[CV] max_depth=4, max_features=11, min_samples_split=500 .............\n",
      "[CV]  max_depth=4, max_features=11, min_samples_split=500, score=(train=-0.543, test=-0.569), total=   0.0s\n",
      "[CV] max_depth=4, max_features=11, min_samples_split=500 .............\n",
      "[CV]  max_depth=4, max_features=11, min_samples_split=500, score=(train=-0.537, test=-0.576), total=   0.0s\n",
      "[CV] max_depth=4, max_features=11, min_samples_split=500 .............\n",
      "[CV]  max_depth=4, max_features=11, min_samples_split=500, score=(train=-0.546, test=-0.561), total=   0.0s\n",
      "[CV] max_depth=4, max_features=11, min_samples_split=500 .............\n",
      "[CV]  max_depth=4, max_features=11, min_samples_split=500, score=(train=-0.541, test=-0.570), total=   0.0s\n",
      "[CV] max_depth=4, max_features=11, min_samples_split=500 .............\n",
      "[CV]  max_depth=4, max_features=11, min_samples_split=500, score=(train=-0.549, test=-0.563), total=   0.0s\n",
      "[CV] max_depth=4, max_features=11, min_samples_split=1000 ............\n",
      "[CV]  max_depth=4, max_features=11, min_samples_split=1000, score=(train=-0.564, test=-0.589), total=   0.0s\n",
      "[CV] max_depth=4, max_features=11, min_samples_split=1000 ............\n",
      "[CV]  max_depth=4, max_features=11, min_samples_split=1000, score=(train=-0.566, test=-0.587), total=   0.0s\n",
      "[CV] max_depth=4, max_features=11, min_samples_split=1000 ............\n",
      "[CV]  max_depth=4, max_features=11, min_samples_split=1000, score=(train=-0.568, test=-0.587), total=   0.0s\n",
      "[CV] max_depth=4, max_features=11, min_samples_split=1000 ............\n",
      "[CV]  max_depth=4, max_features=11, min_samples_split=1000, score=(train=-0.569, test=-0.568), total=   0.0s\n",
      "[CV] max_depth=4, max_features=11, min_samples_split=1000 ............\n",
      "[CV]  max_depth=4, max_features=11, min_samples_split=1000, score=(train=-0.573, test=-0.564), total=   0.0s\n",
      "[CV] max_depth=6, max_features=5, min_samples_split=10 ...............\n",
      "[CV]  max_depth=6, max_features=5, min_samples_split=10, score=(train=-0.472, test=-0.588), total=   0.0s\n",
      "[CV] max_depth=6, max_features=5, min_samples_split=10 ...............\n",
      "[CV]  max_depth=6, max_features=5, min_samples_split=10, score=(train=-0.476, test=-0.556), total=   0.0s\n",
      "[CV] max_depth=6, max_features=5, min_samples_split=10 ...............\n",
      "[CV]  max_depth=6, max_features=5, min_samples_split=10, score=(train=-0.465, test=-0.590), total=   0.0s\n",
      "[CV] max_depth=6, max_features=5, min_samples_split=10 ...............\n",
      "[CV]  max_depth=6, max_features=5, min_samples_split=10, score=(train=-0.476, test=-0.563), total=   0.0s\n",
      "[CV] max_depth=6, max_features=5, min_samples_split=10 ...............\n",
      "[CV]  max_depth=6, max_features=5, min_samples_split=10, score=(train=-0.453, test=-0.567), total=   0.0s\n",
      "[CV] max_depth=6, max_features=5, min_samples_split=50 ...............\n",
      "[CV]  max_depth=6, max_features=5, min_samples_split=50, score=(train=-0.483, test=-0.594), total=   0.0s\n",
      "[CV] max_depth=6, max_features=5, min_samples_split=50 ...............\n",
      "[CV]  max_depth=6, max_features=5, min_samples_split=50, score=(train=-0.490, test=-0.556), total=   0.0s\n",
      "[CV] max_depth=6, max_features=5, min_samples_split=50 ...............\n",
      "[CV]  max_depth=6, max_features=5, min_samples_split=50, score=(train=-0.466, test=-0.560), total=   0.0s\n",
      "[CV] max_depth=6, max_features=5, min_samples_split=50 ...............\n",
      "[CV]  max_depth=6, max_features=5, min_samples_split=50, score=(train=-0.486, test=-0.555), total=   0.0s\n",
      "[CV] max_depth=6, max_features=5, min_samples_split=50 ...............\n",
      "[CV]  max_depth=6, max_features=5, min_samples_split=50, score=(train=-0.488, test=-0.528), total=   0.0s\n",
      "[CV] max_depth=6, max_features=5, min_samples_split=100 ..............\n",
      "[CV]  max_depth=6, max_features=5, min_samples_split=100, score=(train=-0.490, test=-0.549), total=   0.0s\n",
      "[CV] max_depth=6, max_features=5, min_samples_split=100 ..............\n",
      "[CV]  max_depth=6, max_features=5, min_samples_split=100, score=(train=-0.505, test=-0.565), total=   0.0s\n",
      "[CV] max_depth=6, max_features=5, min_samples_split=100 ..............\n",
      "[CV]  max_depth=6, max_features=5, min_samples_split=100, score=(train=-0.504, test=-0.590), total=   0.0s\n",
      "[CV] max_depth=6, max_features=5, min_samples_split=100 ..............\n",
      "[CV]  max_depth=6, max_features=5, min_samples_split=100, score=(train=-0.524, test=-0.587), total=   0.0s\n",
      "[CV] max_depth=6, max_features=5, min_samples_split=100 ..............\n",
      "[CV]  max_depth=6, max_features=5, min_samples_split=100, score=(train=-0.548, test=-0.580), total=   0.0s\n",
      "[CV] max_depth=6, max_features=5, min_samples_split=200 ..............\n",
      "[CV]  max_depth=6, max_features=5, min_samples_split=200, score=(train=-0.526, test=-0.597), total=   0.0s\n",
      "[CV] max_depth=6, max_features=5, min_samples_split=200 ..............\n",
      "[CV]  max_depth=6, max_features=5, min_samples_split=200, score=(train=-0.515, test=-0.541), total=   0.0s\n",
      "[CV] max_depth=6, max_features=5, min_samples_split=200 ..............\n",
      "[CV]  max_depth=6, max_features=5, min_samples_split=200, score=(train=-0.542, test=-0.601), total=   0.0s\n",
      "[CV] max_depth=6, max_features=5, min_samples_split=200 ..............\n",
      "[CV]  max_depth=6, max_features=5, min_samples_split=200, score=(train=-0.502, test=-0.578), total=   0.0s\n",
      "[CV] max_depth=6, max_features=5, min_samples_split=200 ..............\n",
      "[CV]  max_depth=6, max_features=5, min_samples_split=200, score=(train=-0.579, test=-0.581), total=   0.0s\n",
      "[CV] max_depth=6, max_features=5, min_samples_split=300 ..............\n",
      "[CV]  max_depth=6, max_features=5, min_samples_split=300, score=(train=-0.525, test=-0.565), total=   0.0s\n",
      "[CV] max_depth=6, max_features=5, min_samples_split=300 ..............\n",
      "[CV]  max_depth=6, max_features=5, min_samples_split=300, score=(train=-0.528, test=-0.541), total=   0.0s\n",
      "[CV] max_depth=6, max_features=5, min_samples_split=300 ..............\n",
      "[CV]  max_depth=6, max_features=5, min_samples_split=300, score=(train=-0.537, test=-0.584), total=   0.0s\n",
      "[CV] max_depth=6, max_features=5, min_samples_split=300 ..............\n",
      "[CV]  max_depth=6, max_features=5, min_samples_split=300, score=(train=-0.536, test=-0.556), total=   0.0s\n",
      "[CV] max_depth=6, max_features=5, min_samples_split=300 ..............\n",
      "[CV]  max_depth=6, max_features=5, min_samples_split=300, score=(train=-0.525, test=-0.566), total=   0.0s\n",
      "[CV] max_depth=6, max_features=5, min_samples_split=500 ..............\n",
      "[CV]  max_depth=6, max_features=5, min_samples_split=500, score=(train=-0.543, test=-0.594), total=   0.0s\n",
      "[CV] max_depth=6, max_features=5, min_samples_split=500 ..............\n",
      "[CV]  max_depth=6, max_features=5, min_samples_split=500, score=(train=-0.534, test=-0.567), total=   0.0s\n",
      "[CV] max_depth=6, max_features=5, min_samples_split=500 ..............\n",
      "[CV]  max_depth=6, max_features=5, min_samples_split=500, score=(train=-0.564, test=-0.582), total=   0.0s\n",
      "[CV] max_depth=6, max_features=5, min_samples_split=500 ..............\n",
      "[CV]  max_depth=6, max_features=5, min_samples_split=500, score=(train=-0.613, test=-0.641), total=   0.0s\n",
      "[CV] max_depth=6, max_features=5, min_samples_split=500 ..............\n",
      "[CV]  max_depth=6, max_features=5, min_samples_split=500, score=(train=-0.584, test=-0.595), total=   0.0s\n",
      "[CV] max_depth=6, max_features=5, min_samples_split=1000 .............\n",
      "[CV]  max_depth=6, max_features=5, min_samples_split=1000, score=(train=-0.617, test=-0.650), total=   0.0s\n",
      "[CV] max_depth=6, max_features=5, min_samples_split=1000 .............\n",
      "[CV]  max_depth=6, max_features=5, min_samples_split=1000, score=(train=-0.566, test=-0.574), total=   0.0s\n",
      "[CV] max_depth=6, max_features=5, min_samples_split=1000 .............\n",
      "[CV]  max_depth=6, max_features=5, min_samples_split=1000, score=(train=-0.603, test=-0.641), total=   0.0s\n",
      "[CV] max_depth=6, max_features=5, min_samples_split=1000 .............\n",
      "[CV]  max_depth=6, max_features=5, min_samples_split=1000, score=(train=-0.607, test=-0.590), total=   0.0s\n",
      "[CV] max_depth=6, max_features=5, min_samples_split=1000 .............\n"
     ]
    },
    {
     "name": "stdout",
     "output_type": "stream",
     "text": [
      "[CV]  max_depth=6, max_features=5, min_samples_split=1000, score=(train=-0.593, test=-0.571), total=   0.0s\n",
      "[CV] max_depth=6, max_features=7, min_samples_split=10 ...............\n",
      "[CV]  max_depth=6, max_features=7, min_samples_split=10, score=(train=-0.473, test=-0.568), total=   0.0s\n",
      "[CV] max_depth=6, max_features=7, min_samples_split=10 ...............\n",
      "[CV]  max_depth=6, max_features=7, min_samples_split=10, score=(train=-0.467, test=-0.544), total=   0.0s\n",
      "[CV] max_depth=6, max_features=7, min_samples_split=10 ...............\n",
      "[CV]  max_depth=6, max_features=7, min_samples_split=10, score=(train=-0.448, test=-0.570), total=   0.0s\n",
      "[CV] max_depth=6, max_features=7, min_samples_split=10 ...............\n",
      "[CV]  max_depth=6, max_features=7, min_samples_split=10, score=(train=-0.474, test=-0.570), total=   0.0s\n",
      "[CV] max_depth=6, max_features=7, min_samples_split=10 ...............\n",
      "[CV]  max_depth=6, max_features=7, min_samples_split=10, score=(train=-0.465, test=-0.554), total=   0.0s\n",
      "[CV] max_depth=6, max_features=7, min_samples_split=50 ...............\n",
      "[CV]  max_depth=6, max_features=7, min_samples_split=50, score=(train=-0.472, test=-0.557), total=   0.0s\n",
      "[CV] max_depth=6, max_features=7, min_samples_split=50 ...............\n",
      "[CV]  max_depth=6, max_features=7, min_samples_split=50, score=(train=-0.482, test=-0.546), total=   0.0s\n",
      "[CV] max_depth=6, max_features=7, min_samples_split=50 ...............\n",
      "[CV]  max_depth=6, max_features=7, min_samples_split=50, score=(train=-0.484, test=-0.551), total=   0.0s\n",
      "[CV] max_depth=6, max_features=7, min_samples_split=50 ...............\n",
      "[CV]  max_depth=6, max_features=7, min_samples_split=50, score=(train=-0.477, test=-0.543), total=   0.0s\n",
      "[CV] max_depth=6, max_features=7, min_samples_split=50 ...............\n",
      "[CV]  max_depth=6, max_features=7, min_samples_split=50, score=(train=-0.486, test=-0.551), total=   0.0s\n",
      "[CV] max_depth=6, max_features=7, min_samples_split=100 ..............\n",
      "[CV]  max_depth=6, max_features=7, min_samples_split=100, score=(train=-0.487, test=-0.551), total=   0.0s\n",
      "[CV] max_depth=6, max_features=7, min_samples_split=100 ..............\n",
      "[CV]  max_depth=6, max_features=7, min_samples_split=100, score=(train=-0.495, test=-0.536), total=   0.0s\n",
      "[CV] max_depth=6, max_features=7, min_samples_split=100 ..............\n",
      "[CV]  max_depth=6, max_features=7, min_samples_split=100, score=(train=-0.478, test=-0.576), total=   0.0s\n",
      "[CV] max_depth=6, max_features=7, min_samples_split=100 ..............\n",
      "[CV]  max_depth=6, max_features=7, min_samples_split=100, score=(train=-0.490, test=-0.556), total=   0.0s\n",
      "[CV] max_depth=6, max_features=7, min_samples_split=100 ..............\n",
      "[CV]  max_depth=6, max_features=7, min_samples_split=100, score=(train=-0.507, test=-0.576), total=   0.0s\n",
      "[CV] max_depth=6, max_features=7, min_samples_split=200 ..............\n",
      "[CV]  max_depth=6, max_features=7, min_samples_split=200, score=(train=-0.506, test=-0.562), total=   0.0s\n",
      "[CV] max_depth=6, max_features=7, min_samples_split=200 ..............\n",
      "[CV]  max_depth=6, max_features=7, min_samples_split=200, score=(train=-0.506, test=-0.549), total=   0.0s\n",
      "[CV] max_depth=6, max_features=7, min_samples_split=200 ..............\n",
      "[CV]  max_depth=6, max_features=7, min_samples_split=200, score=(train=-0.500, test=-0.595), total=   0.0s\n",
      "[CV] max_depth=6, max_features=7, min_samples_split=200 ..............\n",
      "[CV]  max_depth=6, max_features=7, min_samples_split=200, score=(train=-0.501, test=-0.550), total=   0.0s\n",
      "[CV] max_depth=6, max_features=7, min_samples_split=200 ..............\n",
      "[CV]  max_depth=6, max_features=7, min_samples_split=200, score=(train=-0.507, test=-0.581), total=   0.0s\n",
      "[CV] max_depth=6, max_features=7, min_samples_split=300 ..............\n",
      "[CV]  max_depth=6, max_features=7, min_samples_split=300, score=(train=-0.518, test=-0.565), total=   0.0s\n",
      "[CV] max_depth=6, max_features=7, min_samples_split=300 ..............\n",
      "[CV]  max_depth=6, max_features=7, min_samples_split=300, score=(train=-0.523, test=-0.592), total=   0.0s\n",
      "[CV] max_depth=6, max_features=7, min_samples_split=300 ..............\n",
      "[CV]  max_depth=6, max_features=7, min_samples_split=300, score=(train=-0.525, test=-0.570), total=   0.0s\n",
      "[CV] max_depth=6, max_features=7, min_samples_split=300 ..............\n",
      "[CV]  max_depth=6, max_features=7, min_samples_split=300, score=(train=-0.540, test=-0.577), total=   0.0s\n",
      "[CV] max_depth=6, max_features=7, min_samples_split=300 ..............\n",
      "[CV]  max_depth=6, max_features=7, min_samples_split=300, score=(train=-0.507, test=-0.531), total=   0.0s\n",
      "[CV] max_depth=6, max_features=7, min_samples_split=500 ..............\n",
      "[CV]  max_depth=6, max_features=7, min_samples_split=500, score=(train=-0.556, test=-0.590), total=   0.0s\n",
      "[CV] max_depth=6, max_features=7, min_samples_split=500 ..............\n",
      "[CV]  max_depth=6, max_features=7, min_samples_split=500, score=(train=-0.516, test=-0.566), total=   0.0s\n",
      "[CV] max_depth=6, max_features=7, min_samples_split=500 ..............\n",
      "[CV]  max_depth=6, max_features=7, min_samples_split=500, score=(train=-0.535, test=-0.560), total=   0.0s\n",
      "[CV] max_depth=6, max_features=7, min_samples_split=500 ..............\n",
      "[CV]  max_depth=6, max_features=7, min_samples_split=500, score=(train=-0.543, test=-0.551), total=   0.0s\n",
      "[CV] max_depth=6, max_features=7, min_samples_split=500 ..............\n",
      "[CV]  max_depth=6, max_features=7, min_samples_split=500, score=(train=-0.546, test=-0.557), total=   0.0s\n",
      "[CV] max_depth=6, max_features=7, min_samples_split=1000 .............\n",
      "[CV]  max_depth=6, max_features=7, min_samples_split=1000, score=(train=-0.585, test=-0.652), total=   0.0s\n",
      "[CV] max_depth=6, max_features=7, min_samples_split=1000 .............\n",
      "[CV]  max_depth=6, max_features=7, min_samples_split=1000, score=(train=-0.580, test=-0.589), total=   0.0s\n",
      "[CV] max_depth=6, max_features=7, min_samples_split=1000 .............\n",
      "[CV]  max_depth=6, max_features=7, min_samples_split=1000, score=(train=-0.574, test=-0.604), total=   0.0s\n",
      "[CV] max_depth=6, max_features=7, min_samples_split=1000 .............\n",
      "[CV]  max_depth=6, max_features=7, min_samples_split=1000, score=(train=-0.599, test=-0.602), total=   0.0s\n",
      "[CV] max_depth=6, max_features=7, min_samples_split=1000 .............\n",
      "[CV]  max_depth=6, max_features=7, min_samples_split=1000, score=(train=-0.573, test=-0.564), total=   0.0s\n",
      "[CV] max_depth=6, max_features=9, min_samples_split=10 ...............\n",
      "[CV]  max_depth=6, max_features=9, min_samples_split=10, score=(train=-0.450, test=-0.545), total=   0.0s\n",
      "[CV] max_depth=6, max_features=9, min_samples_split=10 ...............\n",
      "[CV]  max_depth=6, max_features=9, min_samples_split=10, score=(train=-0.451, test=-0.545), total=   0.0s\n",
      "[CV] max_depth=6, max_features=9, min_samples_split=10 ...............\n",
      "[CV]  max_depth=6, max_features=9, min_samples_split=10, score=(train=-0.445, test=-0.599), total=   0.0s\n",
      "[CV] max_depth=6, max_features=9, min_samples_split=10 ...............\n",
      "[CV]  max_depth=6, max_features=9, min_samples_split=10, score=(train=-0.455, test=-0.567), total=   0.0s\n",
      "[CV] max_depth=6, max_features=9, min_samples_split=10 ...............\n",
      "[CV]  max_depth=6, max_features=9, min_samples_split=10, score=(train=-0.463, test=-0.534), total=   0.0s\n",
      "[CV] max_depth=6, max_features=9, min_samples_split=50 ...............\n",
      "[CV]  max_depth=6, max_features=9, min_samples_split=50, score=(train=-0.490, test=-0.569), total=   0.0s\n",
      "[CV] max_depth=6, max_features=9, min_samples_split=50 ...............\n",
      "[CV]  max_depth=6, max_features=9, min_samples_split=50, score=(train=-0.466, test=-0.540), total=   0.0s\n",
      "[CV] max_depth=6, max_features=9, min_samples_split=50 ...............\n",
      "[CV]  max_depth=6, max_features=9, min_samples_split=50, score=(train=-0.460, test=-0.604), total=   0.0s\n",
      "[CV] max_depth=6, max_features=9, min_samples_split=50 ...............\n",
      "[CV]  max_depth=6, max_features=9, min_samples_split=50, score=(train=-0.468, test=-0.576), total=   0.0s\n",
      "[CV] max_depth=6, max_features=9, min_samples_split=50 ...............\n",
      "[CV]  max_depth=6, max_features=9, min_samples_split=50, score=(train=-0.484, test=-0.547), total=   0.0s\n",
      "[CV] max_depth=6, max_features=9, min_samples_split=100 ..............\n",
      "[CV]  max_depth=6, max_features=9, min_samples_split=100, score=(train=-0.479, test=-0.539), total=   0.0s\n",
      "[CV] max_depth=6, max_features=9, min_samples_split=100 ..............\n",
      "[CV]  max_depth=6, max_features=9, min_samples_split=100, score=(train=-0.495, test=-0.571), total=   0.0s\n",
      "[CV] max_depth=6, max_features=9, min_samples_split=100 ..............\n"
     ]
    },
    {
     "name": "stdout",
     "output_type": "stream",
     "text": [
      "[CV]  max_depth=6, max_features=9, min_samples_split=100, score=(train=-0.492, test=-0.543), total=   0.0s\n",
      "[CV] max_depth=6, max_features=9, min_samples_split=100 ..............\n",
      "[CV]  max_depth=6, max_features=9, min_samples_split=100, score=(train=-0.506, test=-0.569), total=   0.0s\n",
      "[CV] max_depth=6, max_features=9, min_samples_split=100 ..............\n",
      "[CV]  max_depth=6, max_features=9, min_samples_split=100, score=(train=-0.502, test=-0.537), total=   0.0s\n",
      "[CV] max_depth=6, max_features=9, min_samples_split=200 ..............\n",
      "[CV]  max_depth=6, max_features=9, min_samples_split=200, score=(train=-0.506, test=-0.549), total=   0.0s\n",
      "[CV] max_depth=6, max_features=9, min_samples_split=200 ..............\n",
      "[CV]  max_depth=6, max_features=9, min_samples_split=200, score=(train=-0.502, test=-0.537), total=   0.0s\n",
      "[CV] max_depth=6, max_features=9, min_samples_split=200 ..............\n",
      "[CV]  max_depth=6, max_features=9, min_samples_split=200, score=(train=-0.495, test=-0.588), total=   0.0s\n",
      "[CV] max_depth=6, max_features=9, min_samples_split=200 ..............\n",
      "[CV]  max_depth=6, max_features=9, min_samples_split=200, score=(train=-0.495, test=-0.575), total=   0.0s\n",
      "[CV] max_depth=6, max_features=9, min_samples_split=200 ..............\n",
      "[CV]  max_depth=6, max_features=9, min_samples_split=200, score=(train=-0.509, test=-0.540), total=   0.0s\n",
      "[CV] max_depth=6, max_features=9, min_samples_split=300 ..............\n",
      "[CV]  max_depth=6, max_features=9, min_samples_split=300, score=(train=-0.516, test=-0.558), total=   0.0s\n",
      "[CV] max_depth=6, max_features=9, min_samples_split=300 ..............\n",
      "[CV]  max_depth=6, max_features=9, min_samples_split=300, score=(train=-0.510, test=-0.561), total=   0.0s\n",
      "[CV] max_depth=6, max_features=9, min_samples_split=300 ..............\n",
      "[CV]  max_depth=6, max_features=9, min_samples_split=300, score=(train=-0.510, test=-0.567), total=   0.0s\n",
      "[CV] max_depth=6, max_features=9, min_samples_split=300 ..............\n",
      "[CV]  max_depth=6, max_features=9, min_samples_split=300, score=(train=-0.522, test=-0.551), total=   0.0s\n",
      "[CV] max_depth=6, max_features=9, min_samples_split=300 ..............\n",
      "[CV]  max_depth=6, max_features=9, min_samples_split=300, score=(train=-0.517, test=-0.534), total=   0.0s\n",
      "[CV] max_depth=6, max_features=9, min_samples_split=500 ..............\n",
      "[CV]  max_depth=6, max_features=9, min_samples_split=500, score=(train=-0.530, test=-0.571), total=   0.0s\n",
      "[CV] max_depth=6, max_features=9, min_samples_split=500 ..............\n",
      "[CV]  max_depth=6, max_features=9, min_samples_split=500, score=(train=-0.527, test=-0.569), total=   0.0s\n",
      "[CV] max_depth=6, max_features=9, min_samples_split=500 ..............\n",
      "[CV]  max_depth=6, max_features=9, min_samples_split=500, score=(train=-0.538, test=-0.555), total=   0.0s\n",
      "[CV] max_depth=6, max_features=9, min_samples_split=500 ..............\n",
      "[CV]  max_depth=6, max_features=9, min_samples_split=500, score=(train=-0.530, test=-0.563), total=   0.0s\n",
      "[CV] max_depth=6, max_features=9, min_samples_split=500 ..............\n",
      "[CV]  max_depth=6, max_features=9, min_samples_split=500, score=(train=-0.533, test=-0.551), total=   0.0s\n",
      "[CV] max_depth=6, max_features=9, min_samples_split=1000 .............\n",
      "[CV]  max_depth=6, max_features=9, min_samples_split=1000, score=(train=-0.600, test=-0.627), total=   0.0s\n",
      "[CV] max_depth=6, max_features=9, min_samples_split=1000 .............\n",
      "[CV]  max_depth=6, max_features=9, min_samples_split=1000, score=(train=-0.574, test=-0.590), total=   0.0s\n",
      "[CV] max_depth=6, max_features=9, min_samples_split=1000 .............\n",
      "[CV]  max_depth=6, max_features=9, min_samples_split=1000, score=(train=-0.559, test=-0.555), total=   0.0s\n",
      "[CV] max_depth=6, max_features=9, min_samples_split=1000 .............\n",
      "[CV]  max_depth=6, max_features=9, min_samples_split=1000, score=(train=-0.593, test=-0.607), total=   0.0s\n",
      "[CV] max_depth=6, max_features=9, min_samples_split=1000 .............\n",
      "[CV]  max_depth=6, max_features=9, min_samples_split=1000, score=(train=-0.580, test=-0.573), total=   0.0s\n",
      "[CV] max_depth=6, max_features=11, min_samples_split=10 ..............\n",
      "[CV]  max_depth=6, max_features=11, min_samples_split=10, score=(train=-0.448, test=-0.545), total=   0.0s\n",
      "[CV] max_depth=6, max_features=11, min_samples_split=10 ..............\n",
      "[CV]  max_depth=6, max_features=11, min_samples_split=10, score=(train=-0.450, test=-0.550), total=   0.0s\n",
      "[CV] max_depth=6, max_features=11, min_samples_split=10 ..............\n",
      "[CV]  max_depth=6, max_features=11, min_samples_split=10, score=(train=-0.443, test=-0.594), total=   0.0s\n",
      "[CV] max_depth=6, max_features=11, min_samples_split=10 ..............\n",
      "[CV]  max_depth=6, max_features=11, min_samples_split=10, score=(train=-0.453, test=-0.559), total=   0.0s\n",
      "[CV] max_depth=6, max_features=11, min_samples_split=10 ..............\n",
      "[CV]  max_depth=6, max_features=11, min_samples_split=10, score=(train=-0.467, test=-0.562), total=   0.0s\n",
      "[CV] max_depth=6, max_features=11, min_samples_split=50 ..............\n",
      "[CV]  max_depth=6, max_features=11, min_samples_split=50, score=(train=-0.463, test=-0.529), total=   0.0s\n",
      "[CV] max_depth=6, max_features=11, min_samples_split=50 ..............\n",
      "[CV]  max_depth=6, max_features=11, min_samples_split=50, score=(train=-0.468, test=-0.543), total=   0.0s\n",
      "[CV] max_depth=6, max_features=11, min_samples_split=50 ..............\n",
      "[CV]  max_depth=6, max_features=11, min_samples_split=50, score=(train=-0.461, test=-0.564), total=   0.0s\n",
      "[CV] max_depth=6, max_features=11, min_samples_split=50 ..............\n",
      "[CV]  max_depth=6, max_features=11, min_samples_split=50, score=(train=-0.466, test=-0.557), total=   0.0s\n",
      "[CV] max_depth=6, max_features=11, min_samples_split=50 ..............\n",
      "[CV]  max_depth=6, max_features=11, min_samples_split=50, score=(train=-0.484, test=-0.545), total=   0.0s\n",
      "[CV] max_depth=6, max_features=11, min_samples_split=100 .............\n",
      "[CV]  max_depth=6, max_features=11, min_samples_split=100, score=(train=-0.477, test=-0.538), total=   0.0s\n",
      "[CV] max_depth=6, max_features=11, min_samples_split=100 .............\n",
      "[CV]  max_depth=6, max_features=11, min_samples_split=100, score=(train=-0.489, test=-0.552), total=   0.0s\n",
      "[CV] max_depth=6, max_features=11, min_samples_split=100 .............\n",
      "[CV]  max_depth=6, max_features=11, min_samples_split=100, score=(train=-0.484, test=-0.576), total=   0.0s\n",
      "[CV] max_depth=6, max_features=11, min_samples_split=100 .............\n",
      "[CV]  max_depth=6, max_features=11, min_samples_split=100, score=(train=-0.478, test=-0.560), total=   0.0s\n",
      "[CV] max_depth=6, max_features=11, min_samples_split=100 .............\n",
      "[CV]  max_depth=6, max_features=11, min_samples_split=100, score=(train=-0.502, test=-0.547), total=   0.0s\n",
      "[CV] max_depth=6, max_features=11, min_samples_split=200 .............\n",
      "[CV]  max_depth=6, max_features=11, min_samples_split=200, score=(train=-0.498, test=-0.542), total=   0.0s\n",
      "[CV] max_depth=6, max_features=11, min_samples_split=200 .............\n",
      "[CV]  max_depth=6, max_features=11, min_samples_split=200, score=(train=-0.494, test=-0.548), total=   0.0s\n",
      "[CV] max_depth=6, max_features=11, min_samples_split=200 .............\n",
      "[CV]  max_depth=6, max_features=11, min_samples_split=200, score=(train=-0.498, test=-0.569), total=   0.0s\n",
      "[CV] max_depth=6, max_features=11, min_samples_split=200 .............\n",
      "[CV]  max_depth=6, max_features=11, min_samples_split=200, score=(train=-0.492, test=-0.567), total=   0.0s\n",
      "[CV] max_depth=6, max_features=11, min_samples_split=200 .............\n",
      "[CV]  max_depth=6, max_features=11, min_samples_split=200, score=(train=-0.507, test=-0.547), total=   0.0s\n",
      "[CV] max_depth=6, max_features=11, min_samples_split=300 .............\n",
      "[CV]  max_depth=6, max_features=11, min_samples_split=300, score=(train=-0.502, test=-0.542), total=   0.0s\n",
      "[CV] max_depth=6, max_features=11, min_samples_split=300 .............\n",
      "[CV]  max_depth=6, max_features=11, min_samples_split=300, score=(train=-0.499, test=-0.550), total=   0.0s\n",
      "[CV] max_depth=6, max_features=11, min_samples_split=300 .............\n",
      "[CV]  max_depth=6, max_features=11, min_samples_split=300, score=(train=-0.508, test=-0.566), total=   0.0s\n",
      "[CV] max_depth=6, max_features=11, min_samples_split=300 .............\n",
      "[CV]  max_depth=6, max_features=11, min_samples_split=300, score=(train=-0.499, test=-0.564), total=   0.0s\n",
      "[CV] max_depth=6, max_features=11, min_samples_split=300 .............\n"
     ]
    },
    {
     "name": "stdout",
     "output_type": "stream",
     "text": [
      "[CV]  max_depth=6, max_features=11, min_samples_split=300, score=(train=-0.519, test=-0.543), total=   0.0s\n",
      "[CV] max_depth=6, max_features=11, min_samples_split=500 .............\n",
      "[CV]  max_depth=6, max_features=11, min_samples_split=500, score=(train=-0.532, test=-0.564), total=   0.0s\n",
      "[CV] max_depth=6, max_features=11, min_samples_split=500 .............\n",
      "[CV]  max_depth=6, max_features=11, min_samples_split=500, score=(train=-0.519, test=-0.576), total=   0.0s\n",
      "[CV] max_depth=6, max_features=11, min_samples_split=500 .............\n",
      "[CV]  max_depth=6, max_features=11, min_samples_split=500, score=(train=-0.538, test=-0.555), total=   0.0s\n",
      "[CV] max_depth=6, max_features=11, min_samples_split=500 .............\n",
      "[CV]  max_depth=6, max_features=11, min_samples_split=500, score=(train=-0.527, test=-0.566), total=   0.0s\n",
      "[CV] max_depth=6, max_features=11, min_samples_split=500 .............\n",
      "[CV]  max_depth=6, max_features=11, min_samples_split=500, score=(train=-0.534, test=-0.541), total=   0.0s\n",
      "[CV] max_depth=6, max_features=11, min_samples_split=1000 ............\n",
      "[CV]  max_depth=6, max_features=11, min_samples_split=1000, score=(train=-0.564, test=-0.589), total=   0.0s\n",
      "[CV] max_depth=6, max_features=11, min_samples_split=1000 ............\n",
      "[CV]  max_depth=6, max_features=11, min_samples_split=1000, score=(train=-0.566, test=-0.587), total=   0.0s\n",
      "[CV] max_depth=6, max_features=11, min_samples_split=1000 ............\n",
      "[CV]  max_depth=6, max_features=11, min_samples_split=1000, score=(train=-0.568, test=-0.587), total=   0.0s\n",
      "[CV] max_depth=6, max_features=11, min_samples_split=1000 ............\n",
      "[CV]  max_depth=6, max_features=11, min_samples_split=1000, score=(train=-0.569, test=-0.568), total=   0.0s\n",
      "[CV] max_depth=6, max_features=11, min_samples_split=1000 ............\n",
      "[CV]  max_depth=6, max_features=11, min_samples_split=1000, score=(train=-0.573, test=-0.564), total=   0.0s\n",
      "[CV] max_depth=8, max_features=5, min_samples_split=10 ...............\n",
      "[CV]  max_depth=8, max_features=5, min_samples_split=10, score=(train=-0.394, test=-0.599), total=   0.0s\n",
      "[CV] max_depth=8, max_features=5, min_samples_split=10 ...............\n",
      "[CV]  max_depth=8, max_features=5, min_samples_split=10, score=(train=-0.405, test=-0.529), total=   0.0s\n",
      "[CV] max_depth=8, max_features=5, min_samples_split=10 ...............\n",
      "[CV]  max_depth=8, max_features=5, min_samples_split=10, score=(train=-0.379, test=-0.612), total=   0.0s\n",
      "[CV] max_depth=8, max_features=5, min_samples_split=10 ...............\n",
      "[CV]  max_depth=8, max_features=5, min_samples_split=10, score=(train=-0.409, test=-0.539), total=   0.0s\n",
      "[CV] max_depth=8, max_features=5, min_samples_split=10 ...............\n",
      "[CV]  max_depth=8, max_features=5, min_samples_split=10, score=(train=-0.396, test=-0.551), total=   0.0s\n",
      "[CV] max_depth=8, max_features=5, min_samples_split=50 ...............\n",
      "[CV]  max_depth=8, max_features=5, min_samples_split=50, score=(train=-0.436, test=-0.585), total=   0.0s\n",
      "[CV] max_depth=8, max_features=5, min_samples_split=50 ...............\n",
      "[CV]  max_depth=8, max_features=5, min_samples_split=50, score=(train=-0.447, test=-0.521), total=   0.0s\n",
      "[CV] max_depth=8, max_features=5, min_samples_split=50 ...............\n",
      "[CV]  max_depth=8, max_features=5, min_samples_split=50, score=(train=-0.411, test=-0.568), total=   0.0s\n",
      "[CV] max_depth=8, max_features=5, min_samples_split=50 ...............\n",
      "[CV]  max_depth=8, max_features=5, min_samples_split=50, score=(train=-0.438, test=-0.539), total=   0.0s\n",
      "[CV] max_depth=8, max_features=5, min_samples_split=50 ...............\n",
      "[CV]  max_depth=8, max_features=5, min_samples_split=50, score=(train=-0.449, test=-0.565), total=   0.0s\n",
      "[CV] max_depth=8, max_features=5, min_samples_split=100 ..............\n",
      "[CV]  max_depth=8, max_features=5, min_samples_split=100, score=(train=-0.463, test=-0.583), total=   0.0s\n",
      "[CV] max_depth=8, max_features=5, min_samples_split=100 ..............\n",
      "[CV]  max_depth=8, max_features=5, min_samples_split=100, score=(train=-0.463, test=-0.548), total=   0.0s\n",
      "[CV] max_depth=8, max_features=5, min_samples_split=100 ..............\n",
      "[CV]  max_depth=8, max_features=5, min_samples_split=100, score=(train=-0.467, test=-0.641), total=   0.0s\n",
      "[CV] max_depth=8, max_features=5, min_samples_split=100 ..............\n",
      "[CV]  max_depth=8, max_features=5, min_samples_split=100, score=(train=-0.467, test=-0.606), total=   0.0s\n",
      "[CV] max_depth=8, max_features=5, min_samples_split=100 ..............\n",
      "[CV]  max_depth=8, max_features=5, min_samples_split=100, score=(train=-0.473, test=-0.561), total=   0.0s\n",
      "[CV] max_depth=8, max_features=5, min_samples_split=200 ..............\n",
      "[CV]  max_depth=8, max_features=5, min_samples_split=200, score=(train=-0.512, test=-0.575), total=   0.0s\n",
      "[CV] max_depth=8, max_features=5, min_samples_split=200 ..............\n",
      "[CV]  max_depth=8, max_features=5, min_samples_split=200, score=(train=-0.506, test=-0.559), total=   0.0s\n",
      "[CV] max_depth=8, max_features=5, min_samples_split=200 ..............\n",
      "[CV]  max_depth=8, max_features=5, min_samples_split=200, score=(train=-0.503, test=-0.584), total=   0.0s\n",
      "[CV] max_depth=8, max_features=5, min_samples_split=200 ..............\n",
      "[CV]  max_depth=8, max_features=5, min_samples_split=200, score=(train=-0.478, test=-0.537), total=   0.0s\n",
      "[CV] max_depth=8, max_features=5, min_samples_split=200 ..............\n",
      "[CV]  max_depth=8, max_features=5, min_samples_split=200, score=(train=-0.518, test=-0.596), total=   0.0s\n",
      "[CV] max_depth=8, max_features=5, min_samples_split=300 ..............\n",
      "[CV]  max_depth=8, max_features=5, min_samples_split=300, score=(train=-0.513, test=-0.564), total=   0.0s\n",
      "[CV] max_depth=8, max_features=5, min_samples_split=300 ..............\n",
      "[CV]  max_depth=8, max_features=5, min_samples_split=300, score=(train=-0.496, test=-0.538), total=   0.0s\n",
      "[CV] max_depth=8, max_features=5, min_samples_split=300 ..............\n",
      "[CV]  max_depth=8, max_features=5, min_samples_split=300, score=(train=-0.510, test=-0.552), total=   0.0s\n",
      "[CV] max_depth=8, max_features=5, min_samples_split=300 ..............\n",
      "[CV]  max_depth=8, max_features=5, min_samples_split=300, score=(train=-0.521, test=-0.573), total=   0.0s\n",
      "[CV] max_depth=8, max_features=5, min_samples_split=300 ..............\n",
      "[CV]  max_depth=8, max_features=5, min_samples_split=300, score=(train=-0.519, test=-0.587), total=   0.0s\n",
      "[CV] max_depth=8, max_features=5, min_samples_split=500 ..............\n",
      "[CV]  max_depth=8, max_features=5, min_samples_split=500, score=(train=-0.557, test=-0.601), total=   0.0s\n",
      "[CV] max_depth=8, max_features=5, min_samples_split=500 ..............\n",
      "[CV]  max_depth=8, max_features=5, min_samples_split=500, score=(train=-0.550, test=-0.578), total=   0.0s\n",
      "[CV] max_depth=8, max_features=5, min_samples_split=500 ..............\n",
      "[CV]  max_depth=8, max_features=5, min_samples_split=500, score=(train=-0.583, test=-0.622), total=   0.0s\n",
      "[CV] max_depth=8, max_features=5, min_samples_split=500 ..............\n",
      "[CV]  max_depth=8, max_features=5, min_samples_split=500, score=(train=-0.535, test=-0.549), total=   0.0s\n",
      "[CV] max_depth=8, max_features=5, min_samples_split=500 ..............\n",
      "[CV]  max_depth=8, max_features=5, min_samples_split=500, score=(train=-0.576, test=-0.594), total=   0.0s\n",
      "[CV] max_depth=8, max_features=5, min_samples_split=1000 .............\n",
      "[CV]  max_depth=8, max_features=5, min_samples_split=1000, score=(train=-0.596, test=-0.647), total=   0.0s\n",
      "[CV] max_depth=8, max_features=5, min_samples_split=1000 .............\n",
      "[CV]  max_depth=8, max_features=5, min_samples_split=1000, score=(train=-0.574, test=-0.590), total=   0.0s\n",
      "[CV] max_depth=8, max_features=5, min_samples_split=1000 .............\n",
      "[CV]  max_depth=8, max_features=5, min_samples_split=1000, score=(train=-0.574, test=-0.605), total=   0.0s\n",
      "[CV] max_depth=8, max_features=5, min_samples_split=1000 .............\n",
      "[CV]  max_depth=8, max_features=5, min_samples_split=1000, score=(train=-0.607, test=-0.596), total=   0.0s\n",
      "[CV] max_depth=8, max_features=5, min_samples_split=1000 .............\n",
      "[CV]  max_depth=8, max_features=5, min_samples_split=1000, score=(train=-0.592, test=-0.567), total=   0.0s\n",
      "[CV] max_depth=8, max_features=7, min_samples_split=10 ...............\n"
     ]
    },
    {
     "name": "stdout",
     "output_type": "stream",
     "text": [
      "[CV]  max_depth=8, max_features=7, min_samples_split=10, score=(train=-0.371, test=-0.588), total=   0.0s\n",
      "[CV] max_depth=8, max_features=7, min_samples_split=10 ...............\n",
      "[CV]  max_depth=8, max_features=7, min_samples_split=10, score=(train=-0.378, test=-0.585), total=   0.0s\n",
      "[CV] max_depth=8, max_features=7, min_samples_split=10 ...............\n",
      "[CV]  max_depth=8, max_features=7, min_samples_split=10, score=(train=-0.363, test=-0.650), total=   0.0s\n",
      "[CV] max_depth=8, max_features=7, min_samples_split=10 ...............\n",
      "[CV]  max_depth=8, max_features=7, min_samples_split=10, score=(train=-0.363, test=-0.583), total=   0.0s\n",
      "[CV] max_depth=8, max_features=7, min_samples_split=10 ...............\n",
      "[CV]  max_depth=8, max_features=7, min_samples_split=10, score=(train=-0.390, test=-0.554), total=   0.0s\n",
      "[CV] max_depth=8, max_features=7, min_samples_split=50 ...............\n",
      "[CV]  max_depth=8, max_features=7, min_samples_split=50, score=(train=-0.409, test=-0.582), total=   0.0s\n",
      "[CV] max_depth=8, max_features=7, min_samples_split=50 ...............\n",
      "[CV]  max_depth=8, max_features=7, min_samples_split=50, score=(train=-0.413, test=-0.557), total=   0.0s\n",
      "[CV] max_depth=8, max_features=7, min_samples_split=50 ...............\n",
      "[CV]  max_depth=8, max_features=7, min_samples_split=50, score=(train=-0.423, test=-0.593), total=   0.0s\n",
      "[CV] max_depth=8, max_features=7, min_samples_split=50 ...............\n",
      "[CV]  max_depth=8, max_features=7, min_samples_split=50, score=(train=-0.428, test=-0.536), total=   0.0s\n",
      "[CV] max_depth=8, max_features=7, min_samples_split=50 ...............\n",
      "[CV]  max_depth=8, max_features=7, min_samples_split=50, score=(train=-0.452, test=-0.539), total=   0.0s\n",
      "[CV] max_depth=8, max_features=7, min_samples_split=100 ..............\n",
      "[CV]  max_depth=8, max_features=7, min_samples_split=100, score=(train=-0.449, test=-0.550), total=   0.0s\n",
      "[CV] max_depth=8, max_features=7, min_samples_split=100 ..............\n",
      "[CV]  max_depth=8, max_features=7, min_samples_split=100, score=(train=-0.456, test=-0.556), total=   0.0s\n",
      "[CV] max_depth=8, max_features=7, min_samples_split=100 ..............\n",
      "[CV]  max_depth=8, max_features=7, min_samples_split=100, score=(train=-0.454, test=-0.567), total=   0.0s\n",
      "[CV] max_depth=8, max_features=7, min_samples_split=100 ..............\n",
      "[CV]  max_depth=8, max_features=7, min_samples_split=100, score=(train=-0.491, test=-0.567), total=   0.0s\n",
      "[CV] max_depth=8, max_features=7, min_samples_split=100 ..............\n",
      "[CV]  max_depth=8, max_features=7, min_samples_split=100, score=(train=-0.471, test=-0.554), total=   0.0s\n",
      "[CV] max_depth=8, max_features=7, min_samples_split=200 ..............\n",
      "[CV]  max_depth=8, max_features=7, min_samples_split=200, score=(train=-0.492, test=-0.571), total=   0.0s\n",
      "[CV] max_depth=8, max_features=7, min_samples_split=200 ..............\n",
      "[CV]  max_depth=8, max_features=7, min_samples_split=200, score=(train=-0.500, test=-0.537), total=   0.0s\n",
      "[CV] max_depth=8, max_features=7, min_samples_split=200 ..............\n",
      "[CV]  max_depth=8, max_features=7, min_samples_split=200, score=(train=-0.485, test=-0.570), total=   0.0s\n",
      "[CV] max_depth=8, max_features=7, min_samples_split=200 ..............\n",
      "[CV]  max_depth=8, max_features=7, min_samples_split=200, score=(train=-0.485, test=-0.570), total=   0.0s\n",
      "[CV] max_depth=8, max_features=7, min_samples_split=200 ..............\n",
      "[CV]  max_depth=8, max_features=7, min_samples_split=200, score=(train=-0.515, test=-0.546), total=   0.0s\n",
      "[CV] max_depth=8, max_features=7, min_samples_split=300 ..............\n",
      "[CV]  max_depth=8, max_features=7, min_samples_split=300, score=(train=-0.491, test=-0.571), total=   0.0s\n",
      "[CV] max_depth=8, max_features=7, min_samples_split=300 ..............\n",
      "[CV]  max_depth=8, max_features=7, min_samples_split=300, score=(train=-0.514, test=-0.564), total=   0.0s\n",
      "[CV] max_depth=8, max_features=7, min_samples_split=300 ..............\n",
      "[CV]  max_depth=8, max_features=7, min_samples_split=300, score=(train=-0.510, test=-0.559), total=   0.0s\n",
      "[CV] max_depth=8, max_features=7, min_samples_split=300 ..............\n",
      "[CV]  max_depth=8, max_features=7, min_samples_split=300, score=(train=-0.505, test=-0.533), total=   0.0s\n",
      "[CV] max_depth=8, max_features=7, min_samples_split=300 ..............\n",
      "[CV]  max_depth=8, max_features=7, min_samples_split=300, score=(train=-0.529, test=-0.536), total=   0.0s\n",
      "[CV] max_depth=8, max_features=7, min_samples_split=500 ..............\n",
      "[CV]  max_depth=8, max_features=7, min_samples_split=500, score=(train=-0.546, test=-0.586), total=   0.0s\n",
      "[CV] max_depth=8, max_features=7, min_samples_split=500 ..............\n",
      "[CV]  max_depth=8, max_features=7, min_samples_split=500, score=(train=-0.556, test=-0.582), total=   0.0s\n",
      "[CV] max_depth=8, max_features=7, min_samples_split=500 ..............\n",
      "[CV]  max_depth=8, max_features=7, min_samples_split=500, score=(train=-0.563, test=-0.623), total=   0.0s\n",
      "[CV] max_depth=8, max_features=7, min_samples_split=500 ..............\n",
      "[CV]  max_depth=8, max_features=7, min_samples_split=500, score=(train=-0.530, test=-0.570), total=   0.0s\n",
      "[CV] max_depth=8, max_features=7, min_samples_split=500 ..............\n",
      "[CV]  max_depth=8, max_features=7, min_samples_split=500, score=(train=-0.530, test=-0.557), total=   0.0s\n",
      "[CV] max_depth=8, max_features=7, min_samples_split=1000 .............\n",
      "[CV]  max_depth=8, max_features=7, min_samples_split=1000, score=(train=-0.608, test=-0.636), total=   0.0s\n",
      "[CV] max_depth=8, max_features=7, min_samples_split=1000 .............\n",
      "[CV]  max_depth=8, max_features=7, min_samples_split=1000, score=(train=-0.620, test=-0.603), total=   0.0s\n",
      "[CV] max_depth=8, max_features=7, min_samples_split=1000 .............\n",
      "[CV]  max_depth=8, max_features=7, min_samples_split=1000, score=(train=-0.583, test=-0.617), total=   0.0s\n",
      "[CV] max_depth=8, max_features=7, min_samples_split=1000 .............\n",
      "[CV]  max_depth=8, max_features=7, min_samples_split=1000, score=(train=-0.591, test=-0.617), total=   0.0s\n",
      "[CV] max_depth=8, max_features=7, min_samples_split=1000 .............\n",
      "[CV]  max_depth=8, max_features=7, min_samples_split=1000, score=(train=-0.592, test=-0.573), total=   0.0s\n",
      "[CV] max_depth=8, max_features=9, min_samples_split=10 ...............\n",
      "[CV]  max_depth=8, max_features=9, min_samples_split=10, score=(train=-0.391, test=-0.574), total=   0.0s\n",
      "[CV] max_depth=8, max_features=9, min_samples_split=10 ...............\n",
      "[CV]  max_depth=8, max_features=9, min_samples_split=10, score=(train=-0.386, test=-0.538), total=   0.0s\n",
      "[CV] max_depth=8, max_features=9, min_samples_split=10 ...............\n",
      "[CV]  max_depth=8, max_features=9, min_samples_split=10, score=(train=-0.363, test=-0.637), total=   0.0s\n",
      "[CV] max_depth=8, max_features=9, min_samples_split=10 ...............\n",
      "[CV]  max_depth=8, max_features=9, min_samples_split=10, score=(train=-0.368, test=-0.607), total=   0.0s\n",
      "[CV] max_depth=8, max_features=9, min_samples_split=10 ...............\n",
      "[CV]  max_depth=8, max_features=9, min_samples_split=10, score=(train=-0.363, test=-0.607), total=   0.0s\n",
      "[CV] max_depth=8, max_features=9, min_samples_split=50 ...............\n",
      "[CV]  max_depth=8, max_features=9, min_samples_split=50, score=(train=-0.425, test=-0.531), total=   0.0s\n",
      "[CV] max_depth=8, max_features=9, min_samples_split=50 ...............\n",
      "[CV]  max_depth=8, max_features=9, min_samples_split=50, score=(train=-0.428, test=-0.540), total=   0.0s\n",
      "[CV] max_depth=8, max_features=9, min_samples_split=50 ...............\n",
      "[CV]  max_depth=8, max_features=9, min_samples_split=50, score=(train=-0.402, test=-0.596), total=   0.0s\n",
      "[CV] max_depth=8, max_features=9, min_samples_split=50 ...............\n",
      "[CV]  max_depth=8, max_features=9, min_samples_split=50, score=(train=-0.427, test=-0.559), total=   0.0s\n",
      "[CV] max_depth=8, max_features=9, min_samples_split=50 ...............\n",
      "[CV]  max_depth=8, max_features=9, min_samples_split=50, score=(train=-0.437, test=-0.568), total=   0.0s\n",
      "[CV] max_depth=8, max_features=9, min_samples_split=100 ..............\n",
      "[CV]  max_depth=8, max_features=9, min_samples_split=100, score=(train=-0.450, test=-0.577), total=   0.0s\n",
      "[CV] max_depth=8, max_features=9, min_samples_split=100 ..............\n",
      "[CV]  max_depth=8, max_features=9, min_samples_split=100, score=(train=-0.457, test=-0.554), total=   0.0s\n",
      "[CV] max_depth=8, max_features=9, min_samples_split=100 ..............\n",
      "[CV]  max_depth=8, max_features=9, min_samples_split=100, score=(train=-0.450, test=-0.602), total=   0.1s\n",
      "[CV] max_depth=8, max_features=9, min_samples_split=100 ..............\n",
      "[CV]  max_depth=8, max_features=9, min_samples_split=100, score=(train=-0.451, test=-0.561), total=   0.0s\n",
      "[CV] max_depth=8, max_features=9, min_samples_split=100 ..............\n",
      "[CV]  max_depth=8, max_features=9, min_samples_split=100, score=(train=-0.470, test=-0.525), total=   0.0s\n",
      "[CV] max_depth=8, max_features=9, min_samples_split=200 ..............\n",
      "[CV]  max_depth=8, max_features=9, min_samples_split=200, score=(train=-0.481, test=-0.574), total=   0.0s\n",
      "[CV] max_depth=8, max_features=9, min_samples_split=200 ..............\n"
     ]
    },
    {
     "name": "stdout",
     "output_type": "stream",
     "text": [
      "[CV]  max_depth=8, max_features=9, min_samples_split=200, score=(train=-0.478, test=-0.587), total=   0.1s\n",
      "[CV] max_depth=8, max_features=9, min_samples_split=200 ..............\n",
      "[CV]  max_depth=8, max_features=9, min_samples_split=200, score=(train=-0.487, test=-0.560), total=   0.0s\n",
      "[CV] max_depth=8, max_features=9, min_samples_split=200 ..............\n",
      "[CV]  max_depth=8, max_features=9, min_samples_split=200, score=(train=-0.469, test=-0.588), total=   0.0s\n",
      "[CV] max_depth=8, max_features=9, min_samples_split=200 ..............\n",
      "[CV]  max_depth=8, max_features=9, min_samples_split=200, score=(train=-0.486, test=-0.530), total=   0.0s\n",
      "[CV] max_depth=8, max_features=9, min_samples_split=300 ..............\n",
      "[CV]  max_depth=8, max_features=9, min_samples_split=300, score=(train=-0.493, test=-0.550), total=   0.0s\n",
      "[CV] max_depth=8, max_features=9, min_samples_split=300 ..............\n",
      "[CV]  max_depth=8, max_features=9, min_samples_split=300, score=(train=-0.500, test=-0.558), total=   0.0s\n",
      "[CV] max_depth=8, max_features=9, min_samples_split=300 ..............\n",
      "[CV]  max_depth=8, max_features=9, min_samples_split=300, score=(train=-0.508, test=-0.539), total=   0.0s\n",
      "[CV] max_depth=8, max_features=9, min_samples_split=300 ..............\n",
      "[CV]  max_depth=8, max_features=9, min_samples_split=300, score=(train=-0.490, test=-0.574), total=   0.0s\n",
      "[CV] max_depth=8, max_features=9, min_samples_split=300 ..............\n",
      "[CV]  max_depth=8, max_features=9, min_samples_split=300, score=(train=-0.507, test=-0.521), total=   0.0s\n",
      "[CV] max_depth=8, max_features=9, min_samples_split=500 ..............\n",
      "[CV]  max_depth=8, max_features=9, min_samples_split=500, score=(train=-0.526, test=-0.568), total=   0.0s\n",
      "[CV] max_depth=8, max_features=9, min_samples_split=500 ..............\n",
      "[CV]  max_depth=8, max_features=9, min_samples_split=500, score=(train=-0.521, test=-0.554), total=   0.0s\n",
      "[CV] max_depth=8, max_features=9, min_samples_split=500 ..............\n",
      "[CV]  max_depth=8, max_features=9, min_samples_split=500, score=(train=-0.535, test=-0.567), total=   0.0s\n",
      "[CV] max_depth=8, max_features=9, min_samples_split=500 ..............\n",
      "[CV]  max_depth=8, max_features=9, min_samples_split=500, score=(train=-0.543, test=-0.563), total=   0.0s\n",
      "[CV] max_depth=8, max_features=9, min_samples_split=500 ..............\n",
      "[CV]  max_depth=8, max_features=9, min_samples_split=500, score=(train=-0.574, test=-0.592), total=   0.0s\n",
      "[CV] max_depth=8, max_features=9, min_samples_split=1000 .............\n",
      "[CV]  max_depth=8, max_features=9, min_samples_split=1000, score=(train=-0.571, test=-0.610), total=   0.0s\n",
      "[CV] max_depth=8, max_features=9, min_samples_split=1000 .............\n",
      "[CV]  max_depth=8, max_features=9, min_samples_split=1000, score=(train=-0.616, test=-0.606), total=   0.0s\n",
      "[CV] max_depth=8, max_features=9, min_samples_split=1000 .............\n",
      "[CV]  max_depth=8, max_features=9, min_samples_split=1000, score=(train=-0.568, test=-0.587), total=   0.0s\n",
      "[CV] max_depth=8, max_features=9, min_samples_split=1000 .............\n",
      "[CV]  max_depth=8, max_features=9, min_samples_split=1000, score=(train=-0.586, test=-0.589), total=   0.0s\n",
      "[CV] max_depth=8, max_features=9, min_samples_split=1000 .............\n",
      "[CV]  max_depth=8, max_features=9, min_samples_split=1000, score=(train=-0.558, test=-0.568), total=   0.0s\n",
      "[CV] max_depth=8, max_features=11, min_samples_split=10 ..............\n",
      "[CV]  max_depth=8, max_features=11, min_samples_split=10, score=(train=-0.375, test=-0.570), total=   0.0s\n",
      "[CV] max_depth=8, max_features=11, min_samples_split=10 ..............\n",
      "[CV]  max_depth=8, max_features=11, min_samples_split=10, score=(train=-0.378, test=-0.537), total=   0.0s\n",
      "[CV] max_depth=8, max_features=11, min_samples_split=10 ..............\n",
      "[CV]  max_depth=8, max_features=11, min_samples_split=10, score=(train=-0.345, test=-0.638), total=   0.0s\n",
      "[CV] max_depth=8, max_features=11, min_samples_split=10 ..............\n",
      "[CV]  max_depth=8, max_features=11, min_samples_split=10, score=(train=-0.377, test=-0.570), total=   0.0s\n",
      "[CV] max_depth=8, max_features=11, min_samples_split=10 ..............\n",
      "[CV]  max_depth=8, max_features=11, min_samples_split=10, score=(train=-0.388, test=-0.537), total=   0.0s\n",
      "[CV] max_depth=8, max_features=11, min_samples_split=50 ..............\n",
      "[CV]  max_depth=8, max_features=11, min_samples_split=50, score=(train=-0.409, test=-0.557), total=   0.0s\n",
      "[CV] max_depth=8, max_features=11, min_samples_split=50 ..............\n",
      "[CV]  max_depth=8, max_features=11, min_samples_split=50, score=(train=-0.419, test=-0.539), total=   0.0s\n",
      "[CV] max_depth=8, max_features=11, min_samples_split=50 ..............\n",
      "[CV]  max_depth=8, max_features=11, min_samples_split=50, score=(train=-0.410, test=-0.561), total=   0.0s\n",
      "[CV] max_depth=8, max_features=11, min_samples_split=50 ..............\n",
      "[CV]  max_depth=8, max_features=11, min_samples_split=50, score=(train=-0.419, test=-0.556), total=   0.0s\n",
      "[CV] max_depth=8, max_features=11, min_samples_split=50 ..............\n",
      "[CV]  max_depth=8, max_features=11, min_samples_split=50, score=(train=-0.436, test=-0.537), total=   0.0s\n",
      "[CV] max_depth=8, max_features=11, min_samples_split=100 .............\n",
      "[CV]  max_depth=8, max_features=11, min_samples_split=100, score=(train=-0.441, test=-0.543), total=   0.0s\n",
      "[CV] max_depth=8, max_features=11, min_samples_split=100 .............\n",
      "[CV]  max_depth=8, max_features=11, min_samples_split=100, score=(train=-0.456, test=-0.550), total=   0.0s\n",
      "[CV] max_depth=8, max_features=11, min_samples_split=100 .............\n",
      "[CV]  max_depth=8, max_features=11, min_samples_split=100, score=(train=-0.450, test=-0.574), total=   0.0s\n",
      "[CV] max_depth=8, max_features=11, min_samples_split=100 .............\n",
      "[CV]  max_depth=8, max_features=11, min_samples_split=100, score=(train=-0.443, test=-0.560), total=   0.0s\n",
      "[CV] max_depth=8, max_features=11, min_samples_split=100 .............\n",
      "[CV]  max_depth=8, max_features=11, min_samples_split=100, score=(train=-0.470, test=-0.548), total=   0.0s\n",
      "[CV] max_depth=8, max_features=11, min_samples_split=200 .............\n",
      "[CV]  max_depth=8, max_features=11, min_samples_split=200, score=(train=-0.479, test=-0.538), total=   0.0s\n",
      "[CV] max_depth=8, max_features=11, min_samples_split=200 .............\n",
      "[CV]  max_depth=8, max_features=11, min_samples_split=200, score=(train=-0.477, test=-0.549), total=   0.0s\n",
      "[CV] max_depth=8, max_features=11, min_samples_split=200 .............\n",
      "[CV]  max_depth=8, max_features=11, min_samples_split=200, score=(train=-0.483, test=-0.567), total=   0.0s\n",
      "[CV] max_depth=8, max_features=11, min_samples_split=200 .............\n",
      "[CV]  max_depth=8, max_features=11, min_samples_split=200, score=(train=-0.473, test=-0.569), total=   0.0s\n",
      "[CV] max_depth=8, max_features=11, min_samples_split=200 .............\n",
      "[CV]  max_depth=8, max_features=11, min_samples_split=200, score=(train=-0.488, test=-0.544), total=   0.0s\n",
      "[CV] max_depth=8, max_features=11, min_samples_split=300 .............\n",
      "[CV]  max_depth=8, max_features=11, min_samples_split=300, score=(train=-0.489, test=-0.540), total=   0.0s\n",
      "[CV] max_depth=8, max_features=11, min_samples_split=300 .............\n",
      "[CV]  max_depth=8, max_features=11, min_samples_split=300, score=(train=-0.490, test=-0.542), total=   0.0s\n",
      "[CV] max_depth=8, max_features=11, min_samples_split=300 .............\n",
      "[CV]  max_depth=8, max_features=11, min_samples_split=300, score=(train=-0.506, test=-0.566), total=   0.0s\n",
      "[CV] max_depth=8, max_features=11, min_samples_split=300 .............\n",
      "[CV]  max_depth=8, max_features=11, min_samples_split=300, score=(train=-0.492, test=-0.566), total=   0.0s\n",
      "[CV] max_depth=8, max_features=11, min_samples_split=300 .............\n",
      "[CV]  max_depth=8, max_features=11, min_samples_split=300, score=(train=-0.503, test=-0.540), total=   0.0s\n",
      "[CV] max_depth=8, max_features=11, min_samples_split=500 .............\n",
      "[CV]  max_depth=8, max_features=11, min_samples_split=500, score=(train=-0.529, test=-0.567), total=   0.0s\n",
      "[CV] max_depth=8, max_features=11, min_samples_split=500 .............\n",
      "[CV]  max_depth=8, max_features=11, min_samples_split=500, score=(train=-0.514, test=-0.568), total=   0.0s\n",
      "[CV] max_depth=8, max_features=11, min_samples_split=500 .............\n"
     ]
    },
    {
     "name": "stdout",
     "output_type": "stream",
     "text": [
      "[CV]  max_depth=8, max_features=11, min_samples_split=500, score=(train=-0.538, test=-0.555), total=   0.0s\n",
      "[CV] max_depth=8, max_features=11, min_samples_split=500 .............\n",
      "[CV]  max_depth=8, max_features=11, min_samples_split=500, score=(train=-0.526, test=-0.570), total=   0.0s\n",
      "[CV] max_depth=8, max_features=11, min_samples_split=500 .............\n",
      "[CV]  max_depth=8, max_features=11, min_samples_split=500, score=(train=-0.530, test=-0.543), total=   0.0s\n",
      "[CV] max_depth=8, max_features=11, min_samples_split=1000 ............\n",
      "[CV]  max_depth=8, max_features=11, min_samples_split=1000, score=(train=-0.564, test=-0.589), total=   0.0s\n",
      "[CV] max_depth=8, max_features=11, min_samples_split=1000 ............\n",
      "[CV]  max_depth=8, max_features=11, min_samples_split=1000, score=(train=-0.566, test=-0.587), total=   0.0s\n",
      "[CV] max_depth=8, max_features=11, min_samples_split=1000 ............\n",
      "[CV]  max_depth=8, max_features=11, min_samples_split=1000, score=(train=-0.568, test=-0.587), total=   0.0s\n",
      "[CV] max_depth=8, max_features=11, min_samples_split=1000 ............\n",
      "[CV]  max_depth=8, max_features=11, min_samples_split=1000, score=(train=-0.569, test=-0.568), total=   0.0s\n",
      "[CV] max_depth=8, max_features=11, min_samples_split=1000 ............\n",
      "[CV]  max_depth=8, max_features=11, min_samples_split=1000, score=(train=-0.573, test=-0.564), total=   0.0s\n",
      "[CV] max_depth=10, max_features=5, min_samples_split=10 ..............\n",
      "[CV]  max_depth=10, max_features=5, min_samples_split=10, score=(train=-0.291, test=-0.645), total=   0.0s\n",
      "[CV] max_depth=10, max_features=5, min_samples_split=10 ..............\n",
      "[CV]  max_depth=10, max_features=5, min_samples_split=10, score=(train=-0.298, test=-0.552), total=   0.0s\n",
      "[CV] max_depth=10, max_features=5, min_samples_split=10 ..............\n",
      "[CV]  max_depth=10, max_features=5, min_samples_split=10, score=(train=-0.308, test=-0.689), total=   0.0s\n",
      "[CV] max_depth=10, max_features=5, min_samples_split=10 ..............\n",
      "[CV]  max_depth=10, max_features=5, min_samples_split=10, score=(train=-0.323, test=-0.591), total=   0.0s\n",
      "[CV] max_depth=10, max_features=5, min_samples_split=10 ..............\n",
      "[CV]  max_depth=10, max_features=5, min_samples_split=10, score=(train=-0.305, test=-0.617), total=   0.0s\n",
      "[CV] max_depth=10, max_features=5, min_samples_split=50 ..............\n",
      "[CV]  max_depth=10, max_features=5, min_samples_split=50, score=(train=-0.399, test=-0.642), total=   0.0s\n",
      "[CV] max_depth=10, max_features=5, min_samples_split=50 ..............\n",
      "[CV]  max_depth=10, max_features=5, min_samples_split=50, score=(train=-0.401, test=-0.625), total=   0.0s\n",
      "[CV] max_depth=10, max_features=5, min_samples_split=50 ..............\n",
      "[CV]  max_depth=10, max_features=5, min_samples_split=50, score=(train=-0.410, test=-0.570), total=   0.0s\n",
      "[CV] max_depth=10, max_features=5, min_samples_split=50 ..............\n",
      "[CV]  max_depth=10, max_features=5, min_samples_split=50, score=(train=-0.392, test=-0.561), total=   0.0s\n",
      "[CV] max_depth=10, max_features=5, min_samples_split=50 ..............\n",
      "[CV]  max_depth=10, max_features=5, min_samples_split=50, score=(train=-0.414, test=-0.575), total=   0.0s\n",
      "[CV] max_depth=10, max_features=5, min_samples_split=100 .............\n",
      "[CV]  max_depth=10, max_features=5, min_samples_split=100, score=(train=-0.424, test=-0.603), total=   0.0s\n",
      "[CV] max_depth=10, max_features=5, min_samples_split=100 .............\n",
      "[CV]  max_depth=10, max_features=5, min_samples_split=100, score=(train=-0.450, test=-0.566), total=   0.0s\n",
      "[CV] max_depth=10, max_features=5, min_samples_split=100 .............\n",
      "[CV]  max_depth=10, max_features=5, min_samples_split=100, score=(train=-0.445, test=-0.600), total=   0.0s\n",
      "[CV] max_depth=10, max_features=5, min_samples_split=100 .............\n",
      "[CV]  max_depth=10, max_features=5, min_samples_split=100, score=(train=-0.438, test=-0.558), total=   0.0s\n",
      "[CV] max_depth=10, max_features=5, min_samples_split=100 .............\n",
      "[CV]  max_depth=10, max_features=5, min_samples_split=100, score=(train=-0.435, test=-0.561), total=   0.0s\n",
      "[CV] max_depth=10, max_features=5, min_samples_split=200 .............\n",
      "[CV]  max_depth=10, max_features=5, min_samples_split=200, score=(train=-0.489, test=-0.564), total=   0.0s\n",
      "[CV] max_depth=10, max_features=5, min_samples_split=200 .............\n",
      "[CV]  max_depth=10, max_features=5, min_samples_split=200, score=(train=-0.487, test=-0.542), total=   0.0s\n",
      "[CV] max_depth=10, max_features=5, min_samples_split=200 .............\n",
      "[CV]  max_depth=10, max_features=5, min_samples_split=200, score=(train=-0.506, test=-0.581), total=   0.0s\n",
      "[CV] max_depth=10, max_features=5, min_samples_split=200 .............\n",
      "[CV]  max_depth=10, max_features=5, min_samples_split=200, score=(train=-0.494, test=-0.620), total=   0.0s\n",
      "[CV] max_depth=10, max_features=5, min_samples_split=200 .............\n",
      "[CV]  max_depth=10, max_features=5, min_samples_split=200, score=(train=-0.482, test=-0.560), total=   0.0s\n",
      "[CV] max_depth=10, max_features=5, min_samples_split=300 .............\n",
      "[CV]  max_depth=10, max_features=5, min_samples_split=300, score=(train=-0.548, test=-0.606), total=   0.0s\n",
      "[CV] max_depth=10, max_features=5, min_samples_split=300 .............\n",
      "[CV]  max_depth=10, max_features=5, min_samples_split=300, score=(train=-0.497, test=-0.549), total=   0.0s\n",
      "[CV] max_depth=10, max_features=5, min_samples_split=300 .............\n",
      "[CV]  max_depth=10, max_features=5, min_samples_split=300, score=(train=-0.503, test=-0.588), total=   0.0s\n",
      "[CV] max_depth=10, max_features=5, min_samples_split=300 .............\n",
      "[CV]  max_depth=10, max_features=5, min_samples_split=300, score=(train=-0.504, test=-0.574), total=   0.0s\n",
      "[CV] max_depth=10, max_features=5, min_samples_split=300 .............\n",
      "[CV]  max_depth=10, max_features=5, min_samples_split=300, score=(train=-0.524, test=-0.552), total=   0.0s\n",
      "[CV] max_depth=10, max_features=5, min_samples_split=500 .............\n",
      "[CV]  max_depth=10, max_features=5, min_samples_split=500, score=(train=-0.563, test=-0.598), total=   0.0s\n",
      "[CV] max_depth=10, max_features=5, min_samples_split=500 .............\n",
      "[CV]  max_depth=10, max_features=5, min_samples_split=500, score=(train=-0.540, test=-0.582), total=   0.0s\n",
      "[CV] max_depth=10, max_features=5, min_samples_split=500 .............\n",
      "[CV]  max_depth=10, max_features=5, min_samples_split=500, score=(train=-0.568, test=-0.626), total=   0.0s\n",
      "[CV] max_depth=10, max_features=5, min_samples_split=500 .............\n",
      "[CV]  max_depth=10, max_features=5, min_samples_split=500, score=(train=-0.565, test=-0.586), total=   0.0s\n",
      "[CV] max_depth=10, max_features=5, min_samples_split=500 .............\n",
      "[CV]  max_depth=10, max_features=5, min_samples_split=500, score=(train=-0.543, test=-0.550), total=   0.0s\n",
      "[CV] max_depth=10, max_features=5, min_samples_split=1000 ............\n",
      "[CV]  max_depth=10, max_features=5, min_samples_split=1000, score=(train=-0.609, test=-0.667), total=   0.0s\n",
      "[CV] max_depth=10, max_features=5, min_samples_split=1000 ............\n",
      "[CV]  max_depth=10, max_features=5, min_samples_split=1000, score=(train=-0.582, test=-0.602), total=   0.0s\n",
      "[CV] max_depth=10, max_features=5, min_samples_split=1000 ............\n",
      "[CV]  max_depth=10, max_features=5, min_samples_split=1000, score=(train=-0.574, test=-0.585), total=   0.0s\n",
      "[CV] max_depth=10, max_features=5, min_samples_split=1000 ............\n",
      "[CV]  max_depth=10, max_features=5, min_samples_split=1000, score=(train=-0.593, test=-0.606), total=   0.0s\n",
      "[CV] max_depth=10, max_features=5, min_samples_split=1000 ............\n",
      "[CV]  max_depth=10, max_features=5, min_samples_split=1000, score=(train=-0.592, test=-0.573), total=   0.0s\n",
      "[CV] max_depth=10, max_features=7, min_samples_split=10 ..............\n",
      "[CV]  max_depth=10, max_features=7, min_samples_split=10, score=(train=-0.309, test=-0.587), total=   0.0s\n",
      "[CV] max_depth=10, max_features=7, min_samples_split=10 ..............\n",
      "[CV]  max_depth=10, max_features=7, min_samples_split=10, score=(train=-0.301, test=-0.568), total=   0.0s\n",
      "[CV] max_depth=10, max_features=7, min_samples_split=10 ..............\n",
      "[CV]  max_depth=10, max_features=7, min_samples_split=10, score=(train=-0.281, test=-0.637), total=   0.0s\n",
      "[CV] max_depth=10, max_features=7, min_samples_split=10 ..............\n"
     ]
    },
    {
     "name": "stdout",
     "output_type": "stream",
     "text": [
      "[CV]  max_depth=10, max_features=7, min_samples_split=10, score=(train=-0.280, test=-0.631), total=   0.0s\n",
      "[CV] max_depth=10, max_features=7, min_samples_split=10 ..............\n",
      "[CV]  max_depth=10, max_features=7, min_samples_split=10, score=(train=-0.281, test=-0.616), total=   0.0s\n",
      "[CV] max_depth=10, max_features=7, min_samples_split=50 ..............\n",
      "[CV]  max_depth=10, max_features=7, min_samples_split=50, score=(train=-0.374, test=-0.595), total=   0.0s\n",
      "[CV] max_depth=10, max_features=7, min_samples_split=50 ..............\n",
      "[CV]  max_depth=10, max_features=7, min_samples_split=50, score=(train=-0.395, test=-0.555), total=   0.0s\n",
      "[CV] max_depth=10, max_features=7, min_samples_split=50 ..............\n",
      "[CV]  max_depth=10, max_features=7, min_samples_split=50, score=(train=-0.390, test=-0.596), total=   0.0s\n",
      "[CV] max_depth=10, max_features=7, min_samples_split=50 ..............\n",
      "[CV]  max_depth=10, max_features=7, min_samples_split=50, score=(train=-0.374, test=-0.591), total=   0.0s\n",
      "[CV] max_depth=10, max_features=7, min_samples_split=50 ..............\n",
      "[CV]  max_depth=10, max_features=7, min_samples_split=50, score=(train=-0.389, test=-0.540), total=   0.0s\n",
      "[CV] max_depth=10, max_features=7, min_samples_split=100 .............\n",
      "[CV]  max_depth=10, max_features=7, min_samples_split=100, score=(train=-0.439, test=-0.554), total=   0.0s\n",
      "[CV] max_depth=10, max_features=7, min_samples_split=100 .............\n",
      "[CV]  max_depth=10, max_features=7, min_samples_split=100, score=(train=-0.449, test=-0.556), total=   0.0s\n",
      "[CV] max_depth=10, max_features=7, min_samples_split=100 .............\n",
      "[CV]  max_depth=10, max_features=7, min_samples_split=100, score=(train=-0.439, test=-0.574), total=   0.0s\n",
      "[CV] max_depth=10, max_features=7, min_samples_split=100 .............\n",
      "[CV]  max_depth=10, max_features=7, min_samples_split=100, score=(train=-0.443, test=-0.561), total=   0.0s\n",
      "[CV] max_depth=10, max_features=7, min_samples_split=100 .............\n",
      "[CV]  max_depth=10, max_features=7, min_samples_split=100, score=(train=-0.448, test=-0.553), total=   0.0s\n",
      "[CV] max_depth=10, max_features=7, min_samples_split=200 .............\n",
      "[CV]  max_depth=10, max_features=7, min_samples_split=200, score=(train=-0.477, test=-0.555), total=   0.0s\n",
      "[CV] max_depth=10, max_features=7, min_samples_split=200 .............\n",
      "[CV]  max_depth=10, max_features=7, min_samples_split=200, score=(train=-0.476, test=-0.544), total=   0.0s\n",
      "[CV] max_depth=10, max_features=7, min_samples_split=200 .............\n",
      "[CV]  max_depth=10, max_features=7, min_samples_split=200, score=(train=-0.466, test=-0.549), total=   0.0s\n",
      "[CV] max_depth=10, max_features=7, min_samples_split=200 .............\n",
      "[CV]  max_depth=10, max_features=7, min_samples_split=200, score=(train=-0.492, test=-0.565), total=   0.1s\n",
      "[CV] max_depth=10, max_features=7, min_samples_split=200 .............\n",
      "[CV]  max_depth=10, max_features=7, min_samples_split=200, score=(train=-0.477, test=-0.560), total=   0.0s\n",
      "[CV] max_depth=10, max_features=7, min_samples_split=300 .............\n",
      "[CV]  max_depth=10, max_features=7, min_samples_split=300, score=(train=-0.515, test=-0.555), total=   0.0s\n",
      "[CV] max_depth=10, max_features=7, min_samples_split=300 .............\n",
      "[CV]  max_depth=10, max_features=7, min_samples_split=300, score=(train=-0.494, test=-0.561), total=   0.0s\n",
      "[CV] max_depth=10, max_features=7, min_samples_split=300 .............\n",
      "[CV]  max_depth=10, max_features=7, min_samples_split=300, score=(train=-0.507, test=-0.578), total=   0.0s\n",
      "[CV] max_depth=10, max_features=7, min_samples_split=300 .............\n",
      "[CV]  max_depth=10, max_features=7, min_samples_split=300, score=(train=-0.522, test=-0.575), total=   0.0s\n",
      "[CV] max_depth=10, max_features=7, min_samples_split=300 .............\n",
      "[CV]  max_depth=10, max_features=7, min_samples_split=300, score=(train=-0.508, test=-0.533), total=   0.0s\n",
      "[CV] max_depth=10, max_features=7, min_samples_split=500 .............\n",
      "[CV]  max_depth=10, max_features=7, min_samples_split=500, score=(train=-0.543, test=-0.585), total=   0.0s\n",
      "[CV] max_depth=10, max_features=7, min_samples_split=500 .............\n",
      "[CV]  max_depth=10, max_features=7, min_samples_split=500, score=(train=-0.559, test=-0.561), total=   0.0s\n",
      "[CV] max_depth=10, max_features=7, min_samples_split=500 .............\n",
      "[CV]  max_depth=10, max_features=7, min_samples_split=500, score=(train=-0.546, test=-0.551), total=   0.0s\n",
      "[CV] max_depth=10, max_features=7, min_samples_split=500 .............\n",
      "[CV]  max_depth=10, max_features=7, min_samples_split=500, score=(train=-0.530, test=-0.582), total=   0.0s\n",
      "[CV] max_depth=10, max_features=7, min_samples_split=500 .............\n",
      "[CV]  max_depth=10, max_features=7, min_samples_split=500, score=(train=-0.549, test=-0.590), total=   0.0s\n",
      "[CV] max_depth=10, max_features=7, min_samples_split=1000 ............\n",
      "[CV]  max_depth=10, max_features=7, min_samples_split=1000, score=(train=-0.554, test=-0.578), total=   0.0s\n",
      "[CV] max_depth=10, max_features=7, min_samples_split=1000 ............\n",
      "[CV]  max_depth=10, max_features=7, min_samples_split=1000, score=(train=-0.628, test=-0.608), total=   0.0s\n",
      "[CV] max_depth=10, max_features=7, min_samples_split=1000 ............\n",
      "[CV]  max_depth=10, max_features=7, min_samples_split=1000, score=(train=-0.592, test=-0.624), total=   0.0s\n",
      "[CV] max_depth=10, max_features=7, min_samples_split=1000 ............\n",
      "[CV]  max_depth=10, max_features=7, min_samples_split=1000, score=(train=-0.593, test=-0.607), total=   0.0s\n",
      "[CV] max_depth=10, max_features=7, min_samples_split=1000 ............\n",
      "[CV]  max_depth=10, max_features=7, min_samples_split=1000, score=(train=-0.573, test=-0.559), total=   0.0s\n",
      "[CV] max_depth=10, max_features=9, min_samples_split=10 ..............\n",
      "[CV]  max_depth=10, max_features=9, min_samples_split=10, score=(train=-0.290, test=-0.634), total=   0.0s\n",
      "[CV] max_depth=10, max_features=9, min_samples_split=10 ..............\n",
      "[CV]  max_depth=10, max_features=9, min_samples_split=10, score=(train=-0.301, test=-0.592), total=   0.0s\n",
      "[CV] max_depth=10, max_features=9, min_samples_split=10 ..............\n",
      "[CV]  max_depth=10, max_features=9, min_samples_split=10, score=(train=-0.269, test=-0.686), total=   0.1s\n",
      "[CV] max_depth=10, max_features=9, min_samples_split=10 ..............\n",
      "[CV]  max_depth=10, max_features=9, min_samples_split=10, score=(train=-0.302, test=-0.552), total=   0.0s\n",
      "[CV] max_depth=10, max_features=9, min_samples_split=10 ..............\n",
      "[CV]  max_depth=10, max_features=9, min_samples_split=10, score=(train=-0.284, test=-0.619), total=   0.0s\n",
      "[CV] max_depth=10, max_features=9, min_samples_split=50 ..............\n",
      "[CV]  max_depth=10, max_features=9, min_samples_split=50, score=(train=-0.369, test=-0.647), total=   0.1s\n",
      "[CV] max_depth=10, max_features=9, min_samples_split=50 ..............\n",
      "[CV]  max_depth=10, max_features=9, min_samples_split=50, score=(train=-0.371, test=-0.553), total=   0.1s\n",
      "[CV] max_depth=10, max_features=9, min_samples_split=50 ..............\n",
      "[CV]  max_depth=10, max_features=9, min_samples_split=50, score=(train=-0.381, test=-0.574), total=   0.0s\n",
      "[CV] max_depth=10, max_features=9, min_samples_split=50 ..............\n",
      "[CV]  max_depth=10, max_features=9, min_samples_split=50, score=(train=-0.374, test=-0.579), total=   0.0s\n",
      "[CV] max_depth=10, max_features=9, min_samples_split=50 ..............\n",
      "[CV]  max_depth=10, max_features=9, min_samples_split=50, score=(train=-0.389, test=-0.564), total=   0.0s\n",
      "[CV] max_depth=10, max_features=9, min_samples_split=100 .............\n",
      "[CV]  max_depth=10, max_features=9, min_samples_split=100, score=(train=-0.413, test=-0.556), total=   0.0s\n",
      "[CV] max_depth=10, max_features=9, min_samples_split=100 .............\n",
      "[CV]  max_depth=10, max_features=9, min_samples_split=100, score=(train=-0.430, test=-0.541), total=   0.0s\n",
      "[CV] max_depth=10, max_features=9, min_samples_split=100 .............\n",
      "[CV]  max_depth=10, max_features=9, min_samples_split=100, score=(train=-0.436, test=-0.566), total=   0.0s\n",
      "[CV] max_depth=10, max_features=9, min_samples_split=100 .............\n",
      "[CV]  max_depth=10, max_features=9, min_samples_split=100, score=(train=-0.425, test=-0.587), total=   0.0s\n",
      "[CV] max_depth=10, max_features=9, min_samples_split=100 .............\n"
     ]
    },
    {
     "name": "stdout",
     "output_type": "stream",
     "text": [
      "[CV]  max_depth=10, max_features=9, min_samples_split=100, score=(train=-0.446, test=-0.540), total=   0.1s\n",
      "[CV] max_depth=10, max_features=9, min_samples_split=200 .............\n",
      "[CV]  max_depth=10, max_features=9, min_samples_split=200, score=(train=-0.468, test=-0.535), total=   0.1s\n",
      "[CV] max_depth=10, max_features=9, min_samples_split=200 .............\n",
      "[CV]  max_depth=10, max_features=9, min_samples_split=200, score=(train=-0.470, test=-0.547), total=   0.1s\n",
      "[CV] max_depth=10, max_features=9, min_samples_split=200 .............\n",
      "[CV]  max_depth=10, max_features=9, min_samples_split=200, score=(train=-0.479, test=-0.595), total=   0.1s\n",
      "[CV] max_depth=10, max_features=9, min_samples_split=200 .............\n",
      "[CV]  max_depth=10, max_features=9, min_samples_split=200, score=(train=-0.466, test=-0.548), total=   0.0s\n",
      "[CV] max_depth=10, max_features=9, min_samples_split=200 .............\n",
      "[CV]  max_depth=10, max_features=9, min_samples_split=200, score=(train=-0.479, test=-0.535), total=   0.0s\n",
      "[CV] max_depth=10, max_features=9, min_samples_split=300 .............\n",
      "[CV]  max_depth=10, max_features=9, min_samples_split=300, score=(train=-0.486, test=-0.540), total=   0.0s\n",
      "[CV] max_depth=10, max_features=9, min_samples_split=300 .............\n",
      "[CV]  max_depth=10, max_features=9, min_samples_split=300, score=(train=-0.495, test=-0.563), total=   0.0s\n",
      "[CV] max_depth=10, max_features=9, min_samples_split=300 .............\n",
      "[CV]  max_depth=10, max_features=9, min_samples_split=300, score=(train=-0.495, test=-0.579), total=   0.1s\n",
      "[CV] max_depth=10, max_features=9, min_samples_split=300 .............\n",
      "[CV]  max_depth=10, max_features=9, min_samples_split=300, score=(train=-0.524, test=-0.568), total=   0.0s\n",
      "[CV] max_depth=10, max_features=9, min_samples_split=300 .............\n",
      "[CV]  max_depth=10, max_features=9, min_samples_split=300, score=(train=-0.497, test=-0.544), total=   0.1s\n",
      "[CV] max_depth=10, max_features=9, min_samples_split=500 .............\n",
      "[CV]  max_depth=10, max_features=9, min_samples_split=500, score=(train=-0.523, test=-0.568), total=   0.0s\n",
      "[CV] max_depth=10, max_features=9, min_samples_split=500 .............\n",
      "[CV]  max_depth=10, max_features=9, min_samples_split=500, score=(train=-0.518, test=-0.555), total=   0.1s\n",
      "[CV] max_depth=10, max_features=9, min_samples_split=500 .............\n",
      "[CV]  max_depth=10, max_features=9, min_samples_split=500, score=(train=-0.565, test=-0.609), total=   0.0s\n",
      "[CV] max_depth=10, max_features=9, min_samples_split=500 .............\n",
      "[CV]  max_depth=10, max_features=9, min_samples_split=500, score=(train=-0.530, test=-0.558), total=   0.0s\n",
      "[CV] max_depth=10, max_features=9, min_samples_split=500 .............\n",
      "[CV]  max_depth=10, max_features=9, min_samples_split=500, score=(train=-0.533, test=-0.554), total=   0.0s\n",
      "[CV] max_depth=10, max_features=9, min_samples_split=1000 ............\n",
      "[CV]  max_depth=10, max_features=9, min_samples_split=1000, score=(train=-0.554, test=-0.578), total=   0.0s\n",
      "[CV] max_depth=10, max_features=9, min_samples_split=1000 ............\n",
      "[CV]  max_depth=10, max_features=9, min_samples_split=1000, score=(train=-0.566, test=-0.587), total=   0.0s\n",
      "[CV] max_depth=10, max_features=9, min_samples_split=1000 ............\n",
      "[CV]  max_depth=10, max_features=9, min_samples_split=1000, score=(train=-0.568, test=-0.587), total=   0.0s\n",
      "[CV] max_depth=10, max_features=9, min_samples_split=1000 ............\n",
      "[CV]  max_depth=10, max_features=9, min_samples_split=1000, score=(train=-0.571, test=-0.561), total=   0.0s\n",
      "[CV] max_depth=10, max_features=9, min_samples_split=1000 ............\n",
      "[CV]  max_depth=10, max_features=9, min_samples_split=1000, score=(train=-0.573, test=-0.564), total=   0.0s\n",
      "[CV] max_depth=10, max_features=11, min_samples_split=10 .............\n",
      "[CV]  max_depth=10, max_features=11, min_samples_split=10, score=(train=-0.300, test=-0.601), total=   0.0s\n",
      "[CV] max_depth=10, max_features=11, min_samples_split=10 .............\n",
      "[CV]  max_depth=10, max_features=11, min_samples_split=10, score=(train=-0.290, test=-0.608), total=   0.0s\n",
      "[CV] max_depth=10, max_features=11, min_samples_split=10 .............\n",
      "[CV]  max_depth=10, max_features=11, min_samples_split=10, score=(train=-0.259, test=-0.685), total=   0.0s\n",
      "[CV] max_depth=10, max_features=11, min_samples_split=10 .............\n",
      "[CV]  max_depth=10, max_features=11, min_samples_split=10, score=(train=-0.304, test=-0.595), total=   0.0s\n",
      "[CV] max_depth=10, max_features=11, min_samples_split=10 .............\n",
      "[CV]  max_depth=10, max_features=11, min_samples_split=10, score=(train=-0.310, test=-0.554), total=   0.0s\n",
      "[CV] max_depth=10, max_features=11, min_samples_split=50 .............\n",
      "[CV]  max_depth=10, max_features=11, min_samples_split=50, score=(train=-0.372, test=-0.554), total=   0.0s\n",
      "[CV] max_depth=10, max_features=11, min_samples_split=50 .............\n",
      "[CV]  max_depth=10, max_features=11, min_samples_split=50, score=(train=-0.369, test=-0.548), total=   0.0s\n",
      "[CV] max_depth=10, max_features=11, min_samples_split=50 .............\n",
      "[CV]  max_depth=10, max_features=11, min_samples_split=50, score=(train=-0.376, test=-0.577), total=   0.0s\n",
      "[CV] max_depth=10, max_features=11, min_samples_split=50 .............\n",
      "[CV]  max_depth=10, max_features=11, min_samples_split=50, score=(train=-0.387, test=-0.553), total=   0.0s\n",
      "[CV] max_depth=10, max_features=11, min_samples_split=50 .............\n",
      "[CV]  max_depth=10, max_features=11, min_samples_split=50, score=(train=-0.394, test=-0.544), total=   0.0s\n",
      "[CV] max_depth=10, max_features=11, min_samples_split=100 ............\n",
      "[CV]  max_depth=10, max_features=11, min_samples_split=100, score=(train=-0.416, test=-0.568), total=   0.0s\n",
      "[CV] max_depth=10, max_features=11, min_samples_split=100 ............\n",
      "[CV]  max_depth=10, max_features=11, min_samples_split=100, score=(train=-0.431, test=-0.547), total=   0.1s\n",
      "[CV] max_depth=10, max_features=11, min_samples_split=100 ............\n",
      "[CV]  max_depth=10, max_features=11, min_samples_split=100, score=(train=-0.429, test=-0.584), total=   0.0s\n",
      "[CV] max_depth=10, max_features=11, min_samples_split=100 ............\n",
      "[CV]  max_depth=10, max_features=11, min_samples_split=100, score=(train=-0.423, test=-0.560), total=   0.0s\n",
      "[CV] max_depth=10, max_features=11, min_samples_split=100 ............\n",
      "[CV]  max_depth=10, max_features=11, min_samples_split=100, score=(train=-0.445, test=-0.547), total=   0.0s\n",
      "[CV] max_depth=10, max_features=11, min_samples_split=200 ............\n",
      "[CV]  max_depth=10, max_features=11, min_samples_split=200, score=(train=-0.472, test=-0.540), total=   0.0s\n",
      "[CV] max_depth=10, max_features=11, min_samples_split=200 ............\n",
      "[CV]  max_depth=10, max_features=11, min_samples_split=200, score=(train=-0.472, test=-0.547), total=   0.0s\n",
      "[CV] max_depth=10, max_features=11, min_samples_split=200 ............\n",
      "[CV]  max_depth=10, max_features=11, min_samples_split=200, score=(train=-0.478, test=-0.572), total=   0.0s\n",
      "[CV] max_depth=10, max_features=11, min_samples_split=200 ............\n",
      "[CV]  max_depth=10, max_features=11, min_samples_split=200, score=(train=-0.463, test=-0.574), total=   0.0s\n",
      "[CV] max_depth=10, max_features=11, min_samples_split=200 ............\n",
      "[CV]  max_depth=10, max_features=11, min_samples_split=200, score=(train=-0.480, test=-0.529), total=   0.0s\n",
      "[CV] max_depth=10, max_features=11, min_samples_split=300 ............\n",
      "[CV]  max_depth=10, max_features=11, min_samples_split=300, score=(train=-0.489, test=-0.540), total=   0.0s\n",
      "[CV] max_depth=10, max_features=11, min_samples_split=300 ............\n",
      "[CV]  max_depth=10, max_features=11, min_samples_split=300, score=(train=-0.486, test=-0.538), total=   0.0s\n",
      "[CV] max_depth=10, max_features=11, min_samples_split=300 ............\n",
      "[CV]  max_depth=10, max_features=11, min_samples_split=300, score=(train=-0.506, test=-0.566), total=   0.0s\n",
      "[CV] max_depth=10, max_features=11, min_samples_split=300 ............\n",
      "[CV]  max_depth=10, max_features=11, min_samples_split=300, score=(train=-0.487, test=-0.568), total=   0.0s\n",
      "[CV] max_depth=10, max_features=11, min_samples_split=300 ............\n",
      "[CV]  max_depth=10, max_features=11, min_samples_split=300, score=(train=-0.501, test=-0.545), total=   0.0s\n",
      "[CV] max_depth=10, max_features=11, min_samples_split=500 ............\n",
      "[CV]  max_depth=10, max_features=11, min_samples_split=500, score=(train=-0.529, test=-0.567), total=   0.0s\n",
      "[CV] max_depth=10, max_features=11, min_samples_split=500 ............\n",
      "[CV]  max_depth=10, max_features=11, min_samples_split=500, score=(train=-0.514, test=-0.568), total=   0.0s\n",
      "[CV] max_depth=10, max_features=11, min_samples_split=500 ............\n"
     ]
    },
    {
     "name": "stdout",
     "output_type": "stream",
     "text": [
      "[CV]  max_depth=10, max_features=11, min_samples_split=500, score=(train=-0.538, test=-0.555), total=   0.0s\n",
      "[CV] max_depth=10, max_features=11, min_samples_split=500 ............\n",
      "[CV]  max_depth=10, max_features=11, min_samples_split=500, score=(train=-0.526, test=-0.570), total=   0.0s\n",
      "[CV] max_depth=10, max_features=11, min_samples_split=500 ............\n",
      "[CV]  max_depth=10, max_features=11, min_samples_split=500, score=(train=-0.530, test=-0.543), total=   0.0s\n",
      "[CV] max_depth=10, max_features=11, min_samples_split=1000 ...........\n",
      "[CV]  max_depth=10, max_features=11, min_samples_split=1000, score=(train=-0.564, test=-0.589), total=   0.0s\n",
      "[CV] max_depth=10, max_features=11, min_samples_split=1000 ...........\n",
      "[CV]  max_depth=10, max_features=11, min_samples_split=1000, score=(train=-0.566, test=-0.587), total=   0.0s\n",
      "[CV] max_depth=10, max_features=11, min_samples_split=1000 ...........\n",
      "[CV]  max_depth=10, max_features=11, min_samples_split=1000, score=(train=-0.568, test=-0.587), total=   0.0s\n",
      "[CV] max_depth=10, max_features=11, min_samples_split=1000 ...........\n",
      "[CV]  max_depth=10, max_features=11, min_samples_split=1000, score=(train=-0.569, test=-0.568), total=   0.0s\n",
      "[CV] max_depth=10, max_features=11, min_samples_split=1000 ...........\n",
      "[CV]  max_depth=10, max_features=11, min_samples_split=1000, score=(train=-0.573, test=-0.564), total=   0.0s\n",
      "[CV] max_depth=12, max_features=5, min_samples_split=10 ..............\n",
      "[CV]  max_depth=12, max_features=5, min_samples_split=10, score=(train=-0.211, test=-0.727), total=   0.0s\n",
      "[CV] max_depth=12, max_features=5, min_samples_split=10 ..............\n",
      "[CV]  max_depth=12, max_features=5, min_samples_split=10, score=(train=-0.240, test=-0.623), total=   0.0s\n",
      "[CV] max_depth=12, max_features=5, min_samples_split=10 ..............\n",
      "[CV]  max_depth=12, max_features=5, min_samples_split=10, score=(train=-0.215, test=-0.669), total=   0.0s\n",
      "[CV] max_depth=12, max_features=5, min_samples_split=10 ..............\n",
      "[CV]  max_depth=12, max_features=5, min_samples_split=10, score=(train=-0.241, test=-0.615), total=   0.0s\n",
      "[CV] max_depth=12, max_features=5, min_samples_split=10 ..............\n",
      "[CV]  max_depth=12, max_features=5, min_samples_split=10, score=(train=-0.216, test=-0.665), total=   0.0s\n",
      "[CV] max_depth=12, max_features=5, min_samples_split=50 ..............\n",
      "[CV]  max_depth=12, max_features=5, min_samples_split=50, score=(train=-0.366, test=-0.614), total=   0.0s\n",
      "[CV] max_depth=12, max_features=5, min_samples_split=50 ..............\n",
      "[CV]  max_depth=12, max_features=5, min_samples_split=50, score=(train=-0.366, test=-0.594), total=   0.0s\n",
      "[CV] max_depth=12, max_features=5, min_samples_split=50 ..............\n",
      "[CV]  max_depth=12, max_features=5, min_samples_split=50, score=(train=-0.361, test=-0.612), total=   0.0s\n",
      "[CV] max_depth=12, max_features=5, min_samples_split=50 ..............\n",
      "[CV]  max_depth=12, max_features=5, min_samples_split=50, score=(train=-0.374, test=-0.586), total=   0.0s\n",
      "[CV] max_depth=12, max_features=5, min_samples_split=50 ..............\n",
      "[CV]  max_depth=12, max_features=5, min_samples_split=50, score=(train=-0.388, test=-0.532), total=   0.0s\n",
      "[CV] max_depth=12, max_features=5, min_samples_split=100 .............\n",
      "[CV]  max_depth=12, max_features=5, min_samples_split=100, score=(train=-0.424, test=-0.577), total=   0.0s\n",
      "[CV] max_depth=12, max_features=5, min_samples_split=100 .............\n",
      "[CV]  max_depth=12, max_features=5, min_samples_split=100, score=(train=-0.435, test=-0.557), total=   0.0s\n",
      "[CV] max_depth=12, max_features=5, min_samples_split=100 .............\n",
      "[CV]  max_depth=12, max_features=5, min_samples_split=100, score=(train=-0.442, test=-0.630), total=   0.0s\n",
      "[CV] max_depth=12, max_features=5, min_samples_split=100 .............\n",
      "[CV]  max_depth=12, max_features=5, min_samples_split=100, score=(train=-0.437, test=-0.591), total=   0.0s\n",
      "[CV] max_depth=12, max_features=5, min_samples_split=100 .............\n",
      "[CV]  max_depth=12, max_features=5, min_samples_split=100, score=(train=-0.458, test=-0.587), total=   0.0s\n",
      "[CV] max_depth=12, max_features=5, min_samples_split=200 .............\n",
      "[CV]  max_depth=12, max_features=5, min_samples_split=200, score=(train=-0.487, test=-0.562), total=   0.0s\n",
      "[CV] max_depth=12, max_features=5, min_samples_split=200 .............\n",
      "[CV]  max_depth=12, max_features=5, min_samples_split=200, score=(train=-0.492, test=-0.572), total=   0.0s\n",
      "[CV] max_depth=12, max_features=5, min_samples_split=200 .............\n",
      "[CV]  max_depth=12, max_features=5, min_samples_split=200, score=(train=-0.502, test=-0.577), total=   0.0s\n",
      "[CV] max_depth=12, max_features=5, min_samples_split=200 .............\n",
      "[CV]  max_depth=12, max_features=5, min_samples_split=200, score=(train=-0.488, test=-0.563), total=   0.0s\n",
      "[CV] max_depth=12, max_features=5, min_samples_split=200 .............\n",
      "[CV]  max_depth=12, max_features=5, min_samples_split=200, score=(train=-0.496, test=-0.533), total=   0.0s\n",
      "[CV] max_depth=12, max_features=5, min_samples_split=300 .............\n",
      "[CV]  max_depth=12, max_features=5, min_samples_split=300, score=(train=-0.501, test=-0.613), total=   0.0s\n",
      "[CV] max_depth=12, max_features=5, min_samples_split=300 .............\n",
      "[CV]  max_depth=12, max_features=5, min_samples_split=300, score=(train=-0.527, test=-0.561), total=   0.0s\n",
      "[CV] max_depth=12, max_features=5, min_samples_split=300 .............\n",
      "[CV]  max_depth=12, max_features=5, min_samples_split=300, score=(train=-0.518, test=-0.580), total=   0.0s\n",
      "[CV] max_depth=12, max_features=5, min_samples_split=300 .............\n",
      "[CV]  max_depth=12, max_features=5, min_samples_split=300, score=(train=-0.541, test=-0.588), total=   0.0s\n",
      "[CV] max_depth=12, max_features=5, min_samples_split=300 .............\n",
      "[CV]  max_depth=12, max_features=5, min_samples_split=300, score=(train=-0.523, test=-0.548), total=   0.0s\n",
      "[CV] max_depth=12, max_features=5, min_samples_split=500 .............\n",
      "[CV]  max_depth=12, max_features=5, min_samples_split=500, score=(train=-0.551, test=-0.605), total=   0.0s\n",
      "[CV] max_depth=12, max_features=5, min_samples_split=500 .............\n",
      "[CV]  max_depth=12, max_features=5, min_samples_split=500, score=(train=-0.556, test=-0.562), total=   0.0s\n",
      "[CV] max_depth=12, max_features=5, min_samples_split=500 .............\n",
      "[CV]  max_depth=12, max_features=5, min_samples_split=500, score=(train=-0.542, test=-0.590), total=   0.0s\n",
      "[CV] max_depth=12, max_features=5, min_samples_split=500 .............\n",
      "[CV]  max_depth=12, max_features=5, min_samples_split=500, score=(train=-0.575, test=-0.597), total=   0.0s\n",
      "[CV] max_depth=12, max_features=5, min_samples_split=500 .............\n",
      "[CV]  max_depth=12, max_features=5, min_samples_split=500, score=(train=-0.581, test=-0.578), total=   0.0s\n",
      "[CV] max_depth=12, max_features=5, min_samples_split=1000 ............\n",
      "[CV]  max_depth=12, max_features=5, min_samples_split=1000, score=(train=-0.632, test=-0.659), total=   0.0s\n",
      "[CV] max_depth=12, max_features=5, min_samples_split=1000 ............\n",
      "[CV]  max_depth=12, max_features=5, min_samples_split=1000, score=(train=-0.628, test=-0.612), total=   0.0s\n",
      "[CV] max_depth=12, max_features=5, min_samples_split=1000 ............\n",
      "[CV]  max_depth=12, max_features=5, min_samples_split=1000, score=(train=-0.607, test=-0.661), total=   0.0s\n",
      "[CV] max_depth=12, max_features=5, min_samples_split=1000 ............\n",
      "[CV]  max_depth=12, max_features=5, min_samples_split=1000, score=(train=-0.585, test=-0.586), total=   0.0s\n",
      "[CV] max_depth=12, max_features=5, min_samples_split=1000 ............\n",
      "[CV]  max_depth=12, max_features=5, min_samples_split=1000, score=(train=-0.645, test=-0.589), total=   0.0s\n",
      "[CV] max_depth=12, max_features=7, min_samples_split=10 ..............\n",
      "[CV]  max_depth=12, max_features=7, min_samples_split=10, score=(train=-0.202, test=-0.679), total=   0.0s\n",
      "[CV] max_depth=12, max_features=7, min_samples_split=10 ..............\n",
      "[CV]  max_depth=12, max_features=7, min_samples_split=10, score=(train=-0.256, test=-0.610), total=   0.0s\n",
      "[CV] max_depth=12, max_features=7, min_samples_split=10 ..............\n",
      "[CV]  max_depth=12, max_features=7, min_samples_split=10, score=(train=-0.189, test=-0.700), total=   0.0s\n",
      "[CV] max_depth=12, max_features=7, min_samples_split=10 ..............\n"
     ]
    },
    {
     "name": "stdout",
     "output_type": "stream",
     "text": [
      "[CV]  max_depth=12, max_features=7, min_samples_split=10, score=(train=-0.201, test=-0.653), total=   0.0s\n",
      "[CV] max_depth=12, max_features=7, min_samples_split=10 ..............\n",
      "[CV]  max_depth=12, max_features=7, min_samples_split=10, score=(train=-0.244, test=-0.626), total=   0.0s\n",
      "[CV] max_depth=12, max_features=7, min_samples_split=50 ..............\n",
      "[CV]  max_depth=12, max_features=7, min_samples_split=50, score=(train=-0.366, test=-0.590), total=   0.0s\n",
      "[CV] max_depth=12, max_features=7, min_samples_split=50 ..............\n",
      "[CV]  max_depth=12, max_features=7, min_samples_split=50, score=(train=-0.364, test=-0.539), total=   0.0s\n",
      "[CV] max_depth=12, max_features=7, min_samples_split=50 ..............\n",
      "[CV]  max_depth=12, max_features=7, min_samples_split=50, score=(train=-0.359, test=-0.592), total=   0.0s\n",
      "[CV] max_depth=12, max_features=7, min_samples_split=50 ..............\n",
      "[CV]  max_depth=12, max_features=7, min_samples_split=50, score=(train=-0.373, test=-0.584), total=   0.0s\n",
      "[CV] max_depth=12, max_features=7, min_samples_split=50 ..............\n",
      "[CV]  max_depth=12, max_features=7, min_samples_split=50, score=(train=-0.373, test=-0.567), total=   0.0s\n",
      "[CV] max_depth=12, max_features=7, min_samples_split=100 .............\n",
      "[CV]  max_depth=12, max_features=7, min_samples_split=100, score=(train=-0.401, test=-0.579), total=   0.0s\n",
      "[CV] max_depth=12, max_features=7, min_samples_split=100 .............\n",
      "[CV]  max_depth=12, max_features=7, min_samples_split=100, score=(train=-0.430, test=-0.539), total=   0.0s\n",
      "[CV] max_depth=12, max_features=7, min_samples_split=100 .............\n",
      "[CV]  max_depth=12, max_features=7, min_samples_split=100, score=(train=-0.428, test=-0.597), total=   0.0s\n",
      "[CV] max_depth=12, max_features=7, min_samples_split=100 .............\n",
      "[CV]  max_depth=12, max_features=7, min_samples_split=100, score=(train=-0.443, test=-0.589), total=   0.0s\n",
      "[CV] max_depth=12, max_features=7, min_samples_split=100 .............\n",
      "[CV]  max_depth=12, max_features=7, min_samples_split=100, score=(train=-0.427, test=-0.531), total=   0.0s\n",
      "[CV] max_depth=12, max_features=7, min_samples_split=200 .............\n",
      "[CV]  max_depth=12, max_features=7, min_samples_split=200, score=(train=-0.477, test=-0.567), total=   0.0s\n",
      "[CV] max_depth=12, max_features=7, min_samples_split=200 .............\n",
      "[CV]  max_depth=12, max_features=7, min_samples_split=200, score=(train=-0.467, test=-0.539), total=   0.0s\n",
      "[CV] max_depth=12, max_features=7, min_samples_split=200 .............\n",
      "[CV]  max_depth=12, max_features=7, min_samples_split=200, score=(train=-0.484, test=-0.567), total=   0.0s\n",
      "[CV] max_depth=12, max_features=7, min_samples_split=200 .............\n",
      "[CV]  max_depth=12, max_features=7, min_samples_split=200, score=(train=-0.478, test=-0.608), total=   0.0s\n",
      "[CV] max_depth=12, max_features=7, min_samples_split=200 .............\n",
      "[CV]  max_depth=12, max_features=7, min_samples_split=200, score=(train=-0.501, test=-0.549), total=   0.0s\n",
      "[CV] max_depth=12, max_features=7, min_samples_split=300 .............\n",
      "[CV]  max_depth=12, max_features=7, min_samples_split=300, score=(train=-0.510, test=-0.574), total=   0.0s\n",
      "[CV] max_depth=12, max_features=7, min_samples_split=300 .............\n",
      "[CV]  max_depth=12, max_features=7, min_samples_split=300, score=(train=-0.516, test=-0.583), total=   0.0s\n",
      "[CV] max_depth=12, max_features=7, min_samples_split=300 .............\n",
      "[CV]  max_depth=12, max_features=7, min_samples_split=300, score=(train=-0.511, test=-0.542), total=   0.0s\n",
      "[CV] max_depth=12, max_features=7, min_samples_split=300 .............\n",
      "[CV]  max_depth=12, max_features=7, min_samples_split=300, score=(train=-0.499, test=-0.562), total=   0.0s\n",
      "[CV] max_depth=12, max_features=7, min_samples_split=300 .............\n",
      "[CV]  max_depth=12, max_features=7, min_samples_split=300, score=(train=-0.529, test=-0.564), total=   0.0s\n",
      "[CV] max_depth=12, max_features=7, min_samples_split=500 .............\n",
      "[CV]  max_depth=12, max_features=7, min_samples_split=500, score=(train=-0.519, test=-0.564), total=   0.0s\n",
      "[CV] max_depth=12, max_features=7, min_samples_split=500 .............\n",
      "[CV]  max_depth=12, max_features=7, min_samples_split=500, score=(train=-0.523, test=-0.568), total=   0.0s\n",
      "[CV] max_depth=12, max_features=7, min_samples_split=500 .............\n",
      "[CV]  max_depth=12, max_features=7, min_samples_split=500, score=(train=-0.565, test=-0.609), total=   0.0s\n",
      "[CV] max_depth=12, max_features=7, min_samples_split=500 .............\n",
      "[CV]  max_depth=12, max_features=7, min_samples_split=500, score=(train=-0.528, test=-0.549), total=   0.0s\n",
      "[CV] max_depth=12, max_features=7, min_samples_split=500 .............\n",
      "[CV]  max_depth=12, max_features=7, min_samples_split=500, score=(train=-0.536, test=-0.572), total=   0.0s\n",
      "[CV] max_depth=12, max_features=7, min_samples_split=1000 ............\n",
      "[CV]  max_depth=12, max_features=7, min_samples_split=1000, score=(train=-0.577, test=-0.605), total=   0.0s\n",
      "[CV] max_depth=12, max_features=7, min_samples_split=1000 ............\n",
      "[CV]  max_depth=12, max_features=7, min_samples_split=1000, score=(train=-0.566, test=-0.587), total=   0.0s\n",
      "[CV] max_depth=12, max_features=7, min_samples_split=1000 ............\n",
      "[CV]  max_depth=12, max_features=7, min_samples_split=1000, score=(train=-0.569, test=-0.585), total=   0.0s\n",
      "[CV] max_depth=12, max_features=7, min_samples_split=1000 ............\n",
      "[CV]  max_depth=12, max_features=7, min_samples_split=1000, score=(train=-0.620, test=-0.657), total=   0.0s\n",
      "[CV] max_depth=12, max_features=7, min_samples_split=1000 ............\n",
      "[CV]  max_depth=12, max_features=7, min_samples_split=1000, score=(train=-0.635, test=-0.604), total=   0.0s\n",
      "[CV] max_depth=12, max_features=9, min_samples_split=10 ..............\n",
      "[CV]  max_depth=12, max_features=9, min_samples_split=10, score=(train=-0.216, test=-0.720), total=   0.0s\n",
      "[CV] max_depth=12, max_features=9, min_samples_split=10 ..............\n",
      "[CV]  max_depth=12, max_features=9, min_samples_split=10, score=(train=-0.210, test=-0.596), total=   0.0s\n",
      "[CV] max_depth=12, max_features=9, min_samples_split=10 ..............\n",
      "[CV]  max_depth=12, max_features=9, min_samples_split=10, score=(train=-0.200, test=-0.768), total=   0.0s\n",
      "[CV] max_depth=12, max_features=9, min_samples_split=10 ..............\n",
      "[CV]  max_depth=12, max_features=9, min_samples_split=10, score=(train=-0.227, test=-0.600), total=   0.0s\n",
      "[CV] max_depth=12, max_features=9, min_samples_split=10 ..............\n",
      "[CV]  max_depth=12, max_features=9, min_samples_split=10, score=(train=-0.194, test=-0.638), total=   0.0s\n",
      "[CV] max_depth=12, max_features=9, min_samples_split=50 ..............\n",
      "[CV]  max_depth=12, max_features=9, min_samples_split=50, score=(train=-0.357, test=-0.551), total=   0.0s\n",
      "[CV] max_depth=12, max_features=9, min_samples_split=50 ..............\n",
      "[CV]  max_depth=12, max_features=9, min_samples_split=50, score=(train=-0.350, test=-0.523), total=   0.0s\n",
      "[CV] max_depth=12, max_features=9, min_samples_split=50 ..............\n",
      "[CV]  max_depth=12, max_features=9, min_samples_split=50, score=(train=-0.350, test=-0.586), total=   0.0s\n",
      "[CV] max_depth=12, max_features=9, min_samples_split=50 ..............\n",
      "[CV]  max_depth=12, max_features=9, min_samples_split=50, score=(train=-0.358, test=-0.578), total=   0.0s\n",
      "[CV] max_depth=12, max_features=9, min_samples_split=50 ..............\n",
      "[CV]  max_depth=12, max_features=9, min_samples_split=50, score=(train=-0.370, test=-0.525), total=   0.1s\n",
      "[CV] max_depth=12, max_features=9, min_samples_split=100 .............\n",
      "[CV]  max_depth=12, max_features=9, min_samples_split=100, score=(train=-0.408, test=-0.557), total=   0.0s\n",
      "[CV] max_depth=12, max_features=9, min_samples_split=100 .............\n",
      "[CV]  max_depth=12, max_features=9, min_samples_split=100, score=(train=-0.414, test=-0.552), total=   0.0s\n",
      "[CV] max_depth=12, max_features=9, min_samples_split=100 .............\n",
      "[CV]  max_depth=12, max_features=9, min_samples_split=100, score=(train=-0.419, test=-0.588), total=   0.0s\n",
      "[CV] max_depth=12, max_features=9, min_samples_split=100 .............\n",
      "[CV]  max_depth=12, max_features=9, min_samples_split=100, score=(train=-0.419, test=-0.585), total=   0.0s\n",
      "[CV] max_depth=12, max_features=9, min_samples_split=100 .............\n"
     ]
    },
    {
     "name": "stdout",
     "output_type": "stream",
     "text": [
      "[CV]  max_depth=12, max_features=9, min_samples_split=100, score=(train=-0.437, test=-0.542), total=   0.0s\n",
      "[CV] max_depth=12, max_features=9, min_samples_split=200 .............\n",
      "[CV]  max_depth=12, max_features=9, min_samples_split=200, score=(train=-0.469, test=-0.547), total=   0.0s\n",
      "[CV] max_depth=12, max_features=9, min_samples_split=200 .............\n",
      "[CV]  max_depth=12, max_features=9, min_samples_split=200, score=(train=-0.471, test=-0.540), total=   0.0s\n",
      "[CV] max_depth=12, max_features=9, min_samples_split=200 .............\n",
      "[CV]  max_depth=12, max_features=9, min_samples_split=200, score=(train=-0.479, test=-0.565), total=   0.0s\n",
      "[CV] max_depth=12, max_features=9, min_samples_split=200 .............\n",
      "[CV]  max_depth=12, max_features=9, min_samples_split=200, score=(train=-0.465, test=-0.563), total=   0.0s\n",
      "[CV] max_depth=12, max_features=9, min_samples_split=200 .............\n",
      "[CV]  max_depth=12, max_features=9, min_samples_split=200, score=(train=-0.471, test=-0.534), total=   0.0s\n",
      "[CV] max_depth=12, max_features=9, min_samples_split=300 .............\n",
      "[CV]  max_depth=12, max_features=9, min_samples_split=300, score=(train=-0.490, test=-0.550), total=   0.0s\n",
      "[CV] max_depth=12, max_features=9, min_samples_split=300 .............\n",
      "[CV]  max_depth=12, max_features=9, min_samples_split=300, score=(train=-0.494, test=-0.540), total=   0.0s\n",
      "[CV] max_depth=12, max_features=9, min_samples_split=300 .............\n",
      "[CV]  max_depth=12, max_features=9, min_samples_split=300, score=(train=-0.506, test=-0.566), total=   0.0s\n",
      "[CV] max_depth=12, max_features=9, min_samples_split=300 .............\n",
      "[CV]  max_depth=12, max_features=9, min_samples_split=300, score=(train=-0.500, test=-0.537), total=   0.0s\n",
      "[CV] max_depth=12, max_features=9, min_samples_split=300 .............\n",
      "[CV]  max_depth=12, max_features=9, min_samples_split=300, score=(train=-0.512, test=-0.578), total=   0.0s\n",
      "[CV] max_depth=12, max_features=9, min_samples_split=500 .............\n",
      "[CV]  max_depth=12, max_features=9, min_samples_split=500, score=(train=-0.530, test=-0.565), total=   0.0s\n",
      "[CV] max_depth=12, max_features=9, min_samples_split=500 .............\n",
      "[CV]  max_depth=12, max_features=9, min_samples_split=500, score=(train=-0.514, test=-0.568), total=   0.0s\n",
      "[CV] max_depth=12, max_features=9, min_samples_split=500 .............\n",
      "[CV]  max_depth=12, max_features=9, min_samples_split=500, score=(train=-0.534, test=-0.541), total=   0.0s\n",
      "[CV] max_depth=12, max_features=9, min_samples_split=500 .............\n",
      "[CV]  max_depth=12, max_features=9, min_samples_split=500, score=(train=-0.530, test=-0.572), total=   0.0s\n",
      "[CV] max_depth=12, max_features=9, min_samples_split=500 .............\n",
      "[CV]  max_depth=12, max_features=9, min_samples_split=500, score=(train=-0.578, test=-0.598), total=   0.0s\n",
      "[CV] max_depth=12, max_features=9, min_samples_split=1000 ............\n",
      "[CV]  max_depth=12, max_features=9, min_samples_split=1000, score=(train=-0.564, test=-0.589), total=   0.0s\n",
      "[CV] max_depth=12, max_features=9, min_samples_split=1000 ............\n",
      "[CV]  max_depth=12, max_features=9, min_samples_split=1000, score=(train=-0.561, test=-0.578), total=   0.0s\n",
      "[CV] max_depth=12, max_features=9, min_samples_split=1000 ............\n",
      "[CV]  max_depth=12, max_features=9, min_samples_split=1000, score=(train=-0.568, test=-0.587), total=   0.0s\n",
      "[CV] max_depth=12, max_features=9, min_samples_split=1000 ............\n",
      "[CV]  max_depth=12, max_features=9, min_samples_split=1000, score=(train=-0.620, test=-0.657), total=   0.0s\n",
      "[CV] max_depth=12, max_features=9, min_samples_split=1000 ............\n",
      "[CV]  max_depth=12, max_features=9, min_samples_split=1000, score=(train=-0.573, test=-0.564), total=   0.0s\n",
      "[CV] max_depth=12, max_features=11, min_samples_split=10 .............\n",
      "[CV]  max_depth=12, max_features=11, min_samples_split=10, score=(train=-0.222, test=-0.605), total=   0.0s\n",
      "[CV] max_depth=12, max_features=11, min_samples_split=10 .............\n",
      "[CV]  max_depth=12, max_features=11, min_samples_split=10, score=(train=-0.209, test=-0.603), total=   0.1s\n",
      "[CV] max_depth=12, max_features=11, min_samples_split=10 .............\n",
      "[CV]  max_depth=12, max_features=11, min_samples_split=10, score=(train=-0.192, test=-0.697), total=   0.0s\n",
      "[CV] max_depth=12, max_features=11, min_samples_split=10 .............\n",
      "[CV]  max_depth=12, max_features=11, min_samples_split=10, score=(train=-0.241, test=-0.619), total=   0.0s\n",
      "[CV] max_depth=12, max_features=11, min_samples_split=10 .............\n",
      "[CV]  max_depth=12, max_features=11, min_samples_split=10, score=(train=-0.242, test=-0.575), total=   0.1s\n",
      "[CV] max_depth=12, max_features=11, min_samples_split=50 .............\n",
      "[CV]  max_depth=12, max_features=11, min_samples_split=50, score=(train=-0.348, test=-0.567), total=   0.0s\n",
      "[CV] max_depth=12, max_features=11, min_samples_split=50 .............\n",
      "[CV]  max_depth=12, max_features=11, min_samples_split=50, score=(train=-0.341, test=-0.542), total=   0.1s\n",
      "[CV] max_depth=12, max_features=11, min_samples_split=50 .............\n",
      "[CV]  max_depth=12, max_features=11, min_samples_split=50, score=(train=-0.355, test=-0.573), total=   0.0s\n",
      "[CV] max_depth=12, max_features=11, min_samples_split=50 .............\n",
      "[CV]  max_depth=12, max_features=11, min_samples_split=50, score=(train=-0.360, test=-0.577), total=   0.0s\n",
      "[CV] max_depth=12, max_features=11, min_samples_split=50 .............\n",
      "[CV]  max_depth=12, max_features=11, min_samples_split=50, score=(train=-0.364, test=-0.549), total=   0.0s\n",
      "[CV] max_depth=12, max_features=11, min_samples_split=100 ............\n",
      "[CV]  max_depth=12, max_features=11, min_samples_split=100, score=(train=-0.405, test=-0.544), total=   0.0s\n",
      "[CV] max_depth=12, max_features=11, min_samples_split=100 ............\n",
      "[CV]  max_depth=12, max_features=11, min_samples_split=100, score=(train=-0.423, test=-0.537), total=   0.0s\n",
      "[CV] max_depth=12, max_features=11, min_samples_split=100 ............\n",
      "[CV]  max_depth=12, max_features=11, min_samples_split=100, score=(train=-0.421, test=-0.585), total=   0.0s\n",
      "[CV] max_depth=12, max_features=11, min_samples_split=100 ............\n",
      "[CV]  max_depth=12, max_features=11, min_samples_split=100, score=(train=-0.410, test=-0.560), total=   0.0s\n",
      "[CV] max_depth=12, max_features=11, min_samples_split=100 ............\n",
      "[CV]  max_depth=12, max_features=11, min_samples_split=100, score=(train=-0.439, test=-0.548), total=   0.0s\n",
      "[CV] max_depth=12, max_features=11, min_samples_split=200 ............\n",
      "[CV]  max_depth=12, max_features=11, min_samples_split=200, score=(train=-0.471, test=-0.542), total=   0.0s\n",
      "[CV] max_depth=12, max_features=11, min_samples_split=200 ............\n",
      "[CV]  max_depth=12, max_features=11, min_samples_split=200, score=(train=-0.472, test=-0.547), total=   0.0s\n",
      "[CV] max_depth=12, max_features=11, min_samples_split=200 ............\n",
      "[CV]  max_depth=12, max_features=11, min_samples_split=200, score=(train=-0.476, test=-0.573), total=   0.0s\n",
      "[CV] max_depth=12, max_features=11, min_samples_split=200 ............\n",
      "[CV]  max_depth=12, max_features=11, min_samples_split=200, score=(train=-0.460, test=-0.572), total=   0.0s\n",
      "[CV] max_depth=12, max_features=11, min_samples_split=200 ............\n",
      "[CV]  max_depth=12, max_features=11, min_samples_split=200, score=(train=-0.478, test=-0.542), total=   0.0s\n",
      "[CV] max_depth=12, max_features=11, min_samples_split=300 ............\n",
      "[CV]  max_depth=12, max_features=11, min_samples_split=300, score=(train=-0.489, test=-0.540), total=   0.0s\n",
      "[CV] max_depth=12, max_features=11, min_samples_split=300 ............\n",
      "[CV]  max_depth=12, max_features=11, min_samples_split=300, score=(train=-0.486, test=-0.538), total=   0.0s\n",
      "[CV] max_depth=12, max_features=11, min_samples_split=300 ............\n",
      "[CV]  max_depth=12, max_features=11, min_samples_split=300, score=(train=-0.506, test=-0.566), total=   0.0s\n",
      "[CV] max_depth=12, max_features=11, min_samples_split=300 ............\n",
      "[CV]  max_depth=12, max_features=11, min_samples_split=300, score=(train=-0.487, test=-0.568), total=   0.0s\n",
      "[CV] max_depth=12, max_features=11, min_samples_split=300 ............\n",
      "[CV]  max_depth=12, max_features=11, min_samples_split=300, score=(train=-0.501, test=-0.545), total=   0.0s\n",
      "[CV] max_depth=12, max_features=11, min_samples_split=500 ............\n",
      "[CV]  max_depth=12, max_features=11, min_samples_split=500, score=(train=-0.529, test=-0.567), total=   0.0s\n",
      "[CV] max_depth=12, max_features=11, min_samples_split=500 ............\n",
      "[CV]  max_depth=12, max_features=11, min_samples_split=500, score=(train=-0.514, test=-0.568), total=   0.0s\n",
      "[CV] max_depth=12, max_features=11, min_samples_split=500 ............\n",
      "[CV]  max_depth=12, max_features=11, min_samples_split=500, score=(train=-0.538, test=-0.555), total=   0.0s\n",
      "[CV] max_depth=12, max_features=11, min_samples_split=500 ............\n",
      "[CV]  max_depth=12, max_features=11, min_samples_split=500, score=(train=-0.524, test=-0.566), total=   0.0s\n",
      "[CV] max_depth=12, max_features=11, min_samples_split=500 ............\n"
     ]
    },
    {
     "name": "stdout",
     "output_type": "stream",
     "text": [
      "[CV]  max_depth=12, max_features=11, min_samples_split=500, score=(train=-0.530, test=-0.543), total=   0.0s\n",
      "[CV] max_depth=12, max_features=11, min_samples_split=1000 ...........\n",
      "[CV]  max_depth=12, max_features=11, min_samples_split=1000, score=(train=-0.564, test=-0.589), total=   0.0s\n",
      "[CV] max_depth=12, max_features=11, min_samples_split=1000 ...........\n",
      "[CV]  max_depth=12, max_features=11, min_samples_split=1000, score=(train=-0.566, test=-0.587), total=   0.0s\n",
      "[CV] max_depth=12, max_features=11, min_samples_split=1000 ...........\n",
      "[CV]  max_depth=12, max_features=11, min_samples_split=1000, score=(train=-0.568, test=-0.587), total=   0.0s\n",
      "[CV] max_depth=12, max_features=11, min_samples_split=1000 ...........\n",
      "[CV]  max_depth=12, max_features=11, min_samples_split=1000, score=(train=-0.569, test=-0.568), total=   0.0s\n",
      "[CV] max_depth=12, max_features=11, min_samples_split=1000 ...........\n",
      "[CV]  max_depth=12, max_features=11, min_samples_split=1000, score=(train=-0.573, test=-0.564), total=   0.0s\n",
      "CPU times: user 30.3 s, sys: 323 ms, total: 30.6 s\n",
      "Wall time: 30.4 s\n"
     ]
    },
    {
     "name": "stderr",
     "output_type": "stream",
     "text": [
      "[Parallel(n_jobs=1)]: Done 840 out of 840 | elapsed:   30.4s finished\n"
     ]
    },
    {
     "data": {
      "text/plain": [
       "GridSearchCV(cv=5, estimator=DecisionTreeRegressor(),\n",
       "             param_grid={'max_depth': [2, 4, 6, 8, 10, 12],\n",
       "                         'max_features': [5, 7, 9, 11],\n",
       "                         'min_samples_split': [10, 50, 100, 200, 300, 500,\n",
       "                                               1000]},\n",
       "             return_train_score=True, scoring='neg_mean_squared_error',\n",
       "             verbose=3)"
      ]
     },
     "execution_count": 72,
     "metadata": {},
     "output_type": "execute_result"
    }
   ],
   "source": [
    "%%time\n",
    "gs.fit(X_train, y_train)"
   ]
  },
  {
   "cell_type": "code",
   "execution_count": 74,
   "metadata": {},
   "outputs": [],
   "source": [
    "grid_search_results = pd.DataFrame(gs.cv_results_)"
   ]
  },
  {
   "cell_type": "code",
   "execution_count": 75,
   "metadata": {},
   "outputs": [
    {
     "data": {
      "text/plain": [
       "Index(['mean_fit_time', 'std_fit_time', 'mean_score_time', 'std_score_time',\n",
       "       'param_max_depth', 'param_max_features', 'param_min_samples_split',\n",
       "       'params', 'split0_test_score', 'split1_test_score', 'split2_test_score',\n",
       "       'split3_test_score', 'split4_test_score', 'mean_test_score',\n",
       "       'std_test_score', 'rank_test_score', 'split0_train_score',\n",
       "       'split1_train_score', 'split2_train_score', 'split3_train_score',\n",
       "       'split4_train_score', 'mean_train_score', 'std_train_score'],\n",
       "      dtype='object')"
      ]
     },
     "execution_count": 75,
     "metadata": {},
     "output_type": "execute_result"
    }
   ],
   "source": [
    "grid_search_results.columns"
   ]
  },
  {
   "cell_type": "code",
   "execution_count": 76,
   "metadata": {},
   "outputs": [],
   "source": [
    "grid_search_results = grid_search_results[['param_max_depth', 'param_max_features', 'param_min_samples_split',\n",
    "       'mean_test_score', 'mean_train_score']]"
   ]
  },
  {
   "cell_type": "code",
   "execution_count": 77,
   "metadata": {},
   "outputs": [
    {
     "data": {
      "text/html": [
       "<div>\n",
       "<style scoped>\n",
       "    .dataframe tbody tr th:only-of-type {\n",
       "        vertical-align: middle;\n",
       "    }\n",
       "\n",
       "    .dataframe tbody tr th {\n",
       "        vertical-align: top;\n",
       "    }\n",
       "\n",
       "    .dataframe thead th {\n",
       "        text-align: right;\n",
       "    }\n",
       "</style>\n",
       "<table border=\"1\" class=\"dataframe\">\n",
       "  <thead>\n",
       "    <tr style=\"text-align: right;\">\n",
       "      <th></th>\n",
       "      <th>param_max_depth</th>\n",
       "      <th>param_max_features</th>\n",
       "      <th>param_min_samples_split</th>\n",
       "      <th>mean_test_score</th>\n",
       "      <th>mean_train_score</th>\n",
       "    </tr>\n",
       "  </thead>\n",
       "  <tbody>\n",
       "    <tr>\n",
       "      <th>154</th>\n",
       "      <td>12</td>\n",
       "      <td>9</td>\n",
       "      <td>10</td>\n",
       "      <td>-0.664632</td>\n",
       "      <td>-0.209351</td>\n",
       "    </tr>\n",
       "    <tr>\n",
       "      <th>6</th>\n",
       "      <td>2</td>\n",
       "      <td>5</td>\n",
       "      <td>1000</td>\n",
       "      <td>-0.664357</td>\n",
       "      <td>-0.649114</td>\n",
       "    </tr>\n",
       "    <tr>\n",
       "      <th>140</th>\n",
       "      <td>12</td>\n",
       "      <td>5</td>\n",
       "      <td>10</td>\n",
       "      <td>-0.659679</td>\n",
       "      <td>-0.224434</td>\n",
       "    </tr>\n",
       "    <tr>\n",
       "      <th>0</th>\n",
       "      <td>2</td>\n",
       "      <td>5</td>\n",
       "      <td>10</td>\n",
       "      <td>-0.659445</td>\n",
       "      <td>-0.627876</td>\n",
       "    </tr>\n",
       "    <tr>\n",
       "      <th>2</th>\n",
       "      <td>2</td>\n",
       "      <td>5</td>\n",
       "      <td>100</td>\n",
       "      <td>-0.655436</td>\n",
       "      <td>-0.633121</td>\n",
       "    </tr>\n",
       "    <tr>\n",
       "      <th>...</th>\n",
       "      <td>...</td>\n",
       "      <td>...</td>\n",
       "      <td>...</td>\n",
       "      <td>...</td>\n",
       "      <td>...</td>\n",
       "    </tr>\n",
       "    <tr>\n",
       "      <th>106</th>\n",
       "      <td>8</td>\n",
       "      <td>11</td>\n",
       "      <td>50</td>\n",
       "      <td>-0.550081</td>\n",
       "      <td>-0.418537</td>\n",
       "    </tr>\n",
       "    <tr>\n",
       "      <th>157</th>\n",
       "      <td>12</td>\n",
       "      <td>9</td>\n",
       "      <td>200</td>\n",
       "      <td>-0.549762</td>\n",
       "      <td>-0.471151</td>\n",
       "    </tr>\n",
       "    <tr>\n",
       "      <th>64</th>\n",
       "      <td>6</td>\n",
       "      <td>7</td>\n",
       "      <td>50</td>\n",
       "      <td>-0.549679</td>\n",
       "      <td>-0.480269</td>\n",
       "    </tr>\n",
       "    <tr>\n",
       "      <th>102</th>\n",
       "      <td>8</td>\n",
       "      <td>9</td>\n",
       "      <td>300</td>\n",
       "      <td>-0.548419</td>\n",
       "      <td>-0.499694</td>\n",
       "    </tr>\n",
       "    <tr>\n",
       "      <th>78</th>\n",
       "      <td>6</td>\n",
       "      <td>11</td>\n",
       "      <td>50</td>\n",
       "      <td>-0.547678</td>\n",
       "      <td>-0.468542</td>\n",
       "    </tr>\n",
       "  </tbody>\n",
       "</table>\n",
       "<p>168 rows × 5 columns</p>\n",
       "</div>"
      ],
      "text/plain": [
       "    param_max_depth param_max_features param_min_samples_split  \\\n",
       "154              12                  9                      10   \n",
       "6                 2                  5                    1000   \n",
       "140              12                  5                      10   \n",
       "0                 2                  5                      10   \n",
       "2                 2                  5                     100   \n",
       "..              ...                ...                     ...   \n",
       "106               8                 11                      50   \n",
       "157              12                  9                     200   \n",
       "64                6                  7                      50   \n",
       "102               8                  9                     300   \n",
       "78                6                 11                      50   \n",
       "\n",
       "     mean_test_score  mean_train_score  \n",
       "154        -0.664632         -0.209351  \n",
       "6          -0.664357         -0.649114  \n",
       "140        -0.659679         -0.224434  \n",
       "0          -0.659445         -0.627876  \n",
       "2          -0.655436         -0.633121  \n",
       "..               ...               ...  \n",
       "106        -0.550081         -0.418537  \n",
       "157        -0.549762         -0.471151  \n",
       "64         -0.549679         -0.480269  \n",
       "102        -0.548419         -0.499694  \n",
       "78         -0.547678         -0.468542  \n",
       "\n",
       "[168 rows x 5 columns]"
      ]
     },
     "execution_count": 77,
     "metadata": {},
     "output_type": "execute_result"
    }
   ],
   "source": [
    "grid_search_results.sort_values(\"mean_test_score\")"
   ]
  },
  {
   "cell_type": "code",
   "execution_count": 78,
   "metadata": {},
   "outputs": [
    {
     "data": {
      "text/plain": [
       "0.5438827787576582"
      ]
     },
     "execution_count": 78,
     "metadata": {},
     "output_type": "execute_result"
    }
   ],
   "source": [
    "mean_squared_error(gs.best_estimator_.predict(X_test), y_test)"
   ]
  },
  {
   "cell_type": "code",
   "execution_count": 320,
   "metadata": {},
   "outputs": [
    {
     "data": {
      "text/plain": [
       "DecisionTreeRegressor(max_depth=6, max_features=11, min_samples_split=50)"
      ]
     },
     "execution_count": 320,
     "metadata": {},
     "output_type": "execute_result"
    }
   ],
   "source": [
    "gs.best_estimator_"
   ]
  },
  {
   "cell_type": "markdown",
   "metadata": {},
   "source": [
    "## Feature importance"
   ]
  },
  {
   "cell_type": "code",
   "execution_count": 80,
   "metadata": {},
   "outputs": [
    {
     "data": {
      "text/plain": [
       "alcohol                 0.527468\n",
       "volatile acidity        0.181691\n",
       "free sulfur dioxide     0.135059\n",
       "residual sugar          0.039271\n",
       "density                 0.034651\n",
       "pH                      0.024492\n",
       "total sulfur dioxide    0.022119\n",
       "fixed acidity           0.020959\n",
       "citric acid             0.011027\n",
       "sulphates               0.003265\n",
       "chlorides               0.000000\n",
       "dtype: float64"
      ]
     },
     "execution_count": 80,
     "metadata": {},
     "output_type": "execute_result"
    }
   ],
   "source": [
    "pd.Series(gs.best_estimator_.feature_importances_, index=df.columns[:-1]).sort_values(ascending=False)"
   ]
  },
  {
   "cell_type": "code",
   "execution_count": 81,
   "metadata": {},
   "outputs": [
    {
     "data": {
      "text/plain": [
       "<AxesSubplot:>"
      ]
     },
     "execution_count": 81,
     "metadata": {},
     "output_type": "execute_result"
    },
    {
     "data": {
      "image/png": "[encoded data removed]",
      "text/plain": [
       "<Figure size 432x288 with 1 Axes>"
      ]
     },
     "metadata": {
      "needs_background": "light"
     },
     "output_type": "display_data"
    }
   ],
   "source": [
    "sns.barplot(x=_.values, y=_.index)"
   ]
  },
  {
   "cell_type": "code",
   "execution_count": 82,
   "metadata": {},
   "outputs": [
    {
     "data": {
      "image/png": "[encoded data removed]",
      "text/plain": [
       "<Figure size 1440x1440 with 1 Axes>"
      ]
     },
     "metadata": {
      "needs_background": "light"
     },
     "output_type": "display_data"
    }
   ],
   "source": [
    "fig = plt.figure(figsize=(20, 20))\n",
    "plot_tree(gs.best_estimator_, feature_names=df.columns[:-1], filled=True);"
   ]
  },
  {
   "cell_type": "code",
   "execution_count": 83,
   "metadata": {},
   "outputs": [],
   "source": [
    "fig.savefig(\"decision_tree.svg\", facecolor=\"white\")"
   ]
  },
  {
   "cell_type": "markdown",
   "metadata": {},
   "source": [
    "## Summary"
   ]
  },
  {
   "cell_type": "markdown",
   "metadata": {},
   "source": [
    " * Decision trees are useful for regression (`DecisionTreeRegressor`)and classification (`DecisionTreeClassifier`)\n",
    " * Their behavior is quite intuitive\n",
    " * Their behavior is interpretable and explainable"
   ]
  },
  {
   "cell_type": "markdown",
   "metadata": {},
   "source": [
    " * Decision trees overfit when `max_depth` becomes very big (obvious, individual leaves at the end)\n",
    " * Prevent overfitting (always, not only in tree based methods) by looking at test error"
   ]
  },
  {
   "cell_type": "markdown",
   "metadata": {},
   "source": [
    " * One decision tree is often not a very powerful ML algorithm\n",
    " * Decision trees are the building blocks of more advanced and superpowerful algorithms"
   ]
  }
 ],
 "metadata": {
  "kernelspec": {
   "display_name": "Python 3",
   "language": "python",
   "name": "python3"
  },
  "language_info": {
   "codemirror_mode": {
    "name": "ipython",
    "version": 3
   },
   "file_extension": ".py",
   "mimetype": "text/x-python",
   "name": "python",
   "nbconvert_exporter": "python",
   "pygments_lexer": "ipython3",
   "version": "3.8.5"
  },
  "toc": {
   "base_numbering": 1,
   "nav_menu": {},
   "number_sections": true,
   "sideBar": true,
   "skip_h1_title": true,
   "title_cell": "Table of Contents",
   "title_sidebar": "Contents",
   "toc_cell": true,
   "toc_position": {},
   "toc_section_display": true,
   "toc_window_display": true
  },
  "varInspector": {
   "cols": {
    "lenName": 16,
    "lenType": 16,
    "lenVar": 40
   },
   "kernels_config": {
    "python": {
     "delete_cmd_postfix": "",
     "delete_cmd_prefix": "del ",
     "library": "var_list.py",
     "varRefreshCmd": "print(var_dic_list())"
    },
    "r": {
     "delete_cmd_postfix": ") ",
     "delete_cmd_prefix": "rm(",
     "library": "var_list.r",
     "varRefreshCmd": "cat(var_dic_list()) "
    }
   },
   "types_to_exclude": [
    "module",
    "function",
    "builtin_function_or_method",
    "instance",
    "_Feature"
   ],
   "window_display": false
  }
 },
 "nbformat": 4,
 "nbformat_minor": 4
}
