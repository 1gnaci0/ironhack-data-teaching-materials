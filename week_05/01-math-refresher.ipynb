{
 "cells": [
  {
   "cell_type": "markdown",
   "metadata": {
    "toc": true
   },
   "source": [
    "<h1>Table of Contents<span class=\"tocSkip\"></span></h1>\n",
    "<div class=\"toc\"><ul class=\"toc-item\"><li><span><a href=\"#Distances-between-points\" data-toc-modified-id=\"Distances-between-points-1\"><span class=\"toc-item-num\">1&nbsp;&nbsp;</span>Distances between points</a></span></li><li><span><a href=\"#Basic-functions\" data-toc-modified-id=\"Basic-functions-2\"><span class=\"toc-item-num\">2&nbsp;&nbsp;</span>Basic functions</a></span><ul class=\"toc-item\"><li><span><a href=\"#x-y-grid\" data-toc-modified-id=\"x-y-grid-2.1\"><span class=\"toc-item-num\">2.1&nbsp;&nbsp;</span>x-y grid</a></span></li><li><span><a href=\"#linear-functions\" data-toc-modified-id=\"linear-functions-2.2\"><span class=\"toc-item-num\">2.2&nbsp;&nbsp;</span>linear functions</a></span></li><li><span><a href=\"#polynomials\" data-toc-modified-id=\"polynomials-2.3\"><span class=\"toc-item-num\">2.3&nbsp;&nbsp;</span>polynomials</a></span></li><li><span><a href=\"#square-root\" data-toc-modified-id=\"square-root-2.4\"><span class=\"toc-item-num\">2.4&nbsp;&nbsp;</span>square root</a></span></li><li><span><a href=\"#exp\" data-toc-modified-id=\"exp-2.5\"><span class=\"toc-item-num\">2.5&nbsp;&nbsp;</span>exp</a></span></li><li><span><a href=\"#log\" data-toc-modified-id=\"log-2.6\"><span class=\"toc-item-num\">2.6&nbsp;&nbsp;</span>log</a></span></li><li><span><a href=\"#special-symbols\" data-toc-modified-id=\"special-symbols-2.7\"><span class=\"toc-item-num\">2.7&nbsp;&nbsp;</span>special symbols</a></span></li></ul></li><li><span><a href=\"#Combinatorics\" data-toc-modified-id=\"Combinatorics-3\"><span class=\"toc-item-num\">3&nbsp;&nbsp;</span>Combinatorics</a></span><ul class=\"toc-item\"><li><span><a href=\"#Factorial-function\" data-toc-modified-id=\"Factorial-function-3.1\"><span class=\"toc-item-num\">3.1&nbsp;&nbsp;</span>Factorial function</a></span></li><li><span><a href=\"#Variaciones\" data-toc-modified-id=\"Variaciones-3.2\"><span class=\"toc-item-num\">3.2&nbsp;&nbsp;</span>Variaciones</a></span></li><li><span><a href=\"#Permutaciones\" data-toc-modified-id=\"Permutaciones-3.3\"><span class=\"toc-item-num\">3.3&nbsp;&nbsp;</span>Permutaciones</a></span></li><li><span><a href=\"#Combinaciones\" data-toc-modified-id=\"Combinaciones-3.4\"><span class=\"toc-item-num\">3.4&nbsp;&nbsp;</span>Combinaciones</a></span></li></ul></li></ul></div>"
   ]
  },
  {
   "cell_type": "markdown",
   "metadata": {},
   "source": [
    "**Warmup: Divisors of a number**"
   ]
  },
  {
   "cell_type": "markdown",
   "metadata": {},
   "source": [
    "Number 12 has several divisors not equal to itself: 1, 2, 3, 4, 6"
   ]
  },
  {
   "cell_type": "markdown",
   "metadata": {},
   "source": [
    "Write a function that:\n",
    " * receives an integer\n",
    " * returns the list of its divisors"
   ]
  },
  {
   "cell_type": "code",
   "execution_count": 9,
   "metadata": {},
   "outputs": [],
   "source": [
    "def divisors(n):\n",
    "    divs = []\n",
    "    for i in range(1, n):\n",
    "        if n % i == 0:\n",
    "            divs.append(i)\n",
    "    \n",
    "    return divs"
   ]
  },
  {
   "cell_type": "code",
   "execution_count": 11,
   "metadata": {},
   "outputs": [],
   "source": [
    "def sum_divisors(n):\n",
    "    divs = []\n",
    "    for i in range(1, n):\n",
    "        if n % i == 0:\n",
    "            divs.append(i)\n",
    "    \n",
    "    return sum(divs)"
   ]
  },
  {
   "cell_type": "code",
   "execution_count": 12,
   "metadata": {},
   "outputs": [
    {
     "data": {
      "text/plain": [
       "[1, 2]"
      ]
     },
     "execution_count": 12,
     "metadata": {},
     "output_type": "execute_result"
    }
   ],
   "source": [
    "divisors(4)"
   ]
  },
  {
   "cell_type": "code",
   "execution_count": 13,
   "metadata": {},
   "outputs": [
    {
     "data": {
      "text/plain": [
       "3"
      ]
     },
     "execution_count": 13,
     "metadata": {},
     "output_type": "execute_result"
    }
   ],
   "source": [
    "sum_divisors(4)"
   ]
  },
  {
   "cell_type": "code",
   "execution_count": 15,
   "metadata": {},
   "outputs": [
    {
     "data": {
      "text/plain": [
       "[1, 2, 4, 7, 14]"
      ]
     },
     "execution_count": 15,
     "metadata": {},
     "output_type": "execute_result"
    }
   ],
   "source": [
    "divisors(28)"
   ]
  },
  {
   "cell_type": "code",
   "execution_count": 16,
   "metadata": {},
   "outputs": [
    {
     "data": {
      "text/plain": [
       "28"
      ]
     },
     "execution_count": 16,
     "metadata": {},
     "output_type": "execute_result"
    }
   ],
   "source": [
    "sum_divisors(28)"
   ]
  },
  {
   "cell_type": "code",
   "execution_count": 20,
   "metadata": {},
   "outputs": [
    {
     "data": {
      "text/plain": [
       "810"
      ]
     },
     "execution_count": 20,
     "metadata": {},
     "output_type": "execute_result"
    }
   ],
   "source": [
    "sum_divisors(360)"
   ]
  },
  {
   "cell_type": "code",
   "execution_count": 23,
   "metadata": {},
   "outputs": [
    {
     "data": {
      "text/plain": [
       "8"
      ]
     },
     "execution_count": 23,
     "metadata": {},
     "output_type": "execute_result"
    }
   ],
   "source": [
    "sum_divisors(10)"
   ]
  },
  {
   "cell_type": "code",
   "execution_count": 18,
   "metadata": {},
   "outputs": [
    {
     "data": {
      "text/plain": [
       "[1, 2, 5]"
      ]
     },
     "execution_count": 18,
     "metadata": {},
     "output_type": "execute_result"
    }
   ],
   "source": [
    "divisors(10)"
   ]
  },
  {
   "cell_type": "markdown",
   "metadata": {},
   "source": [
    "## Distances between points"
   ]
  },
  {
   "cell_type": "markdown",
   "metadata": {},
   "source": [
    "## Basic functions"
   ]
  },
  {
   "cell_type": "markdown",
   "metadata": {},
   "source": [
    "You can find the contents in a pdf file in this same directory"
   ]
  },
  {
   "cell_type": "code",
   "execution_count": 25,
   "metadata": {},
   "outputs": [
    {
     "data": {
      "text/plain": [
       "[1.0,\n",
       " 1.1,\n",
       " 1.2100000000000002,\n",
       " 1.3310000000000004,\n",
       " 1.4641000000000004,\n",
       " 1.6105100000000006,\n",
       " 1.7715610000000008,\n",
       " 1.9487171000000012,\n",
       " 2.1435888100000016,\n",
       " 2.357947691000002,\n",
       " 2.5937424601000023,\n",
       " 2.8531167061100025,\n",
       " 3.138428376721003,\n",
       " 3.452271214393104,\n",
       " 3.7974983358324144,\n",
       " 4.177248169415656,\n",
       " 4.594972986357222,\n",
       " 5.054470284992945,\n",
       " 5.55991731349224,\n",
       " 6.115909044841464]"
      ]
     },
     "execution_count": 25,
     "metadata": {},
     "output_type": "execute_result"
    }
   ],
   "source": [
    "[1.1**n for n in range(20)]"
   ]
  },
  {
   "cell_type": "markdown",
   "metadata": {},
   "source": [
    "### x-y grid"
   ]
  },
  {
   "cell_type": "markdown",
   "metadata": {},
   "source": [
    "### linear functions"
   ]
  },
  {
   "cell_type": "markdown",
   "metadata": {},
   "source": [
    "### polynomials"
   ]
  },
  {
   "cell_type": "markdown",
   "metadata": {},
   "source": [
    "### square root"
   ]
  },
  {
   "cell_type": "markdown",
   "metadata": {},
   "source": [
    "### exp"
   ]
  },
  {
   "cell_type": "markdown",
   "metadata": {},
   "source": [
    "### log"
   ]
  },
  {
   "cell_type": "markdown",
   "metadata": {},
   "source": [
    "### special symbols"
   ]
  },
  {
   "cell_type": "markdown",
   "metadata": {},
   "source": [
    "$$\\sum_{n=3}^6 n$$"
   ]
  },
  {
   "cell_type": "markdown",
   "metadata": {},
   "source": [
    "$$\\sum_{n=-2}^2 (n² - n + 1)$$"
   ]
  },
  {
   "cell_type": "markdown",
   "metadata": {},
   "source": [
    "$$\\sum_{n=0}^4 a_nx^n$$"
   ]
  },
  {
   "cell_type": "markdown",
   "metadata": {},
   "source": [
    "## Combinatorics"
   ]
  },
  {
   "cell_type": "markdown",
   "metadata": {},
   "source": [
    "**Exercise 1**: we are 21 students. How many ways are there of choosing a Director and an Advisor?"
   ]
  },
  {
   "cell_type": "markdown",
   "metadata": {},
   "source": [
    "**Exercise 2**: we have letters A, B, C. How many 3 letter words can we build with them, without repeating them?"
   ]
  },
  {
   "cell_type": "markdown",
   "metadata": {},
   "source": [
    "**Exercise 3**: we have:\n",
    " * salad\n",
    " * tomato\n",
    " * ham\n",
    " * bacon\n",
    " * chocolate\n",
    "\n",
    "How many different sandwiches can we have with only 2 ingredients?"
   ]
  },
  {
   "cell_type": "markdown",
   "metadata": {},
   "source": [
    "### Factorial function"
   ]
  },
  {
   "cell_type": "markdown",
   "metadata": {},
   "source": [
    "Remember the factorial:"
   ]
  },
  {
   "cell_type": "markdown",
   "metadata": {},
   "source": [
    "$$N!=N*(N-1)*(N-2)*...*3*2*1$$"
   ]
  },
  {
   "cell_type": "markdown",
   "metadata": {},
   "source": [
    "$$3!=3*2*1 = 6$$"
   ]
  },
  {
   "cell_type": "markdown",
   "metadata": {},
   "source": [
    "$$5!=5*4*3*2*1 = 120$$"
   ]
  },
  {
   "cell_type": "markdown",
   "metadata": {},
   "source": [
    "Write a function returning the factorial of a number"
   ]
  },
  {
   "cell_type": "code",
   "execution_count": 2,
   "metadata": {},
   "outputs": [],
   "source": [
    "def factorial(n):\n",
    "    pass"
   ]
  },
  {
   "cell_type": "markdown",
   "metadata": {},
   "source": [
    "I use spanish terms (this may change with the language)"
   ]
  },
  {
   "cell_type": "markdown",
   "metadata": {},
   "source": [
    "### Variaciones"
   ]
  },
  {
   "cell_type": "markdown",
   "metadata": {},
   "source": [
    "**Order matters**"
   ]
  },
  {
   "cell_type": "markdown",
   "metadata": {},
   "source": [
    "We are 21 students. How many ways are there of choosing a Director and an Advisor?"
   ]
  },
  {
   "cell_type": "markdown",
   "metadata": {},
   "source": [
    "$$\\frac{N!}{(N-k)!}$$"
   ]
  },
  {
   "cell_type": "markdown",
   "metadata": {},
   "source": [
    "### Permutaciones"
   ]
  },
  {
   "cell_type": "markdown",
   "metadata": {},
   "source": [
    "**Order matters**, and **all** elements are used"
   ]
  },
  {
   "cell_type": "markdown",
   "metadata": {},
   "source": [
    "We have letters A, B, C. How many 3 letter words can we build with them, without repeating them?"
   ]
  },
  {
   "cell_type": "markdown",
   "metadata": {},
   "source": [
    "We have letters A, B, C, D. How many 4 letter words can we build with them, without repeating them?"
   ]
  },
  {
   "cell_type": "markdown",
   "metadata": {},
   "source": [
    "$$N!$$"
   ]
  },
  {
   "cell_type": "markdown",
   "metadata": {},
   "source": [
    "### Combinaciones"
   ]
  },
  {
   "cell_type": "markdown",
   "metadata": {},
   "source": [
    "**Order DOES NOT matter**"
   ]
  },
  {
   "cell_type": "markdown",
   "metadata": {},
   "source": [
    "We have:\n",
    " * salad\n",
    " * tomato\n",
    " * ham\n",
    " * bacon\n",
    " * chocolate\n",
    "\n",
    "How many different sandwiches can we have with only 2 ingredients?"
   ]
  },
  {
   "cell_type": "markdown",
   "metadata": {},
   "source": [
    "$${N\\choose k} \\equiv \\frac{N!}{N!(N-k)!}$$"
   ]
  }
 ],
 "metadata": {
  "kernelspec": {
   "display_name": "Python 3",
   "language": "python",
   "name": "python3"
  },
  "language_info": {
   "codemirror_mode": {
    "name": "ipython",
    "version": 3
   },
   "file_extension": ".py",
   "mimetype": "text/x-python",
   "name": "python",
   "nbconvert_exporter": "python",
   "pygments_lexer": "ipython3",
   "version": "3.8.5"
  },
  "toc": {
   "base_numbering": 1,
   "nav_menu": {},
   "number_sections": true,
   "sideBar": true,
   "skip_h1_title": true,
   "title_cell": "Table of Contents",
   "title_sidebar": "Contents",
   "toc_cell": true,
   "toc_position": {},
   "toc_section_display": true,
   "toc_window_display": true
  },
  "varInspector": {
   "cols": {
    "lenName": 16,
    "lenType": 16,
    "lenVar": 40
   },
   "kernels_config": {
    "python": {
     "delete_cmd_postfix": "",
     "delete_cmd_prefix": "del ",
     "library": "var_list.py",
     "varRefreshCmd": "print(var_dic_list())"
    },
    "r": {
     "delete_cmd_postfix": ") ",
     "delete_cmd_prefix": "rm(",
     "library": "var_list.r",
     "varRefreshCmd": "cat(var_dic_list()) "
    }
   },
   "types_to_exclude": [
    "module",
    "function",
    "builtin_function_or_method",
    "instance",
    "_Feature"
   ],
   "window_display": false
  }
 },
 "nbformat": 4,
 "nbformat_minor": 1
}
