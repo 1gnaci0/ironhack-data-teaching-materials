{
 "cells": [
  {
   "cell_type": "markdown",
   "metadata": {
    "toc": true
   },
   "source": [
    "<h1>Table of Contents<span class=\"tocSkip\"></span></h1>\n",
    "<div class=\"toc\"><ul class=\"toc-item\"><li><span><a href=\"#Random-Variables\" data-toc-modified-id=\"Random-Variables-1\"><span class=\"toc-item-num\">1&nbsp;&nbsp;</span>Random Variables</a></span><ul class=\"toc-item\"><li><span><a href=\"#Examples\" data-toc-modified-id=\"Examples-1.1\"><span class=\"toc-item-num\">1.1&nbsp;&nbsp;</span>Examples</a></span></li></ul></li><li><span><a href=\"#Discrete-probability-distributions\" data-toc-modified-id=\"Discrete-probability-distributions-2\"><span class=\"toc-item-num\">2&nbsp;&nbsp;</span>Discrete probability distributions</a></span><ul class=\"toc-item\"><li><span><a href=\"#Bernoulli-distribution\" data-toc-modified-id=\"Bernoulli-distribution-2.1\"><span class=\"toc-item-num\">2.1&nbsp;&nbsp;</span>Bernoulli distribution</a></span></li><li><span><a href=\"#Binomial-Distribution\" data-toc-modified-id=\"Binomial-Distribution-2.2\"><span class=\"toc-item-num\">2.2&nbsp;&nbsp;</span>Binomial Distribution</a></span></li><li><span><a href=\"#scipy.stats.whatever_distribution-methods\" data-toc-modified-id=\"scipy.stats.whatever_distribution-methods-2.3\"><span class=\"toc-item-num\">2.3&nbsp;&nbsp;</span>scipy.stats.whatever_distribution methods</a></span><ul class=\"toc-item\"><li><span><a href=\"#rvs\" data-toc-modified-id=\"rvs-2.3.1\"><span class=\"toc-item-num\">2.3.1&nbsp;&nbsp;</span>rvs</a></span></li><li><span><a href=\"#pmf\" data-toc-modified-id=\"pmf-2.3.2\"><span class=\"toc-item-num\">2.3.2&nbsp;&nbsp;</span>pmf</a></span></li><li><span><a href=\"#cdf\" data-toc-modified-id=\"cdf-2.3.3\"><span class=\"toc-item-num\">2.3.3&nbsp;&nbsp;</span>cdf</a></span></li><li><span><a href=\"#mean,-var,-std\" data-toc-modified-id=\"mean,-var,-std-2.3.4\"><span class=\"toc-item-num\">2.3.4&nbsp;&nbsp;</span>mean, var, std</a></span></li></ul></li><li><span><a href=\"#Poisson-Distribution\" data-toc-modified-id=\"Poisson-Distribution-2.4\"><span class=\"toc-item-num\">2.4&nbsp;&nbsp;</span>Poisson Distribution</a></span></li></ul></li><li><span><a href=\"#Uniform-Distribution\" data-toc-modified-id=\"Uniform-Distribution-3\"><span class=\"toc-item-num\">3&nbsp;&nbsp;</span>Uniform Distribution</a></span><ul class=\"toc-item\"><li><span><a href=\"#Standard-Uniform-Distribution\" data-toc-modified-id=\"Standard-Uniform-Distribution-3.1\"><span class=\"toc-item-num\">3.1&nbsp;&nbsp;</span>Standard Uniform Distribution</a></span></li><li><span><a href=\"#Uniform-distribution-between-a-and-b\" data-toc-modified-id=\"Uniform-distribution-between-a-and-b-3.2\"><span class=\"toc-item-num\">3.2&nbsp;&nbsp;</span>Uniform distribution between a and b</a></span></li></ul></li><li><span><a href=\"#Exponential-Distribution\" data-toc-modified-id=\"Exponential-Distribution-4\"><span class=\"toc-item-num\">4&nbsp;&nbsp;</span>Exponential Distribution</a></span></li><li><span><a href=\"#Gaussian-Distribution\" data-toc-modified-id=\"Gaussian-Distribution-5\"><span class=\"toc-item-num\">5&nbsp;&nbsp;</span>Gaussian Distribution</a></span></li><li><span><a href=\"#Further-materials\" data-toc-modified-id=\"Further-materials-6\"><span class=\"toc-item-num\">6&nbsp;&nbsp;</span>Further materials</a></span></li></ul></div>"
   ]
  },
  {
   "cell_type": "code",
   "execution_count": 11,
   "metadata": {},
   "outputs": [],
   "source": [
    "import seaborn as sns"
   ]
  },
  {
   "cell_type": "markdown",
   "metadata": {
    "colab_type": "text",
    "id": "5dn6JLn8GhnC"
   },
   "source": [
    "# Continuous Distribution\n",
    "\n",
    "**Cumulative Distribution Function (CDF)** (def) of a random variable.\n",
    "> F<sub>X</sub>(x) = P(X >= x)   for all x E IR\n",
    "\n",
    "For all a <= b we have P(a < X <= b) = F <sub>X</sub>(b) - F <sub>X</sub>(a)\n",
    "\n",
    "**Expectation** is the average in probability-talk\n",
    "\n",
    "**Variance** How spread out the distribution of a random variable is. \n",
    "\n"
   ]
  },
  {
   "cell_type": "code",
   "execution_count": 0,
   "metadata": {
    "colab": {},
    "colab_type": "code",
    "id": "FRLGyVcFR8i-"
   },
   "outputs": [],
   "source": [
    "x = np.array([0.2, 0.4, 0.5, 0.8, 1])\n",
    "p = np.array([0.1, 0.2, 0.2, 0.3, 0.2])\n",
    "\n",
    "\n",
    "plt.scatter(x,np.cumsum(p))"
   ]
  },
  {
   "cell_type": "markdown",
   "metadata": {
    "colab_type": "text",
    "id": "jxCKG7yN_1PS"
   },
   "source": [
    "## Uniform Distribution\n",
    "\n",
    "### Standard Uniform Distribution"
   ]
  },
  {
   "cell_type": "code",
   "execution_count": 0,
   "metadata": {
    "colab": {},
    "colab_type": "code",
    "id": "0zuIXTQf_qav"
   },
   "outputs": [],
   "source": [
    "x = np.linspace(0,1, 100)\n",
    "plt.plot(x, uniform.pdf(x))"
   ]
  },
  {
   "cell_type": "markdown",
   "metadata": {
    "colab_type": "text",
    "id": "xsScdABy_6rm"
   },
   "source": [
    "### Uniform distribution between a and b"
   ]
  },
  {
   "cell_type": "code",
   "execution_count": 0,
   "metadata": {
    "colab": {},
    "colab_type": "code",
    "id": "PF9hUHQTABbu"
   },
   "outputs": [],
   "source": [
    "a=1\n",
    "b=3\n",
    "x = np.linspace(a,b, 100)\n",
    "y = uniform.pdf(x, a, b)\n",
    "plt.plot(x, y)"
   ]
  },
  {
   "cell_type": "markdown",
   "metadata": {
    "colab_type": "text",
    "id": "2hX05u3CHAev"
   },
   "source": [
    "## Exponential Distribution\n",
    "\n",
    "is often concerned with the amount of time until some specific event occurs. Model situations where certain events occur with a constant probability per unit length: queuing lines, calls at call center during afternoon, radioactive particles decay, DNA strands. \n",
    "\n",
    "It can be shown, too, that the value of the change that you have in your pocket or purse approximately follows an exponential distribution."
   ]
  },
  {
   "cell_type": "code",
   "execution_count": 0,
   "metadata": {
    "colab": {},
    "colab_type": "code",
    "id": "DMv4P_-fGJuO"
   },
   "outputs": [],
   "source": [
    "exp = expon(0.001) \n",
    "\n",
    "print(exp.pdf(2))\n",
    "print(exp.cdf(4))       \n",
    "print(exp.rvs(33)) \n",
    "\n",
    "# plotting\n",
    "x = np.linspace(0,10,100)\n",
    "y = expon.pdf(x)\n",
    "fig, ax = plt.subplots(1, 1)\n",
    "ax.plot(x,y)"
   ]
  },
  {
   "cell_type": "markdown",
   "metadata": {
    "colab_type": "text",
    "id": "KV4SBDcZAK3B"
   },
   "source": [
    "## Gaussian Distribution\n",
    "\n",
    "How the particles distribute themselves in the process of diffusion: traffic lines, sugar in cup of tea, people sitting in conferences. \n",
    "\n"
   ]
  },
  {
   "cell_type": "code",
   "execution_count": 0,
   "metadata": {
    "colab": {},
    "colab_type": "code",
    "id": "bFPxuWYQAOYJ"
   },
   "outputs": [],
   "source": [
    "normal = norm(0, math.sqrt(9)) \n",
    "\n",
    "print(normal.pdf(2))\n",
    "print(normal.cdf(4))       \n",
    "print(normal.rvs()) \n",
    "\n",
    "# plotting\n",
    "fig, ax = plt.subplots(1, 1)\n",
    "x = np.linspace(-3,3,1000)\n",
    "y = norm.pdf(x)\n",
    "ax.plot(x,y)\n",
    "plt.show()"
   ]
  },
  {
   "cell_type": "markdown",
   "metadata": {},
   "source": [
    "## Further materials"
   ]
  },
  {
   "cell_type": "markdown",
   "metadata": {},
   "source": [
    "<img src=\"https://www.dummies.com/wp-content/uploads/250474.image0.jpg\" width=800>"
   ]
  },
  {
   "cell_type": "code",
   "execution_count": null,
   "metadata": {},
   "outputs": [],
   "source": []
  }
 ],
 "metadata": {
  "colab": {
   "collapsed_sections": [],
   "name": "ProbabilityDistribution (1).ipynb",
   "provenance": []
  },
  "kernelspec": {
   "display_name": "Python 3",
   "language": "python",
   "name": "python3"
  },
  "language_info": {
   "codemirror_mode": {
    "name": "ipython",
    "version": 3
   },
   "file_extension": ".py",
   "mimetype": "text/x-python",
   "name": "python",
   "nbconvert_exporter": "python",
   "pygments_lexer": "ipython3",
   "version": "3.8.5"
  },
  "toc": {
   "base_numbering": 1,
   "nav_menu": {},
   "number_sections": true,
   "sideBar": true,
   "skip_h1_title": true,
   "title_cell": "Table of Contents",
   "title_sidebar": "Contents",
   "toc_cell": true,
   "toc_position": {},
   "toc_section_display": true,
   "toc_window_display": true
  },
  "varInspector": {
   "cols": {
    "lenName": 16,
    "lenType": 16,
    "lenVar": 40
   },
   "kernels_config": {
    "python": {
     "delete_cmd_postfix": "",
     "delete_cmd_prefix": "del ",
     "library": "var_list.py",
     "varRefreshCmd": "print(var_dic_list())"
    },
    "r": {
     "delete_cmd_postfix": ") ",
     "delete_cmd_prefix": "rm(",
     "library": "var_list.r",
     "varRefreshCmd": "cat(var_dic_list()) "
    }
   },
   "types_to_exclude": [
    "module",
    "function",
    "builtin_function_or_method",
    "instance",
    "_Feature"
   ],
   "window_display": false
  }
 },
 "nbformat": 4,
 "nbformat_minor": 1
}
