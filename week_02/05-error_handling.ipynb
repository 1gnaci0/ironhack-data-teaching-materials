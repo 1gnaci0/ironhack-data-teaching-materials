{
 "cells": [
  {
   "cell_type": "markdown",
   "metadata": {},
   "source": [
    "# Error Handling"
   ]
  },
  {
   "cell_type": "markdown",
   "metadata": {
    "toc": true
   },
   "source": [
    "<h1>Table of Contents<span class=\"tocSkip\"></span></h1>\n",
    "<div class=\"toc\"><ul class=\"toc-item\"><li><span><a href=\"#Introduction\" data-toc-modified-id=\"Introduction-1\"><span class=\"toc-item-num\">1&nbsp;&nbsp;</span>Introduction</a></span></li><li><span><a href=\"#Error-types\" data-toc-modified-id=\"Error-types-2\"><span class=\"toc-item-num\">2&nbsp;&nbsp;</span>Error types</a></span><ul class=\"toc-item\"><li><span><a href=\"#SyntaxError\" data-toc-modified-id=\"SyntaxError-2.1\"><span class=\"toc-item-num\">2.1&nbsp;&nbsp;</span>SyntaxError</a></span></li><li><span><a href=\"#AttributeError\" data-toc-modified-id=\"AttributeError-2.2\"><span class=\"toc-item-num\">2.2&nbsp;&nbsp;</span>AttributeError</a></span></li><li><span><a href=\"#KeyError\" data-toc-modified-id=\"KeyError-2.3\"><span class=\"toc-item-num\">2.3&nbsp;&nbsp;</span>KeyError</a></span></li><li><span><a href=\"#TypeError\" data-toc-modified-id=\"TypeError-2.4\"><span class=\"toc-item-num\">2.4&nbsp;&nbsp;</span>TypeError</a></span></li><li><span><a href=\"#ValueError\" data-toc-modified-id=\"ValueError-2.5\"><span class=\"toc-item-num\">2.5&nbsp;&nbsp;</span>ValueError</a></span></li><li><span><a href=\"#ImportError\" data-toc-modified-id=\"ImportError-2.6\"><span class=\"toc-item-num\">2.6&nbsp;&nbsp;</span>ImportError</a></span></li><li><span><a href=\"#IOError\" data-toc-modified-id=\"IOError-2.7\"><span class=\"toc-item-num\">2.7&nbsp;&nbsp;</span>IOError</a></span></li><li><span><a href=\"#IndexError\" data-toc-modified-id=\"IndexError-2.8\"><span class=\"toc-item-num\">2.8&nbsp;&nbsp;</span>IndexError</a></span></li></ul></li><li><span><a href=\"#Tracebacks\" data-toc-modified-id=\"Tracebacks-3\"><span class=\"toc-item-num\">3&nbsp;&nbsp;</span>Tracebacks</a></span></li><li><span><a href=\"#Manually-raising-exceptions\" data-toc-modified-id=\"Manually-raising-exceptions-4\"><span class=\"toc-item-num\">4&nbsp;&nbsp;</span>Manually raising exceptions</a></span><ul class=\"toc-item\"><li><span><a href=\"#Existing-errors\" data-toc-modified-id=\"Existing-errors-4.1\"><span class=\"toc-item-num\">4.1&nbsp;&nbsp;</span>Existing errors</a></span></li><li><span><a href=\"#Assertion-errors\" data-toc-modified-id=\"Assertion-errors-4.2\"><span class=\"toc-item-num\">4.2&nbsp;&nbsp;</span>Assertion errors</a></span></li><li><span><a href=\"#Custom-errors-(advanced)\" data-toc-modified-id=\"Custom-errors-(advanced)-4.3\"><span class=\"toc-item-num\">4.3&nbsp;&nbsp;</span>Custom errors (advanced)</a></span></li></ul></li><li><span><a href=\"#Exception-handling\" data-toc-modified-id=\"Exception-handling-5\"><span class=\"toc-item-num\">5&nbsp;&nbsp;</span>Exception handling</a></span><ul class=\"toc-item\"><li><span><a href=\"#Several-except-handlers\" data-toc-modified-id=\"Several-except-handlers-5.1\"><span class=\"toc-item-num\">5.1&nbsp;&nbsp;</span>Several <code>except</code> handlers</a></span></li></ul></li><li><span><a href=\"#Reminder:-type-hints\" data-toc-modified-id=\"Reminder:-type-hints-6\"><span class=\"toc-item-num\">6&nbsp;&nbsp;</span>Reminder: type hints</a></span></li><li><span><a href=\"#Summary\" data-toc-modified-id=\"Summary-7\"><span class=\"toc-item-num\">7&nbsp;&nbsp;</span>Summary</a></span></li></ul></div>"
   ]
  },
  {
   "cell_type": "markdown",
   "metadata": {},
   "source": [
    "## Introduction"
   ]
  },
  {
   "cell_type": "markdown",
   "metadata": {},
   "source": [
    " * Errors are a form of communication between you and your computer (good logging is the other one)\n",
    " * Errors are good, do not be afraid of them\n",
    " * Errors are (almost) always right, trust them\n",
    " * Read errors **carefully**\n",
    " * This notebook is intended to be full of errors :-D"
   ]
  },
  {
   "cell_type": "markdown",
   "metadata": {},
   "source": [
    "## Error types"
   ]
  },
  {
   "cell_type": "markdown",
   "metadata": {},
   "source": [
    "There are lots of errors defined in Python, errors are always raised by programmers, even for Python internals..."
   ]
  },
  {
   "cell_type": "markdown",
   "metadata": {},
   "source": [
    "* https://docs.python.org/3/library/exceptions.html"
   ]
  },
  {
   "cell_type": "markdown",
   "metadata": {},
   "source": [
    "### SyntaxError"
   ]
  },
  {
   "cell_type": "code",
   "execution_count": null,
   "metadata": {},
   "outputs": [],
   "source": [
    "for a in (range(0, -11, -1))\n",
    "    print a"
   ]
  },
  {
   "cell_type": "markdown",
   "metadata": {},
   "source": [
    "fix?"
   ]
  },
  {
   "cell_type": "code",
   "execution_count": null,
   "metadata": {},
   "outputs": [],
   "source": [
    "for a in (range(0, -11, -1)):\n",
    "    print(a)"
   ]
  },
  {
   "cell_type": "markdown",
   "metadata": {},
   "source": [
    "### AttributeError"
   ]
  },
  {
   "cell_type": "code",
   "execution_count": null,
   "metadata": {},
   "outputs": [],
   "source": [
    "a = \"hola\""
   ]
  },
  {
   "cell_type": "code",
   "execution_count": null,
   "metadata": {},
   "outputs": [],
   "source": [
    "type(a)"
   ]
  },
  {
   "cell_type": "code",
   "execution_count": null,
   "metadata": {},
   "outputs": [],
   "source": [
    "a.values"
   ]
  },
  {
   "cell_type": "code",
   "execution_count": null,
   "metadata": {},
   "outputs": [],
   "source": [
    "# show 10 first non dunder methods\n",
    "[method for method in dir(a) if \"__\" not in method][:10]"
   ]
  },
  {
   "cell_type": "markdown",
   "metadata": {},
   "source": [
    "### KeyError"
   ]
  },
  {
   "cell_type": "code",
   "execution_count": null,
   "metadata": {},
   "outputs": [],
   "source": [
    "d = {'a': 1, 'b': 2, 'c': 3}"
   ]
  },
  {
   "cell_type": "code",
   "execution_count": null,
   "metadata": {},
   "outputs": [],
   "source": [
    "d.keys()"
   ]
  },
  {
   "cell_type": "code",
   "execution_count": null,
   "metadata": {},
   "outputs": [],
   "source": [
    "d['a']"
   ]
  },
  {
   "cell_type": "code",
   "execution_count": null,
   "metadata": {},
   "outputs": [],
   "source": [
    "d['b']"
   ]
  },
  {
   "cell_type": "code",
   "execution_count": null,
   "metadata": {},
   "outputs": [],
   "source": [
    "d['c']"
   ]
  },
  {
   "cell_type": "code",
   "execution_count": null,
   "metadata": {},
   "outputs": [],
   "source": [
    "d['f']"
   ]
  },
  {
   "cell_type": "markdown",
   "metadata": {},
   "source": [
    "fix?"
   ]
  },
  {
   "cell_type": "code",
   "execution_count": null,
   "metadata": {},
   "outputs": [],
   "source": [
    "persona = {\"nombre\": \"Manu\", \"edad\": 31, \"ciudad\": \"Madrid\"}"
   ]
  },
  {
   "cell_type": "code",
   "execution_count": null,
   "metadata": {},
   "outputs": [],
   "source": [
    "persona2 = {\"nombre\": \"Pepe\", \"edad\": 32}"
   ]
  },
  {
   "cell_type": "code",
   "execution_count": null,
   "metadata": {},
   "outputs": [],
   "source": [
    "personas = [persona, persona2]"
   ]
  },
  {
   "cell_type": "code",
   "execution_count": null,
   "metadata": {},
   "outputs": [],
   "source": [
    "type(personas)"
   ]
  },
  {
   "cell_type": "code",
   "execution_count": null,
   "metadata": {},
   "outputs": [],
   "source": [
    "len(personas)"
   ]
  },
  {
   "cell_type": "code",
   "execution_count": null,
   "metadata": {},
   "outputs": [],
   "source": [
    "for p in personas:\n",
    "    print(p[\"ciudad\"])"
   ]
  },
  {
   "cell_type": "code",
   "execution_count": null,
   "metadata": {},
   "outputs": [],
   "source": [
    "# alternative to [\"key_name\"] in dictionaries"
   ]
  },
  {
   "cell_type": "code",
   "execution_count": null,
   "metadata": {},
   "outputs": [],
   "source": [
    "persona2"
   ]
  },
  {
   "cell_type": "code",
   "execution_count": null,
   "metadata": {},
   "outputs": [],
   "source": [
    "persona2[\"nombre\"]"
   ]
  },
  {
   "cell_type": "code",
   "execution_count": null,
   "metadata": {},
   "outputs": [],
   "source": [
    "persona2.get(\"nombre\")"
   ]
  },
  {
   "cell_type": "code",
   "execution_count": null,
   "metadata": {},
   "outputs": [],
   "source": [
    "persona2[\"ciudad\"]"
   ]
  },
  {
   "cell_type": "code",
   "execution_count": null,
   "metadata": {},
   "outputs": [],
   "source": [
    "persona2.get(\"ciudad\")"
   ]
  },
  {
   "cell_type": "code",
   "execution_count": null,
   "metadata": {},
   "outputs": [],
   "source": [
    "# typical pattern"
   ]
  },
  {
   "cell_type": "code",
   "execution_count": null,
   "metadata": {},
   "outputs": [],
   "source": [
    "for p in personas:\n",
    "    ciudad = p.get(\"ciudad\")\n",
    "    if ciudad is None:\n",
    "        print(\"Does not have a city\")\n",
    "    else:\n",
    "        print(ciudad)"
   ]
  },
  {
   "cell_type": "code",
   "execution_count": null,
   "metadata": {},
   "outputs": [],
   "source": [
    "# asking for forgiveness"
   ]
  },
  {
   "cell_type": "code",
   "execution_count": null,
   "metadata": {},
   "outputs": [],
   "source": [
    "for p in personas:\n",
    "    try:\n",
    "        print(p[\"ciudad\"])\n",
    "    except KeyError:\n",
    "        print(\"Does not have a city\")"
   ]
  },
  {
   "cell_type": "markdown",
   "metadata": {},
   "source": [
    "### TypeError"
   ]
  },
  {
   "cell_type": "code",
   "execution_count": null,
   "metadata": {},
   "outputs": [],
   "source": [
    "'a' + 1"
   ]
  },
  {
   "cell_type": "markdown",
   "metadata": {},
   "source": [
    "fix?"
   ]
  },
  {
   "cell_type": "code",
   "execution_count": null,
   "metadata": {},
   "outputs": [],
   "source": [
    "\"a\" + str(1)"
   ]
  },
  {
   "cell_type": "markdown",
   "metadata": {},
   "source": [
    "### ValueError"
   ]
  },
  {
   "cell_type": "code",
   "execution_count": null,
   "metadata": {},
   "outputs": [],
   "source": [
    "int"
   ]
  },
  {
   "cell_type": "code",
   "execution_count": null,
   "metadata": {},
   "outputs": [],
   "source": [
    "type(int)"
   ]
  },
  {
   "cell_type": "code",
   "execution_count": null,
   "metadata": {},
   "outputs": [],
   "source": [
    "int(5.1)"
   ]
  },
  {
   "cell_type": "code",
   "execution_count": null,
   "metadata": {},
   "outputs": [],
   "source": [
    "int('5')"
   ]
  },
  {
   "cell_type": "code",
   "execution_count": null,
   "metadata": {},
   "outputs": [],
   "source": [
    "int('5.1')"
   ]
  },
  {
   "cell_type": "code",
   "execution_count": null,
   "metadata": {},
   "outputs": [],
   "source": [
    "float('5.1')"
   ]
  },
  {
   "cell_type": "code",
   "execution_count": null,
   "metadata": {},
   "outputs": [],
   "source": [
    "int('hi')"
   ]
  },
  {
   "cell_type": "markdown",
   "metadata": {},
   "source": [
    "### ImportError"
   ]
  },
  {
   "cell_type": "code",
   "execution_count": null,
   "metadata": {},
   "outputs": [],
   "source": [
    "import tensorflow as tf"
   ]
  },
  {
   "cell_type": "code",
   "execution_count": null,
   "metadata": {},
   "outputs": [],
   "source": [
    "import mesa"
   ]
  },
  {
   "cell_type": "markdown",
   "metadata": {},
   "source": [
    "fix?"
   ]
  },
  {
   "cell_type": "markdown",
   "metadata": {},
   "source": [
    "### IOError"
   ]
  },
  {
   "cell_type": "code",
   "execution_count": null,
   "metadata": {},
   "outputs": [],
   "source": [
    "f = open('a.txt')"
   ]
  },
  {
   "cell_type": "markdown",
   "metadata": {},
   "source": [
    "### IndexError"
   ]
  },
  {
   "cell_type": "code",
   "execution_count": null,
   "metadata": {},
   "outputs": [],
   "source": [
    "lst = [1, 2, 3]"
   ]
  },
  {
   "cell_type": "code",
   "execution_count": null,
   "metadata": {},
   "outputs": [],
   "source": [
    "lst[5]"
   ]
  },
  {
   "cell_type": "markdown",
   "metadata": {},
   "source": [
    "## Tracebacks"
   ]
  },
  {
   "cell_type": "markdown",
   "metadata": {},
   "source": [
    "When error is nested in a sequence of elements (functions, methods, etc.) it will go from last to first..."
   ]
  },
  {
   "cell_type": "code",
   "execution_count": null,
   "metadata": {},
   "outputs": [],
   "source": [
    "def function_1(argument_1):\n",
    "    return float(argument_1)"
   ]
  },
  {
   "cell_type": "code",
   "execution_count": null,
   "metadata": {},
   "outputs": [],
   "source": [
    "function_1(\"5.4\")"
   ]
  },
  {
   "cell_type": "code",
   "execution_count": null,
   "metadata": {},
   "outputs": [],
   "source": [
    "function_1(5)"
   ]
  },
  {
   "cell_type": "code",
   "execution_count": null,
   "metadata": {},
   "outputs": [],
   "source": [
    "def function_2(argument_2):\n",
    "    print(f'{argument_2} is passed to function_2')\n",
    "    \n",
    "    return function_1(argument_2)"
   ]
  },
  {
   "cell_type": "code",
   "execution_count": null,
   "metadata": {},
   "outputs": [],
   "source": [
    "function_2('5')"
   ]
  },
  {
   "cell_type": "code",
   "execution_count": null,
   "metadata": {},
   "outputs": [],
   "source": [
    "function_2('hola')"
   ]
  },
  {
   "cell_type": "markdown",
   "metadata": {},
   "source": [
    "## Manually raising exceptions"
   ]
  },
  {
   "cell_type": "markdown",
   "metadata": {},
   "source": [
    "### Existing errors"
   ]
  },
  {
   "cell_type": "code",
   "execution_count": null,
   "metadata": {},
   "outputs": [],
   "source": [
    "8 % 2"
   ]
  },
  {
   "cell_type": "code",
   "execution_count": null,
   "metadata": {},
   "outputs": [],
   "source": [
    "7 % 2"
   ]
  },
  {
   "cell_type": "code",
   "execution_count": null,
   "metadata": {},
   "outputs": [],
   "source": [
    "# just use raise and the error name...\n",
    "def even_number_check(n):\n",
    "    if n % 2 != 0:\n",
    "        raise ValueError(\"number is not even, try again ¯\\_(⊙︿⊙)_/¯\")\n",
    "        print(\"hola\")\n",
    "    else:\n",
    "        print('this number looks cool ʕᵔᴥᵔʔ')"
   ]
  },
  {
   "cell_type": "code",
   "execution_count": null,
   "metadata": {},
   "outputs": [],
   "source": [
    "even_number_check(8)"
   ]
  },
  {
   "cell_type": "code",
   "execution_count": null,
   "metadata": {},
   "outputs": [],
   "source": [
    "even_number_check(15)"
   ]
  },
  {
   "cell_type": "markdown",
   "metadata": {},
   "source": [
    "### Assertion errors"
   ]
  },
  {
   "cell_type": "markdown",
   "metadata": {},
   "source": [
    "You insert them in your code to make sure everything is working"
   ]
  },
  {
   "cell_type": "code",
   "execution_count": null,
   "metadata": {},
   "outputs": [],
   "source": [
    "a = \"silla\""
   ]
  },
  {
   "cell_type": "code",
   "execution_count": null,
   "metadata": {},
   "outputs": [],
   "source": [
    "assert type(a) == int, f\"Expected string, found {type(a)}\""
   ]
  },
  {
   "cell_type": "code",
   "execution_count": null,
   "metadata": {},
   "outputs": [],
   "source": [
    "assert type(a) == int"
   ]
  },
  {
   "cell_type": "markdown",
   "metadata": {},
   "source": [
    "### Custom errors (advanced)"
   ]
  },
  {
   "cell_type": "code",
   "execution_count": null,
   "metadata": {},
   "outputs": [],
   "source": [
    "class ManuelException(Exception):\n",
    "    pass"
   ]
  },
  {
   "cell_type": "code",
   "execution_count": null,
   "metadata": {},
   "outputs": [],
   "source": [
    "def raise_custom(a):\n",
    "    if a == 7:\n",
    "        raise ManuelException(f\"I don't like 7\")\n",
    "    \n",
    "    return a * 2"
   ]
  },
  {
   "cell_type": "code",
   "execution_count": null,
   "metadata": {},
   "outputs": [],
   "source": [
    "raise_custom(8)"
   ]
  },
  {
   "cell_type": "code",
   "execution_count": null,
   "metadata": {},
   "outputs": [],
   "source": [
    "raise_custom(7)"
   ]
  },
  {
   "cell_type": "markdown",
   "metadata": {},
   "source": [
    "## Exception handling"
   ]
  },
  {
   "cell_type": "code",
   "execution_count": null,
   "metadata": {},
   "outputs": [],
   "source": [
    "def even_number_check(n):\n",
    "    if n % 2 != 0:\n",
    "        raise ValueError(\"number is not even, try again ¯\\_(⊙︿⊙)_/¯\")\n",
    "    else:\n",
    "        print('this number looks cool ʕᵔᴥᵔʔ')"
   ]
  },
  {
   "cell_type": "code",
   "execution_count": null,
   "metadata": {},
   "outputs": [],
   "source": [
    "even_number_check(8)"
   ]
  },
  {
   "cell_type": "code",
   "execution_count": null,
   "metadata": {},
   "outputs": [],
   "source": [
    "even_number_check(7)"
   ]
  },
  {
   "cell_type": "markdown",
   "metadata": {},
   "source": [
    "try, except, else, finally"
   ]
  },
  {
   "cell_type": "code",
   "execution_count": null,
   "metadata": {},
   "outputs": [],
   "source": [
    "try:\n",
    "    even_number_check(2)\n",
    "except ValueError:\n",
    "    print('the number is not even...')\n",
    "\n",
    "print('this cell is going to execute till the end...')"
   ]
  },
  {
   "cell_type": "code",
   "execution_count": null,
   "metadata": {},
   "outputs": [],
   "source": [
    "try:\n",
    "    print(\"a\")\n",
    "    even_number_check(3)\n",
    "    print(\"b\")\n",
    "except ValueError:\n",
    "    print('the number is not even...')\n",
    "\n",
    "print('this cell is going to execute till the end...')"
   ]
  },
  {
   "cell_type": "code",
   "execution_count": null,
   "metadata": {},
   "outputs": [],
   "source": [
    "try:\n",
    "    even_number_check(2)\n",
    "except ValueError:\n",
    "    print('EXCEPT: the number is not even...')\n",
    "else:\n",
    "    print('ELSE: the number is even, no error was raised...')\n",
    "finally:\n",
    "    print('FINALLY: this is going to execute whatever happens...')"
   ]
  },
  {
   "cell_type": "code",
   "execution_count": null,
   "metadata": {},
   "outputs": [],
   "source": [
    "try:\n",
    "    even_number_check(3)\n",
    "except ValueError:\n",
    "    print('EXCEPT: the number is not even...')\n",
    "else:\n",
    "    print('ELSE: the number is even, no error was raised...')\n",
    "finally:\n",
    "    print('FINALLY: this is going to execute whatever happens...')"
   ]
  },
  {
   "cell_type": "code",
   "execution_count": null,
   "metadata": {},
   "outputs": [],
   "source": [
    "try:\n",
    "    even_number_check(2)\n",
    "except ValueError:\n",
    "    print('EXCEPT: the number is not even...')\n",
    "else:\n",
    "    print('ELSE: the number is even, no error was raised...')\n",
    "    even_number_check(5)\n",
    "finally:\n",
    "    print('FINALLY: this is going to execute whatever happens...')\n",
    "\n",
    "print(\"hola\")"
   ]
  },
  {
   "cell_type": "code",
   "execution_count": null,
   "metadata": {},
   "outputs": [],
   "source": [
    "try:\n",
    "    even_number_check(2)\n",
    "    even_number_check(5)\n",
    "except ValueError:\n",
    "    print('EXCEPT: the number is not even...')\n",
    "finally:\n",
    "    print('FINALLY: this is going to execute whatever happens...')"
   ]
  },
  {
   "cell_type": "code",
   "execution_count": null,
   "metadata": {},
   "outputs": [],
   "source": [
    "def integer_number_check(n):\n",
    "    if type(n) is not int:\n",
    "        raise ValueError(\"number is not an integer, try again ¯\\_(⊙︿⊙)_/¯\")\n",
    "    else:\n",
    "        print('this number is an integer ʕᵔᴥᵔʔ')"
   ]
  },
  {
   "cell_type": "code",
   "execution_count": null,
   "metadata": {},
   "outputs": [],
   "source": [
    "integer_number_check(8.8)"
   ]
  },
  {
   "cell_type": "code",
   "execution_count": null,
   "metadata": {},
   "outputs": [],
   "source": [
    "integer_number_check(8)"
   ]
  },
  {
   "cell_type": "code",
   "execution_count": null,
   "metadata": {},
   "outputs": [],
   "source": [
    "number_list = [1, 0, 3, 4, 5, 5.5, 6, 7.3, 8, 9, 12, 15.4, 23, 31, 36, 38, 51, 54]\n",
    "evens = []\n",
    "\n",
    "for number in number_list:\n",
    "    try:\n",
    "        integer_number_check(number)\n",
    "    except ValueError:  # broad error clauses are not recommended\n",
    "        print(f'{number} is not integer...')\n",
    "    else:\n",
    "        print(f'{number} is integer')\n",
    "        \n",
    "        try:\n",
    "            even_number_check(number)\n",
    "        except ValueError:\n",
    "            print(f'{number} is not even...')\n",
    "        else:\n",
    "            evens.append(number)"
   ]
  },
  {
   "cell_type": "markdown",
   "metadata": {},
   "source": [
    "Proper way to do this..."
   ]
  },
  {
   "cell_type": "code",
   "execution_count": null,
   "metadata": {},
   "outputs": [],
   "source": [
    "list(filter(lambda x: x % 2 == 0, number_list))"
   ]
  },
  {
   "cell_type": "markdown",
   "metadata": {},
   "source": [
    "### Several `except` handlers"
   ]
  },
  {
   "cell_type": "code",
   "execution_count": null,
   "metadata": {},
   "outputs": [],
   "source": [
    "def sum_first_and_third_element(lst):\n",
    "    first = lst[0]\n",
    "    third = lst[2]\n",
    "    \n",
    "    print(first + third)"
   ]
  },
  {
   "cell_type": "code",
   "execution_count": null,
   "metadata": {},
   "outputs": [],
   "source": [
    "sum_first_and_third_element([2, 3, 8])"
   ]
  },
  {
   "cell_type": "code",
   "execution_count": null,
   "metadata": {},
   "outputs": [],
   "source": [
    "sum_first_and_third_element([2, 5])"
   ]
  },
  {
   "cell_type": "code",
   "execution_count": null,
   "metadata": {},
   "outputs": [],
   "source": [
    "try:\n",
    "    sum_first_and_third_element([3, 4, 5])\n",
    "except:\n",
    "    print(\"not enough elements\")"
   ]
  },
  {
   "cell_type": "code",
   "execution_count": null,
   "metadata": {},
   "outputs": [],
   "source": [
    "try:\n",
    "    sum_first_and_third_element([3, 4])\n",
    "except:\n",
    "    print(\"not enough elements in list\")"
   ]
  },
  {
   "cell_type": "code",
   "execution_count": null,
   "metadata": {},
   "outputs": [],
   "source": [
    "try:\n",
    "    sum_first_and_third_element([3, 4, \"a\"])\n",
    "except:\n",
    "    print(\"not enough elements in list\")"
   ]
  },
  {
   "cell_type": "markdown",
   "metadata": {},
   "source": [
    "Not true!!"
   ]
  },
  {
   "cell_type": "markdown",
   "metadata": {},
   "source": [
    "Correct way to do it"
   ]
  },
  {
   "cell_type": "code",
   "execution_count": null,
   "metadata": {},
   "outputs": [],
   "source": [
    "try:\n",
    "    sum_first_and_third_element([3, 4, \"a\"])\n",
    "except IndexError:\n",
    "    print(\"not enough elements in list\")\n",
    "except:\n",
    "    print(\"Some other error ocurred\")"
   ]
  },
  {
   "cell_type": "code",
   "execution_count": null,
   "metadata": {},
   "outputs": [],
   "source": [
    "try:\n",
    "    sum_first_and_third_element([3, 4, \"a\"])\n",
    "except IndexError:\n",
    "    print(\"not enough elements in list\")\n",
    "except Exception as e:\n",
    "    print(f\"Some other error ocurred: {e}\")"
   ]
  },
  {
   "cell_type": "markdown",
   "metadata": {},
   "source": [
    "## Reminder: type hints"
   ]
  },
  {
   "cell_type": "markdown",
   "metadata": {},
   "source": [
    "You inform your peers what to expect"
   ]
  },
  {
   "cell_type": "code",
   "execution_count": null,
   "metadata": {},
   "outputs": [],
   "source": [
    "def sum_numbers(a: int, b: int) -> int:\n",
    "    return a + b"
   ]
  },
  {
   "cell_type": "markdown",
   "metadata": {},
   "source": [
    "## Summary"
   ]
  },
  {
   "cell_type": "markdown",
   "metadata": {},
   "source": [
    " * `raise` allows you to throw an exception at any time.\n",
    " * `assert` enables you to verify if a certain condition is met and throw an exception if it isn’t.\n",
    " * In the `try` clause, all statements are executed until an exception is encountered.\n",
    " * `except` is used to catch and handle the exception(s) that are encountered in the try clause.\n",
    " * `except` clause should not be very general. Put the specific exception you are catching!!\n",
    " * `else` lets you code sections that should run only when no exceptions are encountered in the try clause.\n",
    " * `finally` enables you to execute sections of code that should always run, with or without any previously encountered exceptions."
   ]
  },
  {
   "cell_type": "markdown",
   "metadata": {},
   "source": [
    "Used some code from:"
   ]
  },
  {
   "cell_type": "markdown",
   "metadata": {},
   "source": [
    "<div style=\"padding-top: 25px; float: right\">\n",
    "    <div>    \n",
    "        <i>&nbsp;&nbsp;© Copyright by</i>\n",
    "    </div>\n",
    "    <div>\n",
    "        <a href=\"https://whiteboxml.com\">\n",
    "            <img src=\"https://whiteboxml.com/static/img/logo/black_bg_white.svg\" width=\"125\">\n",
    "        </a>\n",
    "    </div>\n",
    "</div>"
   ]
  }
 ],
 "metadata": {
  "kernelspec": {
   "display_name": "Python 3",
   "language": "python",
   "name": "python3"
  },
  "language_info": {
   "codemirror_mode": {
    "name": "ipython",
    "version": 3
   },
   "file_extension": ".py",
   "mimetype": "text/x-python",
   "name": "python",
   "nbconvert_exporter": "python",
   "pygments_lexer": "ipython3",
   "version": "3.8.5"
  },
  "toc": {
   "base_numbering": 1,
   "nav_menu": {},
   "number_sections": true,
   "sideBar": true,
   "skip_h1_title": true,
   "title_cell": "Table of Contents",
   "title_sidebar": "Contents",
   "toc_cell": true,
   "toc_position": {},
   "toc_section_display": true,
   "toc_window_display": true
  },
  "varInspector": {
   "cols": {
    "lenName": 16,
    "lenType": 16,
    "lenVar": 40
   },
   "kernels_config": {
    "python": {
     "delete_cmd_postfix": "",
     "delete_cmd_prefix": "del ",
     "library": "var_list.py",
     "varRefreshCmd": "print(var_dic_list())"
    },
    "r": {
     "delete_cmd_postfix": ") ",
     "delete_cmd_prefix": "rm(",
     "library": "var_list.r",
     "varRefreshCmd": "cat(var_dic_list()) "
    }
   },
   "types_to_exclude": [
    "module",
    "function",
    "builtin_function_or_method",
    "instance",
    "_Feature"
   ],
   "window_display": false
  }
 },
 "nbformat": 4,
 "nbformat_minor": 4
}
