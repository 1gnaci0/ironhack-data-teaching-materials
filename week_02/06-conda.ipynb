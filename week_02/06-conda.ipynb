{
 "cells": [
  {
   "cell_type": "markdown",
   "metadata": {},
   "source": [
    "# Conda environments"
   ]
  },
  {
   "cell_type": "markdown",
   "metadata": {},
   "source": [
    "## Intro"
   ]
  },
  {
   "cell_type": "markdown",
   "metadata": {},
   "source": [
    "[Conda documentation](https://docs.conda.io/en/latest/)  "
   ]
  },
  {
   "cell_type": "markdown",
   "metadata": {},
   "source": [
    "Conda:\n",
    " - is open source\n",
    " - is an environment management system (you  may want to have different environments for different projects)\n",
    " - is a package management system (known packages/libraries are `numpy`, `pandas`, `seaborn`...) \n",
    " - runs on Windows, macOS and Linux"
   ]
  },
  {
   "cell_type": "markdown",
   "metadata": {},
   "source": [
    "Two options for installing Conda:\n",
    " - Anaconda: includes several data libraries preinstalled\n",
    " - Miniconda (lightweight): does not include data libraries preinstalled. You do it manually.\n",
    " \n",
    "We will use Miniconda in IronHack Bootcamp Data Analytics"
   ]
  },
  {
   "cell_type": "markdown",
   "metadata": {},
   "source": [
    "## Installation"
   ]
  },
  {
   "cell_type": "markdown",
   "metadata": {},
   "source": [
    "[Miniconda installation files](https://docs.conda.io/en/latest/miniconda.html)"
   ]
  },
  {
   "cell_type": "markdown",
   "metadata": {},
   "source": [
    " 1. Choose your operating system\n",
    " 2. Download Python 3.x version 64bit\n",
    " 3. Run installer (lets do it toguether). **NOTE**: add to PATH: **yes** if the installation asks you"
   ]
  },
  {
   "cell_type": "markdown",
   "metadata": {},
   "source": [
    "## Setup"
   ]
  },
  {
   "cell_type": "markdown",
   "metadata": {},
   "source": [
    "Open your terminal:\n",
    " - Windows: builtin\n",
    " - MacOS: any terminal\n",
    " - Linux: any terminal"
   ]
  },
  {
   "cell_type": "markdown",
   "metadata": {},
   "source": [
    "### Create an environment"
   ]
  },
  {
   "cell_type": "markdown",
   "metadata": {},
   "source": [
    "1. Check conda is installed: `conda`"
   ]
  },
  {
   "cell_type": "markdown",
   "metadata": {},
   "source": [
    "2. Create a new environment called **ironhack** with Python 3.x: `conda create -n ironhack python=3.8`"
   ]
  },
  {
   "cell_type": "markdown",
   "metadata": {},
   "source": [
    "BONUS: check python executable: \n",
    " - Windows: `where python`\n",
    " - MacOS: `which python`\n",
    " - Linux: `which python`"
   ]
  },
  {
   "cell_type": "markdown",
   "metadata": {},
   "source": [
    "BONUS: see the list of environments: `conda env list`"
   ]
  },
  {
   "cell_type": "markdown",
   "metadata": {},
   "source": [
    "3. Activate environment: \n",
    " - Windows: `conda activate ironhack`\n",
    " - MacOS: `source activate ironhack`\n",
    " - Linux: `source activate ironhack`"
   ]
  },
  {
   "cell_type": "markdown",
   "metadata": {},
   "source": [
    "4. Install **pip**: `conda install pip`"
   ]
  },
  {
   "cell_type": "markdown",
   "metadata": {},
   "source": [
    "5. Install your preferred library: `pip install pandas`"
   ]
  },
  {
   "cell_type": "markdown",
   "metadata": {},
   "source": [
    "6. Install your preferred library #2: `pip install jupyter`"
   ]
  },
  {
   "cell_type": "markdown",
   "metadata": {},
   "source": [
    "BONUS: see the list of installed packages **in the active environment**: `pip list`"
   ]
  },
  {
   "cell_type": "markdown",
   "metadata": {},
   "source": [
    "### Everyday usage"
   ]
  },
  {
   "cell_type": "markdown",
   "metadata": {},
   "source": [
    "Whenever you want to:\n",
    " - install new libraries or\n",
    " - open your daily jupyter notebook  \n",
    " \n",
    "**you must activate your environment first**"
   ]
  },
  {
   "cell_type": "markdown",
   "metadata": {},
   "source": [
    "1. Open terminal"
   ]
  },
  {
   "cell_type": "markdown",
   "metadata": {},
   "source": [
    "2. Activate environment"
   ]
  },
  {
   "cell_type": "markdown",
   "metadata": {},
   "source": [
    "3. Install library: `pip install seaborn`"
   ]
  },
  {
   "cell_type": "markdown",
   "metadata": {},
   "source": [
    "## VSCode Python Interpreter Setup"
   ]
  },
  {
   "cell_type": "markdown",
   "metadata": {},
   "source": [
    "VSCode must be told which environment you are working with in each project"
   ]
  },
  {
   "cell_type": "markdown",
   "metadata": {},
   "source": [
    "You need Python Extension for VSCode"
   ]
  },
  {
   "cell_type": "markdown",
   "metadata": {},
   "source": [
    "[Python in VSCode documentation](https://code.visualstudio.com/docs/python/python-tutorial)"
   ]
  },
  {
   "cell_type": "markdown",
   "metadata": {},
   "source": [
    "1. Install VSCode\n",
    "2. Open VSCode -> Go to Extensions Marketplace"
   ]
  },
  {
   "cell_type": "markdown",
   "metadata": {},
   "source": [
    "3. Install Python extension for VS Code: "
   ]
  },
  {
   "cell_type": "markdown",
   "metadata": {},
   "source": [
    "<img src=\"https://code.visualstudio.com/assets/docs/python/tutorial/python-extension-marketplace.png\" width=500>"
   ]
  },
  {
   "cell_type": "markdown",
   "metadata": {},
   "source": [
    "4. Close VSCode\n",
    "5. Open terminal, navigate to project folder, run `code .`\n",
    "6. Once VSCode opened, go to Command Palette (`Ctrl+Shift+P`) and choose `Python: Select Interpreter`\n",
    "7. Choose the python executable of your environment\n",
    " - You might see it inmediately\n",
    " - You might need to navigate into it. Don't remember where it is? Open terminal, activate environment, then type `which python` (or `where python` in case of Windows users)"
   ]
  },
  {
   "cell_type": "markdown",
   "metadata": {},
   "source": [
    "## PyCharm Python Interpreter Setup"
   ]
  },
  {
   "cell_type": "markdown",
   "metadata": {},
   "source": [
    "PyCharm must be told which environment you are working with in each project"
   ]
  },
  {
   "cell_type": "markdown",
   "metadata": {},
   "source": [
    "1. Open PyCharm\n",
    "2. Open your project\n",
    "3. File > Settings > Project > Python Interpreter > (left up settings button) Add > Conda environment > Existing\n",
    "4. Find executable\n",
    " - You might see it inmediately\n",
    " - You might need to navigate into it. Don't remember where it is? Open terminal, activate environment, then type `which python` (or `where python` in case of Windows users)"
   ]
  }
 ],
 "metadata": {
  "kernelspec": {
   "display_name": "Python 3",
   "language": "python",
   "name": "python3"
  },
  "language_info": {
   "codemirror_mode": {
    "name": "ipython",
    "version": 3
   },
   "file_extension": ".py",
   "mimetype": "text/x-python",
   "name": "python",
   "nbconvert_exporter": "python",
   "pygments_lexer": "ipython3",
   "version": "3.8.5"
  },
  "toc": {
   "base_numbering": 1,
   "nav_menu": {},
   "number_sections": true,
   "sideBar": true,
   "skip_h1_title": true,
   "title_cell": "Table of Contents",
   "title_sidebar": "Contents",
   "toc_cell": false,
   "toc_position": {},
   "toc_section_display": true,
   "toc_window_display": true
  },
  "varInspector": {
   "cols": {
    "lenName": 16,
    "lenType": 16,
    "lenVar": 40
   },
   "kernels_config": {
    "python": {
     "delete_cmd_postfix": "",
     "delete_cmd_prefix": "del ",
     "library": "var_list.py",
     "varRefreshCmd": "print(var_dic_list())"
    },
    "r": {
     "delete_cmd_postfix": ") ",
     "delete_cmd_prefix": "rm(",
     "library": "var_list.r",
     "varRefreshCmd": "cat(var_dic_list()) "
    }
   },
   "types_to_exclude": [
    "module",
    "function",
    "builtin_function_or_method",
    "instance",
    "_Feature"
   ],
   "window_display": false
  }
 },
 "nbformat": 4,
 "nbformat_minor": 4
}
