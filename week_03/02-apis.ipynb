{
 "cells": [
  {
   "cell_type": "markdown",
   "metadata": {
    "toc": true
   },
   "source": [
    "<h1>Table of Contents<span class=\"tocSkip\"></span></h1>\n",
    "<div class=\"toc\"><ul class=\"toc-item\"><li><span><a href=\"#Internet,-DNS,-IPs\" data-toc-modified-id=\"Internet,-DNS,-IPs-1\"><span class=\"toc-item-num\">1&nbsp;&nbsp;</span>Internet, DNS, IPs</a></span></li><li><span><a href=\"#HTTP\" data-toc-modified-id=\"HTTP-2\"><span class=\"toc-item-num\">2&nbsp;&nbsp;</span>HTTP</a></span><ul class=\"toc-item\"><li><span><a href=\"#URL\" data-toc-modified-id=\"URL-2.1\"><span class=\"toc-item-num\">2.1&nbsp;&nbsp;</span>URL</a></span></li><li><span><a href=\"#HTTP-vs-HTTPS\" data-toc-modified-id=\"HTTP-vs-HTTPS-2.2\"><span class=\"toc-item-num\">2.2&nbsp;&nbsp;</span>HTTP vs HTTPS</a></span></li><li><span><a href=\"#Requests\" data-toc-modified-id=\"Requests-2.3\"><span class=\"toc-item-num\">2.3&nbsp;&nbsp;</span>Requests</a></span></li><li><span><a href=\"#Response\" data-toc-modified-id=\"Response-2.4\"><span class=\"toc-item-num\">2.4&nbsp;&nbsp;</span>Response</a></span></li></ul></li><li><span><a href=\"#API\" data-toc-modified-id=\"API-3\"><span class=\"toc-item-num\">3&nbsp;&nbsp;</span>API</a></span><ul class=\"toc-item\"><li><span><a href=\"#RESTful-APIs\" data-toc-modified-id=\"RESTful-APIs-3.1\"><span class=\"toc-item-num\">3.1&nbsp;&nbsp;</span>RESTful APIs</a></span></li></ul></li><li><span><a href=\"#Requests-in-Python\" data-toc-modified-id=\"Requests-in-Python-4\"><span class=\"toc-item-num\">4&nbsp;&nbsp;</span>Requests in Python</a></span><ul class=\"toc-item\"><li><span><a href=\"#GET\" data-toc-modified-id=\"GET-4.1\"><span class=\"toc-item-num\">4.1&nbsp;&nbsp;</span>GET</a></span></li><li><span><a href=\"#Parameters\" data-toc-modified-id=\"Parameters-4.2\"><span class=\"toc-item-num\">4.2&nbsp;&nbsp;</span>Parameters</a></span></li><li><span><a href=\"#Using-python-f-strings\" data-toc-modified-id=\"Using-python-f-strings-4.3\"><span class=\"toc-item-num\">4.3&nbsp;&nbsp;</span>Using python f-strings</a></span></li></ul></li><li><span><a href=\"#Another-example-API:-Jokes-API\" data-toc-modified-id=\"Another-example-API:-Jokes-API-5\"><span class=\"toc-item-num\">5&nbsp;&nbsp;</span>Another example API: Jokes API</a></span></li><li><span><a href=\"#API-keys\" data-toc-modified-id=\"API-keys-6\"><span class=\"toc-item-num\">6&nbsp;&nbsp;</span>API keys</a></span></li><li><span><a href=\"#Headers\" data-toc-modified-id=\"Headers-7\"><span class=\"toc-item-num\">7&nbsp;&nbsp;</span>Headers</a></span></li><li><span><a href=\"#NewsAPI-endpoints-playground\" data-toc-modified-id=\"NewsAPI-endpoints-playground-8\"><span class=\"toc-item-num\">8&nbsp;&nbsp;</span>NewsAPI endpoints playground</a></span></li><li><span><a href=\"#Twitter-API\" data-toc-modified-id=\"Twitter-API-9\"><span class=\"toc-item-num\">9&nbsp;&nbsp;</span>Twitter API</a></span></li><li><span><a href=\"#Summary\" data-toc-modified-id=\"Summary-10\"><span class=\"toc-item-num\">10&nbsp;&nbsp;</span>Summary</a></span></li><li><span><a href=\"#Further-materials\" data-toc-modified-id=\"Further-materials-11\"><span class=\"toc-item-num\">11&nbsp;&nbsp;</span>Further materials</a></span></li></ul></div>"
   ]
  },
  {
   "cell_type": "markdown",
   "metadata": {},
   "source": [
    "## Internet, DNS, IPs"
   ]
  },
  {
   "cell_type": "markdown",
   "metadata": {},
   "source": [
    "[How do we connect to www.google.com?](https://www.youtube.com/watch?v=sUhEqT_HSBI&ab_channel=ProfeSang)"
   ]
  },
  {
   "cell_type": "markdown",
   "metadata": {},
   "source": [
    " * DNS (domain name server): maps internet address www.google.com to server IP: 216.58.222.196\n",
    " * IP: code that allow information to be sent and received by the correct parties"
   ]
  },
  {
   "cell_type": "markdown",
   "metadata": {},
   "source": [
    " * Domain providers: they sell and buy internet domains"
   ]
  },
  {
   "cell_type": "markdown",
   "metadata": {},
   "source": [
    "## HTTP"
   ]
  },
  {
   "cell_type": "markdown",
   "metadata": {},
   "source": [
    "**H**yper **T**ext **T**ransfer **P**rotocol"
   ]
  },
  {
   "cell_type": "markdown",
   "metadata": {},
   "source": [
    "HTTP is a communications protocol that provides a structure for requests between client and server in a network. "
   ]
  },
  {
   "cell_type": "markdown",
   "metadata": {},
   "source": [
    "For example, the Web browser in the user's computer (the client) employs the HTTP protocol to request information from a website on a server. "
   ]
  },
  {
   "cell_type": "markdown",
   "metadata": {},
   "source": [
    "### URL"
   ]
  },
  {
   "cell_type": "markdown",
   "metadata": {},
   "source": [
    "Contains information of which resource whe are asking the SERVER for."
   ]
  },
  {
   "cell_type": "markdown",
   "metadata": {},
   "source": [
    "Examples:\n",
    "\n",
    "- https://www.google.com/webhp?authuser=2\n",
    "- https://www.towardsdatascience.com"
   ]
  },
  {
   "cell_type": "markdown",
   "metadata": {},
   "source": [
    "### HTTP vs HTTPS\n",
    "\n",
    "- HTTP transfers data in plain text while HTTPS transfers data in cipher text (encrypt text). \n",
    "- HTTP is fast as compared to HTTPS because HTTPS consumes computation power to encrypt the communication channel."
   ]
  },
  {
   "cell_type": "markdown",
   "metadata": {},
   "source": [
    "### Requests"
   ]
  },
  {
   "cell_type": "markdown",
   "metadata": {},
   "source": [
    "**Requests** are questions we formulate to a SERVER in order to receive a piece of information (a **response**). "
   ]
  },
  {
   "cell_type": "markdown",
   "metadata": {},
   "source": [
    "Type of requests:\n",
    " * GET: read information from resource, and not to modify it in any way. Webpage access from browser **get** info.\n",
    " * POST\n",
    " * PUT\n",
    " * DELETE\n",
    " * PATCH\n",
    " * ..."
   ]
  },
  {
   "cell_type": "markdown",
   "metadata": {},
   "source": [
    "### Response"
   ]
  },
  {
   "cell_type": "markdown",
   "metadata": {},
   "source": [
    "Responses can be of several types:\n",
    " * an image\n",
    " * a video\n",
    " * a HTML page\n",
    " * a PDF file\n",
    " * ..."
   ]
  },
  {
   "cell_type": "markdown",
   "metadata": {},
   "source": [
    "Responses follow the same structure. They have:\n",
    " * a HEADER section: contains metadata about what the behaviour of the server\n",
    " * a BODY: contains the desired piece of information"
   ]
  },
  {
   "cell_type": "markdown",
   "metadata": {},
   "source": [
    "One important part of the HEADER is the **status code**. This code is a numerical code indicating the result of the server. There are different status codes depending if the server succedded to perform the REQUEST of didn't manage to do anything at all. This are some groups of status codes:\n",
    "\n",
    "- **2xx** successful__: the request was successfully received, understood and accepted\n",
    "- **3xx** redirection__: further action needs to be taken in order to complete the request\n",
    "- **4xx** client error__: the request contains bad syntax or cannot be fulfilled\n",
    "- **5xx** server error__: the server failed to fulfill an apparently valid request\n",
    "\n",
    "Complete list:\n",
    "https://en.wikipedia.org/wiki/List_of_HTTP_status_codes"
   ]
  },
  {
   "cell_type": "markdown",
   "metadata": {},
   "source": [
    "## API"
   ]
  },
  {
   "cell_type": "markdown",
   "metadata": {},
   "source": [
    "**A**pplication **P**rogramming **I**nterface"
   ]
  },
  {
   "cell_type": "markdown",
   "metadata": {},
   "source": [
    "* Cloud era, softwares need to communicate through internet.\n",
    "* Inside a project, backend might want to share with frontend information without ddbb access.\n",
    "* It is a contract between software products. \n",
    "* It is an instruction manual to use some software.\n",
    "* Client calls server through an API, server responds."
   ]
  },
  {
   "cell_type": "markdown",
   "metadata": {},
   "source": [
    "### RESTful APIs"
   ]
  },
  {
   "cell_type": "markdown",
   "metadata": {},
   "source": [
    "Most interactive APIs follow REST logic, a series of rules"
   ]
  },
  {
   "cell_type": "markdown",
   "metadata": {},
   "source": [
    "[Guiding Principles of REST](https://restfulapi.net/)"
   ]
  },
  {
   "cell_type": "markdown",
   "metadata": {},
   "source": [
    "[What is a RESTful API (Video)](https://www.youtube.com/watch?v=JD6VNRdGl98&ab_channel=LeonardoKuffo)"
   ]
  },
  {
   "cell_type": "markdown",
   "metadata": {},
   "source": [
    "Who does what:  \n",
    " * we (client) send a request\n",
    " * they (server) send back a response, generally in JSON format"
   ]
  },
  {
   "cell_type": "markdown",
   "metadata": {},
   "source": [
    "APIs always have to offer documentation of their different services (**endpoints**)"
   ]
  },
  {
   "cell_type": "markdown",
   "metadata": {},
   "source": [
    "## Requests in Python"
   ]
  },
  {
   "cell_type": "markdown",
   "metadata": {},
   "source": [
    "`requests`: Python library for doing requests to APIs"
   ]
  },
  {
   "cell_type": "code",
   "execution_count": null,
   "metadata": {},
   "outputs": [],
   "source": [
    "!pip install requests"
   ]
  },
  {
   "cell_type": "code",
   "execution_count": null,
   "metadata": {},
   "outputs": [],
   "source": [
    "import requests"
   ]
  },
  {
   "cell_type": "markdown",
   "metadata": {},
   "source": [
    "We will only perform **GET** requests"
   ]
  },
  {
   "cell_type": "markdown",
   "metadata": {},
   "source": [
    "`requests` turns responses from JSON into a python dictionary"
   ]
  },
  {
   "cell_type": "markdown",
   "metadata": {},
   "source": [
    "### GET"
   ]
  },
  {
   "cell_type": "markdown",
   "metadata": {},
   "source": [
    "Let's get information from ISS (international space station)!"
   ]
  },
  {
   "cell_type": "markdown",
   "metadata": {},
   "source": [
    "[ISS API documentation](https://wheretheiss.at/w/developer)"
   ]
  },
  {
   "cell_type": "code",
   "execution_count": null,
   "metadata": {},
   "outputs": [],
   "source": [
    "url = \"https://api.wheretheiss.at/v1/satellites\""
   ]
  },
  {
   "cell_type": "code",
   "execution_count": null,
   "metadata": {},
   "outputs": [],
   "source": [
    "response = requests.get(url)"
   ]
  },
  {
   "cell_type": "code",
   "execution_count": null,
   "metadata": {},
   "outputs": [],
   "source": [
    "response.status_code"
   ]
  },
  {
   "cell_type": "code",
   "execution_count": null,
   "metadata": {},
   "outputs": [],
   "source": [
    "response.content"
   ]
  },
  {
   "cell_type": "code",
   "execution_count": null,
   "metadata": {},
   "outputs": [],
   "source": [
    "response.json()"
   ]
  },
  {
   "cell_type": "code",
   "execution_count": null,
   "metadata": {},
   "outputs": [],
   "source": [
    "type(response.json())"
   ]
  },
  {
   "cell_type": "code",
   "execution_count": null,
   "metadata": {},
   "outputs": [],
   "source": [
    "url_iss_position = \"https://api.wheretheiss.at/v1/satellites/25544\""
   ]
  },
  {
   "cell_type": "code",
   "execution_count": null,
   "metadata": {},
   "outputs": [],
   "source": [
    "response = requests.get(url_iss_position)"
   ]
  },
  {
   "cell_type": "code",
   "execution_count": null,
   "metadata": {},
   "outputs": [],
   "source": [
    "response.status_code"
   ]
  },
  {
   "cell_type": "code",
   "execution_count": null,
   "metadata": {},
   "outputs": [],
   "source": [
    "response.content"
   ]
  },
  {
   "cell_type": "code",
   "execution_count": null,
   "metadata": {},
   "outputs": [],
   "source": [
    "response.headers"
   ]
  },
  {
   "cell_type": "code",
   "execution_count": null,
   "metadata": {},
   "outputs": [],
   "source": [
    "response.json()"
   ]
  },
  {
   "cell_type": "code",
   "execution_count": null,
   "metadata": {},
   "outputs": [],
   "source": [
    "import time"
   ]
  },
  {
   "cell_type": "code",
   "execution_count": null,
   "metadata": {},
   "outputs": [],
   "source": [
    "positions = []\n",
    "\n",
    "for i in range(10):\n",
    "    print(i)\n",
    "    response = requests.get(url_iss_position)\n",
    "    data = response.json()\n",
    "    \n",
    "    positions.append(data)\n",
    "    time.sleep(2)"
   ]
  },
  {
   "cell_type": "code",
   "execution_count": null,
   "metadata": {},
   "outputs": [],
   "source": [
    "type(positions)"
   ]
  },
  {
   "cell_type": "code",
   "execution_count": null,
   "metadata": {},
   "outputs": [],
   "source": [
    "positions[0]"
   ]
  },
  {
   "cell_type": "code",
   "execution_count": null,
   "metadata": {},
   "outputs": [],
   "source": [
    "positions[9]"
   ]
  },
  {
   "cell_type": "markdown",
   "metadata": {},
   "source": [
    "### Parameters"
   ]
  },
  {
   "cell_type": "markdown",
   "metadata": {},
   "source": [
    "We sometimes want to pass some parameters to an API endpoint.\n",
    "\n",
    "Similar to python functions receiving parameters for a different behavior"
   ]
  },
  {
   "cell_type": "code",
   "execution_count": null,
   "metadata": {},
   "outputs": [],
   "source": [
    "url_iss_position"
   ]
  },
  {
   "cell_type": "markdown",
   "metadata": {},
   "source": [
    "Parameters are passed with `?param1=value1&param2=value2...` at the end or the URL"
   ]
  },
  {
   "cell_type": "code",
   "execution_count": null,
   "metadata": {},
   "outputs": [],
   "source": [
    "url_iss_position2 = 'https://api.wheretheiss.at/v1/satellites/25544?units=miles'"
   ]
  },
  {
   "cell_type": "code",
   "execution_count": null,
   "metadata": {},
   "outputs": [],
   "source": [
    "response = requests.get(url_iss_position2)"
   ]
  },
  {
   "cell_type": "code",
   "execution_count": null,
   "metadata": {},
   "outputs": [],
   "source": [
    "response.json()"
   ]
  },
  {
   "cell_type": "markdown",
   "metadata": {},
   "source": [
    "`requests` let us pass parameters as a dictionary:"
   ]
  },
  {
   "cell_type": "code",
   "execution_count": null,
   "metadata": {},
   "outputs": [],
   "source": [
    "parameters = {\"units\": \"miles\"}"
   ]
  },
  {
   "cell_type": "code",
   "execution_count": null,
   "metadata": {},
   "outputs": [],
   "source": [
    "response = requests.get(url_iss_position, params=parameters)"
   ]
  },
  {
   "cell_type": "code",
   "execution_count": null,
   "metadata": {},
   "outputs": [],
   "source": [
    "response.json()"
   ]
  },
  {
   "cell_type": "markdown",
   "metadata": {},
   "source": [
    "### Using python f-strings"
   ]
  },
  {
   "cell_type": "markdown",
   "metadata": {},
   "source": [
    "Lets try another endpoint"
   ]
  },
  {
   "cell_type": "code",
   "execution_count": null,
   "metadata": {},
   "outputs": [],
   "source": [
    "url_coordinates = f\"https://api.wheretheiss.at/v1/coordinates/37.795517,-122.393693\""
   ]
  },
  {
   "cell_type": "code",
   "execution_count": null,
   "metadata": {},
   "outputs": [],
   "source": [
    "response = requests.get(url_coordinates)"
   ]
  },
  {
   "cell_type": "code",
   "execution_count": null,
   "metadata": {},
   "outputs": [],
   "source": [
    "response.json()"
   ]
  },
  {
   "cell_type": "code",
   "execution_count": null,
   "metadata": {},
   "outputs": [],
   "source": [
    "coords = (47.795, -100.39)"
   ]
  },
  {
   "cell_type": "code",
   "execution_count": null,
   "metadata": {},
   "outputs": [],
   "source": [
    "url_coordinates = f\"https://api.wheretheiss.at/v1/coordinates/{coords[0]},{coords[1]}\""
   ]
  },
  {
   "cell_type": "code",
   "execution_count": null,
   "metadata": {},
   "outputs": [],
   "source": [
    "url_coordinates"
   ]
  },
  {
   "cell_type": "code",
   "execution_count": null,
   "metadata": {},
   "outputs": [],
   "source": [
    "response = requests.get(url_coordinates)"
   ]
  },
  {
   "cell_type": "code",
   "execution_count": null,
   "metadata": {},
   "outputs": [],
   "source": [
    "response.status_code"
   ]
  },
  {
   "cell_type": "code",
   "execution_count": null,
   "metadata": {},
   "outputs": [],
   "source": [
    "response.json()"
   ]
  },
  {
   "cell_type": "code",
   "execution_count": null,
   "metadata": {},
   "outputs": [],
   "source": [
    "coords_madrid = (40.13251, -3.398834)"
   ]
  },
  {
   "cell_type": "code",
   "execution_count": null,
   "metadata": {},
   "outputs": [],
   "source": [
    "url_coordinates = f\"https://api.wheretheiss.at/v1/coordinates/{coords_madrid[0]},{coords_madrid[1]}\""
   ]
  },
  {
   "cell_type": "code",
   "execution_count": null,
   "metadata": {},
   "outputs": [],
   "source": [
    "url_coordinates"
   ]
  },
  {
   "cell_type": "code",
   "execution_count": null,
   "metadata": {},
   "outputs": [],
   "source": [
    "response = requests.get(url_coordinates)"
   ]
  },
  {
   "cell_type": "code",
   "execution_count": null,
   "metadata": {},
   "outputs": [],
   "source": [
    "response.status_code"
   ]
  },
  {
   "cell_type": "code",
   "execution_count": null,
   "metadata": {},
   "outputs": [],
   "source": [
    "response.json()"
   ]
  },
  {
   "cell_type": "code",
   "execution_count": null,
   "metadata": {},
   "outputs": [],
   "source": [
    "coords_false = (140.13251, -3.398834)"
   ]
  },
  {
   "cell_type": "code",
   "execution_count": null,
   "metadata": {},
   "outputs": [],
   "source": [
    "url_coordinates = f\"https://api.wheretheiss.at/v1/coordinates/{coords_false[0]},{coords_false[1]}\""
   ]
  },
  {
   "cell_type": "code",
   "execution_count": null,
   "metadata": {},
   "outputs": [],
   "source": [
    "url_coordinates"
   ]
  },
  {
   "cell_type": "code",
   "execution_count": null,
   "metadata": {},
   "outputs": [],
   "source": [
    "response = requests.get(url_coordinates)"
   ]
  },
  {
   "cell_type": "code",
   "execution_count": null,
   "metadata": {},
   "outputs": [],
   "source": [
    "response.status_code"
   ]
  },
  {
   "cell_type": "code",
   "execution_count": null,
   "metadata": {},
   "outputs": [],
   "source": [
    "response.json()"
   ]
  },
  {
   "cell_type": "markdown",
   "metadata": {},
   "source": [
    "## Another example API: Jokes API"
   ]
  },
  {
   "cell_type": "code",
   "execution_count": null,
   "metadata": {},
   "outputs": [],
   "source": [
    "url_random_joke = \"https://official-joke-api.appspot.com/random_joke\""
   ]
  },
  {
   "cell_type": "code",
   "execution_count": null,
   "metadata": {},
   "outputs": [],
   "source": [
    "response = requests.get(url_random_joke)"
   ]
  },
  {
   "cell_type": "code",
   "execution_count": null,
   "metadata": {},
   "outputs": [],
   "source": [
    "response.status_code"
   ]
  },
  {
   "cell_type": "code",
   "execution_count": null,
   "metadata": {},
   "outputs": [],
   "source": [
    "response.json()"
   ]
  },
  {
   "cell_type": "code",
   "execution_count": null,
   "metadata": {},
   "outputs": [],
   "source": [
    "url_type_joke = f\"https://official-joke-api.appspot.com/jokes/programming/random\""
   ]
  },
  {
   "cell_type": "code",
   "execution_count": null,
   "metadata": {},
   "outputs": [],
   "source": [
    "response = requests.get(url_random_joke)"
   ]
  },
  {
   "cell_type": "code",
   "execution_count": null,
   "metadata": {},
   "outputs": [],
   "source": [
    "response.status_code"
   ]
  },
  {
   "cell_type": "code",
   "execution_count": null,
   "metadata": {},
   "outputs": [],
   "source": [
    "response.json()"
   ]
  },
  {
   "cell_type": "markdown",
   "metadata": {},
   "source": [
    "## API keys"
   ]
  },
  {
   "cell_type": "markdown",
   "metadata": {},
   "source": [
    "Lets use [NewsAPI](https://newsapi.org/) to find news across several newspapers!"
   ]
  },
  {
   "cell_type": "markdown",
   "metadata": {},
   "source": [
    "We need an API key to authenticate ourselves, we download it and save it into a file..."
   ]
  },
  {
   "cell_type": "code",
   "execution_count": null,
   "metadata": {},
   "outputs": [],
   "source": [
    "my_key = open(\"./newsapi_key.txt\").readlines()[0]"
   ]
  },
  {
   "cell_type": "code",
   "execution_count": null,
   "metadata": {},
   "outputs": [],
   "source": [
    "my_key"
   ]
  },
  {
   "cell_type": "code",
   "execution_count": null,
   "metadata": {},
   "outputs": [],
   "source": [
    "my_key = my_key.strip()"
   ]
  },
  {
   "cell_type": "code",
   "execution_count": null,
   "metadata": {},
   "outputs": [],
   "source": [
    "my_key"
   ]
  },
  {
   "cell_type": "markdown",
   "metadata": {},
   "source": [
    "Lets try with a wrong key"
   ]
  },
  {
   "cell_type": "code",
   "execution_count": null,
   "metadata": {},
   "outputs": [],
   "source": [
    "url = f\"http://newsapi.org/v2/top-headlines?country=us&apiKey=manolonotienekey\""
   ]
  },
  {
   "cell_type": "code",
   "execution_count": null,
   "metadata": {},
   "outputs": [],
   "source": [
    "url"
   ]
  },
  {
   "cell_type": "code",
   "execution_count": null,
   "metadata": {},
   "outputs": [],
   "source": [
    "response = requests.get(url)"
   ]
  },
  {
   "cell_type": "code",
   "execution_count": null,
   "metadata": {},
   "outputs": [],
   "source": [
    "response.status_code"
   ]
  },
  {
   "cell_type": "markdown",
   "metadata": {},
   "source": [
    "**4xx**: client error: our error"
   ]
  },
  {
   "cell_type": "markdown",
   "metadata": {},
   "source": [
    "Lets do it correctly"
   ]
  },
  {
   "cell_type": "code",
   "execution_count": null,
   "metadata": {},
   "outputs": [],
   "source": [
    "url = f\"http://newsapi.org/v2/top-headlines?country=us&apiKey={my_key}\""
   ]
  },
  {
   "cell_type": "code",
   "execution_count": null,
   "metadata": {},
   "outputs": [],
   "source": [
    "url"
   ]
  },
  {
   "cell_type": "code",
   "execution_count": null,
   "metadata": {},
   "outputs": [],
   "source": [
    "response = requests.get(url)"
   ]
  },
  {
   "cell_type": "code",
   "execution_count": null,
   "metadata": {},
   "outputs": [],
   "source": [
    "response.status_code"
   ]
  },
  {
   "cell_type": "code",
   "execution_count": null,
   "metadata": {},
   "outputs": [],
   "source": [
    "response.json()"
   ]
  },
  {
   "cell_type": "markdown",
   "metadata": {},
   "source": [
    "## Headers"
   ]
  },
  {
   "cell_type": "markdown",
   "metadata": {},
   "source": [
    "HTTP Headers are an important part of the API request and response as they represent the meta-data associated with the API request and response. Headers carry information for:\n",
    "\n",
    "* Request and Response Body\n",
    "* Request Authorization\n",
    "* Response Caching \n",
    "* Response Cookies"
   ]
  },
  {
   "cell_type": "markdown",
   "metadata": {},
   "source": [
    "[NewsAPI documentation](https://newsapi.org/docs/authentication) states, regarding authentication:\n",
    "\n",
    "Authentication is handled with a simple API key.\n",
    "\n",
    "You can attach your API key to a request in one of three ways:\n",
    "\n",
    "* Via the apiKey querystring parameter.\n",
    "* Via the X-Api-Key HTTP header.\n",
    "* Via the Authorization HTTP header. Bearer optional, do not base 64 encode.\n",
    "\n",
    "We strongly recommend the either of latter 2 so that your API key isn't visible to others in logs or request sniffing."
   ]
  },
  {
   "cell_type": "markdown",
   "metadata": {},
   "source": [
    "This enters apiKey as a parameter (BAD, VISIBLE)"
   ]
  },
  {
   "cell_type": "code",
   "execution_count": null,
   "metadata": {},
   "outputs": [],
   "source": [
    "url = f\"http://newsapi.org/v2/top-headlines?country=us&apiKey={my_key}\""
   ]
  },
  {
   "cell_type": "markdown",
   "metadata": {},
   "source": [
    "This alternative passes apiKey as a header (GOOD, INVISIBLE)"
   ]
  },
  {
   "cell_type": "code",
   "execution_count": null,
   "metadata": {},
   "outputs": [],
   "source": [
    "url = \"http://newsapi.org/v2/top-headlines?country=us\""
   ]
  },
  {
   "cell_type": "code",
   "execution_count": null,
   "metadata": {},
   "outputs": [],
   "source": [
    "response = requests.get(url, headers={\"X-Api-Key\": my_key})"
   ]
  },
  {
   "cell_type": "code",
   "execution_count": null,
   "metadata": {},
   "outputs": [],
   "source": [
    "response.status_code"
   ]
  },
  {
   "cell_type": "code",
   "execution_count": null,
   "metadata": {},
   "outputs": [],
   "source": [
    "response.json()"
   ]
  },
  {
   "cell_type": "markdown",
   "metadata": {},
   "source": [
    "## NewsAPI endpoints playground"
   ]
  },
  {
   "cell_type": "markdown",
   "metadata": {},
   "source": [
    "[NewsAPI endpoints](https://newsapi.org/docs/endpoints)"
   ]
  },
  {
   "cell_type": "markdown",
   "metadata": {},
   "source": [
    "We shall look at each endpoint documentation to see what **parameters** they accept!"
   ]
  },
  {
   "cell_type": "code",
   "execution_count": null,
   "metadata": {},
   "outputs": [],
   "source": [
    "url"
   ]
  },
  {
   "cell_type": "code",
   "execution_count": null,
   "metadata": {},
   "outputs": [],
   "source": [
    "url_top_headlines = \"http://newsapi.org/v2/top-headlines\""
   ]
  },
  {
   "cell_type": "code",
   "execution_count": null,
   "metadata": {},
   "outputs": [],
   "source": [
    "parameters = {\"country\": \"mx\", \"category\": \"sports\"}"
   ]
  },
  {
   "cell_type": "code",
   "execution_count": null,
   "metadata": {},
   "outputs": [],
   "source": [
    "headers = {\"X-Api-Key\": my_key}"
   ]
  },
  {
   "cell_type": "code",
   "execution_count": null,
   "metadata": {},
   "outputs": [],
   "source": [
    "response = requests.get(url_top_headlines, params=parameters, headers=headers)"
   ]
  },
  {
   "cell_type": "code",
   "execution_count": null,
   "metadata": {},
   "outputs": [],
   "source": [
    "response.status_code"
   ]
  },
  {
   "cell_type": "code",
   "execution_count": null,
   "metadata": {},
   "outputs": [],
   "source": [
    "data = response.json()"
   ]
  },
  {
   "cell_type": "code",
   "execution_count": null,
   "metadata": {},
   "outputs": [],
   "source": [
    "type(data)"
   ]
  },
  {
   "cell_type": "code",
   "execution_count": null,
   "metadata": {},
   "outputs": [],
   "source": [
    "data.keys()"
   ]
  },
  {
   "cell_type": "code",
   "execution_count": null,
   "metadata": {},
   "outputs": [],
   "source": [
    "data.get(\"totalResults\")"
   ]
  },
  {
   "cell_type": "code",
   "execution_count": null,
   "metadata": {},
   "outputs": [],
   "source": [
    "articles = data.get(\"articles\")"
   ]
  },
  {
   "cell_type": "code",
   "execution_count": null,
   "metadata": {},
   "outputs": [],
   "source": [
    "type(articles)"
   ]
  },
  {
   "cell_type": "code",
   "execution_count": null,
   "metadata": {},
   "outputs": [],
   "source": [
    "articles[0]"
   ]
  },
  {
   "cell_type": "code",
   "execution_count": null,
   "metadata": {},
   "outputs": [],
   "source": [
    "pd.DataFrame(articles).head()"
   ]
  },
  {
   "cell_type": "markdown",
   "metadata": {},
   "source": [
    "## Twitter API"
   ]
  },
  {
   "cell_type": "markdown",
   "metadata": {},
   "source": [
    "[Twitter API Documentation](https://developer.twitter.com/en/docs/twitter-api/getting-started/guide)"
   ]
  },
  {
   "cell_type": "markdown",
   "metadata": {},
   "source": [
    "## Summary"
   ]
  },
  {
   "cell_type": "markdown",
   "metadata": {},
   "source": [
    "* DNS: domain name system.\n",
    "* HTTP: is the protocol used to transfer data over the web.\n",
    "* API: application programming interface.\n",
    "* REST: series of rules, architectural style."
   ]
  },
  {
   "cell_type": "markdown",
   "metadata": {},
   "source": [
    "* `requests`: Python library for interacting with APIs.\n",
    "* URL: server name you want to ask information for.\n",
    "* endpoint: server service you want to ask information for.\n",
    "* parameters: extra parameters to your query.\n",
    "* headers: metadata, invisible information."
   ]
  },
  {
   "cell_type": "markdown",
   "metadata": {},
   "source": [
    "## Further materials"
   ]
  },
  {
   "cell_type": "markdown",
   "metadata": {},
   "source": [
    "[5 Simple-To-Use APIs for Beginners](https://dev.to/alanconstantino/5-simple-to-use-apis-for-beginners-2e0n)"
   ]
  }
 ],
 "metadata": {
  "kernelspec": {
   "display_name": "Python 3",
   "language": "python",
   "name": "python3"
  },
  "language_info": {
   "codemirror_mode": {
    "name": "ipython",
    "version": 3
   },
   "file_extension": ".py",
   "mimetype": "text/x-python",
   "name": "python",
   "nbconvert_exporter": "python",
   "pygments_lexer": "ipython3",
   "version": "3.8.5"
  },
  "toc": {
   "base_numbering": 1,
   "nav_menu": {},
   "number_sections": true,
   "sideBar": true,
   "skip_h1_title": true,
   "title_cell": "Table of Contents",
   "title_sidebar": "Contents",
   "toc_cell": true,
   "toc_position": {
    "height": "calc(100% - 180px)",
    "left": "10px",
    "top": "150px",
    "width": "336.903px"
   },
   "toc_section_display": true,
   "toc_window_display": true
  },
  "varInspector": {
   "cols": {
    "lenName": 16,
    "lenType": 16,
    "lenVar": 40
   },
   "kernels_config": {
    "python": {
     "delete_cmd_postfix": "",
     "delete_cmd_prefix": "del ",
     "library": "var_list.py",
     "varRefreshCmd": "print(var_dic_list())"
    },
    "r": {
     "delete_cmd_postfix": ") ",
     "delete_cmd_prefix": "rm(",
     "library": "var_list.r",
     "varRefreshCmd": "cat(var_dic_list()) "
    }
   },
   "types_to_exclude": [
    "module",
    "function",
    "builtin_function_or_method",
    "instance",
    "_Feature"
   ],
   "window_display": false
  }
 },
 "nbformat": 4,
 "nbformat_minor": 4
}
