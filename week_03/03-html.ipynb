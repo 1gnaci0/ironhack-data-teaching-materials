{
 "cells": [
  {
   "cell_type": "markdown",
   "metadata": {},
   "source": [
    "# Web scraping"
   ]
  },
  {
   "cell_type": "markdown",
   "metadata": {
    "toc": true
   },
   "source": [
    "<h1>Table of Contents<span class=\"tocSkip\"></span></h1>\n",
    "<div class=\"toc\"><ul class=\"toc-item\"><li><span><a href=\"#Webpages\" data-toc-modified-id=\"Webpages-1\"><span class=\"toc-item-num\">1&nbsp;&nbsp;</span>Webpages</a></span></li><li><span><a href=\"#HTML\" data-toc-modified-id=\"HTML-2\"><span class=\"toc-item-num\">2&nbsp;&nbsp;</span>HTML</a></span><ul class=\"toc-item\"><li><span><a href=\"#Basics\" data-toc-modified-id=\"Basics-2.1\"><span class=\"toc-item-num\">2.1&nbsp;&nbsp;</span>Basics</a></span></li><li><span><a href=\"#Tags\" data-toc-modified-id=\"Tags-2.2\"><span class=\"toc-item-num\">2.2&nbsp;&nbsp;</span>Tags</a></span></li><li><span><a href=\"#Attributes\" data-toc-modified-id=\"Attributes-2.3\"><span class=\"toc-item-num\">2.3&nbsp;&nbsp;</span>Attributes</a></span></li></ul></li><li><span><a href=\"#Web-scraping\" data-toc-modified-id=\"Web-scraping-3\"><span class=\"toc-item-num\">3&nbsp;&nbsp;</span>Web scraping</a></span><ul class=\"toc-item\"><li><span><a href=\"#Intro\" data-toc-modified-id=\"Intro-3.1\"><span class=\"toc-item-num\">3.1&nbsp;&nbsp;</span>Intro</a></span></li><li><span><a href=\"#Example:-Amazon-books\" data-toc-modified-id=\"Example:-Amazon-books-3.2\"><span class=\"toc-item-num\">3.2&nbsp;&nbsp;</span>Example: Amazon books</a></span><ul class=\"toc-item\"><li><span><a href=\"#Research\" data-toc-modified-id=\"Research-3.2.1\"><span class=\"toc-item-num\">3.2.1&nbsp;&nbsp;</span>Research</a></span></li><li><span><a href=\"#Get-book-tags\" data-toc-modified-id=\"Get-book-tags-3.2.2\"><span class=\"toc-item-num\">3.2.2&nbsp;&nbsp;</span>Get book tags</a></span></li><li><span><a href=\"#Book-titles\" data-toc-modified-id=\"Book-titles-3.2.3\"><span class=\"toc-item-num\">3.2.3&nbsp;&nbsp;</span>Book titles</a></span></li><li><span><a href=\"#Book-prices\" data-toc-modified-id=\"Book-prices-3.2.4\"><span class=\"toc-item-num\">3.2.4&nbsp;&nbsp;</span>Book prices</a></span></li><li><span><a href=\"#Similar-with-date\" data-toc-modified-id=\"Similar-with-date-3.2.5\"><span class=\"toc-item-num\">3.2.5&nbsp;&nbsp;</span>Similar with date</a></span></li><li><span><a href=\"#Creating-a-DataFrame-with-the-data\" data-toc-modified-id=\"Creating-a-DataFrame-with-the-data-3.2.6\"><span class=\"toc-item-num\">3.2.6&nbsp;&nbsp;</span>Creating a DataFrame with the data</a></span></li></ul></li><li><span><a href=\"#Advanced\" data-toc-modified-id=\"Advanced-3.3\"><span class=\"toc-item-num\">3.3&nbsp;&nbsp;</span>Advanced</a></span></li><li><span><a href=\"#Exercise\" data-toc-modified-id=\"Exercise-3.4\"><span class=\"toc-item-num\">3.4&nbsp;&nbsp;</span>Exercise</a></span></li></ul></li><li><span><a href=\"#Comments\" data-toc-modified-id=\"Comments-4\"><span class=\"toc-item-num\">4&nbsp;&nbsp;</span>Comments</a></span></li><li><span><a href=\"#Summary\" data-toc-modified-id=\"Summary-5\"><span class=\"toc-item-num\">5&nbsp;&nbsp;</span>Summary</a></span></li><li><span><a href=\"#Further-materials\" data-toc-modified-id=\"Further-materials-6\"><span class=\"toc-item-num\">6&nbsp;&nbsp;</span>Further materials</a></span></li></ul></div>"
   ]
  },
  {
   "cell_type": "markdown",
   "metadata": {},
   "source": [
    "## Webpages"
   ]
  },
  {
   "cell_type": "markdown",
   "metadata": {},
   "source": [
    "Webpages are build mainly with 3 tools:\n",
    " * HTML: content (structure, headings, paragraphs, tables...)\n",
    " * CSS: style (color, shape, size...)\n",
    " * JavaScript: logic (clicks, popups, dynamic banners...)"
   ]
  },
  {
   "cell_type": "markdown",
   "metadata": {},
   "source": [
    "## HTML"
   ]
  },
  {
   "cell_type": "markdown",
   "metadata": {},
   "source": [
    "### Basics"
   ]
  },
  {
   "cell_type": "markdown",
   "metadata": {},
   "source": [
    "HTML code consists of `<tagged>` content."
   ]
  },
  {
   "cell_type": "markdown",
   "metadata": {},
   "source": [
    "HTML has a hierarchichal structure: parent tags, children tags, sibling tags:  \n",
    "```\n",
    "<html>\n",
    "    <head>\n",
    "        <title>Page Title</title>\n",
    "    </head>\n",
    "    <body>\n",
    "        <h1>My First Heading</h1>\n",
    "        <p>My first paragraph.</p>\n",
    "       </body>\n",
    "</html>\n",
    "```"
   ]
  },
  {
   "cell_type": "markdown",
   "metadata": {},
   "source": [
    "### Tags"
   ]
  },
  {
   "cell_type": "markdown",
   "metadata": {},
   "source": [
    "Tags may be classified in different groups, depending on the type of content they are expected to posess\n",
    " * heading: `<h1>`, `<h2>`, `<h3>`, `<hgroup>`...\n",
    " * phrasing: `<b>`, `<img>`, `<sub>`...\n",
    " * embedded: `<audio>`, `<img>`, `<video>`...\n",
    " * tabulated: `<table>`, `<tr>`, `<tbody>`...\n",
    " * sections: `<header>`, `<section>`, `<article>`...\n",
    " * metadata: `<meta>`, `<title>`, `<script>`..."
   ]
  },
  {
   "cell_type": "markdown",
   "metadata": {},
   "source": [
    "### Attributes"
   ]
  },
  {
   "cell_type": "markdown",
   "metadata": {},
   "source": [
    "Tags may have attributes. Here, the `div` tag has:\n",
    " * a `class` attribute with value `price-item`\n",
    " * an `id` attribute with value `offer`  \n",
    "\n",
    "`<div class=\"price-item\" id=\"offer\"> Zapas Marca Joma X54 </div>`"
   ]
  },
  {
   "cell_type": "markdown",
   "metadata": {},
   "source": [
    "`id` attribute should be unique for a tag (no two tags should have same `id`)"
   ]
  },
  {
   "cell_type": "markdown",
   "metadata": {},
   "source": [
    "`class` is not intended to be unique, it usually groups tags with similar behavior"
   ]
  },
  {
   "cell_type": "markdown",
   "metadata": {},
   "source": [
    "Other frequent used tags are:\n",
    " * `dir`\n",
    " * `lang`\n",
    " * `style` (not to be confused with `<style>` tag\n",
    " * `title` (not to be confused with `<title>` tag"
   ]
  },
  {
   "cell_type": "markdown",
   "metadata": {},
   "source": [
    "## Web scraping"
   ]
  },
  {
   "cell_type": "markdown",
   "metadata": {},
   "source": [
    "### Intro"
   ]
  },
  {
   "cell_type": "markdown",
   "metadata": {},
   "source": [
    "When scraping, we want to filter tags by:\n",
    " * tag name\n",
    " * class\n",
    " * id\n",
    " * other attribute"
   ]
  },
  {
   "cell_type": "markdown",
   "metadata": {},
   "source": [
    "Our browser Console is very useful for this:  we can **Inspect** content in the web and find the corresponding piece of HTML code"
   ]
  },
  {
   "cell_type": "markdown",
   "metadata": {},
   "source": [
    "We use `requests` library to bring the HTML content to our Python script"
   ]
  },
  {
   "cell_type": "markdown",
   "metadata": {},
   "source": [
    "We use `Beautiful Soup` library to easily navigate through the HTML in Python"
   ]
  },
  {
   "cell_type": "code",
   "execution_count": 1,
   "metadata": {},
   "outputs": [
    {
     "name": "stdout",
     "output_type": "stream",
     "text": [
      "Requirement already satisfied: beautifulsoup4 in /home/sheriff/miniconda3/envs/ironhack/lib/python3.8/site-packages (4.9.3)\r\n",
      "Requirement already satisfied: soupsieve>1.2; python_version >= \"3.0\" in /home/sheriff/miniconda3/envs/ironhack/lib/python3.8/site-packages (from beautifulsoup4) (2.0.1)\r\n"
     ]
    }
   ],
   "source": [
    "!pip install beautifulsoup4"
   ]
  },
  {
   "cell_type": "code",
   "execution_count": 2,
   "metadata": {},
   "outputs": [],
   "source": [
    "import requests"
   ]
  },
  {
   "cell_type": "code",
   "execution_count": 3,
   "metadata": {},
   "outputs": [],
   "source": [
    "from bs4 import BeautifulSoup"
   ]
  },
  {
   "cell_type": "markdown",
   "metadata": {},
   "source": [
    "### Example: Amazon books"
   ]
  },
  {
   "cell_type": "markdown",
   "metadata": {},
   "source": [
    "Lets scrape Python books sold at Amazon!"
   ]
  },
  {
   "cell_type": "code",
   "execution_count": 3,
   "metadata": {},
   "outputs": [],
   "source": [
    "url = \"https://www.amazon.es/s?k=python+books\""
   ]
  },
  {
   "cell_type": "markdown",
   "metadata": {},
   "source": [
    "Lets try to get the books titles and their prices!"
   ]
  },
  {
   "cell_type": "markdown",
   "metadata": {},
   "source": [
    "#### Research"
   ]
  },
  {
   "cell_type": "code",
   "execution_count": 4,
   "metadata": {},
   "outputs": [],
   "source": [
    "response = requests.get(url)"
   ]
  },
  {
   "cell_type": "markdown",
   "metadata": {},
   "source": [
    "When we requested API endpoints, generally response content was a JSON."
   ]
  },
  {
   "cell_type": "markdown",
   "metadata": {},
   "source": [
    "Lets see what happens in this case"
   ]
  },
  {
   "cell_type": "code",
   "execution_count": 43,
   "metadata": {},
   "outputs": [
    {
     "name": "stdout",
     "output_type": "stream",
     "text": [
      "The content is not JSONeable\n"
     ]
    }
   ],
   "source": [
    "try:\n",
    "    response.json()\n",
    "except Exception:\n",
    "    print(f\"The content is not JSONeable\")"
   ]
  },
  {
   "cell_type": "markdown",
   "metadata": {},
   "source": [
    "But we just requested a non-API URL, so we receive raw HTML content!"
   ]
  },
  {
   "cell_type": "code",
   "execution_count": 45,
   "metadata": {},
   "outputs": [
    {
     "data": {
      "text/plain": [
       "bytes"
      ]
     },
     "execution_count": 45,
     "metadata": {},
     "output_type": "execute_result"
    }
   ],
   "source": [
    "type(response.content)"
   ]
  },
  {
   "cell_type": "code",
   "execution_count": 46,
   "metadata": {},
   "outputs": [
    {
     "data": {
      "text/plain": [
       "str"
      ]
     },
     "execution_count": 46,
     "metadata": {},
     "output_type": "execute_result"
    }
   ],
   "source": [
    "type(response.text)"
   ]
  },
  {
   "cell_type": "markdown",
   "metadata": {},
   "source": [
    "`Beautiful Soup` helps us with the task of accessing this info"
   ]
  },
  {
   "cell_type": "code",
   "execution_count": 86,
   "metadata": {},
   "outputs": [],
   "source": [
    "soup = BeautifulSoup(response.content)"
   ]
  },
  {
   "cell_type": "markdown",
   "metadata": {},
   "source": [
    "Lets find books names and prizes, going to Chrome console and inspecting..."
   ]
  },
  {
   "cell_type": "markdown",
   "metadata": {},
   "source": [
    "**HINT**: execute in the console `document.querySelectorAll('a').forEach(elm => elm.style.background = 'red')` to check how your guesses are working.  \n",
    "\n",
    "You shall change `a` by your used tag or by `.class_name` for a class name"
   ]
  },
  {
   "cell_type": "markdown",
   "metadata": {},
   "source": [
    "#### Get book tags"
   ]
  },
  {
   "cell_type": "code",
   "execution_count": 87,
   "metadata": {},
   "outputs": [],
   "source": [
    "possible_books = soup.find_all(name=\"div\", class_=\"sg-col-inner\")"
   ]
  },
  {
   "cell_type": "code",
   "execution_count": 88,
   "metadata": {},
   "outputs": [
    {
     "data": {
      "text/plain": [
       "53"
      ]
     },
     "execution_count": 88,
     "metadata": {},
     "output_type": "execute_result"
    }
   ],
   "source": [
    "len(possible_books)"
   ]
  },
  {
   "cell_type": "code",
   "execution_count": 89,
   "metadata": {},
   "outputs": [
    {
     "data": {
      "text/plain": [
       "[<span class=\"a-size-base-plus a-color-base a-text-normal\" dir=\"auto\">Python Programming: A Step By Step Guide from Beginner to Advanced (Beginner &amp; Advanced)</span>]"
      ]
     },
     "execution_count": 89,
     "metadata": {},
     "output_type": "execute_result"
    }
   ],
   "source": [
    "possible_books[10].find_all(\"span\", class_=\"a-size-base-plus a-color-base a-text-normal\")"
   ]
  },
  {
   "cell_type": "code",
   "execution_count": 90,
   "metadata": {},
   "outputs": [
    {
     "data": {
      "text/plain": [
       "[]"
      ]
     },
     "execution_count": 90,
     "metadata": {},
     "output_type": "execute_result"
    }
   ],
   "source": [
    "possible_books[0].find_all(\"span\", class_=\"a-size-base-plus a-color-base a-text-normal\")"
   ]
  },
  {
   "cell_type": "code",
   "execution_count": 91,
   "metadata": {},
   "outputs": [
    {
     "data": {
      "text/plain": [
       "[]"
      ]
     },
     "execution_count": 91,
     "metadata": {},
     "output_type": "execute_result"
    }
   ],
   "source": [
    "possible_books[1].find_all(\"span\", class_=\"a-size-base-plus a-color-base a-text-normal\")"
   ]
  },
  {
   "cell_type": "code",
   "execution_count": 92,
   "metadata": {},
   "outputs": [
    {
     "data": {
      "text/plain": [
       "[]"
      ]
     },
     "execution_count": 92,
     "metadata": {},
     "output_type": "execute_result"
    }
   ],
   "source": [
    "possible_books[2].find_all(\"span\", class_=\"a-size-base-plus a-color-base a-text-normal\")"
   ]
  },
  {
   "cell_type": "code",
   "execution_count": 93,
   "metadata": {},
   "outputs": [
    {
     "data": {
      "text/plain": [
       "[<span class=\"a-size-base-plus a-color-base a-text-normal\" dir=\"auto\">Python Crash Course: A Hands-On, Project-Based Introduction to Programming</span>,\n",
       " <span class=\"a-size-base-plus a-color-base a-text-normal\" dir=\"auto\">Let Us Python: Python Is Future, Embrace It Fast</span>,\n",
       " <span class=\"a-size-base-plus a-color-base a-text-normal\" dir=\"auto\">Python: 6 Books in 1: \n",
       " The Ultimate Bible to Learn Python Programming for a Career in Machine Learning, Data Science &amp; \n",
       " Web Development. (English Edition)</span>,\n",
       " <span class=\"a-size-base-plus a-color-base a-text-normal\" dir=\"auto\">LEARNING PYTHON: 3 Books in 1: Ultimate Beginners guide Including Data Analysis and 50 Step-By-Step Coding Projects in Games, Art and More</span>,\n",
       " <span class=\"a-size-base-plus a-color-base a-text-normal\" dir=\"auto\">Fluent Python: Clear, Concise, and Effective Programming</span>,\n",
       " <span class=\"a-size-base-plus a-color-base a-text-normal\" dir=\"auto\">PYTHON: 2 books in 1 : Learn python programming for beginners and machine learning (English Edition)</span>,\n",
       " <span class=\"a-size-base-plus a-color-base a-text-normal\" dir=\"auto\">Python Programming: A Step By Step Guide from Beginner to Advanced (Beginner &amp; Advanced)</span>,\n",
       " <span class=\"a-size-base-plus a-color-base a-text-normal\" dir=\"auto\">Python: 3 books in 1: Beginner’s guide, Data science and Machine learning. The easiest guide to start Python programming. Unlock your programmer potential ... project in just 30 days (English Edition)</span>,\n",
       " <span class=\"a-size-base-plus a-color-base a-text-normal\" dir=\"auto\">Mastering Machine Learning on AWS: Advanced machine learning in Python using SageMaker, Apache Spark, and TensorFlow</span>,\n",
       " <span class=\"a-size-base-plus a-color-base a-text-normal\" dir=\"auto\">Python: 3 Manuscripts in 1 book: - Python Programming For Beginners - Python Programming For Intermediates - Python Programming for Advanced (English Edition)</span>,\n",
       " <span class=\"a-size-base-plus a-color-base a-text-normal\" dir=\"auto\">Python for Data Science: 2 Books in 1. A Practical Beginner’s Guide to learn Python Programming, introducing into Data Analytics, Machine learning, Web Development, with Hands-on Projects</span>,\n",
       " <span class=\"a-size-base-plus a-color-base a-text-normal\" dir=\"auto\">Learning Python: Powerful Object-Oriented Programming</span>,\n",
       " <span class=\"a-size-base-plus a-color-base a-text-normal\" dir=\"auto\">Python: This Book Includes: Learn Python Programming for Beginners, Python Crash Course and Python for Data Analysis. Create Your Business Projects Immediately Thanks to This Step by Step Guide</span>,\n",
       " <span class=\"a-size-base-plus a-color-base a-text-normal\" dir=\"auto\">PYTHON PROGRAMMING: 3 BOOKS IN 1: The Complete guide to Learn Everything you Need to Know about Python</span>,\n",
       " <span class=\"a-size-base-plus a-color-base a-text-normal\" dir=\"auto\">Machine Learning: 4 Books in 1: Basic Concepts + Artificial Intelligence + Python Programming + Python Machine Learning. A Comprehensive Guide to Build Intelligent Systems Using Python Libraries</span>,\n",
       " <span class=\"a-size-base-plus a-color-base a-text-normal\" dir=\"auto\">Dive Into Python 3 (Books for Professionals by Professionals)</span>,\n",
       " <span class=\"a-size-base-plus a-color-base a-text-normal\" dir=\"auto\">A Student's Guide to Python for Physical Modeling: Updated Edition</span>,\n",
       " <span class=\"a-size-base-plus a-color-base a-text-normal\" dir=\"auto\">Coding Games: A Comprehensive Beginners Guide to Learn the Realms of Coding in Games from A-Z (English Edition)</span>,\n",
       " <span class=\"a-size-base-plus a-color-base a-text-normal\" dir=\"auto\">Coding for Kids: Python: Learn to Code with 50 Awesome Games and Activities (English Edition)</span>,\n",
       " <span class=\"a-size-base-plus a-color-base a-text-normal\" dir=\"auto\">Day Trading Starter Guide : The Simplified Guide To Winning Trade Plans, Conquering The Market And Making Daily Money (English Edition)</span>,\n",
       " <span class=\"a-size-base-plus a-color-base a-text-normal\" dir=\"auto\">Python Crash Course: The Step by Step Python for Everybody Book for Learning Python Programming</span>,\n",
       " <span class=\"a-size-base-plus a-color-base a-text-normal\" dir=\"auto\">Monty Python's Big Red Book</span>,\n",
       " <span class=\"a-size-base-plus a-color-base a-text-normal\" dir=\"auto\">Foundations of Python Network Programming: The comprehensive guide to building network applications with Python (Books for Professionals by Professionals) (English Edition)</span>,\n",
       " <span class=\"a-size-base-plus a-color-base a-text-normal\" dir=\"auto\">Learn Python in One Day and Learn It Well (2nd Edition): Python for Beginners with Hands-on Project. The only book you need to start coding in Python immediately: Volume 1 (Learn Coding Fast)</span>,\n",
       " <span class=\"a-size-base-plus a-color-base a-text-normal\" dir=\"auto\">PYTHON: 2 Books in 1: Python Programming &amp; Data Science. Master Data Analysis in Less than 7 Days and Discover the Secrets of Machine Learning with Step-by-Step Exercises (English Edition)</span>,\n",
       " <span class=\"a-size-base-plus a-color-base a-text-normal\" dir=\"auto\">Hands-on Machine Learning with Scikit-Learn, Keras, and TensorFlow: Concepts, Tools, and Techniques to Build Intelligent Systems</span>,\n",
       " <span class=\"a-size-base-plus a-color-base a-text-normal\" dir=\"auto\">Python for Data Science: Step-by-Step Crash Course On How To Come Up Easily With Your First Data Science Projects From Scratch In Less Than 7 Days. Includes Practical Exercises</span>,\n",
       " <span class=\"a-size-base-plus a-color-base a-text-normal\" dir=\"auto\">PYTHON: 2 BOOKS IN 1: Dive into Data Science and learn how to master Python Programming and other Coding Languages in use today</span>,\n",
       " <span class=\"a-size-base-plus a-color-base a-text-normal\" dir=\"auto\">Think Python: How to Think Like a Computer Scientist</span>,\n",
       " <span class=\"a-size-base-plus a-color-base a-text-normal\" dir=\"auto\">The Pythons' Autobiography By The Pythons</span>,\n",
       " <span class=\"a-size-base-plus a-color-base a-text-normal\" dir=\"auto\">JAVA AND PYTHON FOR BEGINNERS:  2 BOOKS IN 1 - Learn Coding Fast! JAVA Programming Language And PYTHON Crash Course, A QuickStart Guide, Tutorial Book ... Examples, In Easy Steps! (English Edition)</span>,\n",
       " <span class=\"a-size-base-plus a-color-base a-text-normal\" dir=\"auto\">Python Programming: 3 Books in 1: Data Science Handbook, Data Analysis and Machine Learning with Python. A Crash Course to Learn Programming. (English Edition)</span>,\n",
       " <span class=\"a-size-base-plus a-color-base a-text-normal\" dir=\"auto\">Data Science with Python: Beginners Guide to Data Cleaning, Analysing, Processing and Visualizing with Pandas, NumPy, SciPy and Matplotlib (English Edition)</span>,\n",
       " <span class=\"a-size-base-plus a-color-base a-text-normal\" dir=\"auto\">Aprende Python en un fin de semana</span>,\n",
       " <span class=\"a-size-base-plus a-color-base a-text-normal\" dir=\"auto\">Python for Data Analysis: Data Wrangling with Pandas, NumPy, and IPython</span>,\n",
       " <span class=\"a-size-base-plus a-color-base a-text-normal\" dir=\"auto\">Python Cookbook: Recipes for Mastering Python 3</span>,\n",
       " <span class=\"a-size-base-plus a-color-base a-text-normal\" dir=\"auto\">Programming for Computations - Python: A Gentle Introduction to Numerical Simulations with Python (Texts in Computational Science and Engineering Book 15) (English Edition)</span>,\n",
       " <span class=\"a-size-base-plus a-color-base a-text-normal\" dir=\"auto\">Coding in Python: Tips and Tricks to Coding with Python Using the Principles and Theories of Python Programming (English Edition)</span>,\n",
       " <span class=\"a-size-base-plus a-color-base a-text-normal\" dir=\"auto\">Trading Evolved: Anyone can Build Killer Trading Strategies in Python</span>,\n",
       " <span class=\"a-size-base-plus a-color-base a-text-normal\" dir=\"auto\">IoT con Raspberry Pi: Node-RED y MQTT, control de los GPIO con wiringPi y RPI, Python y C, UART, SPI, I2C, USB, Camara, Sonido, etc</span>,\n",
       " <span class=\"a-size-base-plus a-color-base a-text-normal\" dir=\"auto\">Introduction to Machine Learning with Python: A Guide for Data Scientists</span>,\n",
       " <span class=\"a-size-base-plus a-color-base a-text-normal\" dir=\"auto\">Automate the Boring Stuff with Python: Practical Programming for Total Beginners (English Edition)</span>,\n",
       " <span class=\"a-size-base-plus a-color-base a-text-normal\" dir=\"auto\">Python: 3 Books in 1 : Machine Learning, Python and Data Science. Learn Computer Programming for Beginners. (English Edition)</span>,\n",
       " <span class=\"a-size-base-plus a-color-base a-text-normal\" dir=\"auto\">92Wear Funny Hand Python Humour Penguin Classics Classic Penguins Books Book Booklover Booklovers Vintage - Best 11 oz Taza De Café - Taza De Motivos De Café</span>,\n",
       " <span class=\"a-size-base-plus a-color-base a-text-normal\" dir=\"auto\">PYTHON PROGRAMMING CRASH COURSE: HOW TO LEARN PYTHON FAST AND IN THE BEST WAY BY COMBINING THEORY WITH EXERCISES ON FUNCTIONS AND IS ALGORITHMS</span>,\n",
       " <span class=\"a-size-base-plus a-color-base a-text-normal\" dir=\"auto\">PYTHON PROGRAMMING: 3 BOOKS IN 1 Learn machine learning, data science and analysis with a crash course for beginners. Included coding exercises for artificial intelligence, Numpy, Pandas and Ipython.</span>,\n",
       " <span class=\"a-size-base-plus a-color-base a-text-normal\" dir=\"auto\">Coding Games: Tips and Tricks to Master the Key Concepts of Coding (English Edition)</span>,\n",
       " <span class=\"a-size-base-plus a-color-base a-text-normal\" dir=\"auto\">Deep Learning Models explored with help of Python Programming</span>]"
      ]
     },
     "execution_count": 93,
     "metadata": {},
     "output_type": "execute_result"
    }
   ],
   "source": [
    "possible_books[3].find_all(\"span\", class_=\"a-size-base-plus a-color-base a-text-normal\")"
   ]
  },
  {
   "cell_type": "code",
   "execution_count": 96,
   "metadata": {},
   "outputs": [
    {
     "data": {
      "text/plain": [
       "[<span class=\"a-size-base-plus a-color-base a-text-normal\" dir=\"auto\">Python Crash Course: A Hands-On, Project-Based Introduction to Programming</span>]"
      ]
     },
     "execution_count": 96,
     "metadata": {},
     "output_type": "execute_result"
    }
   ],
   "source": [
    "possible_books[4].find_all(\"span\", class_=\"a-size-base-plus a-color-base a-text-normal\")"
   ]
  },
  {
   "cell_type": "code",
   "execution_count": 97,
   "metadata": {},
   "outputs": [
    {
     "data": {
      "text/plain": [
       "[<span class=\"a-size-base-plus a-color-base a-text-normal\" dir=\"auto\">Let Us Python: Python Is Future, Embrace It Fast</span>]"
      ]
     },
     "execution_count": 97,
     "metadata": {},
     "output_type": "execute_result"
    }
   ],
   "source": [
    "possible_books[5].find_all(\"span\", class_=\"a-size-base-plus a-color-base a-text-normal\")"
   ]
  },
  {
   "cell_type": "code",
   "execution_count": 98,
   "metadata": {},
   "outputs": [
    {
     "data": {
      "text/plain": [
       "[<span class=\"a-size-base-plus a-color-base a-text-normal\" dir=\"auto\">Python for Data Science: Step-by-Step Crash Course On How To Come Up Easily With Your First Data Science Projects From Scratch In Less Than 7 Days. Includes Practical Exercises</span>]"
      ]
     },
     "execution_count": 98,
     "metadata": {},
     "output_type": "execute_result"
    }
   ],
   "source": [
    "possible_books[30].find_all(\"span\", class_=\"a-size-base-plus a-color-base a-text-normal\")"
   ]
  },
  {
   "cell_type": "markdown",
   "metadata": {},
   "source": [
    "It seems that real book only have 1 ocurrence of a `span` tag with that class name and value"
   ]
  },
  {
   "cell_type": "code",
   "execution_count": 99,
   "metadata": {},
   "outputs": [
    {
     "data": {
      "text/plain": [
       "bs4.element.Tag"
      ]
     },
     "execution_count": 99,
     "metadata": {},
     "output_type": "execute_result"
    }
   ],
   "source": [
    "type(possible_books[10])"
   ]
  },
  {
   "cell_type": "code",
   "execution_count": 100,
   "metadata": {},
   "outputs": [],
   "source": [
    "def is_book_tag(tag):\n",
    "    \"\"\"\n",
    "    Decides whether an Amazon div tag corresponds to a book or to other useless information\n",
    "    Args:\n",
    "        tag (bs4.element.Tag)\n",
    "    Returns:\n",
    "        bool: True if book\n",
    "    \"\"\"\n",
    "    list_of_spans = tag.find_all(\"span\", class_=\"a-size-base-plus a-color-base a-text-normal\")\n",
    "    \n",
    "    if len(list_of_spans) == 1:\n",
    "        return True\n",
    "    else:\n",
    "        return False"
   ]
  },
  {
   "cell_type": "markdown",
   "metadata": {},
   "source": [
    "We filter `possible_books` into `books`. I do it in two equivalent ways (I personally prefer list comprehension):\n",
    " * list comprehension\n",
    " * filter function"
   ]
  },
  {
   "cell_type": "code",
   "execution_count": 123,
   "metadata": {},
   "outputs": [],
   "source": [
    "books = [b for b in possible_books if is_book_tag(b)]"
   ]
  },
  {
   "cell_type": "code",
   "execution_count": 121,
   "metadata": {},
   "outputs": [],
   "source": [
    "# equivalently\n",
    "books2 = filter(is_book_tag, possible_books)"
   ]
  },
  {
   "cell_type": "code",
   "execution_count": 122,
   "metadata": {},
   "outputs": [
    {
     "data": {
      "text/plain": [
       "True"
      ]
     },
     "execution_count": 122,
     "metadata": {},
     "output_type": "execute_result"
    }
   ],
   "source": [
    "list(books2) == books"
   ]
  },
  {
   "cell_type": "code",
   "execution_count": 124,
   "metadata": {},
   "outputs": [
    {
     "data": {
      "text/plain": [
       "48"
      ]
     },
     "execution_count": 124,
     "metadata": {},
     "output_type": "execute_result"
    }
   ],
   "source": [
    "len(books)"
   ]
  },
  {
   "cell_type": "markdown",
   "metadata": {},
   "source": [
    "#### Book titles"
   ]
  },
  {
   "cell_type": "code",
   "execution_count": 125,
   "metadata": {},
   "outputs": [],
   "source": [
    "example_book = books[0]"
   ]
  },
  {
   "cell_type": "code",
   "execution_count": 126,
   "metadata": {},
   "outputs": [
    {
     "data": {
      "text/plain": [
       "<div class=\"sg-col-inner\">\n",
       "<span cel_widget_id=\"MAIN-SEARCH_RESULTS-0\" class=\"celwidget slot=MAIN template=SEARCH_RESULTS widgetId=search-results\">\n",
       "<div class=\"s-expand-height s-include-content-margin s-border-bottom s-latency-cf-section\">\n",
       "<div class=\"a-section a-spacing-medium\">\n",
       "<div class=\"a-section a-spacing-micro s-grid-status-badge-container\">\n",
       "</div>\n",
       "<span class=\"rush-component\" data-component-type=\"s-product-image\">\n",
       "<a class=\"a-link-normal s-no-outline\" href=\"/Python-Crash-Course-Eric-Matthes/dp/1593279280?dchild=1\">\n",
       "<div class=\"a-section aok-relative s-image-square-aspect\">\n",
       "<img alt=\"Python Crash Course: A Hands-On, Project-Based Introduction to Programming\" class=\"s-image\" data-image-index=\"0\" data-image-latency=\"s-product-image\" data-image-load=\"\" data-image-source-density=\"1\" onload=\"window.uet &amp;&amp; uet('cf')\" src=\"https://m.media-amazon.com/images/I/81vmJCNCm6L._AC_UL320_.jpg\" srcset=\"https://m.media-amazon.com/images/I/81vmJCNCm6L._AC_UL320_.jpg 1x, https://m.media-amazon.com/images/I/81vmJCNCm6L._AC_UL480_QL65_.jpg 1.5x, https://m.media-amazon.com/images/I/81vmJCNCm6L._AC_UL640_QL65_.jpg 2x, https://m.media-amazon.com/images/I/81vmJCNCm6L._AC_UL800_QL65_.jpg 2.5x, https://m.media-amazon.com/images/I/81vmJCNCm6L._AC_UL960_QL65_.jpg 3x\"/>\n",
       "</div>\n",
       "</a>\n",
       "</span>\n",
       "<div class=\"a-section a-spacing-none a-spacing-top-small\">\n",
       "<h2 class=\"a-size-mini a-spacing-none a-color-base s-line-clamp-4\">\n",
       "<a class=\"a-link-normal a-text-normal\" href=\"/Python-Crash-Course-Eric-Matthes/dp/1593279280?dchild=1\">\n",
       "<span class=\"a-size-base-plus a-color-base a-text-normal\" dir=\"auto\">Python Crash Course: A Hands-On, Project-Based Introduction to Programming</span>\n",
       "</a>\n",
       "</h2>\n",
       "<div class=\"a-row a-size-base a-color-secondary\"><span class=\"a-size-base\" dir=\"auto\">de </span>\n",
       "<a class=\"a-size-base a-link-normal\" href=\"/Eric-Matthes/e/B01DPU378I?ref=sr_ntt_srch_lnk_1&amp;sr=8-1\">\n",
       "    \n",
       "        \n",
       "        \n",
       "            Eric Matthes\n",
       "        \n",
       "    \n",
       "</a>\n",
       "</div>\n",
       "</div>\n",
       "<div class=\"a-section a-spacing-none a-spacing-top-micro\">\n",
       "<div class=\"a-row a-size-small\">\n",
       "<span aria-label=\"4,7 de 5 estrellas\">\n",
       "<span class=\"a-declarative\" data-a-popover='{\"max-width\":\"700\",\"closeButton\":false,\"position\":\"triggerBottom\",\"url\":\"/review/widgets/average-customer-review/popover/ref=acr_search__popover?ie=UTF8&amp;asin=1593279280&amp;ref=acr_search__popover&amp;contextId=search\"}' data-action=\"a-popover\">\n",
       "<a class=\"a-popover-trigger a-declarative\" href=\"javascript:void(0)\"><i class=\"a-icon a-icon-star-small a-star-small-4-5 aok-align-bottom\"><span class=\"a-icon-alt\">4,7 de 5 estrellas</span></i><i class=\"a-icon a-icon-popover\"></i></a>\n",
       "</span>\n",
       "</span>\n",
       "<span aria-label=\"2.112\">\n",
       "<a class=\"a-link-normal\" href=\"/Python-Crash-Course-Eric-Matthes/dp/1593279280?dchild=1#customerReviews\">\n",
       "<span class=\"a-size-base\" dir=\"auto\">2.112</span>\n",
       "</a>\n",
       "</span>\n",
       "</div>\n",
       "</div>\n",
       "<div class=\"a-section a-spacing-none a-spacing-top-small\">\n",
       "<div class=\"a-row a-size-base a-color-base\">\n",
       "<a class=\"a-size-base a-link-normal a-text-bold\" href=\"/Python-Crash-Course-Eric-Matthes/dp/1593279280?dchild=1\">\n",
       "    \n",
       "        \n",
       "        \n",
       "            Tapa blanda\n",
       "        \n",
       "    \n",
       "</a>\n",
       "</div><div class=\"a-row a-size-base a-color-base\"><div class=\"a-row\"><div class=\"a-row\">\n",
       "<a class=\"a-size-base a-link-normal a-text-normal\" href=\"/Python-Crash-Course-Eric-Matthes/dp/1593279280?dchild=1\">\n",
       "<span class=\"a-price\" data-a-color=\"base\" data-a-size=\"l\"><span class=\"a-offscreen\">31,01 €</span><span aria-hidden=\"true\"><span class=\"a-price-whole\">31,01</span><span class=\"a-price-symbol\">€</span></span></span>\n",
       "<span class=\"a-price a-text-price\" data-a-color=\"secondary\" data-a-size=\"b\" data-a-strike=\"true\"><span class=\"a-offscreen\">37,64 €</span><span aria-hidden=\"true\">37,64€</span></span>\n",
       "</a>\n",
       "</div></div></div>\n",
       "</div>\n",
       "<div class=\"a-section a-spacing-none a-spacing-top-micro\">\n",
       "<div class=\"a-row a-size-base a-color-secondary s-align-children-center\"><div class=\"a-row s-align-children-center\">\n",
       "<span class=\"aok-inline-block s-image-logo-view\">\n",
       "<span class=\"aok-relative s-icon-text-medium s-prime\">\n",
       "<i aria-label=\"Amazon Prime\" class=\"a-icon a-icon-prime a-icon-medium\" role=\"img\"></i>\n",
       "</span>\n",
       "<span>\n",
       "</span>\n",
       "</span>\n",
       "<span aria-label=\"Recíbelo el domingo, 8 de noviembre\">\n",
       "<span dir=\"auto\">Recíbelo el </span><span class=\"a-text-bold\" dir=\"auto\">domingo, 8 de noviembre</span>\n",
       "</span>\n",
       "</div><div class=\"a-row\">\n",
       "<span aria-label=\"Envío GRATIS por Amazon\">\n",
       "<span dir=\"auto\">Envío GRATIS por Amazon</span>\n",
       "</span>\n",
       "</div></div>\n",
       "</div>\n",
       "<div class=\"a-section a-spacing-none a-spacing-top-mini\">\n",
       "<div class=\"a-row a-size-base a-color-secondary\"><span class=\"a-size-base a-color-secondary\" dir=\"auto\">Más opciones de compra</span><br/><span class=\"a-color-base\" dir=\"auto\">29,86 €</span><span class=\"a-letter-space\"></span>\n",
       "<span class=\"a-declarative\" data-action=\"s-show-all-offers-display\" data-s-show-all-offers-display='{\"assetMismatch\":\"ABANDON\",\"fallbackUrl\":\"/gp/offer-listing/1593279280/ref=sr_1_1_olp?keywords=python+books&amp;sr=8-1\",\"url\":\"/gp/aod/ajax/ref=sr_1_1_aod?asin=1593279280&amp;pc=sp&amp;keywords=python+books&amp;sr=8-1&amp;rrid=GEK6C6AHSHA6SXFE2JP9\"}'>\n",
       "<a class=\"a-link-normal\" href=\"/gp/offer-listing/1593279280/ref=sr_1_1_olp?keywords=python+books&amp;sr=8-1\">\n",
       "        \n",
       "            \n",
       "            \n",
       "                (9 nuevas ofertas)\n",
       "            \n",
       "        \n",
       "    </a>\n",
       "</span>\n",
       "<div class=\"a-section aok-hidden\" id=\"all-offers-display\">\n",
       "<div class=\"a-spinner-wrapper aok-hidden\" id=\"all-offers-display-spinner\"><span class=\"a-spinner a-spinner-medium\"></span></div>\n",
       "</div>\n",
       "<span class=\"a-declarative\" data-action=\"close-all-offers-display\" data-close-all-offers-display=\"{}\">\n",
       "<div class=\"a-section aok-hidden aod-darken-background\" id=\"aod-background\">\n",
       "</div>\n",
       "</span>\n",
       "</div>\n",
       "</div>\n",
       "<div class=\"a-section a-spacing-none a-spacing-top-small\">\n",
       "<div class=\"a-row a-size-small a-color-base\"><span class=\"a-size-base a-color-secondary\" dir=\"auto\">Otro formato: </span>\n",
       "<a class=\"a-size-base a-link-normal\" href=\"/Python-Crash-Course-2nd-English-ebook/dp/B07J4521M3\">\n",
       "    \n",
       "        \n",
       "        \n",
       "            Versión Kindle\n",
       "        \n",
       "    \n",
       "</a>\n",
       "</div>\n",
       "</div>\n",
       "</div>\n",
       "</div>\n",
       "</span>\n",
       "</div>"
      ]
     },
     "execution_count": 126,
     "metadata": {},
     "output_type": "execute_result"
    }
   ],
   "source": [
    "example_book"
   ]
  },
  {
   "cell_type": "code",
   "execution_count": 127,
   "metadata": {},
   "outputs": [
    {
     "data": {
      "text/plain": [
       "bs4.element.Tag"
      ]
     },
     "execution_count": 127,
     "metadata": {},
     "output_type": "execute_result"
    }
   ],
   "source": [
    "type(example_book)"
   ]
  },
  {
   "cell_type": "markdown",
   "metadata": {},
   "source": [
    "After some **Inspection** using Chrome, we see title here:  \n",
    "`<span dir=\"auto\" class=\"a-size-base-plus a-color-base a-text-normal\">Python Made Simple: Learn Python programming in easy steps with examples</span>`"
   ]
  },
  {
   "cell_type": "code",
   "execution_count": 128,
   "metadata": {},
   "outputs": [
    {
     "data": {
      "text/plain": [
       "<span class=\"a-size-base-plus a-color-base a-text-normal\" dir=\"auto\">Python Crash Course: A Hands-On, Project-Based Introduction to Programming</span>"
      ]
     },
     "execution_count": 128,
     "metadata": {},
     "output_type": "execute_result"
    }
   ],
   "source": [
    "example_book.find(\"span\", class_=\"a-size-base-plus a-color-base a-text-normal\")"
   ]
  },
  {
   "cell_type": "code",
   "execution_count": 143,
   "metadata": {},
   "outputs": [
    {
     "data": {
      "text/plain": [
       "'Python Crash Course: A Hands-On, Project-Based Introduction to Programming'"
      ]
     },
     "execution_count": 143,
     "metadata": {},
     "output_type": "execute_result"
    }
   ],
   "source": [
    "example_book.find(\"span\", class_=\"a-size-base-plus a-color-base a-text-normal\").text"
   ]
  },
  {
   "cell_type": "markdown",
   "metadata": {},
   "source": [
    "We got it! Lets create a function for this!!"
   ]
  },
  {
   "cell_type": "code",
   "execution_count": 130,
   "metadata": {},
   "outputs": [],
   "source": [
    "def get_book_name(book_tag):\n",
    "    \"\"\"\n",
    "    Extracts book name\n",
    "    Args:\n",
    "        book_tag (bs4.element.Tag): corresponding to an Amazon book\n",
    "    Returns:\n",
    "        str: book title\n",
    "    \"\"\"\n",
    "    book_title_tag = book_tag.find(\"span\", class_=\"a-size-base-plus a-color-base a-text-normal\")\n",
    "    book_title = book_title_tag.text\n",
    "    \n",
    "    return book_title"
   ]
  },
  {
   "cell_type": "code",
   "execution_count": 131,
   "metadata": {},
   "outputs": [
    {
     "data": {
      "text/plain": [
       "'PYTHON: 2 books in 1 : Learn python programming for beginners and machine learning (English Edition)'"
      ]
     },
     "execution_count": 131,
     "metadata": {},
     "output_type": "execute_result"
    }
   ],
   "source": [
    "get_book_name(books[5])"
   ]
  },
  {
   "cell_type": "code",
   "execution_count": 132,
   "metadata": {},
   "outputs": [
    {
     "data": {
      "text/plain": [
       "'Python for Data Science: 2 Books in 1. A Practical Beginner’s Guide to learn Python Programming, introducing into Data Analytics, Machine learning, Web Development, with Hands-on Projects'"
      ]
     },
     "execution_count": 132,
     "metadata": {},
     "output_type": "execute_result"
    }
   ],
   "source": [
    "get_book_name(books[10])"
   ]
  },
  {
   "cell_type": "code",
   "execution_count": 133,
   "metadata": {},
   "outputs": [
    {
     "data": {
      "text/plain": [
       "'Python Crash Course: A Hands-On, Project-Based Introduction to Programming'"
      ]
     },
     "execution_count": 133,
     "metadata": {},
     "output_type": "execute_result"
    }
   ],
   "source": [
    "get_book_name(books[0])"
   ]
  },
  {
   "cell_type": "code",
   "execution_count": 134,
   "metadata": {},
   "outputs": [
    {
     "data": {
      "text/plain": [
       "'Deep Learning Models explored with help of Python Programming'"
      ]
     },
     "execution_count": 134,
     "metadata": {},
     "output_type": "execute_result"
    }
   ],
   "source": [
    "get_book_name(books[-1])"
   ]
  },
  {
   "cell_type": "markdown",
   "metadata": {},
   "source": [
    "#### Book prices"
   ]
  },
  {
   "cell_type": "markdown",
   "metadata": {},
   "source": [
    "Lets inspect!!"
   ]
  },
  {
   "cell_type": "markdown",
   "metadata": {},
   "source": [
    "After some **Inspection** using Chrome, we see title here:  \n",
    "`<span class=\"a-price-whole\">31,01</span>`"
   ]
  },
  {
   "cell_type": "code",
   "execution_count": 136,
   "metadata": {},
   "outputs": [],
   "source": [
    "def get_book_price(book_tag):\n",
    "    \"\"\"\n",
    "    Extracts book price\n",
    "    Args:\n",
    "        book_tag (bs4.element.Tag): corresponding to an Amazon book\n",
    "    Returns:\n",
    "        float: book price\n",
    "    \"\"\"\n",
    "    book_price_tag = book_tag.find(\"span\", class_=\"a-price-whole\")\n",
    "    book_price = book_price_tag.text\n",
    "    \n",
    "    return book_price"
   ]
  },
  {
   "cell_type": "markdown",
   "metadata": {},
   "source": [
    "#### Similar with date"
   ]
  },
  {
   "cell_type": "code",
   "execution_count": 156,
   "metadata": {},
   "outputs": [],
   "source": [
    "def get_book_date(book_tag):\n",
    "    \"\"\"\n",
    "    Extracts book price\n",
    "    Args:\n",
    "        book_tag (bs4.element.Tag): corresponding to an Amazon book\n",
    "    Returns:\n",
    "        string: book date\n",
    "    \"\"\"\n",
    "    book_date_tag = book_tag.find(\"span\", class_=\"a-text-bold\")\n",
    "    try:\n",
    "        book_date = book_date_tag.text\n",
    "    except:\n",
    "        return None\n",
    "    else:\n",
    "        return book_date"
   ]
  },
  {
   "cell_type": "code",
   "execution_count": 158,
   "metadata": {},
   "outputs": [
    {
     "data": {
      "text/plain": [
       "'domingo, 8 de noviembre'"
      ]
     },
     "execution_count": 158,
     "metadata": {},
     "output_type": "execute_result"
    }
   ],
   "source": [
    "get_book_date(books[1])"
   ]
  },
  {
   "cell_type": "code",
   "execution_count": 159,
   "metadata": {},
   "outputs": [],
   "source": [
    "get_book_date(books[2])"
   ]
  },
  {
   "cell_type": "code",
   "execution_count": 160,
   "metadata": {},
   "outputs": [
    {
     "data": {
      "text/plain": [
       "'domingo, 8 de noviembre'"
      ]
     },
     "execution_count": 160,
     "metadata": {},
     "output_type": "execute_result"
    }
   ],
   "source": [
    "get_book_date(books[3])"
   ]
  },
  {
   "cell_type": "markdown",
   "metadata": {},
   "source": [
    "#### Creating a DataFrame with the data"
   ]
  },
  {
   "cell_type": "code",
   "execution_count": 161,
   "metadata": {},
   "outputs": [
    {
     "ename": "AttributeError",
     "evalue": "'NoneType' object has no attribute 'text'",
     "output_type": "error",
     "traceback": [
      "\u001b[0;31m---------------------------------------------------------------------------\u001b[0m",
      "\u001b[0;31mAttributeError\u001b[0m                            Traceback (most recent call last)",
      "\u001b[0;32m<ipython-input-161-42ec4e1069fa>\u001b[0m in \u001b[0;36m<module>\u001b[0;34m\u001b[0m\n\u001b[1;32m      4\u001b[0m     book_dict = {\n\u001b[1;32m      5\u001b[0m         \u001b[0;34m\"title\"\u001b[0m\u001b[0;34m:\u001b[0m \u001b[0mget_book_name\u001b[0m\u001b[0;34m(\u001b[0m\u001b[0mbook\u001b[0m\u001b[0;34m)\u001b[0m\u001b[0;34m,\u001b[0m\u001b[0;34m\u001b[0m\u001b[0;34m\u001b[0m\u001b[0m\n\u001b[0;32m----> 6\u001b[0;31m         \u001b[0;34m\"price\"\u001b[0m\u001b[0;34m:\u001b[0m \u001b[0mget_book_price\u001b[0m\u001b[0;34m(\u001b[0m\u001b[0mbook\u001b[0m\u001b[0;34m)\u001b[0m\u001b[0;34m,\u001b[0m\u001b[0;34m\u001b[0m\u001b[0;34m\u001b[0m\u001b[0m\n\u001b[0m\u001b[1;32m      7\u001b[0m         \u001b[0;34m\"date\"\u001b[0m\u001b[0;34m:\u001b[0m \u001b[0mget_book_date\u001b[0m\u001b[0;34m(\u001b[0m\u001b[0mbook\u001b[0m\u001b[0;34m)\u001b[0m\u001b[0;34m\u001b[0m\u001b[0;34m\u001b[0m\u001b[0m\n\u001b[1;32m      8\u001b[0m     }\n",
      "\u001b[0;32m<ipython-input-136-8884844123a2>\u001b[0m in \u001b[0;36mget_book_price\u001b[0;34m(book_tag)\u001b[0m\n\u001b[1;32m      8\u001b[0m     \"\"\"\n\u001b[1;32m      9\u001b[0m     \u001b[0mbook_price_tag\u001b[0m \u001b[0;34m=\u001b[0m \u001b[0mbook_tag\u001b[0m\u001b[0;34m.\u001b[0m\u001b[0mfind\u001b[0m\u001b[0;34m(\u001b[0m\u001b[0;34m\"span\"\u001b[0m\u001b[0;34m,\u001b[0m \u001b[0mclass_\u001b[0m\u001b[0;34m=\u001b[0m\u001b[0;34m\"a-price-whole\"\u001b[0m\u001b[0;34m)\u001b[0m\u001b[0;34m\u001b[0m\u001b[0;34m\u001b[0m\u001b[0m\n\u001b[0;32m---> 10\u001b[0;31m     \u001b[0mbook_price\u001b[0m \u001b[0;34m=\u001b[0m \u001b[0mbook_price_tag\u001b[0m\u001b[0;34m.\u001b[0m\u001b[0mtext\u001b[0m\u001b[0;34m\u001b[0m\u001b[0;34m\u001b[0m\u001b[0m\n\u001b[0m\u001b[1;32m     11\u001b[0m \u001b[0;34m\u001b[0m\u001b[0m\n\u001b[1;32m     12\u001b[0m     \u001b[0;32mreturn\u001b[0m \u001b[0mbook_price\u001b[0m\u001b[0;34m\u001b[0m\u001b[0;34m\u001b[0m\u001b[0m\n",
      "\u001b[0;31mAttributeError\u001b[0m: 'NoneType' object has no attribute 'text'"
     ]
    }
   ],
   "source": [
    "books_info_list = []\n",
    "\n",
    "for book in books:\n",
    "    book_dict = {\n",
    "        \"title\": get_book_name(book),\n",
    "        \"price\": get_book_price(book),\n",
    "        \"date\": get_book_date(book)\n",
    "    }\n",
    "\n",
    "    books_info_list.append(book_dict)"
   ]
  },
  {
   "cell_type": "code",
   "execution_count": 162,
   "metadata": {},
   "outputs": [
    {
     "name": "stdout",
     "output_type": "stream",
     "text": [
      "there was a problem\n",
      "there was a problem\n",
      "there was a problem\n"
     ]
    }
   ],
   "source": [
    "books_info_list = []\n",
    "\n",
    "for book in books:\n",
    "    try:\n",
    "        book_dict = {\n",
    "            \"title\": get_book_name(book),\n",
    "            \"price\": get_book_price(book),\n",
    "            \"date\": get_book_date(book)\n",
    "        }\n",
    "\n",
    "        books_info_list.append(book_dict)\n",
    "    except:\n",
    "        print('there was a problem')"
   ]
  },
  {
   "cell_type": "code",
   "execution_count": 163,
   "metadata": {},
   "outputs": [
    {
     "data": {
      "text/plain": [
       "45"
      ]
     },
     "execution_count": 163,
     "metadata": {},
     "output_type": "execute_result"
    }
   ],
   "source": [
    "len(books_info_list)"
   ]
  },
  {
   "cell_type": "code",
   "execution_count": 164,
   "metadata": {},
   "outputs": [],
   "source": [
    "import pandas as pd"
   ]
  },
  {
   "cell_type": "code",
   "execution_count": 165,
   "metadata": {},
   "outputs": [
    {
     "data": {
      "text/html": [
       "<div>\n",
       "<style scoped>\n",
       "    .dataframe tbody tr th:only-of-type {\n",
       "        vertical-align: middle;\n",
       "    }\n",
       "\n",
       "    .dataframe tbody tr th {\n",
       "        vertical-align: top;\n",
       "    }\n",
       "\n",
       "    .dataframe thead th {\n",
       "        text-align: right;\n",
       "    }\n",
       "</style>\n",
       "<table border=\"1\" class=\"dataframe\">\n",
       "  <thead>\n",
       "    <tr style=\"text-align: right;\">\n",
       "      <th></th>\n",
       "      <th>title</th>\n",
       "      <th>price</th>\n",
       "      <th>date</th>\n",
       "    </tr>\n",
       "  </thead>\n",
       "  <tbody>\n",
       "    <tr>\n",
       "      <th>0</th>\n",
       "      <td>Python Crash Course: A Hands-On, Project-Based...</td>\n",
       "      <td>31,01</td>\n",
       "      <td>domingo, 8 de noviembre</td>\n",
       "    </tr>\n",
       "    <tr>\n",
       "      <th>1</th>\n",
       "      <td>Let Us Python: Python Is Future, Embrace It Fast</td>\n",
       "      <td>18,71</td>\n",
       "      <td>domingo, 8 de noviembre</td>\n",
       "    </tr>\n",
       "    <tr>\n",
       "      <th>2</th>\n",
       "      <td>Python: 6 Books in 1:  ",
       "The Ultimate Bible to L...</td>\n",
       "      <td>0,00</td>\n",
       "      <td>None</td>\n",
       "    </tr>\n",
       "    <tr>\n",
       "      <th>3</th>\n",
       "      <td>LEARNING PYTHON: 3 Books in 1: Ultimate Beginn...</td>\n",
       "      <td>19,45</td>\n",
       "      <td>domingo, 8 de noviembre</td>\n",
       "    </tr>\n",
       "    <tr>\n",
       "      <th>4</th>\n",
       "      <td>Fluent Python: Clear, Concise, and Effective P...</td>\n",
       "      <td>40,43</td>\n",
       "      <td>sábado, 7 de noviembre</td>\n",
       "    </tr>\n",
       "    <tr>\n",
       "      <th>5</th>\n",
       "      <td>PYTHON: 2 books in 1 : Learn python programmin...</td>\n",
       "      <td>0,00</td>\n",
       "      <td>None</td>\n",
       "    </tr>\n",
       "    <tr>\n",
       "      <th>6</th>\n",
       "      <td>Python: 3 books in 1: Beginner’s guide, Data s...</td>\n",
       "      <td>0,00</td>\n",
       "      <td>None</td>\n",
       "    </tr>\n",
       "    <tr>\n",
       "      <th>7</th>\n",
       "      <td>Python: 3 Manuscripts in 1 book: - Python Prog...</td>\n",
       "      <td>8,75</td>\n",
       "      <td>None</td>\n",
       "    </tr>\n",
       "    <tr>\n",
       "      <th>8</th>\n",
       "      <td>Python for Data Science: 2 Books in 1. A Pract...</td>\n",
       "      <td>24,95</td>\n",
       "      <td>domingo, 8 de noviembre</td>\n",
       "    </tr>\n",
       "    <tr>\n",
       "      <th>9</th>\n",
       "      <td>Learning Python: Powerful Object-Oriented Prog...</td>\n",
       "      <td>49,08</td>\n",
       "      <td>sábado, 7 de noviembre</td>\n",
       "    </tr>\n",
       "    <tr>\n",
       "      <th>10</th>\n",
       "      <td>Python: This Book Includes: Learn Python Progr...</td>\n",
       "      <td>22,88</td>\n",
       "      <td>domingo, 8 de noviembre</td>\n",
       "    </tr>\n",
       "    <tr>\n",
       "      <th>11</th>\n",
       "      <td>PYTHON PROGRAMMING: 3 BOOKS IN 1: The Complete...</td>\n",
       "      <td>29,99</td>\n",
       "      <td>domingo, 8 de noviembre</td>\n",
       "    </tr>\n",
       "    <tr>\n",
       "      <th>12</th>\n",
       "      <td>Machine Learning: 4 Books in 1: Basic Concepts...</td>\n",
       "      <td>28,05</td>\n",
       "      <td>domingo, 8 de noviembre</td>\n",
       "    </tr>\n",
       "    <tr>\n",
       "      <th>13</th>\n",
       "      <td>Dive Into Python 3 (Books for Professionals by...</td>\n",
       "      <td>42,38</td>\n",
       "      <td>domingo, 8 de noviembre</td>\n",
       "    </tr>\n",
       "    <tr>\n",
       "      <th>14</th>\n",
       "      <td>A Student's Guide to Python for Physical Model...</td>\n",
       "      <td>25,24</td>\n",
       "      <td>sábado, 7 de noviembre</td>\n",
       "    </tr>\n",
       "    <tr>\n",
       "      <th>15</th>\n",
       "      <td>Coding Games: A Comprehensive Beginners Guide ...</td>\n",
       "      <td>0,00</td>\n",
       "      <td>None</td>\n",
       "    </tr>\n",
       "    <tr>\n",
       "      <th>16</th>\n",
       "      <td>Coding for Kids: Python: Learn to Code with 50...</td>\n",
       "      <td>0,00</td>\n",
       "      <td>None</td>\n",
       "    </tr>\n",
       "    <tr>\n",
       "      <th>17</th>\n",
       "      <td>Day Trading Starter Guide : The Simplified Gui...</td>\n",
       "      <td>0,00</td>\n",
       "      <td>None</td>\n",
       "    </tr>\n",
       "    <tr>\n",
       "      <th>18</th>\n",
       "      <td>Python Crash Course: The Step by Step Python f...</td>\n",
       "      <td>7,02</td>\n",
       "      <td>domingo, 8 de noviembre</td>\n",
       "    </tr>\n",
       "    <tr>\n",
       "      <th>19</th>\n",
       "      <td>Monty Python's Big Red Book</td>\n",
       "      <td>22,51</td>\n",
       "      <td>domingo, 8 de noviembre</td>\n",
       "    </tr>\n",
       "    <tr>\n",
       "      <th>20</th>\n",
       "      <td>Foundations of Python Network Programming: The...</td>\n",
       "      <td>31,98</td>\n",
       "      <td>None</td>\n",
       "    </tr>\n",
       "    <tr>\n",
       "      <th>21</th>\n",
       "      <td>Learn Python in One Day and Learn It Well (2nd...</td>\n",
       "      <td>11,14</td>\n",
       "      <td>domingo, 8 de noviembre</td>\n",
       "    </tr>\n",
       "    <tr>\n",
       "      <th>22</th>\n",
       "      <td>PYTHON: 2 Books in 1: Python Programming &amp; Dat...</td>\n",
       "      <td>0,00</td>\n",
       "      <td>None</td>\n",
       "    </tr>\n",
       "    <tr>\n",
       "      <th>23</th>\n",
       "      <td>Hands-on Machine Learning with Scikit-Learn, K...</td>\n",
       "      <td>54,47</td>\n",
       "      <td>sábado, 7 de noviembre</td>\n",
       "    </tr>\n",
       "    <tr>\n",
       "      <th>24</th>\n",
       "      <td>Python for Data Science: Step-by-Step Crash Co...</td>\n",
       "      <td>15,51</td>\n",
       "      <td>domingo, 8 de noviembre</td>\n",
       "    </tr>\n",
       "    <tr>\n",
       "      <th>25</th>\n",
       "      <td>PYTHON: 2 BOOKS IN 1: Dive into Data Science a...</td>\n",
       "      <td>19,73</td>\n",
       "      <td>domingo, 8 de noviembre</td>\n",
       "    </tr>\n",
       "    <tr>\n",
       "      <th>26</th>\n",
       "      <td>Think Python: How to Think Like a Computer Sci...</td>\n",
       "      <td>34,39</td>\n",
       "      <td>sábado, 7 de noviembre</td>\n",
       "    </tr>\n",
       "    <tr>\n",
       "      <th>27</th>\n",
       "      <td>The Pythons' Autobiography By The Pythons</td>\n",
       "      <td>15,35</td>\n",
       "      <td>sábado, 7 de noviembre</td>\n",
       "    </tr>\n",
       "    <tr>\n",
       "      <th>28</th>\n",
       "      <td>JAVA AND PYTHON FOR BEGINNERS:  2 BOOKS IN 1 -...</td>\n",
       "      <td>0,00</td>\n",
       "      <td>None</td>\n",
       "    </tr>\n",
       "    <tr>\n",
       "      <th>29</th>\n",
       "      <td>Python Programming: 3 Books in 1: Data Science...</td>\n",
       "      <td>0,00</td>\n",
       "      <td>None</td>\n",
       "    </tr>\n",
       "    <tr>\n",
       "      <th>30</th>\n",
       "      <td>Data Science with Python: Beginners Guide to D...</td>\n",
       "      <td>0,00</td>\n",
       "      <td>None</td>\n",
       "    </tr>\n",
       "    <tr>\n",
       "      <th>31</th>\n",
       "      <td>Aprende Python en un fin de semana</td>\n",
       "      <td>8,99</td>\n",
       "      <td>sábado, 7 de noviembre</td>\n",
       "    </tr>\n",
       "    <tr>\n",
       "      <th>32</th>\n",
       "      <td>Python for Data Analysis: Data Wrangling with ...</td>\n",
       "      <td>39,62</td>\n",
       "      <td>sábado, 7 de noviembre</td>\n",
       "    </tr>\n",
       "    <tr>\n",
       "      <th>33</th>\n",
       "      <td>Python Cookbook: Recipes for Mastering Python 3</td>\n",
       "      <td>40,34</td>\n",
       "      <td>sábado, 7 de noviembre</td>\n",
       "    </tr>\n",
       "    <tr>\n",
       "      <th>34</th>\n",
       "      <td>Programming for Computations - Python: A Gentl...</td>\n",
       "      <td>0,00</td>\n",
       "      <td>None</td>\n",
       "    </tr>\n",
       "    <tr>\n",
       "      <th>35</th>\n",
       "      <td>Coding in Python: Tips and Tricks to Coding wi...</td>\n",
       "      <td>0,00</td>\n",
       "      <td>None</td>\n",
       "    </tr>\n",
       "    <tr>\n",
       "      <th>36</th>\n",
       "      <td>Trading Evolved: Anyone can Build Killer Tradi...</td>\n",
       "      <td>37,17</td>\n",
       "      <td>domingo, 8 de noviembre</td>\n",
       "    </tr>\n",
       "    <tr>\n",
       "      <th>37</th>\n",
       "      <td>IoT con Raspberry Pi: Node-RED y MQTT, control...</td>\n",
       "      <td>41,60</td>\n",
       "      <td>domingo, 8 de noviembre</td>\n",
       "    </tr>\n",
       "    <tr>\n",
       "      <th>38</th>\n",
       "      <td>Introduction to Machine Learning with Python: ...</td>\n",
       "      <td>39,47</td>\n",
       "      <td>sábado, 7 de noviembre</td>\n",
       "    </tr>\n",
       "    <tr>\n",
       "      <th>39</th>\n",
       "      <td>Automate the Boring Stuff with Python: Practic...</td>\n",
       "      <td>16,21</td>\n",
       "      <td>None</td>\n",
       "    </tr>\n",
       "    <tr>\n",
       "      <th>40</th>\n",
       "      <td>Python: 3 Books in 1 : Machine Learning, Pytho...</td>\n",
       "      <td>0,00</td>\n",
       "      <td>None</td>\n",
       "    </tr>\n",
       "    <tr>\n",
       "      <th>41</th>\n",
       "      <td>PYTHON PROGRAMMING CRASH COURSE: HOW TO LEARN ...</td>\n",
       "      <td>17,04</td>\n",
       "      <td>domingo, 8 de noviembre</td>\n",
       "    </tr>\n",
       "    <tr>\n",
       "      <th>42</th>\n",
       "      <td>PYTHON PROGRAMMING: 3 BOOKS IN 1 Learn machine...</td>\n",
       "      <td>17,74</td>\n",
       "      <td>domingo, 8 de noviembre</td>\n",
       "    </tr>\n",
       "    <tr>\n",
       "      <th>43</th>\n",
       "      <td>Coding Games: Tips and Tricks to Master the Ke...</td>\n",
       "      <td>0,00</td>\n",
       "      <td>None</td>\n",
       "    </tr>\n",
       "    <tr>\n",
       "      <th>44</th>\n",
       "      <td>Deep Learning Models explored with help of Pyt...</td>\n",
       "      <td>70,99</td>\n",
       "      <td>domingo, 8 de noviembre</td>\n",
       "    </tr>\n",
       "  </tbody>\n",
       "</table>\n",
       "</div>"
      ],
      "text/plain": [
       "                                                title  price  \\\n",
       "0   Python Crash Course: A Hands-On, Project-Based...  31,01   \n",
       "1    Let Us Python: Python Is Future, Embrace It Fast  18,71   \n",
       "2   Python: 6 Books in 1: \n",
       "The Ultimate Bible to L...   0,00   \n",
       "3   LEARNING PYTHON: 3 Books in 1: Ultimate Beginn...  19,45   \n",
       "4   Fluent Python: Clear, Concise, and Effective P...  40,43   \n",
       "5   PYTHON: 2 books in 1 : Learn python programmin...   0,00   \n",
       "6   Python: 3 books in 1: Beginner’s guide, Data s...   0,00   \n",
       "7   Python: 3 Manuscripts in 1 book: - Python Prog...   8,75   \n",
       "8   Python for Data Science: 2 Books in 1. A Pract...  24,95   \n",
       "9   Learning Python: Powerful Object-Oriented Prog...  49,08   \n",
       "10  Python: This Book Includes: Learn Python Progr...  22,88   \n",
       "11  PYTHON PROGRAMMING: 3 BOOKS IN 1: The Complete...  29,99   \n",
       "12  Machine Learning: 4 Books in 1: Basic Concepts...  28,05   \n",
       "13  Dive Into Python 3 (Books for Professionals by...  42,38   \n",
       "14  A Student's Guide to Python for Physical Model...  25,24   \n",
       "15  Coding Games: A Comprehensive Beginners Guide ...   0,00   \n",
       "16  Coding for Kids: Python: Learn to Code with 50...   0,00   \n",
       "17  Day Trading Starter Guide : The Simplified Gui...   0,00   \n",
       "18  Python Crash Course: The Step by Step Python f...   7,02   \n",
       "19                        Monty Python's Big Red Book  22,51   \n",
       "20  Foundations of Python Network Programming: The...  31,98   \n",
       "21  Learn Python in One Day and Learn It Well (2nd...  11,14   \n",
       "22  PYTHON: 2 Books in 1: Python Programming & Dat...   0,00   \n",
       "23  Hands-on Machine Learning with Scikit-Learn, K...  54,47   \n",
       "24  Python for Data Science: Step-by-Step Crash Co...  15,51   \n",
       "25  PYTHON: 2 BOOKS IN 1: Dive into Data Science a...  19,73   \n",
       "26  Think Python: How to Think Like a Computer Sci...  34,39   \n",
       "27          The Pythons' Autobiography By The Pythons  15,35   \n",
       "28  JAVA AND PYTHON FOR BEGINNERS:  2 BOOKS IN 1 -...   0,00   \n",
       "29  Python Programming: 3 Books in 1: Data Science...   0,00   \n",
       "30  Data Science with Python: Beginners Guide to D...   0,00   \n",
       "31                 Aprende Python en un fin de semana   8,99   \n",
       "32  Python for Data Analysis: Data Wrangling with ...  39,62   \n",
       "33    Python Cookbook: Recipes for Mastering Python 3  40,34   \n",
       "34  Programming for Computations - Python: A Gentl...   0,00   \n",
       "35  Coding in Python: Tips and Tricks to Coding wi...   0,00   \n",
       "36  Trading Evolved: Anyone can Build Killer Tradi...  37,17   \n",
       "37  IoT con Raspberry Pi: Node-RED y MQTT, control...  41,60   \n",
       "38  Introduction to Machine Learning with Python: ...  39,47   \n",
       "39  Automate the Boring Stuff with Python: Practic...  16,21   \n",
       "40  Python: 3 Books in 1 : Machine Learning, Pytho...   0,00   \n",
       "41  PYTHON PROGRAMMING CRASH COURSE: HOW TO LEARN ...  17,04   \n",
       "42  PYTHON PROGRAMMING: 3 BOOKS IN 1 Learn machine...  17,74   \n",
       "43  Coding Games: Tips and Tricks to Master the Ke...   0,00   \n",
       "44  Deep Learning Models explored with help of Pyt...  70,99   \n",
       "\n",
       "                       date  \n",
       "0   domingo, 8 de noviembre  \n",
       "1   domingo, 8 de noviembre  \n",
       "2                      None  \n",
       "3   domingo, 8 de noviembre  \n",
       "4    sábado, 7 de noviembre  \n",
       "5                      None  \n",
       "6                      None  \n",
       "7                      None  \n",
       "8   domingo, 8 de noviembre  \n",
       "9    sábado, 7 de noviembre  \n",
       "10  domingo, 8 de noviembre  \n",
       "11  domingo, 8 de noviembre  \n",
       "12  domingo, 8 de noviembre  \n",
       "13  domingo, 8 de noviembre  \n",
       "14   sábado, 7 de noviembre  \n",
       "15                     None  \n",
       "16                     None  \n",
       "17                     None  \n",
       "18  domingo, 8 de noviembre  \n",
       "19  domingo, 8 de noviembre  \n",
       "20                     None  \n",
       "21  domingo, 8 de noviembre  \n",
       "22                     None  \n",
       "23   sábado, 7 de noviembre  \n",
       "24  domingo, 8 de noviembre  \n",
       "25  domingo, 8 de noviembre  \n",
       "26   sábado, 7 de noviembre  \n",
       "27   sábado, 7 de noviembre  \n",
       "28                     None  \n",
       "29                     None  \n",
       "30                     None  \n",
       "31   sábado, 7 de noviembre  \n",
       "32   sábado, 7 de noviembre  \n",
       "33   sábado, 7 de noviembre  \n",
       "34                     None  \n",
       "35                     None  \n",
       "36  domingo, 8 de noviembre  \n",
       "37  domingo, 8 de noviembre  \n",
       "38   sábado, 7 de noviembre  \n",
       "39                     None  \n",
       "40                     None  \n",
       "41  domingo, 8 de noviembre  \n",
       "42  domingo, 8 de noviembre  \n",
       "43                     None  \n",
       "44  domingo, 8 de noviembre  "
      ]
     },
     "execution_count": 165,
     "metadata": {},
     "output_type": "execute_result"
    }
   ],
   "source": [
    "pd.DataFrame(books_info_list)"
   ]
  },
  {
   "cell_type": "markdown",
   "metadata": {},
   "source": [
    "### Advanced"
   ]
  },
  {
   "cell_type": "markdown",
   "metadata": {},
   "source": [
    "We can use generic selectors to do the same findings as before:"
   ]
  },
  {
   "cell_type": "markdown",
   "metadata": {},
   "source": [
    "For this we use `select` method, which is more generic than `find` or `find_all`"
   ]
  },
  {
   "cell_type": "markdown",
   "metadata": {},
   "source": [
    "The two following are equivalent"
   ]
  },
  {
   "cell_type": "code",
   "execution_count": 169,
   "metadata": {},
   "outputs": [],
   "source": [
    "possible_books = soup.find_all(name=\"div\", class_=\"sg-col-inner\")"
   ]
  },
  {
   "cell_type": "code",
   "execution_count": 170,
   "metadata": {},
   "outputs": [],
   "source": [
    "possible_books2 = soup.select(\"div.sg-col-inner\")"
   ]
  },
  {
   "cell_type": "code",
   "execution_count": 171,
   "metadata": {},
   "outputs": [
    {
     "data": {
      "text/plain": [
       "True"
      ]
     },
     "execution_count": 171,
     "metadata": {},
     "output_type": "execute_result"
    }
   ],
   "source": [
    "possible_books == possible_books2"
   ]
  },
  {
   "cell_type": "markdown",
   "metadata": {},
   "source": [
    "We can use CSS selectors to find in a more specific way:\n",
    " * descendant selectors\n",
    " * combined selectors\n",
    " * siblings\n",
    " * has attribute\n",
    " * ..."
   ]
  },
  {
   "cell_type": "markdown",
   "metadata": {},
   "source": [
    "`soup.select(\"tagname1 tagname2\")` tag 2 inside tag 2"
   ]
  },
  {
   "cell_type": "code",
   "execution_count": 184,
   "metadata": {},
   "outputs": [
    {
     "data": {
      "text/plain": [
       "526"
      ]
     },
     "execution_count": 184,
     "metadata": {},
     "output_type": "execute_result"
    }
   ],
   "source": [
    "len(soup.select(\"a\"))"
   ]
  },
  {
   "cell_type": "code",
   "execution_count": 186,
   "metadata": {},
   "outputs": [
    {
     "data": {
      "text/plain": [
       "424"
      ]
     },
     "execution_count": 186,
     "metadata": {},
     "output_type": "execute_result"
    }
   ],
   "source": [
    "len(soup.select(\"span a\"))"
   ]
  },
  {
   "cell_type": "code",
   "execution_count": 190,
   "metadata": {},
   "outputs": [
    {
     "data": {
      "text/plain": [
       "184"
      ]
     },
     "execution_count": 190,
     "metadata": {},
     "output_type": "execute_result"
    }
   ],
   "source": [
    "len(soup.select(\"span span span a\"))"
   ]
  },
  {
   "cell_type": "code",
   "execution_count": 194,
   "metadata": {},
   "outputs": [
    {
     "data": {
      "text/plain": [
       "43"
      ]
     },
     "execution_count": 194,
     "metadata": {},
     "output_type": "execute_result"
    }
   ],
   "source": [
    "len(soup.select(\"span span span span a\"))"
   ]
  },
  {
   "cell_type": "markdown",
   "metadata": {},
   "source": [
    "`soup.select(\".classname\")`"
   ]
  },
  {
   "cell_type": "code",
   "execution_count": 198,
   "metadata": {},
   "outputs": [
    {
     "data": {
      "text/plain": [
       "45"
      ]
     },
     "execution_count": 198,
     "metadata": {},
     "output_type": "execute_result"
    }
   ],
   "source": [
    "len(soup.select(\".a-price-whole\"))"
   ]
  },
  {
   "cell_type": "markdown",
   "metadata": {},
   "source": [
    "`soup.select(\"tagname.classname\")`"
   ]
  },
  {
   "cell_type": "code",
   "execution_count": 199,
   "metadata": {},
   "outputs": [
    {
     "data": {
      "text/plain": [
       "0"
      ]
     },
     "execution_count": 199,
     "metadata": {},
     "output_type": "execute_result"
    }
   ],
   "source": [
    "len(soup.select(\"div.a-price-whole\"))"
   ]
  },
  {
   "cell_type": "code",
   "execution_count": 200,
   "metadata": {},
   "outputs": [
    {
     "data": {
      "text/plain": [
       "45"
      ]
     },
     "execution_count": 200,
     "metadata": {},
     "output_type": "execute_result"
    }
   ],
   "source": [
    "len(soup.select(\"span.a-price-whole\"))"
   ]
  },
  {
   "cell_type": "code",
   "execution_count": 200,
   "metadata": {},
   "outputs": [
    {
     "data": {
      "text/plain": [
       "45"
      ]
     },
     "execution_count": 200,
     "metadata": {},
     "output_type": "execute_result"
    }
   ],
   "source": [
    "len(soup.select(\"span.a-price-whole\"))"
   ]
  },
  {
   "cell_type": "markdown",
   "metadata": {},
   "source": [
    "[Beautiful Soup selectors](https://www.crummy.com/software/BeautifulSoup/bs4/doc/)"
   ]
  },
  {
   "cell_type": "markdown",
   "metadata": {},
   "source": [
    "### Exercise"
   ]
  },
  {
   "cell_type": "markdown",
   "metadata": {},
   "source": [
    "Can we just change the url \"https://www.amazon.es/s?k=python+books\" to do analogous findings?  "
   ]
  },
  {
   "cell_type": "markdown",
   "metadata": {},
   "source": [
    "## Comments"
   ]
  },
  {
   "cell_type": "markdown",
   "metadata": {},
   "source": [
    "Always try and find if there is an **API** instead of scraping, because:\n",
    " * much easier\n",
    " * well documented\n",
    " * preferred by server"
   ]
  },
  {
   "cell_type": "markdown",
   "metadata": {},
   "source": [
    "[Beautiful Soup documentation](https://www.crummy.com/software/BeautifulSoup/bs4/doc/)"
   ]
  },
  {
   "cell_type": "markdown",
   "metadata": {},
   "source": [
    "## Summary"
   ]
  },
  {
   "cell_type": "markdown",
   "metadata": {},
   "source": [
    " * Webs are build with HTML, CSS, JavaScript\n",
    " * HTML has the content. We scrape HTML\n",
    " * `requests` to `get` the HTML\n",
    " * `Beautiful Soup` to programatically analyse the HTML"
   ]
  },
  {
   "cell_type": "markdown",
   "metadata": {},
   "source": [
    " * HTML is hierarchical\n",
    " * HTML uses tags\n",
    " * HTML tags have attributes\n",
    " * We find tags by tagname, class name, id name, or other attributes name\n",
    " * We can use CSS selectors to select in very complex ways"
   ]
  },
  {
   "cell_type": "markdown",
   "metadata": {},
   "source": [
    "* Hint yourself by using `document.querySelectorAll('a').forEach(elm => elm.style.background = 'red'` or similar"
   ]
  },
  {
   "cell_type": "markdown",
   "metadata": {},
   "source": [
    "## Further materials"
   ]
  },
  {
   "cell_type": "markdown",
   "metadata": {},
   "source": [
    "[Web archive](http://web.archive.org/): find historical webpages state in the past!!"
   ]
  }
 ],
 "metadata": {
  "kernelspec": {
   "display_name": "Python 3",
   "language": "python",
   "name": "python3"
  },
  "language_info": {
   "codemirror_mode": {
    "name": "ipython",
    "version": 3
   },
   "file_extension": ".py",
   "mimetype": "text/x-python",
   "name": "python",
   "nbconvert_exporter": "python",
   "pygments_lexer": "ipython3",
   "version": "3.8.5"
  },
  "toc": {
   "base_numbering": 1,
   "nav_menu": {},
   "number_sections": true,
   "sideBar": true,
   "skip_h1_title": true,
   "title_cell": "Table of Contents",
   "title_sidebar": "Contents",
   "toc_cell": true,
   "toc_position": {},
   "toc_section_display": true,
   "toc_window_display": true
  },
  "varInspector": {
   "cols": {
    "lenName": 16,
    "lenType": 16,
    "lenVar": 40
   },
   "kernels_config": {
    "python": {
     "delete_cmd_postfix": "",
     "delete_cmd_prefix": "del ",
     "library": "var_list.py",
     "varRefreshCmd": "print(var_dic_list())"
    },
    "r": {
     "delete_cmd_postfix": ") ",
     "delete_cmd_prefix": "rm(",
     "library": "var_list.r",
     "varRefreshCmd": "cat(var_dic_list()) "
    }
   },
   "types_to_exclude": [
    "module",
    "function",
    "builtin_function_or_method",
    "instance",
    "_Feature"
   ],
   "window_display": false
  }
 },
 "nbformat": 4,
 "nbformat_minor": 4
}
