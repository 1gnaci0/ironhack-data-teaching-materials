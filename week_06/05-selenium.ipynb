{
 "cells": [
  {
   "cell_type": "markdown",
   "metadata": {
    "toc": true
   },
   "source": [
    "<h1>Table of Contents<span class=\"tocSkip\"></span></h1>\n",
    "<div class=\"toc\"><ul class=\"toc-item\"><li><span><a href=\"#Webdriver\" data-toc-modified-id=\"Webdriver-1\"><span class=\"toc-item-num\">1&nbsp;&nbsp;</span>Webdriver</a></span></li><li><span><a href=\"#The-use-case\" data-toc-modified-id=\"The-use-case-2\"><span class=\"toc-item-num\">2&nbsp;&nbsp;</span>The use case</a></span><ul class=\"toc-item\"><li><span><a href=\"#Access-application-form\" data-toc-modified-id=\"Access-application-form-2.1\"><span class=\"toc-item-num\">2.1&nbsp;&nbsp;</span>Access application form</a></span></li><li><span><a href=\"#Fill-in-the-fields\" data-toc-modified-id=\"Fill-in-the-fields-2.2\"><span class=\"toc-item-num\">2.2&nbsp;&nbsp;</span>Fill in the fields</a></span></li><li><span><a href=\"#Solve-captcha\" data-toc-modified-id=\"Solve-captcha-2.3\"><span class=\"toc-item-num\">2.3&nbsp;&nbsp;</span>Solve captcha</a></span></li><li><span><a href=\"#Choose-option\" data-toc-modified-id=\"Choose-option-2.4\"><span class=\"toc-item-num\">2.4&nbsp;&nbsp;</span>Choose option</a></span></li></ul></li><li><span><a href=\"#Modularization:-create-a-class-with-methods\" data-toc-modified-id=\"Modularization:-create-a-class-with-methods-3\"><span class=\"toc-item-num\">3&nbsp;&nbsp;</span>Modularization: create a class with methods</a></span></li><li><span><a href=\"#Orchestration\" data-toc-modified-id=\"Orchestration-4\"><span class=\"toc-item-num\">4&nbsp;&nbsp;</span>Orchestration</a></span><ul class=\"toc-item\"><li><span><a href=\"#Run-the-process-once\" data-toc-modified-id=\"Run-the-process-once-4.1\"><span class=\"toc-item-num\">4.1&nbsp;&nbsp;</span>Run the process once</a></span><ul class=\"toc-item\"><li><span><a href=\"#Prepare-an-alarm\" data-toc-modified-id=\"Prepare-an-alarm-4.1.1\"><span class=\"toc-item-num\">4.1.1&nbsp;&nbsp;</span>Prepare an alarm</a></span></li></ul></li></ul></li></ul></div>"
   ]
  },
  {
   "cell_type": "markdown",
   "metadata": {},
   "source": [
    "# Selenium"
   ]
  },
  {
   "cell_type": "markdown",
   "metadata": {},
   "source": [
    "`selenium` is a Python library that lets me surf the Internet automatically"
   ]
  },
  {
   "cell_type": "code",
   "execution_count": 1,
   "metadata": {},
   "outputs": [],
   "source": [
    "from selenium import webdriver"
   ]
  },
  {
   "cell_type": "markdown",
   "metadata": {},
   "source": [
    "A robot is veeeery fast. We need to calm him down, because the Internet has not infinite velocity"
   ]
  },
  {
   "cell_type": "code",
   "execution_count": 2,
   "metadata": {},
   "outputs": [],
   "source": [
    "from time import sleep"
   ]
  },
  {
   "cell_type": "code",
   "execution_count": 4,
   "metadata": {},
   "outputs": [
    {
     "name": "stdout",
     "output_type": "stream",
     "text": [
      "hola\n",
      "adios\n"
     ]
    }
   ],
   "source": [
    "print(\"hola\")\n",
    "sleep(1)\n",
    "print(\"adios\")"
   ]
  },
  {
   "cell_type": "markdown",
   "metadata": {},
   "source": [
    "## Webdriver"
   ]
  },
  {
   "cell_type": "markdown",
   "metadata": {},
   "source": [
    "I need a Chrome **webdriver** to let Python use Chrome browser: [Link](https://chromedriver.chromium.org/downloads)"
   ]
  },
  {
   "cell_type": "markdown",
   "metadata": {},
   "source": [
    "Lets initialize the robot and play with it"
   ]
  },
  {
   "cell_type": "code",
   "execution_count": 94,
   "metadata": {},
   "outputs": [],
   "source": [
    "driver = webdriver.Chrome(\"./chromedriver\")"
   ]
  },
  {
   "cell_type": "code",
   "execution_count": 91,
   "metadata": {},
   "outputs": [],
   "source": [
    "driver.get(\"https://www.elpais.es\")"
   ]
  },
  {
   "cell_type": "code",
   "execution_count": 92,
   "metadata": {},
   "outputs": [],
   "source": [
    "boton = driver.find_elements_by_css_selector(\"div div button span\")[1]"
   ]
  },
  {
   "cell_type": "code",
   "execution_count": 93,
   "metadata": {},
   "outputs": [
    {
     "data": {
      "text/plain": [
       "<selenium.webdriver.remote.webelement.WebElement (session=\"e4bbd37e0089b26aa40c25befc9741d2\", element=\"861975c3-4eaa-4c62-977a-2069f93aa34e\")>"
      ]
     },
     "execution_count": 93,
     "metadata": {},
     "output_type": "execute_result"
    }
   ],
   "source": [
    "boton"
   ]
  },
  {
   "cell_type": "code",
   "execution_count": 24,
   "metadata": {},
   "outputs": [],
   "source": [
    "boton.click()"
   ]
  },
  {
   "cell_type": "code",
   "execution_count": 25,
   "metadata": {},
   "outputs": [],
   "source": [
    "driver.get(\"https://www.google.com\")"
   ]
  },
  {
   "cell_type": "code",
   "execution_count": 27,
   "metadata": {},
   "outputs": [],
   "source": [
    "buscador = driver.find_element_by_css_selector(\"input.gLFyf.gsfi\")"
   ]
  },
  {
   "cell_type": "code",
   "execution_count": 28,
   "metadata": {},
   "outputs": [],
   "source": [
    "buscador.click()"
   ]
  },
  {
   "cell_type": "code",
   "execution_count": 29,
   "metadata": {},
   "outputs": [],
   "source": [
    "buscador.send_keys(\"ironhack\")"
   ]
  },
  {
   "cell_type": "code",
   "execution_count": 32,
   "metadata": {},
   "outputs": [],
   "source": [
    "from selenium.webdriver.common.keys import Keys"
   ]
  },
  {
   "cell_type": "code",
   "execution_count": 33,
   "metadata": {},
   "outputs": [],
   "source": [
    "buscador.send_keys(Keys.RETURN)"
   ]
  },
  {
   "cell_type": "markdown",
   "metadata": {},
   "source": [
    "## The use case"
   ]
  },
  {
   "cell_type": "markdown",
   "metadata": {},
   "source": [
    "I need an appointment at Seguridad Social: [Link](https://w6.seg-social.es/ProsaInternetAnonimo/OnlineAccess?ARQ.SPM.ACTION=LOGIN&ARQ.SPM.APPTYPE=SERVICE&ARQ.IDAPP=XV106001\"\n",
    ")"
   ]
  },
  {
   "cell_type": "code",
   "execution_count": 95,
   "metadata": {},
   "outputs": [],
   "source": [
    "url = \"https://w6.seg-social.es/ProsaInternetAnonimo/OnlineAccess?ARQ.SPM.ACTION=LOGIN&ARQ.SPM.APPTYPE=SERVICE&ARQ.IDAPP=XV106001\""
   ]
  },
  {
   "cell_type": "markdown",
   "metadata": {},
   "source": [
    "### Access application form"
   ]
  },
  {
   "cell_type": "code",
   "execution_count": 126,
   "metadata": {},
   "outputs": [],
   "source": [
    "driver.get(url)"
   ]
  },
  {
   "cell_type": "code",
   "execution_count": 127,
   "metadata": {},
   "outputs": [],
   "source": [
    "seg_social_square = driver.find_element_by_css_selector(\"div div div input\")"
   ]
  },
  {
   "cell_type": "markdown",
   "metadata": {},
   "source": [
    "Click on it using `.click()`"
   ]
  },
  {
   "cell_type": "code",
   "execution_count": null,
   "metadata": {},
   "outputs": [],
   "source": [
    "seg_social_square.click()"
   ]
  },
  {
   "cell_type": "code",
   "execution_count": 128,
   "metadata": {},
   "outputs": [],
   "source": []
  },
  {
   "cell_type": "markdown",
   "metadata": {},
   "source": [
    " * Web scraping lets us access the static HTML of the webpage\n",
    " * Web **crawling** lets us interact dinamycally with the browser!"
   ]
  },
  {
   "cell_type": "markdown",
   "metadata": {},
   "source": [
    "### Fill in the fields"
   ]
  },
  {
   "cell_type": "code",
   "execution_count": 129,
   "metadata": {},
   "outputs": [],
   "source": [
    "from config import user_data"
   ]
  },
  {
   "cell_type": "code",
   "execution_count": 141,
   "metadata": {},
   "outputs": [],
   "source": [
    "%run config.py"
   ]
  },
  {
   "cell_type": "markdown",
   "metadata": {},
   "source": [
    "Fill it with your information using `.send_keys()`"
   ]
  },
  {
   "cell_type": "code",
   "execution_count": 131,
   "metadata": {},
   "outputs": [],
   "source": [
    "driver.find_element_by_name(\"nombreApellidos\").send_keys(user_data.get(\"name\"))\n",
    "driver.find_element_by_name(\"tipo\").send_keys(\"N\")\n",
    "driver.find_element_by_name(\"numeroDocumento\").send_keys(user_data.get(\"NIF\"))\n",
    "driver.find_element_by_name(\"telefono\").send_keys(user_data.get(\"telf\"))\n",
    "driver.find_element_by_name(\"eMail\").send_keys(user_data.get(\"mail\"))\n",
    "\n",
    "driver.find_element_by_id(\"radioProvincia\").click()\n",
    "driver.find_element_by_name(\"provincia\").send_keys(\"m\")"
   ]
  },
  {
   "cell_type": "markdown",
   "metadata": {},
   "source": [
    "### Solve captcha"
   ]
  },
  {
   "cell_type": "markdown",
   "metadata": {},
   "source": [
    "Get quiz word"
   ]
  },
  {
   "cell_type": "code",
   "execution_count": 136,
   "metadata": {},
   "outputs": [],
   "source": [
    "from random import choice"
   ]
  },
  {
   "cell_type": "code",
   "execution_count": 161,
   "metadata": {},
   "outputs": [],
   "source": [
    "def try_solution():\n",
    "    word = driver.find_element_by_class_name(\"p2\").text[112:]\n",
    "    print(word)\n",
    "    words = driver.find_element_by_xpath('//*[@id=\"ARQcapaPrincipalMensaje\"]/fieldset/p[2]').text.split(\": \")[:-1]\n",
    "    sleep(.4)\n",
    "    print(words)\n",
    "    solution = choice(words)\n",
    "    print(solution)\n",
    "    driver.find_element_by_name(\"ARQ.CAPTCHA\").send_keys(solution)\n",
    "\n",
    "    driver.find_element_by_name(\"SPM.ACC.SIGUIENTE\").click()"
   ]
  },
  {
   "cell_type": "code",
   "execution_count": 147,
   "metadata": {},
   "outputs": [],
   "source": [
    "def hemos_pasado():\n",
    "    try:\n",
    "        driver.find_element_by_class_name(\"p2\")\n",
    "        return False\n",
    "    except:\n",
    "        return True"
   ]
  },
  {
   "cell_type": "code",
   "execution_count": 165,
   "metadata": {},
   "outputs": [],
   "source": [
    "def solve_captha():\n",
    "\n",
    "    while not hemos_pasado():\n",
    "        print(\"probando...\")\n",
    "        try_solution()\n",
    "        sleep(0.5)"
   ]
  },
  {
   "cell_type": "code",
   "execution_count": null,
   "metadata": {},
   "outputs": [],
   "source": []
  },
  {
   "cell_type": "markdown",
   "metadata": {},
   "source": [
    "### Choose option"
   ]
  },
  {
   "cell_type": "code",
   "execution_count": null,
   "metadata": {},
   "outputs": [],
   "source": []
  },
  {
   "cell_type": "code",
   "execution_count": null,
   "metadata": {},
   "outputs": [],
   "source": []
  },
  {
   "cell_type": "markdown",
   "metadata": {},
   "source": [
    "## Modularization: create a class with methods"
   ]
  },
  {
   "cell_type": "code",
   "execution_count": 211,
   "metadata": {},
   "outputs": [],
   "source": [
    "ss = SSocialCrawler(driver, user_data)"
   ]
  },
  {
   "cell_type": "code",
   "execution_count": 212,
   "metadata": {},
   "outputs": [],
   "source": [
    "ss.access_form()"
   ]
  },
  {
   "cell_type": "code",
   "execution_count": 213,
   "metadata": {},
   "outputs": [],
   "source": [
    "ss.fill_fields()"
   ]
  },
  {
   "cell_type": "code",
   "execution_count": 214,
   "metadata": {},
   "outputs": [
    {
     "name": "stdout",
     "output_type": "stream",
     "text": [
      "probando...\n",
      "Figura Geométrica\n",
      "['Escalones', 'Rectángulo', 'Actor', 'Huérfano', 'Pato']\n",
      "Escalones\n",
      "probando...\n",
      "7-2\n",
      "['Tren', 'Cohete', 'Cinco', 'Violeta', 'Amarillo']\n",
      "Violeta\n",
      "probando...\n",
      "Color\n",
      "['Veinte', 'Taladro', 'Vestíbulo', 'Granate', 'Albañil']\n",
      "Taladro\n",
      "probando...\n",
      "27-6\n",
      "['Albañil', 'Hormiga', 'Madrina', 'Veintiuno', 'Uva']\n",
      "Madrina\n",
      "probando...\n",
      "7x4\n",
      "['Veintiocho', 'Esposo', 'Planeador', 'Kiwi', 'Diez']\n",
      "Esposo\n",
      "probando...\n",
      "4-1\n",
      "['Bongó', 'Oveja', 'Cama', 'Tres', 'Lámpara']\n",
      "Lámpara\n",
      "probando...\n",
      "5x6\n",
      "['Treinta', 'Avestruz', 'Bádminton', 'Cubo', 'Pulpo']\n",
      "Avestruz\n",
      "probando...\n",
      "4-1\n",
      "['Piano', 'Balcón', 'Tres', 'Agricultor', 'Broca']\n",
      "Piano\n",
      "probando...\n",
      "Herramientas\n",
      "['Camión', 'Pentágono', 'Submarino', 'Broca', 'Londres']\n",
      "Broca\n"
     ]
    }
   ],
   "source": [
    "ss.solve_captcha()"
   ]
  },
  {
   "cell_type": "code",
   "execution_count": 215,
   "metadata": {},
   "outputs": [],
   "source": [
    "ss.choose_option()"
   ]
  },
  {
   "cell_type": "code",
   "execution_count": 216,
   "metadata": {},
   "outputs": [
    {
     "data": {
      "text/plain": [
       "False"
      ]
     },
     "execution_count": 216,
     "metadata": {},
     "output_type": "execute_result"
    }
   ],
   "source": [
    "ss.check_success()"
   ]
  },
  {
   "cell_type": "code",
   "execution_count": 210,
   "metadata": {},
   "outputs": [],
   "source": [
    "class SSocialCrawler:\n",
    "    # class variable (vs instance variable)\n",
    "    url = \"https://w6.seg-social.es/ProsaInternetAnonimo/OnlineAccess?ARQ.SPM.ACTION=LOGIN&ARQ.SPM.APPTYPE=SERVICE&ARQ.IDAPP=XV106001\"\n",
    "    \n",
    "    def __init__(self, chromedriver, user_data):\n",
    "        self.driver = chromedriver\n",
    "        self.user_data = user_data\n",
    "    \n",
    "    def access_form(self):\n",
    "        self.driver.get(self.url)\n",
    "        seg_social_square = driver.find_element_by_css_selector(\"div div div input\")\n",
    "        seg_social_square.click()\n",
    "    \n",
    "    def fill_fields(self):\n",
    "        driver.find_element_by_name(\"nombreApellidos\").send_keys(self.user_data.get(\"name\"))\n",
    "        driver.find_element_by_name(\"tipo\").send_keys(\"N\")\n",
    "        driver.find_element_by_name(\"numeroDocumento\").send_keys(self.user_data.get(\"NIF\"))\n",
    "        driver.find_element_by_name(\"telefono\").send_keys(self.user_data.get(\"telf\"))\n",
    "        driver.find_element_by_name(\"eMail\").send_keys(self.user_data.get(\"mail\"))\n",
    "\n",
    "        driver.find_element_by_id(\"radioProvincia\").click()\n",
    "        driver.find_element_by_name(\"provincia\").send_keys(\"m\")\n",
    "\n",
    "    def solve_captcha(self):\n",
    "        while not self.hemos_pasado():\n",
    "            print(\"probando...\")\n",
    "            self.try_solution()\n",
    "            sleep(0.5)\n",
    "    \n",
    "    def choose_option(self, option=None):\n",
    "        driver.find_element_by_id(\"335\").click()\n",
    "        driver.find_element_by_name(\"SPM.ACC.CONTINUAR_TRAS_SELECCIONAR_SERVICIO\").click()\n",
    "    \n",
    "    def check_success(self):\n",
    "        try:\n",
    "            campo = driver.find_element_by_css_selector(\"span strong\")\n",
    "            if campo.text == \"Paso 2 de 4. Selección de Servicio.\":\n",
    "                return False\n",
    "            else: \n",
    "                return True\n",
    "        except:\n",
    "            return True\n",
    "    \n",
    "    def try_solution(self):\n",
    "        word = driver.find_element_by_class_name(\"p2\").text[112:]\n",
    "        print(word)\n",
    "        words = driver.find_element_by_css_selector(\"p.p0\").text.split(\": \")[:-1]\n",
    "        sleep(.4)\n",
    "        print(words)\n",
    "        solution = choice(words)\n",
    "        print(solution)\n",
    "        driver.find_element_by_name(\"ARQ.CAPTCHA\").send_keys(solution)\n",
    "\n",
    "        driver.find_element_by_name(\"SPM.ACC.SIGUIENTE\").click()\n",
    "\n",
    "    def hemos_pasado(self):\n",
    "        try:\n",
    "            driver.find_element_by_class_name(\"p2\")\n",
    "            return False\n",
    "        except:\n",
    "            return True\n",
    "    "
   ]
  },
  {
   "cell_type": "markdown",
   "metadata": {},
   "source": [
    "## Orchestration"
   ]
  },
  {
   "cell_type": "markdown",
   "metadata": {},
   "source": [
    "### Run the process once"
   ]
  },
  {
   "cell_type": "code",
   "execution_count": 217,
   "metadata": {},
   "outputs": [],
   "source": [
    "ss = SSocialCrawler(driver, user_data)"
   ]
  },
  {
   "cell_type": "code",
   "execution_count": 218,
   "metadata": {},
   "outputs": [],
   "source": [
    "ss.access_form()"
   ]
  },
  {
   "cell_type": "code",
   "execution_count": 219,
   "metadata": {},
   "outputs": [],
   "source": [
    "ss.fill_fields()"
   ]
  },
  {
   "cell_type": "code",
   "execution_count": 214,
   "metadata": {
    "collapsed": true
   },
   "outputs": [
    {
     "name": "stdout",
     "output_type": "stream",
     "text": [
      "probando...\n",
      "Figura Geométrica\n",
      "['Escalones', 'Rectángulo', 'Actor', 'Huérfano', 'Pato']\n",
      "Escalones\n",
      "probando...\n",
      "7-2\n",
      "['Tren', 'Cohete', 'Cinco', 'Violeta', 'Amarillo']\n",
      "Violeta\n",
      "probando...\n",
      "Color\n",
      "['Veinte', 'Taladro', 'Vestíbulo', 'Granate', 'Albañil']\n",
      "Taladro\n",
      "probando...\n",
      "27-6\n",
      "['Albañil', 'Hormiga', 'Madrina', 'Veintiuno', 'Uva']\n",
      "Madrina\n",
      "probando...\n",
      "7x4\n",
      "['Veintiocho', 'Esposo', 'Planeador', 'Kiwi', 'Diez']\n",
      "Esposo\n",
      "probando...\n",
      "4-1\n",
      "['Bongó', 'Oveja', 'Cama', 'Tres', 'Lámpara']\n",
      "Lámpara\n",
      "probando...\n",
      "5x6\n",
      "['Treinta', 'Avestruz', 'Bádminton', 'Cubo', 'Pulpo']\n",
      "Avestruz\n",
      "probando...\n",
      "4-1\n",
      "['Piano', 'Balcón', 'Tres', 'Agricultor', 'Broca']\n",
      "Piano\n",
      "probando...\n",
      "Herramientas\n",
      "['Camión', 'Pentágono', 'Submarino', 'Broca', 'Londres']\n",
      "Broca\n"
     ]
    }
   ],
   "source": [
    "ss.solve_captcha()"
   ]
  },
  {
   "cell_type": "code",
   "execution_count": 220,
   "metadata": {},
   "outputs": [],
   "source": [
    "ss.choose_option()"
   ]
  },
  {
   "cell_type": "code",
   "execution_count": 221,
   "metadata": {},
   "outputs": [
    {
     "data": {
      "text/plain": [
       "False"
      ]
     },
     "execution_count": 221,
     "metadata": {},
     "output_type": "execute_result"
    }
   ],
   "source": [
    "ss.check_success()"
   ]
  },
  {
   "cell_type": "markdown",
   "metadata": {},
   "source": [
    "Wrap up everything in a function `.run_whole_process`"
   ]
  },
  {
   "cell_type": "markdown",
   "metadata": {},
   "source": [
    "#### Prepare an alarm"
   ]
  },
  {
   "cell_type": "code",
   "execution_count": 228,
   "metadata": {},
   "outputs": [],
   "source": [
    "def get_appointment():\n",
    "    \n",
    "    ss = SSocialCrawler(driver, user_data)\n",
    "\n",
    "    ss.access_form()\n",
    "\n",
    "    ss.fill_fields()\n",
    "\n",
    "    ss.solve_captcha()\n",
    "\n",
    "    while not ss.check_success():\n",
    "        sleep(1)\n",
    "        ss.choose_option()\n",
    "    \n",
    "    effect.play(loops=30)"
   ]
  },
  {
   "cell_type": "code",
   "execution_count": 228,
   "metadata": {},
   "outputs": [],
   "source": [
    "def get_appointment():\n",
    "    \n",
    "    ss = SSocialCrawler(driver, user_data)\n",
    "\n",
    "    ss.access_form()\n",
    "\n",
    "    ss.fill_fields()\n",
    "\n",
    "    ss.solve_captcha()\n",
    "\n",
    "    while not ss.check_success():\n",
    "        sleep(1)\n",
    "        ss.choose_option()\n",
    "    \n",
    "    effect.play(loops=30)"
   ]
  },
  {
   "cell_type": "code",
   "execution_count": 229,
   "metadata": {},
   "outputs": [
    {
     "name": "stdout",
     "output_type": "stream",
     "text": [
      "probando...\n",
      "1+1\n",
      "['Mesa', 'Venecia', 'Dos', 'Blanco', 'Rata']\n",
      "Dos\n"
     ]
    },
    {
     "ename": "KeyboardInterrupt",
     "evalue": "",
     "output_type": "error",
     "traceback": [
      "\u001b[0;31m---------------------------------------------------------------------------\u001b[0m",
      "\u001b[0;31mKeyboardInterrupt\u001b[0m                         Traceback (most recent call last)",
      "\u001b[0;32m<ipython-input-229-09d65bc80528>\u001b[0m in \u001b[0;36m<module>\u001b[0;34m\u001b[0m\n\u001b[0;32m----> 1\u001b[0;31m \u001b[0mget_appointment\u001b[0m\u001b[0;34m(\u001b[0m\u001b[0;34m)\u001b[0m\u001b[0;34m\u001b[0m\u001b[0;34m\u001b[0m\u001b[0m\n\u001b[0m",
      "\u001b[0;32m<ipython-input-228-226d3cd4f4f0>\u001b[0m in \u001b[0;36mget_appointment\u001b[0;34m()\u001b[0m\n\u001b[1;32m     10\u001b[0m \u001b[0;34m\u001b[0m\u001b[0m\n\u001b[1;32m     11\u001b[0m     \u001b[0;32mwhile\u001b[0m \u001b[0;32mnot\u001b[0m \u001b[0mss\u001b[0m\u001b[0;34m.\u001b[0m\u001b[0mcheck_success\u001b[0m\u001b[0;34m(\u001b[0m\u001b[0;34m)\u001b[0m\u001b[0;34m:\u001b[0m\u001b[0;34m\u001b[0m\u001b[0;34m\u001b[0m\u001b[0m\n\u001b[0;32m---> 12\u001b[0;31m         \u001b[0msleep\u001b[0m\u001b[0;34m(\u001b[0m\u001b[0;36m1\u001b[0m\u001b[0;34m)\u001b[0m\u001b[0;34m\u001b[0m\u001b[0;34m\u001b[0m\u001b[0m\n\u001b[0m\u001b[1;32m     13\u001b[0m         \u001b[0mss\u001b[0m\u001b[0;34m.\u001b[0m\u001b[0mchoose_option\u001b[0m\u001b[0;34m(\u001b[0m\u001b[0;34m)\u001b[0m\u001b[0;34m\u001b[0m\u001b[0;34m\u001b[0m\u001b[0m\n\u001b[1;32m     14\u001b[0m \u001b[0;34m\u001b[0m\u001b[0m\n",
      "\u001b[0;31mKeyboardInterrupt\u001b[0m: "
     ]
    }
   ],
   "source": [
    "get_appointment()"
   ]
  },
  {
   "cell_type": "code",
   "execution_count": null,
   "metadata": {},
   "outputs": [],
   "source": []
  }
 ],
 "metadata": {
  "kernelspec": {
   "display_name": "Python 3",
   "language": "python",
   "name": "python3"
  },
  "language_info": {
   "codemirror_mode": {
    "name": "ipython",
    "version": 3
   },
   "file_extension": ".py",
   "mimetype": "text/x-python",
   "name": "python",
   "nbconvert_exporter": "python",
   "pygments_lexer": "ipython3",
   "version": "3.8.5"
  },
  "toc": {
   "base_numbering": 1,
   "nav_menu": {},
   "number_sections": true,
   "sideBar": false,
   "skip_h1_title": true,
   "title_cell": "Table of Contents",
   "title_sidebar": "Contents",
   "toc_cell": true,
   "toc_position": {
    "height": "579.2px",
    "left": "31px",
    "top": "110.8px",
    "width": "183.038px"
   },
   "toc_section_display": true,
   "toc_window_display": false
  },
  "varInspector": {
   "cols": {
    "lenName": 16,
    "lenType": 16,
    "lenVar": 40
   },
   "kernels_config": {
    "python": {
     "delete_cmd_postfix": "",
     "delete_cmd_prefix": "del ",
     "library": "var_list.py",
     "varRefreshCmd": "print(var_dic_list())"
    },
    "r": {
     "delete_cmd_postfix": ") ",
     "delete_cmd_prefix": "rm(",
     "library": "var_list.r",
     "varRefreshCmd": "cat(var_dic_list()) "
    }
   },
   "types_to_exclude": [
    "module",
    "function",
    "builtin_function_or_method",
    "instance",
    "_Feature"
   ],
   "window_display": false
  }
 },
 "nbformat": 4,
 "nbformat_minor": 2
}
