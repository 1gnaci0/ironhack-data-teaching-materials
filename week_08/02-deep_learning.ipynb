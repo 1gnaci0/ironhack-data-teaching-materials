{
 "cells": [
  {
   "cell_type": "markdown",
   "metadata": {},
   "source": [
    "# Deep Learning"
   ]
  },
  {
   "cell_type": "markdown",
   "metadata": {},
   "source": [
    "[Deep Learning Slides](https://github.com/sheriffff/teaching-ironhack-data-madrid-2020/blob/main/week_08/deep_learning.pdf)"
   ]
  },
  {
   "cell_type": "markdown",
   "metadata": {
    "toc": true
   },
   "source": [
    "<h1>Table of Contents<span class=\"tocSkip\"></span></h1>\n",
    "<div class=\"toc\"><ul class=\"toc-item\"><li><span><a href=\"#Deep-Learning-for-Computer-Vision\" data-toc-modified-id=\"Deep-Learning-for-Computer-Vision-1\"><span class=\"toc-item-num\">1&nbsp;&nbsp;</span>Deep Learning for Computer Vision</a></span><ul class=\"toc-item\"><li><span><a href=\"#The-models\" data-toc-modified-id=\"The-models-1.1\"><span class=\"toc-item-num\">1.1&nbsp;&nbsp;</span>The models</a></span><ul class=\"toc-item\"><li><span><a href=\"#Not-DL-model\" data-toc-modified-id=\"Not-DL-model-1.1.1\"><span class=\"toc-item-num\">1.1.1&nbsp;&nbsp;</span>Not DL model</a></span></li><li><span><a href=\"#Artificial-neural-network\" data-toc-modified-id=\"Artificial-neural-network-1.1.2\"><span class=\"toc-item-num\">1.1.2&nbsp;&nbsp;</span>Artificial neural network</a></span></li><li><span><a href=\"#Convolutional-neural-network-(CNN)\" data-toc-modified-id=\"Convolutional-neural-network-(CNN)-1.1.3\"><span class=\"toc-item-num\">1.1.3&nbsp;&nbsp;</span>Convolutional neural network (CNN)</a></span></li></ul></li><li><span><a href=\"#Pretrained-nets\" data-toc-modified-id=\"Pretrained-nets-1.2\"><span class=\"toc-item-num\">1.2&nbsp;&nbsp;</span>Pretrained nets</a></span></li></ul></li><li><span><a href=\"#Deep-Learning-for-NLP-(natural-language-processing)\" data-toc-modified-id=\"Deep-Learning-for-NLP-(natural-language-processing)-2\"><span class=\"toc-item-num\">2&nbsp;&nbsp;</span>Deep Learning for NLP (natural language processing)</a></span></li></ul></div>"
   ]
  },
  {
   "cell_type": "code",
   "execution_count": 2,
   "metadata": {},
   "outputs": [],
   "source": [
    "from tensorflow import keras"
   ]
  },
  {
   "cell_type": "code",
   "execution_count": 3,
   "metadata": {},
   "outputs": [],
   "source": [
    "import matplotlib.pyplot as plt"
   ]
  },
  {
   "cell_type": "markdown",
   "metadata": {},
   "source": [
    "## Deep Learning for Computer Vision"
   ]
  },
  {
   "cell_type": "markdown",
   "metadata": {},
   "source": [
    "Lets make use of the Python library `tensorflow.keras` to learn to classify hand-written digits"
   ]
  },
  {
   "cell_type": "markdown",
   "metadata": {},
   "source": [
    "The problem: classification in the MNIST dataset\n",
    " * **classify** grayscale images \n",
    " * of handwritten digits\n",
    " * 28 pixels by 28 pixels\n",
    " * into their 10 categories (0 to 9)"
   ]
  },
  {
   "cell_type": "markdown",
   "metadata": {},
   "source": [
    "The MNIST dataset comes pre-loaded in Keras, in the form of a set of four Numpy arrays:"
   ]
  },
  {
   "cell_type": "code",
   "execution_count": 4,
   "metadata": {},
   "outputs": [],
   "source": [
    "from tensorflow.keras.datasets import mnist\n",
    "\n",
    "(train_images, train_labels), (test_images, test_labels) = mnist.load_data()"
   ]
  },
  {
   "cell_type": "code",
   "execution_count": 5,
   "metadata": {},
   "outputs": [
    {
     "data": {
      "text/plain": [
       "numpy.ndarray"
      ]
     },
     "execution_count": 5,
     "metadata": {},
     "output_type": "execute_result"
    }
   ],
   "source": [
    "type(train_images)"
   ]
  },
  {
   "cell_type": "code",
   "execution_count": 6,
   "metadata": {},
   "outputs": [
    {
     "data": {
      "text/plain": [
       "(60000, 28, 28)"
      ]
     },
     "execution_count": 6,
     "metadata": {},
     "output_type": "execute_result"
    }
   ],
   "source": [
    "train_images.shape"
   ]
  },
  {
   "cell_type": "code",
   "execution_count": 7,
   "metadata": {},
   "outputs": [
    {
     "data": {
      "text/plain": [
       "<matplotlib.image.AxesImage at 0x7faf3ef11e80>"
      ]
     },
     "execution_count": 7,
     "metadata": {},
     "output_type": "execute_result"
    },
    {
     "data": {
      "image/png": "[encoded data removed]",
      "text/plain": [
       "<Figure size 432x288 with 1 Axes>"
      ]
     },
     "metadata": {
      "needs_background": "light"
     },
     "output_type": "display_data"
    }
   ],
   "source": [
    "plt.imshow(train_images[0], cmap=\"gray\")"
   ]
  },
  {
   "cell_type": "code",
   "execution_count": 8,
   "metadata": {},
   "outputs": [
    {
     "data": {
      "text/plain": [
       "5"
      ]
     },
     "execution_count": 8,
     "metadata": {},
     "output_type": "execute_result"
    }
   ],
   "source": [
    "train_labels[0]"
   ]
  },
  {
   "cell_type": "code",
   "execution_count": 9,
   "metadata": {},
   "outputs": [
    {
     "data": {
      "image/png": "[encoded data removed]",
      "text/plain": [
       "<Figure size 1440x1440 with 10 Axes>"
      ]
     },
     "metadata": {
      "needs_background": "light"
     },
     "output_type": "display_data"
    }
   ],
   "source": [
    "n_images = 10\n",
    "fig, axs = plt.subplots(1, n_images, figsize=(20, 20))\n",
    "for i in range(n_images):\n",
    "    axs[i].imshow(train_images[i], cmap=\"gray\")"
   ]
  },
  {
   "cell_type": "code",
   "execution_count": 10,
   "metadata": {},
   "outputs": [
    {
     "data": {
      "text/plain": [
       "array([5, 0, 4, 1, 9, 2, 1, 3, 1, 4], dtype=uint8)"
      ]
     },
     "execution_count": 10,
     "metadata": {},
     "output_type": "execute_result"
    }
   ],
   "source": [
    "train_labels[:n_images]"
   ]
  },
  {
   "cell_type": "code",
   "execution_count": 11,
   "metadata": {},
   "outputs": [
    {
     "data": {
      "text/plain": [
       "(10000, 28, 28)"
      ]
     },
     "execution_count": 11,
     "metadata": {},
     "output_type": "execute_result"
    }
   ],
   "source": [
    "test_images.shape"
   ]
  },
  {
   "cell_type": "markdown",
   "metadata": {},
   "source": [
    "### The models"
   ]
  },
  {
   "cell_type": "markdown",
   "metadata": {},
   "source": [
    "#### Not DL model"
   ]
  },
  {
   "cell_type": "code",
   "execution_count": 12,
   "metadata": {},
   "outputs": [],
   "source": [
    "from sklearn.ensemble import GradientBoostingClassifier"
   ]
  },
  {
   "cell_type": "code",
   "execution_count": 13,
   "metadata": {},
   "outputs": [],
   "source": [
    "from sklearn.model_selection import GridSearchCV"
   ]
  },
  {
   "cell_type": "code",
   "execution_count": 14,
   "metadata": {},
   "outputs": [],
   "source": [
    "X_train = train_images.reshape(train_images.shape[0], -1)\n",
    "X_test = test_images.reshape(test_images.shape[0], -1)"
   ]
  },
  {
   "cell_type": "code",
   "execution_count": 15,
   "metadata": {},
   "outputs": [
    {
     "data": {
      "text/plain": [
       "(60000, 28, 28)"
      ]
     },
     "execution_count": 15,
     "metadata": {},
     "output_type": "execute_result"
    }
   ],
   "source": [
    "train_images.shape"
   ]
  },
  {
   "cell_type": "code",
   "execution_count": 16,
   "metadata": {},
   "outputs": [
    {
     "data": {
      "text/plain": [
       "(28, 28)"
      ]
     },
     "execution_count": 16,
     "metadata": {},
     "output_type": "execute_result"
    }
   ],
   "source": [
    "train_images[0].shape"
   ]
  },
  {
   "cell_type": "code",
   "execution_count": 17,
   "metadata": {},
   "outputs": [
    {
     "data": {
      "text/plain": [
       "(60000, 784)"
      ]
     },
     "execution_count": 17,
     "metadata": {},
     "output_type": "execute_result"
    }
   ],
   "source": [
    "X_train.shape"
   ]
  },
  {
   "cell_type": "code",
   "execution_count": 18,
   "metadata": {},
   "outputs": [
    {
     "data": {
      "text/plain": [
       "(784,)"
      ]
     },
     "execution_count": 18,
     "metadata": {},
     "output_type": "execute_result"
    }
   ],
   "source": [
    "X_train[0].shape"
   ]
  },
  {
   "cell_type": "code",
   "execution_count": 19,
   "metadata": {},
   "outputs": [],
   "source": [
    "model = GridSearchCV(\n",
    "    estimator=GradientBoostingClassifier(),\n",
    "    param_grid={\n",
    "        \"n_estimators\": [200, 400],\n",
    "        \"max_depth\": [4, 6, 9, 12],\n",
    "    },\n",
    "    cv=3,\n",
    "    verbose=True,\n",
    "    return_train_score=True,\n",
    "    n_jobs=-1\n",
    ")"
   ]
  },
  {
   "cell_type": "code",
   "execution_count": 20,
   "metadata": {},
   "outputs": [],
   "source": [
    "model = GradientBoostingClassifier(n_estimators=10, max_depth=5, max_features=0.1)"
   ]
  },
  {
   "cell_type": "code",
   "execution_count": 85,
   "metadata": {},
   "outputs": [
    {
     "data": {
      "text/plain": [
       "GradientBoostingClassifier(max_depth=5, max_features=0.1, n_estimators=10)"
      ]
     },
     "execution_count": 85,
     "metadata": {},
     "output_type": "execute_result"
    }
   ],
   "source": [
    "model.fit(X_train, train_labels)"
   ]
  },
  {
   "cell_type": "code",
   "execution_count": 86,
   "metadata": {},
   "outputs": [
    {
     "data": {
      "text/plain": [
       "0.9152666666666667"
      ]
     },
     "execution_count": 86,
     "metadata": {},
     "output_type": "execute_result"
    }
   ],
   "source": [
    "model.score(X_train, train_labels)"
   ]
  },
  {
   "cell_type": "markdown",
   "metadata": {},
   "source": [
    "#### Artificial neural network"
   ]
  },
  {
   "cell_type": "markdown",
   "metadata": {},
   "source": [
    "Our workflow will be as follow: \n",
    " * first we will present our neural network with the training data, `train_images` and `train_labels`...\n",
    " * this way, the network will then learn to associate images and labels\n",
    " * finally, we will ask the network to produce predictions for `test_images`...\n",
    " * and we will verify if these predictions match the labels from `test_labels`"
   ]
  },
  {
   "cell_type": "code",
   "execution_count": 21,
   "metadata": {},
   "outputs": [],
   "source": [
    "from tensorflow.keras import models\n",
    "from tensorflow.keras import layers"
   ]
  },
  {
   "cell_type": "code",
   "execution_count": 22,
   "metadata": {},
   "outputs": [],
   "source": [
    "network = models.Sequential()"
   ]
  },
  {
   "cell_type": "code",
   "execution_count": 23,
   "metadata": {},
   "outputs": [
    {
     "data": {
      "text/plain": [
       "tensorflow.python.keras.engine.sequential.Sequential"
      ]
     },
     "execution_count": 23,
     "metadata": {},
     "output_type": "execute_result"
    }
   ],
   "source": [
    "type(network)"
   ]
  },
  {
   "cell_type": "markdown",
   "metadata": {},
   "source": [
    " * The core building block of neural networks is the **layer**\n",
    " * Here our network consists of a sequence of two `Dense` layers, which are densely-connected (also called \"fully-connected\") neural layers\n",
    " * The second (and last) layer is a 10-way \"softmax\" layer, which means...\n",
    " * it will return an array of 10 probability scores (summing to 1)\n",
    " * each score being the probability that the current digit image belongs to one of our 10 digit classes."
   ]
  },
  {
   "cell_type": "code",
   "execution_count": 24,
   "metadata": {},
   "outputs": [],
   "source": [
    "network.add(layers.Dense(256, activation='relu', input_shape=(28 * 28,)))\n",
    "network.add(layers.Dense(10, activation='softmax'))"
   ]
  },
  {
   "cell_type": "markdown",
   "metadata": {},
   "source": [
    "To make our network ready for training, we need to pick three more things, as part of \"compilation\" step:\n",
    "\n",
    " * A **loss function** (differentiable metric): this is how the network will be able to measure how good a job it is doing on its training data\n",
    " * An **optimizer**: this is the mechanism through which the network will update itself based on the data it sees and its loss function.\n",
    " * **Metrics** to monitor during training and testing. Here we will only care about accuracy (the fraction of the images that were correctly classified"
   ]
  },
  {
   "cell_type": "code",
   "execution_count": 25,
   "metadata": {},
   "outputs": [],
   "source": [
    "network.compile(\n",
    "    optimizer='rmsprop',\n",
    "    loss='categorical_crossentropy',\n",
    "    metrics=['accuracy']\n",
    ")"
   ]
  },
  {
   "cell_type": "markdown",
   "metadata": {},
   "source": [
    "Before training:\n",
    " * reshape every 28x28 image into a 784 vector\n",
    " * scaling it so that all values are in the `[0, 1]` interval"
   ]
  },
  {
   "cell_type": "code",
   "execution_count": 26,
   "metadata": {},
   "outputs": [],
   "source": [
    "train_vectors = train_images.reshape((60000, 28 * 28)).astype('float32') / 255\n",
    "test_vectors = test_images.reshape((10000, 28 * 28)).astype('float32') / 255"
   ]
  },
  {
   "cell_type": "markdown",
   "metadata": {},
   "source": [
    "We also need to categorically encode the labels, a step which we explain in chapter 3:"
   ]
  },
  {
   "cell_type": "code",
   "execution_count": 27,
   "metadata": {},
   "outputs": [],
   "source": [
    "from tensorflow.keras.utils import to_categorical"
   ]
  },
  {
   "cell_type": "code",
   "execution_count": 28,
   "metadata": {},
   "outputs": [
    {
     "data": {
      "text/plain": [
       "array([5, 0, 4, ..., 5, 6, 8], dtype=uint8)"
      ]
     },
     "execution_count": 28,
     "metadata": {},
     "output_type": "execute_result"
    }
   ],
   "source": [
    "train_labels"
   ]
  },
  {
   "cell_type": "code",
   "execution_count": 29,
   "metadata": {},
   "outputs": [],
   "source": [
    "train_labels_hot = to_categorical(train_labels)\n",
    "test_labels_hot = to_categorical(test_labels)"
   ]
  },
  {
   "cell_type": "code",
   "execution_count": 30,
   "metadata": {},
   "outputs": [
    {
     "data": {
      "text/plain": [
       "array([[0., 0., 0., ..., 0., 0., 0.],\n",
       "       [1., 0., 0., ..., 0., 0., 0.],\n",
       "       [0., 0., 0., ..., 0., 0., 0.],\n",
       "       ...,\n",
       "       [0., 0., 0., ..., 0., 0., 0.],\n",
       "       [0., 0., 0., ..., 0., 0., 0.],\n",
       "       [0., 0., 0., ..., 0., 1., 0.]], dtype=float32)"
      ]
     },
     "execution_count": 30,
     "metadata": {},
     "output_type": "execute_result"
    }
   ],
   "source": [
    "train_labels_hot"
   ]
  },
  {
   "cell_type": "code",
   "execution_count": 31,
   "metadata": {},
   "outputs": [
    {
     "data": {
      "text/plain": [
       "5"
      ]
     },
     "execution_count": 31,
     "metadata": {},
     "output_type": "execute_result"
    }
   ],
   "source": [
    "train_labels[0]"
   ]
  },
  {
   "cell_type": "code",
   "execution_count": 32,
   "metadata": {},
   "outputs": [
    {
     "data": {
      "text/plain": [
       "array([0., 0., 0., 0., 0., 1., 0., 0., 0., 0.], dtype=float32)"
      ]
     },
     "execution_count": 32,
     "metadata": {},
     "output_type": "execute_result"
    }
   ],
   "source": [
    "train_labels_hot[0]"
   ]
  },
  {
   "cell_type": "markdown",
   "metadata": {},
   "source": [
    "We are now ready to train our network, which in Keras is done via a call to the `fit` method of the network: \n",
    "we \"fit\" the model to its training data."
   ]
  },
  {
   "cell_type": "code",
   "execution_count": 33,
   "metadata": {},
   "outputs": [
    {
     "name": "stdout",
     "output_type": "stream",
     "text": [
      "Epoch 1/10\n",
      "422/422 [==============================] - 2s 4ms/step - loss: 0.3028 - accuracy: 0.9151 - val_loss: 0.1381 - val_accuracy: 0.9620\n",
      "Epoch 2/10\n",
      "422/422 [==============================] - 2s 4ms/step - loss: 0.1351 - accuracy: 0.9601 - val_loss: 0.0983 - val_accuracy: 0.9723\n",
      "Epoch 3/10\n",
      "422/422 [==============================] - 2s 4ms/step - loss: 0.0918 - accuracy: 0.9729 - val_loss: 0.0838 - val_accuracy: 0.9765\n",
      "Epoch 4/10\n",
      "422/422 [==============================] - 2s 4ms/step - loss: 0.0689 - accuracy: 0.9793 - val_loss: 0.0784 - val_accuracy: 0.9775\n",
      "Epoch 5/10\n",
      "422/422 [==============================] - 2s 4ms/step - loss: 0.0540 - accuracy: 0.9840 - val_loss: 0.0736 - val_accuracy: 0.9768\n",
      "Epoch 6/10\n",
      "422/422 [==============================] - 2s 4ms/step - loss: 0.0431 - accuracy: 0.9876 - val_loss: 0.0694 - val_accuracy: 0.9805\n",
      "Epoch 7/10\n",
      "422/422 [==============================] - 2s 4ms/step - loss: 0.0352 - accuracy: 0.9898 - val_loss: 0.0676 - val_accuracy: 0.9818\n",
      "Epoch 8/10\n",
      "422/422 [==============================] - 2s 4ms/step - loss: 0.0280 - accuracy: 0.9919 - val_loss: 0.0713 - val_accuracy: 0.9805\n",
      "Epoch 9/10\n",
      "422/422 [==============================] - 2s 4ms/step - loss: 0.0227 - accuracy: 0.9935 - val_loss: 0.0659 - val_accuracy: 0.9830\n",
      "Epoch 10/10\n",
      "422/422 [==============================] - 2s 4ms/step - loss: 0.0183 - accuracy: 0.9951 - val_loss: 0.0676 - val_accuracy: 0.9820\n",
      "CPU times: user 1min 11s, sys: 5.16 s, total: 1min 16s\n",
      "Wall time: 17 s\n"
     ]
    },
    {
     "data": {
      "text/plain": [
       "<tensorflow.python.keras.callbacks.History at 0x7faf30126b20>"
      ]
     },
     "execution_count": 33,
     "metadata": {},
     "output_type": "execute_result"
    }
   ],
   "source": [
    "%%time\n",
    "network.fit(train_vectors, train_labels_hot, epochs=10, batch_size=128, validation_split=0.1)\n",
    "# no gpu"
   ]
  },
  {
   "cell_type": "code",
   "execution_count": 34,
   "metadata": {},
   "outputs": [
    {
     "name": "stdout",
     "output_type": "stream",
     "text": [
      "313/313 [==============================] - 0s 1ms/step - loss: 0.0740 - accuracy: 0.9796\n"
     ]
    }
   ],
   "source": [
    "_, test_acc = network.evaluate(test_vectors, test_labels_hot)"
   ]
  },
  {
   "cell_type": "code",
   "execution_count": 35,
   "metadata": {},
   "outputs": [
    {
     "data": {
      "text/plain": [
       "0.9796000123023987"
      ]
     },
     "execution_count": 35,
     "metadata": {},
     "output_type": "execute_result"
    }
   ],
   "source": [
    "test_acc"
   ]
  },
  {
   "cell_type": "code",
   "execution_count": 36,
   "metadata": {},
   "outputs": [
    {
     "data": {
      "image/png": "[encoded data removed]",
      "text/plain": [
       "<Figure size 1440x1440 with 10 Axes>"
      ]
     },
     "metadata": {
      "needs_background": "light"
     },
     "output_type": "display_data"
    }
   ],
   "source": [
    "n_images = 10\n",
    "fig, axs = plt.subplots(1, n_images, figsize=(20, 20))\n",
    "for i in range(n_images):\n",
    "    axs[i].imshow(test_images[i], cmap=\"gray\")"
   ]
  },
  {
   "cell_type": "markdown",
   "metadata": {},
   "source": [
    "Some examples"
   ]
  },
  {
   "cell_type": "code",
   "execution_count": 37,
   "metadata": {},
   "outputs": [
    {
     "data": {
      "text/plain": [
       "array([7, 2, 1, 0, 4, 1, 4, 9, 5, 9], dtype=uint8)"
      ]
     },
     "execution_count": 37,
     "metadata": {},
     "output_type": "execute_result"
    }
   ],
   "source": [
    "test_labels[:10]"
   ]
  },
  {
   "cell_type": "code",
   "execution_count": 38,
   "metadata": {},
   "outputs": [
    {
     "data": {
      "text/plain": [
       "array([7, 2, 1, 0, 4, 1, 4, 9, 5, 9])"
      ]
     },
     "execution_count": 38,
     "metadata": {},
     "output_type": "execute_result"
    }
   ],
   "source": [
    "np.argmax(network.predict(test_vectors), axis=-1)[:10]"
   ]
  },
  {
   "cell_type": "markdown",
   "metadata": {},
   "source": [
    "Some examples not correctly predicted"
   ]
  },
  {
   "cell_type": "code",
   "execution_count": 39,
   "metadata": {},
   "outputs": [],
   "source": [
    "error_indices = np.argwhere(test_labels[:1000] != np.argmax(network.predict(test_vectors), axis=-1)[:1000]).flatten()"
   ]
  },
  {
   "cell_type": "code",
   "execution_count": 40,
   "metadata": {},
   "outputs": [
    {
     "data": {
      "text/plain": [
       "array([247, 321, 381, 445, 495, 582, 583, 613, 619, 659, 684, 691, 720,\n",
       "       726, 786, 938, 944, 947, 951, 965])"
      ]
     },
     "execution_count": 40,
     "metadata": {},
     "output_type": "execute_result"
    }
   ],
   "source": [
    "error_indices"
   ]
  },
  {
   "cell_type": "code",
   "execution_count": 41,
   "metadata": {},
   "outputs": [
    {
     "data": {
      "image/png": "[encoded data removed]",
      "text/plain": [
       "<Figure size 1440x1440 with 10 Axes>"
      ]
     },
     "metadata": {
      "needs_background": "light"
     },
     "output_type": "display_data"
    }
   ],
   "source": [
    "n_images = 10\n",
    "fig, axs = plt.subplots(1, n_images, figsize=(20, 20))\n",
    "for i, index in zip(range(n_images), error_indices):\n",
    "    axs[i].imshow(test_images[index], cmap=\"gray\")"
   ]
  },
  {
   "cell_type": "code",
   "execution_count": 42,
   "metadata": {},
   "outputs": [
    {
     "data": {
      "text/plain": [
       "array([4, 2, 3, 6, 8, 8, 2, 2, 1, 2], dtype=uint8)"
      ]
     },
     "execution_count": 42,
     "metadata": {},
     "output_type": "execute_result"
    }
   ],
   "source": [
    "test_labels[error_indices][:10]"
   ]
  },
  {
   "cell_type": "code",
   "execution_count": 43,
   "metadata": {},
   "outputs": [
    {
     "data": {
      "text/plain": [
       "array([6, 7, 7, 0, 0, 2, 7, 8, 8, 1])"
      ]
     },
     "execution_count": 43,
     "metadata": {},
     "output_type": "execute_result"
    }
   ],
   "source": [
    "np.argmax(network.predict(test_vectors[error_indices]), axis=-1)[:10]"
   ]
  },
  {
   "cell_type": "markdown",
   "metadata": {},
   "source": [
    "Explore the network"
   ]
  },
  {
   "cell_type": "code",
   "execution_count": 44,
   "metadata": {},
   "outputs": [
    {
     "data": {
      "text/plain": [
       "(784, 256)"
      ]
     },
     "execution_count": 44,
     "metadata": {},
     "output_type": "execute_result"
    }
   ],
   "source": [
    "network.layers[0].get_weights()[0].shape"
   ]
  },
  {
   "cell_type": "code",
   "execution_count": 45,
   "metadata": {},
   "outputs": [
    {
     "data": {
      "text/plain": [
       "(256,)"
      ]
     },
     "execution_count": 45,
     "metadata": {},
     "output_type": "execute_result"
    }
   ],
   "source": [
    "network.layers[0].get_weights()[1].shape"
   ]
  },
  {
   "cell_type": "markdown",
   "metadata": {},
   "source": [
    "#### Convolutional neural network (CNN)"
   ]
  },
  {
   "cell_type": "code",
   "execution_count": 46,
   "metadata": {},
   "outputs": [],
   "source": [
    "model = models.Sequential()"
   ]
  },
  {
   "cell_type": "code",
   "execution_count": 47,
   "metadata": {},
   "outputs": [],
   "source": [
    "model.add(layers.Conv2D(32, (3, 3), activation='relu', input_shape=(28, 28, 1)))\n",
    "model.add(layers.MaxPooling2D((2, 2)))\n",
    "model.add(layers.Conv2D(64, (3, 3), activation='relu'))\n",
    "model.add(layers.MaxPooling2D((2, 2)))\n",
    "model.add(layers.Conv2D(64, (3, 3), activation='relu'))"
   ]
  },
  {
   "cell_type": "code",
   "execution_count": 50,
   "metadata": {},
   "outputs": [
    {
     "name": "stdout",
     "output_type": "stream",
     "text": [
      "Model: \"sequential_1\"\n",
      "_________________________________________________________________\n",
      "Layer (type)                 Output Shape              Param #   \n",
      "=================================================================\n",
      "conv2d (Conv2D)              (None, 26, 26, 32)        320       \n",
      "_________________________________________________________________\n",
      "max_pooling2d (MaxPooling2D) (None, 13, 13, 32)        0         \n",
      "_________________________________________________________________\n",
      "conv2d_1 (Conv2D)            (None, 11, 11, 64)        18496     \n",
      "_________________________________________________________________\n",
      "max_pooling2d_1 (MaxPooling2 (None, 5, 5, 64)          0         \n",
      "_________________________________________________________________\n",
      "conv2d_2 (Conv2D)            (None, 3, 3, 64)          36928     \n",
      "=================================================================\n",
      "Total params: 55,744\n",
      "Trainable params: 55,744\n",
      "Non-trainable params: 0\n",
      "_________________________________________________________________\n"
     ]
    }
   ],
   "source": [
    "model.summary()"
   ]
  },
  {
   "cell_type": "code",
   "execution_count": 51,
   "metadata": {},
   "outputs": [],
   "source": [
    "model.add(layers.Flatten())\n",
    "model.add(layers.Dense(64, activation='relu'))\n",
    "model.add(layers.Dense(10, activation='softmax'))"
   ]
  },
  {
   "cell_type": "code",
   "execution_count": 52,
   "metadata": {},
   "outputs": [
    {
     "name": "stdout",
     "output_type": "stream",
     "text": [
      "Model: \"sequential_1\"\n",
      "_________________________________________________________________\n",
      "Layer (type)                 Output Shape              Param #   \n",
      "=================================================================\n",
      "conv2d (Conv2D)              (None, 26, 26, 32)        320       \n",
      "_________________________________________________________________\n",
      "max_pooling2d (MaxPooling2D) (None, 13, 13, 32)        0         \n",
      "_________________________________________________________________\n",
      "conv2d_1 (Conv2D)            (None, 11, 11, 64)        18496     \n",
      "_________________________________________________________________\n",
      "max_pooling2d_1 (MaxPooling2 (None, 5, 5, 64)          0         \n",
      "_________________________________________________________________\n",
      "conv2d_2 (Conv2D)            (None, 3, 3, 64)          36928     \n",
      "_________________________________________________________________\n",
      "flatten (Flatten)            (None, 576)               0         \n",
      "_________________________________________________________________\n",
      "dense_2 (Dense)              (None, 64)                36928     \n",
      "_________________________________________________________________\n",
      "dense_3 (Dense)              (None, 10)                650       \n",
      "=================================================================\n",
      "Total params: 93,322\n",
      "Trainable params: 93,322\n",
      "Non-trainable params: 0\n",
      "_________________________________________________________________\n"
     ]
    }
   ],
   "source": [
    "model.summary()"
   ]
  },
  {
   "cell_type": "code",
   "execution_count": 53,
   "metadata": {},
   "outputs": [],
   "source": [
    "train_images = train_images.reshape((60000, 28, 28, 1))\n",
    "train_images = train_images.astype('float32') / 255\n",
    "\n",
    "test_images = test_images.reshape((10000, 28, 28, 1))\n",
    "test_images = test_images.astype('float32') / 255"
   ]
  },
  {
   "cell_type": "code",
   "execution_count": 54,
   "metadata": {},
   "outputs": [],
   "source": [
    "model.compile(\n",
    "    optimizer='rmsprop',\n",
    "    loss='categorical_crossentropy',\n",
    "    metrics=['accuracy']\n",
    ")"
   ]
  },
  {
   "cell_type": "code",
   "execution_count": 55,
   "metadata": {},
   "outputs": [
    {
     "name": "stdout",
     "output_type": "stream",
     "text": [
      "Epoch 1/10\n",
      "844/844 [==============================] - 20s 23ms/step - loss: 0.1847 - accuracy: 0.9419 - val_loss: 0.0534 - val_accuracy: 0.9858\n",
      "Epoch 2/10\n",
      "844/844 [==============================] - 19s 23ms/step - loss: 0.0492 - accuracy: 0.9846 - val_loss: 0.0472 - val_accuracy: 0.9867\n",
      "Epoch 3/10\n",
      "844/844 [==============================] - 18s 22ms/step - loss: 0.0339 - accuracy: 0.9893 - val_loss: 0.0332 - val_accuracy: 0.9910\n",
      "Epoch 4/10\n",
      "844/844 [==============================] - 19s 23ms/step - loss: 0.0263 - accuracy: 0.9919 - val_loss: 0.0356 - val_accuracy: 0.9918\n",
      "Epoch 5/10\n",
      "844/844 [==============================] - 18s 21ms/step - loss: 0.0200 - accuracy: 0.9941 - val_loss: 0.0427 - val_accuracy: 0.9895\n",
      "Epoch 6/10\n",
      "844/844 [==============================] - 20s 23ms/step - loss: 0.0157 - accuracy: 0.9953 - val_loss: 0.0425 - val_accuracy: 0.9910\n",
      "Epoch 7/10\n",
      "844/844 [==============================] - 18s 22ms/step - loss: 0.0133 - accuracy: 0.9958 - val_loss: 0.0328 - val_accuracy: 0.9933\n",
      "Epoch 8/10\n",
      "844/844 [==============================] - 19s 23ms/step - loss: 0.0112 - accuracy: 0.9967 - val_loss: 0.0358 - val_accuracy: 0.9928\n",
      "Epoch 9/10\n",
      "844/844 [==============================] - 20s 24ms/step - loss: 0.0082 - accuracy: 0.9974 - val_loss: 0.0486 - val_accuracy: 0.9903\n",
      "Epoch 10/10\n",
      "844/844 [==============================] - 21s 25ms/step - loss: 0.0081 - accuracy: 0.9978 - val_loss: 0.0434 - val_accuracy: 0.9918\n"
     ]
    },
    {
     "data": {
      "text/plain": [
       "<tensorflow.python.keras.callbacks.History at 0x7fae9f6819a0>"
      ]
     },
     "execution_count": 55,
     "metadata": {},
     "output_type": "execute_result"
    }
   ],
   "source": [
    "model.fit(train_images, train_labels, epochs=10, batch_size=64, validation_split=0.1)"
   ]
  },
  {
   "cell_type": "code",
   "execution_count": 59,
   "metadata": {},
   "outputs": [
    {
     "name": "stdout",
     "output_type": "stream",
     "text": [
      "313/313 [==============================] - 1s 4ms/step - loss: 0.0342 - accuracy: 0.9914\n"
     ]
    }
   ],
   "source": [
    "_, test_acc = model.evaluate(test_images, test_labels_hot)"
   ]
  },
  {
   "cell_type": "code",
   "execution_count": 60,
   "metadata": {},
   "outputs": [
    {
     "data": {
      "text/plain": [
       "0.9914000034332275"
      ]
     },
     "execution_count": 60,
     "metadata": {},
     "output_type": "execute_result"
    }
   ],
   "source": [
    "test_acc"
   ]
  },
  {
   "cell_type": "markdown",
   "metadata": {},
   "source": [
    " * Before we had 98% accuracy\n",
    " * Now we have 99% accuracy\n",
    " * Meaning 50% of previous errors are now correct"
   ]
  },
  {
   "cell_type": "markdown",
   "metadata": {},
   "source": [
    "Some examples"
   ]
  },
  {
   "cell_type": "code",
   "execution_count": 63,
   "metadata": {},
   "outputs": [
    {
     "data": {
      "image/png": "[encoded data removed]",
      "text/plain": [
       "<Figure size 1440x1440 with 10 Axes>"
      ]
     },
     "metadata": {
      "needs_background": "light"
     },
     "output_type": "display_data"
    }
   ],
   "source": [
    "n_images = 10\n",
    "fig, axs = plt.subplots(1, n_images, figsize=(20, 20))\n",
    "for i, index in zip(range(n_images), error_indices):\n",
    "    axs[i].imshow(test_images[index], cmap=\"gray\")"
   ]
  },
  {
   "cell_type": "code",
   "execution_count": 65,
   "metadata": {},
   "outputs": [
    {
     "data": {
      "text/plain": [
       "array([4, 2, 3, 6, 8, 8, 2, 2, 1, 2])"
      ]
     },
     "execution_count": 65,
     "metadata": {},
     "output_type": "execute_result"
    }
   ],
   "source": [
    "np.argmax(test_labels[error_indices], axis=-1)[:10]"
   ]
  },
  {
   "cell_type": "markdown",
   "metadata": {},
   "source": [
    "Old model"
   ]
  },
  {
   "cell_type": "code",
   "execution_count": 66,
   "metadata": {},
   "outputs": [
    {
     "data": {
      "text/plain": [
       "array([6, 7, 7, 0, 0, 2, 7, 8, 8, 1])"
      ]
     },
     "execution_count": 66,
     "metadata": {},
     "output_type": "execute_result"
    }
   ],
   "source": [
    "np.argmax(network.predict(test_vectors[error_indices]), axis=-1)[:10]"
   ]
  },
  {
   "cell_type": "markdown",
   "metadata": {},
   "source": [
    "New model"
   ]
  },
  {
   "cell_type": "code",
   "execution_count": 68,
   "metadata": {},
   "outputs": [
    {
     "data": {
      "text/plain": [
       "array([4, 7, 3, 0, 8, 8, 7, 2, 1, 1])"
      ]
     },
     "execution_count": 68,
     "metadata": {},
     "output_type": "execute_result"
    }
   ],
   "source": [
    "np.argmax(model.predict(test_images[error_indices]), axis=-1)[:10]"
   ]
  },
  {
   "cell_type": "markdown",
   "metadata": {},
   "source": [
    "### Pretrained nets"
   ]
  },
  {
   "cell_type": "code",
   "execution_count": 70,
   "metadata": {},
   "outputs": [],
   "source": [
    "from tensorflow.keras.applications import VGG16\n",
    "\n",
    "conv_base = VGG16(\n",
    "    weights='imagenet',\n",
    "    include_top=False,\n",
    "    input_shape=(150, 150, 3)\n",
    ")"
   ]
  },
  {
   "cell_type": "code",
   "execution_count": 71,
   "metadata": {},
   "outputs": [
    {
     "name": "stdout",
     "output_type": "stream",
     "text": [
      "Model: \"vgg16\"\n",
      "_________________________________________________________________\n",
      "Layer (type)                 Output Shape              Param #   \n",
      "=================================================================\n",
      "input_1 (InputLayer)         [(None, 150, 150, 3)]     0         \n",
      "_________________________________________________________________\n",
      "block1_conv1 (Conv2D)        (None, 150, 150, 64)      1792      \n",
      "_________________________________________________________________\n",
      "block1_conv2 (Conv2D)        (None, 150, 150, 64)      36928     \n",
      "_________________________________________________________________\n",
      "block1_pool (MaxPooling2D)   (None, 75, 75, 64)        0         \n",
      "_________________________________________________________________\n",
      "block2_conv1 (Conv2D)        (None, 75, 75, 128)       73856     \n",
      "_________________________________________________________________\n",
      "block2_conv2 (Conv2D)        (None, 75, 75, 128)       147584    \n",
      "_________________________________________________________________\n",
      "block2_pool (MaxPooling2D)   (None, 37, 37, 128)       0         \n",
      "_________________________________________________________________\n",
      "block3_conv1 (Conv2D)        (None, 37, 37, 256)       295168    \n",
      "_________________________________________________________________\n",
      "block3_conv2 (Conv2D)        (None, 37, 37, 256)       590080    \n",
      "_________________________________________________________________\n",
      "block3_conv3 (Conv2D)        (None, 37, 37, 256)       590080    \n",
      "_________________________________________________________________\n",
      "block3_pool (MaxPooling2D)   (None, 18, 18, 256)       0         \n",
      "_________________________________________________________________\n",
      "block4_conv1 (Conv2D)        (None, 18, 18, 512)       1180160   \n",
      "_________________________________________________________________\n",
      "block4_conv2 (Conv2D)        (None, 18, 18, 512)       2359808   \n",
      "_________________________________________________________________\n",
      "block4_conv3 (Conv2D)        (None, 18, 18, 512)       2359808   \n",
      "_________________________________________________________________\n",
      "block4_pool (MaxPooling2D)   (None, 9, 9, 512)         0         \n",
      "_________________________________________________________________\n",
      "block5_conv1 (Conv2D)        (None, 9, 9, 512)         2359808   \n",
      "_________________________________________________________________\n",
      "block5_conv2 (Conv2D)        (None, 9, 9, 512)         2359808   \n",
      "_________________________________________________________________\n",
      "block5_conv3 (Conv2D)        (None, 9, 9, 512)         2359808   \n",
      "_________________________________________________________________\n",
      "block5_pool (MaxPooling2D)   (None, 4, 4, 512)         0         \n",
      "=================================================================\n",
      "Total params: 14,714,688\n",
      "Trainable params: 14,714,688\n",
      "Non-trainable params: 0\n",
      "_________________________________________________________________\n"
     ]
    }
   ],
   "source": [
    "conv_base.summary()"
   ]
  },
  {
   "cell_type": "markdown",
   "metadata": {},
   "source": [
    "## Deep Learning for NLP (natural language processing)"
   ]
  },
  {
   "cell_type": "markdown",
   "metadata": {},
   "source": [
    "The building block of Deep Learning for NLP are word embeddings (as explained in the slides)"
   ]
  },
  {
   "cell_type": "code",
   "execution_count": 74,
   "metadata": {},
   "outputs": [],
   "source": [
    "import gensim"
   ]
  },
  {
   "cell_type": "code",
   "execution_count": 76,
   "metadata": {},
   "outputs": [
    {
     "name": "stdout",
     "output_type": "stream",
     "text": [
      "CPU times: user 2min 8s, sys: 1.27 s, total: 2min 10s\n",
      "Wall time: 2min 10s\n"
     ]
    }
   ],
   "source": [
    "%%time\n",
    "model = gensim.models.KeyedVectors.load_word2vec_format('../../../Documents/coding/selenium/word2vec.300d.W.pos.vectors', binary=False)"
   ]
  },
  {
   "cell_type": "code",
   "execution_count": 97,
   "metadata": {},
   "outputs": [],
   "source": [
    "word = \"queen\""
   ]
  },
  {
   "cell_type": "code",
   "execution_count": 98,
   "metadata": {},
   "outputs": [],
   "source": [
    "word_vector = model[word]"
   ]
  },
  {
   "cell_type": "code",
   "execution_count": 99,
   "metadata": {},
   "outputs": [
    {
     "data": {
      "text/plain": [
       "array([-4.84460e-02,  1.02613e-01, -1.95860e-02,  1.13386e-01,\n",
       "       -4.06010e-02,  9.26370e-02,  1.50780e-02, -2.57814e-01,\n",
       "       -4.70070e-02,  3.18180e-02,  5.47950e-02,  3.53900e-03,\n",
       "       -7.56470e-02,  4.45500e-02, -1.21290e-02,  2.11295e-01,\n",
       "        6.03500e-03,  3.54547e-01,  6.95730e-02,  6.87930e-02,\n",
       "        2.37840e-02, -7.69080e-02,  2.12900e-03,  1.14084e-01,\n",
       "       -8.91960e-02, -5.41190e-02, -1.05277e-01, -1.41408e-01,\n",
       "       -8.05910e-02, -3.14660e-02, -1.09331e-01,  2.80780e-02,\n",
       "        3.59570e-02, -8.68410e-02,  1.75902e-01, -3.23001e-01,\n",
       "        1.77420e-02, -7.86520e-02, -1.50684e-01,  4.33200e-02,\n",
       "       -2.26360e-02, -2.68887e-01, -2.04072e-01,  1.22233e-01,\n",
       "       -2.54441e-01, -1.79420e-02, -2.07564e-01, -5.47420e-02,\n",
       "       -2.36425e-01, -1.36054e-01, -1.18586e-01,  1.00000e-03,\n",
       "       -2.36707e-01,  2.73251e-01,  2.83630e-02,  4.60200e-03,\n",
       "        2.48529e-01, -1.46228e-01,  8.82730e-02, -5.56100e-02,\n",
       "        1.85684e-01, -4.69280e-02, -1.54934e-01,  1.68072e-01,\n",
       "        1.49726e-01, -4.83630e-02,  2.00029e-01, -8.52590e-02,\n",
       "        2.32055e-01,  1.41030e-01, -2.22242e-01,  1.69584e-01,\n",
       "       -4.75460e-02,  5.88980e-02, -6.30000e-05, -1.25536e-01,\n",
       "       -9.89280e-02, -3.62331e-01,  2.89342e-01,  1.21387e-01,\n",
       "       -1.76605e-01, -7.54930e-02, -1.08680e-01, -2.61869e-01,\n",
       "       -1.18000e-02,  1.12634e-01, -2.17503e-01, -8.23680e-02,\n",
       "       -3.03080e-02, -2.25170e-02, -3.21425e-01,  5.76900e-03,\n",
       "       -1.46700e-02,  2.82860e-02,  1.54652e-01,  1.76072e-01,\n",
       "       -1.70602e-01,  1.35365e-01,  8.73850e-02,  2.98672e-01,\n",
       "        1.64188e-01, -3.25370e-02,  2.99340e-02, -3.55126e-01,\n",
       "        3.80340e-02, -2.34590e-02, -6.23830e-02, -3.25983e-01,\n",
       "        1.39030e-02,  1.74465e-01,  3.99410e-02,  1.14550e-02,\n",
       "        3.10090e-02,  4.75360e-01,  5.66320e-02, -9.89230e-02,\n",
       "       -9.58710e-02,  5.88320e-02,  7.31410e-02, -1.70515e-01,\n",
       "       -2.21308e-01, -4.46840e-02,  1.13414e-01,  1.71500e-02,\n",
       "        2.40201e-01,  1.47660e-02,  8.80430e-02, -1.28615e-01,\n",
       "        2.31590e-02,  1.64315e-01,  1.45465e-01,  6.51630e-02,\n",
       "        1.73920e-02, -1.34200e-02, -8.28890e-02,  2.82916e-01,\n",
       "       -3.91650e-02,  1.84100e-02,  1.68686e-01,  1.85817e-01,\n",
       "        8.35000e-02, -4.42000e-02,  1.49950e-02,  1.71760e-01,\n",
       "        4.80280e-02,  5.95070e-02,  1.24638e-01,  1.30429e-01,\n",
       "        4.89240e-02,  3.62540e-02, -3.89900e-02,  3.82340e-02,\n",
       "       -4.96610e-02, -1.03140e-01, -7.88360e-02, -2.88340e-02,\n",
       "       -2.19502e-01, -1.16353e-01,  1.71678e-01, -1.75040e-02,\n",
       "       -1.01898e-01,  1.95770e-02,  1.19932e-01, -1.94383e-01,\n",
       "        1.70347e-01,  1.71198e-01, -1.08166e-01,  4.08360e-02,\n",
       "        1.76182e-01,  6.46970e-02, -2.16865e-01,  2.71050e-01,\n",
       "        2.65399e-01, -1.81483e-01, -2.20290e-02,  4.59720e-02,\n",
       "        9.07680e-02, -3.51803e-01,  5.75100e-02,  1.95590e-02,\n",
       "       -3.47629e-01,  1.97311e-01,  1.33459e-01, -1.40735e-01,\n",
       "        7.07050e-02,  8.23060e-02,  1.04515e-01,  1.27110e-01,\n",
       "        3.41730e-02,  4.49510e-02,  5.07520e-02, -8.60260e-02,\n",
       "        4.34139e-01, -1.32750e-01, -9.10900e-03,  1.14895e-01,\n",
       "       -1.33955e-01,  1.28789e-01,  1.24557e-01, -5.16470e-02,\n",
       "        4.23960e-02,  3.64706e-01, -2.59000e-02, -1.97870e-02,\n",
       "        5.74930e-02, -8.13060e-02, -5.48780e-02,  1.41410e-02,\n",
       "       -2.26387e-01,  1.67608e-01, -1.27613e-01,  2.83590e-02,\n",
       "       -1.26804e-01, -1.32167e-01,  7.41040e-02, -1.22700e-02,\n",
       "       -7.33870e-02, -1.54438e-01, -2.45350e-02,  8.75120e-02,\n",
       "       -3.71750e-02, -1.35485e-01, -4.51200e-02, -4.50980e-02,\n",
       "        3.17050e-02, -5.04680e-02, -1.96366e-01, -1.92168e-01,\n",
       "       -4.61684e-01, -1.98010e-02, -1.62256e-01,  3.83980e-02,\n",
       "       -5.38040e-02, -6.17500e-03,  5.20810e-02, -8.70770e-02,\n",
       "       -1.59800e-01,  9.81130e-02,  1.71213e-01, -3.88880e-02,\n",
       "       -7.30860e-02, -1.97920e-02,  1.96036e-01,  2.97252e-01,\n",
       "        1.06871e-01,  6.85680e-02,  8.35520e-02, -2.49852e-01,\n",
       "        2.20300e-03, -1.43739e-01, -1.76526e-01,  2.24288e-01,\n",
       "        1.41644e-01, -8.45210e-02,  2.06868e-01, -8.78440e-02,\n",
       "       -4.36700e-02,  1.63801e-01, -9.95480e-02,  1.19750e-01,\n",
       "       -9.51390e-02, -5.74500e-03,  1.31814e-01,  3.63138e-01,\n",
       "        6.91760e-02, -6.47290e-02, -6.70130e-02, -9.98600e-02,\n",
       "        8.90850e-02, -7.72490e-02,  1.40809e-01,  2.74420e-02,\n",
       "       -7.43690e-02,  6.34820e-02,  5.83110e-02, -1.48942e-01,\n",
       "       -1.95714e-01, -3.24387e-01,  1.09806e-01, -2.05522e-01,\n",
       "       -3.71747e-01,  2.35683e-01,  1.29719e-01,  2.70300e-02,\n",
       "        8.02320e-02,  5.71130e-02,  6.01160e-02, -4.52650e-02,\n",
       "        4.42038e-01, -3.02720e-02, -2.04631e-01,  1.60500e-02,\n",
       "       -8.14910e-02, -7.50160e-02, -5.62430e-02, -3.40509e-01,\n",
       "       -4.35080e-02,  1.53488e-01,  3.03480e-02,  1.60130e-02],\n",
       "      dtype=float32)"
      ]
     },
     "execution_count": 99,
     "metadata": {},
     "output_type": "execute_result"
    }
   ],
   "source": [
    "word_vector"
   ]
  },
  {
   "cell_type": "code",
   "execution_count": 100,
   "metadata": {},
   "outputs": [
    {
     "data": {
      "text/plain": [
       "(300,)"
      ]
     },
     "execution_count": 100,
     "metadata": {},
     "output_type": "execute_result"
    }
   ],
   "source": [
    "word_vector.shape"
   ]
  },
  {
   "cell_type": "code",
   "execution_count": 101,
   "metadata": {},
   "outputs": [],
   "source": [
    "other_words = [\"dog\", \"king\", \"god\", \"cream\", \"princess\"]"
   ]
  },
  {
   "cell_type": "code",
   "execution_count": 102,
   "metadata": {},
   "outputs": [],
   "source": [
    "other_words_vectors = [model[w] for w in other_words]"
   ]
  },
  {
   "cell_type": "code",
   "execution_count": 103,
   "metadata": {},
   "outputs": [],
   "source": [
    "similarities = model.cosine_similarities(\n",
    "    word_vector, \n",
    "    other_words_vectors\n",
    ")"
   ]
  },
  {
   "cell_type": "code",
   "execution_count": 104,
   "metadata": {},
   "outputs": [
    {
     "data": {
      "text/plain": [
       "array([0.11103875, 0.6313495 , 0.17146927, 0.06811734, 0.64820254],\n",
       "      dtype=float32)"
      ]
     },
     "execution_count": 104,
     "metadata": {},
     "output_type": "execute_result"
    }
   ],
   "source": [
    "similarities"
   ]
  },
  {
   "cell_type": "code",
   "execution_count": 107,
   "metadata": {},
   "outputs": [],
   "source": [
    "most_similar = other_words[similarities.argmax()]"
   ]
  },
  {
   "cell_type": "code",
   "execution_count": 108,
   "metadata": {},
   "outputs": [
    {
     "data": {
      "text/plain": [
       "'princess'"
      ]
     },
     "execution_count": 108,
     "metadata": {},
     "output_type": "execute_result"
    }
   ],
   "source": [
    "most_similar"
   ]
  }
 ],
 "metadata": {
  "kernelspec": {
   "display_name": "Python 3",
   "language": "python",
   "name": "python3"
  },
  "language_info": {
   "codemirror_mode": {
    "name": "ipython",
    "version": 3
   },
   "file_extension": ".py",
   "mimetype": "text/x-python",
   "name": "python",
   "nbconvert_exporter": "python",
   "pygments_lexer": "ipython3",
   "version": "3.8.5"
  },
  "toc": {
   "base_numbering": 1,
   "nav_menu": {},
   "number_sections": true,
   "sideBar": true,
   "skip_h1_title": true,
   "title_cell": "Table of Contents",
   "title_sidebar": "Contents",
   "toc_cell": true,
   "toc_position": {},
   "toc_section_display": true,
   "toc_window_display": true
  },
  "varInspector": {
   "cols": {
    "lenName": 16,
    "lenType": 16,
    "lenVar": 40
   },
   "kernels_config": {
    "python": {
     "delete_cmd_postfix": "",
     "delete_cmd_prefix": "del ",
     "library": "var_list.py",
     "varRefreshCmd": "print(var_dic_list())"
    },
    "r": {
     "delete_cmd_postfix": ") ",
     "delete_cmd_prefix": "rm(",
     "library": "var_list.r",
     "varRefreshCmd": "cat(var_dic_list()) "
    }
   },
   "types_to_exclude": [
    "module",
    "function",
    "builtin_function_or_method",
    "instance",
    "_Feature"
   ],
   "window_display": false
  }
 },
 "nbformat": 4,
 "nbformat_minor": 2
}
