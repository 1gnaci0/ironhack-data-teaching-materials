{
 "cells": [
  {
   "cell_type": "markdown",
   "metadata": {},
   "source": [
    "# Zen of Python by example"
   ]
  },
  {
   "cell_type": "markdown",
   "metadata": {
    "toc": true
   },
   "source": [
    "<h1>Table of Contents<span class=\"tocSkip\"></span></h1>\n",
    "<div class=\"toc\"><ul class=\"toc-item\"><li><span><a href=\"#Beautiful-is-better-than-ugly\" data-toc-modified-id=\"Beautiful-is-better-than-ugly-1\"><span class=\"toc-item-num\">1&nbsp;&nbsp;</span>Beautiful is better than ugly</a></span></li><li><span><a href=\"#Explicit-is-better-than-implicit\" data-toc-modified-id=\"Explicit-is-better-than-implicit-2\"><span class=\"toc-item-num\">2&nbsp;&nbsp;</span>Explicit is better than implicit</a></span></li><li><span><a href=\"#Simple-is-better-than-complex\" data-toc-modified-id=\"Simple-is-better-than-complex-3\"><span class=\"toc-item-num\">3&nbsp;&nbsp;</span>Simple is better than complex</a></span></li><li><span><a href=\"#Complex-is-better-than-complicated\" data-toc-modified-id=\"Complex-is-better-than-complicated-4\"><span class=\"toc-item-num\">4&nbsp;&nbsp;</span>Complex is better than complicated</a></span></li><li><span><a href=\"#Flat-is-better-than-nested\" data-toc-modified-id=\"Flat-is-better-than-nested-5\"><span class=\"toc-item-num\">5&nbsp;&nbsp;</span>Flat is better than nested</a></span></li><li><span><a href=\"#Sparse-is-better-than-dense\" data-toc-modified-id=\"Sparse-is-better-than-dense-6\"><span class=\"toc-item-num\">6&nbsp;&nbsp;</span>Sparse is better than dense</a></span></li><li><span><a href=\"#Readability-counts\" data-toc-modified-id=\"Readability-counts-7\"><span class=\"toc-item-num\">7&nbsp;&nbsp;</span>Readability counts</a></span></li><li><span><a href=\"#Special-cases-aren't-special-enough-to-break-the-rules\" data-toc-modified-id=\"Special-cases-aren't-special-enough-to-break-the-rules-8\"><span class=\"toc-item-num\">8&nbsp;&nbsp;</span>Special cases aren't special enough to break the rules</a></span></li><li><span><a href=\"#Although-practicality-beats-purity\" data-toc-modified-id=\"Although-practicality-beats-purity-9\"><span class=\"toc-item-num\">9&nbsp;&nbsp;</span>Although practicality beats purity</a></span></li><li><span><a href=\"#Errors-should-never-pass-silently\" data-toc-modified-id=\"Errors-should-never-pass-silently-10\"><span class=\"toc-item-num\">10&nbsp;&nbsp;</span>Errors should never pass silently</a></span></li><li><span><a href=\"#Unless-explicitly-silenced\" data-toc-modified-id=\"Unless-explicitly-silenced-11\"><span class=\"toc-item-num\">11&nbsp;&nbsp;</span>Unless explicitly silenced</a></span></li><li><span><a href=\"#In-the-face-of-ambiguity,-refuse-the-temptation-to-guess\" data-toc-modified-id=\"In-the-face-of-ambiguity,-refuse-the-temptation-to-guess-12\"><span class=\"toc-item-num\">12&nbsp;&nbsp;</span>In the face of ambiguity, refuse the temptation to guess</a></span></li><li><span><a href=\"#There-should-be-one---and-preferably-only-one---obvious-way-to-do-it\" data-toc-modified-id=\"There-should-be-one---and-preferably-only-one---obvious-way-to-do-it-13\"><span class=\"toc-item-num\">13&nbsp;&nbsp;</span>There should be one-- and preferably only one --obvious way to do it</a></span></li><li><span><a href=\"#Although-that-way-may-not-be-obvious-at-first-unless-you're-Dutch\" data-toc-modified-id=\"Although-that-way-may-not-be-obvious-at-first-unless-you're-Dutch-14\"><span class=\"toc-item-num\">14&nbsp;&nbsp;</span>Although that way may not be obvious at first unless you're Dutch</a></span></li><li><span><a href=\"#Now-is-better-than-never\" data-toc-modified-id=\"Now-is-better-than-never-15\"><span class=\"toc-item-num\">15&nbsp;&nbsp;</span>Now is better than never</a></span></li><li><span><a href=\"#Although-never-is-often-better-than-right-now\" data-toc-modified-id=\"Although-never-is-often-better-than-right-now-16\"><span class=\"toc-item-num\">16&nbsp;&nbsp;</span>Although never is often better than <em>right</em> now</a></span></li><li><span><a href=\"#If-the-implementation-is-hard-to-explain,-it's-a-bad-idea\" data-toc-modified-id=\"If-the-implementation-is-hard-to-explain,-it's-a-bad-idea-17\"><span class=\"toc-item-num\">17&nbsp;&nbsp;</span>If the implementation is hard to explain, it's a bad idea</a></span></li><li><span><a href=\"#If-the-implementation-is-easy-to-explain,-it-may-be-a-good-idea\" data-toc-modified-id=\"If-the-implementation-is-easy-to-explain,-it-may-be-a-good-idea-18\"><span class=\"toc-item-num\">18&nbsp;&nbsp;</span>If the implementation is easy to explain, it may be a good idea</a></span></li><li><span><a href=\"#Namespaces-are-one-honking-great-idea----let's-do-more-of-those\" data-toc-modified-id=\"Namespaces-are-one-honking-great-idea----let's-do-more-of-those-19\"><span class=\"toc-item-num\">19&nbsp;&nbsp;</span>Namespaces are one honking great idea -- let's do more of those</a></span></li></ul></div>"
   ]
  },
  {
   "cell_type": "markdown",
   "metadata": {},
   "source": [
    "## Beautiful is better than ugly"
   ]
  },
  {
   "cell_type": "markdown",
   "metadata": {},
   "source": [
    "## Explicit is better than implicit"
   ]
  },
  {
   "cell_type": "markdown",
   "metadata": {},
   "source": [
    "## Simple is better than complex"
   ]
  },
  {
   "cell_type": "markdown",
   "metadata": {},
   "source": [
    "## Complex is better than complicated"
   ]
  },
  {
   "cell_type": "markdown",
   "metadata": {},
   "source": [
    "## Flat is better than nested"
   ]
  },
  {
   "cell_type": "markdown",
   "metadata": {},
   "source": [
    "## Sparse is better than dense"
   ]
  },
  {
   "cell_type": "markdown",
   "metadata": {},
   "source": [
    "## Readability counts"
   ]
  },
  {
   "cell_type": "markdown",
   "metadata": {},
   "source": [
    "## Special cases aren't special enough to break the rules"
   ]
  },
  {
   "cell_type": "markdown",
   "metadata": {},
   "source": [
    "## Although practicality beats purity"
   ]
  },
  {
   "cell_type": "markdown",
   "metadata": {},
   "source": [
    "## Errors should never pass silently"
   ]
  },
  {
   "cell_type": "markdown",
   "metadata": {},
   "source": [
    "## Unless explicitly silenced"
   ]
  },
  {
   "cell_type": "markdown",
   "metadata": {},
   "source": [
    "## In the face of ambiguity, refuse the temptation to guess"
   ]
  },
  {
   "cell_type": "markdown",
   "metadata": {},
   "source": [
    "## There should be one-- and preferably only one --obvious way to do it"
   ]
  },
  {
   "cell_type": "markdown",
   "metadata": {},
   "source": [
    "## Although that way may not be obvious at first unless you're Dutch"
   ]
  },
  {
   "cell_type": "markdown",
   "metadata": {},
   "source": [
    "## Now is better than never"
   ]
  },
  {
   "cell_type": "markdown",
   "metadata": {},
   "source": [
    "## Although never is often better than *right* now"
   ]
  },
  {
   "cell_type": "markdown",
   "metadata": {},
   "source": [
    "## If the implementation is hard to explain, it's a bad idea"
   ]
  },
  {
   "cell_type": "markdown",
   "metadata": {},
   "source": [
    "## If the implementation is easy to explain, it may be a good idea"
   ]
  },
  {
   "cell_type": "markdown",
   "metadata": {},
   "source": [
    "## Namespaces are one honking great idea -- let's do more of those"
   ]
  },
  {
   "cell_type": "code",
   "execution_count": 3,
   "metadata": {},
   "outputs": [],
   "source": [
    "import this"
   ]
  },
  {
   "cell_type": "code",
   "execution_count": 4,
   "metadata": {},
   "outputs": [
    {
     "data": {
      "text/plain": [
       "''"
      ]
     },
     "execution_count": 4,
     "metadata": {},
     "output_type": "execute_result"
    }
   ],
   "source": [
    "str(_)"
   ]
  },
  {
   "cell_type": "code",
   "execution_count": null,
   "metadata": {},
   "outputs": [],
   "source": []
  }
 ],
 "metadata": {
  "kernelspec": {
   "display_name": "Python 3",
   "language": "python",
   "name": "python3"
  },
  "language_info": {
   "codemirror_mode": {
    "name": "ipython",
    "version": 3
   },
   "file_extension": ".py",
   "mimetype": "text/x-python",
   "name": "python",
   "nbconvert_exporter": "python",
   "pygments_lexer": "ipython3",
   "version": "3.7.6"
  },
  "toc": {
   "base_numbering": 1,
   "nav_menu": {},
   "number_sections": true,
   "sideBar": true,
   "skip_h1_title": true,
   "title_cell": "Table of Contents",
   "title_sidebar": "Contents",
   "toc_cell": true,
   "toc_position": {},
   "toc_section_display": true,
   "toc_window_display": true
  },
  "varInspector": {
   "cols": {
    "lenName": 16,
    "lenType": 16,
    "lenVar": 40
   },
   "kernels_config": {
    "python": {
     "delete_cmd_postfix": "",
     "delete_cmd_prefix": "del ",
     "library": "var_list.py",
     "varRefreshCmd": "print(var_dic_list())"
    },
    "r": {
     "delete_cmd_postfix": ") ",
     "delete_cmd_prefix": "rm(",
     "library": "var_list.r",
     "varRefreshCmd": "cat(var_dic_list()) "
    }
   },
   "types_to_exclude": [
    "module",
    "function",
    "builtin_function_or_method",
    "instance",
    "_Feature"
   ],
   "window_display": false
  }
 },
 "nbformat": 4,
 "nbformat_minor": 2
}
