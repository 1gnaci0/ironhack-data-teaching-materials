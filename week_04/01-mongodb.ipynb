{
 "cells": [
  {
   "cell_type": "markdown",
   "metadata": {},
   "source": [
    "# MongoDB"
   ]
  },
  {
   "cell_type": "markdown",
   "metadata": {
    "toc": true
   },
   "source": [
    "<h1>Table of Contents<span class=\"tocSkip\"></span></h1>\n",
    "<div class=\"toc\"><ul class=\"toc-item\"><li><span><a href=\"#Warmup\" data-toc-modified-id=\"Warmup-1\"><span class=\"toc-item-num\">1&nbsp;&nbsp;</span>Warmup</a></span></li><li><span><a href=\"#Connection\" data-toc-modified-id=\"Connection-2\"><span class=\"toc-item-num\">2&nbsp;&nbsp;</span>Connection</a></span></li><li><span><a href=\"#Database-management-operations\" data-toc-modified-id=\"Database-management-operations-3\"><span class=\"toc-item-num\">3&nbsp;&nbsp;</span>Database management operations</a></span></li><li><span><a href=\"#Basic-operations\" data-toc-modified-id=\"Basic-operations-4\"><span class=\"toc-item-num\">4&nbsp;&nbsp;</span>Basic operations</a></span><ul class=\"toc-item\"><li><span><a href=\"#Read-document:-find_one\" data-toc-modified-id=\"Read-document:-find_one-4.1\"><span class=\"toc-item-num\">4.1&nbsp;&nbsp;</span>Read document: <code>find_one</code></a></span></li><li><span><a href=\"#Read-document:-find\" data-toc-modified-id=\"Read-document:-find-4.2\"><span class=\"toc-item-num\">4.2&nbsp;&nbsp;</span>Read document: <code>find</code></a></span></li></ul></li></ul></div>"
   ]
  },
  {
   "cell_type": "markdown",
   "metadata": {},
   "source": [
    "## Warmup"
   ]
  },
  {
   "cell_type": "markdown",
   "metadata": {},
   "source": [
    "[Mongo is not a SQL database](https://www.youtube.com/watch?v=DM4gD6Z5zFU&ab_channel=BitechStudio)"
   ]
  },
  {
   "cell_type": "markdown",
   "metadata": {},
   "source": [
    "## Connection"
   ]
  },
  {
   "cell_type": "code",
   "execution_count": 1,
   "metadata": {},
   "outputs": [],
   "source": [
    "from pymongo import MongoClient"
   ]
  },
  {
   "cell_type": "markdown",
   "metadata": {},
   "source": [
    "Make sure your `mongod` process is running, via terminal"
   ]
  },
  {
   "cell_type": "code",
   "execution_count": 2,
   "metadata": {},
   "outputs": [],
   "source": [
    "conn = MongoClient(\"localhost:27017\")"
   ]
  },
  {
   "cell_type": "markdown",
   "metadata": {
    "colab_type": "text",
    "id": "ReTAwwEuGvpF"
   },
   "source": [
    "## Database management operations"
   ]
  },
  {
   "cell_type": "code",
   "execution_count": 3,
   "metadata": {
    "colab": {
     "base_uri": "https://localhost:8080/",
     "height": 34
    },
    "colab_type": "code",
    "id": "Dp9AHfb8O_ZS",
    "outputId": "1b343c35-67d5-4735-c2d0-b614cd00c786"
   },
   "outputs": [
    {
     "data": {
      "text/plain": [
       "['admin', 'config', 'ironhack', 'local']"
      ]
     },
     "execution_count": 3,
     "metadata": {},
     "output_type": "execute_result"
    }
   ],
   "source": [
    "# show existing database names\n",
    "conn.list_database_names()"
   ]
  },
  {
   "cell_type": "code",
   "execution_count": 5,
   "metadata": {
    "colab": {},
    "colab_type": "code",
    "id": "QixrK4duFCVu"
   },
   "outputs": [],
   "source": [
    "# choose database to work with\n",
    "db = conn.get_database(\"ironhack\")"
   ]
  },
  {
   "cell_type": "code",
   "execution_count": 7,
   "metadata": {
    "colab": {
     "base_uri": "https://localhost:8080/",
     "height": 34
    },
    "colab_type": "code",
    "id": "Dp9AHfb8O_ZS",
    "outputId": "1b343c35-67d5-4735-c2d0-b614cd00c786"
   },
   "outputs": [
    {
     "data": {
      "text/plain": [
       "['restaurants', 'countries_small']"
      ]
     },
     "execution_count": 7,
     "metadata": {},
     "output_type": "execute_result"
    }
   ],
   "source": [
    "# show collections inside database\n",
    "db.list_collection_names()"
   ]
  },
  {
   "cell_type": "code",
   "execution_count": 8,
   "metadata": {},
   "outputs": [
    {
     "data": {
      "text/plain": [
       "Collection(Database(MongoClient(host=['localhost:27017'], document_class=dict, tz_aware=False, connect=True), 'ironhack'), 'test_collection')"
      ]
     },
     "execution_count": 8,
     "metadata": {},
     "output_type": "execute_result"
    }
   ],
   "source": [
    "# create collection \n",
    "db.create_collection(\"test_collection\")"
   ]
  },
  {
   "cell_type": "code",
   "execution_count": 9,
   "metadata": {
    "colab": {
     "base_uri": "https://localhost:8080/",
     "height": 34
    },
    "colab_type": "code",
    "id": "Dp9AHfb8O_ZS",
    "outputId": "1b343c35-67d5-4735-c2d0-b614cd00c786"
   },
   "outputs": [
    {
     "data": {
      "text/plain": [
       "['restaurants', 'test_collection', 'countries_small']"
      ]
     },
     "execution_count": 9,
     "metadata": {},
     "output_type": "execute_result"
    }
   ],
   "source": [
    "# show collections inside database\n",
    "db.list_collection_names()"
   ]
  },
  {
   "cell_type": "code",
   "execution_count": 10,
   "metadata": {},
   "outputs": [
    {
     "data": {
      "text/plain": [
       "{'nIndexesWas': 1, 'ns': 'ironhack.test_collection', 'ok': 1.0}"
      ]
     },
     "execution_count": 10,
     "metadata": {},
     "output_type": "execute_result"
    }
   ],
   "source": [
    "# create collection \n",
    "db.drop_collection(\"test_collection\")"
   ]
  },
  {
   "cell_type": "code",
   "execution_count": 11,
   "metadata": {
    "colab": {
     "base_uri": "https://localhost:8080/",
     "height": 34
    },
    "colab_type": "code",
    "id": "Dp9AHfb8O_ZS",
    "outputId": "1b343c35-67d5-4735-c2d0-b614cd00c786"
   },
   "outputs": [
    {
     "data": {
      "text/plain": [
       "['restaurants', 'countries_small']"
      ]
     },
     "execution_count": 11,
     "metadata": {},
     "output_type": "execute_result"
    }
   ],
   "source": [
    "# show collections inside database\n",
    "db.list_collection_names()"
   ]
  },
  {
   "cell_type": "code",
   "execution_count": 12,
   "metadata": {
    "colab": {},
    "colab_type": "code",
    "id": "QixrK4duFCVu"
   },
   "outputs": [],
   "source": [
    "# choose collection to work with\n",
    "collection = db.get_collection(\"restaurants\")"
   ]
  },
  {
   "cell_type": "markdown",
   "metadata": {
    "colab_type": "text",
    "id": "lyXw-8I8SN6m"
   },
   "source": [
    "#4. Basic Collection management operations"
   ]
  },
  {
   "cell_type": "markdown",
   "metadata": {
    "colab_type": "text",
    "id": "FVB8FcgQz8ok"
   },
   "source": [
    "## Basic operations"
   ]
  },
  {
   "cell_type": "markdown",
   "metadata": {},
   "source": [
    "### Read document: `find_one`"
   ]
  },
  {
   "cell_type": "code",
   "execution_count": 32,
   "metadata": {
    "colab": {
     "base_uri": "https://localhost:8080/",
     "height": 221
    },
    "colab_type": "code",
    "id": "LNhnVqL7C6L5",
    "outputId": "cd60575e-e0de-4c3d-fcac-588e4e143753"
   },
   "outputs": [
    {
     "data": {
      "text/plain": [
       "{'_id': ObjectId('55f14312c7447c3da7051b26'),\n",
       " 'URL': 'http://www.just-eat.co.uk/restaurants-cn-chinese-cardiff/menu',\n",
       " 'address': '228 City Road',\n",
       " 'address line 2': 'Cardiff',\n",
       " 'name': '.CN Chinese',\n",
       " 'outcode': 'CF24',\n",
       " 'postcode': '3JH',\n",
       " 'rating': 5,\n",
       " 'type_of_food': 'Chinese'}"
      ]
     },
     "execution_count": 32,
     "metadata": {},
     "output_type": "execute_result"
    }
   ],
   "source": [
    "collection.find_one({})"
   ]
  },
  {
   "cell_type": "code",
   "execution_count": 39,
   "metadata": {
    "colab": {
     "base_uri": "https://localhost:8080/",
     "height": 221
    },
    "colab_type": "code",
    "id": "LNhnVqL7C6L5",
    "outputId": "cd60575e-e0de-4c3d-fcac-588e4e143753"
   },
   "outputs": [
    {
     "data": {
      "text/plain": [
       "{'_id': ObjectId('55f14312c7447c3da7051b3a'),\n",
       " 'URL': 'http://www.just-eat.co.uk/restaurants-1pizza1com-ls26/menu',\n",
       " 'address': '160 Leeds Road',\n",
       " 'address line 2': 'Leeds',\n",
       " 'name': '1pizza1',\n",
       " 'outcode': 'LS26',\n",
       " 'postcode': '0JH',\n",
       " 'rating': 4,\n",
       " 'type_of_food': 'Pizza'}"
      ]
     },
     "execution_count": 39,
     "metadata": {},
     "output_type": "execute_result"
    }
   ],
   "source": [
    "collection.find_one({\"rating\": 4})"
   ]
  },
  {
   "cell_type": "code",
   "execution_count": 40,
   "metadata": {
    "colab": {
     "base_uri": "https://localhost:8080/",
     "height": 221
    },
    "colab_type": "code",
    "id": "LNhnVqL7C6L5",
    "outputId": "cd60575e-e0de-4c3d-fcac-588e4e143753"
   },
   "outputs": [
    {
     "data": {
      "text/plain": [
       "{'_id': ObjectId('55f14312c7447c3da7051b34'),\n",
       " 'URL': 'http://www.just-eat.co.uk/restaurants-109restaurant-w2/menu',\n",
       " 'address': '109 Westbourne Park Road',\n",
       " 'address line 2': 'London',\n",
       " 'name': '109 Ristorante',\n",
       " 'outcode': 'W2',\n",
       " 'postcode': '5QL',\n",
       " 'rating': 5,\n",
       " 'type_of_food': 'Pizza'}"
      ]
     },
     "execution_count": 40,
     "metadata": {},
     "output_type": "execute_result"
    }
   ],
   "source": [
    "collection.find_one({\"rating\": 5, \"type_of_food\": \"Pizza\"})"
   ]
  },
  {
   "cell_type": "markdown",
   "metadata": {},
   "source": [
    "### Read document: `find`"
   ]
  },
  {
   "cell_type": "markdown",
   "metadata": {},
   "source": [
    "Lets find all documents in the collection, with no filter"
   ]
  },
  {
   "cell_type": "code",
   "execution_count": 26,
   "metadata": {
    "colab": {
     "base_uri": "https://localhost:8080/",
     "height": 221
    },
    "colab_type": "code",
    "id": "LNhnVqL7C6L5",
    "outputId": "cd60575e-e0de-4c3d-fcac-588e4e143753"
   },
   "outputs": [],
   "source": [
    "documents = collection.find()"
   ]
  },
  {
   "cell_type": "code",
   "execution_count": 27,
   "metadata": {},
   "outputs": [
    {
     "data": {
      "text/plain": [
       "<pymongo.cursor.Cursor at 0x7fdb42f3c040>"
      ]
     },
     "execution_count": 27,
     "metadata": {},
     "output_type": "execute_result"
    }
   ],
   "source": [
    "documents"
   ]
  },
  {
   "cell_type": "code",
   "execution_count": 28,
   "metadata": {},
   "outputs": [
    {
     "data": {
      "text/plain": [
       "pymongo.cursor.Cursor"
      ]
     },
     "execution_count": 28,
     "metadata": {},
     "output_type": "execute_result"
    }
   ],
   "source": [
    "type(documents)"
   ]
  },
  {
   "cell_type": "markdown",
   "metadata": {},
   "source": [
    "`pymongo` returns a Cursor:\n",
    " * a Cursor is an iterator\n",
    " * a Cursor therefore has the method `__next__` (function `next` returns next element in stream)\n",
    " * `pymongo` does not bring information to memory until needed"
   ]
  },
  {
   "cell_type": "code",
   "execution_count": 29,
   "metadata": {},
   "outputs": [
    {
     "data": {
      "text/plain": [
       "{'_id': ObjectId('55f14312c7447c3da7051b26'),\n",
       " 'URL': 'http://www.just-eat.co.uk/restaurants-cn-chinese-cardiff/menu',\n",
       " 'address': '228 City Road',\n",
       " 'address line 2': 'Cardiff',\n",
       " 'name': '.CN Chinese',\n",
       " 'outcode': 'CF24',\n",
       " 'postcode': '3JH',\n",
       " 'rating': 5,\n",
       " 'type_of_food': 'Chinese'}"
      ]
     },
     "execution_count": 29,
     "metadata": {},
     "output_type": "execute_result"
    }
   ],
   "source": [
    "next(documents)"
   ]
  },
  {
   "cell_type": "code",
   "execution_count": null,
   "metadata": {},
   "outputs": [],
   "source": []
  },
  {
   "cell_type": "code",
   "execution_count": 0,
   "metadata": {
    "colab": {
     "base_uri": "https://localhost:8080/",
     "height": 204
    },
    "colab_type": "code",
    "id": "G2AAmVJcr1iz",
    "outputId": "ac0d4c9d-42c5-4210-b029-452dd75bd059"
   },
   "outputs": [
    {
     "data": {
      "text/plain": [
       "[{'_id': ObjectId('5e751678cca75b007925d51b'),\n",
       "  'address': {'city': 'Barcelona',\n",
       "   'floor': None,\n",
       "   'number': 70,\n",
       "   'postalcode': '08012',\n",
       "   'street': \"Torrent de l'Olla\"},\n",
       "  'age': 34,\n",
       "  'favouriteFruits': ['banana', 'pineapple', 'orange'],\n",
       "  'gender': 'Male',\n",
       "  'likes_python': True,\n",
       "  'name': 'Jordi '}]"
      ]
     },
     "execution_count": 22,
     "metadata": {
      "tags": []
     },
     "output_type": "execute_result"
    }
   ],
   "source": [
    "list ( collection.find( {'address.city' : City } ))             # find, can use one key or more "
   ]
  },
  {
   "cell_type": "code",
   "execution_count": null,
   "metadata": {},
   "outputs": [],
   "source": []
  },
  {
   "cell_type": "code",
   "execution_count": null,
   "metadata": {},
   "outputs": [],
   "source": []
  },
  {
   "cell_type": "code",
   "execution_count": null,
   "metadata": {},
   "outputs": [],
   "source": []
  },
  {
   "cell_type": "code",
   "execution_count": null,
   "metadata": {},
   "outputs": [],
   "source": []
  },
  {
   "cell_type": "code",
   "execution_count": 47,
   "metadata": {},
   "outputs": [
    {
     "data": {
      "text/plain": [
       "<pymongo.cursor.Cursor at 0x7fdb42f3c250>"
      ]
     },
     "execution_count": 47,
     "metadata": {},
     "output_type": "execute_result"
    }
   ],
   "source": [
    "collection.find().limit(1)"
   ]
  },
  {
   "cell_type": "code",
   "execution_count": 48,
   "metadata": {},
   "outputs": [
    {
     "data": {
      "text/plain": [
       "{'_id': ObjectId('55f14312c7447c3da7051b26'),\n",
       " 'URL': 'http://www.just-eat.co.uk/restaurants-cn-chinese-cardiff/menu',\n",
       " 'address': '228 City Road',\n",
       " 'address line 2': 'Cardiff',\n",
       " 'name': '.CN Chinese',\n",
       " 'outcode': 'CF24',\n",
       " 'postcode': '3JH',\n",
       " 'rating': 5,\n",
       " 'type_of_food': 'Chinese'}"
      ]
     },
     "execution_count": 48,
     "metadata": {},
     "output_type": "execute_result"
    }
   ],
   "source": [
    "next(_)"
   ]
  },
  {
   "cell_type": "markdown",
   "metadata": {},
   "source": [
    "see attributes with find_one keys"
   ]
  },
  {
   "cell_type": "markdown",
   "metadata": {},
   "source": [
    "distinct\n",
    "limit\n",
    "skip\n",
    "exists\n",
    "gt\n",
    "lt\n",
    "ne"
   ]
  },
  {
   "cell_type": "markdown",
   "metadata": {},
   "source": [
    "update_one\n",
    "update_manu\n",
    "set unset"
   ]
  },
  {
   "cell_type": "markdown",
   "metadata": {
    "colab": {},
    "colab_type": "code",
    "id": "4P-hs1KYTkSE"
   },
   "source": [
    "delete_one"
   ]
  }
 ],
 "metadata": {
  "colab": {
   "collapsed_sections": [],
   "include_colab_link": true,
   "name": "1.1_First_steps_with_MongoDB-PyMongo.ipynb",
   "provenance": []
  },
  "kernelspec": {
   "display_name": "Python 3",
   "language": "python",
   "name": "python3"
  },
  "language_info": {
   "codemirror_mode": {
    "name": "ipython",
    "version": 3
   },
   "file_extension": ".py",
   "mimetype": "text/x-python",
   "name": "python",
   "nbconvert_exporter": "python",
   "pygments_lexer": "ipython3",
   "version": "3.8.5"
  },
  "toc": {
   "base_numbering": 1,
   "nav_menu": {},
   "number_sections": true,
   "sideBar": true,
   "skip_h1_title": true,
   "title_cell": "Table of Contents",
   "title_sidebar": "Contents",
   "toc_cell": true,
   "toc_position": {},
   "toc_section_display": true,
   "toc_window_display": true
  },
  "varInspector": {
   "cols": {
    "lenName": 16,
    "lenType": 16,
    "lenVar": 40
   },
   "kernels_config": {
    "python": {
     "delete_cmd_postfix": "",
     "delete_cmd_prefix": "del ",
     "library": "var_list.py",
     "varRefreshCmd": "print(var_dic_list())"
    },
    "r": {
     "delete_cmd_postfix": ") ",
     "delete_cmd_prefix": "rm(",
     "library": "var_list.r",
     "varRefreshCmd": "cat(var_dic_list()) "
    }
   },
   "types_to_exclude": [
    "module",
    "function",
    "builtin_function_or_method",
    "instance",
    "_Feature"
   ],
   "window_display": false
  }
 },
 "nbformat": 4,
 "nbformat_minor": 1
}
