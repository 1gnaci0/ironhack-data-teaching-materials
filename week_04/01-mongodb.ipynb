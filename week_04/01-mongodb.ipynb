{
 "cells": [
  {
   "cell_type": "markdown",
   "metadata": {},
   "source": [
    "# MongoDB"
   ]
  },
  {
   "cell_type": "markdown",
   "metadata": {
    "toc": true
   },
   "source": [
    "<h1>Table of Contents<span class=\"tocSkip\"></span></h1>\n",
    "<div class=\"toc\"><ul class=\"toc-item\"><li><span><a href=\"#Warmup\" data-toc-modified-id=\"Warmup-1\"><span class=\"toc-item-num\">1&nbsp;&nbsp;</span>Warmup</a></span></li><li><span><a href=\"#Connection\" data-toc-modified-id=\"Connection-2\"><span class=\"toc-item-num\">2&nbsp;&nbsp;</span>Connection</a></span></li><li><span><a href=\"#Database-management-operations\" data-toc-modified-id=\"Database-management-operations-3\"><span class=\"toc-item-num\">3&nbsp;&nbsp;</span>Database management operations</a></span></li><li><span><a href=\"#Querying-documents\" data-toc-modified-id=\"Querying-documents-4\"><span class=\"toc-item-num\">4&nbsp;&nbsp;</span>Querying documents</a></span><ul class=\"toc-item\"><li><span><a href=\"#find_one-method\" data-toc-modified-id=\"find_one-method-4.1\"><span class=\"toc-item-num\">4.1&nbsp;&nbsp;</span><code>find_one</code> method</a></span></li><li><span><a href=\"#find-method\" data-toc-modified-id=\"find-method-4.2\"><span class=\"toc-item-num\">4.2&nbsp;&nbsp;</span><code>find</code> method</a></span></li></ul></li><li><span><a href=\"#Projecting\" data-toc-modified-id=\"Projecting-5\"><span class=\"toc-item-num\">5&nbsp;&nbsp;</span>Projecting</a></span></li><li><span><a href=\"#Other-methods\" data-toc-modified-id=\"Other-methods-6\"><span class=\"toc-item-num\">6&nbsp;&nbsp;</span>Other methods</a></span><ul class=\"toc-item\"><li><span><a href=\"#distinct\" data-toc-modified-id=\"distinct-6.1\"><span class=\"toc-item-num\">6.1&nbsp;&nbsp;</span><code>distinct</code></a></span></li><li><span><a href=\"#count\" data-toc-modified-id=\"count-6.2\"><span class=\"toc-item-num\">6.2&nbsp;&nbsp;</span><code>count</code></a></span></li><li><span><a href=\"#sort\" data-toc-modified-id=\"sort-6.3\"><span class=\"toc-item-num\">6.3&nbsp;&nbsp;</span><code>sort</code></a></span></li><li><span><a href=\"#limit\" data-toc-modified-id=\"limit-6.4\"><span class=\"toc-item-num\">6.4&nbsp;&nbsp;</span><code>limit</code></a></span></li><li><span><a href=\"#skip\" data-toc-modified-id=\"skip-6.5\"><span class=\"toc-item-num\">6.5&nbsp;&nbsp;</span><code>skip</code></a></span></li></ul></li><li><span><a href=\"#Typical-query-operators\" data-toc-modified-id=\"Typical-query-operators-7\"><span class=\"toc-item-num\">7&nbsp;&nbsp;</span>Typical query operators</a></span><ul class=\"toc-item\"><li><span><a href=\"#greater-than-/-less-than\" data-toc-modified-id=\"greater-than-/-less-than-7.1\"><span class=\"toc-item-num\">7.1&nbsp;&nbsp;</span>greater than / less than</a></span></li><li><span><a href=\"#exists\" data-toc-modified-id=\"exists-7.2\"><span class=\"toc-item-num\">7.2&nbsp;&nbsp;</span><code>exists</code></a></span></li><li><span><a href=\"#regex\" data-toc-modified-id=\"regex-7.3\"><span class=\"toc-item-num\">7.3&nbsp;&nbsp;</span><code>regex</code></a></span></li><li><span><a href=\"#and\" data-toc-modified-id=\"and-7.4\"><span class=\"toc-item-num\">7.4&nbsp;&nbsp;</span><code>and</code></a></span></li><li><span><a href=\"#or\" data-toc-modified-id=\"or-7.5\"><span class=\"toc-item-num\">7.5&nbsp;&nbsp;</span><code>or</code></a></span></li><li><span><a href=\"#ne\" data-toc-modified-id=\"ne-7.6\"><span class=\"toc-item-num\">7.6&nbsp;&nbsp;</span><code>ne</code></a></span></li><li><span><a href=\"#in\" data-toc-modified-id=\"in-7.7\"><span class=\"toc-item-num\">7.7&nbsp;&nbsp;</span><code>in</code></a></span></li><li><span><a href=\"#nin\" data-toc-modified-id=\"nin-7.8\"><span class=\"toc-item-num\">7.8&nbsp;&nbsp;</span><code>nin</code></a></span></li></ul></li><li><span><a href=\"#Update\" data-toc-modified-id=\"Update-8\"><span class=\"toc-item-num\">8&nbsp;&nbsp;</span>Update</a></span></li><li><span><a href=\"#Delete\" data-toc-modified-id=\"Delete-9\"><span class=\"toc-item-num\">9&nbsp;&nbsp;</span>Delete</a></span></li><li><span><a href=\"#Geoqueries\" data-toc-modified-id=\"Geoqueries-10\"><span class=\"toc-item-num\">10&nbsp;&nbsp;</span>Geoqueries</a></span><ul class=\"toc-item\"><li><span><a href=\"#Import-collections\" data-toc-modified-id=\"Import-collections-10.1\"><span class=\"toc-item-num\">10.1&nbsp;&nbsp;</span>Import collections</a></span></li><li><span><a href=\"#Create-geo-indexes\" data-toc-modified-id=\"Create-geo-indexes-10.2\"><span class=\"toc-item-num\">10.2&nbsp;&nbsp;</span>Create geo indexes</a></span></li><li><span><a href=\"#Geometries\" data-toc-modified-id=\"Geometries-10.3\"><span class=\"toc-item-num\">10.3&nbsp;&nbsp;</span>Geometries</a></span></li><li><span><a href=\"#Run-geoqueries\" data-toc-modified-id=\"Run-geoqueries-10.4\"><span class=\"toc-item-num\">10.4&nbsp;&nbsp;</span>Run geoqueries</a></span><ul class=\"toc-item\"><li><span><a href=\"#geoIntersects\" data-toc-modified-id=\"geoIntersects-10.4.1\"><span class=\"toc-item-num\">10.4.1&nbsp;&nbsp;</span><code>geoIntersects</code></a></span></li><li><span><a href=\"#geoWithin\" data-toc-modified-id=\"geoWithin-10.4.2\"><span class=\"toc-item-num\">10.4.2&nbsp;&nbsp;</span><code>geoWithin</code></a></span></li><li><span><a href=\"#nearSphere\" data-toc-modified-id=\"nearSphere-10.4.3\"><span class=\"toc-item-num\">10.4.3&nbsp;&nbsp;</span><code>nearSphere</code></a></span></li></ul></li></ul></li><li><span><a href=\"#Summary\" data-toc-modified-id=\"Summary-11\"><span class=\"toc-item-num\">11&nbsp;&nbsp;</span>Summary</a></span></li><li><span><a href=\"#Further-materials\" data-toc-modified-id=\"Further-materials-12\"><span class=\"toc-item-num\">12&nbsp;&nbsp;</span>Further materials</a></span></li></ul></div>"
   ]
  },
  {
   "cell_type": "markdown",
   "metadata": {},
   "source": [
    "## Warmup"
   ]
  },
  {
   "cell_type": "markdown",
   "metadata": {},
   "source": [
    "[Mongo is not a SQL database](https://www.youtube.com/watch?v=DM4gD6Z5zFU&ab_channel=BitechStudio)"
   ]
  },
  {
   "cell_type": "markdown",
   "metadata": {},
   "source": [
    "## Connection"
   ]
  },
  {
   "cell_type": "markdown",
   "metadata": {},
   "source": [
    "First, make sure there is a mongo process running..."
   ]
  },
  {
   "cell_type": "code",
   "execution_count": 1,
   "metadata": {},
   "outputs": [
    {
     "name": "stdout",
     "output_type": "stream",
     "text": [
      "Requirement already satisfied: pymongo in /home/sheriff/miniconda3/envs/ironhack/lib/python3.8/site-packages (3.11.0)\r\n"
     ]
    }
   ],
   "source": [
    "!pip install pymongo"
   ]
  },
  {
   "cell_type": "code",
   "execution_count": 1,
   "metadata": {},
   "outputs": [],
   "source": [
    "from pymongo import MongoClient"
   ]
  },
  {
   "cell_type": "code",
   "execution_count": 2,
   "metadata": {},
   "outputs": [],
   "source": [
    "conn = MongoClient(\"localhost:27017\")"
   ]
  },
  {
   "cell_type": "markdown",
   "metadata": {
    "colab_type": "text",
    "id": "ReTAwwEuGvpF"
   },
   "source": [
    "## Database management operations"
   ]
  },
  {
   "cell_type": "code",
   "execution_count": 3,
   "metadata": {
    "colab": {
     "base_uri": "https://localhost:8080/",
     "height": 34
    },
    "colab_type": "code",
    "id": "Dp9AHfb8O_ZS",
    "outputId": "1b343c35-67d5-4735-c2d0-b614cd00c786"
   },
   "outputs": [
    {
     "data": {
      "text/plain": [
       "['admin', 'config', 'ironhack', 'local']"
      ]
     },
     "execution_count": 3,
     "metadata": {},
     "output_type": "execute_result"
    }
   ],
   "source": [
    "# show existing database names\n",
    "conn.list_database_names()"
   ]
  },
  {
   "cell_type": "code",
   "execution_count": 4,
   "metadata": {
    "colab": {},
    "colab_type": "code",
    "id": "QixrK4duFCVu"
   },
   "outputs": [],
   "source": [
    "# choose database to work with\n",
    "db = conn.get_database(\"ironhack\")"
   ]
  },
  {
   "cell_type": "code",
   "execution_count": 5,
   "metadata": {},
   "outputs": [
    {
     "data": {
      "text/plain": [
       "Database(MongoClient(host=['localhost:27017'], document_class=dict, tz_aware=False, connect=True), 'ironhack')"
      ]
     },
     "execution_count": 5,
     "metadata": {},
     "output_type": "execute_result"
    }
   ],
   "source": [
    "db"
   ]
  },
  {
   "cell_type": "code",
   "execution_count": 6,
   "metadata": {
    "colab": {
     "base_uri": "https://localhost:8080/",
     "height": 34
    },
    "colab_type": "code",
    "id": "Dp9AHfb8O_ZS",
    "outputId": "1b343c35-67d5-4735-c2d0-b614cd00c786"
   },
   "outputs": [
    {
     "data": {
      "text/plain": [
       "['restaurants',\n",
       " 'books',\n",
       " 'companies',\n",
       " 'countries_small',\n",
       " 'neighborhoods',\n",
       " 'restaurants2']"
      ]
     },
     "execution_count": 6,
     "metadata": {},
     "output_type": "execute_result"
    }
   ],
   "source": [
    "# show collections inside database\n",
    "db.list_collection_names()"
   ]
  },
  {
   "cell_type": "code",
   "execution_count": 7,
   "metadata": {},
   "outputs": [
    {
     "data": {
      "text/plain": [
       "Collection(Database(MongoClient(host=['localhost:27017'], document_class=dict, tz_aware=False, connect=True), 'ironhack'), 'test_collection')"
      ]
     },
     "execution_count": 7,
     "metadata": {},
     "output_type": "execute_result"
    }
   ],
   "source": [
    "# create collection \n",
    "db.create_collection(\"test_collection\")"
   ]
  },
  {
   "cell_type": "code",
   "execution_count": 8,
   "metadata": {
    "colab": {
     "base_uri": "https://localhost:8080/",
     "height": 34
    },
    "colab_type": "code",
    "id": "Dp9AHfb8O_ZS",
    "outputId": "1b343c35-67d5-4735-c2d0-b614cd00c786"
   },
   "outputs": [
    {
     "data": {
      "text/plain": [
       "['restaurants',\n",
       " 'books',\n",
       " 'companies',\n",
       " 'countries_small',\n",
       " 'neighborhoods',\n",
       " 'test_collection',\n",
       " 'restaurants2']"
      ]
     },
     "execution_count": 8,
     "metadata": {},
     "output_type": "execute_result"
    }
   ],
   "source": [
    "# show collections inside database\n",
    "db.list_collection_names()"
   ]
  },
  {
   "cell_type": "code",
   "execution_count": 9,
   "metadata": {},
   "outputs": [
    {
     "data": {
      "text/plain": [
       "{'nIndexesWas': 1, 'ns': 'ironhack.test_collection', 'ok': 1.0}"
      ]
     },
     "execution_count": 9,
     "metadata": {},
     "output_type": "execute_result"
    }
   ],
   "source": [
    "# drop collection \n",
    "db.drop_collection(\"test_collection\")"
   ]
  },
  {
   "cell_type": "code",
   "execution_count": 10,
   "metadata": {
    "colab": {
     "base_uri": "https://localhost:8080/",
     "height": 34
    },
    "colab_type": "code",
    "id": "Dp9AHfb8O_ZS",
    "outputId": "1b343c35-67d5-4735-c2d0-b614cd00c786"
   },
   "outputs": [
    {
     "data": {
      "text/plain": [
       "['restaurants',\n",
       " 'books',\n",
       " 'companies',\n",
       " 'countries_small',\n",
       " 'neighborhoods',\n",
       " 'restaurants2']"
      ]
     },
     "execution_count": 10,
     "metadata": {},
     "output_type": "execute_result"
    }
   ],
   "source": [
    "# show collections inside database\n",
    "db.list_collection_names()"
   ]
  },
  {
   "cell_type": "code",
   "execution_count": 5,
   "metadata": {
    "colab": {},
    "colab_type": "code",
    "id": "QixrK4duFCVu"
   },
   "outputs": [],
   "source": [
    "# choose collection to work with\n",
    "collection = db.get_collection(\"restaurants\")"
   ]
  },
  {
   "cell_type": "markdown",
   "metadata": {
    "colab_type": "text",
    "id": "FVB8FcgQz8ok"
   },
   "source": [
    "## Querying documents"
   ]
  },
  {
   "cell_type": "markdown",
   "metadata": {},
   "source": [
    "### `find_one` method"
   ]
  },
  {
   "cell_type": "markdown",
   "metadata": {},
   "source": [
    "`collection.find_one(filter)`"
   ]
  },
  {
   "cell_type": "code",
   "execution_count": 18,
   "metadata": {
    "colab": {
     "base_uri": "https://localhost:8080/",
     "height": 221
    },
    "colab_type": "code",
    "id": "LNhnVqL7C6L5",
    "outputId": "cd60575e-e0de-4c3d-fcac-588e4e143753"
   },
   "outputs": [
    {
     "data": {
      "text/plain": [
       "{'_id': ObjectId('55f14312c7447c3da7051b26'),\n",
       " 'URL': 'http://www.just-eat.co.uk/restaurants-cn-chinese-cardiff/menu',\n",
       " 'address': '228 City Road',\n",
       " 'address line 2': 'Cardiff',\n",
       " 'name': '.CN Chinese',\n",
       " 'outcode': 'CF24',\n",
       " 'postcode': '3JH',\n",
       " 'rating': 5,\n",
       " 'type_of_food': 'Chinese'}"
      ]
     },
     "execution_count": 18,
     "metadata": {},
     "output_type": "execute_result"
    }
   ],
   "source": [
    "# no filter\n",
    "collection.find_one()"
   ]
  },
  {
   "cell_type": "code",
   "execution_count": 19,
   "metadata": {
    "colab": {
     "base_uri": "https://localhost:8080/",
     "height": 221
    },
    "colab_type": "code",
    "id": "LNhnVqL7C6L5",
    "outputId": "cd60575e-e0de-4c3d-fcac-588e4e143753"
   },
   "outputs": [
    {
     "data": {
      "text/plain": [
       "dict_keys(['_id', 'URL', 'address', 'address line 2', 'name', 'outcode', 'postcode', 'rating', 'type_of_food'])"
      ]
     },
     "execution_count": 19,
     "metadata": {},
     "output_type": "execute_result"
    }
   ],
   "source": [
    "collection.find_one().keys()"
   ]
  },
  {
   "cell_type": "markdown",
   "metadata": {},
   "source": [
    "Careful! Not all documents need to have same keys!"
   ]
  },
  {
   "cell_type": "code",
   "execution_count": 20,
   "metadata": {
    "colab": {
     "base_uri": "https://localhost:8080/",
     "height": 221
    },
    "colab_type": "code",
    "id": "LNhnVqL7C6L5",
    "outputId": "cd60575e-e0de-4c3d-fcac-588e4e143753"
   },
   "outputs": [
    {
     "data": {
      "text/plain": [
       "{'_id': ObjectId('55f14312c7447c3da7051b3a'),\n",
       " 'URL': 'http://www.just-eat.co.uk/restaurants-1pizza1com-ls26/menu',\n",
       " 'address': '160 Leeds Road',\n",
       " 'address line 2': 'Leeds',\n",
       " 'name': '1pizza1',\n",
       " 'outcode': 'LS26',\n",
       " 'postcode': '0JH',\n",
       " 'rating': 4,\n",
       " 'type_of_food': 'Pizza'}"
      ]
     },
     "execution_count": 20,
     "metadata": {},
     "output_type": "execute_result"
    }
   ],
   "source": [
    "collection.find_one({\"rating\": 4})"
   ]
  },
  {
   "cell_type": "markdown",
   "metadata": {},
   "source": [
    "### `find` method"
   ]
  },
  {
   "cell_type": "markdown",
   "metadata": {},
   "source": [
    "`collection.find(filter)`"
   ]
  },
  {
   "cell_type": "markdown",
   "metadata": {},
   "source": [
    "Lets find all documents in the collection, with no filter"
   ]
  },
  {
   "cell_type": "code",
   "execution_count": 21,
   "metadata": {
    "colab": {
     "base_uri": "https://localhost:8080/",
     "height": 221
    },
    "colab_type": "code",
    "id": "LNhnVqL7C6L5",
    "outputId": "cd60575e-e0de-4c3d-fcac-588e4e143753"
   },
   "outputs": [],
   "source": [
    "documents = collection.find()"
   ]
  },
  {
   "cell_type": "code",
   "execution_count": 22,
   "metadata": {},
   "outputs": [
    {
     "data": {
      "text/plain": [
       "<pymongo.cursor.Cursor at 0x7eff32f83d30>"
      ]
     },
     "execution_count": 22,
     "metadata": {},
     "output_type": "execute_result"
    }
   ],
   "source": [
    "documents"
   ]
  },
  {
   "cell_type": "code",
   "execution_count": 23,
   "metadata": {},
   "outputs": [
    {
     "data": {
      "text/plain": [
       "pymongo.cursor.Cursor"
      ]
     },
     "execution_count": 23,
     "metadata": {},
     "output_type": "execute_result"
    }
   ],
   "source": [
    "type(documents)"
   ]
  },
  {
   "cell_type": "code",
   "execution_count": 25,
   "metadata": {},
   "outputs": [
    {
     "ename": "TypeError",
     "evalue": "object of type 'Cursor' has no len()",
     "output_type": "error",
     "traceback": [
      "\u001b[0;31m---------------------------------------------------------------------------\u001b[0m",
      "\u001b[0;31mTypeError\u001b[0m                                 Traceback (most recent call last)",
      "\u001b[0;32m<ipython-input-25-47149eabd622>\u001b[0m in \u001b[0;36m<module>\u001b[0;34m\u001b[0m\n\u001b[0;32m----> 1\u001b[0;31m \u001b[0mlen\u001b[0m\u001b[0;34m(\u001b[0m\u001b[0mdocuments\u001b[0m\u001b[0;34m)\u001b[0m\u001b[0;34m\u001b[0m\u001b[0;34m\u001b[0m\u001b[0m\n\u001b[0m",
      "\u001b[0;31mTypeError\u001b[0m: object of type 'Cursor' has no len()"
     ]
    }
   ],
   "source": [
    "len(documents)"
   ]
  },
  {
   "cell_type": "markdown",
   "metadata": {},
   "source": [
    "`pymongo` collection method `find` returns a Cursor:\n",
    " * a Cursor is an iterator\n",
    " * a Cursor therefore has the method `__next__` (function `next` returns next element in stream)\n",
    " * `pymongo` does not bring information to memory until needed\n",
    " * a Cursor does not have `len`"
   ]
  },
  {
   "cell_type": "code",
   "execution_count": 29,
   "metadata": {},
   "outputs": [
    {
     "data": {
      "text/plain": [
       "{'_id': ObjectId('55f14312c7447c3da7051b2e'),\n",
       " 'URL': 'http://www.just-eat.co.uk/restaurants-042-restaurant-e11/menu',\n",
       " 'address': '885 High Road Leytonstone',\n",
       " 'address line 2': 'London',\n",
       " 'name': '042 Restaurant & Bar',\n",
       " 'outcode': 'E11',\n",
       " 'postcode': '1HR',\n",
       " 'rating': 3,\n",
       " 'type_of_food': 'African'}"
      ]
     },
     "execution_count": 29,
     "metadata": {},
     "output_type": "execute_result"
    }
   ],
   "source": [
    "next(documents)"
   ]
  },
  {
   "cell_type": "code",
   "execution_count": 30,
   "metadata": {
    "colab": {
     "base_uri": "https://localhost:8080/",
     "height": 221
    },
    "colab_type": "code",
    "id": "LNhnVqL7C6L5",
    "outputId": "cd60575e-e0de-4c3d-fcac-588e4e143753"
   },
   "outputs": [],
   "source": [
    "documents2 = collection.find({\"rating\": 6})"
   ]
  },
  {
   "cell_type": "code",
   "execution_count": 31,
   "metadata": {},
   "outputs": [
    {
     "data": {
      "text/plain": [
       "<pymongo.cursor.Cursor at 0x7eff32f6e0a0>"
      ]
     },
     "execution_count": 31,
     "metadata": {},
     "output_type": "execute_result"
    }
   ],
   "source": [
    "documents2"
   ]
  },
  {
   "cell_type": "code",
   "execution_count": 32,
   "metadata": {},
   "outputs": [],
   "source": [
    "top_rated = list(documents2)"
   ]
  },
  {
   "cell_type": "code",
   "execution_count": 34,
   "metadata": {},
   "outputs": [
    {
     "data": {
      "text/plain": [
       "[{'_id': ObjectId('55f14312c7447c3da7051b2a'),\n",
       "  'URL': 'http://www.just-eat.co.uk/restaurants-indiancom-ch4/menu',\n",
       "  'address': '9 Broughton Hall Road',\n",
       "  'address line 2': 'Broughton',\n",
       "  'name': '@Indian.com',\n",
       "  'outcode': 'CH4',\n",
       "  'postcode': '0QR',\n",
       "  'rating': 6,\n",
       "  'type_of_food': 'Curry'},\n",
       " {'_id': ObjectId('55f14312c7447c3da7051b2b'),\n",
       "  'URL': 'http://www.just-eat.co.uk/restaurants-007takeaway-s65/menu',\n",
       "  'address': '6 Drummond Street',\n",
       "  'address line 2': 'Rotherham',\n",
       "  'name': '007 Takeaway',\n",
       "  'outcode': 'S65',\n",
       "  'postcode': '1HY',\n",
       "  'rating': 6,\n",
       "  'type_of_food': 'Pizza'},\n",
       " {'_id': ObjectId('55f14312c7447c3da7051bbc'),\n",
       "  'URL': 'http://www.just-eat.co.uk/restaurants-aarthi-sw19/menu',\n",
       "  'address': '5 Kingston Road',\n",
       "  'address line 2': 'London',\n",
       "  'name': 'Aarthi',\n",
       "  'outcode': 'SW19',\n",
       "  'postcode': '1JX',\n",
       "  'rating': 6,\n",
       "  'type_of_food': 'Curry'},\n",
       " {'_id': ObjectId('55f14312c7447c3da7051bfb'),\n",
       "  'URL': 'http://www.just-eat.co.uk/restaurants-absharindian-ig6/menu',\n",
       "  'address': '43 High Street',\n",
       "  'address line 2': 'Ilford',\n",
       "  'name': 'Abshar Indian Cuisine',\n",
       "  'outcode': 'IG6',\n",
       "  'postcode': '2AD',\n",
       "  'rating': 6,\n",
       "  'type_of_food': 'Punjabi'},\n",
       " {'_id': ObjectId('55f14312c7447c3da7051c82'),\n",
       "  'URL': 'http://www.just-eat.co.uk/restaurants-agra-warminster/menu',\n",
       "  'address': '32 East Street',\n",
       "  'address line 2': 'Wiltshire',\n",
       "  'name': 'Agra',\n",
       "  'outcode': 'BA12',\n",
       "  'postcode': '9BN',\n",
       "  'rating': 6,\n",
       "  'type_of_food': 'Curry'},\n",
       " {'_id': ObjectId('55f14312c7447c3da7051ca4'),\n",
       "  'URL': 'http://www.just-eat.co.uk/restaurants-aji-tn23/menu',\n",
       "  'address': '23 New Rents',\n",
       "  'address line 2': 'Ashford',\n",
       "  'name': 'Aji - Collection Only',\n",
       "  'outcode': 'TN23',\n",
       "  'postcode': '2JJ',\n",
       "  'rating': 6,\n",
       "  'type_of_food': 'Japanese'},\n",
       " {'_id': ObjectId('55f14312c7447c3da7051cbd'),\n",
       "  'URL': 'http://www.just-eat.co.uk/restaurants-akash-accrington-accrington/menu',\n",
       "  'address': '87 Whalley Road',\n",
       "  'address line 2': 'Accrington',\n",
       "  'name': 'Akash Accrington',\n",
       "  'outcode': 'BB5',\n",
       "  'postcode': '1AS',\n",
       "  'rating': 6,\n",
       "  'type_of_food': 'Curry'},\n",
       " {'_id': ObjectId('55f14312c7447c3da7051cf0'),\n",
       "  'URL': 'http://www.just-eat.co.uk/restaurants-alfrangos-lu1/menu',\n",
       "  'address': '14 Wellington Street',\n",
       "  'address line 2': 'Luton',\n",
       "  'name': 'Al Frango',\n",
       "  'outcode': 'LU1',\n",
       "  'postcode': '2HQ',\n",
       "  'rating': 6,\n",
       "  'type_of_food': 'Mediterranean'},\n",
       " {'_id': ObjectId('55f14312c7447c3da7051d00'),\n",
       "  'URL': 'http://www.just-eat.co.uk/restaurants-almedinadelights-b11/menu',\n",
       "  'address': '2 Walford Road',\n",
       "  'address line 2': 'Sparkhill',\n",
       "  'name': 'Al Medina Delights - Collection Only',\n",
       "  'outcode': 'B11',\n",
       "  'postcode': '1NR',\n",
       "  'rating': 6,\n",
       "  'type_of_food': 'Pasta'},\n",
       " {'_id': ObjectId('55f14312c7447c3da7051d4c'),\n",
       "  'URL': 'http://www.just-eat.co.uk/restaurants-alcatraz-caffe-bournemouth-bournemouth/menu',\n",
       "  'address': '127 Christchurch Road',\n",
       "  'address line 2': 'Bournemouth',\n",
       "  'name': 'Alcatraz Caffe Bournemouth',\n",
       "  'outcode': 'BH1',\n",
       "  'postcode': '1EP',\n",
       "  'rating': 6,\n",
       "  'type_of_food': 'Pizza'},\n",
       " {'_id': ObjectId('55f14312c7447c3da7051d5b'),\n",
       "  'URL': 'http://www.just-eat.co.uk/restaurants-alexplaice-nw6/menu',\n",
       "  'address': '314 Kilburn High Road',\n",
       "  'address line 2': 'London',\n",
       "  'name': 'Alex Plaice',\n",
       "  'outcode': 'NW6',\n",
       "  'postcode': '2DG',\n",
       "  'rating': 6,\n",
       "  'type_of_food': 'Fish & Chips'},\n",
       " {'_id': ObjectId('55f14312c7447c3da7051d5c'),\n",
       "  'URL': 'http://www.just-eat.co.uk/restaurants-alexplaice-nw6/menu',\n",
       "  'address': '314 Kilburn High Road',\n",
       "  'address line 2': 'London',\n",
       "  'name': 'Alex Plaice',\n",
       "  'outcode': 'NW6',\n",
       "  'postcode': '2DG',\n",
       "  'rating': 6,\n",
       "  'type_of_food': 'Fish & Chips'},\n",
       " {'_id': ObjectId('55f14312c7447c3da7051dd1'),\n",
       "  'URL': 'http://www.just-eat.co.uk/restaurants-allsiam-s11/menu',\n",
       "  'address': '639 Ecclesall Road',\n",
       "  'address line 2': 'Sheffield',\n",
       "  'name': 'All Siam Thai Restaurant - Collection Only',\n",
       "  'outcode': 'S11',\n",
       "  'postcode': '8PT',\n",
       "  'rating': 6,\n",
       "  'type_of_food': 'Thai'},\n",
       " {'_id': ObjectId('55f14312c7447c3da7051e94'),\n",
       "  'URL': 'http://www.just-eat.co.uk/restaurants-amina-streetly/menu',\n",
       "  'address': '5 Sutton Oak Corner',\n",
       "  'address line 2': 'Birmingham',\n",
       "  'name': 'Amina',\n",
       "  'outcode': 'B74',\n",
       "  'postcode': '2DH',\n",
       "  'rating': 6,\n",
       "  'type_of_food': 'Curry'},\n",
       " {'_id': ObjectId('55f14312c7447c3da7051ea5'),\n",
       "  'URL': 'http://www.just-eat.co.uk/restaurants-ammanford-fish-bar-ammanford/menu',\n",
       "  'address': '18 College Street',\n",
       "  'address line 2': 'Dyfed',\n",
       "  'name': 'Ammanford Fish Bar',\n",
       "  'outcode': 'SA18',\n",
       "  'postcode': '3AF',\n",
       "  'rating': 6,\n",
       "  'type_of_food': 'Fish & Chips'},\n",
       " {'_id': ObjectId('55f14312c7447c3da7051ed2'),\n",
       "  'URL': 'http://www.just-eat.co.uk/restaurants-blueginger-rg28/menu',\n",
       "  'address': '1 Atholl Court',\n",
       "  'address line 2': 'Andover',\n",
       "  'name': 'Andover Tandoori - Collection Only',\n",
       "  'outcode': 'SP10',\n",
       "  'postcode': '4BB',\n",
       "  'rating': 6,\n",
       "  'type_of_food': 'Curry'},\n",
       " {'_id': ObjectId('55f14312c7447c3da7051ed3'),\n",
       "  'URL': 'http://www.just-eat.co.uk/restaurants-blueginger-rg28/menu',\n",
       "  'address': '1 Atholl Court',\n",
       "  'address line 2': 'Andover',\n",
       "  'name': 'Andover Tandoori - Collection Only',\n",
       "  'outcode': 'SP10',\n",
       "  'postcode': '4BB',\n",
       "  'rating': 6,\n",
       "  'type_of_food': 'Curry'},\n",
       " {'_id': ObjectId('55f14312c7447c3da7051edb'),\n",
       "  'URL': 'http://www.just-eat.co.uk/restaurants-angeethi-indian-express-wrekenton/menu',\n",
       "  'address': '168 Kells Lane',\n",
       "  'address line 2': 'Tyne & Wear',\n",
       "  'name': 'Angeethi Indian Express',\n",
       "  'outcode': 'NE9',\n",
       "  'postcode': '5HY',\n",
       "  'rating': 6,\n",
       "  'type_of_food': 'Curry'},\n",
       " {'_id': ObjectId('55f14312c7447c3da7051f14'),\n",
       "  'URL': 'http://www.just-eat.co.uk/restaurants-aniss---the-taste-of-perfection-french-walls/menu',\n",
       "  'address': '32 Waterloo Road',\n",
       "  'address line 2': 'Smethwick',\n",
       "  'name': \"Anis's - The Taste of Perfection\",\n",
       "  'outcode': 'B66',\n",
       "  'postcode': '4JW',\n",
       "  'rating': 6,\n",
       "  'type_of_food': 'Curry'},\n",
       " {'_id': ObjectId('55f14312c7447c3da7051f2c'),\n",
       "  'URL': 'http://www.just-eat.co.uk/restaurants-annsthai-thebullshead/menu',\n",
       "  'address': '27 Bilston Street',\n",
       "  'address line 2': 'Dudley',\n",
       "  'name': \"Ann's Thai@ The Bulls Head\",\n",
       "  'outcode': 'DY3',\n",
       "  'postcode': '1JA',\n",
       "  'rating': 6,\n",
       "  'type_of_food': 'Thai'},\n",
       " {'_id': ObjectId('55f14312c7447c3da7051f5e'),\n",
       "  'URL': 'http://www.just-eat.co.uk/restaurants-arabesque-hampstead/menu',\n",
       "  'address': '23 Winchester Road',\n",
       "  'address line 2': 'London',\n",
       "  'name': 'Arabesque',\n",
       "  'outcode': 'NW3',\n",
       "  'postcode': '3NR',\n",
       "  'rating': 6,\n",
       "  'type_of_food': 'Mediterranean'},\n",
       " {'_id': ObjectId('55f14312c7447c3da7051f8b'),\n",
       "  'URL': 'http://www.just-eat.co.uk/restaurants-ark-burger-and-salad-bar-bishops-stortford/menu',\n",
       "  'address': '3 Church Street',\n",
       "  'address line 2': 'Hertfordshire County',\n",
       "  'name': 'Ark Burger & Salad Bar',\n",
       "  'outcode': 'CM23',\n",
       "  'postcode': '2LY',\n",
       "  'rating': 6,\n",
       "  'type_of_food': 'American'},\n",
       " {'_id': ObjectId('55f14312c7447c3da7051fa0'),\n",
       "  'URL': 'http://www.just-eat.co.uk/restaurants-aroma-dl6/menu',\n",
       "  'address': '1 Zetland Street',\n",
       "  'address line 2': 'Northallerton',\n",
       "  'name': 'Aroma Bar Restaurant Takeaway - Collection Only',\n",
       "  'outcode': 'DL6',\n",
       "  'postcode': '1NB',\n",
       "  'rating': 6,\n",
       "  'type_of_food': 'Curry'},\n",
       " {'_id': ObjectId('55f14312c7447c3da7051fa1'),\n",
       "  'URL': 'http://www.just-eat.co.uk/restaurants-aroma-dl6/menu',\n",
       "  'address': '1 Zetland Street',\n",
       "  'address line 2': 'Northallerton',\n",
       "  'name': 'Aroma Bar Restaurant Takeaway - Collection Only',\n",
       "  'outcode': 'DL6',\n",
       "  'postcode': '1NB',\n",
       "  'rating': 6,\n",
       "  'type_of_food': 'Curry'},\n",
       " {'_id': ObjectId('55f14312c7447c3da7052023'),\n",
       "  'URL': 'http://www.just-eat.co.uk/restaurants-aslizaiqa-le5/menu',\n",
       "  'address': '52 Uppingham Road',\n",
       "  'address line 2': 'Leicestershire',\n",
       "  'name': 'Asli Zaiqa',\n",
       "  'outcode': 'LE5',\n",
       "  'postcode': '0QD',\n",
       "  'rating': 6,\n",
       "  'type_of_food': 'Curry'},\n",
       " {'_id': ObjectId('55f14312c7447c3da7052029'),\n",
       "  'URL': 'http://www.just-eat.co.uk/restaurants-aspendos-tn29/menu',\n",
       "  'address': '67 High Street',\n",
       "  'address line 2': 'Dymchurch',\n",
       "  'name': 'Aspendos',\n",
       "  'outcode': 'TN29',\n",
       "  'postcode': '0NH',\n",
       "  'rating': 6,\n",
       "  'type_of_food': 'Pizza'},\n",
       " {'_id': ObjectId('55f14312c7447c3da7052039'),\n",
       "  'URL': 'http://www.just-eat.co.uk/restaurants-atashpersian-tw8/menu',\n",
       "  'address': '55 High Street',\n",
       "  'address line 2': 'Brentford',\n",
       "  'name': 'Atash Persian Restaurant - Collection Only',\n",
       "  'outcode': 'TW8',\n",
       "  'postcode': '0AH',\n",
       "  'rating': 6,\n",
       "  'type_of_food': 'Persian'},\n",
       " {'_id': ObjectId('55f14312c7447c3da705203a'),\n",
       "  'URL': 'http://www.just-eat.co.uk/restaurants-atashpersian-tw8/menu',\n",
       "  'address': '55 High Street',\n",
       "  'address line 2': 'Brentford',\n",
       "  'name': 'Atash Persian Restaurant - Collection Only',\n",
       "  'outcode': 'TW8',\n",
       "  'postcode': '0AH',\n",
       "  'rating': 6,\n",
       "  'type_of_food': 'Persian'},\n",
       " {'_id': ObjectId('55f14312c7447c3da705203e'),\n",
       "  'URL': 'http://www.just-eat.co.uk/restaurants-athenabfishbar-bn41/menu',\n",
       "  'address': '27 Station Road',\n",
       "  'address line 2': 'East Sussex',\n",
       "  'name': 'Athena B Fish Bar - Collection Only',\n",
       "  'outcode': 'BN41',\n",
       "  'postcode': '1GB',\n",
       "  'rating': 6,\n",
       "  'type_of_food': 'Fish & Chips'},\n",
       " {'_id': ObjectId('55f14312c7447c3da705203d'),\n",
       "  'URL': 'http://www.just-eat.co.uk/restaurants-athenabfishbar-bn41/menu',\n",
       "  'address': '27 Station Road',\n",
       "  'address line 2': 'East Sussex',\n",
       "  'name': 'Athena B Fish Bar - Collection Only',\n",
       "  'outcode': 'BN41',\n",
       "  'postcode': '1GB',\n",
       "  'rating': 6,\n",
       "  'type_of_food': 'Fish & Chips'},\n",
       " {'_id': ObjectId('55f14312c7447c3da7052054'),\n",
       "  'URL': 'http://www.just-eat.co.uk/restaurants-atlanticgourmet-bt13/menu',\n",
       "  'address': 'Twin Spires Centre',\n",
       "  'address line 2': 'County Antrim',\n",
       "  'name': 'Atlantic Gourmet',\n",
       "  'outcode': 'BT13',\n",
       "  'postcode': '2JF',\n",
       "  'rating': 6,\n",
       "  'type_of_food': 'Fish & Chips'},\n",
       " {'_id': ObjectId('55f14313c7447c3da705208b'),\n",
       "  'URL': 'http://www.just-eat.co.uk/restaurants-ayubowan-glossop/menu',\n",
       "  'address': '46-50 High Street West',\n",
       "  'address line 2': 'Derbyshire',\n",
       "  'name': 'Ayubowan',\n",
       "  'outcode': 'SK13',\n",
       "  'postcode': '8BH',\n",
       "  'rating': 6,\n",
       "  'type_of_food': 'Sri-lankan'},\n",
       " {'_id': ObjectId('55f14313c7447c3da7052149'),\n",
       "  'URL': 'http://www.just-eat.co.uk/restaurants-baltihut-ts5/menu',\n",
       "  'address': '12 Pilkington Buildings',\n",
       "  'address line 2': 'Middlesborough',\n",
       "  'name': 'Balti Hut',\n",
       "  'outcode': 'TS5',\n",
       "  'postcode': '6DY',\n",
       "  'rating': 6,\n",
       "  'type_of_food': 'Curry'},\n",
       " {'_id': ObjectId('55f14313c7447c3da70521f3'),\n",
       "  'URL': 'http://www.just-eat.co.uk/restaurants-barista-n3/menu',\n",
       "  'address': '24 Ballards Lane',\n",
       "  'address line 2': 'London',\n",
       "  'name': 'Barista House Restaurant & Cafe - Collection Only',\n",
       "  'outcode': 'N3',\n",
       "  'postcode': '2BJ',\n",
       "  'rating': 6,\n",
       "  'type_of_food': 'Pizza'},\n",
       " {'_id': ObjectId('55f14313c7447c3da70521f9'),\n",
       "  'URL': 'http://www.just-eat.co.uk/restaurants-barnaclebills-pr4/menu',\n",
       "  'address': '8 Kirkham Road',\n",
       "  'address line 2': 'Freckleton',\n",
       "  'name': 'Barnacle Bills',\n",
       "  'outcode': 'PR4',\n",
       "  'postcode': '1HT',\n",
       "  'rating': 6,\n",
       "  'type_of_food': 'Fish & Chips'},\n",
       " {'_id': ObjectId('55f14313c7447c3da705222d'),\n",
       "  'URL': 'http://www.just-eat.co.uk/restaurants-bathsushi-ba2/menu',\n",
       "  'address': '3 Victoria Buildings',\n",
       "  'address line 2': 'Somerset',\n",
       "  'name': 'Bath Sushi',\n",
       "  'outcode': 'BA2',\n",
       "  'postcode': '3EH',\n",
       "  'rating': 6,\n",
       "  'type_of_food': 'Sushi'},\n",
       " {'_id': ObjectId('55f14313c7447c3da7052293'),\n",
       "  'URL': 'http://www.just-eat.co.uk/restaurants-beastgourmetburgers-tq1/menu',\n",
       "  'address': '64 Torwood Street',\n",
       "  'address line 2': 'Torquay',\n",
       "  'name': 'Beast Gourmet Burgers',\n",
       "  'outcode': 'TQ1',\n",
       "  'postcode': '1DT',\n",
       "  'rating': 6,\n",
       "  'type_of_food': 'Burgers'},\n",
       " {'_id': ObjectId('55f14313c7447c3da7052292'),\n",
       "  'URL': 'http://www.just-eat.co.uk/restaurants-Bearsteadfishbar/menu',\n",
       "  'address': '29 Egremont Road',\n",
       "  'address line 2': 'Kent',\n",
       "  'name': 'Bearstead Fish Bar - Collection Only',\n",
       "  'outcode': 'ME15',\n",
       "  'postcode': '8LH',\n",
       "  'rating': 6,\n",
       "  'type_of_food': 'Fish & Chips'},\n",
       " {'_id': ObjectId('55f14313c7447c3da705230a'),\n",
       "  'URL': 'http://www.just-eat.co.uk/restaurants-bellapanini-g77/menu',\n",
       "  'address': '196 Harvie Avenue',\n",
       "  'address line 2': 'Glasgow',\n",
       "  'name': 'Bella Panini',\n",
       "  'outcode': 'G77',\n",
       "  'postcode': '6UT',\n",
       "  'rating': 6,\n",
       "  'type_of_food': 'Pizza'},\n",
       " {'_id': ObjectId('55f14313c7447c3da70523a4'),\n",
       "  'URL': 'http://www.just-eat.co.uk/restaurants-bennys-sw4/menu',\n",
       "  'address': '30 North Street',\n",
       "  'address line 2': 'London',\n",
       "  'name': \"Benny's - Collection Only\",\n",
       "  'outcode': 'SW4',\n",
       "  'postcode': '0HD',\n",
       "  'rating': 6,\n",
       "  'type_of_food': 'Fish & Chips'},\n",
       " {'_id': ObjectId('55f14313c7447c3da70523a9'),\n",
       "  'URL': 'http://www.just-eat.co.uk/restaurants-bennys-grill-house-colne/menu',\n",
       "  'address': '2 West Street',\n",
       "  'address line 2': 'Colne',\n",
       "  'name': \"Benny's Grill House\",\n",
       "  'outcode': 'BB8',\n",
       "  'postcode': '0HP',\n",
       "  'rating': 6,\n",
       "  'type_of_food': 'Kebab'},\n",
       " {'_id': ObjectId('55f14313c7447c3da70523cf'),\n",
       "  'URL': 'http://www.just-eat.co.uk/restaurants-best-fish-and-chips-broadstairs/menu',\n",
       "  'address': '4 High Street',\n",
       "  'address line 2': 'Broadstairs',\n",
       "  'name': 'Best Fish & Chips',\n",
       "  'outcode': 'CT10',\n",
       "  'postcode': '1LH',\n",
       "  'rating': 6,\n",
       "  'type_of_food': 'Fish & Chips'},\n",
       " {'_id': ObjectId('55f14313c7447c3da705241b'),\n",
       "  'URL': 'http://www.just-eat.co.uk/restaurants-bestpizza-rm13/menu',\n",
       "  'address': '113 Mungo Park Road',\n",
       "  'address line 2': 'Rainham',\n",
       "  'name': 'Best Pizza',\n",
       "  'outcode': 'RM13',\n",
       "  'postcode': '7PP',\n",
       "  'rating': 6,\n",
       "  'type_of_food': 'Pizza'},\n",
       " {'_id': ObjectId('55f14313c7447c3da705241c'),\n",
       "  'URL': 'http://www.just-eat.co.uk/restaurants-best-pizza-littleover/menu',\n",
       "  'address': '4 Macklin Street',\n",
       "  'address line 2': 'Derby',\n",
       "  'name': 'Best Pizza & Kebab',\n",
       "  'outcode': 'DE1',\n",
       "  'postcode': '1LE',\n",
       "  'rating': 6,\n",
       "  'type_of_food': 'Pizza'},\n",
       " {'_id': ObjectId('55f14313c7447c3da705241d'),\n",
       "  'URL': 'http://www.just-eat.co.uk/restaurants-best-pizza-littleover/menu',\n",
       "  'address': '4 Macklin Street',\n",
       "  'address line 2': 'Derby',\n",
       "  'name': 'Best Pizza & Kebab',\n",
       "  'outcode': 'DE1',\n",
       "  'postcode': '1LE',\n",
       "  'rating': 6,\n",
       "  'type_of_food': 'Pizza'},\n",
       " {'_id': ObjectId('55f14313c7447c3da705247c'),\n",
       "  'URL': 'http://www.just-eat.co.uk/restaurants-bigfish-tn37/menu',\n",
       "  'address': '387 London Road',\n",
       "  'address line 2': 'Hastings',\n",
       "  'name': 'Big Fish - Collection Only',\n",
       "  'outcode': 'TN37',\n",
       "  'postcode': '6PA',\n",
       "  'rating': 6,\n",
       "  'type_of_food': 'Fish & Chips'},\n",
       " {'_id': ObjectId('55f14313c7447c3da705249e'),\n",
       "  'URL': 'http://www.just-eat.co.uk/restaurants-bigsaj-b12/menu',\n",
       "  'address': '231 Edward Road',\n",
       "  'address line 2': 'Birmingham',\n",
       "  'name': 'Big Saj',\n",
       "  'outcode': 'B12',\n",
       "  'postcode': '9LH',\n",
       "  'rating': 6,\n",
       "  'type_of_food': 'Kebab'},\n",
       " {'_id': ObjectId('55f14313c7447c3da705249d'),\n",
       "  'URL': 'http://www.just-eat.co.uk/restaurants-bigsaj-b12/menu',\n",
       "  'address': '231 Edward Road',\n",
       "  'address line 2': 'Birmingham',\n",
       "  'name': 'Big Saj',\n",
       "  'outcode': 'B12',\n",
       "  'postcode': '9LH',\n",
       "  'rating': 6,\n",
       "  'type_of_food': 'Kebab'},\n",
       " {'_id': ObjectId('55f14313c7447c3da70524a6'),\n",
       "  'URL': 'http://www.just-eat.co.uk/restaurants-biggapotcaribbean-b20/menu',\n",
       "  'address': '15 College Road',\n",
       "  'address line 2': 'Birmingham',\n",
       "  'name': 'Biggapot Caribbean - Collection Only',\n",
       "  'outcode': 'B20',\n",
       "  'postcode': '2HY',\n",
       "  'rating': 6,\n",
       "  'type_of_food': 'Caribbean'}]"
      ]
     },
     "execution_count": 34,
     "metadata": {},
     "output_type": "execute_result"
    }
   ],
   "source": [
    "top_rated"
   ]
  },
  {
   "cell_type": "code",
   "execution_count": 35,
   "metadata": {},
   "outputs": [
    {
     "data": {
      "text/plain": [
       "49"
      ]
     },
     "execution_count": 35,
     "metadata": {},
     "output_type": "execute_result"
    }
   ],
   "source": [
    "len(top_rated)"
   ]
  },
  {
   "cell_type": "code",
   "execution_count": 36,
   "metadata": {},
   "outputs": [],
   "source": [
    "import pandas as pd"
   ]
  },
  {
   "cell_type": "code",
   "execution_count": 37,
   "metadata": {},
   "outputs": [
    {
     "data": {
      "text/html": [
       "<div>\n",
       "<style scoped>\n",
       "    .dataframe tbody tr th:only-of-type {\n",
       "        vertical-align: middle;\n",
       "    }\n",
       "\n",
       "    .dataframe tbody tr th {\n",
       "        vertical-align: top;\n",
       "    }\n",
       "\n",
       "    .dataframe thead th {\n",
       "        text-align: right;\n",
       "    }\n",
       "</style>\n",
       "<table border=\"1\" class=\"dataframe\">\n",
       "  <thead>\n",
       "    <tr style=\"text-align: right;\">\n",
       "      <th></th>\n",
       "    </tr>\n",
       "  </thead>\n",
       "  <tbody>\n",
       "  </tbody>\n",
       "</table>\n",
       "</div>"
      ],
      "text/plain": [
       "Empty DataFrame\n",
       "Columns: []\n",
       "Index: []"
      ]
     },
     "execution_count": 37,
     "metadata": {},
     "output_type": "execute_result"
    }
   ],
   "source": [
    "pd.DataFrame(documents2)"
   ]
  },
  {
   "cell_type": "markdown",
   "metadata": {},
   "source": [
    "This happened because the Cursor was already consumed by `list`. If we want to reuse it, we have to run the query again..."
   ]
  },
  {
   "cell_type": "code",
   "execution_count": 38,
   "metadata": {
    "colab": {
     "base_uri": "https://localhost:8080/",
     "height": 221
    },
    "colab_type": "code",
    "id": "LNhnVqL7C6L5",
    "outputId": "cd60575e-e0de-4c3d-fcac-588e4e143753"
   },
   "outputs": [],
   "source": [
    "documents2 = collection.find({\"rating\": 6})"
   ]
  },
  {
   "cell_type": "code",
   "execution_count": 39,
   "metadata": {},
   "outputs": [
    {
     "data": {
      "text/html": [
       "<div>\n",
       "<style scoped>\n",
       "    .dataframe tbody tr th:only-of-type {\n",
       "        vertical-align: middle;\n",
       "    }\n",
       "\n",
       "    .dataframe tbody tr th {\n",
       "        vertical-align: top;\n",
       "    }\n",
       "\n",
       "    .dataframe thead th {\n",
       "        text-align: right;\n",
       "    }\n",
       "</style>\n",
       "<table border=\"1\" class=\"dataframe\">\n",
       "  <thead>\n",
       "    <tr style=\"text-align: right;\">\n",
       "      <th></th>\n",
       "      <th>_id</th>\n",
       "      <th>URL</th>\n",
       "      <th>address</th>\n",
       "      <th>address line 2</th>\n",
       "      <th>name</th>\n",
       "      <th>outcode</th>\n",
       "      <th>postcode</th>\n",
       "      <th>rating</th>\n",
       "      <th>type_of_food</th>\n",
       "    </tr>\n",
       "  </thead>\n",
       "  <tbody>\n",
       "    <tr>\n",
       "      <th>0</th>\n",
       "      <td>55f14312c7447c3da7051b2a</td>\n",
       "      <td>http://www.just-eat.co.uk/restaurants-indianco...</td>\n",
       "      <td>9 Broughton Hall Road</td>\n",
       "      <td>Broughton</td>\n",
       "      <td>@Indian.com</td>\n",
       "      <td>CH4</td>\n",
       "      <td>0QR</td>\n",
       "      <td>6</td>\n",
       "      <td>Curry</td>\n",
       "    </tr>\n",
       "    <tr>\n",
       "      <th>1</th>\n",
       "      <td>55f14312c7447c3da7051b2b</td>\n",
       "      <td>http://www.just-eat.co.uk/restaurants-007takea...</td>\n",
       "      <td>6 Drummond Street</td>\n",
       "      <td>Rotherham</td>\n",
       "      <td>007 Takeaway</td>\n",
       "      <td>S65</td>\n",
       "      <td>1HY</td>\n",
       "      <td>6</td>\n",
       "      <td>Pizza</td>\n",
       "    </tr>\n",
       "    <tr>\n",
       "      <th>2</th>\n",
       "      <td>55f14312c7447c3da7051bbc</td>\n",
       "      <td>http://www.just-eat.co.uk/restaurants-aarthi-s...</td>\n",
       "      <td>5 Kingston Road</td>\n",
       "      <td>London</td>\n",
       "      <td>Aarthi</td>\n",
       "      <td>SW19</td>\n",
       "      <td>1JX</td>\n",
       "      <td>6</td>\n",
       "      <td>Curry</td>\n",
       "    </tr>\n",
       "    <tr>\n",
       "      <th>3</th>\n",
       "      <td>55f14312c7447c3da7051bfb</td>\n",
       "      <td>http://www.just-eat.co.uk/restaurants-absharin...</td>\n",
       "      <td>43 High Street</td>\n",
       "      <td>Ilford</td>\n",
       "      <td>Abshar Indian Cuisine</td>\n",
       "      <td>IG6</td>\n",
       "      <td>2AD</td>\n",
       "      <td>6</td>\n",
       "      <td>Punjabi</td>\n",
       "    </tr>\n",
       "    <tr>\n",
       "      <th>4</th>\n",
       "      <td>55f14312c7447c3da7051c82</td>\n",
       "      <td>http://www.just-eat.co.uk/restaurants-agra-war...</td>\n",
       "      <td>32 East Street</td>\n",
       "      <td>Wiltshire</td>\n",
       "      <td>Agra</td>\n",
       "      <td>BA12</td>\n",
       "      <td>9BN</td>\n",
       "      <td>6</td>\n",
       "      <td>Curry</td>\n",
       "    </tr>\n",
       "    <tr>\n",
       "      <th>5</th>\n",
       "      <td>55f14312c7447c3da7051ca4</td>\n",
       "      <td>http://www.just-eat.co.uk/restaurants-aji-tn23...</td>\n",
       "      <td>23 New Rents</td>\n",
       "      <td>Ashford</td>\n",
       "      <td>Aji - Collection Only</td>\n",
       "      <td>TN23</td>\n",
       "      <td>2JJ</td>\n",
       "      <td>6</td>\n",
       "      <td>Japanese</td>\n",
       "    </tr>\n",
       "    <tr>\n",
       "      <th>6</th>\n",
       "      <td>55f14312c7447c3da7051cbd</td>\n",
       "      <td>http://www.just-eat.co.uk/restaurants-akash-ac...</td>\n",
       "      <td>87 Whalley Road</td>\n",
       "      <td>Accrington</td>\n",
       "      <td>Akash Accrington</td>\n",
       "      <td>BB5</td>\n",
       "      <td>1AS</td>\n",
       "      <td>6</td>\n",
       "      <td>Curry</td>\n",
       "    </tr>\n",
       "    <tr>\n",
       "      <th>7</th>\n",
       "      <td>55f14312c7447c3da7051cf0</td>\n",
       "      <td>http://www.just-eat.co.uk/restaurants-alfrango...</td>\n",
       "      <td>14 Wellington Street</td>\n",
       "      <td>Luton</td>\n",
       "      <td>Al Frango</td>\n",
       "      <td>LU1</td>\n",
       "      <td>2HQ</td>\n",
       "      <td>6</td>\n",
       "      <td>Mediterranean</td>\n",
       "    </tr>\n",
       "    <tr>\n",
       "      <th>8</th>\n",
       "      <td>55f14312c7447c3da7051d00</td>\n",
       "      <td>http://www.just-eat.co.uk/restaurants-almedina...</td>\n",
       "      <td>2 Walford Road</td>\n",
       "      <td>Sparkhill</td>\n",
       "      <td>Al Medina Delights - Collection Only</td>\n",
       "      <td>B11</td>\n",
       "      <td>1NR</td>\n",
       "      <td>6</td>\n",
       "      <td>Pasta</td>\n",
       "    </tr>\n",
       "    <tr>\n",
       "      <th>9</th>\n",
       "      <td>55f14312c7447c3da7051d4c</td>\n",
       "      <td>http://www.just-eat.co.uk/restaurants-alcatraz...</td>\n",
       "      <td>127 Christchurch Road</td>\n",
       "      <td>Bournemouth</td>\n",
       "      <td>Alcatraz Caffe Bournemouth</td>\n",
       "      <td>BH1</td>\n",
       "      <td>1EP</td>\n",
       "      <td>6</td>\n",
       "      <td>Pizza</td>\n",
       "    </tr>\n",
       "    <tr>\n",
       "      <th>10</th>\n",
       "      <td>55f14312c7447c3da7051d5b</td>\n",
       "      <td>http://www.just-eat.co.uk/restaurants-alexplai...</td>\n",
       "      <td>314 Kilburn High Road</td>\n",
       "      <td>London</td>\n",
       "      <td>Alex Plaice</td>\n",
       "      <td>NW6</td>\n",
       "      <td>2DG</td>\n",
       "      <td>6</td>\n",
       "      <td>Fish &amp; Chips</td>\n",
       "    </tr>\n",
       "    <tr>\n",
       "      <th>11</th>\n",
       "      <td>55f14312c7447c3da7051d5c</td>\n",
       "      <td>http://www.just-eat.co.uk/restaurants-alexplai...</td>\n",
       "      <td>314 Kilburn High Road</td>\n",
       "      <td>London</td>\n",
       "      <td>Alex Plaice</td>\n",
       "      <td>NW6</td>\n",
       "      <td>2DG</td>\n",
       "      <td>6</td>\n",
       "      <td>Fish &amp; Chips</td>\n",
       "    </tr>\n",
       "    <tr>\n",
       "      <th>12</th>\n",
       "      <td>55f14312c7447c3da7051dd1</td>\n",
       "      <td>http://www.just-eat.co.uk/restaurants-allsiam-...</td>\n",
       "      <td>639 Ecclesall Road</td>\n",
       "      <td>Sheffield</td>\n",
       "      <td>All Siam Thai Restaurant - Collection Only</td>\n",
       "      <td>S11</td>\n",
       "      <td>8PT</td>\n",
       "      <td>6</td>\n",
       "      <td>Thai</td>\n",
       "    </tr>\n",
       "    <tr>\n",
       "      <th>13</th>\n",
       "      <td>55f14312c7447c3da7051e94</td>\n",
       "      <td>http://www.just-eat.co.uk/restaurants-amina-st...</td>\n",
       "      <td>5 Sutton Oak Corner</td>\n",
       "      <td>Birmingham</td>\n",
       "      <td>Amina</td>\n",
       "      <td>B74</td>\n",
       "      <td>2DH</td>\n",
       "      <td>6</td>\n",
       "      <td>Curry</td>\n",
       "    </tr>\n",
       "    <tr>\n",
       "      <th>14</th>\n",
       "      <td>55f14312c7447c3da7051ea5</td>\n",
       "      <td>http://www.just-eat.co.uk/restaurants-ammanfor...</td>\n",
       "      <td>18 College Street</td>\n",
       "      <td>Dyfed</td>\n",
       "      <td>Ammanford Fish Bar</td>\n",
       "      <td>SA18</td>\n",
       "      <td>3AF</td>\n",
       "      <td>6</td>\n",
       "      <td>Fish &amp; Chips</td>\n",
       "    </tr>\n",
       "    <tr>\n",
       "      <th>15</th>\n",
       "      <td>55f14312c7447c3da7051ed2</td>\n",
       "      <td>http://www.just-eat.co.uk/restaurants-blueging...</td>\n",
       "      <td>1 Atholl Court</td>\n",
       "      <td>Andover</td>\n",
       "      <td>Andover Tandoori - Collection Only</td>\n",
       "      <td>SP10</td>\n",
       "      <td>4BB</td>\n",
       "      <td>6</td>\n",
       "      <td>Curry</td>\n",
       "    </tr>\n",
       "    <tr>\n",
       "      <th>16</th>\n",
       "      <td>55f14312c7447c3da7051ed3</td>\n",
       "      <td>http://www.just-eat.co.uk/restaurants-blueging...</td>\n",
       "      <td>1 Atholl Court</td>\n",
       "      <td>Andover</td>\n",
       "      <td>Andover Tandoori - Collection Only</td>\n",
       "      <td>SP10</td>\n",
       "      <td>4BB</td>\n",
       "      <td>6</td>\n",
       "      <td>Curry</td>\n",
       "    </tr>\n",
       "    <tr>\n",
       "      <th>17</th>\n",
       "      <td>55f14312c7447c3da7051edb</td>\n",
       "      <td>http://www.just-eat.co.uk/restaurants-angeethi...</td>\n",
       "      <td>168 Kells Lane</td>\n",
       "      <td>Tyne &amp; Wear</td>\n",
       "      <td>Angeethi Indian Express</td>\n",
       "      <td>NE9</td>\n",
       "      <td>5HY</td>\n",
       "      <td>6</td>\n",
       "      <td>Curry</td>\n",
       "    </tr>\n",
       "    <tr>\n",
       "      <th>18</th>\n",
       "      <td>55f14312c7447c3da7051f14</td>\n",
       "      <td>http://www.just-eat.co.uk/restaurants-aniss---...</td>\n",
       "      <td>32 Waterloo Road</td>\n",
       "      <td>Smethwick</td>\n",
       "      <td>Anis's - The Taste of Perfection</td>\n",
       "      <td>B66</td>\n",
       "      <td>4JW</td>\n",
       "      <td>6</td>\n",
       "      <td>Curry</td>\n",
       "    </tr>\n",
       "    <tr>\n",
       "      <th>19</th>\n",
       "      <td>55f14312c7447c3da7051f2c</td>\n",
       "      <td>http://www.just-eat.co.uk/restaurants-annsthai...</td>\n",
       "      <td>27 Bilston Street</td>\n",
       "      <td>Dudley</td>\n",
       "      <td>Ann's Thai@ The Bulls Head</td>\n",
       "      <td>DY3</td>\n",
       "      <td>1JA</td>\n",
       "      <td>6</td>\n",
       "      <td>Thai</td>\n",
       "    </tr>\n",
       "    <tr>\n",
       "      <th>20</th>\n",
       "      <td>55f14312c7447c3da7051f5e</td>\n",
       "      <td>http://www.just-eat.co.uk/restaurants-arabesqu...</td>\n",
       "      <td>23 Winchester Road</td>\n",
       "      <td>London</td>\n",
       "      <td>Arabesque</td>\n",
       "      <td>NW3</td>\n",
       "      <td>3NR</td>\n",
       "      <td>6</td>\n",
       "      <td>Mediterranean</td>\n",
       "    </tr>\n",
       "    <tr>\n",
       "      <th>21</th>\n",
       "      <td>55f14312c7447c3da7051f8b</td>\n",
       "      <td>http://www.just-eat.co.uk/restaurants-ark-burg...</td>\n",
       "      <td>3 Church Street</td>\n",
       "      <td>Hertfordshire County</td>\n",
       "      <td>Ark Burger &amp; Salad Bar</td>\n",
       "      <td>CM23</td>\n",
       "      <td>2LY</td>\n",
       "      <td>6</td>\n",
       "      <td>American</td>\n",
       "    </tr>\n",
       "    <tr>\n",
       "      <th>22</th>\n",
       "      <td>55f14312c7447c3da7051fa0</td>\n",
       "      <td>http://www.just-eat.co.uk/restaurants-aroma-dl...</td>\n",
       "      <td>1 Zetland Street</td>\n",
       "      <td>Northallerton</td>\n",
       "      <td>Aroma Bar Restaurant Takeaway - Collection Only</td>\n",
       "      <td>DL6</td>\n",
       "      <td>1NB</td>\n",
       "      <td>6</td>\n",
       "      <td>Curry</td>\n",
       "    </tr>\n",
       "    <tr>\n",
       "      <th>23</th>\n",
       "      <td>55f14312c7447c3da7051fa1</td>\n",
       "      <td>http://www.just-eat.co.uk/restaurants-aroma-dl...</td>\n",
       "      <td>1 Zetland Street</td>\n",
       "      <td>Northallerton</td>\n",
       "      <td>Aroma Bar Restaurant Takeaway - Collection Only</td>\n",
       "      <td>DL6</td>\n",
       "      <td>1NB</td>\n",
       "      <td>6</td>\n",
       "      <td>Curry</td>\n",
       "    </tr>\n",
       "    <tr>\n",
       "      <th>24</th>\n",
       "      <td>55f14312c7447c3da7052023</td>\n",
       "      <td>http://www.just-eat.co.uk/restaurants-aslizaiq...</td>\n",
       "      <td>52 Uppingham Road</td>\n",
       "      <td>Leicestershire</td>\n",
       "      <td>Asli Zaiqa</td>\n",
       "      <td>LE5</td>\n",
       "      <td>0QD</td>\n",
       "      <td>6</td>\n",
       "      <td>Curry</td>\n",
       "    </tr>\n",
       "    <tr>\n",
       "      <th>25</th>\n",
       "      <td>55f14312c7447c3da7052029</td>\n",
       "      <td>http://www.just-eat.co.uk/restaurants-aspendos...</td>\n",
       "      <td>67 High Street</td>\n",
       "      <td>Dymchurch</td>\n",
       "      <td>Aspendos</td>\n",
       "      <td>TN29</td>\n",
       "      <td>0NH</td>\n",
       "      <td>6</td>\n",
       "      <td>Pizza</td>\n",
       "    </tr>\n",
       "    <tr>\n",
       "      <th>26</th>\n",
       "      <td>55f14312c7447c3da7052039</td>\n",
       "      <td>http://www.just-eat.co.uk/restaurants-atashper...</td>\n",
       "      <td>55 High Street</td>\n",
       "      <td>Brentford</td>\n",
       "      <td>Atash Persian Restaurant - Collection Only</td>\n",
       "      <td>TW8</td>\n",
       "      <td>0AH</td>\n",
       "      <td>6</td>\n",
       "      <td>Persian</td>\n",
       "    </tr>\n",
       "    <tr>\n",
       "      <th>27</th>\n",
       "      <td>55f14312c7447c3da705203a</td>\n",
       "      <td>http://www.just-eat.co.uk/restaurants-atashper...</td>\n",
       "      <td>55 High Street</td>\n",
       "      <td>Brentford</td>\n",
       "      <td>Atash Persian Restaurant - Collection Only</td>\n",
       "      <td>TW8</td>\n",
       "      <td>0AH</td>\n",
       "      <td>6</td>\n",
       "      <td>Persian</td>\n",
       "    </tr>\n",
       "    <tr>\n",
       "      <th>28</th>\n",
       "      <td>55f14312c7447c3da705203e</td>\n",
       "      <td>http://www.just-eat.co.uk/restaurants-athenabf...</td>\n",
       "      <td>27 Station Road</td>\n",
       "      <td>East Sussex</td>\n",
       "      <td>Athena B Fish Bar - Collection Only</td>\n",
       "      <td>BN41</td>\n",
       "      <td>1GB</td>\n",
       "      <td>6</td>\n",
       "      <td>Fish &amp; Chips</td>\n",
       "    </tr>\n",
       "    <tr>\n",
       "      <th>29</th>\n",
       "      <td>55f14312c7447c3da705203d</td>\n",
       "      <td>http://www.just-eat.co.uk/restaurants-athenabf...</td>\n",
       "      <td>27 Station Road</td>\n",
       "      <td>East Sussex</td>\n",
       "      <td>Athena B Fish Bar - Collection Only</td>\n",
       "      <td>BN41</td>\n",
       "      <td>1GB</td>\n",
       "      <td>6</td>\n",
       "      <td>Fish &amp; Chips</td>\n",
       "    </tr>\n",
       "    <tr>\n",
       "      <th>30</th>\n",
       "      <td>55f14312c7447c3da7052054</td>\n",
       "      <td>http://www.just-eat.co.uk/restaurants-atlantic...</td>\n",
       "      <td>Twin Spires Centre</td>\n",
       "      <td>County Antrim</td>\n",
       "      <td>Atlantic Gourmet</td>\n",
       "      <td>BT13</td>\n",
       "      <td>2JF</td>\n",
       "      <td>6</td>\n",
       "      <td>Fish &amp; Chips</td>\n",
       "    </tr>\n",
       "    <tr>\n",
       "      <th>31</th>\n",
       "      <td>55f14313c7447c3da705208b</td>\n",
       "      <td>http://www.just-eat.co.uk/restaurants-ayubowan...</td>\n",
       "      <td>46-50 High Street West</td>\n",
       "      <td>Derbyshire</td>\n",
       "      <td>Ayubowan</td>\n",
       "      <td>SK13</td>\n",
       "      <td>8BH</td>\n",
       "      <td>6</td>\n",
       "      <td>Sri-lankan</td>\n",
       "    </tr>\n",
       "    <tr>\n",
       "      <th>32</th>\n",
       "      <td>55f14313c7447c3da7052149</td>\n",
       "      <td>http://www.just-eat.co.uk/restaurants-baltihut...</td>\n",
       "      <td>12 Pilkington Buildings</td>\n",
       "      <td>Middlesborough</td>\n",
       "      <td>Balti Hut</td>\n",
       "      <td>TS5</td>\n",
       "      <td>6DY</td>\n",
       "      <td>6</td>\n",
       "      <td>Curry</td>\n",
       "    </tr>\n",
       "    <tr>\n",
       "      <th>33</th>\n",
       "      <td>55f14313c7447c3da70521f3</td>\n",
       "      <td>http://www.just-eat.co.uk/restaurants-barista-...</td>\n",
       "      <td>24 Ballards Lane</td>\n",
       "      <td>London</td>\n",
       "      <td>Barista House Restaurant &amp; Cafe - Collection Only</td>\n",
       "      <td>N3</td>\n",
       "      <td>2BJ</td>\n",
       "      <td>6</td>\n",
       "      <td>Pizza</td>\n",
       "    </tr>\n",
       "    <tr>\n",
       "      <th>34</th>\n",
       "      <td>55f14313c7447c3da70521f9</td>\n",
       "      <td>http://www.just-eat.co.uk/restaurants-barnacle...</td>\n",
       "      <td>8 Kirkham Road</td>\n",
       "      <td>Freckleton</td>\n",
       "      <td>Barnacle Bills</td>\n",
       "      <td>PR4</td>\n",
       "      <td>1HT</td>\n",
       "      <td>6</td>\n",
       "      <td>Fish &amp; Chips</td>\n",
       "    </tr>\n",
       "    <tr>\n",
       "      <th>35</th>\n",
       "      <td>55f14313c7447c3da705222d</td>\n",
       "      <td>http://www.just-eat.co.uk/restaurants-bathsush...</td>\n",
       "      <td>3 Victoria Buildings</td>\n",
       "      <td>Somerset</td>\n",
       "      <td>Bath Sushi</td>\n",
       "      <td>BA2</td>\n",
       "      <td>3EH</td>\n",
       "      <td>6</td>\n",
       "      <td>Sushi</td>\n",
       "    </tr>\n",
       "    <tr>\n",
       "      <th>36</th>\n",
       "      <td>55f14313c7447c3da7052293</td>\n",
       "      <td>http://www.just-eat.co.uk/restaurants-beastgou...</td>\n",
       "      <td>64 Torwood Street</td>\n",
       "      <td>Torquay</td>\n",
       "      <td>Beast Gourmet Burgers</td>\n",
       "      <td>TQ1</td>\n",
       "      <td>1DT</td>\n",
       "      <td>6</td>\n",
       "      <td>Burgers</td>\n",
       "    </tr>\n",
       "    <tr>\n",
       "      <th>37</th>\n",
       "      <td>55f14313c7447c3da7052292</td>\n",
       "      <td>http://www.just-eat.co.uk/restaurants-Bearstea...</td>\n",
       "      <td>29 Egremont Road</td>\n",
       "      <td>Kent</td>\n",
       "      <td>Bearstead Fish Bar - Collection Only</td>\n",
       "      <td>ME15</td>\n",
       "      <td>8LH</td>\n",
       "      <td>6</td>\n",
       "      <td>Fish &amp; Chips</td>\n",
       "    </tr>\n",
       "    <tr>\n",
       "      <th>38</th>\n",
       "      <td>55f14313c7447c3da705230a</td>\n",
       "      <td>http://www.just-eat.co.uk/restaurants-bellapan...</td>\n",
       "      <td>196 Harvie Avenue</td>\n",
       "      <td>Glasgow</td>\n",
       "      <td>Bella Panini</td>\n",
       "      <td>G77</td>\n",
       "      <td>6UT</td>\n",
       "      <td>6</td>\n",
       "      <td>Pizza</td>\n",
       "    </tr>\n",
       "    <tr>\n",
       "      <th>39</th>\n",
       "      <td>55f14313c7447c3da70523a4</td>\n",
       "      <td>http://www.just-eat.co.uk/restaurants-bennys-s...</td>\n",
       "      <td>30 North Street</td>\n",
       "      <td>London</td>\n",
       "      <td>Benny's - Collection Only</td>\n",
       "      <td>SW4</td>\n",
       "      <td>0HD</td>\n",
       "      <td>6</td>\n",
       "      <td>Fish &amp; Chips</td>\n",
       "    </tr>\n",
       "    <tr>\n",
       "      <th>40</th>\n",
       "      <td>55f14313c7447c3da70523a9</td>\n",
       "      <td>http://www.just-eat.co.uk/restaurants-bennys-g...</td>\n",
       "      <td>2 West Street</td>\n",
       "      <td>Colne</td>\n",
       "      <td>Benny's Grill House</td>\n",
       "      <td>BB8</td>\n",
       "      <td>0HP</td>\n",
       "      <td>6</td>\n",
       "      <td>Kebab</td>\n",
       "    </tr>\n",
       "    <tr>\n",
       "      <th>41</th>\n",
       "      <td>55f14313c7447c3da70523cf</td>\n",
       "      <td>http://www.just-eat.co.uk/restaurants-best-fis...</td>\n",
       "      <td>4 High Street</td>\n",
       "      <td>Broadstairs</td>\n",
       "      <td>Best Fish &amp; Chips</td>\n",
       "      <td>CT10</td>\n",
       "      <td>1LH</td>\n",
       "      <td>6</td>\n",
       "      <td>Fish &amp; Chips</td>\n",
       "    </tr>\n",
       "    <tr>\n",
       "      <th>42</th>\n",
       "      <td>55f14313c7447c3da705241b</td>\n",
       "      <td>http://www.just-eat.co.uk/restaurants-bestpizz...</td>\n",
       "      <td>113 Mungo Park Road</td>\n",
       "      <td>Rainham</td>\n",
       "      <td>Best Pizza</td>\n",
       "      <td>RM13</td>\n",
       "      <td>7PP</td>\n",
       "      <td>6</td>\n",
       "      <td>Pizza</td>\n",
       "    </tr>\n",
       "    <tr>\n",
       "      <th>43</th>\n",
       "      <td>55f14313c7447c3da705241c</td>\n",
       "      <td>http://www.just-eat.co.uk/restaurants-best-piz...</td>\n",
       "      <td>4 Macklin Street</td>\n",
       "      <td>Derby</td>\n",
       "      <td>Best Pizza &amp; Kebab</td>\n",
       "      <td>DE1</td>\n",
       "      <td>1LE</td>\n",
       "      <td>6</td>\n",
       "      <td>Pizza</td>\n",
       "    </tr>\n",
       "    <tr>\n",
       "      <th>44</th>\n",
       "      <td>55f14313c7447c3da705241d</td>\n",
       "      <td>http://www.just-eat.co.uk/restaurants-best-piz...</td>\n",
       "      <td>4 Macklin Street</td>\n",
       "      <td>Derby</td>\n",
       "      <td>Best Pizza &amp; Kebab</td>\n",
       "      <td>DE1</td>\n",
       "      <td>1LE</td>\n",
       "      <td>6</td>\n",
       "      <td>Pizza</td>\n",
       "    </tr>\n",
       "    <tr>\n",
       "      <th>45</th>\n",
       "      <td>55f14313c7447c3da705247c</td>\n",
       "      <td>http://www.just-eat.co.uk/restaurants-bigfish-...</td>\n",
       "      <td>387 London Road</td>\n",
       "      <td>Hastings</td>\n",
       "      <td>Big Fish - Collection Only</td>\n",
       "      <td>TN37</td>\n",
       "      <td>6PA</td>\n",
       "      <td>6</td>\n",
       "      <td>Fish &amp; Chips</td>\n",
       "    </tr>\n",
       "    <tr>\n",
       "      <th>46</th>\n",
       "      <td>55f14313c7447c3da705249e</td>\n",
       "      <td>http://www.just-eat.co.uk/restaurants-bigsaj-b...</td>\n",
       "      <td>231 Edward Road</td>\n",
       "      <td>Birmingham</td>\n",
       "      <td>Big Saj</td>\n",
       "      <td>B12</td>\n",
       "      <td>9LH</td>\n",
       "      <td>6</td>\n",
       "      <td>Kebab</td>\n",
       "    </tr>\n",
       "    <tr>\n",
       "      <th>47</th>\n",
       "      <td>55f14313c7447c3da705249d</td>\n",
       "      <td>http://www.just-eat.co.uk/restaurants-bigsaj-b...</td>\n",
       "      <td>231 Edward Road</td>\n",
       "      <td>Birmingham</td>\n",
       "      <td>Big Saj</td>\n",
       "      <td>B12</td>\n",
       "      <td>9LH</td>\n",
       "      <td>6</td>\n",
       "      <td>Kebab</td>\n",
       "    </tr>\n",
       "    <tr>\n",
       "      <th>48</th>\n",
       "      <td>55f14313c7447c3da70524a6</td>\n",
       "      <td>http://www.just-eat.co.uk/restaurants-biggapot...</td>\n",
       "      <td>15 College Road</td>\n",
       "      <td>Birmingham</td>\n",
       "      <td>Biggapot Caribbean - Collection Only</td>\n",
       "      <td>B20</td>\n",
       "      <td>2HY</td>\n",
       "      <td>6</td>\n",
       "      <td>Caribbean</td>\n",
       "    </tr>\n",
       "  </tbody>\n",
       "</table>\n",
       "</div>"
      ],
      "text/plain": [
       "                         _id  \\\n",
       "0   55f14312c7447c3da7051b2a   \n",
       "1   55f14312c7447c3da7051b2b   \n",
       "2   55f14312c7447c3da7051bbc   \n",
       "3   55f14312c7447c3da7051bfb   \n",
       "4   55f14312c7447c3da7051c82   \n",
       "5   55f14312c7447c3da7051ca4   \n",
       "6   55f14312c7447c3da7051cbd   \n",
       "7   55f14312c7447c3da7051cf0   \n",
       "8   55f14312c7447c3da7051d00   \n",
       "9   55f14312c7447c3da7051d4c   \n",
       "10  55f14312c7447c3da7051d5b   \n",
       "11  55f14312c7447c3da7051d5c   \n",
       "12  55f14312c7447c3da7051dd1   \n",
       "13  55f14312c7447c3da7051e94   \n",
       "14  55f14312c7447c3da7051ea5   \n",
       "15  55f14312c7447c3da7051ed2   \n",
       "16  55f14312c7447c3da7051ed3   \n",
       "17  55f14312c7447c3da7051edb   \n",
       "18  55f14312c7447c3da7051f14   \n",
       "19  55f14312c7447c3da7051f2c   \n",
       "20  55f14312c7447c3da7051f5e   \n",
       "21  55f14312c7447c3da7051f8b   \n",
       "22  55f14312c7447c3da7051fa0   \n",
       "23  55f14312c7447c3da7051fa1   \n",
       "24  55f14312c7447c3da7052023   \n",
       "25  55f14312c7447c3da7052029   \n",
       "26  55f14312c7447c3da7052039   \n",
       "27  55f14312c7447c3da705203a   \n",
       "28  55f14312c7447c3da705203e   \n",
       "29  55f14312c7447c3da705203d   \n",
       "30  55f14312c7447c3da7052054   \n",
       "31  55f14313c7447c3da705208b   \n",
       "32  55f14313c7447c3da7052149   \n",
       "33  55f14313c7447c3da70521f3   \n",
       "34  55f14313c7447c3da70521f9   \n",
       "35  55f14313c7447c3da705222d   \n",
       "36  55f14313c7447c3da7052293   \n",
       "37  55f14313c7447c3da7052292   \n",
       "38  55f14313c7447c3da705230a   \n",
       "39  55f14313c7447c3da70523a4   \n",
       "40  55f14313c7447c3da70523a9   \n",
       "41  55f14313c7447c3da70523cf   \n",
       "42  55f14313c7447c3da705241b   \n",
       "43  55f14313c7447c3da705241c   \n",
       "44  55f14313c7447c3da705241d   \n",
       "45  55f14313c7447c3da705247c   \n",
       "46  55f14313c7447c3da705249e   \n",
       "47  55f14313c7447c3da705249d   \n",
       "48  55f14313c7447c3da70524a6   \n",
       "\n",
       "                                                  URL  \\\n",
       "0   http://www.just-eat.co.uk/restaurants-indianco...   \n",
       "1   http://www.just-eat.co.uk/restaurants-007takea...   \n",
       "2   http://www.just-eat.co.uk/restaurants-aarthi-s...   \n",
       "3   http://www.just-eat.co.uk/restaurants-absharin...   \n",
       "4   http://www.just-eat.co.uk/restaurants-agra-war...   \n",
       "5   http://www.just-eat.co.uk/restaurants-aji-tn23...   \n",
       "6   http://www.just-eat.co.uk/restaurants-akash-ac...   \n",
       "7   http://www.just-eat.co.uk/restaurants-alfrango...   \n",
       "8   http://www.just-eat.co.uk/restaurants-almedina...   \n",
       "9   http://www.just-eat.co.uk/restaurants-alcatraz...   \n",
       "10  http://www.just-eat.co.uk/restaurants-alexplai...   \n",
       "11  http://www.just-eat.co.uk/restaurants-alexplai...   \n",
       "12  http://www.just-eat.co.uk/restaurants-allsiam-...   \n",
       "13  http://www.just-eat.co.uk/restaurants-amina-st...   \n",
       "14  http://www.just-eat.co.uk/restaurants-ammanfor...   \n",
       "15  http://www.just-eat.co.uk/restaurants-blueging...   \n",
       "16  http://www.just-eat.co.uk/restaurants-blueging...   \n",
       "17  http://www.just-eat.co.uk/restaurants-angeethi...   \n",
       "18  http://www.just-eat.co.uk/restaurants-aniss---...   \n",
       "19  http://www.just-eat.co.uk/restaurants-annsthai...   \n",
       "20  http://www.just-eat.co.uk/restaurants-arabesqu...   \n",
       "21  http://www.just-eat.co.uk/restaurants-ark-burg...   \n",
       "22  http://www.just-eat.co.uk/restaurants-aroma-dl...   \n",
       "23  http://www.just-eat.co.uk/restaurants-aroma-dl...   \n",
       "24  http://www.just-eat.co.uk/restaurants-aslizaiq...   \n",
       "25  http://www.just-eat.co.uk/restaurants-aspendos...   \n",
       "26  http://www.just-eat.co.uk/restaurants-atashper...   \n",
       "27  http://www.just-eat.co.uk/restaurants-atashper...   \n",
       "28  http://www.just-eat.co.uk/restaurants-athenabf...   \n",
       "29  http://www.just-eat.co.uk/restaurants-athenabf...   \n",
       "30  http://www.just-eat.co.uk/restaurants-atlantic...   \n",
       "31  http://www.just-eat.co.uk/restaurants-ayubowan...   \n",
       "32  http://www.just-eat.co.uk/restaurants-baltihut...   \n",
       "33  http://www.just-eat.co.uk/restaurants-barista-...   \n",
       "34  http://www.just-eat.co.uk/restaurants-barnacle...   \n",
       "35  http://www.just-eat.co.uk/restaurants-bathsush...   \n",
       "36  http://www.just-eat.co.uk/restaurants-beastgou...   \n",
       "37  http://www.just-eat.co.uk/restaurants-Bearstea...   \n",
       "38  http://www.just-eat.co.uk/restaurants-bellapan...   \n",
       "39  http://www.just-eat.co.uk/restaurants-bennys-s...   \n",
       "40  http://www.just-eat.co.uk/restaurants-bennys-g...   \n",
       "41  http://www.just-eat.co.uk/restaurants-best-fis...   \n",
       "42  http://www.just-eat.co.uk/restaurants-bestpizz...   \n",
       "43  http://www.just-eat.co.uk/restaurants-best-piz...   \n",
       "44  http://www.just-eat.co.uk/restaurants-best-piz...   \n",
       "45  http://www.just-eat.co.uk/restaurants-bigfish-...   \n",
       "46  http://www.just-eat.co.uk/restaurants-bigsaj-b...   \n",
       "47  http://www.just-eat.co.uk/restaurants-bigsaj-b...   \n",
       "48  http://www.just-eat.co.uk/restaurants-biggapot...   \n",
       "\n",
       "                    address        address line 2  \\\n",
       "0     9 Broughton Hall Road             Broughton   \n",
       "1         6 Drummond Street             Rotherham   \n",
       "2           5 Kingston Road                London   \n",
       "3            43 High Street                Ilford   \n",
       "4            32 East Street             Wiltshire   \n",
       "5              23 New Rents               Ashford   \n",
       "6           87 Whalley Road            Accrington   \n",
       "7      14 Wellington Street                 Luton   \n",
       "8            2 Walford Road             Sparkhill   \n",
       "9     127 Christchurch Road           Bournemouth   \n",
       "10    314 Kilburn High Road                London   \n",
       "11    314 Kilburn High Road                London   \n",
       "12       639 Ecclesall Road             Sheffield   \n",
       "13      5 Sutton Oak Corner            Birmingham   \n",
       "14        18 College Street                 Dyfed   \n",
       "15           1 Atholl Court               Andover   \n",
       "16           1 Atholl Court               Andover   \n",
       "17           168 Kells Lane           Tyne & Wear   \n",
       "18         32 Waterloo Road             Smethwick   \n",
       "19        27 Bilston Street                Dudley   \n",
       "20       23 Winchester Road                London   \n",
       "21          3 Church Street  Hertfordshire County   \n",
       "22         1 Zetland Street         Northallerton   \n",
       "23         1 Zetland Street         Northallerton   \n",
       "24        52 Uppingham Road        Leicestershire   \n",
       "25           67 High Street             Dymchurch   \n",
       "26           55 High Street             Brentford   \n",
       "27           55 High Street             Brentford   \n",
       "28          27 Station Road           East Sussex   \n",
       "29          27 Station Road           East Sussex   \n",
       "30       Twin Spires Centre         County Antrim   \n",
       "31   46-50 High Street West            Derbyshire   \n",
       "32  12 Pilkington Buildings        Middlesborough   \n",
       "33         24 Ballards Lane                London   \n",
       "34           8 Kirkham Road            Freckleton   \n",
       "35     3 Victoria Buildings              Somerset   \n",
       "36        64 Torwood Street               Torquay   \n",
       "37         29 Egremont Road                  Kent   \n",
       "38        196 Harvie Avenue               Glasgow   \n",
       "39          30 North Street                London   \n",
       "40            2 West Street                 Colne   \n",
       "41            4 High Street           Broadstairs   \n",
       "42      113 Mungo Park Road               Rainham   \n",
       "43         4 Macklin Street                 Derby   \n",
       "44         4 Macklin Street                 Derby   \n",
       "45          387 London Road              Hastings   \n",
       "46          231 Edward Road            Birmingham   \n",
       "47          231 Edward Road            Birmingham   \n",
       "48          15 College Road            Birmingham   \n",
       "\n",
       "                                                 name outcode postcode  \\\n",
       "0                                         @Indian.com     CH4      0QR   \n",
       "1                                        007 Takeaway     S65      1HY   \n",
       "2                                              Aarthi    SW19      1JX   \n",
       "3                               Abshar Indian Cuisine     IG6      2AD   \n",
       "4                                                Agra    BA12      9BN   \n",
       "5                               Aji - Collection Only    TN23      2JJ   \n",
       "6                                    Akash Accrington     BB5      1AS   \n",
       "7                                           Al Frango     LU1      2HQ   \n",
       "8                Al Medina Delights - Collection Only     B11      1NR   \n",
       "9                          Alcatraz Caffe Bournemouth     BH1      1EP   \n",
       "10                                        Alex Plaice     NW6      2DG   \n",
       "11                                        Alex Plaice     NW6      2DG   \n",
       "12         All Siam Thai Restaurant - Collection Only     S11      8PT   \n",
       "13                                              Amina     B74      2DH   \n",
       "14                                 Ammanford Fish Bar    SA18      3AF   \n",
       "15                 Andover Tandoori - Collection Only    SP10      4BB   \n",
       "16                 Andover Tandoori - Collection Only    SP10      4BB   \n",
       "17                            Angeethi Indian Express     NE9      5HY   \n",
       "18                   Anis's - The Taste of Perfection     B66      4JW   \n",
       "19                         Ann's Thai@ The Bulls Head     DY3      1JA   \n",
       "20                                          Arabesque     NW3      3NR   \n",
       "21                             Ark Burger & Salad Bar    CM23      2LY   \n",
       "22    Aroma Bar Restaurant Takeaway - Collection Only     DL6      1NB   \n",
       "23    Aroma Bar Restaurant Takeaway - Collection Only     DL6      1NB   \n",
       "24                                         Asli Zaiqa     LE5      0QD   \n",
       "25                                           Aspendos    TN29      0NH   \n",
       "26         Atash Persian Restaurant - Collection Only     TW8      0AH   \n",
       "27         Atash Persian Restaurant - Collection Only     TW8      0AH   \n",
       "28                Athena B Fish Bar - Collection Only    BN41      1GB   \n",
       "29                Athena B Fish Bar - Collection Only    BN41      1GB   \n",
       "30                                   Atlantic Gourmet    BT13      2JF   \n",
       "31                                           Ayubowan    SK13      8BH   \n",
       "32                                          Balti Hut     TS5      6DY   \n",
       "33  Barista House Restaurant & Cafe - Collection Only      N3      2BJ   \n",
       "34                                     Barnacle Bills     PR4      1HT   \n",
       "35                                         Bath Sushi     BA2      3EH   \n",
       "36                              Beast Gourmet Burgers     TQ1      1DT   \n",
       "37               Bearstead Fish Bar - Collection Only    ME15      8LH   \n",
       "38                                       Bella Panini     G77      6UT   \n",
       "39                          Benny's - Collection Only     SW4      0HD   \n",
       "40                                Benny's Grill House     BB8      0HP   \n",
       "41                                  Best Fish & Chips    CT10      1LH   \n",
       "42                                         Best Pizza    RM13      7PP   \n",
       "43                                 Best Pizza & Kebab     DE1      1LE   \n",
       "44                                 Best Pizza & Kebab     DE1      1LE   \n",
       "45                         Big Fish - Collection Only    TN37      6PA   \n",
       "46                                            Big Saj     B12      9LH   \n",
       "47                                            Big Saj     B12      9LH   \n",
       "48               Biggapot Caribbean - Collection Only     B20      2HY   \n",
       "\n",
       "    rating   type_of_food  \n",
       "0        6          Curry  \n",
       "1        6          Pizza  \n",
       "2        6          Curry  \n",
       "3        6        Punjabi  \n",
       "4        6          Curry  \n",
       "5        6       Japanese  \n",
       "6        6          Curry  \n",
       "7        6  Mediterranean  \n",
       "8        6          Pasta  \n",
       "9        6          Pizza  \n",
       "10       6   Fish & Chips  \n",
       "11       6   Fish & Chips  \n",
       "12       6           Thai  \n",
       "13       6          Curry  \n",
       "14       6   Fish & Chips  \n",
       "15       6          Curry  \n",
       "16       6          Curry  \n",
       "17       6          Curry  \n",
       "18       6          Curry  \n",
       "19       6           Thai  \n",
       "20       6  Mediterranean  \n",
       "21       6       American  \n",
       "22       6          Curry  \n",
       "23       6          Curry  \n",
       "24       6          Curry  \n",
       "25       6          Pizza  \n",
       "26       6        Persian  \n",
       "27       6        Persian  \n",
       "28       6   Fish & Chips  \n",
       "29       6   Fish & Chips  \n",
       "30       6   Fish & Chips  \n",
       "31       6     Sri-lankan  \n",
       "32       6          Curry  \n",
       "33       6          Pizza  \n",
       "34       6   Fish & Chips  \n",
       "35       6          Sushi  \n",
       "36       6        Burgers  \n",
       "37       6   Fish & Chips  \n",
       "38       6          Pizza  \n",
       "39       6   Fish & Chips  \n",
       "40       6          Kebab  \n",
       "41       6   Fish & Chips  \n",
       "42       6          Pizza  \n",
       "43       6          Pizza  \n",
       "44       6          Pizza  \n",
       "45       6   Fish & Chips  \n",
       "46       6          Kebab  \n",
       "47       6          Kebab  \n",
       "48       6      Caribbean  "
      ]
     },
     "execution_count": 39,
     "metadata": {},
     "output_type": "execute_result"
    }
   ],
   "source": [
    "df = pd.DataFrame(documents2)\n",
    "df"
   ]
  },
  {
   "cell_type": "markdown",
   "metadata": {},
   "source": [
    "## Projecting"
   ]
  },
  {
   "cell_type": "markdown",
   "metadata": {},
   "source": [
    "We may only want some fields in the mongo response:"
   ]
  },
  {
   "cell_type": "markdown",
   "metadata": {},
   "source": [
    "`_id` field is returned by default"
   ]
  },
  {
   "cell_type": "markdown",
   "metadata": {},
   "source": [
    "`collection.find(filter, project)`"
   ]
  },
  {
   "cell_type": "code",
   "execution_count": 45,
   "metadata": {},
   "outputs": [
    {
     "data": {
      "text/plain": [
       "[{'_id': ObjectId('55f14312c7447c3da7051b2a'),\n",
       "  'name': '@Indian.com',\n",
       "  'rating': 6},\n",
       " {'_id': ObjectId('55f14312c7447c3da7051b2b'),\n",
       "  'name': '007 Takeaway',\n",
       "  'rating': 6},\n",
       " {'_id': ObjectId('55f14312c7447c3da7051bbc'), 'name': 'Aarthi', 'rating': 6},\n",
       " {'_id': ObjectId('55f14312c7447c3da7051bfb'),\n",
       "  'name': 'Abshar Indian Cuisine',\n",
       "  'rating': 6},\n",
       " {'_id': ObjectId('55f14312c7447c3da7051c82'), 'name': 'Agra', 'rating': 6},\n",
       " {'_id': ObjectId('55f14312c7447c3da7051ca4'),\n",
       "  'name': 'Aji - Collection Only',\n",
       "  'rating': 6},\n",
       " {'_id': ObjectId('55f14312c7447c3da7051cbd'),\n",
       "  'name': 'Akash Accrington',\n",
       "  'rating': 6},\n",
       " {'_id': ObjectId('55f14312c7447c3da7051cf0'),\n",
       "  'name': 'Al Frango',\n",
       "  'rating': 6},\n",
       " {'_id': ObjectId('55f14312c7447c3da7051d00'),\n",
       "  'name': 'Al Medina Delights - Collection Only',\n",
       "  'rating': 6},\n",
       " {'_id': ObjectId('55f14312c7447c3da7051d4c'),\n",
       "  'name': 'Alcatraz Caffe Bournemouth',\n",
       "  'rating': 6},\n",
       " {'_id': ObjectId('55f14312c7447c3da7051d5b'),\n",
       "  'name': 'Alex Plaice',\n",
       "  'rating': 6},\n",
       " {'_id': ObjectId('55f14312c7447c3da7051d5c'),\n",
       "  'name': 'Alex Plaice',\n",
       "  'rating': 6},\n",
       " {'_id': ObjectId('55f14312c7447c3da7051dd1'),\n",
       "  'name': 'All Siam Thai Restaurant - Collection Only',\n",
       "  'rating': 6},\n",
       " {'_id': ObjectId('55f14312c7447c3da7051e94'), 'name': 'Amina', 'rating': 6},\n",
       " {'_id': ObjectId('55f14312c7447c3da7051ea5'),\n",
       "  'name': 'Ammanford Fish Bar',\n",
       "  'rating': 6},\n",
       " {'_id': ObjectId('55f14312c7447c3da7051ed2'),\n",
       "  'name': 'Andover Tandoori - Collection Only',\n",
       "  'rating': 6},\n",
       " {'_id': ObjectId('55f14312c7447c3da7051ed3'),\n",
       "  'name': 'Andover Tandoori - Collection Only',\n",
       "  'rating': 6},\n",
       " {'_id': ObjectId('55f14312c7447c3da7051edb'),\n",
       "  'name': 'Angeethi Indian Express',\n",
       "  'rating': 6},\n",
       " {'_id': ObjectId('55f14312c7447c3da7051f14'),\n",
       "  'name': \"Anis's - The Taste of Perfection\",\n",
       "  'rating': 6},\n",
       " {'_id': ObjectId('55f14312c7447c3da7051f2c'),\n",
       "  'name': \"Ann's Thai@ The Bulls Head\",\n",
       "  'rating': 6},\n",
       " {'_id': ObjectId('55f14312c7447c3da7051f5e'),\n",
       "  'name': 'Arabesque',\n",
       "  'rating': 6},\n",
       " {'_id': ObjectId('55f14312c7447c3da7051f8b'),\n",
       "  'name': 'Ark Burger & Salad Bar',\n",
       "  'rating': 6},\n",
       " {'_id': ObjectId('55f14312c7447c3da7051fa0'),\n",
       "  'name': 'Aroma Bar Restaurant Takeaway - Collection Only',\n",
       "  'rating': 6},\n",
       " {'_id': ObjectId('55f14312c7447c3da7051fa1'),\n",
       "  'name': 'Aroma Bar Restaurant Takeaway - Collection Only',\n",
       "  'rating': 6},\n",
       " {'_id': ObjectId('55f14312c7447c3da7052023'),\n",
       "  'name': 'Asli Zaiqa',\n",
       "  'rating': 6},\n",
       " {'_id': ObjectId('55f14312c7447c3da7052029'),\n",
       "  'name': 'Aspendos',\n",
       "  'rating': 6},\n",
       " {'_id': ObjectId('55f14312c7447c3da7052039'),\n",
       "  'name': 'Atash Persian Restaurant - Collection Only',\n",
       "  'rating': 6},\n",
       " {'_id': ObjectId('55f14312c7447c3da705203a'),\n",
       "  'name': 'Atash Persian Restaurant - Collection Only',\n",
       "  'rating': 6},\n",
       " {'_id': ObjectId('55f14312c7447c3da705203e'),\n",
       "  'name': 'Athena B Fish Bar - Collection Only',\n",
       "  'rating': 6},\n",
       " {'_id': ObjectId('55f14312c7447c3da705203d'),\n",
       "  'name': 'Athena B Fish Bar - Collection Only',\n",
       "  'rating': 6},\n",
       " {'_id': ObjectId('55f14312c7447c3da7052054'),\n",
       "  'name': 'Atlantic Gourmet',\n",
       "  'rating': 6},\n",
       " {'_id': ObjectId('55f14313c7447c3da705208b'),\n",
       "  'name': 'Ayubowan',\n",
       "  'rating': 6},\n",
       " {'_id': ObjectId('55f14313c7447c3da7052149'),\n",
       "  'name': 'Balti Hut',\n",
       "  'rating': 6},\n",
       " {'_id': ObjectId('55f14313c7447c3da70521f3'),\n",
       "  'name': 'Barista House Restaurant & Cafe - Collection Only',\n",
       "  'rating': 6},\n",
       " {'_id': ObjectId('55f14313c7447c3da70521f9'),\n",
       "  'name': 'Barnacle Bills',\n",
       "  'rating': 6},\n",
       " {'_id': ObjectId('55f14313c7447c3da705222d'),\n",
       "  'name': 'Bath Sushi',\n",
       "  'rating': 6},\n",
       " {'_id': ObjectId('55f14313c7447c3da7052293'),\n",
       "  'name': 'Beast Gourmet Burgers',\n",
       "  'rating': 6},\n",
       " {'_id': ObjectId('55f14313c7447c3da7052292'),\n",
       "  'name': 'Bearstead Fish Bar - Collection Only',\n",
       "  'rating': 6},\n",
       " {'_id': ObjectId('55f14313c7447c3da705230a'),\n",
       "  'name': 'Bella Panini',\n",
       "  'rating': 6},\n",
       " {'_id': ObjectId('55f14313c7447c3da70523a4'),\n",
       "  'name': \"Benny's - Collection Only\",\n",
       "  'rating': 6},\n",
       " {'_id': ObjectId('55f14313c7447c3da70523a9'),\n",
       "  'name': \"Benny's Grill House\",\n",
       "  'rating': 6},\n",
       " {'_id': ObjectId('55f14313c7447c3da70523cf'),\n",
       "  'name': 'Best Fish & Chips',\n",
       "  'rating': 6},\n",
       " {'_id': ObjectId('55f14313c7447c3da705241b'),\n",
       "  'name': 'Best Pizza',\n",
       "  'rating': 6},\n",
       " {'_id': ObjectId('55f14313c7447c3da705241c'),\n",
       "  'name': 'Best Pizza & Kebab',\n",
       "  'rating': 6},\n",
       " {'_id': ObjectId('55f14313c7447c3da705241d'),\n",
       "  'name': 'Best Pizza & Kebab',\n",
       "  'rating': 6},\n",
       " {'_id': ObjectId('55f14313c7447c3da705247c'),\n",
       "  'name': 'Big Fish - Collection Only',\n",
       "  'rating': 6},\n",
       " {'_id': ObjectId('55f14313c7447c3da705249e'), 'name': 'Big Saj', 'rating': 6},\n",
       " {'_id': ObjectId('55f14313c7447c3da705249d'), 'name': 'Big Saj', 'rating': 6},\n",
       " {'_id': ObjectId('55f14313c7447c3da70524a6'),\n",
       "  'name': 'Biggapot Caribbean - Collection Only',\n",
       "  'rating': 6}]"
      ]
     },
     "execution_count": 45,
     "metadata": {},
     "output_type": "execute_result"
    }
   ],
   "source": [
    "list(collection.find({\"rating\": 6}, {\"rating\": 1, \"name\": 1}))"
   ]
  },
  {
   "cell_type": "code",
   "execution_count": 50,
   "metadata": {},
   "outputs": [
    {
     "data": {
      "text/plain": [
       "[{'name': 'Big Boys Pizza', 'rating': 2},\n",
       " {'name': 'Big Boys Pizza', 'rating': 2},\n",
       " {'name': 'Big Boys Pizza', 'rating': 2}]"
      ]
     },
     "execution_count": 50,
     "metadata": {},
     "output_type": "execute_result"
    }
   ],
   "source": [
    "list(collection.find({\"rating\": 2}, {\"rating\": 1, \"name\": 1, \"_id\": 0}))"
   ]
  },
  {
   "cell_type": "code",
   "execution_count": 49,
   "metadata": {},
   "outputs": [
    {
     "data": {
      "text/plain": [
       "[{'name': '.CN Chinese'},\n",
       " {'name': '@ Thai'},\n",
       " {'name': '1 2 3 Chinese'},\n",
       " {'name': '042 Restaurant & Bar'},\n",
       " {'name': '100 Degrees Chinese Restaurant'},\n",
       " {'name': '042 Restaurant & Bar'},\n",
       " {'name': '042 Restaurant & Bar'},\n",
       " {'name': '100 Menu'},\n",
       " {'name': '104 Turkish BBQ'},\n",
       " {'name': '133 Takeaway'},\n",
       " {'name': '113 Fish Bar'},\n",
       " {'name': '1498 The Spice Affair'},\n",
       " {'name': '109 Ristorante'},\n",
       " {'name': '168 Chinese & Cantonese Takeaway'},\n",
       " {'name': '1pizza1'},\n",
       " {'name': '1A Wok'},\n",
       " {'name': '@Indian.com'},\n",
       " {'name': '2 4 1 Pizza'},\n",
       " {'name': '2 for 1 Pizza Place'},\n",
       " {'name': '1st Class Pizza & Kebab House'},\n",
       " {'name': '23rd Street Pizza'},\n",
       " {'name': '2 Treat U'},\n",
       " {'name': '2 Spice'},\n",
       " {'name': '241 Pizza'},\n",
       " {'name': '241 Pizza'},\n",
       " {'name': '1st Class Pizza'},\n",
       " {'name': '23rd Street Pizza'},\n",
       " {'name': '2-4-1 Pizza'},\n",
       " {'name': '2-4-1 Pizza'},\n",
       " {'name': '2-4-1 Pizza'},\n",
       " {'name': '@ Thai Restaurant'},\n",
       " {'name': '280 Degrees African & Nigerian Restaurant'},\n",
       " {'name': '3 Chef Fish Bar'},\n",
       " {'name': '1 2 3 Chinese'},\n",
       " {'name': '007 Takeaway'},\n",
       " {'name': '280 Degrees African & Nigerian Restaurant'},\n",
       " {'name': '1st Class Pizza'},\n",
       " {'name': '@ Thai Restaurant'},\n",
       " {'name': '3 In 1 Dunoon'},\n",
       " {'name': '333 Chinese Takeaway'},\n",
       " {'name': '1st Choice Pizza'},\n",
       " {'name': '350 Wok'},\n",
       " {'name': '333 Chinese Takeaway'},\n",
       " {'name': '350 Wok'},\n",
       " {'name': '328 Chinese Online'},\n",
       " {'name': '333 Chinese Takeaway1'},\n",
       " {'name': '350 Wok'},\n",
       " {'name': '4 in Love'},\n",
       " {'name': '4500 Miles From Delhi'},\n",
       " {'name': '4 in 1 Express'},\n",
       " {'name': '4550 Miles From Delhi - Collection Only'},\n",
       " {'name': '5 In 1 Takeaway'},\n",
       " {'name': \"5 'N' 1\"},\n",
       " {'name': '4 Seasons Pizza & Grill'},\n",
       " {'name': '5 Star Chinese'},\n",
       " {'name': '5 Star Falafel @ GH Butchers'},\n",
       " {'name': '5 Star Chinese'},\n",
       " {'name': '5 Star Falafel @ GH Butchers'},\n",
       " {'name': '5 Star Fish Bar'},\n",
       " {'name': '3 In 1 Xtra'},\n",
       " {'name': '3 In 1 Xtra'},\n",
       " {'name': '1st Class Pizza'},\n",
       " {'name': '3 in 1 Indian & Chipshop Barrhead'},\n",
       " {'name': '321 Pizzas, Kebabs & Burgers'},\n",
       " {'name': '5 Star Pizza'},\n",
       " {'name': '3 In 1 Xtra'},\n",
       " {'name': '5 Star Pizza'},\n",
       " {'name': '5 Star Pizza'},\n",
       " {'name': '3 Chefs'},\n",
       " {'name': '5 Star Pizza'},\n",
       " {'name': '5 Star Pizza'},\n",
       " {'name': '5 Star Pizza'},\n",
       " {'name': '5 Star Pizza'},\n",
       " {'name': '555 Hot Curry'},\n",
       " {'name': '555 Pizza'},\n",
       " {'name': '57 Orient Takeaway'},\n",
       " {'name': '64 Pizzeria'},\n",
       " {'name': '555 Pizza & Kebab'},\n",
       " {'name': '62 Worksop Fish Bar'},\n",
       " {'name': '7 & One'},\n",
       " {'name': '7 Oaks Grill'},\n",
       " {'name': '7 Spices'},\n",
       " {'name': '7 Spices'},\n",
       " {'name': '7 Spices Takeaway'},\n",
       " {'name': '7 STAR Pizza'},\n",
       " {'name': '7 STAR Pizza'},\n",
       " {'name': '7 Star Spices'},\n",
       " {'name': '88 Chinese'},\n",
       " {'name': '700 Degrees'},\n",
       " {'name': '7 STAR Pizza'},\n",
       " {'name': '88 Noodle Bar'},\n",
       " {'name': '888 Triple Eight'},\n",
       " {'name': '9th Kitchen'},\n",
       " {'name': '9th Avenue Pizzeria'},\n",
       " {'name': '9 Inch CFC'},\n",
       " {'name': 'A & G Kitchen'},\n",
       " {'name': 'A & T Mundi House'},\n",
       " {'name': 'A Fish Called Rhondda'},\n",
       " {'name': '888 Chinese Takeaway'},\n",
       " {'name': 'A La Pizza'},\n",
       " {'name': 'A Cake A Shake'},\n",
       " {'name': 'A Cake A Shake'},\n",
       " {'name': 'A Matter Of Taste'},\n",
       " {'name': 'A La Turka'},\n",
       " {'name': 'A M Mians'},\n",
       " {'name': 'A M Mians'},\n",
       " {'name': 'A Taste Of Persia - Collection Only'},\n",
       " {'name': 'A La Pizza'},\n",
       " {'name': 'A Taste Of Persia - Collection Only'},\n",
       " {'name': 'A To Buy Fish & Chips'},\n",
       " {'name': 'A Touch of Spice'},\n",
       " {'name': 'A Passage To India'},\n",
       " {'name': 'A Touch of Spice'},\n",
       " {'name': 'A World Of Fl@vours'},\n",
       " {'name': \"A.J's Pizza\"},\n",
       " {'name': 'A&S Fast Food'},\n",
       " {'name': 'A Yummy Pizza'},\n",
       " {'name': 'èkó Food Market'},\n",
       " {'name': '£1 Fish Shop'},\n",
       " {'name': 'A&A Peri Peri'},\n",
       " {'name': 'èkó Food Market'},\n",
       " {'name': 'A1 Balti House'},\n",
       " {'name': 'A1 Balti House'},\n",
       " {'name': 'A Taskinha'},\n",
       " {'name': 'A Star Chippy'},\n",
       " {'name': 'A Passage To India'},\n",
       " {'name': 'A1 Pizzas'},\n",
       " {'name': 'A Sealand Fish Bar - Collection Only'},\n",
       " {'name': \"A1 Rice 'N' Spice\"},\n",
       " {'name': 'A One Tandoori'},\n",
       " {'name': 'A12 Spice'},\n",
       " {'name': 'A4 Pizza & Kebab'},\n",
       " {'name': 'A12 Spice'},\n",
       " {'name': 'A12 Spice'},\n",
       " {'name': 'A1 Wok'},\n",
       " {'name': 'AA Charcoal Grill'},\n",
       " {'name': 'AA Charcoal Grill'},\n",
       " {'name': 'Aachi Chettinad'},\n",
       " {'name': 'Aadams Authentic Grill'},\n",
       " {'name': 'Aakash Balti'},\n",
       " {'name': 'Aachi Chettinad'},\n",
       " {'name': 'Aakash Restaurant'},\n",
       " {'name': 'Aakash Restaurant'},\n",
       " {'name': 'Aamaya'},\n",
       " {'name': 'Aakash Balti'},\n",
       " {'name': 'Aakash Balti'},\n",
       " {'name': 'Aanias Takeaway'},\n",
       " {'name': \"Aamino's Pizza\"},\n",
       " {'name': 'Aaris Indian Restaurant'},\n",
       " {'name': 'AAQA Fast Food'},\n",
       " {'name': 'Aashiana'},\n",
       " {'name': 'A6 Grill'},\n",
       " {'name': 'Aarthi'},\n",
       " {'name': 'Aashiana'},\n",
       " {'name': \"Aashir's\"},\n",
       " {'name': 'AB Pizza and Grill'},\n",
       " {'name': 'Ababil'},\n",
       " {'name': 'Abbey Spice'},\n",
       " {'name': \"Aashir's\"},\n",
       " {'name': \"Aayan's\"},\n",
       " {'name': 'Ababil'},\n",
       " {'name': 'Abbey Fish Bar'},\n",
       " {'name': \"Abbey's Balti Village\"},\n",
       " {'name': 'Abbeyfry Pizzeria & Kebab House'},\n",
       " {'name': \"Abbey's Pizza\"},\n",
       " {'name': 'Abbeys Junction Pizzeria'},\n",
       " {'name': 'Abbeywood Tandoori'},\n",
       " {'name': \"Abbey's Fish & Chips & Pizza Place\"},\n",
       " {'name': \"Abby's Diner\"},\n",
       " {'name': 'Abdul Hadi'},\n",
       " {'name': 'Abdul Hadi'},\n",
       " {'name': 'Abduls'},\n",
       " {'name': 'Abdul Spice'},\n",
       " {'name': \"Abdul's\"},\n",
       " {'name': 'Abduls'},\n",
       " {'name': 'Abbies Pizza'},\n",
       " {'name': \"Abdul's\"},\n",
       " {'name': \"Abdul's Balti House\"},\n",
       " {'name': 'Abaseen'},\n",
       " {'name': \"Abdul's Curry House\"},\n",
       " {'name': 'Abduls Kebab House'},\n",
       " {'name': \"Abdul's Indian\"},\n",
       " {'name': 'Abduls Rusholme'},\n",
       " {'name': \"Abdul's Balti House\"},\n",
       " {'name': 'Aberbargoed Indian Takeaway'},\n",
       " {'name': 'Aberavon Packed Meals'},\n",
       " {'name': 'Abbey Fish Bar'},\n",
       " {'name': 'Aberdeen Shanghai Takeaway'},\n",
       " {'name': 'Aberdare Charcoal Grill'},\n",
       " {'name': \"Abe's Pizza\"},\n",
       " {'name': 'Abbey Tandoori'},\n",
       " {'name': 'Abidap Connection'},\n",
       " {'name': 'Abi Restaurant'},\n",
       " {'name': \"Abdul's Indian Cuisine\"},\n",
       " {'name': 'Abidap Connection'},\n",
       " {'name': 'Abidap Connection'},\n",
       " {'name': 'Abi Ruchi'},\n",
       " {'name': \"Abid's Tandoori Takeaway\"},\n",
       " {'name': 'Abington Tandoori'},\n",
       " {'name': 'Aberkenfig Kebab & Pizza House'},\n",
       " {'name': 'Abo Ali - Lebanese Cuisine'},\n",
       " {'name': \"Abi's Kebab\"},\n",
       " {'name': 'Abida'},\n",
       " {'name': 'Abbeyfry Fish and Chips'},\n",
       " {'name': 'Abs Fried Chicken & Pizza'},\n",
       " {'name': 'Abo Ali - Lebanese Cuisine'},\n",
       " {'name': 'Abra-Kebab-Ra'},\n",
       " {'name': 'Abra Pizzas'},\n",
       " {'name': 'ABS Fast Food'},\n",
       " {'name': 'Abshar Indian Cuisine'},\n",
       " {'name': 'Absolute Caribbean'},\n",
       " {'name': 'Abi Ruchi'},\n",
       " {'name': 'Abshar Persian Cuisine'},\n",
       " {'name': 'Abyssinia Ethiopian Restaurant'},\n",
       " {'name': 'Absolute Caribbean'},\n",
       " {'name': 'Abbey Fryers Fish Bar & Balti House'},\n",
       " {'name': 'Abyssinia Ethiopian Restaurant'},\n",
       " {'name': 'Ace Of Spice'},\n",
       " {'name': \"Aby's Indian Experience\"},\n",
       " {'name': 'Abz BBQ Kitchen'},\n",
       " {'name': 'Abyssinia Ethiopian Restaurant'},\n",
       " {'name': 'Ace Plaice Traditional Fish & Chips'},\n",
       " {'name': 'Ace Peri Peri'},\n",
       " {'name': \"Ackie's\"},\n",
       " {'name': 'Ace Peri Peri'},\n",
       " {'name': 'ACE Pizza & Kebab'},\n",
       " {'name': 'Ace Pizza'},\n",
       " {'name': 'Ace Plaice Traditional Fish & Chips'},\n",
       " {'name': 'Acomb Kebab House'},\n",
       " {'name': 'Ackee Tree'},\n",
       " {'name': 'Abshar Persian Cuisine'},\n",
       " {'name': 'Active Cafe Lounge'},\n",
       " {'name': 'Acha Halal Chinese Cuisine'},\n",
       " {'name': 'Abbey Meads Indian Restaurant & Takeaway'},\n",
       " {'name': 'Adaab Balti'},\n",
       " {'name': 'Ada Restaurant'},\n",
       " {'name': 'Ada Restaurant'},\n",
       " {'name': 'Abaseen'},\n",
       " {'name': 'Acton Charcoal Grill'},\n",
       " {'name': 'Acropolis'},\n",
       " {'name': 'Adams'},\n",
       " {'name': 'Adams'},\n",
       " {'name': 'Adams'},\n",
       " {'name': 'Adams Balti'},\n",
       " {'name': 'Adams Alsabti Pizzeria & Grill House'},\n",
       " {'name': \"Adams & Lily's\"},\n",
       " {'name': 'Adams Balti'},\n",
       " {'name': 'Adams Balti'},\n",
       " {'name': 'Adams'},\n",
       " {'name': \"Adam's Cafe - Collection Only\"},\n",
       " {'name': \"Adam's Grill\"},\n",
       " {'name': 'Adams Diner'},\n",
       " {'name': \"Adam's Fast Food\"},\n",
       " {'name': 'Adams Fish N Pizza Bar'},\n",
       " {'name': \"Adam's Fish & Chips\"},\n",
       " {'name': \"Adam's Hot & Spicy\"},\n",
       " {'name': 'Adams Chippy & Curry House'},\n",
       " {'name': 'Adams Fish & Pizza Bar'},\n",
       " {'name': \"Adam's Grill\"},\n",
       " {'name': \"Adam's Diner\"},\n",
       " {'name': \"Adam's Balti & Pizza\"},\n",
       " {'name': 'Adams Ice Cream Parlour'},\n",
       " {'name': \"Adam's Hot & Spicy\"},\n",
       " {'name': 'Adams Ice Cream Parlour'},\n",
       " {'name': 'Adams Pizza & Kebabs'},\n",
       " {'name': \"Adam's Pizza & Kebab\"},\n",
       " {'name': 'Adams Pizza'},\n",
       " {'name': 'Adams Pizza Corner'},\n",
       " {'name': \"Adam's Spice\"},\n",
       " {'name': 'Adams Place'},\n",
       " {'name': \"Adam's Pizzeria\"},\n",
       " {'name': 'Adams Pizza & Kebabs'},\n",
       " {'name': 'Adams Pizzeria'},\n",
       " {'name': 'Adana Pizza'},\n",
       " {'name': 'Adar Restaurant'},\n",
       " {'name': 'Adams Steak & Curry House'},\n",
       " {'name': 'Adar Restaurant'},\n",
       " {'name': 'Addlestone Charcoal Grill'},\n",
       " {'name': 'Adeels Fast Food'},\n",
       " {'name': 'Adeel Balti & Pizza Bar'},\n",
       " {'name': \"Adil's Takeaway\"},\n",
       " {'name': 'Adil Takeaway'},\n",
       " {'name': 'Adelaide Fish Bar - Collection Only'},\n",
       " {'name': \"Adel's Pizza\"},\n",
       " {'name': 'Adiva'},\n",
       " {'name': 'Adiva'},\n",
       " {'name': 'Adeels Spice'},\n",
       " {'name': 'Adiva'},\n",
       " {'name': 'Adlington Mama Mia'},\n",
       " {'name': 'Adeel Tandoori'},\n",
       " {'name': 'Adlington Spice'},\n",
       " {'name': 'Adlington Mama Mia'},\n",
       " {'name': 'Add Spice'},\n",
       " {'name': 'Adlington Spice'},\n",
       " {'name': 'Adlington Spice'},\n",
       " {'name': 'Admiral Pizza'},\n",
       " {'name': 'Admiral Pizza'},\n",
       " {'name': 'Admiral Pizza'},\n",
       " {'name': 'Admiral Pizza'},\n",
       " {'name': 'Admirals Fish & Chips & Kebabs'},\n",
       " {'name': 'Adnan Southern Fried Chicken Shop'},\n",
       " {'name': 'Adnans Indian Restaurant & Takeaway'},\n",
       " {'name': 'Adonis Pizza & Grill'},\n",
       " {'name': \"Adolfo's\"},\n",
       " {'name': 'Adras Restaurant'},\n",
       " {'name': 'Adnans Indian Restaurant & Takeaway'},\n",
       " {'name': 'Adeel Balti & Pizza Bar'},\n",
       " {'name': \"Ado's\"},\n",
       " {'name': 'AF88'},\n",
       " {'name': 'Adras Restaurant'},\n",
       " {'name': 'Adriatic Italian'},\n",
       " {'name': 'Afandina Restaurant'},\n",
       " {'name': 'AFC'},\n",
       " {'name': 'AFC'},\n",
       " {'name': 'AFC'},\n",
       " {'name': 'AFC American Fried Chicken'},\n",
       " {'name': 'AFC American Fried Chicken'},\n",
       " {'name': 'AFC Fried Chicken & Pizza'},\n",
       " {'name': 'AFC Fried Chicken & Pizza'},\n",
       " {'name': 'AFC-American Fried Chicken'},\n",
       " {'name': 'Afendi Club & Restaurant'},\n",
       " {'name': 'AFC Pizza'},\n",
       " {'name': 'Afendi Club & Restaurant'},\n",
       " {'name': 'Afendi Club & Restaurant'},\n",
       " {'name': 'Afendi Restaurant & Cafe'},\n",
       " {'name': 'Afghan Kebab Takeaway'},\n",
       " {'name': 'Afghan Pamir'},\n",
       " {'name': 'Afghan Pamir'},\n",
       " {'name': 'Afghan Restaurant'},\n",
       " {'name': 'Afghan Spice'},\n",
       " {'name': 'Afghan Restaurant'},\n",
       " {'name': 'Africa 9JA Restaurant'},\n",
       " {'name': 'Africa Best Place'},\n",
       " {'name': 'African Flavour'},\n",
       " {'name': 'Africa 9JA Restaurant'},\n",
       " {'name': 'Afritopia - African Restaurant with Style'},\n",
       " {'name': 'Afsana'},\n",
       " {'name': 'After Taste'},\n",
       " {'name': 'Africa Best Place'},\n",
       " {'name': 'After Taste'},\n",
       " {'name': 'After Taste'},\n",
       " {'name': 'Agra'},\n",
       " {'name': 'Afters Original'},\n",
       " {'name': 'Agoon Pani Restaurant & Takeaway'},\n",
       " {'name': 'Agra'},\n",
       " {'name': 'Agra'},\n",
       " {'name': 'Agra'},\n",
       " {'name': 'Agra'},\n",
       " {'name': 'Agra'},\n",
       " {'name': 'Agra Spice World'},\n",
       " {'name': 'Agra Indian Restaurant & Takeaway'},\n",
       " {'name': 'Agra Tandoori'},\n",
       " {'name': 'Agra Tandoori Express'},\n",
       " {'name': 'Agra Tandoori & Balti'},\n",
       " {'name': 'Agrabad'},\n",
       " {'name': 'Ahads Bengal Balti'},\n",
       " {'name': 'Ahjee Bhajee'},\n",
       " {'name': 'Ahmed Indian Takeaway'},\n",
       " {'name': 'Ahjee Bhajee'},\n",
       " {'name': 'Ahmed Tandoori'},\n",
       " {'name': 'Ahmed Tandoori'},\n",
       " {'name': \"Ahmed's\"},\n",
       " {'name': 'Ahmeds Curry Cafe'},\n",
       " {'name': 'Ahmeds Masala Cafe'},\n",
       " {'name': \"Ahmed's Perfect Fried Chicken\"},\n",
       " {'name': 'Ahmeds Tandoori'},\n",
       " {'name': 'Ai Sushi'},\n",
       " {'name': 'Ai Sushi'},\n",
       " {'name': 'Ai Sushi'},\n",
       " {'name': 'Ai Sushi'},\n",
       " {'name': 'Ai Sushi'},\n",
       " {'name': 'Aimees'},\n",
       " {'name': 'Aimees'},\n",
       " {'name': 'Ai Wok'},\n",
       " {'name': 'Airlink Restaurant - Collection Only'},\n",
       " {'name': 'Aishah Tandoori'},\n",
       " {'name': \"Aisha's\"},\n",
       " {'name': 'AJ Pizza Town Limited'},\n",
       " {'name': 'AJ Takeaway'},\n",
       " {'name': 'Aisuru Sushi'},\n",
       " {'name': 'Ajantha Takeaway'},\n",
       " {'name': 'Ajanta Indian Cuisine'},\n",
       " {'name': 'AJs Multi Cuisine'},\n",
       " {'name': 'Aji - Collection Only'},\n",
       " {'name': 'Aisuru Sushi'},\n",
       " {'name': \"AJ's Chicken\"},\n",
       " {'name': 'Ajuba Indian Cuisine'},\n",
       " {'name': \"AJ's Pizza\"},\n",
       " {'name': \"AJ's Pizza\"},\n",
       " {'name': 'Ajwa Restaurant'},\n",
       " {'name': 'AK Chicken Food'},\n",
       " {'name': 'AK Grill'},\n",
       " {'name': 'AK Chicken Food'},\n",
       " {'name': 'AK Grill'},\n",
       " {'name': 'AK Chicken Food'},\n",
       " {'name': \"AJ's Pizza\"},\n",
       " {'name': 'Akash'},\n",
       " {'name': \"AJ's Traditional Fish & Chips\"},\n",
       " {'name': 'Akash'},\n",
       " {'name': 'Akash'},\n",
       " {'name': 'Akar Kebab'},\n",
       " {'name': 'Akash'},\n",
       " {'name': 'Akash'},\n",
       " {'name': 'Akash Balti'},\n",
       " {'name': 'Akash'},\n",
       " {'name': 'Akash'},\n",
       " {'name': 'Akash Accrington'},\n",
       " {'name': 'AJs Multi Cuisine'},\n",
       " {'name': 'Akash Balti'},\n",
       " {'name': 'Akash Balti'},\n",
       " {'name': \"AJ's Traditional Fish & Chips\"},\n",
       " {'name': 'Akash Tandoori'},\n",
       " {'name': 'Akash Restaurant'},\n",
       " {'name': 'Akash Restaurant'},\n",
       " {'name': 'Akash Balti Spice'},\n",
       " {'name': 'Akash Tandoori'},\n",
       " {'name': 'Akash Tandoori'},\n",
       " {'name': 'Akash Tandoori'},\n",
       " {'name': 'Akash Tandoori Restaurant'},\n",
       " {'name': 'Akash Tandoori Restaurant - Collection Only'},\n",
       " {'name': 'Akbar Tandoori Restaurant'},\n",
       " {'name': 'Akbar Balti'},\n",
       " {'name': 'Al Amin'},\n",
       " {'name': 'Akbar Balti'},\n",
       " {'name': 'Akbar Tandoori Restaurant'},\n",
       " {'name': \"AK'z Curry House\"},\n",
       " {'name': 'Akbars'},\n",
       " {'name': 'Al Amin'},\n",
       " {'name': 'Al Amin'},\n",
       " {'name': 'Al Amin'},\n",
       " {'name': 'Al Amin'},\n",
       " {'name': 'Akbars Lounge'},\n",
       " {'name': \"Aki's\"},\n",
       " {'name': 'Al Amin'},\n",
       " {'name': 'Al Amir'},\n",
       " {'name': 'Al Baraka'},\n",
       " {'name': 'Al Arez Express 1'},\n",
       " {'name': 'Al Bader Lebanese Restaurant'},\n",
       " {'name': 'Akbars Lounge'},\n",
       " {'name': 'Al Barakah'},\n",
       " {'name': 'Akwaahs Kitchen'},\n",
       " {'name': 'Al Burrito'},\n",
       " {'name': 'Al Capone'},\n",
       " {'name': 'Al Capone'},\n",
       " {'name': 'Al Capone'},\n",
       " {'name': 'Al Basha'},\n",
       " {'name': 'Al Capone Pizza'},\n",
       " {'name': 'Al Faisals Kebab House'},\n",
       " {'name': \"Al Capone's Pizza\"},\n",
       " {'name': 'Al Dixi Fried Chicken & Grill House'},\n",
       " {'name': 'Al Dixi Fried Chicken & Grill House'},\n",
       " {'name': 'Al Arez 2'},\n",
       " {'name': \"AK's Triple Diner\"},\n",
       " {'name': 'Al Frango'},\n",
       " {'name': 'Akwaahs Kitchen'},\n",
       " {'name': 'Akmol Tandoori'},\n",
       " {'name': 'Al Fresco Grill'},\n",
       " {'name': 'Al Hajees Desi Khana'},\n",
       " {'name': 'Al Imans Tandoori & Grill Indian'},\n",
       " {'name': 'Al Faisals Kebab House'},\n",
       " {'name': 'Al Hussain Grill & Chill'},\n",
       " {'name': 'Al Imans Tandoori & Grill Indian'},\n",
       " {'name': 'Al Fresco'},\n",
       " {'name': 'Al- Jumeirah'},\n",
       " {'name': 'Al Hussain Grill & Chill'},\n",
       " {'name': 'Al Jaber'},\n",
       " {'name': 'Al Mustafa BBQ'},\n",
       " {'name': 'Al- Jumeirah'},\n",
       " {'name': 'Al Kebab Hut'},\n",
       " {'name': 'Al- Jumeirah'},\n",
       " {'name': 'Al Karim'},\n",
       " {'name': 'Al Medina Delights - Collection Only'},\n",
       " {'name': 'Al Mustafa BBQ'},\n",
       " {'name': 'Al Fresco'},\n",
       " {'name': 'Al Kebab Hut'},\n",
       " {'name': 'Al Naseeb'},\n",
       " {'name': 'Al Naseeb'},\n",
       " {'name': \"AK's Triple Diner\"},\n",
       " {'name': 'Al Naseeb'},\n",
       " {'name': 'Al Pacino Pizza'},\n",
       " {'name': \"Al Pachino's Pizzeria\"},\n",
       " {'name': 'Al Forno'},\n",
       " {'name': 'Al Pacino'},\n",
       " {'name': 'Al Omara'},\n",
       " {'name': \"Al Pacino's\"},\n",
       " {'name': 'Al Patto Della Pizza'},\n",
       " {'name': 'Al Pizza'},\n",
       " {'name': 'AL QALAA'},\n",
       " {'name': 'AL QALAA'},\n",
       " {'name': 'Al Salam'},\n",
       " {'name': 'AL QALAA'},\n",
       " {'name': 'Al Souk Fine Lebanese Dining'},\n",
       " {'name': 'Al Sultan'},\n",
       " {'name': 'Al Souk Fine Lebanese Dining'},\n",
       " {'name': 'Al Taj'},\n",
       " {'name': 'Al Souk Fine Lebanese Dining'},\n",
       " {'name': 'Al Talia & Bombay Tandoori'},\n",
       " {'name': 'Al´s Fried Chicken'},\n",
       " {'name': 'Alachi'},\n",
       " {'name': 'Aladdin'},\n",
       " {'name': 'Aladdin'},\n",
       " {'name': 'Aladdin Hot 4 You'},\n",
       " {'name': 'Aladdin Pizza'},\n",
       " {'name': 'Aladdin Indian'},\n",
       " {'name': 'Aladdin Hot For You'},\n",
       " {'name': 'Aladdin Pizza'},\n",
       " {'name': 'Aladdin Pizza'},\n",
       " {'name': 'Aladdin Pizza'},\n",
       " {'name': 'Aladdin Pizza'},\n",
       " {'name': 'Aladdin Square Pan Pizza'},\n",
       " {'name': 'Aladdin Restaurant & Shisha Lounge'},\n",
       " {'name': 'Aladdin Tandoori'},\n",
       " {'name': 'Aladdins'},\n",
       " {'name': 'Alam Balti Takeaway'},\n",
       " {'name': 'Aladdins'},\n",
       " {'name': 'Alam Balti'},\n",
       " {'name': 'Al-Amin'},\n",
       " {'name': 'Aladdins Balti'},\n",
       " {'name': 'Aladdins'},\n",
       " {'name': 'Al-Amin'},\n",
       " {'name': 'Alamin Tandoori'},\n",
       " {'name': 'Alamin Tandoori'},\n",
       " {'name': 'Al-Amin'},\n",
       " {'name': 'Alams Lounge'},\n",
       " {'name': 'Alanya Steak & Kebab House'},\n",
       " {'name': 'Alamut'},\n",
       " {'name': 'Alaowerri Restaurant'},\n",
       " {'name': 'Alasia'},\n",
       " {'name': 'Alamut'},\n",
       " {'name': 'Alasia'},\n",
       " {'name': 'Alaska Fried Chicken'},\n",
       " {'name': 'Alaska Fried Chicken'},\n",
       " {'name': 'Alawia'},\n",
       " {'name': 'Alawia'},\n",
       " {'name': 'Al-Ayaan'},\n",
       " {'name': 'Alba Pizza'},\n",
       " {'name': 'Albaik'},\n",
       " {'name': 'Alasya Turkish Restaurant'},\n",
       " {'name': 'Albaba Restaurant'},\n",
       " {'name': 'Albany Spice'},\n",
       " {'name': 'Albany Gardens, Fish & Chips & Kebabs'},\n",
       " {'name': 'Albarakah'},\n",
       " {'name': 'Albatta'},\n",
       " {'name': 'Alborz'},\n",
       " {'name': \"Alberto's Pizza & Kebab House\"},\n",
       " {'name': \"Albert's Fish & Chips\"},\n",
       " {'name': 'Albions'},\n",
       " {'name': 'Albrighton Balti'},\n",
       " {'name': 'Albions'},\n",
       " {'name': 'Alcatraz Caffe Bournemouth'},\n",
       " {'name': 'Alchinos'},\n",
       " {'name': 'Alcatraz Caffe Poole'},\n",
       " {'name': 'Alcapone Pizza Shop'},\n",
       " {'name': 'Al-Dar'},\n",
       " {'name': 'Al-Dar'},\n",
       " {'name': 'Aldos Takeaway'},\n",
       " {'name': 'Al-Dar Lebanese Restaurant'},\n",
       " {'name': 'Al-Dar Lebanese Restaurant'},\n",
       " {'name': 'Aldeli'},\n",
       " {'name': 'Al-Des Kebab'},\n",
       " {'name': 'Ale & Spice'},\n",
       " {'name': 'Aldwych'},\n",
       " {'name': 'Alesias Pizzeria'},\n",
       " {'name': 'Alex Pizza'},\n",
       " {'name': 'Alexander Express'},\n",
       " {'name': 'Alex Plaice'},\n",
       " {'name': 'Alexander Express'},\n",
       " {'name': \"Alex's Kebab House\"},\n",
       " {'name': 'Alex Plaice'},\n",
       " {'name': 'Alfa Pizza & Chicken'},\n",
       " {'name': 'Al-Faisal'},\n",
       " {'name': 'Al-Faisal'},\n",
       " {'name': 'Al-Faisal Takeaway'},\n",
       " {'name': \"Alfeeno's\"},\n",
       " {'name': \"Alfie's Fast Food & Shakes\"},\n",
       " {'name': 'Alfies Cafe - Collection Only'},\n",
       " {'name': 'Al-Forno'},\n",
       " {'name': \"Alfie's Fast Food & Shakes\"},\n",
       " {'name': 'Alfresco'},\n",
       " {'name': 'Alfresco'},\n",
       " {'name': 'Ali Baba'},\n",
       " {'name': 'Al-Habib'},\n",
       " {'name': 'Alfresco'},\n",
       " {'name': 'Ali Baba'},\n",
       " {'name': 'Ali Baba'},\n",
       " {'name': 'Ali Baba'},\n",
       " {'name': 'Ali Baba'},\n",
       " {'name': 'Ali Baba'},\n",
       " {'name': 'Ali Baba'},\n",
       " {'name': 'Ali Baba Kebab House'},\n",
       " {'name': 'Ali Baba'},\n",
       " {'name': 'Ali Baba Kebab House'},\n",
       " {'name': 'Ali Baba, Pizza & Kebab House'},\n",
       " {'name': 'Ali Babas'},\n",
       " {'name': 'Ali Babas'},\n",
       " {'name': \"Ali Baba's\"},\n",
       " {'name': \"Ali Baba's\"},\n",
       " {'name': \"Ali Baba's\"},\n",
       " {'name': \"Ali Baba's\"},\n",
       " {'name': \"Ali Baba's\"},\n",
       " {'name': \"Ali Baba's\"},\n",
       " {'name': 'Ali Babas Balti'},\n",
       " {'name': \"Ali Baba's Kebab & Pizza\"},\n",
       " {'name': 'Ali Babas Pizza, Kebab & Curries'},\n",
       " {'name': 'Ali Geez'},\n",
       " {'name': 'Ali Geez Pizza & Kebab'},\n",
       " {'name': 'Ali Geez Pizza & Kebab'},\n",
       " {'name': 'Ali Shaan'},\n",
       " {'name': 'Ali Murad'},\n",
       " {'name': 'Alia Takeaway'},\n",
       " {'name': 'Ali Shan Tandoori'},\n",
       " {'name': 'Alibaba Charcoal Grill'},\n",
       " {'name': 'Ali´s Pizza Bar'},\n",
       " {'name': 'Alifs'},\n",
       " {'name': 'Alif Grill'},\n",
       " {'name': 'Alif Express'},\n",
       " {'name': 'Alifs'},\n",
       " {'name': \"Ali's\"},\n",
       " {'name': 'Alifs'},\n",
       " {'name': 'Alima Pizza Delight'},\n",
       " {'name': 'AL-IKHWAN PFC Grill & Restaurant'},\n",
       " {'name': 'Aligarh Indian Restaurant'},\n",
       " {'name': \"Ali's Alcove\"},\n",
       " {'name': \"Ali's & De-Niros\"},\n",
       " {'name': \"Ali's Balti House\"},\n",
       " {'name': 'Ali Mahal'},\n",
       " {'name': \"Ali's BBQ Hut\"},\n",
       " {'name': \"Ali's Charcoal Grill\"},\n",
       " {'name': 'Alis Fast Food'},\n",
       " {'name': \"Ali's Indian Cuisine\"},\n",
       " {'name': \"Ali's Fast Food\"},\n",
       " {'name': 'Alis Cuisine'},\n",
       " {'name': 'Alis Fish Bar'},\n",
       " {'name': \"Ali's Hole In the Wall\"},\n",
       " {'name': 'Alis Indian Takeaway'},\n",
       " {'name': \"Ali's Indian Restaurant and Takeaway\"},\n",
       " {'name': \"Ali's Indian Grill\"},\n",
       " {'name': 'Alis Kebab House'},\n",
       " {'name': 'Alis Kebab House'},\n",
       " {'name': \"Ali's Kebab House\"},\n",
       " {'name': \"Aldo's\"},\n",
       " {'name': \"Ali's Kebab House\"},\n",
       " {'name': \"Ali's Kebab & Pizza\"},\n",
       " {'name': 'Alis Kebab Shop'},\n",
       " {'name': 'Alis Kebab Shop'},\n",
       " {'name': 'Alfa Pizza & Chicken'},\n",
       " {'name': \"Ali's Kitchen\"},\n",
       " {'name': 'Ali G´s'},\n",
       " {'name': 'Alfresco'},\n",
       " {'name': \"Ali's BBQ Hut\"},\n",
       " {'name': \"Ali's Kitchen\"},\n",
       " {'name': \"Ali's Takeaway\"},\n",
       " {'name': \"Ali's Meze Bar Charcoal Grill\"},\n",
       " {'name': \"Ali's Takeaway\"},\n",
       " {'name': 'Alisha'},\n",
       " {'name': 'Alis Pizza & Kebab House'},\n",
       " {'name': \"Ali's Takeaway\"},\n",
       " {'name': 'Alishaan'},\n",
       " {'name': \"Ali's Turkish Kebab & Pizza\"},\n",
       " {'name': 'Alishaan'},\n",
       " {'name': 'Alisha'},\n",
       " {'name': \"Ali's Take-Away\"},\n",
       " {'name': 'Alisha Tandoori Restaurant & Takeaway'},\n",
       " {'name': 'Aliz Takeaway'},\n",
       " {'name': 'Alishan Tandoori'},\n",
       " {'name': 'Alishaan Takeaway'},\n",
       " {'name': 'Alizaks'},\n",
       " {'name': 'Al-Khyam'},\n",
       " {'name': 'Al-Khaleej'},\n",
       " {'name': 'All In One'},\n",
       " {'name': 'Al-Jamil Balti Takeaway'},\n",
       " {'name': 'All Beef Burger Co'},\n",
       " {'name': 'All In One Johnstone'},\n",
       " {'name': 'Al-Jamil Balti Restaurant'},\n",
       " {'name': 'All In One Pizza'},\n",
       " {'name': 'All In One Pizza'},\n",
       " {'name': 'Alkathiri Takeaway'},\n",
       " {'name': 'All In One Tandoori'},\n",
       " {'name': 'All In One Takeaway'},\n",
       " {'name': 'All Nations Dalston'},\n",
       " {'name': 'All Nations Dalston'},\n",
       " {'name': 'All Spice'},\n",
       " {'name': 'All Siam Thai Restaurant - Collection Only'},\n",
       " {'name': 'All Welcome'},\n",
       " {'name': 'Allens Fried Chicken'},\n",
       " {'name': 'Allens Fried Chicken'},\n",
       " {'name': 'Allens Fried Chicken'},\n",
       " {'name': 'Allens Fried Chicken'},\n",
       " {'name': 'Allens Fried Chicken'},\n",
       " {'name': 'Allens Fried Chicken'},\n",
       " {'name': 'Alishaan Cafe'},\n",
       " {'name': \"Allen's Fried Chicken\"},\n",
       " {'name': 'Allens Fried Chicken'},\n",
       " {'name': 'Allens Fried Chicken'},\n",
       " {'name': 'All Day Breakfast Bar'},\n",
       " {'name': 'Allens Fried Chicken BL2'},\n",
       " {'name': \"Allen's Fried Chicken\"},\n",
       " {'name': 'Allens Fried Chicken BL2'},\n",
       " {'name': 'Allens Fried Chicken BL4'},\n",
       " {'name': 'Allens Fried Chicken BL4'},\n",
       " {'name': 'Allenton Balti House'},\n",
       " {'name': 'Alleppey Restaurant'},\n",
       " {'name': 'Allens Fried Chicken M8'},\n",
       " {'name': 'Allo Pizza'},\n",
       " {'name': \"Ally's Curry Palace\"},\n",
       " {'name': 'Allspice Indian Takeaway'},\n",
       " {'name': 'Al-Madina Tandoori'},\n",
       " {'name': 'Al-Madina Tandoori'},\n",
       " {'name': 'Al-Malik'},\n",
       " {'name': 'Allenton Kebabs'},\n",
       " {'name': 'Almanzar Tandoori'},\n",
       " {'name': 'Al-minar Tandoori Takeaway'},\n",
       " {'name': 'Al-Mirage Restaurant'},\n",
       " {'name': 'Al-Mirage Restaurant'},\n",
       " {'name': 'Almoosh Snack'},\n",
       " {'name': 'Almond Simply Roasted - Collection Only'},\n",
       " {'name': 'Almondbury Balti House'},\n",
       " {'name': 'Alraj'},\n",
       " {'name': 'AL-RAYYAN'},\n",
       " {'name': 'Alpha Pizza & Chicken'},\n",
       " {'name': 'Al-Nasar Kebabish'},\n",
       " {'name': 'Alpha Pizza & Chicken'},\n",
       " {'name': \"Al's Fried Chicken\"},\n",
       " {'name': \"Al's Pizza\"},\n",
       " {'name': \"Al's Sandwich Bar\"},\n",
       " {'name': \"Al's Fried Chicken\"},\n",
       " {'name': 'AL-RAYYAN'},\n",
       " {'name': 'Al-Sulttan'},\n",
       " {'name': 'Al-Shaam'},\n",
       " {'name': 'Al-Sulttan'},\n",
       " {'name': 'Al-Sulttan'},\n",
       " {'name': \"Al's Tikka Grill\"},\n",
       " {'name': 'Alo Pizza'},\n",
       " {'name': 'Altafs Balti'},\n",
       " {'name': 'Alpha Pizza & Chicken'},\n",
       " {'name': 'Almoosh Snack'},\n",
       " {'name': 'Alraj'},\n",
       " {'name': \"Altaf's Indian Takeaway\"},\n",
       " {'name': 'Alpona'},\n",
       " {'name': 'Alumwell Chippy'},\n",
       " {'name': 'Alternative Takeaway'},\n",
       " {'name': 'Alumwell Chippy'},\n",
       " {'name': 'Alvaston Fast Food Curries Takeaway'},\n",
       " {'name': \"Alvin's Caffe\"},\n",
       " {'name': \"Alvaro's Fish & Chips, Pizza Pasta & Kebab\"},\n",
       " {'name': 'Alva Tandoori'},\n",
       " {'name': 'Amaanas Indian Takeaway'},\n",
       " {'name': 'Alternative Takeaway 2'},\n",
       " {'name': 'Alwaha Takeaway'},\n",
       " {'name': 'Alwaha Takeaway'},\n",
       " {'name': \"Alvin's Caffe\"},\n",
       " {'name': 'Alvaston Kebab'},\n",
       " {'name': 'Amaans Fast Foods Ltd'},\n",
       " {'name': \"Amaan's\"},\n",
       " {'name': \"Amaan's Grill House\"},\n",
       " {'name': 'Amaans Kitchen'},\n",
       " {'name': \"Amaan's Grill House\"},\n",
       " {'name': 'Amalfi'},\n",
       " {'name': 'Amaans Kitchen'},\n",
       " {'name': 'Amani Classic Punjabi Indian Cuisine'},\n",
       " {'name': 'Amal Lebanese and Moroccan Cuisine'},\n",
       " {'name': 'Amantola'},\n",
       " {'name': 'Aman Tandoori'},\n",
       " {'name': 'Aman Indian Restaurant'},\n",
       " {'name': 'Amal Lebanese and Moroccan Cuisine'},\n",
       " {'name': 'Amani'},\n",
       " {'name': 'Amanos Pizza'},\n",
       " {'name': 'Amala'},\n",
       " {'name': 'Amaans Kitchen'},\n",
       " {'name': 'Amaans Grill House & Takeaway'},\n",
       " {'name': \"Amarah's Curry & Grill\"},\n",
       " {'name': 'Amaretto Ristorante & Pizzeria'},\n",
       " {'name': 'Amaretto Ristorante Pizzeria'},\n",
       " {'name': 'Amaretto Ristorante Pizzeria'},\n",
       " {'name': 'Amaretto Ristorante & Pizzeria'},\n",
       " {'name': 'Amaretto Ristorante Pizzeria'},\n",
       " {'name': 'Amasi Cafe'},\n",
       " {'name': \"Ambal's Restaurant\"},\n",
       " {'name': 'Amasi Cafe'},\n",
       " {'name': 'Ambala'},\n",
       " {'name': 'Amazing'},\n",
       " {'name': 'Ambala'},\n",
       " {'name': 'Amaans Grill House & Takeaway'},\n",
       " {'name': 'Amaretto Ristorante Pizzeria'},\n",
       " {'name': 'Amber Cuisine'},\n",
       " {'name': 'Ambassador Restaurant'},\n",
       " {'name': 'Ambers Cafe'},\n",
       " {'name': 'Ambassador Restaurant'},\n",
       " {'name': 'Amber'},\n",
       " {'name': 'Ambers Cafe'},\n",
       " {'name': 'Ambers Stonebaked Pizzas'},\n",
       " {'name': 'Ambia'},\n",
       " {'name': 'Ambience Express'},\n",
       " {'name': 'Ambience Express'},\n",
       " {'name': 'Ambience Express'},\n",
       " {'name': 'Ambience Express'},\n",
       " {'name': 'Ambience Express'},\n",
       " {'name': 'Ambrosia Pizzeria'},\n",
       " {'name': 'Ambrosia Pizzeria'},\n",
       " {'name': 'Ameens'},\n",
       " {'name': 'Ambuja Indian Restraunt'},\n",
       " {'name': 'Amera Rani'},\n",
       " {'name': 'Amera Rani'},\n",
       " {'name': 'American BBQ and Burger Co.'},\n",
       " {'name': \"Ameera's\"},\n",
       " {'name': 'American BBQ and Burger Co.'},\n",
       " {'name': 'American Chicken & Pizza'},\n",
       " {'name': 'American Fried Chicken'},\n",
       " {'name': 'American Chicken Hut'},\n",
       " {'name': 'American Chicken Hut'},\n",
       " {'name': 'American Fried Chicken AFC'},\n",
       " {'name': 'American Hot Pizza'},\n",
       " {'name': 'American Handmade Burgers'},\n",
       " {'name': 'American Chicken Ranch'},\n",
       " {'name': 'American Hot Pizza'},\n",
       " {'name': 'American Favourite Chicken'},\n",
       " {'name': 'American Hut'},\n",
       " {'name': 'American Perfect Fried Chicken, Pizza & Kebab'},\n",
       " {'name': 'American Hot Pizza'},\n",
       " {'name': 'American Pizza'},\n",
       " {'name': 'Amasi Cafe'},\n",
       " {'name': 'American Perfect Fried Chicken, Pizza & Kebab'},\n",
       " {'name': 'American Perfect Fried Chicken, Pizza & Kebab'},\n",
       " {'name': 'American Pizza'},\n",
       " {'name': 'American Pizza'},\n",
       " {'name': 'American Pizza'},\n",
       " {'name': 'American Pizza House'},\n",
       " {'name': 'American Pizza House'},\n",
       " {'name': 'American Slice'},\n",
       " {'name': 'American Pizza House'},\n",
       " {'name': 'American Pizza'},\n",
       " {'name': 'American Slice'},\n",
       " {'name': 'Americanos Pizza'},\n",
       " {'name': 'American Pizza'},\n",
       " {'name': 'Amici Miei2go.'},\n",
       " {'name': 'Amici Pizzeria Ristorante'},\n",
       " {'name': 'Amici Italian & Doost Persian Grill'},\n",
       " {'name': 'Amici Pizzeria & Ristorante'},\n",
       " {'name': 'Amico'},\n",
       " {'name': 'Amico Piri Piri Chicken'},\n",
       " {'name': 'Amico Pizza'},\n",
       " {'name': 'Amico Piri Piri Chicken'},\n",
       " {'name': \"Amico's Pizza\"},\n",
       " {'name': 'Amigo Pizza'},\n",
       " {'name': 'Amici Miei2go.'},\n",
       " {'name': 'Amigo Pizza'},\n",
       " {'name': 'Amigo Pizza'},\n",
       " {'name': 'Amigo´s Pizza'},\n",
       " {'name': 'Amigo Uk Pizza & Kebab'},\n",
       " {'name': 'American Pizza Planet'},\n",
       " {'name': 'Amigos'},\n",
       " {'name': 'Amigos'},\n",
       " {'name': 'Amici Italian & Doost Persian Grill'},\n",
       " {'name': 'Amigos'},\n",
       " {'name': 'Amigos'},\n",
       " {'name': \"Amigo's\"},\n",
       " {'name': 'Amigos Food Hut'},\n",
       " {'name': 'Amigos Fried Chicken'},\n",
       " {'name': 'Amigos Fried Chicken'},\n",
       " {'name': 'Amigos Mexican Kitchen'},\n",
       " {'name': 'Amigos Fried Chicken'},\n",
       " {'name': 'Amigos Mexican Takeaway'},\n",
       " {'name': 'Amigos Mexican Takeaway'},\n",
       " {'name': 'Amigos Mexican Takeaway'},\n",
       " {'name': \"Amigo's Milkshake Bar\"},\n",
       " {'name': 'Amigos Mexican Takeaway'},\n",
       " {'name': \"Amigo's Milkshake Bar\"},\n",
       " {'name': 'Amigos Pizza'},\n",
       " {'name': 'Amigos Pizza'},\n",
       " {'name': 'Amigos Pizza'},\n",
       " {'name': 'Amigos Pizza'},\n",
       " {'name': 'Amigos Pizza'},\n",
       " {'name': 'Amesbury Spice'},\n",
       " {'name': 'Amin Finest Indian Takeaway'},\n",
       " {'name': 'Amici Miei 2 go'},\n",
       " {'name': 'Amina'},\n",
       " {'name': 'Amina Tandoori Restaurant'},\n",
       " {'name': 'Amina Tandoori Restaurant'},\n",
       " {'name': 'Aminah Tandoori'},\n",
       " {'name': \"Amigo's Pizza\"},\n",
       " {'name': 'Amin Finest Indian Takeaway'},\n",
       " {'name': \"Amin's\"},\n",
       " {'name': 'Aminah Tandoori'},\n",
       " {'name': \"Amina's Fine Indian Cuisine\"},\n",
       " {'name': \"Amina's Tandoori\"},\n",
       " {'name': 'Amir Balti House'},\n",
       " {'name': 'Amirah Balti'},\n",
       " {'name': \"Amirah's Kitchen\"},\n",
       " {'name': 'Amiras Fast Food'},\n",
       " {'name': 'AMK Peri Peri'},\n",
       " {'name': \"Amir's Restaurant\"},\n",
       " {'name': 'Amirul Indian & Thai Restaurant'},\n",
       " {'name': 'Ammaiyra Takeaway'},\n",
       " {'name': 'Ammanford Fish Bar'},\n",
       " {'name': 'Ammaiyra Takeaway'},\n",
       " {'name': \"Amma's Curry\"},\n",
       " {'name': \"Amma's Kitchen\"},\n",
       " {'name': \"Amma's Curry\"},\n",
       " {'name': \"Amma's Kitchen\"},\n",
       " {'name': 'Amora Pizza'},\n",
       " {'name': 'Amore Pizza'},\n",
       " {'name': 'Amore Pizza'},\n",
       " {'name': 'Amore Express'},\n",
       " {'name': 'Amore Pizza'},\n",
       " {'name': 'Amore Pizzeria'},\n",
       " {'name': 'Amran Grill & Pizza'},\n",
       " {'name': 'Amran Grill & Pizza'},\n",
       " {'name': 'Amras Sri Lankan & South Indian Restaurant (HMC)'},\n",
       " {'name': 'Amritsar'},\n",
       " {'name': 'Amrit Sweet Centre'},\n",
       " {'name': 'Amrit Sweet Centre'},\n",
       " {'name': 'Amritsar Tandoori Restaurant'},\n",
       " {'name': 'Americana Fried Chicken'},\n",
       " {'name': \"Amy's Pizza\"},\n",
       " {'name': \"Amro's Tandoori\"},\n",
       " {'name': \"Amro's Tandoori\"},\n",
       " {'name': 'An Noor'},\n",
       " {'name': \"Amy's Fish & Chips & Chinese Takeaway\"},\n",
       " {'name': 'Anaarkali Restaurant'},\n",
       " {'name': 'Anamika - Collection Only'},\n",
       " {'name': 'Anar Persian Kitchen'},\n",
       " {'name': 'Anar Persian Kitchen'},\n",
       " {'name': 'Anar Persian Kitchen'},\n",
       " {'name': 'Anastasia'},\n",
       " {'name': 'Anarkali'},\n",
       " {'name': 'Anarkali'},\n",
       " {'name': 'Anatolia Kebabs - Since 1993'},\n",
       " {'name': 'Anatolia Pizza & Kebab House'},\n",
       " {'name': 'Anatolia 2 Pizza Burger Kebab House'},\n",
       " {'name': 'Anatolia Kebabs - Since 1993'},\n",
       " {'name': 'Anatolian'},\n",
       " {'name': 'Anatolian'},\n",
       " {'name': \"Anaya's Kilbirnie\"},\n",
       " {'name': \"Anaya's Kilbirnie\"},\n",
       " {'name': 'Anaz Indian Takeaway'},\n",
       " {'name': 'Anchor Fish & Chips & Kebabs'},\n",
       " {'name': 'Andalouse Grill'},\n",
       " {'name': 'Anchor Sea Fry - Collection Only'},\n",
       " {'name': 'Andalucia Kebab House Charcoal Grill Restaurant'},\n",
       " {'name': 'Andover Tandoori - Collection Only'},\n",
       " {'name': 'Andover Peri Peri'},\n",
       " {'name': 'Andover Tandoori - Collection Only'},\n",
       " {'name': 'Andreas Takeaway'},\n",
       " {'name': 'Andreas Kebabs & Pizzeria'},\n",
       " {'name': \"Andrew's Kebab House\"},\n",
       " {'name': \"Andy's Kebab at the Snack Wagon\"},\n",
       " {'name': \"Andy's Takeaway\"},\n",
       " {'name': \"Andy's Takeaway\"},\n",
       " {'name': \"Andy's Plaice\"},\n",
       " {'name': 'Angel Curry Centre'},\n",
       " {'name': 'Andaz Indian Restaurant & Takeaway'},\n",
       " {'name': 'Angel Curry Centre'},\n",
       " {'name': 'Angeethi Indian Express'},\n",
       " {'name': 'Angel Express'},\n",
       " {'name': 'Angel Curry Centre'},\n",
       " {'name': 'Angel Express'},\n",
       " {'name': 'Angel Falls Indian Cuisine'},\n",
       " {'name': 'Angel Fried Chicken & Pizza'},\n",
       " {'name': \"Angelo's Pizzeria\"},\n",
       " {'name': 'Angel Kebab'},\n",
       " {'name': 'Angel Garden Chinese'},\n",
       " {'name': 'Angel Garden Chinese'},\n",
       " {'name': 'Angel Pizza'},\n",
       " {'name': \"Angelo's Pizzeria\"},\n",
       " {'name': 'Angel Lane Chippy'},\n",
       " {'name': 'Angelos Pizza'},\n",
       " {'name': 'Angel Kebab'},\n",
       " {'name': 'Angel Pizza'},\n",
       " {'name': \"Angelo's Pizzeria\"},\n",
       " {'name': \"Angelo's Takeaway\"},\n",
       " {'name': 'Angies Fish & Chips'},\n",
       " {'name': 'Angelos Takeaway'},\n",
       " {'name': 'Anglo Pizza'},\n",
       " {'name': 'Anglo Pizza'},\n",
       " {'name': 'Anglo Pizza'},\n",
       " {'name': 'Anglo Pizza'},\n",
       " {'name': 'Anglo Pizza'},\n",
       " {'name': 'Anglo Pizza'},\n",
       " {'name': 'Angies Fish & Chips'},\n",
       " {'name': 'Angra'},\n",
       " {'name': 'Angra'},\n",
       " {'name': 'Anglo Saxon'},\n",
       " {'name': 'Anh Dao'},\n",
       " {'name': 'Anica Indian Restaurant'},\n",
       " {'name': 'Anh Dao'},\n",
       " {'name': 'Anicia Catering'},\n",
       " {'name': 'Anicia Catering'},\n",
       " {'name': 'Anicia Catering'},\n",
       " {'name': 'Angon'},\n",
       " {'name': 'Anika'},\n",
       " {'name': 'Anika Balti Express'},\n",
       " {'name': 'Aniqa Balti Tandoori'},\n",
       " {'name': 'Anika Indian Takeaway'},\n",
       " {'name': \"Anima D'italia\"},\n",
       " {'name': 'Anikas Indian Takeaway'},\n",
       " {'name': 'Anikas Indian Takeaway'},\n",
       " {'name': 'Ani-Mag Heavenly Food'},\n",
       " {'name': 'Anica Indian Restaurant'},\n",
       " {'name': 'Angon'},\n",
       " {'name': 'Anisa Spice'},\n",
       " ...]"
      ]
     },
     "execution_count": 49,
     "metadata": {},
     "output_type": "execute_result"
    }
   ],
   "source": [
    "list(collection.find({}, {\"name\": 1, \"_id\": 0}))"
   ]
  },
  {
   "cell_type": "code",
   "execution_count": 51,
   "metadata": {},
   "outputs": [
    {
     "data": {
      "text/plain": [
       "{'_id': ObjectId('55f14312c7447c3da7051b26'),\n",
       " 'URL': 'http://www.just-eat.co.uk/restaurants-cn-chinese-cardiff/menu',\n",
       " 'address': '228 City Road',\n",
       " 'address line 2': 'Cardiff',\n",
       " 'name': '.CN Chinese',\n",
       " 'outcode': 'CF24',\n",
       " 'postcode': '3JH',\n",
       " 'rating': 5,\n",
       " 'type_of_food': 'Chinese'}"
      ]
     },
     "execution_count": 51,
     "metadata": {},
     "output_type": "execute_result"
    }
   ],
   "source": [
    "collection.find_one()"
   ]
  },
  {
   "cell_type": "markdown",
   "metadata": {},
   "source": [
    "## Other methods"
   ]
  },
  {
   "cell_type": "markdown",
   "metadata": {},
   "source": [
    "### `distinct`"
   ]
  },
  {
   "cell_type": "markdown",
   "metadata": {},
   "source": [
    "How many distinct values does a field have in the whole collection?"
   ]
  },
  {
   "cell_type": "code",
   "execution_count": 63,
   "metadata": {},
   "outputs": [
    {
     "data": {
      "text/plain": [
       "[1, 1.5, 2, 2.5, 3, 3.5, 4, 4.5, 5, 5.5, 6, 'Not yet rated']"
      ]
     },
     "execution_count": 63,
     "metadata": {},
     "output_type": "execute_result"
    }
   ],
   "source": [
    "collection.distinct(\"rating\")"
   ]
  },
  {
   "cell_type": "code",
   "execution_count": 64,
   "metadata": {},
   "outputs": [
    {
     "data": {
      "text/plain": [
       "['*NEW*',\n",
       " 'Afghan',\n",
       " 'African',\n",
       " 'American',\n",
       " 'Arabic',\n",
       " 'Azerbaijan',\n",
       " 'Bagels',\n",
       " 'Bangladeshi',\n",
       " 'Breakfast',\n",
       " 'Burgers',\n",
       " 'Cakes',\n",
       " 'Caribbean',\n",
       " 'Chicken',\n",
       " 'Chinese',\n",
       " 'Curry',\n",
       " 'Desserts',\n",
       " 'English',\n",
       " 'Ethiopian',\n",
       " 'Fish & Chips',\n",
       " 'Greek',\n",
       " 'Grill',\n",
       " 'Healthy',\n",
       " 'Ice Cream',\n",
       " 'Japanese',\n",
       " 'Kebab',\n",
       " 'Korean',\n",
       " 'Lebanese',\n",
       " 'Mediterranean',\n",
       " 'Mexican',\n",
       " 'Middle Eastern',\n",
       " 'Milkshakes',\n",
       " 'Moroccan',\n",
       " 'Nigerian',\n",
       " 'Pakistani',\n",
       " 'Pasta',\n",
       " 'Peri Peri',\n",
       " 'Persian',\n",
       " 'Pick n Mix',\n",
       " 'Pizza',\n",
       " 'Polish',\n",
       " 'Portuguese',\n",
       " 'Punjabi',\n",
       " 'Russian',\n",
       " 'Sandwiches',\n",
       " 'South Curry',\n",
       " 'Spanish',\n",
       " 'Sri-lankan',\n",
       " 'Sushi',\n",
       " 'Thai',\n",
       " 'Turkish',\n",
       " 'Vegetarian',\n",
       " 'Vietnamese']"
      ]
     },
     "execution_count": 64,
     "metadata": {},
     "output_type": "execute_result"
    }
   ],
   "source": [
    "collection.distinct(\"type_of_food\")"
   ]
  },
  {
   "cell_type": "markdown",
   "metadata": {},
   "source": [
    "### `count`"
   ]
  },
  {
   "cell_type": "markdown",
   "metadata": {},
   "source": [
    "`collection.count_documents(filter)`"
   ]
  },
  {
   "cell_type": "code",
   "execution_count": 68,
   "metadata": {},
   "outputs": [
    {
     "data": {
      "text/plain": [
       "2548"
      ]
     },
     "execution_count": 68,
     "metadata": {},
     "output_type": "execute_result"
    }
   ],
   "source": [
    "collection.count_documents({})"
   ]
  },
  {
   "cell_type": "code",
   "execution_count": 69,
   "metadata": {},
   "outputs": [
    {
     "data": {
      "text/plain": [
       "1107"
      ]
     },
     "execution_count": 69,
     "metadata": {},
     "output_type": "execute_result"
    }
   ],
   "source": [
    "collection.count_documents({\"rating\": 5})"
   ]
  },
  {
   "cell_type": "code",
   "execution_count": 70,
   "metadata": {},
   "outputs": [
    {
     "data": {
      "text/plain": [
       "16"
      ]
     },
     "execution_count": 70,
     "metadata": {},
     "output_type": "execute_result"
    }
   ],
   "source": [
    "collection.count_documents({\"rating\": 3})"
   ]
  },
  {
   "cell_type": "markdown",
   "metadata": {},
   "source": [
    "### `sort`"
   ]
  },
  {
   "cell_type": "markdown",
   "metadata": {},
   "source": [
    "We can `sort` the result of a `find`"
   ]
  },
  {
   "cell_type": "markdown",
   "metadata": {},
   "source": [
    "`1` means ascending"
   ]
  },
  {
   "cell_type": "markdown",
   "metadata": {},
   "source": [
    "`-1` means desscending"
   ]
  },
  {
   "cell_type": "code",
   "execution_count": 72,
   "metadata": {},
   "outputs": [
    {
     "data": {
      "text/plain": [
       "<pymongo.cursor.Cursor at 0x7efefa4ec910>"
      ]
     },
     "execution_count": 72,
     "metadata": {},
     "output_type": "execute_result"
    }
   ],
   "source": [
    "collection.find({\"type_of_food\": \"Chinese\"}, {\"name\": 1, \"rating\": 1}).sort(\"rating\", 1)"
   ]
  },
  {
   "cell_type": "code",
   "execution_count": 73,
   "metadata": {},
   "outputs": [
    {
     "data": {
      "text/plain": [
       "[{'_id': ObjectId('55f14312c7447c3da7051fff'),\n",
       "  'name': 'Asia Asia',\n",
       "  'rating': 3.5},\n",
       " {'_id': ObjectId('55f14313c7447c3da705219a'),\n",
       "  'name': 'Bamboo Garden Chinese Takeaway',\n",
       "  'rating': 3.5},\n",
       " {'_id': ObjectId('55f14312c7447c3da7051b80'),\n",
       "  'name': '88 Noodle Bar',\n",
       "  'rating': 4},\n",
       " {'_id': ObjectId('55f14312c7447c3da7051e33'), 'name': 'Amazing', 'rating': 4},\n",
       " {'_id': ObjectId('55f14312c7447c3da7051f80'), 'name': 'Arirang', 'rating': 4},\n",
       " {'_id': ObjectId('55f14312c7447c3da7051f81'), 'name': 'Arirang', 'rating': 4},\n",
       " {'_id': ObjectId('55f14312c7447c3da7051f82'), 'name': 'Arirang', 'rating': 4},\n",
       " {'_id': ObjectId('55f14312c7447c3da7051f85'), 'name': 'Arirang', 'rating': 4},\n",
       " {'_id': ObjectId('55f14312c7447c3da7051f83'), 'name': 'Arirang', 'rating': 4},\n",
       " {'_id': ObjectId('55f14312c7447c3da7051f84'), 'name': 'Arirang', 'rating': 4},\n",
       " {'_id': ObjectId('55f14313c7447c3da70522ba'),\n",
       "  'name': 'Beijing Chinese',\n",
       "  'rating': 4},\n",
       " {'_id': ObjectId('55f14313c7447c3da70522bb'),\n",
       "  'name': 'Beijing Chinese Restaurant',\n",
       "  'rating': 4},\n",
       " {'_id': ObjectId('55f14312c7447c3da7051b2f'),\n",
       "  'name': '1 2 3 Chinese',\n",
       "  'rating': 4.5},\n",
       " {'_id': ObjectId('55f14312c7447c3da7051b30'),\n",
       "  'name': '1 2 3 Chinese',\n",
       "  'rating': 4.5},\n",
       " {'_id': ObjectId('55f14312c7447c3da7051b58'),\n",
       "  'name': '333 Chinese Takeaway1',\n",
       "  'rating': 4.5},\n",
       " {'_id': ObjectId('55f14312c7447c3da7051b72'),\n",
       "  'name': '57 Orient Takeaway',\n",
       "  'rating': 4.5},\n",
       " {'_id': ObjectId('55f14312c7447c3da7051ba8'),\n",
       "  'name': 'A1 Wok',\n",
       "  'rating': 4.5},\n",
       " {'_id': ObjectId('55f14312c7447c3da7051c5c'), 'name': 'AF88', 'rating': 4.5},\n",
       " {'_id': ObjectId('55f14312c7447c3da7051dd3'),\n",
       "  'name': 'All Welcome',\n",
       "  'rating': 4.5},\n",
       " {'_id': ObjectId('55f14312c7447c3da7051e39'), 'name': 'Amber', 'rating': 4.5},\n",
       " {'_id': ObjectId('55f14312c7447c3da7051fc0'),\n",
       "  'name': 'Arsenal Chinese Food & Fish Bar',\n",
       "  'rating': 4.5},\n",
       " {'_id': ObjectId('55f14312c7447c3da7051fc1'),\n",
       "  'name': 'Arsenal Chinese Food & Fish Bar',\n",
       "  'rating': 4.5},\n",
       " {'_id': ObjectId('55f14312c7447c3da7051fca'),\n",
       "  'name': \"Arthur's China City\",\n",
       "  'rating': 4.5},\n",
       " {'_id': ObjectId('55f14312c7447c3da7052002'),\n",
       "  'name': 'Asia Chinese',\n",
       "  'rating': 4.5},\n",
       " {'_id': ObjectId('55f14312c7447c3da705200b'),\n",
       "  'name': 'Asia Wok',\n",
       "  'rating': 4.5},\n",
       " {'_id': ObjectId('55f14312c7447c3da7052037'),\n",
       "  'name': 'At Wan Da',\n",
       "  'rating': 4.5},\n",
       " {'_id': ObjectId('55f14312c7447c3da7052036'),\n",
       "  'name': 'At Wan Da',\n",
       "  'rating': 4.5},\n",
       " {'_id': ObjectId('55f14312c7447c3da7052060'),\n",
       "  'name': 'August Moon',\n",
       "  'rating': 4.5},\n",
       " {'_id': ObjectId('55f14313c7447c3da70520b9'),\n",
       "  'name': 'Ba Fu Chinese',\n",
       "  'rating': 4.5},\n",
       " {'_id': ObjectId('55f14313c7447c3da7052192'),\n",
       "  'name': 'Bamboo Garden',\n",
       "  'rating': 4.5},\n",
       " {'_id': ObjectId('55f14313c7447c3da705219d'),\n",
       "  'name': 'Bamboo House',\n",
       "  'rating': 4.5},\n",
       " {'_id': ObjectId('55f14313c7447c3da705219b'),\n",
       "  'name': 'Bamboo House',\n",
       "  'rating': 4.5},\n",
       " {'_id': ObjectId('55f14313c7447c3da705219c'),\n",
       "  'name': 'Bamboo House',\n",
       "  'rating': 4.5},\n",
       " {'_id': ObjectId('55f14313c7447c3da70521fc'),\n",
       "  'name': 'Barnsley House',\n",
       "  'rating': 4.5},\n",
       " {'_id': ObjectId('55f14313c7447c3da70522b7'),\n",
       "  'name': 'Beijing',\n",
       "  'rating': 4.5},\n",
       " {'_id': ObjectId('55f14313c7447c3da70522bf'),\n",
       "  'name': 'Beijing Dragon',\n",
       "  'rating': 4.5},\n",
       " {'_id': ObjectId('55f14313c7447c3da70522bc'),\n",
       "  'name': 'Beijing City',\n",
       "  'rating': 4.5},\n",
       " {'_id': ObjectId('55f14313c7447c3da70522c7'),\n",
       "  'name': 'Beijing House',\n",
       "  'rating': 4.5},\n",
       " {'_id': ObjectId('55f14313c7447c3da70522c8'),\n",
       "  'name': 'Beijing House',\n",
       "  'rating': 4.5},\n",
       " {'_id': ObjectId('55f14313c7447c3da70522c9'),\n",
       "  'name': 'Beijing House',\n",
       "  'rating': 4.5},\n",
       " {'_id': ObjectId('55f14313c7447c3da70522ca'),\n",
       "  'name': 'Beijing House',\n",
       "  'rating': 4.5},\n",
       " {'_id': ObjectId('55f14313c7447c3da70522cc'),\n",
       "  'name': 'Beijing Inn',\n",
       "  'rating': 4.5},\n",
       " {'_id': ObjectId('55f14313c7447c3da70522cd'),\n",
       "  'name': 'Beijing Inn',\n",
       "  'rating': 4.5},\n",
       " {'_id': ObjectId('55f14313c7447c3da70522ce'),\n",
       "  'name': 'Beijing Inn',\n",
       "  'rating': 4.5},\n",
       " {'_id': ObjectId('55f14313c7447c3da70522da'),\n",
       "  'name': 'Beijing Oriental Express',\n",
       "  'rating': 4.5},\n",
       " {'_id': ObjectId('55f14313c7447c3da70522db'),\n",
       "  'name': 'Beijing Palace Restaurant',\n",
       "  'rating': 4.5},\n",
       " {'_id': ObjectId('55f14313c7447c3da70522dc'),\n",
       "  'name': 'Beijing Restaurant',\n",
       "  'rating': 4.5},\n",
       " {'_id': ObjectId('55f14313c7447c3da70522fe'),\n",
       "  'name': 'Bella Chinese',\n",
       "  'rating': 4.5},\n",
       " {'_id': ObjectId('55f14313c7447c3da7052336'),\n",
       "  'name': 'Belmont Welcome Chinese',\n",
       "  'rating': 4.5},\n",
       " {'_id': ObjectId('55f14313c7447c3da70524a2'),\n",
       "  'name': 'Big Wok',\n",
       "  'rating': 4.5},\n",
       " {'_id': ObjectId('55f14313c7447c3da70524cf'),\n",
       "  'name': 'Bing Chinese Takeaway',\n",
       "  'rating': 4.5},\n",
       " {'_id': ObjectId('55f14313c7447c3da70524ce'),\n",
       "  'name': 'Bing Chinese Takeaway',\n",
       "  'rating': 4.5},\n",
       " {'_id': ObjectId('55f14313c7447c3da70524f3'),\n",
       "  'name': 'Black Bull',\n",
       "  'rating': 4.5},\n",
       " {'_id': ObjectId('55f14312c7447c3da7051b26'),\n",
       "  'name': '.CN Chinese',\n",
       "  'rating': 5},\n",
       " {'_id': ObjectId('55f14312c7447c3da7051b31'),\n",
       "  'name': '100 Degrees Chinese Restaurant',\n",
       "  'rating': 5},\n",
       " {'_id': ObjectId('55f14312c7447c3da7051b32'),\n",
       "  'name': '100 Menu',\n",
       "  'rating': 5},\n",
       " {'_id': ObjectId('55f14312c7447c3da7051b39'), 'name': '1A Wok', 'rating': 5},\n",
       " {'_id': ObjectId('55f14312c7447c3da7051b56'),\n",
       "  'name': '333 Chinese Takeaway',\n",
       "  'rating': 5},\n",
       " {'_id': ObjectId('55f14312c7447c3da7051b57'),\n",
       "  'name': '333 Chinese Takeaway',\n",
       "  'rating': 5},\n",
       " {'_id': ObjectId('55f14312c7447c3da7051b55'),\n",
       "  'name': '328 Chinese Online',\n",
       "  'rating': 5},\n",
       " {'_id': ObjectId('55f14312c7447c3da7051b64'),\n",
       "  'name': '5 Star Chinese',\n",
       "  'rating': 5},\n",
       " {'_id': ObjectId('55f14312c7447c3da7051b63'),\n",
       "  'name': '5 Star Chinese',\n",
       "  'rating': 5},\n",
       " {'_id': ObjectId('55f14312c7447c3da7051b7f'),\n",
       "  'name': '88 Chinese',\n",
       "  'rating': 5},\n",
       " {'_id': ObjectId('55f14312c7447c3da7051b82'),\n",
       "  'name': '888 Triple Eight',\n",
       "  'rating': 5},\n",
       " {'_id': ObjectId('55f14312c7447c3da7051b85'),\n",
       "  'name': '9th Kitchen',\n",
       "  'rating': 5},\n",
       " {'_id': ObjectId('55f14312c7447c3da7051b86'),\n",
       "  'name': 'A & G Kitchen',\n",
       "  'rating': 5},\n",
       " {'_id': ObjectId('55f14312c7447c3da7051b81'),\n",
       "  'name': '888 Chinese Takeaway',\n",
       "  'rating': 5},\n",
       " {'_id': ObjectId('55f14312c7447c3da7051be5'),\n",
       "  'name': 'Aberavon Packed Meals',\n",
       "  'rating': 5},\n",
       " {'_id': ObjectId('55f14312c7447c3da7051be8'),\n",
       "  'name': 'Aberdeen Shanghai Takeaway',\n",
       "  'rating': 5},\n",
       " {'_id': ObjectId('55f14312c7447c3da7051c0e'), 'name': \"Ackie's\", 'rating': 5},\n",
       " {'_id': ObjectId('55f14312c7447c3da7051c0c'),\n",
       "  'name': 'Acha Halal Chinese Cuisine',\n",
       "  'rating': 5},\n",
       " {'_id': ObjectId('55f14312c7447c3da7051c78'),\n",
       "  'name': 'After Taste',\n",
       "  'rating': 5},\n",
       " {'_id': ObjectId('55f14312c7447c3da7051c79'),\n",
       "  'name': 'After Taste',\n",
       "  'rating': 5},\n",
       " {'_id': ObjectId('55f14312c7447c3da7051c7a'),\n",
       "  'name': 'After Taste',\n",
       "  'rating': 5},\n",
       " {'_id': ObjectId('55f14312c7447c3da7051c99'), 'name': 'Ai Wok', 'rating': 5},\n",
       " {'_id': ObjectId('55f14312c7447c3da7051e3a'),\n",
       "  'name': 'Amber Cuisine',\n",
       "  'rating': 5},\n",
       " {'_id': ObjectId('55f14312c7447c3da7051eb9'),\n",
       "  'name': \"Amy's Fish & Chips & Chinese Takeaway\",\n",
       "  'rating': 5},\n",
       " {'_id': ObjectId('55f14312c7447c3da7051ee1'),\n",
       "  'name': 'Angel Express',\n",
       "  'rating': 5},\n",
       " {'_id': ObjectId('55f14312c7447c3da7051ee0'),\n",
       "  'name': 'Angel Express',\n",
       "  'rating': 5},\n",
       " {'_id': ObjectId('55f14312c7447c3da7051ee5'),\n",
       "  'name': 'Angel Garden Chinese',\n",
       "  'rating': 5},\n",
       " {'_id': ObjectId('55f14312c7447c3da7051ee4'),\n",
       "  'name': 'Angel Garden Chinese',\n",
       "  'rating': 5},\n",
       " {'_id': ObjectId('55f14312c7447c3da7051f23'),\n",
       "  'name': \"Anna's Chinese Takeaway\",\n",
       "  'rating': 5},\n",
       " {'_id': ObjectId('55f14312c7447c3da7051f68'),\n",
       "  'name': 'Arch Chinese',\n",
       "  'rating': 5},\n",
       " {'_id': ObjectId('55f14312c7447c3da7051f67'),\n",
       "  'name': 'Arch Chinese',\n",
       "  'rating': 5},\n",
       " {'_id': ObjectId('55f14312c7447c3da7051f7d'),\n",
       "  'name': 'Ariel Open Kitchen',\n",
       "  'rating': 5},\n",
       " {'_id': ObjectId('55f14312c7447c3da7051fa2'),\n",
       "  'name': 'Aroma Chinese',\n",
       "  'rating': 5},\n",
       " {'_id': ObjectId('55f14312c7447c3da7051fb7'), 'name': 'Aromas', 'rating': 5},\n",
       " {'_id': ObjectId('55f14312c7447c3da7052004'),\n",
       "  'name': 'Asia Garden',\n",
       "  'rating': 5},\n",
       " {'_id': ObjectId('55f14312c7447c3da7052001'),\n",
       "  'name': 'Asia Channel',\n",
       "  'rating': 5},\n",
       " {'_id': ObjectId('55f14312c7447c3da7052003'),\n",
       "  'name': 'Asia Delight',\n",
       "  'rating': 5},\n",
       " {'_id': ObjectId('55f14312c7447c3da7052038'), 'name': 'At28', 'rating': 5},\n",
       " {'_id': ObjectId('55f14313c7447c3da7052066'),\n",
       "  'name': \"Auntie May's Chinese Takeaway\",\n",
       "  'rating': 5},\n",
       " {'_id': ObjectId('55f14313c7447c3da7052065'),\n",
       "  'name': \"Auntie May's Chinese Takeaway\",\n",
       "  'rating': 5},\n",
       " {'_id': ObjectId('55f14313c7447c3da7052191'),\n",
       "  'name': 'Bamboo Express',\n",
       "  'rating': 5},\n",
       " {'_id': ObjectId('55f14313c7447c3da7052190'),\n",
       "  'name': 'Bamboo Chinese Takeaway',\n",
       "  'rating': 5},\n",
       " {'_id': ObjectId('55f14313c7447c3da7052194'),\n",
       "  'name': 'Bamboo Garden',\n",
       "  'rating': 5},\n",
       " {'_id': ObjectId('55f14313c7447c3da7052193'),\n",
       "  'name': 'Bamboo Garden',\n",
       "  'rating': 5},\n",
       " {'_id': ObjectId('55f14313c7447c3da7052196'),\n",
       "  'name': 'Bamboo Garden',\n",
       "  'rating': 5},\n",
       " {'_id': ObjectId('55f14313c7447c3da7052195'),\n",
       "  'name': 'Bamboo Garden',\n",
       "  'rating': 5},\n",
       " {'_id': ObjectId('55f14313c7447c3da7052197'),\n",
       "  'name': 'Bamboo Garden',\n",
       "  'rating': 5},\n",
       " {'_id': ObjectId('55f14313c7447c3da7052198'),\n",
       "  'name': 'Bamboo Garden',\n",
       "  'rating': 5},\n",
       " {'_id': ObjectId('55f14313c7447c3da70521a4'),\n",
       "  'name': 'Banana Leaf',\n",
       "  'rating': 5},\n",
       " {'_id': ObjectId('55f14313c7447c3da70521cf'),\n",
       "  'name': 'Bao Bao Chinese Takeaway',\n",
       "  'rating': 5},\n",
       " {'_id': ObjectId('55f14313c7447c3da7052201'),\n",
       "  'name': 'Barrow Takeaway',\n",
       "  'rating': 5},\n",
       " {'_id': ObjectId('55f14313c7447c3da7052209'),\n",
       "  'name': 'Barton Oriental- Eccles',\n",
       "  'rating': 5},\n",
       " {'_id': ObjectId('55f14313c7447c3da70522a6'),\n",
       "  'name': 'Bedford Chinese Kitchen',\n",
       "  'rating': 5},\n",
       " {'_id': ObjectId('55f14313c7447c3da70522b6'),\n",
       "  'name': 'Beijing Chef',\n",
       "  'rating': 5},\n",
       " {'_id': ObjectId('55f14313c7447c3da70522b5'),\n",
       "  'name': 'Bei Jing',\n",
       "  'rating': 5},\n",
       " {'_id': ObjectId('55f14313c7447c3da70522b8'),\n",
       "  'name': 'Beijing Chef',\n",
       "  'rating': 5},\n",
       " {'_id': ObjectId('55f14313c7447c3da70522b9'),\n",
       "  'name': 'Beijing Chef Chinese Takeaway',\n",
       "  'rating': 5},\n",
       " {'_id': ObjectId('55f14313c7447c3da70522bd'),\n",
       "  'name': 'Beijing City',\n",
       "  'rating': 5},\n",
       " {'_id': ObjectId('55f14313c7447c3da70522c0'),\n",
       "  'name': 'Beijing Express',\n",
       "  'rating': 5},\n",
       " {'_id': ObjectId('55f14313c7447c3da70522c3'),\n",
       "  'name': 'Beijing Express',\n",
       "  'rating': 5},\n",
       " {'_id': ObjectId('55f14313c7447c3da70522c6'),\n",
       "  'name': 'Beijing Garden',\n",
       "  'rating': 5},\n",
       " {'_id': ObjectId('55f14313c7447c3da70522c1'),\n",
       "  'name': 'Beijing Express',\n",
       "  'rating': 5},\n",
       " {'_id': ObjectId('55f14313c7447c3da70522c2'),\n",
       "  'name': 'Beijing Express',\n",
       "  'rating': 5},\n",
       " {'_id': ObjectId('55f14313c7447c3da70522c4'),\n",
       "  'name': 'Beijing Express',\n",
       "  'rating': 5},\n",
       " {'_id': ObjectId('55f14313c7447c3da70522c5'),\n",
       "  'name': 'Beijing Garden',\n",
       "  'rating': 5},\n",
       " {'_id': ObjectId('55f14313c7447c3da70522cb'),\n",
       "  'name': 'Beijing House',\n",
       "  'rating': 5},\n",
       " {'_id': ObjectId('55f14313c7447c3da70522d1'),\n",
       "  'name': 'Beijing Meng Zan',\n",
       "  'rating': 5},\n",
       " {'_id': ObjectId('55f14313c7447c3da70522cf'),\n",
       "  'name': 'Beijing Kirkstall',\n",
       "  'rating': 5},\n",
       " {'_id': ObjectId('55f14313c7447c3da70522d0'),\n",
       "  'name': 'Beijing Meng Zan',\n",
       "  'rating': 5},\n",
       " {'_id': ObjectId('55f14313c7447c3da70522d2'),\n",
       "  'name': 'Beijing Noodles',\n",
       "  'rating': 5},\n",
       " {'_id': ObjectId('55f14313c7447c3da70522d9'),\n",
       "  'name': 'Beijing Noodles',\n",
       "  'rating': 5},\n",
       " {'_id': ObjectId('55f14313c7447c3da70522d3'),\n",
       "  'name': 'Beijing Noodles',\n",
       "  'rating': 5},\n",
       " {'_id': ObjectId('55f14313c7447c3da70522d5'),\n",
       "  'name': 'Beijing Noodles',\n",
       "  'rating': 5},\n",
       " {'_id': ObjectId('55f14313c7447c3da70522d8'),\n",
       "  'name': 'Beijing Noodles',\n",
       "  'rating': 5},\n",
       " {'_id': ObjectId('55f14313c7447c3da70522d4'),\n",
       "  'name': 'Beijing Noodles',\n",
       "  'rating': 5},\n",
       " {'_id': ObjectId('55f14313c7447c3da70522d7'),\n",
       "  'name': 'Beijing Noodles',\n",
       "  'rating': 5},\n",
       " {'_id': ObjectId('55f14313c7447c3da70522d6'),\n",
       "  'name': 'Beijing Noodles',\n",
       "  'rating': 5},\n",
       " {'_id': ObjectId('55f14313c7447c3da70522dd'),\n",
       "  'name': 'Beijing Takeaway',\n",
       "  'rating': 5},\n",
       " {'_id': ObjectId('55f14313c7447c3da705239f'), 'name': 'Bennys', 'rating': 5},\n",
       " {'_id': ObjectId('55f14313c7447c3da70523a0'), 'name': 'Bennys', 'rating': 5},\n",
       " {'_id': ObjectId('55f14313c7447c3da70523a3'), 'name': \"Benny's\", 'rating': 5},\n",
       " {'_id': ObjectId('55f14313c7447c3da70523ad'), 'name': 'Bento', 'rating': 5},\n",
       " {'_id': ObjectId('55f14313c7447c3da70523b2'),\n",
       "  'name': 'Bento King (Hulme)',\n",
       "  'rating': 5},\n",
       " {'_id': ObjectId('55f14313c7447c3da70523ca'),\n",
       "  'name': 'Best Choices Chinese Takeaway',\n",
       "  'rating': 5},\n",
       " {'_id': ObjectId('55f14313c7447c3da70523cb'),\n",
       "  'name': 'Best Choices Chinese Takeaway',\n",
       "  'rating': 5},\n",
       " {'_id': ObjectId('55f14313c7447c3da70523cc'),\n",
       "  'name': 'Best Choices Chinese Takeaway',\n",
       "  'rating': 5},\n",
       " {'_id': ObjectId('55f14313c7447c3da70523cd'),\n",
       "  'name': 'Best Chopsticks',\n",
       "  'rating': 5},\n",
       " {'_id': ObjectId('55f14313c7447c3da70523d1'),\n",
       "  'name': 'Best Food',\n",
       "  'rating': 5},\n",
       " {'_id': ObjectId('55f14313c7447c3da70524be'),\n",
       "  'name': \"Bill's Wok Inn\",\n",
       "  'rating': 5},\n",
       " {'_id': ObjectId('55f14313c7447c3da70524fa'),\n",
       "  'name': 'Black Pandas',\n",
       "  'rating': 5},\n",
       " {'_id': ObjectId('55f14313c7447c3da7052514'),\n",
       "  'name': 'Blue Bell',\n",
       "  'rating': 5},\n",
       " {'_id': ObjectId('55f14312c7447c3da7051b35'),\n",
       "  'name': '113 Fish Bar',\n",
       "  'rating': 5.5},\n",
       " {'_id': ObjectId('55f14312c7447c3da7051b38'),\n",
       "  'name': '168 Chinese & Cantonese Takeaway',\n",
       "  'rating': 5.5},\n",
       " {'_id': ObjectId('55f14312c7447c3da7051b59'),\n",
       "  'name': '350 Wok',\n",
       "  'rating': 5.5},\n",
       " {'_id': ObjectId('55f14312c7447c3da7051b5a'),\n",
       "  'name': '350 Wok',\n",
       "  'rating': 5.5},\n",
       " {'_id': ObjectId('55f14312c7447c3da7051b5b'),\n",
       "  'name': '350 Wok',\n",
       "  'rating': 5.5},\n",
       " {'_id': ObjectId('55f14312c7447c3da7051b5d'),\n",
       "  'name': '4 in Love',\n",
       "  'rating': 5.5},\n",
       " {'_id': ObjectId('55f14312c7447c3da7051b75'),\n",
       "  'name': '7 & One',\n",
       "  'rating': 5.5},\n",
       " {'_id': ObjectId('55f14312c7447c3da7051eda'),\n",
       "  'name': \"Andy's Takeaway\",\n",
       "  'rating': 5.5},\n",
       " {'_id': ObjectId('55f14312c7447c3da7051f12'), 'name': 'Anise', 'rating': 5.5},\n",
       " {'_id': ObjectId('55f14312c7447c3da7051f6d'),\n",
       "  'name': 'Arden Oak',\n",
       "  'rating': 5.5},\n",
       " {'_id': ObjectId('55f14312c7447c3da7051fa5'),\n",
       "  'name': 'Aroma House',\n",
       "  'rating': 5.5},\n",
       " {'_id': ObjectId('55f14312c7447c3da7052000'),\n",
       "  'name': 'Asia Bagus',\n",
       "  'rating': 5.5},\n",
       " {'_id': ObjectId('55f14312c7447c3da705200f'),\n",
       "  'name': 'Asian Fusion',\n",
       "  'rating': 5.5},\n",
       " {'_id': ObjectId('55f14312c7447c3da7052017'),\n",
       "  'name': 'Asian Station',\n",
       "  'rating': 5.5},\n",
       " {'_id': ObjectId('55f14312c7447c3da7052012'),\n",
       "  'name': 'Asian Kitchen',\n",
       "  'rating': 5.5},\n",
       " {'_id': ObjectId('55f14313c7447c3da7052199'),\n",
       "  'name': 'Bamboo Garden',\n",
       "  'rating': 5.5},\n",
       " {'_id': ObjectId('55f14313c7447c3da70521a0'), 'name': 'Bambu', 'rating': 5.5},\n",
       " {'_id': ObjectId('55f14313c7447c3da70521a1'), 'name': 'Bambu', 'rating': 5.5},\n",
       " {'_id': ObjectId('55f14313c7447c3da70522be'),\n",
       "  'name': 'Beijing Cuisine',\n",
       "  'rating': 5.5},\n",
       " {'_id': ObjectId('55f14313c7447c3da7052301'),\n",
       "  'name': 'Bella House',\n",
       "  'rating': 5.5},\n",
       " {'_id': ObjectId('55f14313c7447c3da70523b3'),\n",
       "  'name': 'Bento King (Leeds)',\n",
       "  'rating': 5.5},\n",
       " {'_id': ObjectId('55f14313c7447c3da70523b4'),\n",
       "  'name': 'Bento King (Withington)',\n",
       "  'rating': 5.5},\n",
       " {'_id': ObjectId('55f14313c7447c3da70523b5'),\n",
       "  'name': 'Bento King (Withington)',\n",
       "  'rating': 5.5},\n",
       " {'_id': ObjectId('55f14313c7447c3da7052474'),\n",
       "  'name': 'Big China',\n",
       "  'rating': 5.5},\n",
       " {'_id': ObjectId('55f14313c7447c3da70524f7'),\n",
       "  'name': 'Black Elephant',\n",
       "  'rating': 5.5},\n",
       " {'_id': ObjectId('55f14313c7447c3da70524f6'),\n",
       "  'name': 'Black Elephant',\n",
       "  'rating': 5.5},\n",
       " {'_id': ObjectId('55f14313c7447c3da705250b'),\n",
       "  'name': 'Blessing',\n",
       "  'rating': 5.5},\n",
       " {'_id': ObjectId('55f14313c7447c3da705250a'),\n",
       "  'name': 'Blessing',\n",
       "  'rating': 5.5},\n",
       " {'_id': ObjectId('55f14313c7447c3da705250c'),\n",
       "  'name': 'Blessing',\n",
       "  'rating': 5.5},\n",
       " {'_id': ObjectId('55f14313c7447c3da7052510'),\n",
       "  'name': 'Blossom House',\n",
       "  'rating': 5.5}]"
      ]
     },
     "execution_count": 73,
     "metadata": {},
     "output_type": "execute_result"
    }
   ],
   "source": [
    "list(_)"
   ]
  },
  {
   "cell_type": "code",
   "execution_count": 76,
   "metadata": {},
   "outputs": [
    {
     "data": {
      "text/plain": [
       "<pymongo.cursor.Cursor at 0x7efefa4b3a30>"
      ]
     },
     "execution_count": 76,
     "metadata": {},
     "output_type": "execute_result"
    }
   ],
   "source": [
    "collection.find({\"type_of_food\": \"Chinese\"}, {\"type_of_food\": 1, \"name\": 1, \"rating\": 1}).sort(\"rating\", -1)"
   ]
  },
  {
   "cell_type": "code",
   "execution_count": 77,
   "metadata": {},
   "outputs": [
    {
     "data": {
      "text/plain": [
       "[{'_id': ObjectId('55f14312c7447c3da7051b35'),\n",
       "  'name': '113 Fish Bar',\n",
       "  'rating': 5.5,\n",
       "  'type_of_food': 'Chinese'},\n",
       " {'_id': ObjectId('55f14312c7447c3da7051b38'),\n",
       "  'name': '168 Chinese & Cantonese Takeaway',\n",
       "  'rating': 5.5,\n",
       "  'type_of_food': 'Chinese'},\n",
       " {'_id': ObjectId('55f14312c7447c3da7051b59'),\n",
       "  'name': '350 Wok',\n",
       "  'rating': 5.5,\n",
       "  'type_of_food': 'Chinese'},\n",
       " {'_id': ObjectId('55f14312c7447c3da7051b5a'),\n",
       "  'name': '350 Wok',\n",
       "  'rating': 5.5,\n",
       "  'type_of_food': 'Chinese'},\n",
       " {'_id': ObjectId('55f14312c7447c3da7051b5b'),\n",
       "  'name': '350 Wok',\n",
       "  'rating': 5.5,\n",
       "  'type_of_food': 'Chinese'},\n",
       " {'_id': ObjectId('55f14312c7447c3da7051b5d'),\n",
       "  'name': '4 in Love',\n",
       "  'rating': 5.5,\n",
       "  'type_of_food': 'Chinese'},\n",
       " {'_id': ObjectId('55f14312c7447c3da7051b75'),\n",
       "  'name': '7 & One',\n",
       "  'rating': 5.5,\n",
       "  'type_of_food': 'Chinese'},\n",
       " {'_id': ObjectId('55f14312c7447c3da7051eda'),\n",
       "  'name': \"Andy's Takeaway\",\n",
       "  'rating': 5.5,\n",
       "  'type_of_food': 'Chinese'},\n",
       " {'_id': ObjectId('55f14312c7447c3da7051f12'),\n",
       "  'name': 'Anise',\n",
       "  'rating': 5.5,\n",
       "  'type_of_food': 'Chinese'},\n",
       " {'_id': ObjectId('55f14312c7447c3da7051f6d'),\n",
       "  'name': 'Arden Oak',\n",
       "  'rating': 5.5,\n",
       "  'type_of_food': 'Chinese'},\n",
       " {'_id': ObjectId('55f14312c7447c3da7051fa5'),\n",
       "  'name': 'Aroma House',\n",
       "  'rating': 5.5,\n",
       "  'type_of_food': 'Chinese'},\n",
       " {'_id': ObjectId('55f14312c7447c3da7052000'),\n",
       "  'name': 'Asia Bagus',\n",
       "  'rating': 5.5,\n",
       "  'type_of_food': 'Chinese'},\n",
       " {'_id': ObjectId('55f14312c7447c3da705200f'),\n",
       "  'name': 'Asian Fusion',\n",
       "  'rating': 5.5,\n",
       "  'type_of_food': 'Chinese'},\n",
       " {'_id': ObjectId('55f14312c7447c3da7052017'),\n",
       "  'name': 'Asian Station',\n",
       "  'rating': 5.5,\n",
       "  'type_of_food': 'Chinese'},\n",
       " {'_id': ObjectId('55f14312c7447c3da7052012'),\n",
       "  'name': 'Asian Kitchen',\n",
       "  'rating': 5.5,\n",
       "  'type_of_food': 'Chinese'},\n",
       " {'_id': ObjectId('55f14313c7447c3da7052199'),\n",
       "  'name': 'Bamboo Garden',\n",
       "  'rating': 5.5,\n",
       "  'type_of_food': 'Chinese'},\n",
       " {'_id': ObjectId('55f14313c7447c3da70521a0'),\n",
       "  'name': 'Bambu',\n",
       "  'rating': 5.5,\n",
       "  'type_of_food': 'Chinese'},\n",
       " {'_id': ObjectId('55f14313c7447c3da70521a1'),\n",
       "  'name': 'Bambu',\n",
       "  'rating': 5.5,\n",
       "  'type_of_food': 'Chinese'},\n",
       " {'_id': ObjectId('55f14313c7447c3da70522be'),\n",
       "  'name': 'Beijing Cuisine',\n",
       "  'rating': 5.5,\n",
       "  'type_of_food': 'Chinese'},\n",
       " {'_id': ObjectId('55f14313c7447c3da7052301'),\n",
       "  'name': 'Bella House',\n",
       "  'rating': 5.5,\n",
       "  'type_of_food': 'Chinese'},\n",
       " {'_id': ObjectId('55f14313c7447c3da70523b3'),\n",
       "  'name': 'Bento King (Leeds)',\n",
       "  'rating': 5.5,\n",
       "  'type_of_food': 'Chinese'},\n",
       " {'_id': ObjectId('55f14313c7447c3da70523b4'),\n",
       "  'name': 'Bento King (Withington)',\n",
       "  'rating': 5.5,\n",
       "  'type_of_food': 'Chinese'},\n",
       " {'_id': ObjectId('55f14313c7447c3da70523b5'),\n",
       "  'name': 'Bento King (Withington)',\n",
       "  'rating': 5.5,\n",
       "  'type_of_food': 'Chinese'},\n",
       " {'_id': ObjectId('55f14313c7447c3da7052474'),\n",
       "  'name': 'Big China',\n",
       "  'rating': 5.5,\n",
       "  'type_of_food': 'Chinese'},\n",
       " {'_id': ObjectId('55f14313c7447c3da70524f7'),\n",
       "  'name': 'Black Elephant',\n",
       "  'rating': 5.5,\n",
       "  'type_of_food': 'Chinese'},\n",
       " {'_id': ObjectId('55f14313c7447c3da70524f6'),\n",
       "  'name': 'Black Elephant',\n",
       "  'rating': 5.5,\n",
       "  'type_of_food': 'Chinese'},\n",
       " {'_id': ObjectId('55f14313c7447c3da705250b'),\n",
       "  'name': 'Blessing',\n",
       "  'rating': 5.5,\n",
       "  'type_of_food': 'Chinese'},\n",
       " {'_id': ObjectId('55f14313c7447c3da705250a'),\n",
       "  'name': 'Blessing',\n",
       "  'rating': 5.5,\n",
       "  'type_of_food': 'Chinese'},\n",
       " {'_id': ObjectId('55f14313c7447c3da705250c'),\n",
       "  'name': 'Blessing',\n",
       "  'rating': 5.5,\n",
       "  'type_of_food': 'Chinese'},\n",
       " {'_id': ObjectId('55f14313c7447c3da7052510'),\n",
       "  'name': 'Blossom House',\n",
       "  'rating': 5.5,\n",
       "  'type_of_food': 'Chinese'},\n",
       " {'_id': ObjectId('55f14312c7447c3da7051b26'),\n",
       "  'name': '.CN Chinese',\n",
       "  'rating': 5,\n",
       "  'type_of_food': 'Chinese'},\n",
       " {'_id': ObjectId('55f14312c7447c3da7051b31'),\n",
       "  'name': '100 Degrees Chinese Restaurant',\n",
       "  'rating': 5,\n",
       "  'type_of_food': 'Chinese'},\n",
       " {'_id': ObjectId('55f14312c7447c3da7051b32'),\n",
       "  'name': '100 Menu',\n",
       "  'rating': 5,\n",
       "  'type_of_food': 'Chinese'},\n",
       " {'_id': ObjectId('55f14312c7447c3da7051b39'),\n",
       "  'name': '1A Wok',\n",
       "  'rating': 5,\n",
       "  'type_of_food': 'Chinese'},\n",
       " {'_id': ObjectId('55f14312c7447c3da7051b56'),\n",
       "  'name': '333 Chinese Takeaway',\n",
       "  'rating': 5,\n",
       "  'type_of_food': 'Chinese'},\n",
       " {'_id': ObjectId('55f14312c7447c3da7051b57'),\n",
       "  'name': '333 Chinese Takeaway',\n",
       "  'rating': 5,\n",
       "  'type_of_food': 'Chinese'},\n",
       " {'_id': ObjectId('55f14312c7447c3da7051b55'),\n",
       "  'name': '328 Chinese Online',\n",
       "  'rating': 5,\n",
       "  'type_of_food': 'Chinese'},\n",
       " {'_id': ObjectId('55f14312c7447c3da7051b64'),\n",
       "  'name': '5 Star Chinese',\n",
       "  'rating': 5,\n",
       "  'type_of_food': 'Chinese'},\n",
       " {'_id': ObjectId('55f14312c7447c3da7051b63'),\n",
       "  'name': '5 Star Chinese',\n",
       "  'rating': 5,\n",
       "  'type_of_food': 'Chinese'},\n",
       " {'_id': ObjectId('55f14312c7447c3da7051b7f'),\n",
       "  'name': '88 Chinese',\n",
       "  'rating': 5,\n",
       "  'type_of_food': 'Chinese'},\n",
       " {'_id': ObjectId('55f14312c7447c3da7051b82'),\n",
       "  'name': '888 Triple Eight',\n",
       "  'rating': 5,\n",
       "  'type_of_food': 'Chinese'},\n",
       " {'_id': ObjectId('55f14312c7447c3da7051b85'),\n",
       "  'name': '9th Kitchen',\n",
       "  'rating': 5,\n",
       "  'type_of_food': 'Chinese'},\n",
       " {'_id': ObjectId('55f14312c7447c3da7051b86'),\n",
       "  'name': 'A & G Kitchen',\n",
       "  'rating': 5,\n",
       "  'type_of_food': 'Chinese'},\n",
       " {'_id': ObjectId('55f14312c7447c3da7051b81'),\n",
       "  'name': '888 Chinese Takeaway',\n",
       "  'rating': 5,\n",
       "  'type_of_food': 'Chinese'},\n",
       " {'_id': ObjectId('55f14312c7447c3da7051be5'),\n",
       "  'name': 'Aberavon Packed Meals',\n",
       "  'rating': 5,\n",
       "  'type_of_food': 'Chinese'},\n",
       " {'_id': ObjectId('55f14312c7447c3da7051be8'),\n",
       "  'name': 'Aberdeen Shanghai Takeaway',\n",
       "  'rating': 5,\n",
       "  'type_of_food': 'Chinese'},\n",
       " {'_id': ObjectId('55f14312c7447c3da7051c0e'),\n",
       "  'name': \"Ackie's\",\n",
       "  'rating': 5,\n",
       "  'type_of_food': 'Chinese'},\n",
       " {'_id': ObjectId('55f14312c7447c3da7051c0c'),\n",
       "  'name': 'Acha Halal Chinese Cuisine',\n",
       "  'rating': 5,\n",
       "  'type_of_food': 'Chinese'},\n",
       " {'_id': ObjectId('55f14312c7447c3da7051c78'),\n",
       "  'name': 'After Taste',\n",
       "  'rating': 5,\n",
       "  'type_of_food': 'Chinese'},\n",
       " {'_id': ObjectId('55f14312c7447c3da7051c79'),\n",
       "  'name': 'After Taste',\n",
       "  'rating': 5,\n",
       "  'type_of_food': 'Chinese'},\n",
       " {'_id': ObjectId('55f14312c7447c3da7051c7a'),\n",
       "  'name': 'After Taste',\n",
       "  'rating': 5,\n",
       "  'type_of_food': 'Chinese'},\n",
       " {'_id': ObjectId('55f14312c7447c3da7051c99'),\n",
       "  'name': 'Ai Wok',\n",
       "  'rating': 5,\n",
       "  'type_of_food': 'Chinese'},\n",
       " {'_id': ObjectId('55f14312c7447c3da7051e3a'),\n",
       "  'name': 'Amber Cuisine',\n",
       "  'rating': 5,\n",
       "  'type_of_food': 'Chinese'},\n",
       " {'_id': ObjectId('55f14312c7447c3da7051eb9'),\n",
       "  'name': \"Amy's Fish & Chips & Chinese Takeaway\",\n",
       "  'rating': 5,\n",
       "  'type_of_food': 'Chinese'},\n",
       " {'_id': ObjectId('55f14312c7447c3da7051ee1'),\n",
       "  'name': 'Angel Express',\n",
       "  'rating': 5,\n",
       "  'type_of_food': 'Chinese'},\n",
       " {'_id': ObjectId('55f14312c7447c3da7051ee0'),\n",
       "  'name': 'Angel Express',\n",
       "  'rating': 5,\n",
       "  'type_of_food': 'Chinese'},\n",
       " {'_id': ObjectId('55f14312c7447c3da7051ee5'),\n",
       "  'name': 'Angel Garden Chinese',\n",
       "  'rating': 5,\n",
       "  'type_of_food': 'Chinese'},\n",
       " {'_id': ObjectId('55f14312c7447c3da7051ee4'),\n",
       "  'name': 'Angel Garden Chinese',\n",
       "  'rating': 5,\n",
       "  'type_of_food': 'Chinese'},\n",
       " {'_id': ObjectId('55f14312c7447c3da7051f23'),\n",
       "  'name': \"Anna's Chinese Takeaway\",\n",
       "  'rating': 5,\n",
       "  'type_of_food': 'Chinese'},\n",
       " {'_id': ObjectId('55f14312c7447c3da7051f68'),\n",
       "  'name': 'Arch Chinese',\n",
       "  'rating': 5,\n",
       "  'type_of_food': 'Chinese'},\n",
       " {'_id': ObjectId('55f14312c7447c3da7051f67'),\n",
       "  'name': 'Arch Chinese',\n",
       "  'rating': 5,\n",
       "  'type_of_food': 'Chinese'},\n",
       " {'_id': ObjectId('55f14312c7447c3da7051f7d'),\n",
       "  'name': 'Ariel Open Kitchen',\n",
       "  'rating': 5,\n",
       "  'type_of_food': 'Chinese'},\n",
       " {'_id': ObjectId('55f14312c7447c3da7051fa2'),\n",
       "  'name': 'Aroma Chinese',\n",
       "  'rating': 5,\n",
       "  'type_of_food': 'Chinese'},\n",
       " {'_id': ObjectId('55f14312c7447c3da7051fb7'),\n",
       "  'name': 'Aromas',\n",
       "  'rating': 5,\n",
       "  'type_of_food': 'Chinese'},\n",
       " {'_id': ObjectId('55f14312c7447c3da7052004'),\n",
       "  'name': 'Asia Garden',\n",
       "  'rating': 5,\n",
       "  'type_of_food': 'Chinese'},\n",
       " {'_id': ObjectId('55f14312c7447c3da7052001'),\n",
       "  'name': 'Asia Channel',\n",
       "  'rating': 5,\n",
       "  'type_of_food': 'Chinese'},\n",
       " {'_id': ObjectId('55f14312c7447c3da7052003'),\n",
       "  'name': 'Asia Delight',\n",
       "  'rating': 5,\n",
       "  'type_of_food': 'Chinese'},\n",
       " {'_id': ObjectId('55f14312c7447c3da7052038'),\n",
       "  'name': 'At28',\n",
       "  'rating': 5,\n",
       "  'type_of_food': 'Chinese'},\n",
       " {'_id': ObjectId('55f14313c7447c3da7052066'),\n",
       "  'name': \"Auntie May's Chinese Takeaway\",\n",
       "  'rating': 5,\n",
       "  'type_of_food': 'Chinese'},\n",
       " {'_id': ObjectId('55f14313c7447c3da7052065'),\n",
       "  'name': \"Auntie May's Chinese Takeaway\",\n",
       "  'rating': 5,\n",
       "  'type_of_food': 'Chinese'},\n",
       " {'_id': ObjectId('55f14313c7447c3da7052191'),\n",
       "  'name': 'Bamboo Express',\n",
       "  'rating': 5,\n",
       "  'type_of_food': 'Chinese'},\n",
       " {'_id': ObjectId('55f14313c7447c3da7052190'),\n",
       "  'name': 'Bamboo Chinese Takeaway',\n",
       "  'rating': 5,\n",
       "  'type_of_food': 'Chinese'},\n",
       " {'_id': ObjectId('55f14313c7447c3da7052194'),\n",
       "  'name': 'Bamboo Garden',\n",
       "  'rating': 5,\n",
       "  'type_of_food': 'Chinese'},\n",
       " {'_id': ObjectId('55f14313c7447c3da7052193'),\n",
       "  'name': 'Bamboo Garden',\n",
       "  'rating': 5,\n",
       "  'type_of_food': 'Chinese'},\n",
       " {'_id': ObjectId('55f14313c7447c3da7052196'),\n",
       "  'name': 'Bamboo Garden',\n",
       "  'rating': 5,\n",
       "  'type_of_food': 'Chinese'},\n",
       " {'_id': ObjectId('55f14313c7447c3da7052195'),\n",
       "  'name': 'Bamboo Garden',\n",
       "  'rating': 5,\n",
       "  'type_of_food': 'Chinese'},\n",
       " {'_id': ObjectId('55f14313c7447c3da7052197'),\n",
       "  'name': 'Bamboo Garden',\n",
       "  'rating': 5,\n",
       "  'type_of_food': 'Chinese'},\n",
       " {'_id': ObjectId('55f14313c7447c3da7052198'),\n",
       "  'name': 'Bamboo Garden',\n",
       "  'rating': 5,\n",
       "  'type_of_food': 'Chinese'},\n",
       " {'_id': ObjectId('55f14313c7447c3da70521a4'),\n",
       "  'name': 'Banana Leaf',\n",
       "  'rating': 5,\n",
       "  'type_of_food': 'Chinese'},\n",
       " {'_id': ObjectId('55f14313c7447c3da70521cf'),\n",
       "  'name': 'Bao Bao Chinese Takeaway',\n",
       "  'rating': 5,\n",
       "  'type_of_food': 'Chinese'},\n",
       " {'_id': ObjectId('55f14313c7447c3da7052201'),\n",
       "  'name': 'Barrow Takeaway',\n",
       "  'rating': 5,\n",
       "  'type_of_food': 'Chinese'},\n",
       " {'_id': ObjectId('55f14313c7447c3da7052209'),\n",
       "  'name': 'Barton Oriental- Eccles',\n",
       "  'rating': 5,\n",
       "  'type_of_food': 'Chinese'},\n",
       " {'_id': ObjectId('55f14313c7447c3da70522a6'),\n",
       "  'name': 'Bedford Chinese Kitchen',\n",
       "  'rating': 5,\n",
       "  'type_of_food': 'Chinese'},\n",
       " {'_id': ObjectId('55f14313c7447c3da70522b6'),\n",
       "  'name': 'Beijing Chef',\n",
       "  'rating': 5,\n",
       "  'type_of_food': 'Chinese'},\n",
       " {'_id': ObjectId('55f14313c7447c3da70522b5'),\n",
       "  'name': 'Bei Jing',\n",
       "  'rating': 5,\n",
       "  'type_of_food': 'Chinese'},\n",
       " {'_id': ObjectId('55f14313c7447c3da70522b8'),\n",
       "  'name': 'Beijing Chef',\n",
       "  'rating': 5,\n",
       "  'type_of_food': 'Chinese'},\n",
       " {'_id': ObjectId('55f14313c7447c3da70522b9'),\n",
       "  'name': 'Beijing Chef Chinese Takeaway',\n",
       "  'rating': 5,\n",
       "  'type_of_food': 'Chinese'},\n",
       " {'_id': ObjectId('55f14313c7447c3da70522bd'),\n",
       "  'name': 'Beijing City',\n",
       "  'rating': 5,\n",
       "  'type_of_food': 'Chinese'},\n",
       " {'_id': ObjectId('55f14313c7447c3da70522c0'),\n",
       "  'name': 'Beijing Express',\n",
       "  'rating': 5,\n",
       "  'type_of_food': 'Chinese'},\n",
       " {'_id': ObjectId('55f14313c7447c3da70522c3'),\n",
       "  'name': 'Beijing Express',\n",
       "  'rating': 5,\n",
       "  'type_of_food': 'Chinese'},\n",
       " {'_id': ObjectId('55f14313c7447c3da70522c6'),\n",
       "  'name': 'Beijing Garden',\n",
       "  'rating': 5,\n",
       "  'type_of_food': 'Chinese'},\n",
       " {'_id': ObjectId('55f14313c7447c3da70522c1'),\n",
       "  'name': 'Beijing Express',\n",
       "  'rating': 5,\n",
       "  'type_of_food': 'Chinese'},\n",
       " {'_id': ObjectId('55f14313c7447c3da70522c2'),\n",
       "  'name': 'Beijing Express',\n",
       "  'rating': 5,\n",
       "  'type_of_food': 'Chinese'},\n",
       " {'_id': ObjectId('55f14313c7447c3da70522c4'),\n",
       "  'name': 'Beijing Express',\n",
       "  'rating': 5,\n",
       "  'type_of_food': 'Chinese'},\n",
       " {'_id': ObjectId('55f14313c7447c3da70522c5'),\n",
       "  'name': 'Beijing Garden',\n",
       "  'rating': 5,\n",
       "  'type_of_food': 'Chinese'},\n",
       " {'_id': ObjectId('55f14313c7447c3da70522cb'),\n",
       "  'name': 'Beijing House',\n",
       "  'rating': 5,\n",
       "  'type_of_food': 'Chinese'},\n",
       " {'_id': ObjectId('55f14313c7447c3da70522d1'),\n",
       "  'name': 'Beijing Meng Zan',\n",
       "  'rating': 5,\n",
       "  'type_of_food': 'Chinese'},\n",
       " {'_id': ObjectId('55f14313c7447c3da70522cf'),\n",
       "  'name': 'Beijing Kirkstall',\n",
       "  'rating': 5,\n",
       "  'type_of_food': 'Chinese'},\n",
       " {'_id': ObjectId('55f14313c7447c3da70522d0'),\n",
       "  'name': 'Beijing Meng Zan',\n",
       "  'rating': 5,\n",
       "  'type_of_food': 'Chinese'},\n",
       " {'_id': ObjectId('55f14313c7447c3da70522d2'),\n",
       "  'name': 'Beijing Noodles',\n",
       "  'rating': 5,\n",
       "  'type_of_food': 'Chinese'},\n",
       " {'_id': ObjectId('55f14313c7447c3da70522d9'),\n",
       "  'name': 'Beijing Noodles',\n",
       "  'rating': 5,\n",
       "  'type_of_food': 'Chinese'},\n",
       " {'_id': ObjectId('55f14313c7447c3da70522d3'),\n",
       "  'name': 'Beijing Noodles',\n",
       "  'rating': 5,\n",
       "  'type_of_food': 'Chinese'},\n",
       " {'_id': ObjectId('55f14313c7447c3da70522d5'),\n",
       "  'name': 'Beijing Noodles',\n",
       "  'rating': 5,\n",
       "  'type_of_food': 'Chinese'},\n",
       " {'_id': ObjectId('55f14313c7447c3da70522d8'),\n",
       "  'name': 'Beijing Noodles',\n",
       "  'rating': 5,\n",
       "  'type_of_food': 'Chinese'},\n",
       " {'_id': ObjectId('55f14313c7447c3da70522d4'),\n",
       "  'name': 'Beijing Noodles',\n",
       "  'rating': 5,\n",
       "  'type_of_food': 'Chinese'},\n",
       " {'_id': ObjectId('55f14313c7447c3da70522d7'),\n",
       "  'name': 'Beijing Noodles',\n",
       "  'rating': 5,\n",
       "  'type_of_food': 'Chinese'},\n",
       " {'_id': ObjectId('55f14313c7447c3da70522d6'),\n",
       "  'name': 'Beijing Noodles',\n",
       "  'rating': 5,\n",
       "  'type_of_food': 'Chinese'},\n",
       " {'_id': ObjectId('55f14313c7447c3da70522dd'),\n",
       "  'name': 'Beijing Takeaway',\n",
       "  'rating': 5,\n",
       "  'type_of_food': 'Chinese'},\n",
       " {'_id': ObjectId('55f14313c7447c3da705239f'),\n",
       "  'name': 'Bennys',\n",
       "  'rating': 5,\n",
       "  'type_of_food': 'Chinese'},\n",
       " {'_id': ObjectId('55f14313c7447c3da70523a0'),\n",
       "  'name': 'Bennys',\n",
       "  'rating': 5,\n",
       "  'type_of_food': 'Chinese'},\n",
       " {'_id': ObjectId('55f14313c7447c3da70523a3'),\n",
       "  'name': \"Benny's\",\n",
       "  'rating': 5,\n",
       "  'type_of_food': 'Chinese'},\n",
       " {'_id': ObjectId('55f14313c7447c3da70523ad'),\n",
       "  'name': 'Bento',\n",
       "  'rating': 5,\n",
       "  'type_of_food': 'Chinese'},\n",
       " {'_id': ObjectId('55f14313c7447c3da70523b2'),\n",
       "  'name': 'Bento King (Hulme)',\n",
       "  'rating': 5,\n",
       "  'type_of_food': 'Chinese'},\n",
       " {'_id': ObjectId('55f14313c7447c3da70523ca'),\n",
       "  'name': 'Best Choices Chinese Takeaway',\n",
       "  'rating': 5,\n",
       "  'type_of_food': 'Chinese'},\n",
       " {'_id': ObjectId('55f14313c7447c3da70523cb'),\n",
       "  'name': 'Best Choices Chinese Takeaway',\n",
       "  'rating': 5,\n",
       "  'type_of_food': 'Chinese'},\n",
       " {'_id': ObjectId('55f14313c7447c3da70523cc'),\n",
       "  'name': 'Best Choices Chinese Takeaway',\n",
       "  'rating': 5,\n",
       "  'type_of_food': 'Chinese'},\n",
       " {'_id': ObjectId('55f14313c7447c3da70523cd'),\n",
       "  'name': 'Best Chopsticks',\n",
       "  'rating': 5,\n",
       "  'type_of_food': 'Chinese'},\n",
       " {'_id': ObjectId('55f14313c7447c3da70523d1'),\n",
       "  'name': 'Best Food',\n",
       "  'rating': 5,\n",
       "  'type_of_food': 'Chinese'},\n",
       " {'_id': ObjectId('55f14313c7447c3da70524be'),\n",
       "  'name': \"Bill's Wok Inn\",\n",
       "  'rating': 5,\n",
       "  'type_of_food': 'Chinese'},\n",
       " {'_id': ObjectId('55f14313c7447c3da70524fa'),\n",
       "  'name': 'Black Pandas',\n",
       "  'rating': 5,\n",
       "  'type_of_food': 'Chinese'},\n",
       " {'_id': ObjectId('55f14313c7447c3da7052514'),\n",
       "  'name': 'Blue Bell',\n",
       "  'rating': 5,\n",
       "  'type_of_food': 'Chinese'},\n",
       " {'_id': ObjectId('55f14312c7447c3da7051b2f'),\n",
       "  'name': '1 2 3 Chinese',\n",
       "  'rating': 4.5,\n",
       "  'type_of_food': 'Chinese'},\n",
       " {'_id': ObjectId('55f14312c7447c3da7051b30'),\n",
       "  'name': '1 2 3 Chinese',\n",
       "  'rating': 4.5,\n",
       "  'type_of_food': 'Chinese'},\n",
       " {'_id': ObjectId('55f14312c7447c3da7051b58'),\n",
       "  'name': '333 Chinese Takeaway1',\n",
       "  'rating': 4.5,\n",
       "  'type_of_food': 'Chinese'},\n",
       " {'_id': ObjectId('55f14312c7447c3da7051b72'),\n",
       "  'name': '57 Orient Takeaway',\n",
       "  'rating': 4.5,\n",
       "  'type_of_food': 'Chinese'},\n",
       " {'_id': ObjectId('55f14312c7447c3da7051ba8'),\n",
       "  'name': 'A1 Wok',\n",
       "  'rating': 4.5,\n",
       "  'type_of_food': 'Chinese'},\n",
       " {'_id': ObjectId('55f14312c7447c3da7051c5c'),\n",
       "  'name': 'AF88',\n",
       "  'rating': 4.5,\n",
       "  'type_of_food': 'Chinese'},\n",
       " {'_id': ObjectId('55f14312c7447c3da7051dd3'),\n",
       "  'name': 'All Welcome',\n",
       "  'rating': 4.5,\n",
       "  'type_of_food': 'Chinese'},\n",
       " {'_id': ObjectId('55f14312c7447c3da7051e39'),\n",
       "  'name': 'Amber',\n",
       "  'rating': 4.5,\n",
       "  'type_of_food': 'Chinese'},\n",
       " {'_id': ObjectId('55f14312c7447c3da7051fc0'),\n",
       "  'name': 'Arsenal Chinese Food & Fish Bar',\n",
       "  'rating': 4.5,\n",
       "  'type_of_food': 'Chinese'},\n",
       " {'_id': ObjectId('55f14312c7447c3da7051fc1'),\n",
       "  'name': 'Arsenal Chinese Food & Fish Bar',\n",
       "  'rating': 4.5,\n",
       "  'type_of_food': 'Chinese'},\n",
       " {'_id': ObjectId('55f14312c7447c3da7051fca'),\n",
       "  'name': \"Arthur's China City\",\n",
       "  'rating': 4.5,\n",
       "  'type_of_food': 'Chinese'},\n",
       " {'_id': ObjectId('55f14312c7447c3da7052002'),\n",
       "  'name': 'Asia Chinese',\n",
       "  'rating': 4.5,\n",
       "  'type_of_food': 'Chinese'},\n",
       " {'_id': ObjectId('55f14312c7447c3da705200b'),\n",
       "  'name': 'Asia Wok',\n",
       "  'rating': 4.5,\n",
       "  'type_of_food': 'Chinese'},\n",
       " {'_id': ObjectId('55f14312c7447c3da7052037'),\n",
       "  'name': 'At Wan Da',\n",
       "  'rating': 4.5,\n",
       "  'type_of_food': 'Chinese'},\n",
       " {'_id': ObjectId('55f14312c7447c3da7052036'),\n",
       "  'name': 'At Wan Da',\n",
       "  'rating': 4.5,\n",
       "  'type_of_food': 'Chinese'},\n",
       " {'_id': ObjectId('55f14312c7447c3da7052060'),\n",
       "  'name': 'August Moon',\n",
       "  'rating': 4.5,\n",
       "  'type_of_food': 'Chinese'},\n",
       " {'_id': ObjectId('55f14313c7447c3da70520b9'),\n",
       "  'name': 'Ba Fu Chinese',\n",
       "  'rating': 4.5,\n",
       "  'type_of_food': 'Chinese'},\n",
       " {'_id': ObjectId('55f14313c7447c3da7052192'),\n",
       "  'name': 'Bamboo Garden',\n",
       "  'rating': 4.5,\n",
       "  'type_of_food': 'Chinese'},\n",
       " {'_id': ObjectId('55f14313c7447c3da705219d'),\n",
       "  'name': 'Bamboo House',\n",
       "  'rating': 4.5,\n",
       "  'type_of_food': 'Chinese'},\n",
       " {'_id': ObjectId('55f14313c7447c3da705219b'),\n",
       "  'name': 'Bamboo House',\n",
       "  'rating': 4.5,\n",
       "  'type_of_food': 'Chinese'},\n",
       " {'_id': ObjectId('55f14313c7447c3da705219c'),\n",
       "  'name': 'Bamboo House',\n",
       "  'rating': 4.5,\n",
       "  'type_of_food': 'Chinese'},\n",
       " {'_id': ObjectId('55f14313c7447c3da70521fc'),\n",
       "  'name': 'Barnsley House',\n",
       "  'rating': 4.5,\n",
       "  'type_of_food': 'Chinese'},\n",
       " {'_id': ObjectId('55f14313c7447c3da70522b7'),\n",
       "  'name': 'Beijing',\n",
       "  'rating': 4.5,\n",
       "  'type_of_food': 'Chinese'},\n",
       " {'_id': ObjectId('55f14313c7447c3da70522bf'),\n",
       "  'name': 'Beijing Dragon',\n",
       "  'rating': 4.5,\n",
       "  'type_of_food': 'Chinese'},\n",
       " {'_id': ObjectId('55f14313c7447c3da70522bc'),\n",
       "  'name': 'Beijing City',\n",
       "  'rating': 4.5,\n",
       "  'type_of_food': 'Chinese'},\n",
       " {'_id': ObjectId('55f14313c7447c3da70522c7'),\n",
       "  'name': 'Beijing House',\n",
       "  'rating': 4.5,\n",
       "  'type_of_food': 'Chinese'},\n",
       " {'_id': ObjectId('55f14313c7447c3da70522c8'),\n",
       "  'name': 'Beijing House',\n",
       "  'rating': 4.5,\n",
       "  'type_of_food': 'Chinese'},\n",
       " {'_id': ObjectId('55f14313c7447c3da70522c9'),\n",
       "  'name': 'Beijing House',\n",
       "  'rating': 4.5,\n",
       "  'type_of_food': 'Chinese'},\n",
       " {'_id': ObjectId('55f14313c7447c3da70522ca'),\n",
       "  'name': 'Beijing House',\n",
       "  'rating': 4.5,\n",
       "  'type_of_food': 'Chinese'},\n",
       " {'_id': ObjectId('55f14313c7447c3da70522cc'),\n",
       "  'name': 'Beijing Inn',\n",
       "  'rating': 4.5,\n",
       "  'type_of_food': 'Chinese'},\n",
       " {'_id': ObjectId('55f14313c7447c3da70522cd'),\n",
       "  'name': 'Beijing Inn',\n",
       "  'rating': 4.5,\n",
       "  'type_of_food': 'Chinese'},\n",
       " {'_id': ObjectId('55f14313c7447c3da70522ce'),\n",
       "  'name': 'Beijing Inn',\n",
       "  'rating': 4.5,\n",
       "  'type_of_food': 'Chinese'},\n",
       " {'_id': ObjectId('55f14313c7447c3da70522da'),\n",
       "  'name': 'Beijing Oriental Express',\n",
       "  'rating': 4.5,\n",
       "  'type_of_food': 'Chinese'},\n",
       " {'_id': ObjectId('55f14313c7447c3da70522db'),\n",
       "  'name': 'Beijing Palace Restaurant',\n",
       "  'rating': 4.5,\n",
       "  'type_of_food': 'Chinese'},\n",
       " {'_id': ObjectId('55f14313c7447c3da70522dc'),\n",
       "  'name': 'Beijing Restaurant',\n",
       "  'rating': 4.5,\n",
       "  'type_of_food': 'Chinese'},\n",
       " {'_id': ObjectId('55f14313c7447c3da70522fe'),\n",
       "  'name': 'Bella Chinese',\n",
       "  'rating': 4.5,\n",
       "  'type_of_food': 'Chinese'},\n",
       " {'_id': ObjectId('55f14313c7447c3da7052336'),\n",
       "  'name': 'Belmont Welcome Chinese',\n",
       "  'rating': 4.5,\n",
       "  'type_of_food': 'Chinese'},\n",
       " {'_id': ObjectId('55f14313c7447c3da70524a2'),\n",
       "  'name': 'Big Wok',\n",
       "  'rating': 4.5,\n",
       "  'type_of_food': 'Chinese'},\n",
       " {'_id': ObjectId('55f14313c7447c3da70524cf'),\n",
       "  'name': 'Bing Chinese Takeaway',\n",
       "  'rating': 4.5,\n",
       "  'type_of_food': 'Chinese'},\n",
       " {'_id': ObjectId('55f14313c7447c3da70524ce'),\n",
       "  'name': 'Bing Chinese Takeaway',\n",
       "  'rating': 4.5,\n",
       "  'type_of_food': 'Chinese'},\n",
       " {'_id': ObjectId('55f14313c7447c3da70524f3'),\n",
       "  'name': 'Black Bull',\n",
       "  'rating': 4.5,\n",
       "  'type_of_food': 'Chinese'},\n",
       " {'_id': ObjectId('55f14312c7447c3da7051b80'),\n",
       "  'name': '88 Noodle Bar',\n",
       "  'rating': 4,\n",
       "  'type_of_food': 'Chinese'},\n",
       " {'_id': ObjectId('55f14312c7447c3da7051e33'),\n",
       "  'name': 'Amazing',\n",
       "  'rating': 4,\n",
       "  'type_of_food': 'Chinese'},\n",
       " {'_id': ObjectId('55f14312c7447c3da7051f80'),\n",
       "  'name': 'Arirang',\n",
       "  'rating': 4,\n",
       "  'type_of_food': 'Chinese'},\n",
       " {'_id': ObjectId('55f14312c7447c3da7051f81'),\n",
       "  'name': 'Arirang',\n",
       "  'rating': 4,\n",
       "  'type_of_food': 'Chinese'},\n",
       " {'_id': ObjectId('55f14312c7447c3da7051f82'),\n",
       "  'name': 'Arirang',\n",
       "  'rating': 4,\n",
       "  'type_of_food': 'Chinese'},\n",
       " {'_id': ObjectId('55f14312c7447c3da7051f85'),\n",
       "  'name': 'Arirang',\n",
       "  'rating': 4,\n",
       "  'type_of_food': 'Chinese'},\n",
       " {'_id': ObjectId('55f14312c7447c3da7051f83'),\n",
       "  'name': 'Arirang',\n",
       "  'rating': 4,\n",
       "  'type_of_food': 'Chinese'},\n",
       " {'_id': ObjectId('55f14312c7447c3da7051f84'),\n",
       "  'name': 'Arirang',\n",
       "  'rating': 4,\n",
       "  'type_of_food': 'Chinese'},\n",
       " {'_id': ObjectId('55f14313c7447c3da70522ba'),\n",
       "  'name': 'Beijing Chinese',\n",
       "  'rating': 4,\n",
       "  'type_of_food': 'Chinese'},\n",
       " {'_id': ObjectId('55f14313c7447c3da70522bb'),\n",
       "  'name': 'Beijing Chinese Restaurant',\n",
       "  'rating': 4,\n",
       "  'type_of_food': 'Chinese'},\n",
       " {'_id': ObjectId('55f14312c7447c3da7051fff'),\n",
       "  'name': 'Asia Asia',\n",
       "  'rating': 3.5,\n",
       "  'type_of_food': 'Chinese'},\n",
       " {'_id': ObjectId('55f14313c7447c3da705219a'),\n",
       "  'name': 'Bamboo Garden Chinese Takeaway',\n",
       "  'rating': 3.5,\n",
       "  'type_of_food': 'Chinese'}]"
      ]
     },
     "execution_count": 77,
     "metadata": {},
     "output_type": "execute_result"
    }
   ],
   "source": [
    "list(_)"
   ]
  },
  {
   "cell_type": "markdown",
   "metadata": {},
   "source": [
    "### `limit`"
   ]
  },
  {
   "cell_type": "markdown",
   "metadata": {},
   "source": [
    "We can `limit` the result of a `find`"
   ]
  },
  {
   "cell_type": "code",
   "execution_count": 78,
   "metadata": {},
   "outputs": [
    {
     "data": {
      "text/plain": [
       "<pymongo.cursor.Cursor at 0x7efefa4bdd60>"
      ]
     },
     "execution_count": 78,
     "metadata": {},
     "output_type": "execute_result"
    }
   ],
   "source": [
    "collection.find({\"type_of_food\": \"Chinese\"}, {\"name\": 1, \"rating\": 1, \"_id\": 0}).limit(3)"
   ]
  },
  {
   "cell_type": "code",
   "execution_count": 79,
   "metadata": {},
   "outputs": [
    {
     "data": {
      "text/plain": [
       "[{'name': '.CN Chinese', 'rating': 5},\n",
       " {'name': '1 2 3 Chinese', 'rating': 4.5},\n",
       " {'name': '100 Degrees Chinese Restaurant', 'rating': 5}]"
      ]
     },
     "execution_count": 79,
     "metadata": {},
     "output_type": "execute_result"
    }
   ],
   "source": [
    "list(_)"
   ]
  },
  {
   "cell_type": "code",
   "execution_count": 94,
   "metadata": {},
   "outputs": [
    {
     "data": {
      "text/plain": [
       "<pymongo.cursor.Cursor at 0x7efefa4d84c0>"
      ]
     },
     "execution_count": 94,
     "metadata": {},
     "output_type": "execute_result"
    }
   ],
   "source": [
    "collection.find({\"type_of_food\": \"Chinese\"}, {\"name\": 1, \"rating\": 1, \"_id\": 0}).sort(\"rating\", -1).limit(6)"
   ]
  },
  {
   "cell_type": "code",
   "execution_count": 95,
   "metadata": {},
   "outputs": [
    {
     "data": {
      "text/plain": [
       "[{'name': '350 Wok', 'rating': 5.5},\n",
       " {'name': '113 Fish Bar', 'rating': 5.5},\n",
       " {'name': '350 Wok', 'rating': 5.5},\n",
       " {'name': '4 in Love', 'rating': 5.5},\n",
       " {'name': '350 Wok', 'rating': 5.5},\n",
       " {'name': '168 Chinese & Cantonese Takeaway', 'rating': 5.5}]"
      ]
     },
     "execution_count": 95,
     "metadata": {},
     "output_type": "execute_result"
    }
   ],
   "source": [
    "list(_)"
   ]
  },
  {
   "cell_type": "markdown",
   "metadata": {},
   "source": [
    "### `skip`"
   ]
  },
  {
   "cell_type": "markdown",
   "metadata": {},
   "source": [
    "We can `skip` some results of a `find`"
   ]
  },
  {
   "cell_type": "code",
   "execution_count": 96,
   "metadata": {},
   "outputs": [
    {
     "data": {
      "text/plain": [
       "<pymongo.cursor.Cursor at 0x7efefa4bd7f0>"
      ]
     },
     "execution_count": 96,
     "metadata": {},
     "output_type": "execute_result"
    }
   ],
   "source": [
    "collection.find({\"type_of_food\": \"Chinese\"}, {\"name\": 1, \"rating\": 1, \"_id\": 0}).sort(\"rating\", -1).skip(3).limit(3)"
   ]
  },
  {
   "cell_type": "code",
   "execution_count": 97,
   "metadata": {},
   "outputs": [
    {
     "data": {
      "text/plain": [
       "[{'name': '4 in Love', 'rating': 5.5},\n",
       " {'name': '350 Wok', 'rating': 5.5},\n",
       " {'name': '168 Chinese & Cantonese Takeaway', 'rating': 5.5}]"
      ]
     },
     "execution_count": 97,
     "metadata": {},
     "output_type": "execute_result"
    }
   ],
   "source": [
    "list(_)"
   ]
  },
  {
   "cell_type": "markdown",
   "metadata": {},
   "source": [
    "## Typical query operators"
   ]
  },
  {
   "cell_type": "markdown",
   "metadata": {},
   "source": [
    "Query operators are preceded by a dollar sign `$`"
   ]
  },
  {
   "cell_type": "markdown",
   "metadata": {},
   "source": [
    "Lets create variable `c` for writing less code"
   ]
  },
  {
   "cell_type": "code",
   "execution_count": 98,
   "metadata": {},
   "outputs": [],
   "source": [
    "c = collection"
   ]
  },
  {
   "cell_type": "code",
   "execution_count": 99,
   "metadata": {},
   "outputs": [
    {
     "data": {
      "text/plain": [
       "2548"
      ]
     },
     "execution_count": 99,
     "metadata": {},
     "output_type": "execute_result"
    }
   ],
   "source": [
    "c.count_documents({})"
   ]
  },
  {
   "cell_type": "code",
   "execution_count": 100,
   "metadata": {},
   "outputs": [
    {
     "data": {
      "text/plain": [
       "{'_id': ObjectId('55f14312c7447c3da7051b26'),\n",
       " 'URL': 'http://www.just-eat.co.uk/restaurants-cn-chinese-cardiff/menu',\n",
       " 'address': '228 City Road',\n",
       " 'address line 2': 'Cardiff',\n",
       " 'name': '.CN Chinese',\n",
       " 'outcode': 'CF24',\n",
       " 'postcode': '3JH',\n",
       " 'rating': 5,\n",
       " 'type_of_food': 'Chinese'}"
      ]
     },
     "execution_count": 100,
     "metadata": {},
     "output_type": "execute_result"
    }
   ],
   "source": [
    "c.find_one()"
   ]
  },
  {
   "cell_type": "markdown",
   "metadata": {},
   "source": [
    "### greater than / less than"
   ]
  },
  {
   "cell_type": "markdown",
   "metadata": {},
   "source": [
    "Is a numerical field greater or less than a given value?"
   ]
  },
  {
   "cell_type": "code",
   "execution_count": 101,
   "metadata": {},
   "outputs": [
    {
     "data": {
      "text/plain": [
       "{'_id': ObjectId('55f14312c7447c3da7051cec'),\n",
       " 'URL': 'http://www.just-eat.co.uk/restaurants-aldixifriedchicken-b21/menu',\n",
       " 'address': '343 Soho Road',\n",
       " 'name': 'Al Dixi Fried Chicken & Grill House',\n",
       " 'outcode': 'B21',\n",
       " 'postcode': '9SE',\n",
       " 'rating': 1,\n",
       " 'type_of_food': 'Chicken'}"
      ]
     },
     "execution_count": 101,
     "metadata": {},
     "output_type": "execute_result"
    }
   ],
   "source": [
    "c.find_one({\"rating\": {\"$lt\": 2}})"
   ]
  },
  {
   "cell_type": "code",
   "execution_count": 102,
   "metadata": {},
   "outputs": [
    {
     "data": {
      "text/plain": [
       "{'_id': ObjectId('55f14312c7447c3da7051b26'),\n",
       " 'URL': 'http://www.just-eat.co.uk/restaurants-cn-chinese-cardiff/menu',\n",
       " 'address': '228 City Road',\n",
       " 'address line 2': 'Cardiff',\n",
       " 'name': '.CN Chinese',\n",
       " 'outcode': 'CF24',\n",
       " 'postcode': '3JH',\n",
       " 'rating': 5,\n",
       " 'type_of_food': 'Chinese'}"
      ]
     },
     "execution_count": 102,
     "metadata": {},
     "output_type": "execute_result"
    }
   ],
   "source": [
    "c.find_one({\"rating\": {\"$gt\": 2}})"
   ]
  },
  {
   "cell_type": "code",
   "execution_count": 106,
   "metadata": {},
   "outputs": [
    {
     "data": {
      "text/plain": [
       "[{'name': 'Al Dixi Fried Chicken & Grill House', 'rating': 1},\n",
       " {'name': 'Al Dixi Fried Chicken & Grill House', 'rating': 1},\n",
       " {'name': 'Alaowerri Restaurant', 'rating': 1},\n",
       " {'name': 'Beiteddine', 'rating': 1.5},\n",
       " {'name': 'Beiteddine', 'rating': 1.5},\n",
       " {'name': \"Benny's\", 'rating': 1},\n",
       " {'name': \"Benny's\", 'rating': 1},\n",
       " {'name': 'Big Boys Pizza', 'rating': 2},\n",
       " {'name': 'Big Boys Pizza', 'rating': 2},\n",
       " {'name': 'Big Boys Pizza', 'rating': 2}]"
      ]
     },
     "execution_count": 106,
     "metadata": {},
     "output_type": "execute_result"
    }
   ],
   "source": [
    "list(c.find({\"rating\": {\"$lte\": 2}}, {\"name\": 1, \"rating\": 1, \"_id\": 0}))"
   ]
  },
  {
   "cell_type": "markdown",
   "metadata": {},
   "source": [
    "### `exists`"
   ]
  },
  {
   "cell_type": "code",
   "execution_count": 107,
   "metadata": {},
   "outputs": [
    {
     "data": {
      "text/plain": [
       "{'_id': ObjectId('55f14312c7447c3da7051b26'),\n",
       " 'URL': 'http://www.just-eat.co.uk/restaurants-cn-chinese-cardiff/menu',\n",
       " 'address': '228 City Road',\n",
       " 'address line 2': 'Cardiff',\n",
       " 'name': '.CN Chinese',\n",
       " 'outcode': 'CF24',\n",
       " 'postcode': '3JH',\n",
       " 'rating': 5,\n",
       " 'type_of_food': 'Chinese'}"
      ]
     },
     "execution_count": 107,
     "metadata": {},
     "output_type": "execute_result"
    }
   ],
   "source": [
    "c.find_one({\"address line 2\": {\"$exists\": True}})"
   ]
  },
  {
   "cell_type": "code",
   "execution_count": 108,
   "metadata": {},
   "outputs": [
    {
     "data": {
      "text/plain": [
       "{'_id': ObjectId('55f14312c7447c3da7051cec'),\n",
       " 'URL': 'http://www.just-eat.co.uk/restaurants-aldixifriedchicken-b21/menu',\n",
       " 'address': '343 Soho Road',\n",
       " 'name': 'Al Dixi Fried Chicken & Grill House',\n",
       " 'outcode': 'B21',\n",
       " 'postcode': '9SE',\n",
       " 'rating': 1,\n",
       " 'type_of_food': 'Chicken'}"
      ]
     },
     "execution_count": 108,
     "metadata": {},
     "output_type": "execute_result"
    }
   ],
   "source": [
    "c.find_one({\"address line 2\": {\"$exists\": False}})"
   ]
  },
  {
   "cell_type": "markdown",
   "metadata": {},
   "source": [
    "### `regex`"
   ]
  },
  {
   "cell_type": "code",
   "execution_count": 109,
   "metadata": {},
   "outputs": [
    {
     "data": {
      "text/plain": [
       "[{'name': 'Acha Halal Chinese Cuisine'},\n",
       " {'name': 'Beirut Lebanese Halal Restaurant'},\n",
       " {'name': 'Beirut Lebanese Halal Restaurant'}]"
      ]
     },
     "execution_count": 109,
     "metadata": {},
     "output_type": "execute_result"
    }
   ],
   "source": [
    "list(c.find({\"name\": {\"$regex\": \".*Halal.*\"}}, {\"name\": 1, \"_id\": 0}))"
   ]
  },
  {
   "cell_type": "code",
   "execution_count": 110,
   "metadata": {},
   "outputs": [
    {
     "data": {
      "text/plain": [
       "[{'name': '100 Degrees Chinese Restaurant'},\n",
       " {'name': '100 Menu'},\n",
       " {'name': '104 Turkish BBQ'},\n",
       " {'name': '109 Ristorante'},\n",
       " {'name': '1A Wok'},\n",
       " {'name': '23rd Street Pizza'},\n",
       " {'name': '241 Pizza'},\n",
       " {'name': '23rd Street Pizza'},\n",
       " {'name': '2-4-1 Pizza'},\n",
       " {'name': '2-4-1 Pizza'},\n",
       " {'name': '3 In 1 Dunoon'},\n",
       " {'name': '333 Chinese Takeaway'},\n",
       " {'name': '333 Chinese Takeaway'},\n",
       " {'name': '328 Chinese Online'},\n",
       " {'name': '4 in 1 Express'},\n",
       " {'name': '5 In 1 Takeaway'},\n",
       " {'name': '4 Seasons Pizza & Grill'},\n",
       " {'name': '5 Star Chinese'},\n",
       " {'name': '5 Star Chinese'},\n",
       " {'name': '5 Star Fish Bar'},\n",
       " {'name': '5 Star Pizza'},\n",
       " {'name': '5 Star Pizza'},\n",
       " {'name': '5 Star Pizza'},\n",
       " {'name': '62 Worksop Fish Bar'},\n",
       " {'name': '7 Spices'},\n",
       " {'name': '7 Spices'},\n",
       " {'name': '88 Chinese'},\n",
       " {'name': '888 Triple Eight'},\n",
       " {'name': '9th Kitchen'},\n",
       " {'name': '9 Inch CFC'},\n",
       " {'name': '888 Chinese Takeaway'},\n",
       " {'name': 'A1 Pizzas'},\n",
       " {'name': \"A1 Rice 'N' Spice\"},\n",
       " {'name': 'Aladdin Hot 4 You'},\n",
       " {'name': 'Allens Fried Chicken M8'},\n",
       " {'name': 'Alternative Takeaway 2'},\n",
       " {'name': 'Amici Miei2go.'},\n",
       " {'name': 'Amici Miei2go.'},\n",
       " {'name': 'At28'},\n",
       " {'name': 'Balti 2000'},\n",
       " {'name': 'Best Kebab 1'},\n",
       " {'name': 'Bilston No1'},\n",
       " {'name': 'Bilston No1'},\n",
       " {'name': 'Birashwamys Est 1970'}]"
      ]
     },
     "execution_count": 110,
     "metadata": {},
     "output_type": "execute_result"
    }
   ],
   "source": [
    "list(c.find({\"rating\": 5, \"name\": {\"$regex\": \".*\\d.*\"}}, {\"name\": 1, \"_id\": 0}))"
   ]
  },
  {
   "cell_type": "code",
   "execution_count": 111,
   "metadata": {},
   "outputs": [
    {
     "data": {
      "text/plain": [
       "[{'name': 'Allens Fried Chicken M8'},\n",
       " {'name': 'Alternative Takeaway 2'},\n",
       " {'name': 'At28'},\n",
       " {'name': 'Balti 2000'},\n",
       " {'name': 'Best Kebab 1'},\n",
       " {'name': 'Bilston No1'},\n",
       " {'name': 'Bilston No1'},\n",
       " {'name': 'Birashwamys Est 1970'}]"
      ]
     },
     "execution_count": 111,
     "metadata": {},
     "output_type": "execute_result"
    }
   ],
   "source": [
    "list(c.find({\"rating\": 5, \"name\": {\"$regex\": \".*\\d$\"}}, {\"name\": 1, \"_id\": 0}))"
   ]
  },
  {
   "cell_type": "markdown",
   "metadata": {},
   "source": [
    "### `and`"
   ]
  },
  {
   "cell_type": "markdown",
   "metadata": {},
   "source": [
    "`find` dictionary with several keys is already performing an `$and` operation"
   ]
  },
  {
   "cell_type": "code",
   "execution_count": 114,
   "metadata": {},
   "outputs": [
    {
     "data": {
      "text/plain": [
       "[{'name': '88 Noodle Bar', 'rating': 4, 'type_of_food': 'Chinese'},\n",
       " {'name': 'Amazing', 'rating': 4, 'type_of_food': 'Chinese'},\n",
       " {'name': 'Arirang', 'rating': 4, 'type_of_food': 'Chinese'},\n",
       " {'name': 'Arirang', 'rating': 4, 'type_of_food': 'Chinese'},\n",
       " {'name': 'Arirang', 'rating': 4, 'type_of_food': 'Chinese'},\n",
       " {'name': 'Arirang', 'rating': 4, 'type_of_food': 'Chinese'},\n",
       " {'name': 'Arirang', 'rating': 4, 'type_of_food': 'Chinese'},\n",
       " {'name': 'Arirang', 'rating': 4, 'type_of_food': 'Chinese'},\n",
       " {'name': 'Beijing Chinese', 'rating': 4, 'type_of_food': 'Chinese'},\n",
       " {'name': 'Beijing Chinese Restaurant',\n",
       "  'rating': 4,\n",
       "  'type_of_food': 'Chinese'}]"
      ]
     },
     "execution_count": 114,
     "metadata": {},
     "output_type": "execute_result"
    }
   ],
   "source": [
    "list(c.find({\"rating\": 4, \"type_of_food\": \"Chinese\"}, {\"type_of_food\": 1, \"name\": 1, \"rating\": 1, \"_id\": 0}))"
   ]
  },
  {
   "cell_type": "markdown",
   "metadata": {},
   "source": [
    "Alternatively...  \n",
    "`find({\"$and\": [cond1, cond2]})`"
   ]
  },
  {
   "cell_type": "code",
   "execution_count": 115,
   "metadata": {},
   "outputs": [
    {
     "data": {
      "text/html": [
       "<div>\n",
       "<style scoped>\n",
       "    .dataframe tbody tr th:only-of-type {\n",
       "        vertical-align: middle;\n",
       "    }\n",
       "\n",
       "    .dataframe tbody tr th {\n",
       "        vertical-align: top;\n",
       "    }\n",
       "\n",
       "    .dataframe thead th {\n",
       "        text-align: right;\n",
       "    }\n",
       "</style>\n",
       "<table border=\"1\" class=\"dataframe\">\n",
       "  <thead>\n",
       "    <tr style=\"text-align: right;\">\n",
       "      <th></th>\n",
       "      <th>name</th>\n",
       "      <th>rating</th>\n",
       "      <th>type_of_food</th>\n",
       "    </tr>\n",
       "  </thead>\n",
       "  <tbody>\n",
       "    <tr>\n",
       "      <th>0</th>\n",
       "      <td>88 Noodle Bar</td>\n",
       "      <td>4</td>\n",
       "      <td>Chinese</td>\n",
       "    </tr>\n",
       "    <tr>\n",
       "      <th>1</th>\n",
       "      <td>Amazing</td>\n",
       "      <td>4</td>\n",
       "      <td>Chinese</td>\n",
       "    </tr>\n",
       "    <tr>\n",
       "      <th>2</th>\n",
       "      <td>Arirang</td>\n",
       "      <td>4</td>\n",
       "      <td>Chinese</td>\n",
       "    </tr>\n",
       "    <tr>\n",
       "      <th>3</th>\n",
       "      <td>Arirang</td>\n",
       "      <td>4</td>\n",
       "      <td>Chinese</td>\n",
       "    </tr>\n",
       "    <tr>\n",
       "      <th>4</th>\n",
       "      <td>Arirang</td>\n",
       "      <td>4</td>\n",
       "      <td>Chinese</td>\n",
       "    </tr>\n",
       "    <tr>\n",
       "      <th>5</th>\n",
       "      <td>Arirang</td>\n",
       "      <td>4</td>\n",
       "      <td>Chinese</td>\n",
       "    </tr>\n",
       "    <tr>\n",
       "      <th>6</th>\n",
       "      <td>Arirang</td>\n",
       "      <td>4</td>\n",
       "      <td>Chinese</td>\n",
       "    </tr>\n",
       "    <tr>\n",
       "      <th>7</th>\n",
       "      <td>Arirang</td>\n",
       "      <td>4</td>\n",
       "      <td>Chinese</td>\n",
       "    </tr>\n",
       "    <tr>\n",
       "      <th>8</th>\n",
       "      <td>Beijing Chinese</td>\n",
       "      <td>4</td>\n",
       "      <td>Chinese</td>\n",
       "    </tr>\n",
       "    <tr>\n",
       "      <th>9</th>\n",
       "      <td>Beijing Chinese Restaurant</td>\n",
       "      <td>4</td>\n",
       "      <td>Chinese</td>\n",
       "    </tr>\n",
       "  </tbody>\n",
       "</table>\n",
       "</div>"
      ],
      "text/plain": [
       "                         name  rating type_of_food\n",
       "0               88 Noodle Bar       4      Chinese\n",
       "1                     Amazing       4      Chinese\n",
       "2                     Arirang       4      Chinese\n",
       "3                     Arirang       4      Chinese\n",
       "4                     Arirang       4      Chinese\n",
       "5                     Arirang       4      Chinese\n",
       "6                     Arirang       4      Chinese\n",
       "7                     Arirang       4      Chinese\n",
       "8             Beijing Chinese       4      Chinese\n",
       "9  Beijing Chinese Restaurant       4      Chinese"
      ]
     },
     "execution_count": 115,
     "metadata": {},
     "output_type": "execute_result"
    }
   ],
   "source": [
    "pd.DataFrame(c.find(\n",
    "    {\"$and\": [\n",
    "        {\"rating\": 4},\n",
    "        {\"type_of_food\": \"Chinese\"}\n",
    "    ]},\n",
    "    {\"name\": 1, \"rating\": 1, \"type_of_food\": 1, \"_id\": 0}\n",
    "))"
   ]
  },
  {
   "cell_type": "markdown",
   "metadata": {},
   "source": [
    "### `or`"
   ]
  },
  {
   "cell_type": "markdown",
   "metadata": {},
   "source": [
    "Alternatively...  \n",
    "`find({\"$or\": [cond1, cond2]})`"
   ]
  },
  {
   "cell_type": "code",
   "execution_count": 118,
   "metadata": {},
   "outputs": [],
   "source": [
    "condition = {\"$or\": [\n",
    "        {\"rating\": 6},\n",
    "        {\"type_of_food\": \"Chinese\"}\n",
    "    ]}"
   ]
  },
  {
   "cell_type": "code",
   "execution_count": 119,
   "metadata": {},
   "outputs": [
    {
     "data": {
      "text/plain": [
       "{'$or': [{'rating': 6}, {'type_of_food': 'Chinese'}]}"
      ]
     },
     "execution_count": 119,
     "metadata": {},
     "output_type": "execute_result"
    }
   ],
   "source": [
    "condition"
   ]
  },
  {
   "cell_type": "code",
   "execution_count": 120,
   "metadata": {},
   "outputs": [],
   "source": [
    "projection = {\"name\": 1, \"rating\": 1, \"type_of_food\": 1, \"_id\": 0}"
   ]
  },
  {
   "cell_type": "code",
   "execution_count": 122,
   "metadata": {},
   "outputs": [],
   "source": [
    "n_sample = 3"
   ]
  },
  {
   "cell_type": "code",
   "execution_count": 123,
   "metadata": {},
   "outputs": [
    {
     "data": {
      "text/html": [
       "<div>\n",
       "<style scoped>\n",
       "    .dataframe tbody tr th:only-of-type {\n",
       "        vertical-align: middle;\n",
       "    }\n",
       "\n",
       "    .dataframe tbody tr th {\n",
       "        vertical-align: top;\n",
       "    }\n",
       "\n",
       "    .dataframe thead th {\n",
       "        text-align: right;\n",
       "    }\n",
       "</style>\n",
       "<table border=\"1\" class=\"dataframe\">\n",
       "  <thead>\n",
       "    <tr style=\"text-align: right;\">\n",
       "      <th></th>\n",
       "      <th>name</th>\n",
       "      <th>rating</th>\n",
       "      <th>type_of_food</th>\n",
       "    </tr>\n",
       "  </thead>\n",
       "  <tbody>\n",
       "    <tr>\n",
       "      <th>216</th>\n",
       "      <td>Black Pandas</td>\n",
       "      <td>5.0</td>\n",
       "      <td>Chinese</td>\n",
       "    </tr>\n",
       "    <tr>\n",
       "      <th>15</th>\n",
       "      <td>333 Chinese Takeaway1</td>\n",
       "      <td>4.5</td>\n",
       "      <td>Chinese</td>\n",
       "    </tr>\n",
       "    <tr>\n",
       "      <th>4</th>\n",
       "      <td>113 Fish Bar</td>\n",
       "      <td>5.5</td>\n",
       "      <td>Chinese</td>\n",
       "    </tr>\n",
       "  </tbody>\n",
       "</table>\n",
       "</div>"
      ],
      "text/plain": [
       "                      name  rating type_of_food\n",
       "216           Black Pandas     5.0      Chinese\n",
       "15   333 Chinese Takeaway1     4.5      Chinese\n",
       "4             113 Fish Bar     5.5      Chinese"
      ]
     },
     "execution_count": 123,
     "metadata": {},
     "output_type": "execute_result"
    }
   ],
   "source": [
    "pd.DataFrame(c.find(\n",
    "    condition,\n",
    "    projection\n",
    ")).sample(n_sample)"
   ]
  },
  {
   "cell_type": "markdown",
   "metadata": {},
   "source": [
    "### `ne`"
   ]
  },
  {
   "cell_type": "markdown",
   "metadata": {},
   "source": [
    "Not equal"
   ]
  },
  {
   "cell_type": "code",
   "execution_count": 133,
   "metadata": {},
   "outputs": [
    {
     "data": {
      "text/plain": [
       "{'_id': ObjectId('55f14312c7447c3da7051b2a'),\n",
       " 'URL': 'http://www.just-eat.co.uk/restaurants-indiancom-ch4/menu',\n",
       " 'address': '9 Broughton Hall Road',\n",
       " 'address line 2': 'Broughton',\n",
       " 'name': '@Indian.com',\n",
       " 'outcode': 'CH4',\n",
       " 'postcode': '0QR',\n",
       " 'rating': 6,\n",
       " 'type_of_food': 'Curry'}"
      ]
     },
     "execution_count": 133,
     "metadata": {},
     "output_type": "execute_result"
    }
   ],
   "source": [
    "c.find_one({\"type_of_food\": {\"$ne\": \"Chinese\"}, \"rating\": {\"$gte\": 6}})"
   ]
  },
  {
   "cell_type": "code",
   "execution_count": 125,
   "metadata": {},
   "outputs": [
    {
     "data": {
      "text/plain": [
       "2374"
      ]
     },
     "execution_count": 125,
     "metadata": {},
     "output_type": "execute_result"
    }
   ],
   "source": [
    "c.count_documents({\"type_of_food\": {\"$ne\": \"Chinese\"}})"
   ]
  },
  {
   "cell_type": "code",
   "execution_count": 126,
   "metadata": {},
   "outputs": [
    {
     "data": {
      "text/plain": [
       "174"
      ]
     },
     "execution_count": 126,
     "metadata": {},
     "output_type": "execute_result"
    }
   ],
   "source": [
    "c.count_documents({\"type_of_food\": \"Chinese\"})"
   ]
  },
  {
   "cell_type": "code",
   "execution_count": 128,
   "metadata": {},
   "outputs": [
    {
     "data": {
      "text/plain": [
       "2548"
      ]
     },
     "execution_count": 128,
     "metadata": {},
     "output_type": "execute_result"
    }
   ],
   "source": [
    "c.count_documents({})"
   ]
  },
  {
   "cell_type": "markdown",
   "metadata": {},
   "source": [
    "### `in`"
   ]
  },
  {
   "cell_type": "code",
   "execution_count": 134,
   "metadata": {},
   "outputs": [],
   "source": [
    "df = pd.DataFrame(c.find({\"rating\": {\"$in\": [1, 2, 3]}}, {\"rating\": 1, \"name\": 1}))"
   ]
  },
  {
   "cell_type": "code",
   "execution_count": 137,
   "metadata": {},
   "outputs": [
    {
     "data": {
      "text/html": [
       "<div>\n",
       "<style scoped>\n",
       "    .dataframe tbody tr th:only-of-type {\n",
       "        vertical-align: middle;\n",
       "    }\n",
       "\n",
       "    .dataframe tbody tr th {\n",
       "        vertical-align: top;\n",
       "    }\n",
       "\n",
       "    .dataframe thead th {\n",
       "        text-align: right;\n",
       "    }\n",
       "</style>\n",
       "<table border=\"1\" class=\"dataframe\">\n",
       "  <thead>\n",
       "    <tr style=\"text-align: right;\">\n",
       "      <th></th>\n",
       "      <th>_id</th>\n",
       "      <th>name</th>\n",
       "      <th>rating</th>\n",
       "    </tr>\n",
       "  </thead>\n",
       "  <tbody>\n",
       "    <tr>\n",
       "      <th>0</th>\n",
       "      <td>55f14312c7447c3da7051b2e</td>\n",
       "      <td>042 Restaurant &amp; Bar</td>\n",
       "      <td>3</td>\n",
       "    </tr>\n",
       "    <tr>\n",
       "      <th>1</th>\n",
       "      <td>55f14312c7447c3da7051b2d</td>\n",
       "      <td>042 Restaurant &amp; Bar</td>\n",
       "      <td>3</td>\n",
       "    </tr>\n",
       "    <tr>\n",
       "      <th>2</th>\n",
       "      <td>55f14312c7447c3da7051b2c</td>\n",
       "      <td>042 Restaurant &amp; Bar</td>\n",
       "      <td>3</td>\n",
       "    </tr>\n",
       "    <tr>\n",
       "      <th>3</th>\n",
       "      <td>55f14312c7447c3da7051cec</td>\n",
       "      <td>Al Dixi Fried Chicken &amp; Grill House</td>\n",
       "      <td>1</td>\n",
       "    </tr>\n",
       "    <tr>\n",
       "      <th>4</th>\n",
       "      <td>55f14312c7447c3da7051ceb</td>\n",
       "      <td>Al Dixi Fried Chicken &amp; Grill House</td>\n",
       "      <td>1</td>\n",
       "    </tr>\n",
       "  </tbody>\n",
       "</table>\n",
       "</div>"
      ],
      "text/plain": [
       "                        _id                                 name  rating\n",
       "0  55f14312c7447c3da7051b2e                 042 Restaurant & Bar       3\n",
       "1  55f14312c7447c3da7051b2d                 042 Restaurant & Bar       3\n",
       "2  55f14312c7447c3da7051b2c                 042 Restaurant & Bar       3\n",
       "3  55f14312c7447c3da7051cec  Al Dixi Fried Chicken & Grill House       1\n",
       "4  55f14312c7447c3da7051ceb  Al Dixi Fried Chicken & Grill House       1"
      ]
     },
     "execution_count": 137,
     "metadata": {},
     "output_type": "execute_result"
    }
   ],
   "source": [
    "df.head()"
   ]
  },
  {
   "cell_type": "code",
   "execution_count": 138,
   "metadata": {},
   "outputs": [
    {
     "data": {
      "text/plain": [
       "3    16\n",
       "1     5\n",
       "2     3\n",
       "Name: rating, dtype: int64"
      ]
     },
     "execution_count": 138,
     "metadata": {},
     "output_type": "execute_result"
    }
   ],
   "source": [
    "df.rating.value_counts()"
   ]
  },
  {
   "cell_type": "markdown",
   "metadata": {},
   "source": [
    "### `nin`"
   ]
  },
  {
   "cell_type": "markdown",
   "metadata": {},
   "source": [
    "Not in"
   ]
  },
  {
   "cell_type": "code",
   "execution_count": 139,
   "metadata": {},
   "outputs": [],
   "source": [
    "df = pd.DataFrame(c.find({\"rating\": {\"$nin\": [1, 2, 3]}}, {\"rating\": 1, \"name\": 1}))"
   ]
  },
  {
   "cell_type": "code",
   "execution_count": 140,
   "metadata": {},
   "outputs": [
    {
     "data": {
      "text/html": [
       "<div>\n",
       "<style scoped>\n",
       "    .dataframe tbody tr th:only-of-type {\n",
       "        vertical-align: middle;\n",
       "    }\n",
       "\n",
       "    .dataframe tbody tr th {\n",
       "        vertical-align: top;\n",
       "    }\n",
       "\n",
       "    .dataframe thead th {\n",
       "        text-align: right;\n",
       "    }\n",
       "</style>\n",
       "<table border=\"1\" class=\"dataframe\">\n",
       "  <thead>\n",
       "    <tr style=\"text-align: right;\">\n",
       "      <th></th>\n",
       "      <th>_id</th>\n",
       "      <th>name</th>\n",
       "      <th>rating</th>\n",
       "    </tr>\n",
       "  </thead>\n",
       "  <tbody>\n",
       "    <tr>\n",
       "      <th>0</th>\n",
       "      <td>55f14312c7447c3da7051b26</td>\n",
       "      <td>.CN Chinese</td>\n",
       "      <td>5</td>\n",
       "    </tr>\n",
       "    <tr>\n",
       "      <th>1</th>\n",
       "      <td>55f14312c7447c3da7051b27</td>\n",
       "      <td>@ Thai</td>\n",
       "      <td>5.5</td>\n",
       "    </tr>\n",
       "    <tr>\n",
       "      <th>2</th>\n",
       "      <td>55f14312c7447c3da7051b2f</td>\n",
       "      <td>1 2 3 Chinese</td>\n",
       "      <td>4.5</td>\n",
       "    </tr>\n",
       "    <tr>\n",
       "      <th>3</th>\n",
       "      <td>55f14312c7447c3da7051b31</td>\n",
       "      <td>100 Degrees Chinese Restaurant</td>\n",
       "      <td>5</td>\n",
       "    </tr>\n",
       "    <tr>\n",
       "      <th>4</th>\n",
       "      <td>55f14312c7447c3da7051b32</td>\n",
       "      <td>100 Menu</td>\n",
       "      <td>5</td>\n",
       "    </tr>\n",
       "  </tbody>\n",
       "</table>\n",
       "</div>"
      ],
      "text/plain": [
       "                        _id                            name rating\n",
       "0  55f14312c7447c3da7051b26                     .CN Chinese      5\n",
       "1  55f14312c7447c3da7051b27                          @ Thai    5.5\n",
       "2  55f14312c7447c3da7051b2f                   1 2 3 Chinese    4.5\n",
       "3  55f14312c7447c3da7051b31  100 Degrees Chinese Restaurant      5\n",
       "4  55f14312c7447c3da7051b32                        100 Menu      5"
      ]
     },
     "execution_count": 140,
     "metadata": {},
     "output_type": "execute_result"
    }
   ],
   "source": [
    "df.head()"
   ]
  },
  {
   "cell_type": "code",
   "execution_count": 141,
   "metadata": {},
   "outputs": [
    {
     "data": {
      "text/plain": [
       "5                1107\n",
       "5.5               600\n",
       "4.5               472\n",
       "4                 167\n",
       "Not yet rated      63\n",
       "3.5                51\n",
       "6                  49\n",
       "2.5                13\n",
       "1.5                 2\n",
       "Name: rating, dtype: int64"
      ]
     },
     "execution_count": 141,
     "metadata": {},
     "output_type": "execute_result"
    }
   ],
   "source": [
    "df.rating.value_counts()"
   ]
  },
  {
   "cell_type": "markdown",
   "metadata": {},
   "source": [
    "## Update"
   ]
  },
  {
   "cell_type": "code",
   "execution_count": 7,
   "metadata": {},
   "outputs": [],
   "source": [
    "c = collection"
   ]
  },
  {
   "cell_type": "code",
   "execution_count": 8,
   "metadata": {},
   "outputs": [
    {
     "data": {
      "text/plain": [
       "Collection(Database(MongoClient(host=['localhost:27017'], document_class=dict, tz_aware=False, connect=True), 'ironhack'), 'restaurants')"
      ]
     },
     "execution_count": 8,
     "metadata": {},
     "output_type": "execute_result"
    }
   ],
   "source": [
    "c"
   ]
  },
  {
   "cell_type": "code",
   "execution_count": 9,
   "metadata": {},
   "outputs": [
    {
     "data": {
      "text/plain": [
       "{'_id': ObjectId('55f14312c7447c3da7051b26'),\n",
       " 'URL': 'http://www.just-eat.co.uk/restaurants-cn-chinese-cardiff/menu',\n",
       " 'address': '228 City Road',\n",
       " 'address line 2': 'Cardiff',\n",
       " 'name': '.CN Chinese',\n",
       " 'outcode': 'CF24',\n",
       " 'postcode': '3JH',\n",
       " 'rating': 5,\n",
       " 'type_of_food': 'Chinese'}"
      ]
     },
     "execution_count": 9,
     "metadata": {},
     "output_type": "execute_result"
    }
   ],
   "source": [
    "c.find_one()"
   ]
  },
  {
   "cell_type": "code",
   "execution_count": 11,
   "metadata": {},
   "outputs": [
    {
     "data": {
      "text/plain": [
       "2548"
      ]
     },
     "execution_count": 11,
     "metadata": {},
     "output_type": "execute_result"
    }
   ],
   "source": [
    "c.count_documents({})"
   ]
  },
  {
   "cell_type": "markdown",
   "metadata": {},
   "source": [
    "Careful, this cannot be undone!!"
   ]
  },
  {
   "cell_type": "markdown",
   "metadata": {},
   "source": [
    "`c.update_many(condition, update)`"
   ]
  },
  {
   "cell_type": "markdown",
   "metadata": {},
   "source": [
    "`update` may `$set` a field value or `$unset` it"
   ]
  },
  {
   "cell_type": "code",
   "execution_count": 12,
   "metadata": {},
   "outputs": [
    {
     "data": {
      "text/plain": [
       "{'_id': ObjectId('55f14312c7447c3da7051cec'),\n",
       " 'URL': 'http://www.just-eat.co.uk/restaurants-aldixifriedchicken-b21/menu',\n",
       " 'address': '343 Soho Road',\n",
       " 'name': 'Al Dixi Fried Chicken & Grill House',\n",
       " 'outcode': 'B21',\n",
       " 'postcode': '9SE',\n",
       " 'rating': 1,\n",
       " 'type_of_food': 'Chicken'}"
      ]
     },
     "execution_count": 12,
     "metadata": {},
     "output_type": "execute_result"
    }
   ],
   "source": [
    "c.find_one({\"rating\": 1})"
   ]
  },
  {
   "cell_type": "code",
   "execution_count": 13,
   "metadata": {},
   "outputs": [
    {
     "data": {
      "text/plain": [
       "<pymongo.results.UpdateResult at 0x7ffb264aebc0>"
      ]
     },
     "execution_count": 13,
     "metadata": {},
     "output_type": "execute_result"
    }
   ],
   "source": [
    "c.update_many(\n",
    "    {\"rating\": 1}, \n",
    "    {\"$set\": {\"rating\": 0}}\n",
    ")"
   ]
  },
  {
   "cell_type": "code",
   "execution_count": 18,
   "metadata": {},
   "outputs": [],
   "source": [
    "c.find_one({\"rating\": 1})"
   ]
  },
  {
   "cell_type": "code",
   "execution_count": 19,
   "metadata": {},
   "outputs": [
    {
     "data": {
      "text/plain": [
       "<pymongo.results.UpdateResult at 0x7ffb253e4340>"
      ]
     },
     "execution_count": 19,
     "metadata": {},
     "output_type": "execute_result"
    }
   ],
   "source": [
    "c.update_many(\n",
    "    {\"rating\": 0}, \n",
    "    {\"$unset\": {\"type_of_food\": \"\"}}\n",
    ")"
   ]
  },
  {
   "cell_type": "code",
   "execution_count": 26,
   "metadata": {},
   "outputs": [
    {
     "data": {
      "text/plain": [
       "{'_id': ObjectId('55f14312c7447c3da7051cec'),\n",
       " 'URL': 'http://www.just-eat.co.uk/restaurants-aldixifriedchicken-b21/menu',\n",
       " 'address': '343 Soho Road',\n",
       " 'name': 'Al Dixi Fried Chicken & Grill House',\n",
       " 'outcode': 'B21',\n",
       " 'postcode': '9SE',\n",
       " 'rating': 0}"
      ]
     },
     "execution_count": 26,
     "metadata": {},
     "output_type": "execute_result"
    }
   ],
   "source": [
    "c.find_one({\"rating\": 0})"
   ]
  },
  {
   "cell_type": "markdown",
   "metadata": {},
   "source": [
    "## Delete"
   ]
  },
  {
   "cell_type": "markdown",
   "metadata": {},
   "source": [
    "`c.delete_many(condition)`"
   ]
  },
  {
   "cell_type": "code",
   "execution_count": 21,
   "metadata": {},
   "outputs": [
    {
     "data": {
      "text/plain": [
       "2548"
      ]
     },
     "execution_count": 21,
     "metadata": {},
     "output_type": "execute_result"
    }
   ],
   "source": [
    "c.count_documents({})"
   ]
  },
  {
   "cell_type": "code",
   "execution_count": 22,
   "metadata": {},
   "outputs": [
    {
     "data": {
      "text/plain": [
       "3"
      ]
     },
     "execution_count": 22,
     "metadata": {},
     "output_type": "execute_result"
    }
   ],
   "source": [
    "c.count_documents({\"rating\": 2})"
   ]
  },
  {
   "cell_type": "code",
   "execution_count": 23,
   "metadata": {},
   "outputs": [
    {
     "data": {
      "text/plain": [
       "<pymongo.results.DeleteResult at 0x7ffb253eb200>"
      ]
     },
     "execution_count": 23,
     "metadata": {},
     "output_type": "execute_result"
    }
   ],
   "source": [
    "c.delete_many({\"rating\": 2})"
   ]
  },
  {
   "cell_type": "code",
   "execution_count": 24,
   "metadata": {},
   "outputs": [
    {
     "data": {
      "text/plain": [
       "0"
      ]
     },
     "execution_count": 24,
     "metadata": {},
     "output_type": "execute_result"
    }
   ],
   "source": [
    "c.count_documents({\"rating\": 2})"
   ]
  },
  {
   "cell_type": "code",
   "execution_count": 25,
   "metadata": {},
   "outputs": [
    {
     "data": {
      "text/plain": [
       "2545"
      ]
     },
     "execution_count": 25,
     "metadata": {},
     "output_type": "execute_result"
    }
   ],
   "source": [
    "c.count_documents({})"
   ]
  },
  {
   "cell_type": "markdown",
   "metadata": {},
   "source": [
    "## Geoqueries"
   ]
  },
  {
   "cell_type": "markdown",
   "metadata": {},
   "source": [
    "With geoqueries we can answer questions like the following:\n",
    " * What country is this point in?\n",
    " * Where are the nearest pharmacies around my location?\n",
    " * Which restaurants are in this polygonal region?"
   ]
  },
  {
   "cell_type": "markdown",
   "metadata": {},
   "source": [
    "Every point in Earth is characterised by two numbers:\n",
    " * longitude: angle from Greenwich meridian. Ranges from -180° (antiGreenwich) to +180° (also antiGreenwich)\n",
    " * latitude: angle from the equator. Ranges from -90° (south) to +90° (north)"
   ]
  },
  {
   "cell_type": "markdown",
   "metadata": {},
   "source": [
    "<img src=\"./mongo_images/latlon.gif\" width=700>"
   ]
  },
  {
   "cell_type": "markdown",
   "metadata": {},
   "source": [
    "lon, lat coordinates of some points:\n",
    " * Madrid: -3.70, 40.41\n",
    " * Greenwich: 0, 51.47\n",
    " * Quito (Ecuador): -78.50, -0.21"
   ]
  },
  {
   "cell_type": "markdown",
   "metadata": {},
   "source": [
    "### Import collections"
   ]
  },
  {
   "cell_type": "markdown",
   "metadata": {},
   "source": [
    "I follow Mongo official documentation: [Mongo Geo Example](https://docs.mongodb.com/manual/tutorial/geospatial-tutorial/)"
   ]
  },
  {
   "cell_type": "markdown",
   "metadata": {},
   "source": [
    "NOTE: images are only qualitative explanations of queries, not real responses of queries"
   ]
  },
  {
   "cell_type": "markdown",
   "metadata": {},
   "source": [
    "Lets import 2 collections:\n",
    " * `restaurants2`\n",
    " * `neighborhoods`"
   ]
  },
  {
   "cell_type": "code",
   "execution_count": 27,
   "metadata": {},
   "outputs": [
    {
     "data": {
      "text/plain": [
       "['restaurants',\n",
       " 'books',\n",
       " 'companies',\n",
       " 'countries_small',\n",
       " 'neighborhoods',\n",
       " 'restaurants2']"
      ]
     },
     "execution_count": 27,
     "metadata": {},
     "output_type": "execute_result"
    }
   ],
   "source": [
    "db.list_collection_names()"
   ]
  },
  {
   "cell_type": "code",
   "execution_count": 28,
   "metadata": {},
   "outputs": [],
   "source": [
    "restaurants2 = db.get_collection(\"restaurants2\")"
   ]
  },
  {
   "cell_type": "markdown",
   "metadata": {},
   "source": [
    "Geoqueries can be done on fields with special structure"
   ]
  },
  {
   "cell_type": "code",
   "execution_count": 29,
   "metadata": {},
   "outputs": [
    {
     "data": {
      "text/plain": [
       "25359"
      ]
     },
     "execution_count": 29,
     "metadata": {},
     "output_type": "execute_result"
    }
   ],
   "source": [
    "restaurants2.count_documents({})"
   ]
  },
  {
   "cell_type": "code",
   "execution_count": 30,
   "metadata": {},
   "outputs": [
    {
     "data": {
      "text/plain": [
       "{'_id': ObjectId('55cba2476c522cafdb053ae8'),\n",
       " 'location': {'coordinates': [-73.9973325, 40.61174889999999],\n",
       "  'type': 'Point'},\n",
       " 'name': 'C & C Catering Service'}"
      ]
     },
     "execution_count": 30,
     "metadata": {},
     "output_type": "execute_result"
    }
   ],
   "source": [
    "restaurants2.find_one()"
   ]
  },
  {
   "cell_type": "markdown",
   "metadata": {},
   "source": [
    "<img src=\"./mongo_images/restaurant.png\" width=300>"
   ]
  },
  {
   "cell_type": "code",
   "execution_count": 31,
   "metadata": {},
   "outputs": [
    {
     "data": {
      "text/plain": [
       "dict_keys(['_id', 'location', 'name'])"
      ]
     },
     "execution_count": 31,
     "metadata": {},
     "output_type": "execute_result"
    }
   ],
   "source": [
    "restaurants2.find_one().keys()"
   ]
  },
  {
   "cell_type": "code",
   "execution_count": 32,
   "metadata": {},
   "outputs": [],
   "source": [
    "neig = db.get_collection(\"neighborhoods\")"
   ]
  },
  {
   "cell_type": "code",
   "execution_count": 33,
   "metadata": {},
   "outputs": [
    {
     "data": {
      "text/plain": [
       "195"
      ]
     },
     "execution_count": 33,
     "metadata": {},
     "output_type": "execute_result"
    }
   ],
   "source": [
    "neig.count_documents({})"
   ]
  },
  {
   "cell_type": "code",
   "execution_count": 34,
   "metadata": {
    "collapsed": true
   },
   "outputs": [
    {
     "data": {
      "text/plain": [
       "{'_id': ObjectId('55cb9c666c522cafdb053a1b'),\n",
       " 'geometry': {'coordinates': [[[-73.94732672160579, 40.62916656720943],\n",
       "    [-73.94687439946738, 40.626773668128486],\n",
       "    [-73.94642266064318, 40.6243855672864],\n",
       "    [-73.94542442897408, 40.624495609598185],\n",
       "    [-73.94497031348948, 40.622104512937604],\n",
       "    [-73.94451833370498, 40.61971364709504],\n",
       "    [-73.94551663574785, 40.6196056119517],\n",
       "    [-73.94651373193828, 40.61949401914993],\n",
       "    [-73.9460669961243, 40.61710373918014],\n",
       "    [-73.94576359491893, 40.61550406422122],\n",
       "    [-73.94573691912028, 40.61536340675661],\n",
       "    [-73.94657366828137, 40.61478913113749],\n",
       "    [-73.94742608780807, 40.61422460055365],\n",
       "    [-73.94772682569696, 40.614169716182865],\n",
       "    [-73.94834517370118, 40.61413649663159],\n",
       "    [-73.94930527478495, 40.614030734516],\n",
       "    [-73.95026514882962, 40.613924351797365],\n",
       "    [-73.94999598103774, 40.612491461663225],\n",
       "    [-73.94996296695325, 40.61231572784935],\n",
       "    [-73.94993049319106, 40.612144650893164],\n",
       "    [-73.94978380450677, 40.61137175047764],\n",
       "    [-73.95070512926118, 40.611250452224034],\n",
       "    [-73.9516323504994, 40.6111235398617],\n",
       "    [-73.95256553090685, 40.610987184733915],\n",
       "    [-73.95258786948972, 40.61111223958901],\n",
       "    [-73.95359888852907, 40.610949865606365],\n",
       "    [-73.95479552710023, 40.610820765652555],\n",
       "    [-73.95574066989145, 40.61071482745617],\n",
       "    [-73.95670471406346, 40.61061187782888],\n",
       "    [-73.95766801379433, 40.61050371521895],\n",
       "    [-73.95804731927223, 40.610462762444214],\n",
       "    [-73.95859278495767, 40.610403030935025],\n",
       "    [-73.95952069567825, 40.610302052836765],\n",
       "    [-73.96044361881539, 40.61020150680253],\n",
       "    [-73.96137268313583, 40.610098874711596],\n",
       "    [-73.96237947824763, 40.6099863745258],\n",
       "    [-73.96285973961454, 40.61254948646701],\n",
       "    [-73.9633609402326, 40.615204428336156],\n",
       "    [-73.96356470625155, 40.61623872246746],\n",
       "    [-73.9636224555516, 40.61658973720417],\n",
       "    [-73.96375418658924, 40.61730243354293],\n",
       "    [-73.96381145170662, 40.61758940154457],\n",
       "    [-73.96388935578909, 40.61800054988432],\n",
       "    [-73.96426798339394, 40.61998380328535],\n",
       "    [-73.96471983385584, 40.6223729607027],\n",
       "    [-73.9657187461846, 40.6222640294643],\n",
       "    [-73.96664515713734, 40.622162237424746],\n",
       "    [-73.96757137736036, 40.62206027486021],\n",
       "    [-73.96864510622689, 40.621941695814826],\n",
       "    [-73.96909724465462, 40.62433282513798],\n",
       "    [-73.97019276977215, 40.62420324997415],\n",
       "    [-73.97047171931135, 40.62417003048162],\n",
       "    [-73.97080408232925, 40.6259326665903],\n",
       "    [-73.97086150876679, 40.626237183335725],\n",
       "    [-73.97092126268777, 40.626569985505505],\n",
       "    [-73.97111421951182, 40.627585883684475],\n",
       "    [-73.97120750524212, 40.62808971219772],\n",
       "    [-73.97136622157025, 40.628929162715856],\n",
       "    [-73.97109232328961, 40.62896614062419],\n",
       "    [-73.9700010976348, 40.62911347375596],\n",
       "    [-73.96892915890123, 40.62923162562474],\n",
       "    [-73.96800084402989, 40.62933305821514],\n",
       "    [-73.96707656865328, 40.62943468164793],\n",
       "    [-73.96608191359866, 40.62954270682626],\n",
       "    [-73.96508072828942, 40.629654675594836],\n",
       "    [-73.96414862835245, 40.62973896556123],\n",
       "    [-73.96322149343028, 40.62984106103682],\n",
       "    [-73.9623259936459, 40.62996871673756],\n",
       "    [-73.96197454283188, 40.62999504108035],\n",
       "    [-73.96182099849077, 40.63000487740179],\n",
       "    [-73.96163639940383, 40.63002222301838],\n",
       "    [-73.96136921593188, 40.630058388262405],\n",
       "    [-73.96046280639705, 40.630155661219426],\n",
       "    [-73.96040734342054, 40.630162530576236],\n",
       "    [-73.9602585501078, 40.62941826256536],\n",
       "    [-73.96024902920536, 40.62937062183239],\n",
       "    [-73.96022560057911, 40.62925450129709],\n",
       "    [-73.96014773493862, 40.62891518541703],\n",
       "    [-73.95995565121835, 40.627778672540586],\n",
       "    [-73.95899416297213, 40.62788559454311],\n",
       "    [-73.95805293146621, 40.627971118631955],\n",
       "    [-73.95684697280593, 40.62811987905402],\n",
       "    [-73.95581207194951, 40.62823349190697],\n",
       "    [-73.95488499156933, 40.6283355483374],\n",
       "    [-73.95395983418409, 40.62843938961405],\n",
       "    [-73.95303133100138, 40.62854011509266],\n",
       "    [-73.95206901809604, 40.628645781014725],\n",
       "    [-73.95110641920337, 40.628750467094505],\n",
       "    [-73.95017656950532, 40.62885277202806],\n",
       "    [-73.94925229833629, 40.628954765326526],\n",
       "    [-73.94832386196275, 40.62905666053273],\n",
       "    [-73.94732672160579, 40.62916656720943]]],\n",
       "  'type': 'Polygon'},\n",
       " 'name': 'Midwood'}"
      ]
     },
     "execution_count": 34,
     "metadata": {},
     "output_type": "execute_result"
    }
   ],
   "source": [
    "neig.find_one()"
   ]
  },
  {
   "cell_type": "markdown",
   "metadata": {},
   "source": [
    "<img src=\"./mongo_images/neighborhood.png\" width=300>"
   ]
  },
  {
   "cell_type": "code",
   "execution_count": 35,
   "metadata": {},
   "outputs": [
    {
     "data": {
      "text/plain": [
       "dict_keys(['_id', 'geometry', 'name'])"
      ]
     },
     "execution_count": 35,
     "metadata": {},
     "output_type": "execute_result"
    }
   ],
   "source": [
    "neig.find_one().keys()"
   ]
  },
  {
   "cell_type": "markdown",
   "metadata": {},
   "source": [
    "### Create geo indexes"
   ]
  },
  {
   "cell_type": "markdown",
   "metadata": {},
   "source": [
    "MongoDB’s geospatial indexing allows you to   \n",
    "efficiently execute **spatial queries** on a collection that contains geospatial shapes and points"
   ]
  },
  {
   "cell_type": "markdown",
   "metadata": {},
   "source": [
    "Lets create geo index to let Mongo know we want to do geoqueries on these collection.  \n",
    "This should only be done ONCE, and now Mongo collection is correctly indexed forever."
   ]
  },
  {
   "cell_type": "code",
   "execution_count": 36,
   "metadata": {},
   "outputs": [],
   "source": [
    "from pymongo import GEOSPHERE"
   ]
  },
  {
   "cell_type": "code",
   "execution_count": 37,
   "metadata": {},
   "outputs": [
    {
     "data": {
      "text/plain": [
       "'location_2dsphere'"
      ]
     },
     "execution_count": 37,
     "metadata": {},
     "output_type": "execute_result"
    }
   ],
   "source": [
    "restaurants2.create_index([(\"location\", GEOSPHERE)])"
   ]
  },
  {
   "cell_type": "code",
   "execution_count": 38,
   "metadata": {},
   "outputs": [
    {
     "data": {
      "text/plain": [
       "'geometry_2dsphere'"
      ]
     },
     "execution_count": 38,
     "metadata": {},
     "output_type": "execute_result"
    }
   ],
   "source": [
    "neig.create_index([(\"geometry\", GEOSPHERE)])"
   ]
  },
  {
   "cell_type": "markdown",
   "metadata": {},
   "source": [
    "### Geometries"
   ]
  },
  {
   "cell_type": "markdown",
   "metadata": {},
   "source": [
    "Geoqueries can be done on fields with special structure. These have\n",
    " * type\n",
    " * coordinates"
   ]
  },
  {
   "cell_type": "markdown",
   "metadata": {},
   "source": [
    " * Point: `{ type: \"Point\", coordinates: [ 40, 5 ] }`\n",
    "\n",
    " * LineString `{ type: \"LineString\", coordinates: [ [ 40, 5 ], [ 41, 6 ] ] }`\n",
    "\n",
    " * Polygon: `{type: \"Polygon\", coordinates: [ [ [ 0 , 0 ] , [ 3 , 6 ] , [ 6 , 1 ] , [ 0 , 0  ] ] ]}`\n",
    "\n",
    " * MultiPoint\n",
    " * MultiLineString\n",
    " * MultiPolygon\n",
    " * GeometryCollection"
   ]
  },
  {
   "cell_type": "markdown",
   "metadata": {},
   "source": [
    "### Run geoqueries"
   ]
  },
  {
   "cell_type": "markdown",
   "metadata": {},
   "source": [
    "#### `geoIntersects`"
   ]
  },
  {
   "cell_type": "markdown",
   "metadata": {},
   "source": [
    "What elements **intersect** the given element?"
   ]
  },
  {
   "cell_type": "markdown",
   "metadata": {},
   "source": [
    "Example: Which neighborhood am I at?"
   ]
  },
  {
   "cell_type": "code",
   "execution_count": 43,
   "metadata": {},
   "outputs": [],
   "source": [
    "# lon lat\n",
    "my_coords = [-73.93, 40.82]"
   ]
  },
  {
   "cell_type": "code",
   "execution_count": 44,
   "metadata": {},
   "outputs": [],
   "source": [
    "my_location = {\"type\": \"Point\", \"coordinates\": my_coords}"
   ]
  },
  {
   "cell_type": "code",
   "execution_count": 46,
   "metadata": {},
   "outputs": [
    {
     "data": {
      "text/plain": [
       "{'type': 'Point', 'coordinates': [-73.93, 40.82]}"
      ]
     },
     "execution_count": 46,
     "metadata": {},
     "output_type": "execute_result"
    }
   ],
   "source": [
    "my_location"
   ]
  },
  {
   "cell_type": "code",
   "execution_count": 50,
   "metadata": {},
   "outputs": [
    {
     "data": {
      "text/plain": [
       "dict_keys(['_id', 'geometry', 'name'])"
      ]
     },
     "execution_count": 50,
     "metadata": {},
     "output_type": "execute_result"
    }
   ],
   "source": [
    "neig.find_one().keys()"
   ]
  },
  {
   "cell_type": "code",
   "execution_count": 49,
   "metadata": {},
   "outputs": [
    {
     "data": {
      "text/plain": [
       "{'_id': ObjectId('55cb9c666c522cafdb053ad7'), 'name': 'West Concourse'}"
      ]
     },
     "execution_count": 49,
     "metadata": {},
     "output_type": "execute_result"
    }
   ],
   "source": [
    "neig.find_one(\n",
    "    {\"geometry\": {\"$geoIntersects\": {\"$geometry\": my_location}}},\n",
    "    {\"name\": 1}\n",
    ")"
   ]
  },
  {
   "cell_type": "markdown",
   "metadata": {},
   "source": [
    "#### `geoWithin`"
   ]
  },
  {
   "cell_type": "markdown",
   "metadata": {},
   "source": [
    "What elements are **fully contained** in the given element?"
   ]
  },
  {
   "cell_type": "markdown",
   "metadata": {},
   "source": [
    "What restaurants are within this neighborhood (polygon)?"
   ]
  },
  {
   "cell_type": "code",
   "execution_count": 51,
   "metadata": {},
   "outputs": [],
   "source": [
    "my_neighborhood = neig.find_one({\"name\": \"West Concourse\"})"
   ]
  },
  {
   "cell_type": "code",
   "execution_count": 52,
   "metadata": {
    "collapsed": true
   },
   "outputs": [
    {
     "data": {
      "text/plain": [
       "{'_id': ObjectId('55cb9c666c522cafdb053ad7'),\n",
       " 'geometry': {'coordinates': [[[-73.9119181232027, 40.84325788668494],\n",
       "    [-73.91193751545497, 40.8432023881495],\n",
       "    [-73.91198635358056, 40.8430570985903],\n",
       "    [-73.91222180466812, 40.84235659170305],\n",
       "    [-73.91240381713898, 40.84181649660891],\n",
       "    [-73.9124693026202, 40.84162025788497],\n",
       "    [-73.912622562266, 40.84115715928252],\n",
       "    [-73.91269769187517, 40.840930129302],\n",
       "    [-73.91277823096088, 40.84069106459224],\n",
       "    [-73.91296000948248, 40.84019622853956],\n",
       "    [-73.91313156280927, 40.83981054063787],\n",
       "    [-73.91371372660576, 40.83880893480722],\n",
       "    [-73.9137710497447, 40.83872164816365],\n",
       "    [-73.91383125912098, 40.83863904543585],\n",
       "    [-73.91423754080527, 40.83810879565884],\n",
       "    [-73.91477300591417, 40.83751410136212],\n",
       "    [-73.91531596675125, 40.836947423544245],\n",
       "    [-73.91587067532251, 40.83639359424309],\n",
       "    [-73.91647433404417, 40.8357790308964],\n",
       "    [-73.91667316872477, 40.83556740537283],\n",
       "    [-73.91720735744599, 40.83502151443556],\n",
       "    [-73.91764388517001, 40.83457540712532],\n",
       "    [-73.91767974796211, 40.83453875570219],\n",
       "    [-73.91770299120152, 40.83451500851327],\n",
       "    [-73.91773114976955, 40.834486230563215],\n",
       "    [-73.91778665830896, 40.83442951168558],\n",
       "    [-73.91839346704676, 40.83380941190165],\n",
       "    [-73.91903136636114, 40.83308734929172],\n",
       "    [-73.91949947117881, 40.83247949245444],\n",
       "    [-73.91986089323623, 40.83194722683389],\n",
       "    [-73.92046112158827, 40.83091482026156],\n",
       "    [-73.92117830200499, 40.829629445753916],\n",
       "    [-73.92140512872537, 40.829220042498775],\n",
       "    [-73.92174660211639, 40.82860240909049],\n",
       "    [-73.92183738083997, 40.82843621116791],\n",
       "    [-73.92211960684489, 40.827925876329516],\n",
       "    [-73.9222339605008, 40.8277194257141],\n",
       "    [-73.92240525979597, 40.827411308390126],\n",
       "    [-73.92264951582567, 40.82697240958067],\n",
       "    [-73.92267670957412, 40.8268499959615],\n",
       "    [-73.92273725149701, 40.82671825013152],\n",
       "    [-73.92283308023278, 40.826507102326325],\n",
       "    [-73.9229413884365, 40.82629934977829],\n",
       "    [-73.92306184139831, 40.826095611398735],\n",
       "    [-73.92347379160215, 40.82541322020579],\n",
       "    [-73.9243131010052, 40.823994097265704],\n",
       "    [-73.92437413454698, 40.82382068320316],\n",
       "    [-73.92442266317119, 40.823644866484145],\n",
       "    [-73.9244584759199, 40.82346742915679],\n",
       "    [-73.92456530144653, 40.82314545479423],\n",
       "    [-73.92469079493719, 40.8228267160118],\n",
       "    [-73.92483467742107, 40.82251216795841],\n",
       "    [-73.92499654873183, 40.822202701032424],\n",
       "    [-73.92517593177352, 40.821899197367486],\n",
       "    [-73.92537221939044, 40.82160252007776],\n",
       "    [-73.92573567239674, 40.82117423556581],\n",
       "    [-73.92565452967143, 40.821125232837424],\n",
       "    [-73.9261040409398, 40.82074597112386],\n",
       "    [-73.92628127008248, 40.82053716044143],\n",
       "    [-73.9263434565365, 40.820578551554796],\n",
       "    [-73.9266246629199, 40.820026393522205],\n",
       "    [-73.92687781612841, 40.81947887196945],\n",
       "    [-73.92731653132658, 40.81855963432497],\n",
       "    [-73.92775576006353, 40.81757238095781],\n",
       "    [-73.9282169895564, 40.8165356467124],\n",
       "    [-73.92885642118691, 40.814879866978735],\n",
       "    [-73.92896567468652, 40.81482825554786],\n",
       "    [-73.92919204509968, 40.81449601178126],\n",
       "    [-73.92921297954413, 40.814381957871625],\n",
       "    [-73.93027812597025, 40.8132480251525],\n",
       "    [-73.93039605125462, 40.813303747384545],\n",
       "    [-73.93056964973516, 40.81337329834502],\n",
       "    [-73.93104478823344, 40.81358844257695],\n",
       "    [-73.93115852284062, 40.813635489109416],\n",
       "    [-73.93123600492459, 40.81366672858036],\n",
       "    [-73.93130722793359, 40.81369873940604],\n",
       "    [-73.93139319413105, 40.81374459832944],\n",
       "    [-73.93222960529138, 40.81409433302953],\n",
       "    [-73.9323675252939, 40.81411173152629],\n",
       "    [-73.93242631935765, 40.81411751895876],\n",
       "    [-73.93242307595013, 40.81415171517561],\n",
       "    [-73.9324176727652, 40.81420870619076],\n",
       "    [-73.93237568818532, 40.814651574802504],\n",
       "    [-73.93236564182574, 40.815032965377256],\n",
       "    [-73.93236209265766, 40.81534211832816],\n",
       "    [-73.9323406284524, 40.81721181980201],\n",
       "    [-73.93233582201995, 40.81763040538414],\n",
       "    [-73.93238745042837, 40.81942438714821],\n",
       "    [-73.93238847621996, 40.81946002788748],\n",
       "    [-73.93238971258873, 40.819502847336366],\n",
       "    [-73.9323818170235, 40.81955319684325],\n",
       "    [-73.93237498504206, 40.81959069718469],\n",
       "    [-73.93242874671114, 40.82044714079743],\n",
       "    [-73.9324592381418, 40.82112061214067],\n",
       "    [-73.93246603585041, 40.82157743497616],\n",
       "    [-73.9325118082298, 40.82213881642001],\n",
       "    [-73.9325488351215, 40.82259921675249],\n",
       "    [-73.9325786278701, 40.82304071104585],\n",
       "    [-73.93261139068628, 40.82348761957566],\n",
       "    [-73.93266867628321, 40.82407835088293],\n",
       "    [-73.93270505561188, 40.824559724000025],\n",
       "    [-73.93272841961671, 40.82491254295722],\n",
       "    [-73.93273054155667, 40.82498434775109],\n",
       "    [-73.93273843975147, 40.825125510933965],\n",
       "    [-73.93274693841836, 40.82521678307603],\n",
       "    [-73.93275761662522, 40.82532227041261],\n",
       "    [-73.93276594581165, 40.82545822718498],\n",
       "    [-73.9328195398225, 40.82560989294215],\n",
       "    [-73.93295940373588, 40.82692344776957],\n",
       "    [-73.93298275069633, 40.8272244067461],\n",
       "    [-73.93300760500095, 40.827535713706574],\n",
       "    [-73.93305881749963, 40.82808624381212],\n",
       "    [-73.93307251134269, 40.82815615253916],\n",
       "    [-73.93303721920051, 40.82815984622892],\n",
       "    [-73.9329419094136, 40.82816770602616],\n",
       "    [-73.93250790040793, 40.8282003932725],\n",
       "    [-73.9320887359559, 40.82823274504144],\n",
       "    [-73.9314663106977, 40.82828175975019],\n",
       "    [-73.9312619917931, 40.82829117445602],\n",
       "    [-73.9311997816495, 40.82829838662962],\n",
       "    [-73.9311413190791, 40.828303808834406],\n",
       "    [-73.93095939346625, 40.82833708946191],\n",
       "    [-73.93064968086094, 40.8284170300768],\n",
       "    [-73.93033933073404, 40.828495554900606],\n",
       "    [-73.93003491555126, 40.828587590293566],\n",
       "    [-73.92973793000913, 40.828692722925716],\n",
       "    [-73.92944983434667, 40.82881040443565],\n",
       "    [-73.92917196788754, 40.828939959249546],\n",
       "    [-73.92889437057697, 40.82910412872714],\n",
       "    [-73.92875620577718, 40.82918583541993],\n",
       "    [-73.92861034504666, 40.829280909960715],\n",
       "    [-73.92850073922968, 40.829352349549545],\n",
       "    [-73.92825730169295, 40.82953051485753],\n",
       "    [-73.92802724926965, 40.82971953937386],\n",
       "    [-73.92781189597189, 40.8299184322576],\n",
       "    [-73.92781180192048, 40.82991852165659],\n",
       "    [-73.92781170719728, 40.829918620436494],\n",
       "    [-73.92761206305859, 40.83012648263088],\n",
       "    [-73.92755002760882, 40.830199591385245],\n",
       "    [-73.92742893579377, 40.830342315109],\n",
       "    [-73.92726316739049, 40.83056486690746],\n",
       "    [-73.92680587104836, 40.83103556710018],\n",
       "    [-73.92642499687013, 40.83142092136254],\n",
       "    [-73.92537539997478, 40.832628095503935],\n",
       "    [-73.92502940407249, 40.83327247965225],\n",
       "    [-73.9243935514445, 40.83448402761537],\n",
       "    [-73.92414918400185, 40.83482856678298],\n",
       "    [-73.92399049458308, 40.83505229808235],\n",
       "    [-73.9234001635073, 40.835432763129496],\n",
       "    [-73.92237223170042, 40.83610874281442],\n",
       "    [-73.92188289384463, 40.836425701695696],\n",
       "    [-73.92071597910987, 40.83719846393609],\n",
       "    [-73.92036502955962, 40.83742570651713],\n",
       "    [-73.92001799496576, 40.83765612866592],\n",
       "    [-73.91969685318126, 40.837873796611866],\n",
       "    [-73.91938459876796, 40.83807691355351],\n",
       "    [-73.919308633117, 40.83812632285715],\n",
       "    [-73.91916265280031, 40.8382537124898],\n",
       "    [-73.91901668362601, 40.83838109306436],\n",
       "    [-73.91859196117721, 40.838982089916435],\n",
       "    [-73.91813727496489, 40.83960685394311],\n",
       "    [-73.91768361901806, 40.84022549553236],\n",
       "    [-73.91729851615047, 40.84076611836703],\n",
       "    [-73.91689176238296, 40.84134725765404],\n",
       "    [-73.91618344432072, 40.84233490025411],\n",
       "    [-73.9176874591774, 40.84223933337094],\n",
       "    [-73.9179496521323, 40.842229570607664],\n",
       "    [-73.91798075212289, 40.84266741383508],\n",
       "    [-73.91798848487386, 40.84274888243142],\n",
       "    [-73.91798774708766, 40.842830560480756],\n",
       "    [-73.9179785433141, 40.842911940843706],\n",
       "    [-73.91796093066874, 40.84299251822736],\n",
       "    [-73.91793501943181, 40.8430717917789],\n",
       "    [-73.91790096963275, 40.84314926989942],\n",
       "    [-73.9178589926584, 40.84322447152821],\n",
       "    [-73.91780934911789, 40.84329692973753],\n",
       "    [-73.91771300737066, 40.84338727828718],\n",
       "    [-73.91762848486141, 40.84348670593471],\n",
       "    [-73.91755786158762, 40.84359380230248],\n",
       "    [-73.9175028202603, 40.84370681916906],\n",
       "    [-73.9174644972856, 40.84382376082201],\n",
       "    [-73.91744344449876, 40.843942460921255],\n",
       "    [-73.9174395704655, 40.844060768238876],\n",
       "    [-73.91745219816346, 40.84417663029439],\n",
       "    [-73.91747944058937, 40.844252294894744],\n",
       "    [-73.91749951163763, 40.8443292416839],\n",
       "    [-73.91751230917487, 40.844407079206995],\n",
       "    [-73.91751776806977, 40.84448541147633],\n",
       "    [-73.91751586052497, 40.844563839985916],\n",
       "    [-73.91750659638652, 40.844641965723525],\n",
       "    [-73.91749002264596, 40.84471939126177],\n",
       "    [-73.91746622359452, 40.84479572270911],\n",
       "    [-73.91743532028235, 40.84487057173869],\n",
       "    [-73.91739746990314, 40.84494355756399],\n",
       "    [-73.91732494810422, 40.84505748284645],\n",
       "    [-73.91728719351066, 40.84510408615947],\n",
       "    [-73.91697152437618, 40.84511524612652],\n",
       "    [-73.91684309376478, 40.845070778771365],\n",
       "    [-73.91611927084668, 40.84485579307131],\n",
       "    [-73.91586647842479, 40.84479392557939],\n",
       "    [-73.91474419406394, 40.84434250389376],\n",
       "    [-73.91385799418651, 40.84397879417009],\n",
       "    [-73.9130287694552, 40.84364162182673],\n",
       "    [-73.9129380323358, 40.84359755511597],\n",
       "    [-73.91211222171964, 40.84326034254618],\n",
       "    [-73.9119181232027, 40.84325788668494]]],\n",
       "  'type': 'Polygon'},\n",
       " 'name': 'West Concourse'}"
      ]
     },
     "execution_count": 52,
     "metadata": {},
     "output_type": "execute_result"
    }
   ],
   "source": [
    "my_neighborhood"
   ]
  },
  {
   "cell_type": "code",
   "execution_count": 54,
   "metadata": {},
   "outputs": [
    {
     "data": {
      "text/plain": [
       "dict"
      ]
     },
     "execution_count": 54,
     "metadata": {},
     "output_type": "execute_result"
    }
   ],
   "source": [
    "type(my_neighborhood)"
   ]
  },
  {
   "cell_type": "code",
   "execution_count": 55,
   "metadata": {},
   "outputs": [
    {
     "data": {
      "text/plain": [
       "dict_keys(['_id', 'geometry', 'name'])"
      ]
     },
     "execution_count": 55,
     "metadata": {},
     "output_type": "execute_result"
    }
   ],
   "source": [
    "my_neighborhood.keys()"
   ]
  },
  {
   "cell_type": "code",
   "execution_count": 59,
   "metadata": {},
   "outputs": [
    {
     "data": {
      "text/plain": [
       "dict_keys(['coordinates', 'type'])"
      ]
     },
     "execution_count": 59,
     "metadata": {},
     "output_type": "execute_result"
    }
   ],
   "source": [
    "my_neighborhood.get(\"geometry\").keys()"
   ]
  },
  {
   "cell_type": "code",
   "execution_count": 57,
   "metadata": {},
   "outputs": [],
   "source": [
    "import pandas as pd"
   ]
  },
  {
   "cell_type": "code",
   "execution_count": 58,
   "metadata": {},
   "outputs": [
    {
     "data": {
      "text/plain": [
       "dict_keys(['_id', 'location', 'name'])"
      ]
     },
     "execution_count": 58,
     "metadata": {},
     "output_type": "execute_result"
    }
   ],
   "source": [
    "restaurants2.find_one().keys()"
   ]
  },
  {
   "cell_type": "code",
   "execution_count": 60,
   "metadata": {},
   "outputs": [
    {
     "data": {
      "text/html": [
       "<div>\n",
       "<style scoped>\n",
       "    .dataframe tbody tr th:only-of-type {\n",
       "        vertical-align: middle;\n",
       "    }\n",
       "\n",
       "    .dataframe tbody tr th {\n",
       "        vertical-align: top;\n",
       "    }\n",
       "\n",
       "    .dataframe thead th {\n",
       "        text-align: right;\n",
       "    }\n",
       "</style>\n",
       "<table border=\"1\" class=\"dataframe\">\n",
       "  <thead>\n",
       "    <tr style=\"text-align: right;\">\n",
       "      <th></th>\n",
       "      <th>_id</th>\n",
       "      <th>location</th>\n",
       "      <th>name</th>\n",
       "    </tr>\n",
       "  </thead>\n",
       "  <tbody>\n",
       "    <tr>\n",
       "      <th>0</th>\n",
       "      <td>55cba2476c522cafdb056004</td>\n",
       "      <td>{'coordinates': [-73.9259201, 40.8278293], 'ty...</td>\n",
       "      <td>Hard Rock Cafe</td>\n",
       "    </tr>\n",
       "    <tr>\n",
       "      <th>1</th>\n",
       "      <td>55cba2476c522cafdb056005</td>\n",
       "      <td>{'coordinates': [-73.9259201, 40.8278293], 'ty...</td>\n",
       "      <td>Nyy Steak</td>\n",
       "    </tr>\n",
       "    <tr>\n",
       "      <th>2</th>\n",
       "      <td>55cba2476c522cafdb058ae9</td>\n",
       "      <td>{'coordinates': [-73.9259245, 40.827435], 'typ...</td>\n",
       "      <td>Dunkin Donuts</td>\n",
       "    </tr>\n",
       "    <tr>\n",
       "      <th>3</th>\n",
       "      <td>55cba2476c522cafdb0543cb</td>\n",
       "      <td>{'coordinates': [-73.92594439999999, 40.827212...</td>\n",
       "      <td>Billy'S Sport Bar Restaurant &amp; Lounge</td>\n",
       "    </tr>\n",
       "    <tr>\n",
       "      <th>4</th>\n",
       "      <td>55cba2476c522cafdb056784</td>\n",
       "      <td>{'coordinates': [-73.9262845, 40.8266956999999...</td>\n",
       "      <td>Stan'S Sports Bar</td>\n",
       "    </tr>\n",
       "    <tr>\n",
       "      <th>...</th>\n",
       "      <td>...</td>\n",
       "      <td>...</td>\n",
       "      <td>...</td>\n",
       "    </tr>\n",
       "    <tr>\n",
       "      <th>120</th>\n",
       "      <td>55cba2476c522cafdb0578b3</td>\n",
       "      <td>{'coordinates': [-73.93011659999999, 40.821940...</td>\n",
       "      <td>Marisco Centro Seafood Restaurant  &amp; Bar</td>\n",
       "    </tr>\n",
       "    <tr>\n",
       "      <th>121</th>\n",
       "      <td>55cba2476c522cafdb058c83</td>\n",
       "      <td>{'coordinates': [-73.9316894, 40.8231974], 'ty...</td>\n",
       "      <td>Gotham Stadium Tennis Center Cafe</td>\n",
       "    </tr>\n",
       "    <tr>\n",
       "      <th>122</th>\n",
       "      <td>55cba2476c522cafdb058c63</td>\n",
       "      <td>{'coordinates': [-73.9303724, 40.8234978], 'ty...</td>\n",
       "      <td>Chuck E. Cheese'S</td>\n",
       "    </tr>\n",
       "    <tr>\n",
       "      <th>123</th>\n",
       "      <td>55cba2476c522cafdb056b96</td>\n",
       "      <td>{'coordinates': [-73.9308109, 40.8259458000000...</td>\n",
       "      <td>Dunkin Donuts (Inside Gulf Gas Station On Nort...</td>\n",
       "    </tr>\n",
       "    <tr>\n",
       "      <th>124</th>\n",
       "      <td>55cba2476c522cafdb056b6f</td>\n",
       "      <td>{'coordinates': [-73.93032130000002, 40.819383...</td>\n",
       "      <td>Subway</td>\n",
       "    </tr>\n",
       "  </tbody>\n",
       "</table>\n",
       "<p>125 rows × 3 columns</p>\n",
       "</div>"
      ],
      "text/plain": [
       "                          _id  \\\n",
       "0    55cba2476c522cafdb056004   \n",
       "1    55cba2476c522cafdb056005   \n",
       "2    55cba2476c522cafdb058ae9   \n",
       "3    55cba2476c522cafdb0543cb   \n",
       "4    55cba2476c522cafdb056784   \n",
       "..                        ...   \n",
       "120  55cba2476c522cafdb0578b3   \n",
       "121  55cba2476c522cafdb058c83   \n",
       "122  55cba2476c522cafdb058c63   \n",
       "123  55cba2476c522cafdb056b96   \n",
       "124  55cba2476c522cafdb056b6f   \n",
       "\n",
       "                                              location  \\\n",
       "0    {'coordinates': [-73.9259201, 40.8278293], 'ty...   \n",
       "1    {'coordinates': [-73.9259201, 40.8278293], 'ty...   \n",
       "2    {'coordinates': [-73.9259245, 40.827435], 'typ...   \n",
       "3    {'coordinates': [-73.92594439999999, 40.827212...   \n",
       "4    {'coordinates': [-73.9262845, 40.8266956999999...   \n",
       "..                                                 ...   \n",
       "120  {'coordinates': [-73.93011659999999, 40.821940...   \n",
       "121  {'coordinates': [-73.9316894, 40.8231974], 'ty...   \n",
       "122  {'coordinates': [-73.9303724, 40.8234978], 'ty...   \n",
       "123  {'coordinates': [-73.9308109, 40.8259458000000...   \n",
       "124  {'coordinates': [-73.93032130000002, 40.819383...   \n",
       "\n",
       "                                                  name  \n",
       "0                                       Hard Rock Cafe  \n",
       "1                                            Nyy Steak  \n",
       "2                                        Dunkin Donuts  \n",
       "3                Billy'S Sport Bar Restaurant & Lounge  \n",
       "4                                    Stan'S Sports Bar  \n",
       "..                                                 ...  \n",
       "120           Marisco Centro Seafood Restaurant  & Bar  \n",
       "121                  Gotham Stadium Tennis Center Cafe  \n",
       "122                                  Chuck E. Cheese'S  \n",
       "123  Dunkin Donuts (Inside Gulf Gas Station On Nort...  \n",
       "124                                             Subway  \n",
       "\n",
       "[125 rows x 3 columns]"
      ]
     },
     "execution_count": 60,
     "metadata": {},
     "output_type": "execute_result"
    }
   ],
   "source": [
    "pd.DataFrame(restaurants2.find({\"location\": {\"$geoWithin\": {\"$geometry\": my_neighborhood[\"geometry\"]}}}))"
   ]
  },
  {
   "cell_type": "markdown",
   "metadata": {},
   "source": [
    "<img src=\"./mongo_images/all_rests.png\" width=300>"
   ]
  },
  {
   "cell_type": "markdown",
   "metadata": {},
   "source": [
    "#### `nearSphere`"
   ]
  },
  {
   "cell_type": "markdown",
   "metadata": {},
   "source": [
    "What elements are within a distance of a given geometry?"
   ]
  },
  {
   "cell_type": "markdown",
   "metadata": {},
   "source": [
    "`$nearSphere` and `$maxDistance` help us find all elements within `maxDistance` meters of the desired geometry, **sorted** from nearest to farthest."
   ]
  },
  {
   "cell_type": "code",
   "execution_count": 62,
   "metadata": {},
   "outputs": [
    {
     "data": {
      "text/plain": [
       "{'type': 'Point', 'coordinates': [-73.93, 40.82]}"
      ]
     },
     "execution_count": 62,
     "metadata": {},
     "output_type": "execute_result"
    }
   ],
   "source": [
    "my_location"
   ]
  },
  {
   "cell_type": "code",
   "execution_count": 85,
   "metadata": {},
   "outputs": [],
   "source": [
    "# max km I want to walk\n",
    "kms = 0.3"
   ]
  },
  {
   "cell_type": "code",
   "execution_count": 86,
   "metadata": {},
   "outputs": [
    {
     "data": {
      "text/plain": [
       "<pymongo.cursor.Cursor at 0x7ffb121336a0>"
      ]
     },
     "execution_count": 86,
     "metadata": {},
     "output_type": "execute_result"
    }
   ],
   "source": [
    "restaurants2.find(\n",
    "    {\"location\": {\n",
    "        \"$nearSphere\": {\n",
    "            \"$geometry\": my_location,\n",
    "            \"$maxDistance\": kms * 1000\n",
    "        } \n",
    "    }},\n",
    "    {\"name\": 1, \"_id\": 0}\n",
    ")"
   ]
  },
  {
   "cell_type": "code",
   "execution_count": 87,
   "metadata": {},
   "outputs": [
    {
     "data": {
      "text/plain": [
       "[{'name': ''},\n",
       " {'name': 'Subway'},\n",
       " {'name': 'Glacken Bar'},\n",
       " {'name': 'Sunlight Restaurant'},\n",
       " {'name': 'The News Room Jazz Club'},\n",
       " {'name': 'Glen Roy Bar And Grill'},\n",
       " {'name': ''},\n",
       " {'name': \"Applebee'S Neighborhood Grill & Bar\"},\n",
       " {'name': 'Marisco Centro Seafood Restaurant  & Bar'},\n",
       " {'name': \"Big Papa'S\"},\n",
       " {'name': 'Burger King'},\n",
       " {'name': 'Popeyes Chicken & Biscuits'},\n",
       " {'name': 'Haagan Daz'},\n",
       " {'name': \"Mcdonald'S\"},\n",
       " {'name': \"Giovanni'S Restaurant\"},\n",
       " {'name': 'Planet Wings'},\n",
       " {'name': 'Brothers Seafood'}]"
      ]
     },
     "execution_count": 87,
     "metadata": {},
     "output_type": "execute_result"
    }
   ],
   "source": [
    "list(_)"
   ]
  },
  {
   "cell_type": "markdown",
   "metadata": {},
   "source": [
    "## Summary"
   ]
  },
  {
   "cell_type": "markdown",
   "metadata": {},
   "source": [
    " * use `find_one` to have an idea of document structure\n",
    " * `find` returns a Cursor, not a list\n",
    " * project helps you return only required information"
   ]
  },
  {
   "cell_type": "markdown",
   "metadata": {},
   "source": [
    " * `count_documents`, `distinct`, `sort`, `limit`, `skip` are frequently used\n",
    " * there are many query operators, preceded by `$`"
   ]
  },
  {
   "cell_type": "markdown",
   "metadata": {},
   "source": [
    "Careful\n",
    " * you can `delete`\n",
    " * you can `update`"
   ]
  },
  {
   "cell_type": "markdown",
   "metadata": {},
   "source": [
    "Geoqueries help us do location-related queries.  \n",
    "Lets learn to use maps!"
   ]
  },
  {
   "cell_type": "markdown",
   "metadata": {},
   "source": [
    "## Further materials"
   ]
  },
  {
   "cell_type": "markdown",
   "metadata": {},
   "source": [
    "[MongoDB manual](https://docs.mongodb.com/manual/)"
   ]
  },
  {
   "cell_type": "markdown",
   "metadata": {},
   "source": [
    "[pymongo documentation](https://pymongo.readthedocs.io/en/stable/)"
   ]
  }
 ],
 "metadata": {
  "colab": {
   "collapsed_sections": [],
   "include_colab_link": true,
   "name": "1.1_First_steps_with_MongoDB-PyMongo.ipynb",
   "provenance": []
  },
  "kernelspec": {
   "display_name": "Python 3",
   "language": "python",
   "name": "python3"
  },
  "language_info": {
   "codemirror_mode": {
    "name": "ipython",
    "version": 3
   },
   "file_extension": ".py",
   "mimetype": "text/x-python",
   "name": "python",
   "nbconvert_exporter": "python",
   "pygments_lexer": "ipython3",
   "version": "3.8.5"
  },
  "toc": {
   "base_numbering": 1,
   "nav_menu": {},
   "number_sections": true,
   "sideBar": true,
   "skip_h1_title": true,
   "title_cell": "Table of Contents",
   "title_sidebar": "Contents",
   "toc_cell": true,
   "toc_position": {},
   "toc_section_display": true,
   "toc_window_display": true
  },
  "varInspector": {
   "cols": {
    "lenName": 16,
    "lenType": 16,
    "lenVar": 40
   },
   "kernels_config": {
    "python": {
     "delete_cmd_postfix": "",
     "delete_cmd_prefix": "del ",
     "library": "var_list.py",
     "varRefreshCmd": "print(var_dic_list())"
    },
    "r": {
     "delete_cmd_postfix": ") ",
     "delete_cmd_prefix": "rm(",
     "library": "var_list.r",
     "varRefreshCmd": "cat(var_dic_list()) "
    }
   },
   "types_to_exclude": [
    "module",
    "function",
    "builtin_function_or_method",
    "instance",
    "_Feature"
   ],
   "window_display": false
  }
 },
 "nbformat": 4,
 "nbformat_minor": 1
}
