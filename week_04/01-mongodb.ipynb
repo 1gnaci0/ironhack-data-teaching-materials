{
 "cells": [
  {
   "cell_type": "markdown",
   "metadata": {},
   "source": [
    "# MongoDB"
   ]
  },
  {
   "cell_type": "markdown",
   "metadata": {
    "toc": true
   },
   "source": [
    "<h1>Table of Contents<span class=\"tocSkip\"></span></h1>\n",
    "<div class=\"toc\"><ul class=\"toc-item\"><li><span><a href=\"#Warmup\" data-toc-modified-id=\"Warmup-1\"><span class=\"toc-item-num\">1&nbsp;&nbsp;</span>Warmup</a></span></li><li><span><a href=\"#Connection\" data-toc-modified-id=\"Connection-2\"><span class=\"toc-item-num\">2&nbsp;&nbsp;</span>Connection</a></span></li><li><span><a href=\"#Database-management-operations\" data-toc-modified-id=\"Database-management-operations-3\"><span class=\"toc-item-num\">3&nbsp;&nbsp;</span>Database management operations</a></span></li><li><span><a href=\"#Querying-documents\" data-toc-modified-id=\"Querying-documents-4\"><span class=\"toc-item-num\">4&nbsp;&nbsp;</span>Querying documents</a></span><ul class=\"toc-item\"><li><span><a href=\"#find_one-method\" data-toc-modified-id=\"find_one-method-4.1\"><span class=\"toc-item-num\">4.1&nbsp;&nbsp;</span><code>find_one</code> method</a></span></li><li><span><a href=\"#find-method\" data-toc-modified-id=\"find-method-4.2\"><span class=\"toc-item-num\">4.2&nbsp;&nbsp;</span><code>find</code> method</a></span></li></ul></li><li><span><a href=\"#Projecting\" data-toc-modified-id=\"Projecting-5\"><span class=\"toc-item-num\">5&nbsp;&nbsp;</span>Projecting</a></span></li><li><span><a href=\"#Other-methods\" data-toc-modified-id=\"Other-methods-6\"><span class=\"toc-item-num\">6&nbsp;&nbsp;</span>Other methods</a></span><ul class=\"toc-item\"><li><span><a href=\"#distinct\" data-toc-modified-id=\"distinct-6.1\"><span class=\"toc-item-num\">6.1&nbsp;&nbsp;</span><code>distinct</code></a></span></li><li><span><a href=\"#count\" data-toc-modified-id=\"count-6.2\"><span class=\"toc-item-num\">6.2&nbsp;&nbsp;</span><code>count</code></a></span></li><li><span><a href=\"#sort\" data-toc-modified-id=\"sort-6.3\"><span class=\"toc-item-num\">6.3&nbsp;&nbsp;</span><code>sort</code></a></span></li><li><span><a href=\"#limit\" data-toc-modified-id=\"limit-6.4\"><span class=\"toc-item-num\">6.4&nbsp;&nbsp;</span><code>limit</code></a></span></li><li><span><a href=\"#skip\" data-toc-modified-id=\"skip-6.5\"><span class=\"toc-item-num\">6.5&nbsp;&nbsp;</span><code>skip</code></a></span></li></ul></li><li><span><a href=\"#Typical-query-operators\" data-toc-modified-id=\"Typical-query-operators-7\"><span class=\"toc-item-num\">7&nbsp;&nbsp;</span>Typical query operators</a></span><ul class=\"toc-item\"><li><span><a href=\"#greater-than-/-less-than\" data-toc-modified-id=\"greater-than-/-less-than-7.1\"><span class=\"toc-item-num\">7.1&nbsp;&nbsp;</span>greater than / less than</a></span></li><li><span><a href=\"#exists\" data-toc-modified-id=\"exists-7.2\"><span class=\"toc-item-num\">7.2&nbsp;&nbsp;</span><code>exists</code></a></span></li><li><span><a href=\"#regex\" data-toc-modified-id=\"regex-7.3\"><span class=\"toc-item-num\">7.3&nbsp;&nbsp;</span><code>regex</code></a></span></li><li><span><a href=\"#and\" data-toc-modified-id=\"and-7.4\"><span class=\"toc-item-num\">7.4&nbsp;&nbsp;</span><code>and</code></a></span></li><li><span><a href=\"#or\" data-toc-modified-id=\"or-7.5\"><span class=\"toc-item-num\">7.5&nbsp;&nbsp;</span><code>or</code></a></span></li><li><span><a href=\"#ne\" data-toc-modified-id=\"ne-7.6\"><span class=\"toc-item-num\">7.6&nbsp;&nbsp;</span><code>ne</code></a></span></li><li><span><a href=\"#in\" data-toc-modified-id=\"in-7.7\"><span class=\"toc-item-num\">7.7&nbsp;&nbsp;</span><code>in</code></a></span></li><li><span><a href=\"#nin\" data-toc-modified-id=\"nin-7.8\"><span class=\"toc-item-num\">7.8&nbsp;&nbsp;</span><code>nin</code></a></span></li></ul></li><li><span><a href=\"#Update\" data-toc-modified-id=\"Update-8\"><span class=\"toc-item-num\">8&nbsp;&nbsp;</span>Update</a></span></li><li><span><a href=\"#Delete\" data-toc-modified-id=\"Delete-9\"><span class=\"toc-item-num\">9&nbsp;&nbsp;</span>Delete</a></span></li><li><span><a href=\"#Summary\" data-toc-modified-id=\"Summary-10\"><span class=\"toc-item-num\">10&nbsp;&nbsp;</span>Summary</a></span></li><li><span><a href=\"#Further-materials\" data-toc-modified-id=\"Further-materials-11\"><span class=\"toc-item-num\">11&nbsp;&nbsp;</span>Further materials</a></span></li></ul></div>"
   ]
  },
  {
   "cell_type": "markdown",
   "metadata": {},
   "source": [
    "## Warmup"
   ]
  },
  {
   "cell_type": "markdown",
   "metadata": {},
   "source": [
    "[Mongo is not a SQL database](https://www.youtube.com/watch?v=DM4gD6Z5zFU&ab_channel=BitechStudio)"
   ]
  },
  {
   "cell_type": "markdown",
   "metadata": {},
   "source": [
    "## Connection"
   ]
  },
  {
   "cell_type": "markdown",
   "metadata": {},
   "source": [
    "First, make sure there is a mongo process running..."
   ]
  },
  {
   "cell_type": "code",
   "execution_count": null,
   "metadata": {},
   "outputs": [],
   "source": [
    "!pip install pymongo"
   ]
  },
  {
   "cell_type": "code",
   "execution_count": 2,
   "metadata": {},
   "outputs": [],
   "source": [
    "from pymongo import MongoClient"
   ]
  },
  {
   "cell_type": "code",
   "execution_count": 3,
   "metadata": {},
   "outputs": [],
   "source": [
    "conn = MongoClient(\"localhost:27017\")"
   ]
  },
  {
   "cell_type": "markdown",
   "metadata": {
    "colab_type": "text",
    "id": "ReTAwwEuGvpF"
   },
   "source": [
    "## Database management operations"
   ]
  },
  {
   "cell_type": "code",
   "execution_count": 4,
   "metadata": {
    "colab": {
     "base_uri": "https://localhost:8080/",
     "height": 34
    },
    "colab_type": "code",
    "id": "Dp9AHfb8O_ZS",
    "outputId": "1b343c35-67d5-4735-c2d0-b614cd00c786"
   },
   "outputs": [
    {
     "data": {
      "text/plain": [
       "['admin', 'config', 'ironhack', 'local']"
      ]
     },
     "execution_count": 4,
     "metadata": {},
     "output_type": "execute_result"
    }
   ],
   "source": [
    "# show existing database names\n",
    "conn.list_database_names()"
   ]
  },
  {
   "cell_type": "code",
   "execution_count": 5,
   "metadata": {
    "colab": {},
    "colab_type": "code",
    "id": "QixrK4duFCVu"
   },
   "outputs": [],
   "source": [
    "# choose database to work with\n",
    "db = conn.get_database(\"ironhack\")"
   ]
  },
  {
   "cell_type": "code",
   "execution_count": 6,
   "metadata": {
    "colab": {
     "base_uri": "https://localhost:8080/",
     "height": 34
    },
    "colab_type": "code",
    "id": "Dp9AHfb8O_ZS",
    "outputId": "1b343c35-67d5-4735-c2d0-b614cd00c786"
   },
   "outputs": [
    {
     "data": {
      "text/plain": [
       "['restaurants', 'books', 'companies', 'countries_small']"
      ]
     },
     "execution_count": 6,
     "metadata": {},
     "output_type": "execute_result"
    }
   ],
   "source": [
    "# show collections inside database\n",
    "db.list_collection_names()"
   ]
  },
  {
   "cell_type": "code",
   "execution_count": 7,
   "metadata": {},
   "outputs": [
    {
     "data": {
      "text/plain": [
       "Collection(Database(MongoClient(host=['localhost:27017'], document_class=dict, tz_aware=False, connect=True), 'ironhack'), 'test_collection')"
      ]
     },
     "execution_count": 7,
     "metadata": {},
     "output_type": "execute_result"
    }
   ],
   "source": [
    "# create collection \n",
    "db.create_collection(\"test_collection\")"
   ]
  },
  {
   "cell_type": "code",
   "execution_count": 8,
   "metadata": {
    "colab": {
     "base_uri": "https://localhost:8080/",
     "height": 34
    },
    "colab_type": "code",
    "id": "Dp9AHfb8O_ZS",
    "outputId": "1b343c35-67d5-4735-c2d0-b614cd00c786"
   },
   "outputs": [
    {
     "data": {
      "text/plain": [
       "['restaurants', 'books', 'companies', 'test_collection', 'countries_small']"
      ]
     },
     "execution_count": 8,
     "metadata": {},
     "output_type": "execute_result"
    }
   ],
   "source": [
    "# show collections inside database\n",
    "db.list_collection_names()"
   ]
  },
  {
   "cell_type": "code",
   "execution_count": 9,
   "metadata": {},
   "outputs": [
    {
     "data": {
      "text/plain": [
       "{'nIndexesWas': 1, 'ns': 'ironhack.test_collection', 'ok': 1.0}"
      ]
     },
     "execution_count": 9,
     "metadata": {},
     "output_type": "execute_result"
    }
   ],
   "source": [
    "# create collection \n",
    "db.drop_collection(\"test_collection\")"
   ]
  },
  {
   "cell_type": "code",
   "execution_count": 10,
   "metadata": {
    "colab": {
     "base_uri": "https://localhost:8080/",
     "height": 34
    },
    "colab_type": "code",
    "id": "Dp9AHfb8O_ZS",
    "outputId": "1b343c35-67d5-4735-c2d0-b614cd00c786"
   },
   "outputs": [
    {
     "data": {
      "text/plain": [
       "['restaurants', 'books', 'companies', 'countries_small']"
      ]
     },
     "execution_count": 10,
     "metadata": {},
     "output_type": "execute_result"
    }
   ],
   "source": [
    "# show collections inside database\n",
    "db.list_collection_names()"
   ]
  },
  {
   "cell_type": "code",
   "execution_count": 17,
   "metadata": {
    "colab": {},
    "colab_type": "code",
    "id": "QixrK4duFCVu"
   },
   "outputs": [],
   "source": [
    "# choose collection to work with\n",
    "collection = db.get_collection(\"restaurants\")"
   ]
  },
  {
   "cell_type": "markdown",
   "metadata": {
    "colab_type": "text",
    "id": "FVB8FcgQz8ok"
   },
   "source": [
    "## Querying documents"
   ]
  },
  {
   "cell_type": "markdown",
   "metadata": {},
   "source": [
    "### `find_one` method"
   ]
  },
  {
   "cell_type": "markdown",
   "metadata": {},
   "source": [
    "`collection.find_one(filter)`"
   ]
  },
  {
   "cell_type": "code",
   "execution_count": 26,
   "metadata": {
    "colab": {
     "base_uri": "https://localhost:8080/",
     "height": 221
    },
    "colab_type": "code",
    "id": "LNhnVqL7C6L5",
    "outputId": "cd60575e-e0de-4c3d-fcac-588e4e143753"
   },
   "outputs": [
    {
     "data": {
      "text/plain": [
       "{'_id': ObjectId('55f14312c7447c3da7051b26'),\n",
       " 'URL': 'http://www.just-eat.co.uk/restaurants-cn-chinese-cardiff/menu',\n",
       " 'address': '228 City Road',\n",
       " 'address line 2': 'Cardiff',\n",
       " 'name': '.CN Chinese',\n",
       " 'outcode': 'CF24',\n",
       " 'postcode': '3JH',\n",
       " 'rating': 5,\n",
       " 'type_of_food': 'Chinese'}"
      ]
     },
     "execution_count": 26,
     "metadata": {},
     "output_type": "execute_result"
    }
   ],
   "source": [
    "# no filter\n",
    "collection.find_one({})"
   ]
  },
  {
   "cell_type": "code",
   "execution_count": 19,
   "metadata": {
    "colab": {
     "base_uri": "https://localhost:8080/",
     "height": 221
    },
    "colab_type": "code",
    "id": "LNhnVqL7C6L5",
    "outputId": "cd60575e-e0de-4c3d-fcac-588e4e143753"
   },
   "outputs": [
    {
     "data": {
      "text/plain": [
       "dict_keys(['_id', 'URL', 'address', 'address line 2', 'name', 'outcode', 'postcode', 'rating', 'type_of_food'])"
      ]
     },
     "execution_count": 19,
     "metadata": {},
     "output_type": "execute_result"
    }
   ],
   "source": [
    "collection.find_one({}).keys()"
   ]
  },
  {
   "cell_type": "markdown",
   "metadata": {},
   "source": [
    "Careful! Not all documents need to have same keys!"
   ]
  },
  {
   "cell_type": "code",
   "execution_count": 20,
   "metadata": {
    "colab": {
     "base_uri": "https://localhost:8080/",
     "height": 221
    },
    "colab_type": "code",
    "id": "LNhnVqL7C6L5",
    "outputId": "cd60575e-e0de-4c3d-fcac-588e4e143753"
   },
   "outputs": [
    {
     "data": {
      "text/plain": [
       "{'_id': ObjectId('55f14312c7447c3da7051b26'),\n",
       " 'URL': 'http://www.just-eat.co.uk/restaurants-cn-chinese-cardiff/menu',\n",
       " 'address': '228 City Road',\n",
       " 'address line 2': 'Cardiff',\n",
       " 'name': '.CN Chinese',\n",
       " 'outcode': 'CF24',\n",
       " 'postcode': '3JH',\n",
       " 'rating': 5,\n",
       " 'type_of_food': 'Chinese'}"
      ]
     },
     "execution_count": 20,
     "metadata": {},
     "output_type": "execute_result"
    }
   ],
   "source": [
    "collection.find_one({\"rating\": 5})"
   ]
  },
  {
   "cell_type": "markdown",
   "metadata": {},
   "source": [
    "### `find` method"
   ]
  },
  {
   "cell_type": "markdown",
   "metadata": {},
   "source": [
    "`collection.find(filter)`"
   ]
  },
  {
   "cell_type": "markdown",
   "metadata": {},
   "source": [
    "Lets find all documents in the collection, with no filter"
   ]
  },
  {
   "cell_type": "code",
   "execution_count": 27,
   "metadata": {
    "colab": {
     "base_uri": "https://localhost:8080/",
     "height": 221
    },
    "colab_type": "code",
    "id": "LNhnVqL7C6L5",
    "outputId": "cd60575e-e0de-4c3d-fcac-588e4e143753"
   },
   "outputs": [],
   "source": [
    "documents = collection.find()"
   ]
  },
  {
   "cell_type": "code",
   "execution_count": 28,
   "metadata": {},
   "outputs": [
    {
     "data": {
      "text/plain": [
       "<pymongo.cursor.Cursor at 0x7fb76f17d280>"
      ]
     },
     "execution_count": 28,
     "metadata": {},
     "output_type": "execute_result"
    }
   ],
   "source": [
    "documents"
   ]
  },
  {
   "cell_type": "code",
   "execution_count": 29,
   "metadata": {},
   "outputs": [
    {
     "data": {
      "text/plain": [
       "pymongo.cursor.Cursor"
      ]
     },
     "execution_count": 29,
     "metadata": {},
     "output_type": "execute_result"
    }
   ],
   "source": [
    "type(documents)"
   ]
  },
  {
   "cell_type": "code",
   "execution_count": 36,
   "metadata": {},
   "outputs": [
    {
     "ename": "TypeError",
     "evalue": "object of type 'Cursor' has no len()",
     "output_type": "error",
     "traceback": [
      "\u001b[0;31m---------------------------------------------------------------------------\u001b[0m",
      "\u001b[0;31mTypeError\u001b[0m                                 Traceback (most recent call last)",
      "\u001b[0;32m<ipython-input-36-e42197aae3bd>\u001b[0m in \u001b[0;36m<module>\u001b[0;34m\u001b[0m\n\u001b[0;32m----> 1\u001b[0;31m \u001b[0mlen\u001b[0m\u001b[0;34m(\u001b[0m\u001b[0mdocuments2\u001b[0m\u001b[0;34m)\u001b[0m\u001b[0;34m\u001b[0m\u001b[0;34m\u001b[0m\u001b[0m\n\u001b[0m",
      "\u001b[0;31mTypeError\u001b[0m: object of type 'Cursor' has no len()"
     ]
    }
   ],
   "source": [
    "len(documents2)"
   ]
  },
  {
   "cell_type": "markdown",
   "metadata": {},
   "source": [
    "`pymongo` collection method `find` returns a Cursor:\n",
    " * a Cursor is an iterator\n",
    " * a Cursor therefore has the method `__next__` (function `next` returns next element in stream)\n",
    " * `pymongo` does not bring information to memory until needed\n",
    " * a Cursor does not have `len`"
   ]
  },
  {
   "cell_type": "code",
   "execution_count": 34,
   "metadata": {},
   "outputs": [
    {
     "data": {
      "text/plain": [
       "{'_id': ObjectId('55f14312c7447c3da7051b31'),\n",
       " 'URL': 'http://www.just-eat.co.uk/restaurants-100-degrees-chinese-restaurant-pontypridd/menu',\n",
       " 'address': '67 Park Street',\n",
       " 'address line 2': 'Treforest',\n",
       " 'name': '100 Degrees Chinese Restaurant',\n",
       " 'outcode': 'CF37',\n",
       " 'postcode': '1SN',\n",
       " 'rating': 5,\n",
       " 'type_of_food': 'Chinese'}"
      ]
     },
     "execution_count": 34,
     "metadata": {},
     "output_type": "execute_result"
    }
   ],
   "source": [
    "next(documents)"
   ]
  },
  {
   "cell_type": "code",
   "execution_count": 39,
   "metadata": {
    "colab": {
     "base_uri": "https://localhost:8080/",
     "height": 221
    },
    "colab_type": "code",
    "id": "LNhnVqL7C6L5",
    "outputId": "cd60575e-e0de-4c3d-fcac-588e4e143753"
   },
   "outputs": [],
   "source": [
    "documents2 = collection.find({\"rating\": 6})"
   ]
  },
  {
   "cell_type": "code",
   "execution_count": 40,
   "metadata": {},
   "outputs": [],
   "source": [
    "top_rated = list(documents2)"
   ]
  },
  {
   "cell_type": "code",
   "execution_count": 42,
   "metadata": {},
   "outputs": [
    {
     "data": {
      "text/plain": [
       "49"
      ]
     },
     "execution_count": 42,
     "metadata": {},
     "output_type": "execute_result"
    }
   ],
   "source": [
    "len(top_rated)"
   ]
  },
  {
   "cell_type": "code",
   "execution_count": 43,
   "metadata": {},
   "outputs": [],
   "source": [
    "import pandas as pd"
   ]
  },
  {
   "cell_type": "code",
   "execution_count": 44,
   "metadata": {},
   "outputs": [
    {
     "data": {
      "text/html": [
       "<div>\n",
       "<style scoped>\n",
       "    .dataframe tbody tr th:only-of-type {\n",
       "        vertical-align: middle;\n",
       "    }\n",
       "\n",
       "    .dataframe tbody tr th {\n",
       "        vertical-align: top;\n",
       "    }\n",
       "\n",
       "    .dataframe thead th {\n",
       "        text-align: right;\n",
       "    }\n",
       "</style>\n",
       "<table border=\"1\" class=\"dataframe\">\n",
       "  <thead>\n",
       "    <tr style=\"text-align: right;\">\n",
       "      <th></th>\n",
       "    </tr>\n",
       "  </thead>\n",
       "  <tbody>\n",
       "  </tbody>\n",
       "</table>\n",
       "</div>"
      ],
      "text/plain": [
       "Empty DataFrame\n",
       "Columns: []\n",
       "Index: []"
      ]
     },
     "execution_count": 44,
     "metadata": {},
     "output_type": "execute_result"
    }
   ],
   "source": [
    "pd.DataFrame(documents2)"
   ]
  },
  {
   "cell_type": "markdown",
   "metadata": {},
   "source": [
    "This happened because the Cursor was already consumed by `list`. If we want to reuse it, we have to run the query again..."
   ]
  },
  {
   "cell_type": "code",
   "execution_count": 47,
   "metadata": {
    "colab": {
     "base_uri": "https://localhost:8080/",
     "height": 221
    },
    "colab_type": "code",
    "id": "LNhnVqL7C6L5",
    "outputId": "cd60575e-e0de-4c3d-fcac-588e4e143753"
   },
   "outputs": [],
   "source": [
    "documents2 = collection.find({\"rating\": 6})"
   ]
  },
  {
   "cell_type": "code",
   "execution_count": 48,
   "metadata": {},
   "outputs": [
    {
     "data": {
      "text/html": [
       "<div>\n",
       "<style scoped>\n",
       "    .dataframe tbody tr th:only-of-type {\n",
       "        vertical-align: middle;\n",
       "    }\n",
       "\n",
       "    .dataframe tbody tr th {\n",
       "        vertical-align: top;\n",
       "    }\n",
       "\n",
       "    .dataframe thead th {\n",
       "        text-align: right;\n",
       "    }\n",
       "</style>\n",
       "<table border=\"1\" class=\"dataframe\">\n",
       "  <thead>\n",
       "    <tr style=\"text-align: right;\">\n",
       "      <th></th>\n",
       "      <th>_id</th>\n",
       "      <th>URL</th>\n",
       "      <th>address</th>\n",
       "      <th>address line 2</th>\n",
       "      <th>name</th>\n",
       "      <th>outcode</th>\n",
       "      <th>postcode</th>\n",
       "      <th>rating</th>\n",
       "      <th>type_of_food</th>\n",
       "    </tr>\n",
       "  </thead>\n",
       "  <tbody>\n",
       "    <tr>\n",
       "      <th>0</th>\n",
       "      <td>55f14312c7447c3da7051b2a</td>\n",
       "      <td>http://www.just-eat.co.uk/restaurants-indianco...</td>\n",
       "      <td>9 Broughton Hall Road</td>\n",
       "      <td>Broughton</td>\n",
       "      <td>@Indian.com</td>\n",
       "      <td>CH4</td>\n",
       "      <td>0QR</td>\n",
       "      <td>6</td>\n",
       "      <td>Curry</td>\n",
       "    </tr>\n",
       "    <tr>\n",
       "      <th>1</th>\n",
       "      <td>55f14312c7447c3da7051b2b</td>\n",
       "      <td>http://www.just-eat.co.uk/restaurants-007takea...</td>\n",
       "      <td>6 Drummond Street</td>\n",
       "      <td>Rotherham</td>\n",
       "      <td>007 Takeaway</td>\n",
       "      <td>S65</td>\n",
       "      <td>1HY</td>\n",
       "      <td>6</td>\n",
       "      <td>Pizza</td>\n",
       "    </tr>\n",
       "    <tr>\n",
       "      <th>2</th>\n",
       "      <td>55f14312c7447c3da7051bbc</td>\n",
       "      <td>http://www.just-eat.co.uk/restaurants-aarthi-s...</td>\n",
       "      <td>5 Kingston Road</td>\n",
       "      <td>London</td>\n",
       "      <td>Aarthi</td>\n",
       "      <td>SW19</td>\n",
       "      <td>1JX</td>\n",
       "      <td>6</td>\n",
       "      <td>Curry</td>\n",
       "    </tr>\n",
       "    <tr>\n",
       "      <th>3</th>\n",
       "      <td>55f14312c7447c3da7051bfb</td>\n",
       "      <td>http://www.just-eat.co.uk/restaurants-absharin...</td>\n",
       "      <td>43 High Street</td>\n",
       "      <td>Ilford</td>\n",
       "      <td>Abshar Indian Cuisine</td>\n",
       "      <td>IG6</td>\n",
       "      <td>2AD</td>\n",
       "      <td>6</td>\n",
       "      <td>Punjabi</td>\n",
       "    </tr>\n",
       "    <tr>\n",
       "      <th>4</th>\n",
       "      <td>55f14312c7447c3da7051c82</td>\n",
       "      <td>http://www.just-eat.co.uk/restaurants-agra-war...</td>\n",
       "      <td>32 East Street</td>\n",
       "      <td>Wiltshire</td>\n",
       "      <td>Agra</td>\n",
       "      <td>BA12</td>\n",
       "      <td>9BN</td>\n",
       "      <td>6</td>\n",
       "      <td>Curry</td>\n",
       "    </tr>\n",
       "    <tr>\n",
       "      <th>5</th>\n",
       "      <td>55f14312c7447c3da7051ca4</td>\n",
       "      <td>http://www.just-eat.co.uk/restaurants-aji-tn23...</td>\n",
       "      <td>23 New Rents</td>\n",
       "      <td>Ashford</td>\n",
       "      <td>Aji - Collection Only</td>\n",
       "      <td>TN23</td>\n",
       "      <td>2JJ</td>\n",
       "      <td>6</td>\n",
       "      <td>Japanese</td>\n",
       "    </tr>\n",
       "    <tr>\n",
       "      <th>6</th>\n",
       "      <td>55f14312c7447c3da7051cbd</td>\n",
       "      <td>http://www.just-eat.co.uk/restaurants-akash-ac...</td>\n",
       "      <td>87 Whalley Road</td>\n",
       "      <td>Accrington</td>\n",
       "      <td>Akash Accrington</td>\n",
       "      <td>BB5</td>\n",
       "      <td>1AS</td>\n",
       "      <td>6</td>\n",
       "      <td>Curry</td>\n",
       "    </tr>\n",
       "    <tr>\n",
       "      <th>7</th>\n",
       "      <td>55f14312c7447c3da7051cf0</td>\n",
       "      <td>http://www.just-eat.co.uk/restaurants-alfrango...</td>\n",
       "      <td>14 Wellington Street</td>\n",
       "      <td>Luton</td>\n",
       "      <td>Al Frango</td>\n",
       "      <td>LU1</td>\n",
       "      <td>2HQ</td>\n",
       "      <td>6</td>\n",
       "      <td>Mediterranean</td>\n",
       "    </tr>\n",
       "    <tr>\n",
       "      <th>8</th>\n",
       "      <td>55f14312c7447c3da7051d00</td>\n",
       "      <td>http://www.just-eat.co.uk/restaurants-almedina...</td>\n",
       "      <td>2 Walford Road</td>\n",
       "      <td>Sparkhill</td>\n",
       "      <td>Al Medina Delights - Collection Only</td>\n",
       "      <td>B11</td>\n",
       "      <td>1NR</td>\n",
       "      <td>6</td>\n",
       "      <td>Pasta</td>\n",
       "    </tr>\n",
       "    <tr>\n",
       "      <th>9</th>\n",
       "      <td>55f14312c7447c3da7051d4c</td>\n",
       "      <td>http://www.just-eat.co.uk/restaurants-alcatraz...</td>\n",
       "      <td>127 Christchurch Road</td>\n",
       "      <td>Bournemouth</td>\n",
       "      <td>Alcatraz Caffe Bournemouth</td>\n",
       "      <td>BH1</td>\n",
       "      <td>1EP</td>\n",
       "      <td>6</td>\n",
       "      <td>Pizza</td>\n",
       "    </tr>\n",
       "    <tr>\n",
       "      <th>10</th>\n",
       "      <td>55f14312c7447c3da7051d5b</td>\n",
       "      <td>http://www.just-eat.co.uk/restaurants-alexplai...</td>\n",
       "      <td>314 Kilburn High Road</td>\n",
       "      <td>London</td>\n",
       "      <td>Alex Plaice</td>\n",
       "      <td>NW6</td>\n",
       "      <td>2DG</td>\n",
       "      <td>6</td>\n",
       "      <td>Fish &amp; Chips</td>\n",
       "    </tr>\n",
       "    <tr>\n",
       "      <th>11</th>\n",
       "      <td>55f14312c7447c3da7051d5c</td>\n",
       "      <td>http://www.just-eat.co.uk/restaurants-alexplai...</td>\n",
       "      <td>314 Kilburn High Road</td>\n",
       "      <td>London</td>\n",
       "      <td>Alex Plaice</td>\n",
       "      <td>NW6</td>\n",
       "      <td>2DG</td>\n",
       "      <td>6</td>\n",
       "      <td>Fish &amp; Chips</td>\n",
       "    </tr>\n",
       "    <tr>\n",
       "      <th>12</th>\n",
       "      <td>55f14312c7447c3da7051dd1</td>\n",
       "      <td>http://www.just-eat.co.uk/restaurants-allsiam-...</td>\n",
       "      <td>639 Ecclesall Road</td>\n",
       "      <td>Sheffield</td>\n",
       "      <td>All Siam Thai Restaurant - Collection Only</td>\n",
       "      <td>S11</td>\n",
       "      <td>8PT</td>\n",
       "      <td>6</td>\n",
       "      <td>Thai</td>\n",
       "    </tr>\n",
       "    <tr>\n",
       "      <th>13</th>\n",
       "      <td>55f14312c7447c3da7051e94</td>\n",
       "      <td>http://www.just-eat.co.uk/restaurants-amina-st...</td>\n",
       "      <td>5 Sutton Oak Corner</td>\n",
       "      <td>Birmingham</td>\n",
       "      <td>Amina</td>\n",
       "      <td>B74</td>\n",
       "      <td>2DH</td>\n",
       "      <td>6</td>\n",
       "      <td>Curry</td>\n",
       "    </tr>\n",
       "    <tr>\n",
       "      <th>14</th>\n",
       "      <td>55f14312c7447c3da7051ea5</td>\n",
       "      <td>http://www.just-eat.co.uk/restaurants-ammanfor...</td>\n",
       "      <td>18 College Street</td>\n",
       "      <td>Dyfed</td>\n",
       "      <td>Ammanford Fish Bar</td>\n",
       "      <td>SA18</td>\n",
       "      <td>3AF</td>\n",
       "      <td>6</td>\n",
       "      <td>Fish &amp; Chips</td>\n",
       "    </tr>\n",
       "    <tr>\n",
       "      <th>15</th>\n",
       "      <td>55f14312c7447c3da7051ed2</td>\n",
       "      <td>http://www.just-eat.co.uk/restaurants-blueging...</td>\n",
       "      <td>1 Atholl Court</td>\n",
       "      <td>Andover</td>\n",
       "      <td>Andover Tandoori - Collection Only</td>\n",
       "      <td>SP10</td>\n",
       "      <td>4BB</td>\n",
       "      <td>6</td>\n",
       "      <td>Curry</td>\n",
       "    </tr>\n",
       "    <tr>\n",
       "      <th>16</th>\n",
       "      <td>55f14312c7447c3da7051ed3</td>\n",
       "      <td>http://www.just-eat.co.uk/restaurants-blueging...</td>\n",
       "      <td>1 Atholl Court</td>\n",
       "      <td>Andover</td>\n",
       "      <td>Andover Tandoori - Collection Only</td>\n",
       "      <td>SP10</td>\n",
       "      <td>4BB</td>\n",
       "      <td>6</td>\n",
       "      <td>Curry</td>\n",
       "    </tr>\n",
       "    <tr>\n",
       "      <th>17</th>\n",
       "      <td>55f14312c7447c3da7051edb</td>\n",
       "      <td>http://www.just-eat.co.uk/restaurants-angeethi...</td>\n",
       "      <td>168 Kells Lane</td>\n",
       "      <td>Tyne &amp; Wear</td>\n",
       "      <td>Angeethi Indian Express</td>\n",
       "      <td>NE9</td>\n",
       "      <td>5HY</td>\n",
       "      <td>6</td>\n",
       "      <td>Curry</td>\n",
       "    </tr>\n",
       "    <tr>\n",
       "      <th>18</th>\n",
       "      <td>55f14312c7447c3da7051f14</td>\n",
       "      <td>http://www.just-eat.co.uk/restaurants-aniss---...</td>\n",
       "      <td>32 Waterloo Road</td>\n",
       "      <td>Smethwick</td>\n",
       "      <td>Anis's - The Taste of Perfection</td>\n",
       "      <td>B66</td>\n",
       "      <td>4JW</td>\n",
       "      <td>6</td>\n",
       "      <td>Curry</td>\n",
       "    </tr>\n",
       "    <tr>\n",
       "      <th>19</th>\n",
       "      <td>55f14312c7447c3da7051f2c</td>\n",
       "      <td>http://www.just-eat.co.uk/restaurants-annsthai...</td>\n",
       "      <td>27 Bilston Street</td>\n",
       "      <td>Dudley</td>\n",
       "      <td>Ann's Thai@ The Bulls Head</td>\n",
       "      <td>DY3</td>\n",
       "      <td>1JA</td>\n",
       "      <td>6</td>\n",
       "      <td>Thai</td>\n",
       "    </tr>\n",
       "    <tr>\n",
       "      <th>20</th>\n",
       "      <td>55f14312c7447c3da7051f5e</td>\n",
       "      <td>http://www.just-eat.co.uk/restaurants-arabesqu...</td>\n",
       "      <td>23 Winchester Road</td>\n",
       "      <td>London</td>\n",
       "      <td>Arabesque</td>\n",
       "      <td>NW3</td>\n",
       "      <td>3NR</td>\n",
       "      <td>6</td>\n",
       "      <td>Mediterranean</td>\n",
       "    </tr>\n",
       "    <tr>\n",
       "      <th>21</th>\n",
       "      <td>55f14312c7447c3da7051f8b</td>\n",
       "      <td>http://www.just-eat.co.uk/restaurants-ark-burg...</td>\n",
       "      <td>3 Church Street</td>\n",
       "      <td>Hertfordshire County</td>\n",
       "      <td>Ark Burger &amp; Salad Bar</td>\n",
       "      <td>CM23</td>\n",
       "      <td>2LY</td>\n",
       "      <td>6</td>\n",
       "      <td>American</td>\n",
       "    </tr>\n",
       "    <tr>\n",
       "      <th>22</th>\n",
       "      <td>55f14312c7447c3da7051fa0</td>\n",
       "      <td>http://www.just-eat.co.uk/restaurants-aroma-dl...</td>\n",
       "      <td>1 Zetland Street</td>\n",
       "      <td>Northallerton</td>\n",
       "      <td>Aroma Bar Restaurant Takeaway - Collection Only</td>\n",
       "      <td>DL6</td>\n",
       "      <td>1NB</td>\n",
       "      <td>6</td>\n",
       "      <td>Curry</td>\n",
       "    </tr>\n",
       "    <tr>\n",
       "      <th>23</th>\n",
       "      <td>55f14312c7447c3da7051fa1</td>\n",
       "      <td>http://www.just-eat.co.uk/restaurants-aroma-dl...</td>\n",
       "      <td>1 Zetland Street</td>\n",
       "      <td>Northallerton</td>\n",
       "      <td>Aroma Bar Restaurant Takeaway - Collection Only</td>\n",
       "      <td>DL6</td>\n",
       "      <td>1NB</td>\n",
       "      <td>6</td>\n",
       "      <td>Curry</td>\n",
       "    </tr>\n",
       "    <tr>\n",
       "      <th>24</th>\n",
       "      <td>55f14312c7447c3da7052023</td>\n",
       "      <td>http://www.just-eat.co.uk/restaurants-aslizaiq...</td>\n",
       "      <td>52 Uppingham Road</td>\n",
       "      <td>Leicestershire</td>\n",
       "      <td>Asli Zaiqa</td>\n",
       "      <td>LE5</td>\n",
       "      <td>0QD</td>\n",
       "      <td>6</td>\n",
       "      <td>Curry</td>\n",
       "    </tr>\n",
       "    <tr>\n",
       "      <th>25</th>\n",
       "      <td>55f14312c7447c3da7052029</td>\n",
       "      <td>http://www.just-eat.co.uk/restaurants-aspendos...</td>\n",
       "      <td>67 High Street</td>\n",
       "      <td>Dymchurch</td>\n",
       "      <td>Aspendos</td>\n",
       "      <td>TN29</td>\n",
       "      <td>0NH</td>\n",
       "      <td>6</td>\n",
       "      <td>Pizza</td>\n",
       "    </tr>\n",
       "    <tr>\n",
       "      <th>26</th>\n",
       "      <td>55f14312c7447c3da7052039</td>\n",
       "      <td>http://www.just-eat.co.uk/restaurants-atashper...</td>\n",
       "      <td>55 High Street</td>\n",
       "      <td>Brentford</td>\n",
       "      <td>Atash Persian Restaurant - Collection Only</td>\n",
       "      <td>TW8</td>\n",
       "      <td>0AH</td>\n",
       "      <td>6</td>\n",
       "      <td>Persian</td>\n",
       "    </tr>\n",
       "    <tr>\n",
       "      <th>27</th>\n",
       "      <td>55f14312c7447c3da705203a</td>\n",
       "      <td>http://www.just-eat.co.uk/restaurants-atashper...</td>\n",
       "      <td>55 High Street</td>\n",
       "      <td>Brentford</td>\n",
       "      <td>Atash Persian Restaurant - Collection Only</td>\n",
       "      <td>TW8</td>\n",
       "      <td>0AH</td>\n",
       "      <td>6</td>\n",
       "      <td>Persian</td>\n",
       "    </tr>\n",
       "    <tr>\n",
       "      <th>28</th>\n",
       "      <td>55f14312c7447c3da705203e</td>\n",
       "      <td>http://www.just-eat.co.uk/restaurants-athenabf...</td>\n",
       "      <td>27 Station Road</td>\n",
       "      <td>East Sussex</td>\n",
       "      <td>Athena B Fish Bar - Collection Only</td>\n",
       "      <td>BN41</td>\n",
       "      <td>1GB</td>\n",
       "      <td>6</td>\n",
       "      <td>Fish &amp; Chips</td>\n",
       "    </tr>\n",
       "    <tr>\n",
       "      <th>29</th>\n",
       "      <td>55f14312c7447c3da705203d</td>\n",
       "      <td>http://www.just-eat.co.uk/restaurants-athenabf...</td>\n",
       "      <td>27 Station Road</td>\n",
       "      <td>East Sussex</td>\n",
       "      <td>Athena B Fish Bar - Collection Only</td>\n",
       "      <td>BN41</td>\n",
       "      <td>1GB</td>\n",
       "      <td>6</td>\n",
       "      <td>Fish &amp; Chips</td>\n",
       "    </tr>\n",
       "    <tr>\n",
       "      <th>30</th>\n",
       "      <td>55f14312c7447c3da7052054</td>\n",
       "      <td>http://www.just-eat.co.uk/restaurants-atlantic...</td>\n",
       "      <td>Twin Spires Centre</td>\n",
       "      <td>County Antrim</td>\n",
       "      <td>Atlantic Gourmet</td>\n",
       "      <td>BT13</td>\n",
       "      <td>2JF</td>\n",
       "      <td>6</td>\n",
       "      <td>Fish &amp; Chips</td>\n",
       "    </tr>\n",
       "    <tr>\n",
       "      <th>31</th>\n",
       "      <td>55f14313c7447c3da705208b</td>\n",
       "      <td>http://www.just-eat.co.uk/restaurants-ayubowan...</td>\n",
       "      <td>46-50 High Street West</td>\n",
       "      <td>Derbyshire</td>\n",
       "      <td>Ayubowan</td>\n",
       "      <td>SK13</td>\n",
       "      <td>8BH</td>\n",
       "      <td>6</td>\n",
       "      <td>Sri-lankan</td>\n",
       "    </tr>\n",
       "    <tr>\n",
       "      <th>32</th>\n",
       "      <td>55f14313c7447c3da7052149</td>\n",
       "      <td>http://www.just-eat.co.uk/restaurants-baltihut...</td>\n",
       "      <td>12 Pilkington Buildings</td>\n",
       "      <td>Middlesborough</td>\n",
       "      <td>Balti Hut</td>\n",
       "      <td>TS5</td>\n",
       "      <td>6DY</td>\n",
       "      <td>6</td>\n",
       "      <td>Curry</td>\n",
       "    </tr>\n",
       "    <tr>\n",
       "      <th>33</th>\n",
       "      <td>55f14313c7447c3da70521f3</td>\n",
       "      <td>http://www.just-eat.co.uk/restaurants-barista-...</td>\n",
       "      <td>24 Ballards Lane</td>\n",
       "      <td>London</td>\n",
       "      <td>Barista House Restaurant &amp; Cafe - Collection Only</td>\n",
       "      <td>N3</td>\n",
       "      <td>2BJ</td>\n",
       "      <td>6</td>\n",
       "      <td>Pizza</td>\n",
       "    </tr>\n",
       "    <tr>\n",
       "      <th>34</th>\n",
       "      <td>55f14313c7447c3da70521f9</td>\n",
       "      <td>http://www.just-eat.co.uk/restaurants-barnacle...</td>\n",
       "      <td>8 Kirkham Road</td>\n",
       "      <td>Freckleton</td>\n",
       "      <td>Barnacle Bills</td>\n",
       "      <td>PR4</td>\n",
       "      <td>1HT</td>\n",
       "      <td>6</td>\n",
       "      <td>Fish &amp; Chips</td>\n",
       "    </tr>\n",
       "    <tr>\n",
       "      <th>35</th>\n",
       "      <td>55f14313c7447c3da705222d</td>\n",
       "      <td>http://www.just-eat.co.uk/restaurants-bathsush...</td>\n",
       "      <td>3 Victoria Buildings</td>\n",
       "      <td>Somerset</td>\n",
       "      <td>Bath Sushi</td>\n",
       "      <td>BA2</td>\n",
       "      <td>3EH</td>\n",
       "      <td>6</td>\n",
       "      <td>Sushi</td>\n",
       "    </tr>\n",
       "    <tr>\n",
       "      <th>36</th>\n",
       "      <td>55f14313c7447c3da7052293</td>\n",
       "      <td>http://www.just-eat.co.uk/restaurants-beastgou...</td>\n",
       "      <td>64 Torwood Street</td>\n",
       "      <td>Torquay</td>\n",
       "      <td>Beast Gourmet Burgers</td>\n",
       "      <td>TQ1</td>\n",
       "      <td>1DT</td>\n",
       "      <td>6</td>\n",
       "      <td>Burgers</td>\n",
       "    </tr>\n",
       "    <tr>\n",
       "      <th>37</th>\n",
       "      <td>55f14313c7447c3da7052292</td>\n",
       "      <td>http://www.just-eat.co.uk/restaurants-Bearstea...</td>\n",
       "      <td>29 Egremont Road</td>\n",
       "      <td>Kent</td>\n",
       "      <td>Bearstead Fish Bar - Collection Only</td>\n",
       "      <td>ME15</td>\n",
       "      <td>8LH</td>\n",
       "      <td>6</td>\n",
       "      <td>Fish &amp; Chips</td>\n",
       "    </tr>\n",
       "    <tr>\n",
       "      <th>38</th>\n",
       "      <td>55f14313c7447c3da705230a</td>\n",
       "      <td>http://www.just-eat.co.uk/restaurants-bellapan...</td>\n",
       "      <td>196 Harvie Avenue</td>\n",
       "      <td>Glasgow</td>\n",
       "      <td>Bella Panini</td>\n",
       "      <td>G77</td>\n",
       "      <td>6UT</td>\n",
       "      <td>6</td>\n",
       "      <td>Pizza</td>\n",
       "    </tr>\n",
       "    <tr>\n",
       "      <th>39</th>\n",
       "      <td>55f14313c7447c3da70523a4</td>\n",
       "      <td>http://www.just-eat.co.uk/restaurants-bennys-s...</td>\n",
       "      <td>30 North Street</td>\n",
       "      <td>London</td>\n",
       "      <td>Benny's - Collection Only</td>\n",
       "      <td>SW4</td>\n",
       "      <td>0HD</td>\n",
       "      <td>6</td>\n",
       "      <td>Fish &amp; Chips</td>\n",
       "    </tr>\n",
       "    <tr>\n",
       "      <th>40</th>\n",
       "      <td>55f14313c7447c3da70523a9</td>\n",
       "      <td>http://www.just-eat.co.uk/restaurants-bennys-g...</td>\n",
       "      <td>2 West Street</td>\n",
       "      <td>Colne</td>\n",
       "      <td>Benny's Grill House</td>\n",
       "      <td>BB8</td>\n",
       "      <td>0HP</td>\n",
       "      <td>6</td>\n",
       "      <td>Kebab</td>\n",
       "    </tr>\n",
       "    <tr>\n",
       "      <th>41</th>\n",
       "      <td>55f14313c7447c3da70523cf</td>\n",
       "      <td>http://www.just-eat.co.uk/restaurants-best-fis...</td>\n",
       "      <td>4 High Street</td>\n",
       "      <td>Broadstairs</td>\n",
       "      <td>Best Fish &amp; Chips</td>\n",
       "      <td>CT10</td>\n",
       "      <td>1LH</td>\n",
       "      <td>6</td>\n",
       "      <td>Fish &amp; Chips</td>\n",
       "    </tr>\n",
       "    <tr>\n",
       "      <th>42</th>\n",
       "      <td>55f14313c7447c3da705241b</td>\n",
       "      <td>http://www.just-eat.co.uk/restaurants-bestpizz...</td>\n",
       "      <td>113 Mungo Park Road</td>\n",
       "      <td>Rainham</td>\n",
       "      <td>Best Pizza</td>\n",
       "      <td>RM13</td>\n",
       "      <td>7PP</td>\n",
       "      <td>6</td>\n",
       "      <td>Pizza</td>\n",
       "    </tr>\n",
       "    <tr>\n",
       "      <th>43</th>\n",
       "      <td>55f14313c7447c3da705241c</td>\n",
       "      <td>http://www.just-eat.co.uk/restaurants-best-piz...</td>\n",
       "      <td>4 Macklin Street</td>\n",
       "      <td>Derby</td>\n",
       "      <td>Best Pizza &amp; Kebab</td>\n",
       "      <td>DE1</td>\n",
       "      <td>1LE</td>\n",
       "      <td>6</td>\n",
       "      <td>Pizza</td>\n",
       "    </tr>\n",
       "    <tr>\n",
       "      <th>44</th>\n",
       "      <td>55f14313c7447c3da705241d</td>\n",
       "      <td>http://www.just-eat.co.uk/restaurants-best-piz...</td>\n",
       "      <td>4 Macklin Street</td>\n",
       "      <td>Derby</td>\n",
       "      <td>Best Pizza &amp; Kebab</td>\n",
       "      <td>DE1</td>\n",
       "      <td>1LE</td>\n",
       "      <td>6</td>\n",
       "      <td>Pizza</td>\n",
       "    </tr>\n",
       "    <tr>\n",
       "      <th>45</th>\n",
       "      <td>55f14313c7447c3da705247c</td>\n",
       "      <td>http://www.just-eat.co.uk/restaurants-bigfish-...</td>\n",
       "      <td>387 London Road</td>\n",
       "      <td>Hastings</td>\n",
       "      <td>Big Fish - Collection Only</td>\n",
       "      <td>TN37</td>\n",
       "      <td>6PA</td>\n",
       "      <td>6</td>\n",
       "      <td>Fish &amp; Chips</td>\n",
       "    </tr>\n",
       "    <tr>\n",
       "      <th>46</th>\n",
       "      <td>55f14313c7447c3da705249e</td>\n",
       "      <td>http://www.just-eat.co.uk/restaurants-bigsaj-b...</td>\n",
       "      <td>231 Edward Road</td>\n",
       "      <td>Birmingham</td>\n",
       "      <td>Big Saj</td>\n",
       "      <td>B12</td>\n",
       "      <td>9LH</td>\n",
       "      <td>6</td>\n",
       "      <td>Kebab</td>\n",
       "    </tr>\n",
       "    <tr>\n",
       "      <th>47</th>\n",
       "      <td>55f14313c7447c3da705249d</td>\n",
       "      <td>http://www.just-eat.co.uk/restaurants-bigsaj-b...</td>\n",
       "      <td>231 Edward Road</td>\n",
       "      <td>Birmingham</td>\n",
       "      <td>Big Saj</td>\n",
       "      <td>B12</td>\n",
       "      <td>9LH</td>\n",
       "      <td>6</td>\n",
       "      <td>Kebab</td>\n",
       "    </tr>\n",
       "    <tr>\n",
       "      <th>48</th>\n",
       "      <td>55f14313c7447c3da70524a6</td>\n",
       "      <td>http://www.just-eat.co.uk/restaurants-biggapot...</td>\n",
       "      <td>15 College Road</td>\n",
       "      <td>Birmingham</td>\n",
       "      <td>Biggapot Caribbean - Collection Only</td>\n",
       "      <td>B20</td>\n",
       "      <td>2HY</td>\n",
       "      <td>6</td>\n",
       "      <td>Caribbean</td>\n",
       "    </tr>\n",
       "  </tbody>\n",
       "</table>\n",
       "</div>"
      ],
      "text/plain": [
       "                         _id  \\\n",
       "0   55f14312c7447c3da7051b2a   \n",
       "1   55f14312c7447c3da7051b2b   \n",
       "2   55f14312c7447c3da7051bbc   \n",
       "3   55f14312c7447c3da7051bfb   \n",
       "4   55f14312c7447c3da7051c82   \n",
       "5   55f14312c7447c3da7051ca4   \n",
       "6   55f14312c7447c3da7051cbd   \n",
       "7   55f14312c7447c3da7051cf0   \n",
       "8   55f14312c7447c3da7051d00   \n",
       "9   55f14312c7447c3da7051d4c   \n",
       "10  55f14312c7447c3da7051d5b   \n",
       "11  55f14312c7447c3da7051d5c   \n",
       "12  55f14312c7447c3da7051dd1   \n",
       "13  55f14312c7447c3da7051e94   \n",
       "14  55f14312c7447c3da7051ea5   \n",
       "15  55f14312c7447c3da7051ed2   \n",
       "16  55f14312c7447c3da7051ed3   \n",
       "17  55f14312c7447c3da7051edb   \n",
       "18  55f14312c7447c3da7051f14   \n",
       "19  55f14312c7447c3da7051f2c   \n",
       "20  55f14312c7447c3da7051f5e   \n",
       "21  55f14312c7447c3da7051f8b   \n",
       "22  55f14312c7447c3da7051fa0   \n",
       "23  55f14312c7447c3da7051fa1   \n",
       "24  55f14312c7447c3da7052023   \n",
       "25  55f14312c7447c3da7052029   \n",
       "26  55f14312c7447c3da7052039   \n",
       "27  55f14312c7447c3da705203a   \n",
       "28  55f14312c7447c3da705203e   \n",
       "29  55f14312c7447c3da705203d   \n",
       "30  55f14312c7447c3da7052054   \n",
       "31  55f14313c7447c3da705208b   \n",
       "32  55f14313c7447c3da7052149   \n",
       "33  55f14313c7447c3da70521f3   \n",
       "34  55f14313c7447c3da70521f9   \n",
       "35  55f14313c7447c3da705222d   \n",
       "36  55f14313c7447c3da7052293   \n",
       "37  55f14313c7447c3da7052292   \n",
       "38  55f14313c7447c3da705230a   \n",
       "39  55f14313c7447c3da70523a4   \n",
       "40  55f14313c7447c3da70523a9   \n",
       "41  55f14313c7447c3da70523cf   \n",
       "42  55f14313c7447c3da705241b   \n",
       "43  55f14313c7447c3da705241c   \n",
       "44  55f14313c7447c3da705241d   \n",
       "45  55f14313c7447c3da705247c   \n",
       "46  55f14313c7447c3da705249e   \n",
       "47  55f14313c7447c3da705249d   \n",
       "48  55f14313c7447c3da70524a6   \n",
       "\n",
       "                                                  URL  \\\n",
       "0   http://www.just-eat.co.uk/restaurants-indianco...   \n",
       "1   http://www.just-eat.co.uk/restaurants-007takea...   \n",
       "2   http://www.just-eat.co.uk/restaurants-aarthi-s...   \n",
       "3   http://www.just-eat.co.uk/restaurants-absharin...   \n",
       "4   http://www.just-eat.co.uk/restaurants-agra-war...   \n",
       "5   http://www.just-eat.co.uk/restaurants-aji-tn23...   \n",
       "6   http://www.just-eat.co.uk/restaurants-akash-ac...   \n",
       "7   http://www.just-eat.co.uk/restaurants-alfrango...   \n",
       "8   http://www.just-eat.co.uk/restaurants-almedina...   \n",
       "9   http://www.just-eat.co.uk/restaurants-alcatraz...   \n",
       "10  http://www.just-eat.co.uk/restaurants-alexplai...   \n",
       "11  http://www.just-eat.co.uk/restaurants-alexplai...   \n",
       "12  http://www.just-eat.co.uk/restaurants-allsiam-...   \n",
       "13  http://www.just-eat.co.uk/restaurants-amina-st...   \n",
       "14  http://www.just-eat.co.uk/restaurants-ammanfor...   \n",
       "15  http://www.just-eat.co.uk/restaurants-blueging...   \n",
       "16  http://www.just-eat.co.uk/restaurants-blueging...   \n",
       "17  http://www.just-eat.co.uk/restaurants-angeethi...   \n",
       "18  http://www.just-eat.co.uk/restaurants-aniss---...   \n",
       "19  http://www.just-eat.co.uk/restaurants-annsthai...   \n",
       "20  http://www.just-eat.co.uk/restaurants-arabesqu...   \n",
       "21  http://www.just-eat.co.uk/restaurants-ark-burg...   \n",
       "22  http://www.just-eat.co.uk/restaurants-aroma-dl...   \n",
       "23  http://www.just-eat.co.uk/restaurants-aroma-dl...   \n",
       "24  http://www.just-eat.co.uk/restaurants-aslizaiq...   \n",
       "25  http://www.just-eat.co.uk/restaurants-aspendos...   \n",
       "26  http://www.just-eat.co.uk/restaurants-atashper...   \n",
       "27  http://www.just-eat.co.uk/restaurants-atashper...   \n",
       "28  http://www.just-eat.co.uk/restaurants-athenabf...   \n",
       "29  http://www.just-eat.co.uk/restaurants-athenabf...   \n",
       "30  http://www.just-eat.co.uk/restaurants-atlantic...   \n",
       "31  http://www.just-eat.co.uk/restaurants-ayubowan...   \n",
       "32  http://www.just-eat.co.uk/restaurants-baltihut...   \n",
       "33  http://www.just-eat.co.uk/restaurants-barista-...   \n",
       "34  http://www.just-eat.co.uk/restaurants-barnacle...   \n",
       "35  http://www.just-eat.co.uk/restaurants-bathsush...   \n",
       "36  http://www.just-eat.co.uk/restaurants-beastgou...   \n",
       "37  http://www.just-eat.co.uk/restaurants-Bearstea...   \n",
       "38  http://www.just-eat.co.uk/restaurants-bellapan...   \n",
       "39  http://www.just-eat.co.uk/restaurants-bennys-s...   \n",
       "40  http://www.just-eat.co.uk/restaurants-bennys-g...   \n",
       "41  http://www.just-eat.co.uk/restaurants-best-fis...   \n",
       "42  http://www.just-eat.co.uk/restaurants-bestpizz...   \n",
       "43  http://www.just-eat.co.uk/restaurants-best-piz...   \n",
       "44  http://www.just-eat.co.uk/restaurants-best-piz...   \n",
       "45  http://www.just-eat.co.uk/restaurants-bigfish-...   \n",
       "46  http://www.just-eat.co.uk/restaurants-bigsaj-b...   \n",
       "47  http://www.just-eat.co.uk/restaurants-bigsaj-b...   \n",
       "48  http://www.just-eat.co.uk/restaurants-biggapot...   \n",
       "\n",
       "                    address        address line 2  \\\n",
       "0     9 Broughton Hall Road             Broughton   \n",
       "1         6 Drummond Street             Rotherham   \n",
       "2           5 Kingston Road                London   \n",
       "3            43 High Street                Ilford   \n",
       "4            32 East Street             Wiltshire   \n",
       "5              23 New Rents               Ashford   \n",
       "6           87 Whalley Road            Accrington   \n",
       "7      14 Wellington Street                 Luton   \n",
       "8            2 Walford Road             Sparkhill   \n",
       "9     127 Christchurch Road           Bournemouth   \n",
       "10    314 Kilburn High Road                London   \n",
       "11    314 Kilburn High Road                London   \n",
       "12       639 Ecclesall Road             Sheffield   \n",
       "13      5 Sutton Oak Corner            Birmingham   \n",
       "14        18 College Street                 Dyfed   \n",
       "15           1 Atholl Court               Andover   \n",
       "16           1 Atholl Court               Andover   \n",
       "17           168 Kells Lane           Tyne & Wear   \n",
       "18         32 Waterloo Road             Smethwick   \n",
       "19        27 Bilston Street                Dudley   \n",
       "20       23 Winchester Road                London   \n",
       "21          3 Church Street  Hertfordshire County   \n",
       "22         1 Zetland Street         Northallerton   \n",
       "23         1 Zetland Street         Northallerton   \n",
       "24        52 Uppingham Road        Leicestershire   \n",
       "25           67 High Street             Dymchurch   \n",
       "26           55 High Street             Brentford   \n",
       "27           55 High Street             Brentford   \n",
       "28          27 Station Road           East Sussex   \n",
       "29          27 Station Road           East Sussex   \n",
       "30       Twin Spires Centre         County Antrim   \n",
       "31   46-50 High Street West            Derbyshire   \n",
       "32  12 Pilkington Buildings        Middlesborough   \n",
       "33         24 Ballards Lane                London   \n",
       "34           8 Kirkham Road            Freckleton   \n",
       "35     3 Victoria Buildings              Somerset   \n",
       "36        64 Torwood Street               Torquay   \n",
       "37         29 Egremont Road                  Kent   \n",
       "38        196 Harvie Avenue               Glasgow   \n",
       "39          30 North Street                London   \n",
       "40            2 West Street                 Colne   \n",
       "41            4 High Street           Broadstairs   \n",
       "42      113 Mungo Park Road               Rainham   \n",
       "43         4 Macklin Street                 Derby   \n",
       "44         4 Macklin Street                 Derby   \n",
       "45          387 London Road              Hastings   \n",
       "46          231 Edward Road            Birmingham   \n",
       "47          231 Edward Road            Birmingham   \n",
       "48          15 College Road            Birmingham   \n",
       "\n",
       "                                                 name outcode postcode  \\\n",
       "0                                         @Indian.com     CH4      0QR   \n",
       "1                                        007 Takeaway     S65      1HY   \n",
       "2                                              Aarthi    SW19      1JX   \n",
       "3                               Abshar Indian Cuisine     IG6      2AD   \n",
       "4                                                Agra    BA12      9BN   \n",
       "5                               Aji - Collection Only    TN23      2JJ   \n",
       "6                                    Akash Accrington     BB5      1AS   \n",
       "7                                           Al Frango     LU1      2HQ   \n",
       "8                Al Medina Delights - Collection Only     B11      1NR   \n",
       "9                          Alcatraz Caffe Bournemouth     BH1      1EP   \n",
       "10                                        Alex Plaice     NW6      2DG   \n",
       "11                                        Alex Plaice     NW6      2DG   \n",
       "12         All Siam Thai Restaurant - Collection Only     S11      8PT   \n",
       "13                                              Amina     B74      2DH   \n",
       "14                                 Ammanford Fish Bar    SA18      3AF   \n",
       "15                 Andover Tandoori - Collection Only    SP10      4BB   \n",
       "16                 Andover Tandoori - Collection Only    SP10      4BB   \n",
       "17                            Angeethi Indian Express     NE9      5HY   \n",
       "18                   Anis's - The Taste of Perfection     B66      4JW   \n",
       "19                         Ann's Thai@ The Bulls Head     DY3      1JA   \n",
       "20                                          Arabesque     NW3      3NR   \n",
       "21                             Ark Burger & Salad Bar    CM23      2LY   \n",
       "22    Aroma Bar Restaurant Takeaway - Collection Only     DL6      1NB   \n",
       "23    Aroma Bar Restaurant Takeaway - Collection Only     DL6      1NB   \n",
       "24                                         Asli Zaiqa     LE5      0QD   \n",
       "25                                           Aspendos    TN29      0NH   \n",
       "26         Atash Persian Restaurant - Collection Only     TW8      0AH   \n",
       "27         Atash Persian Restaurant - Collection Only     TW8      0AH   \n",
       "28                Athena B Fish Bar - Collection Only    BN41      1GB   \n",
       "29                Athena B Fish Bar - Collection Only    BN41      1GB   \n",
       "30                                   Atlantic Gourmet    BT13      2JF   \n",
       "31                                           Ayubowan    SK13      8BH   \n",
       "32                                          Balti Hut     TS5      6DY   \n",
       "33  Barista House Restaurant & Cafe - Collection Only      N3      2BJ   \n",
       "34                                     Barnacle Bills     PR4      1HT   \n",
       "35                                         Bath Sushi     BA2      3EH   \n",
       "36                              Beast Gourmet Burgers     TQ1      1DT   \n",
       "37               Bearstead Fish Bar - Collection Only    ME15      8LH   \n",
       "38                                       Bella Panini     G77      6UT   \n",
       "39                          Benny's - Collection Only     SW4      0HD   \n",
       "40                                Benny's Grill House     BB8      0HP   \n",
       "41                                  Best Fish & Chips    CT10      1LH   \n",
       "42                                         Best Pizza    RM13      7PP   \n",
       "43                                 Best Pizza & Kebab     DE1      1LE   \n",
       "44                                 Best Pizza & Kebab     DE1      1LE   \n",
       "45                         Big Fish - Collection Only    TN37      6PA   \n",
       "46                                            Big Saj     B12      9LH   \n",
       "47                                            Big Saj     B12      9LH   \n",
       "48               Biggapot Caribbean - Collection Only     B20      2HY   \n",
       "\n",
       "    rating   type_of_food  \n",
       "0        6          Curry  \n",
       "1        6          Pizza  \n",
       "2        6          Curry  \n",
       "3        6        Punjabi  \n",
       "4        6          Curry  \n",
       "5        6       Japanese  \n",
       "6        6          Curry  \n",
       "7        6  Mediterranean  \n",
       "8        6          Pasta  \n",
       "9        6          Pizza  \n",
       "10       6   Fish & Chips  \n",
       "11       6   Fish & Chips  \n",
       "12       6           Thai  \n",
       "13       6          Curry  \n",
       "14       6   Fish & Chips  \n",
       "15       6          Curry  \n",
       "16       6          Curry  \n",
       "17       6          Curry  \n",
       "18       6          Curry  \n",
       "19       6           Thai  \n",
       "20       6  Mediterranean  \n",
       "21       6       American  \n",
       "22       6          Curry  \n",
       "23       6          Curry  \n",
       "24       6          Curry  \n",
       "25       6          Pizza  \n",
       "26       6        Persian  \n",
       "27       6        Persian  \n",
       "28       6   Fish & Chips  \n",
       "29       6   Fish & Chips  \n",
       "30       6   Fish & Chips  \n",
       "31       6     Sri-lankan  \n",
       "32       6          Curry  \n",
       "33       6          Pizza  \n",
       "34       6   Fish & Chips  \n",
       "35       6          Sushi  \n",
       "36       6        Burgers  \n",
       "37       6   Fish & Chips  \n",
       "38       6          Pizza  \n",
       "39       6   Fish & Chips  \n",
       "40       6          Kebab  \n",
       "41       6   Fish & Chips  \n",
       "42       6          Pizza  \n",
       "43       6          Pizza  \n",
       "44       6          Pizza  \n",
       "45       6   Fish & Chips  \n",
       "46       6          Kebab  \n",
       "47       6          Kebab  \n",
       "48       6      Caribbean  "
      ]
     },
     "execution_count": 48,
     "metadata": {},
     "output_type": "execute_result"
    }
   ],
   "source": [
    "df = pd.DataFrame(documents2)\n",
    "df"
   ]
  },
  {
   "cell_type": "markdown",
   "metadata": {},
   "source": [
    "## Projecting"
   ]
  },
  {
   "cell_type": "markdown",
   "metadata": {},
   "source": [
    "We may only want some fields in the mongo response:"
   ]
  },
  {
   "cell_type": "markdown",
   "metadata": {},
   "source": [
    "`_id` field is returned by default"
   ]
  },
  {
   "cell_type": "markdown",
   "metadata": {},
   "source": [
    "`collection.find(filter, project)`"
   ]
  },
  {
   "cell_type": "code",
   "execution_count": 64,
   "metadata": {},
   "outputs": [
    {
     "data": {
      "text/plain": [
       "<pymongo.cursor.Cursor at 0x7fb76eead040>"
      ]
     },
     "execution_count": 64,
     "metadata": {},
     "output_type": "execute_result"
    }
   ],
   "source": [
    "collection.find({\"rating\": 2}, {\"rating\": 1, \"name\": 1})"
   ]
  },
  {
   "cell_type": "code",
   "execution_count": 65,
   "metadata": {},
   "outputs": [
    {
     "data": {
      "text/plain": [
       "[{'_id': ObjectId('55f14313c7447c3da705246d'),\n",
       "  'name': 'Big Boys Pizza',\n",
       "  'rating': 2},\n",
       " {'_id': ObjectId('55f14313c7447c3da705246c'),\n",
       "  'name': 'Big Boys Pizza',\n",
       "  'rating': 2},\n",
       " {'_id': ObjectId('55f14313c7447c3da705246b'),\n",
       "  'name': 'Big Boys Pizza',\n",
       "  'rating': 2}]"
      ]
     },
     "execution_count": 65,
     "metadata": {},
     "output_type": "execute_result"
    }
   ],
   "source": [
    "list(_)"
   ]
  },
  {
   "cell_type": "code",
   "execution_count": 66,
   "metadata": {},
   "outputs": [
    {
     "data": {
      "text/plain": [
       "<pymongo.cursor.Cursor at 0x7fb76732b6d0>"
      ]
     },
     "execution_count": 66,
     "metadata": {},
     "output_type": "execute_result"
    }
   ],
   "source": [
    "collection.find({\"rating\": 2}, {\"rating\": 1, \"name\": 1, \"_id\": 0})"
   ]
  },
  {
   "cell_type": "code",
   "execution_count": 67,
   "metadata": {},
   "outputs": [
    {
     "data": {
      "text/plain": [
       "[{'name': 'Big Boys Pizza', 'rating': 2},\n",
       " {'name': 'Big Boys Pizza', 'rating': 2},\n",
       " {'name': 'Big Boys Pizza', 'rating': 2}]"
      ]
     },
     "execution_count": 67,
     "metadata": {},
     "output_type": "execute_result"
    }
   ],
   "source": [
    "list(_)"
   ]
  },
  {
   "cell_type": "markdown",
   "metadata": {},
   "source": [
    "## Other methods"
   ]
  },
  {
   "cell_type": "markdown",
   "metadata": {},
   "source": [
    "### `distinct`"
   ]
  },
  {
   "cell_type": "markdown",
   "metadata": {},
   "source": [
    "How many distinct values does a field have in the whole collection?"
   ]
  },
  {
   "cell_type": "code",
   "execution_count": 21,
   "metadata": {},
   "outputs": [
    {
     "data": {
      "text/plain": [
       "[1, 1.5, 2, 2.5, 3, 3.5, 4, 4.5, 5, 5.5, 6, 'Not yet rated']"
      ]
     },
     "execution_count": 21,
     "metadata": {},
     "output_type": "execute_result"
    }
   ],
   "source": [
    "collection.distinct(\"rating\")"
   ]
  },
  {
   "cell_type": "code",
   "execution_count": 25,
   "metadata": {},
   "outputs": [
    {
     "data": {
      "text/plain": [
       "['*NEW*',\n",
       " 'Afghan',\n",
       " 'African',\n",
       " 'American',\n",
       " 'Arabic',\n",
       " 'Azerbaijan',\n",
       " 'Bagels',\n",
       " 'Bangladeshi',\n",
       " 'Breakfast',\n",
       " 'Burgers',\n",
       " 'Cakes',\n",
       " 'Caribbean',\n",
       " 'Chicken',\n",
       " 'Chinese',\n",
       " 'Curry',\n",
       " 'Desserts',\n",
       " 'English',\n",
       " 'Ethiopian',\n",
       " 'Fish & Chips',\n",
       " 'Greek',\n",
       " 'Grill',\n",
       " 'Healthy',\n",
       " 'Ice Cream',\n",
       " 'Japanese',\n",
       " 'Kebab',\n",
       " 'Korean',\n",
       " 'Lebanese',\n",
       " 'Mediterranean',\n",
       " 'Mexican',\n",
       " 'Middle Eastern',\n",
       " 'Milkshakes',\n",
       " 'Moroccan',\n",
       " 'Nigerian',\n",
       " 'Pakistani',\n",
       " 'Pasta',\n",
       " 'Peri Peri',\n",
       " 'Persian',\n",
       " 'Pick n Mix',\n",
       " 'Pizza',\n",
       " 'Polish',\n",
       " 'Portuguese',\n",
       " 'Punjabi',\n",
       " 'Russian',\n",
       " 'Sandwiches',\n",
       " 'South Curry',\n",
       " 'Spanish',\n",
       " 'Sri-lankan',\n",
       " 'Sushi',\n",
       " 'Thai',\n",
       " 'Turkish',\n",
       " 'Vegetarian',\n",
       " 'Vietnamese']"
      ]
     },
     "execution_count": 25,
     "metadata": {},
     "output_type": "execute_result"
    }
   ],
   "source": [
    "collection.distinct(\"type_of_food\")"
   ]
  },
  {
   "cell_type": "markdown",
   "metadata": {},
   "source": [
    "### `count`"
   ]
  },
  {
   "cell_type": "markdown",
   "metadata": {},
   "source": [
    "`collection.count_documents(filter)`"
   ]
  },
  {
   "cell_type": "code",
   "execution_count": 50,
   "metadata": {},
   "outputs": [
    {
     "data": {
      "text/plain": [
       "2548"
      ]
     },
     "execution_count": 50,
     "metadata": {},
     "output_type": "execute_result"
    }
   ],
   "source": [
    "collection.count_documents({})"
   ]
  },
  {
   "cell_type": "code",
   "execution_count": 54,
   "metadata": {},
   "outputs": [
    {
     "data": {
      "text/plain": [
       "1107"
      ]
     },
     "execution_count": 54,
     "metadata": {},
     "output_type": "execute_result"
    }
   ],
   "source": [
    "collection.count_documents({\"rating\": 5})"
   ]
  },
  {
   "cell_type": "markdown",
   "metadata": {},
   "source": [
    "### `sort`"
   ]
  },
  {
   "cell_type": "markdown",
   "metadata": {},
   "source": [
    "We can `sort` the result of a `find`"
   ]
  },
  {
   "cell_type": "markdown",
   "metadata": {},
   "source": [
    "`1` means ascending"
   ]
  },
  {
   "cell_type": "markdown",
   "metadata": {},
   "source": [
    "`-1` means desscending"
   ]
  },
  {
   "cell_type": "code",
   "execution_count": 82,
   "metadata": {},
   "outputs": [
    {
     "data": {
      "text/plain": [
       "<pymongo.cursor.Cursor at 0x7fb767f21c70>"
      ]
     },
     "execution_count": 82,
     "metadata": {},
     "output_type": "execute_result"
    }
   ],
   "source": [
    "collection.find({\"type_of_food\": \"Chinese\"}, {\"name\": 1, \"rating\": 1}).sort(\"rating\", 1)"
   ]
  },
  {
   "cell_type": "code",
   "execution_count": 83,
   "metadata": {},
   "outputs": [
    {
     "data": {
      "text/plain": [
       "[{'_id': ObjectId('55f14312c7447c3da7051fff'),\n",
       "  'name': 'Asia Asia',\n",
       "  'rating': 3.5},\n",
       " {'_id': ObjectId('55f14313c7447c3da705219a'),\n",
       "  'name': 'Bamboo Garden Chinese Takeaway',\n",
       "  'rating': 3.5},\n",
       " {'_id': ObjectId('55f14312c7447c3da7051b80'),\n",
       "  'name': '88 Noodle Bar',\n",
       "  'rating': 4},\n",
       " {'_id': ObjectId('55f14312c7447c3da7051e33'), 'name': 'Amazing', 'rating': 4},\n",
       " {'_id': ObjectId('55f14312c7447c3da7051f80'), 'name': 'Arirang', 'rating': 4},\n",
       " {'_id': ObjectId('55f14312c7447c3da7051f81'), 'name': 'Arirang', 'rating': 4},\n",
       " {'_id': ObjectId('55f14312c7447c3da7051f82'), 'name': 'Arirang', 'rating': 4},\n",
       " {'_id': ObjectId('55f14312c7447c3da7051f85'), 'name': 'Arirang', 'rating': 4},\n",
       " {'_id': ObjectId('55f14312c7447c3da7051f83'), 'name': 'Arirang', 'rating': 4},\n",
       " {'_id': ObjectId('55f14312c7447c3da7051f84'), 'name': 'Arirang', 'rating': 4},\n",
       " {'_id': ObjectId('55f14313c7447c3da70522ba'),\n",
       "  'name': 'Beijing Chinese',\n",
       "  'rating': 4},\n",
       " {'_id': ObjectId('55f14313c7447c3da70522bb'),\n",
       "  'name': 'Beijing Chinese Restaurant',\n",
       "  'rating': 4},\n",
       " {'_id': ObjectId('55f14312c7447c3da7051b2f'),\n",
       "  'name': '1 2 3 Chinese',\n",
       "  'rating': 4.5},\n",
       " {'_id': ObjectId('55f14312c7447c3da7051b30'),\n",
       "  'name': '1 2 3 Chinese',\n",
       "  'rating': 4.5},\n",
       " {'_id': ObjectId('55f14312c7447c3da7051b58'),\n",
       "  'name': '333 Chinese Takeaway1',\n",
       "  'rating': 4.5},\n",
       " {'_id': ObjectId('55f14312c7447c3da7051b72'),\n",
       "  'name': '57 Orient Takeaway',\n",
       "  'rating': 4.5},\n",
       " {'_id': ObjectId('55f14312c7447c3da7051ba8'),\n",
       "  'name': 'A1 Wok',\n",
       "  'rating': 4.5},\n",
       " {'_id': ObjectId('55f14312c7447c3da7051c5c'), 'name': 'AF88', 'rating': 4.5},\n",
       " {'_id': ObjectId('55f14312c7447c3da7051dd3'),\n",
       "  'name': 'All Welcome',\n",
       "  'rating': 4.5},\n",
       " {'_id': ObjectId('55f14312c7447c3da7051e39'), 'name': 'Amber', 'rating': 4.5},\n",
       " {'_id': ObjectId('55f14312c7447c3da7051fc0'),\n",
       "  'name': 'Arsenal Chinese Food & Fish Bar',\n",
       "  'rating': 4.5},\n",
       " {'_id': ObjectId('55f14312c7447c3da7051fc1'),\n",
       "  'name': 'Arsenal Chinese Food & Fish Bar',\n",
       "  'rating': 4.5},\n",
       " {'_id': ObjectId('55f14312c7447c3da7051fca'),\n",
       "  'name': \"Arthur's China City\",\n",
       "  'rating': 4.5},\n",
       " {'_id': ObjectId('55f14312c7447c3da7052002'),\n",
       "  'name': 'Asia Chinese',\n",
       "  'rating': 4.5},\n",
       " {'_id': ObjectId('55f14312c7447c3da705200b'),\n",
       "  'name': 'Asia Wok',\n",
       "  'rating': 4.5},\n",
       " {'_id': ObjectId('55f14312c7447c3da7052037'),\n",
       "  'name': 'At Wan Da',\n",
       "  'rating': 4.5},\n",
       " {'_id': ObjectId('55f14312c7447c3da7052036'),\n",
       "  'name': 'At Wan Da',\n",
       "  'rating': 4.5},\n",
       " {'_id': ObjectId('55f14312c7447c3da7052060'),\n",
       "  'name': 'August Moon',\n",
       "  'rating': 4.5},\n",
       " {'_id': ObjectId('55f14313c7447c3da70520b9'),\n",
       "  'name': 'Ba Fu Chinese',\n",
       "  'rating': 4.5},\n",
       " {'_id': ObjectId('55f14313c7447c3da7052192'),\n",
       "  'name': 'Bamboo Garden',\n",
       "  'rating': 4.5},\n",
       " {'_id': ObjectId('55f14313c7447c3da705219d'),\n",
       "  'name': 'Bamboo House',\n",
       "  'rating': 4.5},\n",
       " {'_id': ObjectId('55f14313c7447c3da705219b'),\n",
       "  'name': 'Bamboo House',\n",
       "  'rating': 4.5},\n",
       " {'_id': ObjectId('55f14313c7447c3da705219c'),\n",
       "  'name': 'Bamboo House',\n",
       "  'rating': 4.5},\n",
       " {'_id': ObjectId('55f14313c7447c3da70521fc'),\n",
       "  'name': 'Barnsley House',\n",
       "  'rating': 4.5},\n",
       " {'_id': ObjectId('55f14313c7447c3da70522b7'),\n",
       "  'name': 'Beijing',\n",
       "  'rating': 4.5},\n",
       " {'_id': ObjectId('55f14313c7447c3da70522bf'),\n",
       "  'name': 'Beijing Dragon',\n",
       "  'rating': 4.5},\n",
       " {'_id': ObjectId('55f14313c7447c3da70522bc'),\n",
       "  'name': 'Beijing City',\n",
       "  'rating': 4.5},\n",
       " {'_id': ObjectId('55f14313c7447c3da70522c7'),\n",
       "  'name': 'Beijing House',\n",
       "  'rating': 4.5},\n",
       " {'_id': ObjectId('55f14313c7447c3da70522c8'),\n",
       "  'name': 'Beijing House',\n",
       "  'rating': 4.5},\n",
       " {'_id': ObjectId('55f14313c7447c3da70522c9'),\n",
       "  'name': 'Beijing House',\n",
       "  'rating': 4.5},\n",
       " {'_id': ObjectId('55f14313c7447c3da70522ca'),\n",
       "  'name': 'Beijing House',\n",
       "  'rating': 4.5},\n",
       " {'_id': ObjectId('55f14313c7447c3da70522cc'),\n",
       "  'name': 'Beijing Inn',\n",
       "  'rating': 4.5},\n",
       " {'_id': ObjectId('55f14313c7447c3da70522cd'),\n",
       "  'name': 'Beijing Inn',\n",
       "  'rating': 4.5},\n",
       " {'_id': ObjectId('55f14313c7447c3da70522ce'),\n",
       "  'name': 'Beijing Inn',\n",
       "  'rating': 4.5},\n",
       " {'_id': ObjectId('55f14313c7447c3da70522da'),\n",
       "  'name': 'Beijing Oriental Express',\n",
       "  'rating': 4.5},\n",
       " {'_id': ObjectId('55f14313c7447c3da70522db'),\n",
       "  'name': 'Beijing Palace Restaurant',\n",
       "  'rating': 4.5},\n",
       " {'_id': ObjectId('55f14313c7447c3da70522dc'),\n",
       "  'name': 'Beijing Restaurant',\n",
       "  'rating': 4.5},\n",
       " {'_id': ObjectId('55f14313c7447c3da70522fe'),\n",
       "  'name': 'Bella Chinese',\n",
       "  'rating': 4.5},\n",
       " {'_id': ObjectId('55f14313c7447c3da7052336'),\n",
       "  'name': 'Belmont Welcome Chinese',\n",
       "  'rating': 4.5},\n",
       " {'_id': ObjectId('55f14313c7447c3da70524a2'),\n",
       "  'name': 'Big Wok',\n",
       "  'rating': 4.5},\n",
       " {'_id': ObjectId('55f14313c7447c3da70524cf'),\n",
       "  'name': 'Bing Chinese Takeaway',\n",
       "  'rating': 4.5},\n",
       " {'_id': ObjectId('55f14313c7447c3da70524ce'),\n",
       "  'name': 'Bing Chinese Takeaway',\n",
       "  'rating': 4.5},\n",
       " {'_id': ObjectId('55f14313c7447c3da70524f3'),\n",
       "  'name': 'Black Bull',\n",
       "  'rating': 4.5},\n",
       " {'_id': ObjectId('55f14312c7447c3da7051b26'),\n",
       "  'name': '.CN Chinese',\n",
       "  'rating': 5},\n",
       " {'_id': ObjectId('55f14312c7447c3da7051b31'),\n",
       "  'name': '100 Degrees Chinese Restaurant',\n",
       "  'rating': 5},\n",
       " {'_id': ObjectId('55f14312c7447c3da7051b32'),\n",
       "  'name': '100 Menu',\n",
       "  'rating': 5},\n",
       " {'_id': ObjectId('55f14312c7447c3da7051b39'), 'name': '1A Wok', 'rating': 5},\n",
       " {'_id': ObjectId('55f14312c7447c3da7051b56'),\n",
       "  'name': '333 Chinese Takeaway',\n",
       "  'rating': 5},\n",
       " {'_id': ObjectId('55f14312c7447c3da7051b57'),\n",
       "  'name': '333 Chinese Takeaway',\n",
       "  'rating': 5},\n",
       " {'_id': ObjectId('55f14312c7447c3da7051b55'),\n",
       "  'name': '328 Chinese Online',\n",
       "  'rating': 5},\n",
       " {'_id': ObjectId('55f14312c7447c3da7051b64'),\n",
       "  'name': '5 Star Chinese',\n",
       "  'rating': 5},\n",
       " {'_id': ObjectId('55f14312c7447c3da7051b63'),\n",
       "  'name': '5 Star Chinese',\n",
       "  'rating': 5},\n",
       " {'_id': ObjectId('55f14312c7447c3da7051b7f'),\n",
       "  'name': '88 Chinese',\n",
       "  'rating': 5},\n",
       " {'_id': ObjectId('55f14312c7447c3da7051b82'),\n",
       "  'name': '888 Triple Eight',\n",
       "  'rating': 5},\n",
       " {'_id': ObjectId('55f14312c7447c3da7051b85'),\n",
       "  'name': '9th Kitchen',\n",
       "  'rating': 5},\n",
       " {'_id': ObjectId('55f14312c7447c3da7051b86'),\n",
       "  'name': 'A & G Kitchen',\n",
       "  'rating': 5},\n",
       " {'_id': ObjectId('55f14312c7447c3da7051b81'),\n",
       "  'name': '888 Chinese Takeaway',\n",
       "  'rating': 5},\n",
       " {'_id': ObjectId('55f14312c7447c3da7051be5'),\n",
       "  'name': 'Aberavon Packed Meals',\n",
       "  'rating': 5},\n",
       " {'_id': ObjectId('55f14312c7447c3da7051be8'),\n",
       "  'name': 'Aberdeen Shanghai Takeaway',\n",
       "  'rating': 5},\n",
       " {'_id': ObjectId('55f14312c7447c3da7051c0e'), 'name': \"Ackie's\", 'rating': 5},\n",
       " {'_id': ObjectId('55f14312c7447c3da7051c0c'),\n",
       "  'name': 'Acha Halal Chinese Cuisine',\n",
       "  'rating': 5},\n",
       " {'_id': ObjectId('55f14312c7447c3da7051c78'),\n",
       "  'name': 'After Taste',\n",
       "  'rating': 5},\n",
       " {'_id': ObjectId('55f14312c7447c3da7051c79'),\n",
       "  'name': 'After Taste',\n",
       "  'rating': 5},\n",
       " {'_id': ObjectId('55f14312c7447c3da7051c7a'),\n",
       "  'name': 'After Taste',\n",
       "  'rating': 5},\n",
       " {'_id': ObjectId('55f14312c7447c3da7051c99'), 'name': 'Ai Wok', 'rating': 5},\n",
       " {'_id': ObjectId('55f14312c7447c3da7051e3a'),\n",
       "  'name': 'Amber Cuisine',\n",
       "  'rating': 5},\n",
       " {'_id': ObjectId('55f14312c7447c3da7051eb9'),\n",
       "  'name': \"Amy's Fish & Chips & Chinese Takeaway\",\n",
       "  'rating': 5},\n",
       " {'_id': ObjectId('55f14312c7447c3da7051ee1'),\n",
       "  'name': 'Angel Express',\n",
       "  'rating': 5},\n",
       " {'_id': ObjectId('55f14312c7447c3da7051ee0'),\n",
       "  'name': 'Angel Express',\n",
       "  'rating': 5},\n",
       " {'_id': ObjectId('55f14312c7447c3da7051ee5'),\n",
       "  'name': 'Angel Garden Chinese',\n",
       "  'rating': 5},\n",
       " {'_id': ObjectId('55f14312c7447c3da7051ee4'),\n",
       "  'name': 'Angel Garden Chinese',\n",
       "  'rating': 5},\n",
       " {'_id': ObjectId('55f14312c7447c3da7051f23'),\n",
       "  'name': \"Anna's Chinese Takeaway\",\n",
       "  'rating': 5},\n",
       " {'_id': ObjectId('55f14312c7447c3da7051f68'),\n",
       "  'name': 'Arch Chinese',\n",
       "  'rating': 5},\n",
       " {'_id': ObjectId('55f14312c7447c3da7051f67'),\n",
       "  'name': 'Arch Chinese',\n",
       "  'rating': 5},\n",
       " {'_id': ObjectId('55f14312c7447c3da7051f7d'),\n",
       "  'name': 'Ariel Open Kitchen',\n",
       "  'rating': 5},\n",
       " {'_id': ObjectId('55f14312c7447c3da7051fa2'),\n",
       "  'name': 'Aroma Chinese',\n",
       "  'rating': 5},\n",
       " {'_id': ObjectId('55f14312c7447c3da7051fb7'), 'name': 'Aromas', 'rating': 5},\n",
       " {'_id': ObjectId('55f14312c7447c3da7052004'),\n",
       "  'name': 'Asia Garden',\n",
       "  'rating': 5},\n",
       " {'_id': ObjectId('55f14312c7447c3da7052001'),\n",
       "  'name': 'Asia Channel',\n",
       "  'rating': 5},\n",
       " {'_id': ObjectId('55f14312c7447c3da7052003'),\n",
       "  'name': 'Asia Delight',\n",
       "  'rating': 5},\n",
       " {'_id': ObjectId('55f14312c7447c3da7052038'), 'name': 'At28', 'rating': 5},\n",
       " {'_id': ObjectId('55f14313c7447c3da7052066'),\n",
       "  'name': \"Auntie May's Chinese Takeaway\",\n",
       "  'rating': 5},\n",
       " {'_id': ObjectId('55f14313c7447c3da7052065'),\n",
       "  'name': \"Auntie May's Chinese Takeaway\",\n",
       "  'rating': 5},\n",
       " {'_id': ObjectId('55f14313c7447c3da7052191'),\n",
       "  'name': 'Bamboo Express',\n",
       "  'rating': 5},\n",
       " {'_id': ObjectId('55f14313c7447c3da7052190'),\n",
       "  'name': 'Bamboo Chinese Takeaway',\n",
       "  'rating': 5},\n",
       " {'_id': ObjectId('55f14313c7447c3da7052194'),\n",
       "  'name': 'Bamboo Garden',\n",
       "  'rating': 5},\n",
       " {'_id': ObjectId('55f14313c7447c3da7052193'),\n",
       "  'name': 'Bamboo Garden',\n",
       "  'rating': 5},\n",
       " {'_id': ObjectId('55f14313c7447c3da7052196'),\n",
       "  'name': 'Bamboo Garden',\n",
       "  'rating': 5},\n",
       " {'_id': ObjectId('55f14313c7447c3da7052195'),\n",
       "  'name': 'Bamboo Garden',\n",
       "  'rating': 5},\n",
       " {'_id': ObjectId('55f14313c7447c3da7052197'),\n",
       "  'name': 'Bamboo Garden',\n",
       "  'rating': 5},\n",
       " {'_id': ObjectId('55f14313c7447c3da7052198'),\n",
       "  'name': 'Bamboo Garden',\n",
       "  'rating': 5},\n",
       " {'_id': ObjectId('55f14313c7447c3da70521a4'),\n",
       "  'name': 'Banana Leaf',\n",
       "  'rating': 5},\n",
       " {'_id': ObjectId('55f14313c7447c3da70521cf'),\n",
       "  'name': 'Bao Bao Chinese Takeaway',\n",
       "  'rating': 5},\n",
       " {'_id': ObjectId('55f14313c7447c3da7052201'),\n",
       "  'name': 'Barrow Takeaway',\n",
       "  'rating': 5},\n",
       " {'_id': ObjectId('55f14313c7447c3da7052209'),\n",
       "  'name': 'Barton Oriental- Eccles',\n",
       "  'rating': 5},\n",
       " {'_id': ObjectId('55f14313c7447c3da70522a6'),\n",
       "  'name': 'Bedford Chinese Kitchen',\n",
       "  'rating': 5},\n",
       " {'_id': ObjectId('55f14313c7447c3da70522b6'),\n",
       "  'name': 'Beijing Chef',\n",
       "  'rating': 5},\n",
       " {'_id': ObjectId('55f14313c7447c3da70522b5'),\n",
       "  'name': 'Bei Jing',\n",
       "  'rating': 5},\n",
       " {'_id': ObjectId('55f14313c7447c3da70522b8'),\n",
       "  'name': 'Beijing Chef',\n",
       "  'rating': 5},\n",
       " {'_id': ObjectId('55f14313c7447c3da70522b9'),\n",
       "  'name': 'Beijing Chef Chinese Takeaway',\n",
       "  'rating': 5},\n",
       " {'_id': ObjectId('55f14313c7447c3da70522bd'),\n",
       "  'name': 'Beijing City',\n",
       "  'rating': 5},\n",
       " {'_id': ObjectId('55f14313c7447c3da70522c0'),\n",
       "  'name': 'Beijing Express',\n",
       "  'rating': 5},\n",
       " {'_id': ObjectId('55f14313c7447c3da70522c3'),\n",
       "  'name': 'Beijing Express',\n",
       "  'rating': 5},\n",
       " {'_id': ObjectId('55f14313c7447c3da70522c6'),\n",
       "  'name': 'Beijing Garden',\n",
       "  'rating': 5},\n",
       " {'_id': ObjectId('55f14313c7447c3da70522c1'),\n",
       "  'name': 'Beijing Express',\n",
       "  'rating': 5},\n",
       " {'_id': ObjectId('55f14313c7447c3da70522c2'),\n",
       "  'name': 'Beijing Express',\n",
       "  'rating': 5},\n",
       " {'_id': ObjectId('55f14313c7447c3da70522c4'),\n",
       "  'name': 'Beijing Express',\n",
       "  'rating': 5},\n",
       " {'_id': ObjectId('55f14313c7447c3da70522c5'),\n",
       "  'name': 'Beijing Garden',\n",
       "  'rating': 5},\n",
       " {'_id': ObjectId('55f14313c7447c3da70522cb'),\n",
       "  'name': 'Beijing House',\n",
       "  'rating': 5},\n",
       " {'_id': ObjectId('55f14313c7447c3da70522d1'),\n",
       "  'name': 'Beijing Meng Zan',\n",
       "  'rating': 5},\n",
       " {'_id': ObjectId('55f14313c7447c3da70522cf'),\n",
       "  'name': 'Beijing Kirkstall',\n",
       "  'rating': 5},\n",
       " {'_id': ObjectId('55f14313c7447c3da70522d0'),\n",
       "  'name': 'Beijing Meng Zan',\n",
       "  'rating': 5},\n",
       " {'_id': ObjectId('55f14313c7447c3da70522d2'),\n",
       "  'name': 'Beijing Noodles',\n",
       "  'rating': 5},\n",
       " {'_id': ObjectId('55f14313c7447c3da70522d9'),\n",
       "  'name': 'Beijing Noodles',\n",
       "  'rating': 5},\n",
       " {'_id': ObjectId('55f14313c7447c3da70522d3'),\n",
       "  'name': 'Beijing Noodles',\n",
       "  'rating': 5},\n",
       " {'_id': ObjectId('55f14313c7447c3da70522d5'),\n",
       "  'name': 'Beijing Noodles',\n",
       "  'rating': 5},\n",
       " {'_id': ObjectId('55f14313c7447c3da70522d8'),\n",
       "  'name': 'Beijing Noodles',\n",
       "  'rating': 5},\n",
       " {'_id': ObjectId('55f14313c7447c3da70522d4'),\n",
       "  'name': 'Beijing Noodles',\n",
       "  'rating': 5},\n",
       " {'_id': ObjectId('55f14313c7447c3da70522d7'),\n",
       "  'name': 'Beijing Noodles',\n",
       "  'rating': 5},\n",
       " {'_id': ObjectId('55f14313c7447c3da70522d6'),\n",
       "  'name': 'Beijing Noodles',\n",
       "  'rating': 5},\n",
       " {'_id': ObjectId('55f14313c7447c3da70522dd'),\n",
       "  'name': 'Beijing Takeaway',\n",
       "  'rating': 5},\n",
       " {'_id': ObjectId('55f14313c7447c3da705239f'), 'name': 'Bennys', 'rating': 5},\n",
       " {'_id': ObjectId('55f14313c7447c3da70523a0'), 'name': 'Bennys', 'rating': 5},\n",
       " {'_id': ObjectId('55f14313c7447c3da70523a3'), 'name': \"Benny's\", 'rating': 5},\n",
       " {'_id': ObjectId('55f14313c7447c3da70523ad'), 'name': 'Bento', 'rating': 5},\n",
       " {'_id': ObjectId('55f14313c7447c3da70523b2'),\n",
       "  'name': 'Bento King (Hulme)',\n",
       "  'rating': 5},\n",
       " {'_id': ObjectId('55f14313c7447c3da70523ca'),\n",
       "  'name': 'Best Choices Chinese Takeaway',\n",
       "  'rating': 5},\n",
       " {'_id': ObjectId('55f14313c7447c3da70523cb'),\n",
       "  'name': 'Best Choices Chinese Takeaway',\n",
       "  'rating': 5},\n",
       " {'_id': ObjectId('55f14313c7447c3da70523cc'),\n",
       "  'name': 'Best Choices Chinese Takeaway',\n",
       "  'rating': 5},\n",
       " {'_id': ObjectId('55f14313c7447c3da70523cd'),\n",
       "  'name': 'Best Chopsticks',\n",
       "  'rating': 5},\n",
       " {'_id': ObjectId('55f14313c7447c3da70523d1'),\n",
       "  'name': 'Best Food',\n",
       "  'rating': 5},\n",
       " {'_id': ObjectId('55f14313c7447c3da70524be'),\n",
       "  'name': \"Bill's Wok Inn\",\n",
       "  'rating': 5},\n",
       " {'_id': ObjectId('55f14313c7447c3da70524fa'),\n",
       "  'name': 'Black Pandas',\n",
       "  'rating': 5},\n",
       " {'_id': ObjectId('55f14313c7447c3da7052514'),\n",
       "  'name': 'Blue Bell',\n",
       "  'rating': 5},\n",
       " {'_id': ObjectId('55f14312c7447c3da7051b35'),\n",
       "  'name': '113 Fish Bar',\n",
       "  'rating': 5.5},\n",
       " {'_id': ObjectId('55f14312c7447c3da7051b38'),\n",
       "  'name': '168 Chinese & Cantonese Takeaway',\n",
       "  'rating': 5.5},\n",
       " {'_id': ObjectId('55f14312c7447c3da7051b59'),\n",
       "  'name': '350 Wok',\n",
       "  'rating': 5.5},\n",
       " {'_id': ObjectId('55f14312c7447c3da7051b5a'),\n",
       "  'name': '350 Wok',\n",
       "  'rating': 5.5},\n",
       " {'_id': ObjectId('55f14312c7447c3da7051b5b'),\n",
       "  'name': '350 Wok',\n",
       "  'rating': 5.5},\n",
       " {'_id': ObjectId('55f14312c7447c3da7051b5d'),\n",
       "  'name': '4 in Love',\n",
       "  'rating': 5.5},\n",
       " {'_id': ObjectId('55f14312c7447c3da7051b75'),\n",
       "  'name': '7 & One',\n",
       "  'rating': 5.5},\n",
       " {'_id': ObjectId('55f14312c7447c3da7051eda'),\n",
       "  'name': \"Andy's Takeaway\",\n",
       "  'rating': 5.5},\n",
       " {'_id': ObjectId('55f14312c7447c3da7051f12'), 'name': 'Anise', 'rating': 5.5},\n",
       " {'_id': ObjectId('55f14312c7447c3da7051f6d'),\n",
       "  'name': 'Arden Oak',\n",
       "  'rating': 5.5},\n",
       " {'_id': ObjectId('55f14312c7447c3da7051fa5'),\n",
       "  'name': 'Aroma House',\n",
       "  'rating': 5.5},\n",
       " {'_id': ObjectId('55f14312c7447c3da7052000'),\n",
       "  'name': 'Asia Bagus',\n",
       "  'rating': 5.5},\n",
       " {'_id': ObjectId('55f14312c7447c3da705200f'),\n",
       "  'name': 'Asian Fusion',\n",
       "  'rating': 5.5},\n",
       " {'_id': ObjectId('55f14312c7447c3da7052017'),\n",
       "  'name': 'Asian Station',\n",
       "  'rating': 5.5},\n",
       " {'_id': ObjectId('55f14312c7447c3da7052012'),\n",
       "  'name': 'Asian Kitchen',\n",
       "  'rating': 5.5},\n",
       " {'_id': ObjectId('55f14313c7447c3da7052199'),\n",
       "  'name': 'Bamboo Garden',\n",
       "  'rating': 5.5},\n",
       " {'_id': ObjectId('55f14313c7447c3da70521a0'), 'name': 'Bambu', 'rating': 5.5},\n",
       " {'_id': ObjectId('55f14313c7447c3da70521a1'), 'name': 'Bambu', 'rating': 5.5},\n",
       " {'_id': ObjectId('55f14313c7447c3da70522be'),\n",
       "  'name': 'Beijing Cuisine',\n",
       "  'rating': 5.5},\n",
       " {'_id': ObjectId('55f14313c7447c3da7052301'),\n",
       "  'name': 'Bella House',\n",
       "  'rating': 5.5},\n",
       " {'_id': ObjectId('55f14313c7447c3da70523b3'),\n",
       "  'name': 'Bento King (Leeds)',\n",
       "  'rating': 5.5},\n",
       " {'_id': ObjectId('55f14313c7447c3da70523b4'),\n",
       "  'name': 'Bento King (Withington)',\n",
       "  'rating': 5.5},\n",
       " {'_id': ObjectId('55f14313c7447c3da70523b5'),\n",
       "  'name': 'Bento King (Withington)',\n",
       "  'rating': 5.5},\n",
       " {'_id': ObjectId('55f14313c7447c3da7052474'),\n",
       "  'name': 'Big China',\n",
       "  'rating': 5.5},\n",
       " {'_id': ObjectId('55f14313c7447c3da70524f7'),\n",
       "  'name': 'Black Elephant',\n",
       "  'rating': 5.5},\n",
       " {'_id': ObjectId('55f14313c7447c3da70524f6'),\n",
       "  'name': 'Black Elephant',\n",
       "  'rating': 5.5},\n",
       " {'_id': ObjectId('55f14313c7447c3da705250b'),\n",
       "  'name': 'Blessing',\n",
       "  'rating': 5.5},\n",
       " {'_id': ObjectId('55f14313c7447c3da705250a'),\n",
       "  'name': 'Blessing',\n",
       "  'rating': 5.5},\n",
       " {'_id': ObjectId('55f14313c7447c3da705250c'),\n",
       "  'name': 'Blessing',\n",
       "  'rating': 5.5},\n",
       " {'_id': ObjectId('55f14313c7447c3da7052510'),\n",
       "  'name': 'Blossom House',\n",
       "  'rating': 5.5}]"
      ]
     },
     "execution_count": 83,
     "metadata": {},
     "output_type": "execute_result"
    }
   ],
   "source": [
    "list(_)"
   ]
  },
  {
   "cell_type": "markdown",
   "metadata": {},
   "source": [
    "### `limit`"
   ]
  },
  {
   "cell_type": "markdown",
   "metadata": {},
   "source": [
    "We can `limit` the result of a `find`"
   ]
  },
  {
   "cell_type": "code",
   "execution_count": 90,
   "metadata": {},
   "outputs": [
    {
     "data": {
      "text/plain": [
       "<pymongo.cursor.Cursor at 0x7fb767f434f0>"
      ]
     },
     "execution_count": 90,
     "metadata": {},
     "output_type": "execute_result"
    }
   ],
   "source": [
    "collection.find({\"type_of_food\": \"Chinese\"}, {\"name\": 1, \"rating\": 1, \"_id\": 0}).limit(3)"
   ]
  },
  {
   "cell_type": "code",
   "execution_count": 91,
   "metadata": {},
   "outputs": [
    {
     "data": {
      "text/plain": [
       "[{'name': '.CN Chinese', 'rating': 5},\n",
       " {'name': '1 2 3 Chinese', 'rating': 4.5},\n",
       " {'name': '100 Degrees Chinese Restaurant', 'rating': 5}]"
      ]
     },
     "execution_count": 91,
     "metadata": {},
     "output_type": "execute_result"
    }
   ],
   "source": [
    "list(_)"
   ]
  },
  {
   "cell_type": "code",
   "execution_count": 92,
   "metadata": {},
   "outputs": [
    {
     "data": {
      "text/plain": [
       "<pymongo.cursor.Cursor at 0x7fb767f43be0>"
      ]
     },
     "execution_count": 92,
     "metadata": {},
     "output_type": "execute_result"
    }
   ],
   "source": [
    "collection.find({\"type_of_food\": \"Chinese\"}, {\"name\": 1, \"rating\": 1, \"_id\": 0}).sort(\"rating\", -1).limit(3)"
   ]
  },
  {
   "cell_type": "code",
   "execution_count": 93,
   "metadata": {},
   "outputs": [
    {
     "data": {
      "text/plain": [
       "[{'name': '350 Wok', 'rating': 5.5},\n",
       " {'name': '168 Chinese & Cantonese Takeaway', 'rating': 5.5},\n",
       " {'name': '113 Fish Bar', 'rating': 5.5}]"
      ]
     },
     "execution_count": 93,
     "metadata": {},
     "output_type": "execute_result"
    }
   ],
   "source": [
    "list(_)"
   ]
  },
  {
   "cell_type": "markdown",
   "metadata": {},
   "source": [
    "### `skip`"
   ]
  },
  {
   "cell_type": "markdown",
   "metadata": {},
   "source": [
    "We can `skip` some results of a `find`"
   ]
  },
  {
   "cell_type": "code",
   "execution_count": 94,
   "metadata": {},
   "outputs": [
    {
     "data": {
      "text/plain": [
       "<pymongo.cursor.Cursor at 0x7fb767f43eb0>"
      ]
     },
     "execution_count": 94,
     "metadata": {},
     "output_type": "execute_result"
    }
   ],
   "source": [
    "collection.find({\"type_of_food\": \"Chinese\"}, {\"name\": 1, \"rating\": 1, \"_id\": 0}).sort(\"rating\", -1).skip(1).limit(3)"
   ]
  },
  {
   "cell_type": "code",
   "execution_count": 95,
   "metadata": {},
   "outputs": [
    {
     "data": {
      "text/plain": [
       "[{'name': '168 Chinese & Cantonese Takeaway', 'rating': 5.5},\n",
       " {'name': '350 Wok', 'rating': 5.5},\n",
       " {'name': '113 Fish Bar', 'rating': 5.5}]"
      ]
     },
     "execution_count": 95,
     "metadata": {},
     "output_type": "execute_result"
    }
   ],
   "source": [
    "list(_)"
   ]
  },
  {
   "cell_type": "markdown",
   "metadata": {},
   "source": [
    "## Typical query operators"
   ]
  },
  {
   "cell_type": "markdown",
   "metadata": {},
   "source": [
    "Query operators are preceded by a dollar sign `$`"
   ]
  },
  {
   "cell_type": "markdown",
   "metadata": {},
   "source": [
    "Lets create variable `c` for writing less code"
   ]
  },
  {
   "cell_type": "code",
   "execution_count": 111,
   "metadata": {},
   "outputs": [],
   "source": [
    "c = collection"
   ]
  },
  {
   "cell_type": "code",
   "execution_count": 112,
   "metadata": {},
   "outputs": [
    {
     "data": {
      "text/plain": [
       "2548"
      ]
     },
     "execution_count": 112,
     "metadata": {},
     "output_type": "execute_result"
    }
   ],
   "source": [
    "c.count_documents({})"
   ]
  },
  {
   "cell_type": "code",
   "execution_count": 113,
   "metadata": {},
   "outputs": [
    {
     "data": {
      "text/plain": [
       "{'_id': ObjectId('55f14312c7447c3da7051b26'),\n",
       " 'URL': 'http://www.just-eat.co.uk/restaurants-cn-chinese-cardiff/menu',\n",
       " 'address': '228 City Road',\n",
       " 'address line 2': 'Cardiff',\n",
       " 'name': '.CN Chinese',\n",
       " 'outcode': 'CF24',\n",
       " 'postcode': '3JH',\n",
       " 'rating': 5,\n",
       " 'type_of_food': 'Chinese'}"
      ]
     },
     "execution_count": 113,
     "metadata": {},
     "output_type": "execute_result"
    }
   ],
   "source": [
    "c.find_one()"
   ]
  },
  {
   "cell_type": "markdown",
   "metadata": {},
   "source": [
    "### greater than / less than"
   ]
  },
  {
   "cell_type": "markdown",
   "metadata": {},
   "source": [
    "Is a numerical field greater or less than a given value?"
   ]
  },
  {
   "cell_type": "code",
   "execution_count": 114,
   "metadata": {},
   "outputs": [
    {
     "data": {
      "text/plain": [
       "{'_id': ObjectId('55f14312c7447c3da7051cec'),\n",
       " 'URL': 'http://www.just-eat.co.uk/restaurants-aldixifriedchicken-b21/menu',\n",
       " 'address': '343 Soho Road',\n",
       " 'address line 2': 'Birmingham',\n",
       " 'name': 'Al Dixi Fried Chicken & Grill House',\n",
       " 'outcode': 'B21',\n",
       " 'postcode': '9SE',\n",
       " 'rating': 1,\n",
       " 'type_of_food': 'Chicken'}"
      ]
     },
     "execution_count": 114,
     "metadata": {},
     "output_type": "execute_result"
    }
   ],
   "source": [
    "c.find_one({\"rating\": {\"$lt\": 2}})"
   ]
  },
  {
   "cell_type": "code",
   "execution_count": 115,
   "metadata": {},
   "outputs": [
    {
     "data": {
      "text/plain": [
       "{'_id': ObjectId('55f14312c7447c3da7051b26'),\n",
       " 'URL': 'http://www.just-eat.co.uk/restaurants-cn-chinese-cardiff/menu',\n",
       " 'address': '228 City Road',\n",
       " 'address line 2': 'Cardiff',\n",
       " 'name': '.CN Chinese',\n",
       " 'outcode': 'CF24',\n",
       " 'postcode': '3JH',\n",
       " 'rating': 5,\n",
       " 'type_of_food': 'Chinese'}"
      ]
     },
     "execution_count": 115,
     "metadata": {},
     "output_type": "execute_result"
    }
   ],
   "source": [
    "c.find_one({\"rating\": {\"$gt\": 2}})"
   ]
  },
  {
   "cell_type": "markdown",
   "metadata": {},
   "source": [
    "### `exists`"
   ]
  },
  {
   "cell_type": "code",
   "execution_count": 116,
   "metadata": {},
   "outputs": [
    {
     "data": {
      "text/plain": [
       "{'_id': ObjectId('55f14312c7447c3da7051b26'),\n",
       " 'URL': 'http://www.just-eat.co.uk/restaurants-cn-chinese-cardiff/menu',\n",
       " 'address': '228 City Road',\n",
       " 'address line 2': 'Cardiff',\n",
       " 'name': '.CN Chinese',\n",
       " 'outcode': 'CF24',\n",
       " 'postcode': '3JH',\n",
       " 'rating': 5,\n",
       " 'type_of_food': 'Chinese'}"
      ]
     },
     "execution_count": 116,
     "metadata": {},
     "output_type": "execute_result"
    }
   ],
   "source": [
    "c.find_one({\"address line 2\": {\"$exists\": True}})"
   ]
  },
  {
   "cell_type": "code",
   "execution_count": 209,
   "metadata": {},
   "outputs": [
    {
     "data": {
      "text/plain": [
       "{'_id': ObjectId('55f14312c7447c3da7051cec'),\n",
       " 'URL': 'http://www.just-eat.co.uk/restaurants-aldixifriedchicken-b21/menu',\n",
       " 'address': '343 Soho Road',\n",
       " 'name': 'Al Dixi Fried Chicken & Grill House',\n",
       " 'outcode': 'B21',\n",
       " 'postcode': '9SE',\n",
       " 'rating': 1,\n",
       " 'type_of_food': 'Chicken'}"
      ]
     },
     "execution_count": 209,
     "metadata": {},
     "output_type": "execute_result"
    }
   ],
   "source": [
    "c.find_one({\"address line 2\": {\"$exists\": False}})"
   ]
  },
  {
   "cell_type": "markdown",
   "metadata": {},
   "source": [
    "### `regex`"
   ]
  },
  {
   "cell_type": "code",
   "execution_count": 157,
   "metadata": {},
   "outputs": [
    {
     "data": {
      "text/plain": [
       "[{'name': 'Acha Halal Chinese Cuisine'},\n",
       " {'name': 'Beirut Lebanese Halal Restaurant'},\n",
       " {'name': 'Beirut Lebanese Halal Restaurant'}]"
      ]
     },
     "execution_count": 157,
     "metadata": {},
     "output_type": "execute_result"
    }
   ],
   "source": [
    "list(c.find({\"name\": {\"$regex\": \".*Halal.*\"}}, {\"name\": 1, \"_id\": 0}))"
   ]
  },
  {
   "cell_type": "code",
   "execution_count": 162,
   "metadata": {},
   "outputs": [
    {
     "data": {
      "text/plain": [
       "[{'name': '100 Degrees Chinese Restaurant'},\n",
       " {'name': '100 Menu'},\n",
       " {'name': '104 Turkish BBQ'},\n",
       " {'name': '109 Ristorante'},\n",
       " {'name': '1A Wok'},\n",
       " {'name': '23rd Street Pizza'},\n",
       " {'name': '241 Pizza'},\n",
       " {'name': '23rd Street Pizza'},\n",
       " {'name': '2-4-1 Pizza'},\n",
       " {'name': '2-4-1 Pizza'},\n",
       " {'name': '3 In 1 Dunoon'},\n",
       " {'name': '333 Chinese Takeaway'},\n",
       " {'name': '333 Chinese Takeaway'},\n",
       " {'name': '328 Chinese Online'},\n",
       " {'name': '4 in 1 Express'},\n",
       " {'name': '5 In 1 Takeaway'},\n",
       " {'name': '4 Seasons Pizza & Grill'},\n",
       " {'name': '5 Star Chinese'},\n",
       " {'name': '5 Star Chinese'},\n",
       " {'name': '5 Star Fish Bar'},\n",
       " {'name': '5 Star Pizza'},\n",
       " {'name': '5 Star Pizza'},\n",
       " {'name': '5 Star Pizza'},\n",
       " {'name': '62 Worksop Fish Bar'},\n",
       " {'name': '7 Spices'},\n",
       " {'name': '7 Spices'},\n",
       " {'name': '88 Chinese'},\n",
       " {'name': '888 Triple Eight'},\n",
       " {'name': '9th Kitchen'},\n",
       " {'name': '9 Inch CFC'},\n",
       " {'name': '888 Chinese Takeaway'},\n",
       " {'name': 'A1 Pizzas'},\n",
       " {'name': \"A1 Rice 'N' Spice\"},\n",
       " {'name': 'Aladdin Hot 4 You'},\n",
       " {'name': 'Allens Fried Chicken M8'},\n",
       " {'name': 'Alternative Takeaway 2'},\n",
       " {'name': 'Amici Miei2go.'},\n",
       " {'name': 'Amici Miei2go.'},\n",
       " {'name': 'At28'},\n",
       " {'name': 'Balti 2000'},\n",
       " {'name': 'Best Kebab 1'},\n",
       " {'name': 'Bilston No1'},\n",
       " {'name': 'Bilston No1'},\n",
       " {'name': 'Birashwamys Est 1970'}]"
      ]
     },
     "execution_count": 162,
     "metadata": {},
     "output_type": "execute_result"
    }
   ],
   "source": [
    "list(c.find({\"rating\": 5, \"name\": {\"$regex\": \".*\\d.*\"}}, {\"name\": 1, \"_id\": 0}))"
   ]
  },
  {
   "cell_type": "code",
   "execution_count": 163,
   "metadata": {},
   "outputs": [
    {
     "data": {
      "text/plain": [
       "[{'name': 'Allens Fried Chicken M8'},\n",
       " {'name': 'Alternative Takeaway 2'},\n",
       " {'name': 'At28'},\n",
       " {'name': 'Balti 2000'},\n",
       " {'name': 'Best Kebab 1'},\n",
       " {'name': 'Bilston No1'},\n",
       " {'name': 'Bilston No1'},\n",
       " {'name': 'Birashwamys Est 1970'}]"
      ]
     },
     "execution_count": 163,
     "metadata": {},
     "output_type": "execute_result"
    }
   ],
   "source": [
    "list(c.find({\"rating\": 5, \"name\": {\"$regex\": \".*\\d$\"}}, {\"name\": 1, \"_id\": 0}))"
   ]
  },
  {
   "cell_type": "markdown",
   "metadata": {},
   "source": [
    "### `and`"
   ]
  },
  {
   "cell_type": "markdown",
   "metadata": {},
   "source": [
    "`find` dictionary with several keys is already performing an `$and` operation"
   ]
  },
  {
   "cell_type": "code",
   "execution_count": 167,
   "metadata": {},
   "outputs": [
    {
     "data": {
      "text/plain": [
       "[{'name': '88 Noodle Bar', 'rating': 4},\n",
       " {'name': 'Amazing', 'rating': 4},\n",
       " {'name': 'Arirang', 'rating': 4},\n",
       " {'name': 'Arirang', 'rating': 4},\n",
       " {'name': 'Arirang', 'rating': 4},\n",
       " {'name': 'Arirang', 'rating': 4},\n",
       " {'name': 'Arirang', 'rating': 4},\n",
       " {'name': 'Arirang', 'rating': 4},\n",
       " {'name': 'Beijing Chinese', 'rating': 4},\n",
       " {'name': 'Beijing Chinese Restaurant', 'rating': 4}]"
      ]
     },
     "execution_count": 167,
     "metadata": {},
     "output_type": "execute_result"
    }
   ],
   "source": [
    "list(c.find({\"rating\": 4, \"type_of_food\": \"Chinese\"}, {\"name\": 1, \"rating\": 1, \"_id\": 0}))"
   ]
  },
  {
   "cell_type": "markdown",
   "metadata": {},
   "source": [
    "Alternatively...  \n",
    "`find({\"$and\": [cond1, cond2]})`"
   ]
  },
  {
   "cell_type": "code",
   "execution_count": 178,
   "metadata": {},
   "outputs": [
    {
     "data": {
      "text/html": [
       "<div>\n",
       "<style scoped>\n",
       "    .dataframe tbody tr th:only-of-type {\n",
       "        vertical-align: middle;\n",
       "    }\n",
       "\n",
       "    .dataframe tbody tr th {\n",
       "        vertical-align: top;\n",
       "    }\n",
       "\n",
       "    .dataframe thead th {\n",
       "        text-align: right;\n",
       "    }\n",
       "</style>\n",
       "<table border=\"1\" class=\"dataframe\">\n",
       "  <thead>\n",
       "    <tr style=\"text-align: right;\">\n",
       "      <th></th>\n",
       "      <th>name</th>\n",
       "      <th>rating</th>\n",
       "      <th>type_of_food</th>\n",
       "    </tr>\n",
       "  </thead>\n",
       "  <tbody>\n",
       "    <tr>\n",
       "      <th>0</th>\n",
       "      <td>88 Noodle Bar</td>\n",
       "      <td>4</td>\n",
       "      <td>Chinese</td>\n",
       "    </tr>\n",
       "    <tr>\n",
       "      <th>1</th>\n",
       "      <td>Amazing</td>\n",
       "      <td>4</td>\n",
       "      <td>Chinese</td>\n",
       "    </tr>\n",
       "    <tr>\n",
       "      <th>2</th>\n",
       "      <td>Arirang</td>\n",
       "      <td>4</td>\n",
       "      <td>Chinese</td>\n",
       "    </tr>\n",
       "    <tr>\n",
       "      <th>3</th>\n",
       "      <td>Arirang</td>\n",
       "      <td>4</td>\n",
       "      <td>Chinese</td>\n",
       "    </tr>\n",
       "    <tr>\n",
       "      <th>4</th>\n",
       "      <td>Arirang</td>\n",
       "      <td>4</td>\n",
       "      <td>Chinese</td>\n",
       "    </tr>\n",
       "    <tr>\n",
       "      <th>5</th>\n",
       "      <td>Arirang</td>\n",
       "      <td>4</td>\n",
       "      <td>Chinese</td>\n",
       "    </tr>\n",
       "    <tr>\n",
       "      <th>6</th>\n",
       "      <td>Arirang</td>\n",
       "      <td>4</td>\n",
       "      <td>Chinese</td>\n",
       "    </tr>\n",
       "    <tr>\n",
       "      <th>7</th>\n",
       "      <td>Arirang</td>\n",
       "      <td>4</td>\n",
       "      <td>Chinese</td>\n",
       "    </tr>\n",
       "    <tr>\n",
       "      <th>8</th>\n",
       "      <td>Beijing Chinese</td>\n",
       "      <td>4</td>\n",
       "      <td>Chinese</td>\n",
       "    </tr>\n",
       "    <tr>\n",
       "      <th>9</th>\n",
       "      <td>Beijing Chinese Restaurant</td>\n",
       "      <td>4</td>\n",
       "      <td>Chinese</td>\n",
       "    </tr>\n",
       "  </tbody>\n",
       "</table>\n",
       "</div>"
      ],
      "text/plain": [
       "                         name  rating type_of_food\n",
       "0               88 Noodle Bar       4      Chinese\n",
       "1                     Amazing       4      Chinese\n",
       "2                     Arirang       4      Chinese\n",
       "3                     Arirang       4      Chinese\n",
       "4                     Arirang       4      Chinese\n",
       "5                     Arirang       4      Chinese\n",
       "6                     Arirang       4      Chinese\n",
       "7                     Arirang       4      Chinese\n",
       "8             Beijing Chinese       4      Chinese\n",
       "9  Beijing Chinese Restaurant       4      Chinese"
      ]
     },
     "execution_count": 178,
     "metadata": {},
     "output_type": "execute_result"
    }
   ],
   "source": [
    "pd.DataFrame(c.find(\n",
    "    {\"$and\": [\n",
    "        {\"rating\": 4},\n",
    "        {\"type_of_food\": \"Chinese\"}\n",
    "    ]},\n",
    "    {\"name\": 1, \"rating\": 1, \"type_of_food\": 1, \"_id\": 0}\n",
    "))"
   ]
  },
  {
   "cell_type": "markdown",
   "metadata": {},
   "source": [
    "### `or`"
   ]
  },
  {
   "cell_type": "markdown",
   "metadata": {},
   "source": [
    "Alternatively...  \n",
    "`find({\"$or\": [cond1, cond2]})`"
   ]
  },
  {
   "cell_type": "code",
   "execution_count": 177,
   "metadata": {},
   "outputs": [
    {
     "data": {
      "text/html": [
       "<div>\n",
       "<style scoped>\n",
       "    .dataframe tbody tr th:only-of-type {\n",
       "        vertical-align: middle;\n",
       "    }\n",
       "\n",
       "    .dataframe tbody tr th {\n",
       "        vertical-align: top;\n",
       "    }\n",
       "\n",
       "    .dataframe thead th {\n",
       "        text-align: right;\n",
       "    }\n",
       "</style>\n",
       "<table border=\"1\" class=\"dataframe\">\n",
       "  <thead>\n",
       "    <tr style=\"text-align: right;\">\n",
       "      <th></th>\n",
       "      <th>name</th>\n",
       "      <th>rating</th>\n",
       "      <th>type_of_food</th>\n",
       "    </tr>\n",
       "  </thead>\n",
       "  <tbody>\n",
       "    <tr>\n",
       "      <th>50</th>\n",
       "      <td>Amazing</td>\n",
       "      <td>4.0</td>\n",
       "      <td>Chinese</td>\n",
       "    </tr>\n",
       "    <tr>\n",
       "      <th>41</th>\n",
       "      <td>Aji - Collection Only</td>\n",
       "      <td>6.0</td>\n",
       "      <td>Japanese</td>\n",
       "    </tr>\n",
       "    <tr>\n",
       "      <th>104</th>\n",
       "      <td>Atash Persian Restaurant - Collection Only</td>\n",
       "      <td>6.0</td>\n",
       "      <td>Persian</td>\n",
       "    </tr>\n",
       "    <tr>\n",
       "      <th>9</th>\n",
       "      <td>007 Takeaway</td>\n",
       "      <td>6.0</td>\n",
       "      <td>Pizza</td>\n",
       "    </tr>\n",
       "    <tr>\n",
       "      <th>116</th>\n",
       "      <td>Bamboo Garden</td>\n",
       "      <td>4.5</td>\n",
       "      <td>Chinese</td>\n",
       "    </tr>\n",
       "    <tr>\n",
       "      <th>15</th>\n",
       "      <td>333 Chinese Takeaway1</td>\n",
       "      <td>4.5</td>\n",
       "      <td>Chinese</td>\n",
       "    </tr>\n",
       "    <tr>\n",
       "      <th>62</th>\n",
       "      <td>Angel Garden Chinese</td>\n",
       "      <td>5.0</td>\n",
       "      <td>Chinese</td>\n",
       "    </tr>\n",
       "    <tr>\n",
       "      <th>220</th>\n",
       "      <td>Blessing</td>\n",
       "      <td>5.5</td>\n",
       "      <td>Chinese</td>\n",
       "    </tr>\n",
       "    <tr>\n",
       "      <th>215</th>\n",
       "      <td>Black Elephant</td>\n",
       "      <td>5.5</td>\n",
       "      <td>Chinese</td>\n",
       "    </tr>\n",
       "    <tr>\n",
       "      <th>83</th>\n",
       "      <td>Aroma House</td>\n",
       "      <td>5.5</td>\n",
       "      <td>Chinese</td>\n",
       "    </tr>\n",
       "  </tbody>\n",
       "</table>\n",
       "</div>"
      ],
      "text/plain": [
       "                                           name  rating type_of_food\n",
       "50                                      Amazing     4.0      Chinese\n",
       "41                        Aji - Collection Only     6.0     Japanese\n",
       "104  Atash Persian Restaurant - Collection Only     6.0      Persian\n",
       "9                                  007 Takeaway     6.0        Pizza\n",
       "116                               Bamboo Garden     4.5      Chinese\n",
       "15                        333 Chinese Takeaway1     4.5      Chinese\n",
       "62                         Angel Garden Chinese     5.0      Chinese\n",
       "220                                    Blessing     5.5      Chinese\n",
       "215                              Black Elephant     5.5      Chinese\n",
       "83                                  Aroma House     5.5      Chinese"
      ]
     },
     "execution_count": 177,
     "metadata": {},
     "output_type": "execute_result"
    }
   ],
   "source": [
    "pd.DataFrame(c.find(\n",
    "    {\"$or\": [\n",
    "        {\"rating\": 6},\n",
    "        {\"type_of_food\": \"Chinese\"}\n",
    "    ]},\n",
    "    {\"name\": 1, \"rating\": 1, \"type_of_food\": 1, \"_id\": 0}\n",
    ")).sample(10)"
   ]
  },
  {
   "cell_type": "markdown",
   "metadata": {},
   "source": [
    "### `ne`"
   ]
  },
  {
   "cell_type": "markdown",
   "metadata": {},
   "source": [
    "Not equal"
   ]
  },
  {
   "cell_type": "code",
   "execution_count": 181,
   "metadata": {},
   "outputs": [
    {
     "data": {
      "text/plain": [
       "{'_id': ObjectId('55f14312c7447c3da7051b27'),\n",
       " 'URL': 'http://www.just-eat.co.uk/restaurants-atthai-ss9/menu',\n",
       " 'address': '376 Rayleigh Road',\n",
       " 'address line 2': 'Essex',\n",
       " 'name': '@ Thai',\n",
       " 'outcode': 'SS9',\n",
       " 'postcode': '5PT',\n",
       " 'rating': 5.5,\n",
       " 'type_of_food': 'Thai'}"
      ]
     },
     "execution_count": 181,
     "metadata": {},
     "output_type": "execute_result"
    }
   ],
   "source": [
    "c.find_one({\"type_of_food\": {\"$ne\": \"Chinese\"}})"
   ]
  },
  {
   "cell_type": "markdown",
   "metadata": {},
   "source": [
    "### `in`"
   ]
  },
  {
   "cell_type": "code",
   "execution_count": 194,
   "metadata": {},
   "outputs": [],
   "source": [
    "df = pd.DataFrame(c.find({\"rating\": {\"$in\": [1, 2, 3]}}, {\"rating\": 1, \"name\": 1}))"
   ]
  },
  {
   "cell_type": "code",
   "execution_count": 195,
   "metadata": {},
   "outputs": [
    {
     "data": {
      "text/html": [
       "<div>\n",
       "<style scoped>\n",
       "    .dataframe tbody tr th:only-of-type {\n",
       "        vertical-align: middle;\n",
       "    }\n",
       "\n",
       "    .dataframe tbody tr th {\n",
       "        vertical-align: top;\n",
       "    }\n",
       "\n",
       "    .dataframe thead th {\n",
       "        text-align: right;\n",
       "    }\n",
       "</style>\n",
       "<table border=\"1\" class=\"dataframe\">\n",
       "  <thead>\n",
       "    <tr style=\"text-align: right;\">\n",
       "      <th></th>\n",
       "      <th>_id</th>\n",
       "      <th>name</th>\n",
       "      <th>rating</th>\n",
       "    </tr>\n",
       "  </thead>\n",
       "  <tbody>\n",
       "    <tr>\n",
       "      <th>0</th>\n",
       "      <td>55f14312c7447c3da7051b2e</td>\n",
       "      <td>042 Restaurant &amp; Bar</td>\n",
       "      <td>3</td>\n",
       "    </tr>\n",
       "    <tr>\n",
       "      <th>1</th>\n",
       "      <td>55f14312c7447c3da7051b2d</td>\n",
       "      <td>042 Restaurant &amp; Bar</td>\n",
       "      <td>3</td>\n",
       "    </tr>\n",
       "    <tr>\n",
       "      <th>2</th>\n",
       "      <td>55f14312c7447c3da7051b2c</td>\n",
       "      <td>042 Restaurant &amp; Bar</td>\n",
       "      <td>3</td>\n",
       "    </tr>\n",
       "    <tr>\n",
       "      <th>3</th>\n",
       "      <td>55f14312c7447c3da7051cec</td>\n",
       "      <td>Al Dixi Fried Chicken &amp; Grill House</td>\n",
       "      <td>1</td>\n",
       "    </tr>\n",
       "    <tr>\n",
       "      <th>4</th>\n",
       "      <td>55f14312c7447c3da7051ceb</td>\n",
       "      <td>Al Dixi Fried Chicken &amp; Grill House</td>\n",
       "      <td>1</td>\n",
       "    </tr>\n",
       "  </tbody>\n",
       "</table>\n",
       "</div>"
      ],
      "text/plain": [
       "                        _id                                 name  rating\n",
       "0  55f14312c7447c3da7051b2e                 042 Restaurant & Bar       3\n",
       "1  55f14312c7447c3da7051b2d                 042 Restaurant & Bar       3\n",
       "2  55f14312c7447c3da7051b2c                 042 Restaurant & Bar       3\n",
       "3  55f14312c7447c3da7051cec  Al Dixi Fried Chicken & Grill House       1\n",
       "4  55f14312c7447c3da7051ceb  Al Dixi Fried Chicken & Grill House       1"
      ]
     },
     "execution_count": 195,
     "metadata": {},
     "output_type": "execute_result"
    }
   ],
   "source": [
    "df.head()"
   ]
  },
  {
   "cell_type": "code",
   "execution_count": 196,
   "metadata": {},
   "outputs": [
    {
     "data": {
      "text/plain": [
       "3    16\n",
       "1     5\n",
       "2     3\n",
       "Name: rating, dtype: int64"
      ]
     },
     "execution_count": 196,
     "metadata": {},
     "output_type": "execute_result"
    }
   ],
   "source": [
    "df.rating.value_counts()"
   ]
  },
  {
   "cell_type": "markdown",
   "metadata": {},
   "source": [
    "### `nin`"
   ]
  },
  {
   "cell_type": "markdown",
   "metadata": {},
   "source": [
    "Not in"
   ]
  },
  {
   "cell_type": "code",
   "execution_count": 197,
   "metadata": {},
   "outputs": [],
   "source": [
    "df = pd.DataFrame(c.find({\"rating\": {\"$nin\": [1, 2, 3]}}, {\"rating\": 1, \"name\": 1}))"
   ]
  },
  {
   "cell_type": "code",
   "execution_count": 198,
   "metadata": {},
   "outputs": [
    {
     "data": {
      "text/html": [
       "<div>\n",
       "<style scoped>\n",
       "    .dataframe tbody tr th:only-of-type {\n",
       "        vertical-align: middle;\n",
       "    }\n",
       "\n",
       "    .dataframe tbody tr th {\n",
       "        vertical-align: top;\n",
       "    }\n",
       "\n",
       "    .dataframe thead th {\n",
       "        text-align: right;\n",
       "    }\n",
       "</style>\n",
       "<table border=\"1\" class=\"dataframe\">\n",
       "  <thead>\n",
       "    <tr style=\"text-align: right;\">\n",
       "      <th></th>\n",
       "      <th>_id</th>\n",
       "      <th>name</th>\n",
       "      <th>rating</th>\n",
       "    </tr>\n",
       "  </thead>\n",
       "  <tbody>\n",
       "    <tr>\n",
       "      <th>0</th>\n",
       "      <td>55f14312c7447c3da7051b26</td>\n",
       "      <td>.CN Chinese</td>\n",
       "      <td>5</td>\n",
       "    </tr>\n",
       "    <tr>\n",
       "      <th>1</th>\n",
       "      <td>55f14312c7447c3da7051b27</td>\n",
       "      <td>@ Thai</td>\n",
       "      <td>5.5</td>\n",
       "    </tr>\n",
       "    <tr>\n",
       "      <th>2</th>\n",
       "      <td>55f14312c7447c3da7051b2f</td>\n",
       "      <td>1 2 3 Chinese</td>\n",
       "      <td>4.5</td>\n",
       "    </tr>\n",
       "    <tr>\n",
       "      <th>3</th>\n",
       "      <td>55f14312c7447c3da7051b31</td>\n",
       "      <td>100 Degrees Chinese Restaurant</td>\n",
       "      <td>5</td>\n",
       "    </tr>\n",
       "    <tr>\n",
       "      <th>4</th>\n",
       "      <td>55f14312c7447c3da7051b32</td>\n",
       "      <td>100 Menu</td>\n",
       "      <td>5</td>\n",
       "    </tr>\n",
       "  </tbody>\n",
       "</table>\n",
       "</div>"
      ],
      "text/plain": [
       "                        _id                            name rating\n",
       "0  55f14312c7447c3da7051b26                     .CN Chinese      5\n",
       "1  55f14312c7447c3da7051b27                          @ Thai    5.5\n",
       "2  55f14312c7447c3da7051b2f                   1 2 3 Chinese    4.5\n",
       "3  55f14312c7447c3da7051b31  100 Degrees Chinese Restaurant      5\n",
       "4  55f14312c7447c3da7051b32                        100 Menu      5"
      ]
     },
     "execution_count": 198,
     "metadata": {},
     "output_type": "execute_result"
    }
   ],
   "source": [
    "df.head()"
   ]
  },
  {
   "cell_type": "code",
   "execution_count": 199,
   "metadata": {},
   "outputs": [
    {
     "data": {
      "text/plain": [
       "5                1107\n",
       "5.5               600\n",
       "4.5               472\n",
       "4                 167\n",
       "Not yet rated      63\n",
       "3.5                51\n",
       "6                  49\n",
       "2.5                13\n",
       "1.5                 2\n",
       "Name: rating, dtype: int64"
      ]
     },
     "execution_count": 199,
     "metadata": {},
     "output_type": "execute_result"
    }
   ],
   "source": [
    "df.rating.value_counts()"
   ]
  },
  {
   "cell_type": "code",
   "execution_count": null,
   "metadata": {},
   "outputs": [],
   "source": []
  },
  {
   "cell_type": "markdown",
   "metadata": {},
   "source": [
    "## Update"
   ]
  },
  {
   "cell_type": "markdown",
   "metadata": {},
   "source": [
    "Careful, this cannot be undone!!"
   ]
  },
  {
   "cell_type": "markdown",
   "metadata": {},
   "source": [
    "`.update_many(condition, update)`"
   ]
  },
  {
   "cell_type": "markdown",
   "metadata": {},
   "source": [
    "`update` may `$set` a field value or `$unset` it"
   ]
  },
  {
   "cell_type": "code",
   "execution_count": 217,
   "metadata": {},
   "outputs": [
    {
     "data": {
      "text/plain": [
       "{'_id': ObjectId('55f14312c7447c3da7051cec'),\n",
       " 'URL': 'http://www.just-eat.co.uk/restaurants-aldixifriedchicken-b21/menu',\n",
       " 'address': '343 Soho Road',\n",
       " 'name': 'Al Dixi Fried Chicken & Grill House',\n",
       " 'outcode': 'B21',\n",
       " 'postcode': '9SE',\n",
       " 'rating': 1,\n",
       " 'type_of_food': 'Chicken'}"
      ]
     },
     "execution_count": 217,
     "metadata": {},
     "output_type": "execute_result"
    }
   ],
   "source": [
    "c.find_one({\"rating\": 1})"
   ]
  },
  {
   "cell_type": "code",
   "execution_count": 215,
   "metadata": {},
   "outputs": [
    {
     "data": {
      "text/plain": [
       "<pymongo.results.UpdateResult at 0x7fb767ba6500>"
      ]
     },
     "execution_count": 215,
     "metadata": {},
     "output_type": "execute_result"
    }
   ],
   "source": [
    "c.update_many({\"rating\": 1}, {\"$set\": {\"rating\": 0}})"
   ]
  },
  {
   "cell_type": "code",
   "execution_count": 217,
   "metadata": {
    "collapsed": true
   },
   "outputs": [
    {
     "data": {
      "text/plain": [
       "{'_id': ObjectId('55f14312c7447c3da7051cec'),\n",
       " 'URL': 'http://www.just-eat.co.uk/restaurants-aldixifriedchicken-b21/menu',\n",
       " 'address': '343 Soho Road',\n",
       " 'name': 'Al Dixi Fried Chicken & Grill House',\n",
       " 'outcode': 'B21',\n",
       " 'postcode': '9SE',\n",
       " 'rating': 1,\n",
       " 'type_of_food': 'Chicken'}"
      ]
     },
     "execution_count": 217,
     "metadata": {},
     "output_type": "execute_result"
    }
   ],
   "source": [
    "c.find_one({\"rating\": 1})"
   ]
  },
  {
   "cell_type": "code",
   "execution_count": 206,
   "metadata": {},
   "outputs": [
    {
     "data": {
      "text/plain": [
       "<pymongo.results.UpdateResult at 0x7fb767bb11c0>"
      ]
     },
     "execution_count": 206,
     "metadata": {},
     "output_type": "execute_result"
    }
   ],
   "source": [
    "c.update_many({\"rating\": 0}, {\"$unset\": {\"type_of_food\": \"\"}})"
   ]
  },
  {
   "cell_type": "code",
   "execution_count": 217,
   "metadata": {
    "collapsed": true
   },
   "outputs": [
    {
     "data": {
      "text/plain": [
       "{'_id': ObjectId('55f14312c7447c3da7051cec'),\n",
       " 'URL': 'http://www.just-eat.co.uk/restaurants-aldixifriedchicken-b21/menu',\n",
       " 'address': '343 Soho Road',\n",
       " 'name': 'Al Dixi Fried Chicken & Grill House',\n",
       " 'outcode': 'B21',\n",
       " 'postcode': '9SE',\n",
       " 'rating': 1,\n",
       " 'type_of_food': 'Chicken'}"
      ]
     },
     "execution_count": 217,
     "metadata": {},
     "output_type": "execute_result"
    }
   ],
   "source": [
    "c.find_one({\"rating\": 0})"
   ]
  },
  {
   "cell_type": "markdown",
   "metadata": {},
   "source": [
    "## Delete"
   ]
  },
  {
   "cell_type": "code",
   "execution_count": 219,
   "metadata": {},
   "outputs": [
    {
     "data": {
      "text/plain": [
       "2548"
      ]
     },
     "execution_count": 219,
     "metadata": {},
     "output_type": "execute_result"
    }
   ],
   "source": [
    "c.count_documents({})"
   ]
  },
  {
   "cell_type": "code",
   "execution_count": 220,
   "metadata": {},
   "outputs": [
    {
     "data": {
      "text/plain": [
       "3"
      ]
     },
     "execution_count": 220,
     "metadata": {},
     "output_type": "execute_result"
    }
   ],
   "source": [
    "c.count_documents({\"rating\": 2})"
   ]
  },
  {
   "cell_type": "code",
   "execution_count": null,
   "metadata": {},
   "outputs": [],
   "source": [
    "c.delete_many({\"rating\": 2})"
   ]
  },
  {
   "cell_type": "code",
   "execution_count": 220,
   "metadata": {},
   "outputs": [
    {
     "data": {
      "text/plain": [
       "3"
      ]
     },
     "execution_count": 220,
     "metadata": {},
     "output_type": "execute_result"
    }
   ],
   "source": [
    "c.count_documents({\"rating\": 2})"
   ]
  },
  {
   "cell_type": "markdown",
   "metadata": {},
   "source": [
    "## Summary"
   ]
  },
  {
   "cell_type": "markdown",
   "metadata": {},
   "source": [
    " * use `find_one` to have an idea of document structure\n",
    " * `find` returns a Cursor, not a list\n",
    " * project helps you return only required information"
   ]
  },
  {
   "cell_type": "markdown",
   "metadata": {},
   "source": [
    " * `count_documents`, `distinct`, `sort`, `limit`, `skip` are frequently used\n",
    " * there are many query operators, preceded by `$`"
   ]
  },
  {
   "cell_type": "markdown",
   "metadata": {},
   "source": [
    "Careful\n",
    " * you can `delete`\n",
    " * you can `update`"
   ]
  },
  {
   "cell_type": "markdown",
   "metadata": {},
   "source": [
    "## Further materials"
   ]
  },
  {
   "cell_type": "markdown",
   "metadata": {},
   "source": [
    "[MongoDB manual](https://docs.mongodb.com/manual/)"
   ]
  },
  {
   "cell_type": "markdown",
   "metadata": {},
   "source": [
    "[pymongo documentation](https://pymongo.readthedocs.io/en/stable/)"
   ]
  }
 ],
 "metadata": {
  "colab": {
   "collapsed_sections": [],
   "include_colab_link": true,
   "name": "1.1_First_steps_with_MongoDB-PyMongo.ipynb",
   "provenance": []
  },
  "kernelspec": {
   "display_name": "Python 3",
   "language": "python",
   "name": "python3"
  },
  "language_info": {
   "codemirror_mode": {
    "name": "ipython",
    "version": 3
   },
   "file_extension": ".py",
   "mimetype": "text/x-python",
   "name": "python",
   "nbconvert_exporter": "python",
   "pygments_lexer": "ipython3",
   "version": "3.8.5"
  },
  "toc": {
   "base_numbering": 1,
   "nav_menu": {},
   "number_sections": true,
   "sideBar": true,
   "skip_h1_title": true,
   "title_cell": "Table of Contents",
   "title_sidebar": "Contents",
   "toc_cell": true,
   "toc_position": {},
   "toc_section_display": true,
   "toc_window_display": true
  },
  "varInspector": {
   "cols": {
    "lenName": 16,
    "lenType": 16,
    "lenVar": 40
   },
   "kernels_config": {
    "python": {
     "delete_cmd_postfix": "",
     "delete_cmd_prefix": "del ",
     "library": "var_list.py",
     "varRefreshCmd": "print(var_dic_list())"
    },
    "r": {
     "delete_cmd_postfix": ") ",
     "delete_cmd_prefix": "rm(",
     "library": "var_list.r",
     "varRefreshCmd": "cat(var_dic_list()) "
    }
   },
   "types_to_exclude": [
    "module",
    "function",
    "builtin_function_or_method",
    "instance",
    "_Feature"
   ],
   "window_display": false
  }
 },
 "nbformat": 4,
 "nbformat_minor": 1
}
