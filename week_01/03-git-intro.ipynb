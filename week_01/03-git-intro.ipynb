{
 "cells": [
  {
   "cell_type": "markdown",
   "metadata": {},
   "source": [
    "# Intro to GIT and Version Control"
   ]
  },
  {
   "cell_type": "markdown",
   "metadata": {},
   "source": [
    "## What is Version Control and why should you care?\n",
    "\n",
    "![image.png](../static/suspicious_fry_magic.jpeg)\n",
    "\n",
    "\"Version control is a system that records changes to a file or set of files over time so that you can recall specific versions later. We will use software source code as the files being version controlled, though in reality you can do this with nearly any type of file on a computer.\n",
    "\n",
    "If you are a graphic or web designer and want to keep every version of an image or layout (which you would most certainly want to), a Version Control System (VCS) is a very wise thing to use. It allows you to revert selected files back to a previous state, revert the entire project back to a previous state, compare changes over time, see who last modified something that might be causing a problem, who introduced an issue and when, and more. Using a VCS also generally means that if you screw things up or lose files, you can easily recover. In addition, you get all this for very little overhead.\n",
    "\n",
    "GIT is a VCS system designed with the following goals in mind:\n",
    "\n",
    "* Speed\n",
    "\n",
    "* Simple design\n",
    "\n",
    "* **Strong support for non-linear development (thousands of parallel branches)**\n",
    "\n",
    "* Fully distributed\n",
    "\n",
    "* Able to handle large projects like the Linux kernel efficiently (speed and data size)\"*\n",
    "\n",
    "Not enough reasons to learn GIT. Well, **it is an absolute industry standard** so... deal with it\n",
    "\n",
    "\n",
    "***Note:** Mainly extracted from the [docs](https://git-scm.com/book/en/v2/Getting-Started-About-Version-Control)\n",
    "\n"
   ]
  },
  {
   "cell_type": "markdown",
   "metadata": {},
   "source": [
    "## GIT´s graph model\n",
    "\n",
    "\n",
    "Git models the history of your projects as [directed acyclic graph](https://en.wikipedia.org/wiki/Directed_acyclic_graph) (a DAG). Let us understand these three words:\n",
    "\n",
    "* A **Graph** is a way to model connected things. More technically, a graph is a collection of \"nodes\" connected by \"edges\". Think for example of a social network, where individuals are the nodes and relationships are the \"edges\" (a.k.a. links).\n",
    "\n",
    "* **Acyclic** means that the graph contains no circles. This means that you cannot find a path where you start and finish on the same node following the direction of the edges.\n",
    "\n",
    "* **Directed** means that the edges can only go in one direction. Think for example of \"parent\", \"child\", and the relationship \"is son of\" --- nope, you cannot be parent and child of the same person.\n",
    "\n",
    "Furthermore:\n",
    "\n",
    "* The **graph as a whole** contains a [project's history](https://www.youtube.com/watch?v=zuRd_Eneuk8). \n",
    "\n",
    "* **Nodes** in Git represent commits (remember: snapshots of your project). \n",
    "\n",
    "* The **edges** point from a commit to its parents. \n",
    "\n",
    "* A **branch** occurs if a commit has more than one child. \n",
    "\n",
    "* A **merge** occurs when a commit has more than one parent. \n",
    "\n",
    "\n",
    "[Link to a super cool visualization!](https://agripongit.vincenttunru.com/)\n",
    "\n",
    "\n"
   ]
  },
  {
   "cell_type": "markdown",
   "metadata": {},
   "source": [
    "## GIT´s locations\n",
    "\n",
    "\n",
    "Git does its magic in different locations: \n",
    "\n",
    "* The **working space** (or working tree) contains the files for a single commit. Simply put, it is where your work happens.\n",
    "\n",
    "* The **Index** (or staging area) keeps track of the files that will be included in the next commit. It is what you want to include in the next commit.\n",
    "\n",
    "* The **local repository** contains all of the commits of the project. The Index and local repository are located in a hidden .git directory in your project. \n",
    "\n",
    "* The **remote repository** (such as GitHub) contains the commits of the project but on a remote location. It is where you usually share and collaborate, and it is normally considered the source of truth.\n",
    "\n",
    "[And yet another super cool visualization!](https://ndpsoftware.com/git-cheatsheet.html)"
   ]
  },
  {
   "cell_type": "markdown",
   "metadata": {},
   "source": [
    "## Hands on tutorial!\n",
    "\n",
    "To illustrate the power of GIT, we will simulate two people **A**lice and **B**ob collaborating to write a book --- yes, you read right, Git is not only for code!\n",
    "\n"
   ]
  },
  {
   "cell_type": "markdown",
   "metadata": {},
   "source": [
    "### Create a local repository\n",
    "\n",
    "Alice had a great idea for a book. She heard of GIT as a great tool to keep track of the different versions of her writing. "
   ]
  },
  {
   "cell_type": "code",
   "execution_count": 4,
   "metadata": {},
   "outputs": [],
   "source": [
    "# mkdir book-repo\n",
    "# cd mkdir\n",
    "# git init"
   ]
  },
  {
   "cell_type": "code",
   "execution_count": 5,
   "metadata": {},
   "outputs": [],
   "source": [
    "# Extra: Let´s go deep! --> .git\n",
    "# $ ls -a"
   ]
  },
  {
   "cell_type": "markdown",
   "metadata": {},
   "source": [
    "### Commit individual changes\n",
    "Once she is set up and ready is time to commit her first ideas!!"
   ]
  },
  {
   "cell_type": "markdown",
   "metadata": {},
   "source": [
    "create a file and see status"
   ]
  },
  {
   "cell_type": "code",
   "execution_count": 6,
   "metadata": {},
   "outputs": [],
   "source": [
    "# $ git status # what´s here so far? Nothing\n",
    "# $ touch Readme.md\n",
    "# nano Readme.md\n",
    "# $ git status # what´s here so far? An untracked file"
   ]
  },
  {
   "cell_type": "markdown",
   "metadata": {},
   "source": [
    "add file to Index"
   ]
  },
  {
   "cell_type": "code",
   "execution_count": 7,
   "metadata": {},
   "outputs": [],
   "source": [
    "# $ git add Readme.md\n",
    "# $ git status # what´s here so far? A tracked file"
   ]
  },
  {
   "cell_type": "markdown",
   "metadata": {},
   "source": [
    "commit"
   ]
  },
  {
   "cell_type": "code",
   "execution_count": 8,
   "metadata": {},
   "outputs": [],
   "source": [
    "# $ git commit -m \"add Readme.md\""
   ]
  },
  {
   "cell_type": "markdown",
   "metadata": {},
   "source": [
    "see the graph"
   ]
  },
  {
   "cell_type": "code",
   "execution_count": 9,
   "metadata": {},
   "outputs": [],
   "source": [
    "# $ git log --oneline --graph --all"
   ]
  },
  {
   "cell_type": "markdown",
   "metadata": {},
   "source": [
    "### Add a remote repository\n",
    "\n",
    "Alice would love to get feedback and ideas for her new book, and also to store a copy of her work onlie."
   ]
  },
  {
   "cell_type": "markdown",
   "metadata": {},
   "source": [
    "(First, we create the repo `book-repo` in our Gitub account)"
   ]
  },
  {
   "cell_type": "code",
   "execution_count": 1,
   "metadata": {},
   "outputs": [],
   "source": [
    "# git remote add origin https://github.com/1gnaci0/book-repo.git\n",
    "# git remote -v"
   ]
  },
  {
   "cell_type": "code",
   "execution_count": null,
   "metadata": {},
   "outputs": [],
   "source": [
    "# git push -u origin master "
   ]
  },
  {
   "cell_type": "markdown",
   "metadata": {},
   "source": [
    "### creating branches "
   ]
  },
  {
   "cell_type": "code",
   "execution_count": null,
   "metadata": {},
   "outputs": [],
   "source": [
    "# git checkout -b feat/chapter1\n",
    "# git touch chapter1.txt\n",
    "# nano chapter1.txt\n",
    "# ...\n",
    "# git commit -a -m \"first ideas for chapter 1\"\n",
    "# git push -u origin feat/chapter1"
   ]
  },
  {
   "cell_type": "code",
   "execution_count": null,
   "metadata": {},
   "outputs": [],
   "source": [
    "# git checkout master\n",
    "# $ cat chapter_1.txt # What is there? THE MASTER BRANCH DOES NOT KNOW OF YOUR WORK IN BRANCH new_idea\n",
    "# $ git log --oneline --graph --all"
   ]
  },
  {
   "cell_type": "markdown",
   "metadata": {},
   "source": [
    "### Cloning repos\n",
    "\n",
    "Bob really loves Alice´s idea and wants to contribute to her book. She is pleased! Bob is such a creative person!. However, the only requirement she imposes is that he does not mess with her parts... "
   ]
  },
  {
   "cell_type": "code",
   "execution_count": 2,
   "metadata": {},
   "outputs": [],
   "source": [
    "# mkdir bob\n",
    "# cd bob\n",
    "# git clone https://github.com/1gnaci0/book-repo.git"
   ]
  },
  {
   "cell_type": "code",
   "execution_count": null,
   "metadata": {},
   "outputs": [],
   "source": [
    "# $ git branch -a # see current branches"
   ]
  },
  {
   "cell_type": "markdown",
   "metadata": {},
   "source": [
    "Create and checkout a branch off of the latest main commit named `feat/chapter2`"
   ]
  },
  {
   "cell_type": "code",
   "execution_count": null,
   "metadata": {},
   "outputs": [],
   "source": [
    "# one command approach\n",
    "# $ git checkout -b feat/chapter2\n",
    "\n",
    "# see current branches\n",
    "\n",
    "# $ git branch -a\n",
    "# $ git log --oneline --graph --all\n",
    "\n",
    "# $ cat chapter_1.txt # What is there?"
   ]
  },
  {
   "cell_type": "code",
   "execution_count": null,
   "metadata": {},
   "outputs": [],
   "source": [
    "# Add new chapter\n",
    "# $ nano chapter_2.txt\n",
    "\n",
    "# git add chapter_2.txt\n",
    "# git commit -m \"chapter\"\n",
    "# git push chapter_2.txt"
   ]
  },
  {
   "cell_type": "markdown",
   "metadata": {},
   "source": [
    "[Git-Hub] Create pull requests from Alice\n",
    "\n",
    "[Git-Hub] Create pull requests from Bob"
   ]
  },
  {
   "cell_type": "markdown",
   "metadata": {},
   "source": [
    "Delete the branches"
   ]
  },
  {
   "cell_type": "code",
   "execution_count": null,
   "metadata": {},
   "outputs": [],
   "source": [
    "# DOES not work because it has not been merged\n",
    "# $ git branch -d feat/chapter1 (alice)\n",
    "# $ git branch -d feat/chapter2 (bob)\n",
    "\n",
    "# $ git branch -D new_idea"
   ]
  },
  {
   "cell_type": "markdown",
   "metadata": {},
   "source": [
    "### Pull\n",
    "\n",
    "get the updates from the remote repo."
   ]
  },
  {
   "cell_type": "code",
   "execution_count": null,
   "metadata": {},
   "outputs": [],
   "source": [
    "# git checkout master\n",
    "# ls\n",
    "# git pull\n",
    "# ls"
   ]
  },
  {
   "cell_type": "markdown",
   "metadata": {},
   "source": [
    "### Solving conflicts\n",
    "\n",
    "Bob and Alice have different views on chapter 3"
   ]
  },
  {
   "cell_type": "code",
   "execution_count": 3,
   "metadata": {},
   "outputs": [],
   "source": [
    "# ALICE\n",
    "# git checkout -b alice/chapter_3\n",
    "# nano chapter_3.txt\n",
    "# git add\n",
    "# git commit\n",
    "# git push\n",
    "\n",
    "\n",
    "# BOB\n",
    "# git checkout -b bob/chapter_3\n",
    "# nano chapter_3.txt\n",
    "# git add\n",
    "# git commit\n",
    "# git pushls"
   ]
  },
  {
   "cell_type": "markdown",
   "metadata": {},
   "source": [
    "* Alice pull request -> All good\n",
    "\n",
    "* Bob pull request -> Conflict!\n"
   ]
  },
  {
   "cell_type": "code",
   "execution_count": null,
   "metadata": {},
   "outputs": [],
   "source": [
    "# solve conflicts on Git-Hub"
   ]
  },
  {
   "cell_type": "markdown",
   "metadata": {},
   "source": [
    "## Summary \n",
    "Now it is your turn: What have we learnt?\n",
    "\n",
    "* GIT is the industry standard version control system\n",
    "* The use of branches and remote repositories allows for multiple people working on the same project\n",
    "* GIT basic commands: `clone`, `init`, `add`, `commit`, `pull`, `push`, `branch`, `checkout`, "
   ]
  },
  {
   "cell_type": "markdown",
   "metadata": {},
   "source": [
    "## Further materials\n",
    "\n",
    "* Get to know Linus Torvals, the mind behind Linux and Git in this [interview at TED](https://www.ted.com/talks/linus_torvalds_the_mind_behind_linux?language=es)\n",
    "* See the [GIT docs](https://git-scm.com/) for the real deal...\n",
    "* Or a [simpler guide](https://rogerdudler.github.io/git-guide/index.html) for a quick reminder of basic concepts.\n",
    "* And don´t forget your [Cheatsheet](https://www.atlassian.com/dam/jcr:8132028b-024f-4b6b-953e-e68fcce0c5fa/atlassian-git-cheatsheet.pdf)!"
   ]
  }
 ],
 "metadata": {
  "kernelspec": {
   "display_name": "Python 3",
   "language": "python",
   "name": "python3"
  },
  "language_info": {
   "codemirror_mode": {
    "name": "ipython",
    "version": 3
   },
   "file_extension": ".py",
   "mimetype": "text/x-python",
   "name": "python",
   "nbconvert_exporter": "python",
   "pygments_lexer": "ipython3",
   "version": "3.7.4"
  },
  "toc": {
   "base_numbering": 1,
   "nav_menu": {},
   "number_sections": true,
   "sideBar": true,
   "skip_h1_title": true,
   "title_cell": "Table of Contents",
   "title_sidebar": "Contents",
   "toc_cell": true,
   "toc_position": {},
   "toc_section_display": true,
   "toc_window_display": true
  },
  "varInspector": {
   "cols": {
    "lenName": 16,
    "lenType": 16,
    "lenVar": 40
   },
   "kernels_config": {
    "python": {
     "delete_cmd_postfix": "",
     "delete_cmd_prefix": "del ",
     "library": "var_list.py",
     "varRefreshCmd": "print(var_dic_list())"
    },
    "r": {
     "delete_cmd_postfix": ") ",
     "delete_cmd_prefix": "rm(",
     "library": "var_list.r",
     "varRefreshCmd": "cat(var_dic_list()) "
    }
   },
   "types_to_exclude": [
    "module",
    "function",
    "builtin_function_or_method",
    "instance",
    "_Feature"
   ],
   "window_display": false
  }
 },
 "nbformat": 4,
 "nbformat_minor": 4
}
