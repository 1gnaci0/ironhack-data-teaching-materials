{
 "cells": [
  {
   "cell_type": "markdown",
   "metadata": {},
   "source": [
    "# Intro to GIT and Version Control"
   ]
  },
  {
   "cell_type": "markdown",
   "metadata": {
    "toc": true
   },
   "source": [
    "<h1>Table of Contents<span class=\"tocSkip\"></span></h1>\n",
    "<div class=\"toc\"><ul class=\"toc-item\"><li><span><a href=\"#What-is-Version-Control-and-why-should-you-care?\" data-toc-modified-id=\"What-is-Version-Control-and-why-should-you-care?-1\"><span class=\"toc-item-num\">1&nbsp;&nbsp;</span>What is Version Control and why should you care?</a></span></li><li><span><a href=\"#GIT´s-graph-model\" data-toc-modified-id=\"GIT´s-graph-model-2\"><span class=\"toc-item-num\">2&nbsp;&nbsp;</span>GIT´s graph model</a></span></li><li><span><a href=\"#GIT´s-locations\" data-toc-modified-id=\"GIT´s-locations-3\"><span class=\"toc-item-num\">3&nbsp;&nbsp;</span>GIT´s locations</a></span></li><li><span><a href=\"#Hands-on-tutorial!\" data-toc-modified-id=\"Hands-on-tutorial!-4\"><span class=\"toc-item-num\">4&nbsp;&nbsp;</span>Hands on tutorial!</a></span><ul class=\"toc-item\"><li><span><a href=\"#Create-a-local-repository\" data-toc-modified-id=\"Create-a-local-repository-4.1\"><span class=\"toc-item-num\">4.1&nbsp;&nbsp;</span>Create a local repository</a></span></li><li><span><a href=\"#Commit-individual-changes\" data-toc-modified-id=\"Commit-individual-changes-4.2\"><span class=\"toc-item-num\">4.2&nbsp;&nbsp;</span>Commit individual changes</a></span></li><li><span><a href=\"#Creating-branches\" data-toc-modified-id=\"Creating-branches-4.3\"><span class=\"toc-item-num\">4.3&nbsp;&nbsp;</span>Creating branches</a></span></li><li><span><a href=\"#Merging\" data-toc-modified-id=\"Merging-4.4\"><span class=\"toc-item-num\">4.4&nbsp;&nbsp;</span>Merging</a></span></li><li><span><a href=\"#Resolving-merge-conflicts\" data-toc-modified-id=\"Resolving-merge-conflicts-4.5\"><span class=\"toc-item-num\">4.5&nbsp;&nbsp;</span>Resolving merge conflicts</a></span></li></ul></li><li><span><a href=\"#Summary\" data-toc-modified-id=\"Summary-5\"><span class=\"toc-item-num\">5&nbsp;&nbsp;</span>Summary</a></span></li><li><span><a href=\"#Further-materials\" data-toc-modified-id=\"Further-materials-6\"><span class=\"toc-item-num\">6&nbsp;&nbsp;</span>Further materials</a></span></li></ul></div>"
   ]
  },
  {
   "attachments": {},
   "cell_type": "markdown",
   "metadata": {},
   "source": [
    "## What is Version Control and why should you care?\n",
    "\n",
    "![image.png](../static/suspicious_fry_magic.jpeg)\n",
    "\n",
    "\"Version control is a system that records changes to a file or set of files over time so that you can recall specific versions later. We will use software source code as the files being version controlled, though in reality you can do this with nearly any type of file on a computer.\n",
    "\n",
    "If you are a graphic or web designer and want to keep every version of an image or layout (which you would most certainly want to), a Version Control System (VCS) is a very wise thing to use. It allows you to revert selected files back to a previous state, revert the entire project back to a previous state, compare changes over time, see who last modified something that might be causing a problem, who introduced an issue and when, and more. Using a VCS also generally means that if you screw things up or lose files, you can easily recover. In addition, you get all this for very little overhead.\n",
    "\n",
    "GIT is a VCS system designed with the following goals in mind:\n",
    "\n",
    "* Speed\n",
    "\n",
    "* Simple design\n",
    "\n",
    "* **Strong support for non-linear development (thousands of parallel branches)**\n",
    "\n",
    "* Fully distributed\n",
    "\n",
    "* Able to handle large projects like the Linux kernel efficiently (speed and data size)\"*\n",
    "\n",
    "Not enough reasons to learn GIT. Well, **it is an absolute industry standard** so... deal with it\n",
    "\n",
    "\n",
    "***Note:** Mainly extracted from the [docs](https://git-scm.com/book/en/v2/Getting-Started-About-Version-Control)\n",
    "\n"
   ]
  },
  {
   "cell_type": "markdown",
   "metadata": {},
   "source": [
    "## GIT´s graph model\n",
    "\n",
    "\n",
    "Git models the history of your projects as [directed acyclic graph](https://en.wikipedia.org/wiki/Directed_acyclic_graph) (a DAG). Let us understand these three words:\n",
    "\n",
    "* A **Graph** is a way to model connected things. More technically, a graph is a collection of \"nodes\" connected by \"edges\". Think for example of a social network, where individuals are the nodes and relationships are the \"edges\" (a.k.a. links).\n",
    "\n",
    "* **Acyclic** means that the graph contains no circles. This means that you cannot find a path where you start and finish on the same node following the direction of the edges.\n",
    "\n",
    "* **Directed** means that the edges can only go in one direction. Think for example of \"parent\", \"child\", and the relationship \"is son of\" --- nope, you cannot be parent and child of the same person.\n",
    "\n",
    "Furthermore:\n",
    "\n",
    "* The **graph as a whole** contains a [project's history](https://www.youtube.com/watch?v=zuRd_Eneuk8). \n",
    "\n",
    "* **Nodes** in Git represent commits (remember: snapshots of your project). \n",
    "\n",
    "* The **edges** point from a commit to its parents. \n",
    "\n",
    "* A **branch** occurs if a commit has more than one child. \n",
    "\n",
    "* A **merge** occurs when a commit has more than one parent. \n",
    "\n",
    "\n",
    "[Link to a super cool visualization!](https://agripongit.vincenttunru.com/)\n",
    "\n",
    "\n"
   ]
  },
  {
   "cell_type": "markdown",
   "metadata": {},
   "source": [
    "## GIT´s locations\n",
    "\n",
    "\n",
    "Git does its magic in different locations: \n",
    "\n",
    "* The **working space** (or working tree) contains the files for a single commit. Simply put, it is where your work happens.\n",
    "\n",
    "* The **Index** (or staging area) keeps track of the files that will be included in the next commit. It is what you want to include in the next commit.\n",
    "\n",
    "* The **local repository** contains all of the commits of the project. The Index and local repository are located in a hidden .git directory in your project. \n",
    "\n",
    "* The **remote repository** (such as GitHub) contains the commits of the project but on a remote location. It is where you usually share and collaborate, and it is normally considered the source of truth.\n",
    "\n",
    "[And yet another super cool visualization!](https://ndpsoftware.com/git-cheatsheet.html)"
   ]
  },
  {
   "cell_type": "markdown",
   "metadata": {},
   "source": [
    "## Hands on tutorial!\n",
    "\n",
    "To illustrate the power of GIT, we will simulate two people **A**lice and **B**ob collaborating to write a book --- yes, you read right, Git is not only for code!\n",
    "\n"
   ]
  },
  {
   "cell_type": "markdown",
   "metadata": {},
   "source": [
    "### Create a local repository\n",
    "\n",
    "Alice had a great idea for a book. She heard of GIT as a great tool to keep track of the different versions of her writing. "
   ]
  },
  {
   "cell_type": "code",
   "execution_count": null,
   "metadata": {},
   "outputs": [],
   "source": [
    "# $ cd                 \n",
    "# $ mkdir repos\n",
    "# $ cd repos\n",
    "# $ mkdir my_cool_book\n",
    "# $ cd my_cool_book\n",
    "# $ git init"
   ]
  },
  {
   "cell_type": "code",
   "execution_count": null,
   "metadata": {},
   "outputs": [],
   "source": [
    "# Extra: Let´s go deep! --> .git\n",
    "# $ ls -a"
   ]
  },
  {
   "cell_type": "markdown",
   "metadata": {},
   "source": [
    "### Commit individual changes\n",
    "Once she is set up and ready is time to commit her first ideas!!"
   ]
  },
  {
   "cell_type": "markdown",
   "metadata": {},
   "source": [
    "create a file and see status"
   ]
  },
  {
   "cell_type": "code",
   "execution_count": null,
   "metadata": {},
   "outputs": [],
   "source": [
    "# $ git status # what´s here so far? Nothing\n",
    "# $ touch chapter_1.txt\n",
    "# $ git status # what´s here so far? An untracked file"
   ]
  },
  {
   "cell_type": "markdown",
   "metadata": {},
   "source": [
    "add file to Index"
   ]
  },
  {
   "cell_type": "code",
   "execution_count": 1,
   "metadata": {},
   "outputs": [],
   "source": [
    "# $ git add chapter_1.txt \n",
    "# $ git status # what´s here so far? A tracked file"
   ]
  },
  {
   "cell_type": "markdown",
   "metadata": {},
   "source": [
    "commit"
   ]
  },
  {
   "cell_type": "code",
   "execution_count": null,
   "metadata": {},
   "outputs": [],
   "source": [
    "# $ git commit -m \"add chapter_1.txt\""
   ]
  },
  {
   "cell_type": "markdown",
   "metadata": {},
   "source": [
    "see the graph"
   ]
  },
  {
   "cell_type": "code",
   "execution_count": 2,
   "metadata": {},
   "outputs": [],
   "source": [
    "# $ git log --oneline --graph --all"
   ]
  },
  {
   "cell_type": "markdown",
   "metadata": {},
   "source": [
    "### Creating branches\n",
    "\n",
    "Bob really loves Alice´s idea and wants to contribute to her book. She is pleased! Bob is such a creative person!. However, the only requirement she imposes is that he does not mess with her parts... "
   ]
  },
  {
   "cell_type": "code",
   "execution_count": null,
   "metadata": {},
   "outputs": [],
   "source": [
    "# $ git branch # see current branches"
   ]
  },
  {
   "cell_type": "markdown",
   "metadata": {},
   "source": [
    "Create and checkout a branch off of the latest main commit named \"new_idea\""
   ]
  },
  {
   "cell_type": "code",
   "execution_count": null,
   "metadata": {},
   "outputs": [],
   "source": [
    "# two command approach\n",
    "# $ git branch new_idea\n",
    "# $ git checkout new_idea\n",
    "\n",
    "# one command approach\n",
    "# $ git checkout -b new_idea\n",
    "\n",
    "\n",
    "# see current branches\n",
    "\n",
    "# $ git branch \n",
    "# $ git log --oneline --graph --all"
   ]
  },
  {
   "cell_type": "code",
   "execution_count": null,
   "metadata": {},
   "outputs": [],
   "source": [
    "# Add text to the file\n",
    "# $ echo 'En hun lugar de la mancha...' >> chapter_1.txt\n",
    "# $ cat chapter_1.txt # What is there?\n",
    "\n",
    "# Commit\n",
    "# git add chapter_1.txt\n",
    "# git commit -m \"new mistake in chapter\""
   ]
  },
  {
   "cell_type": "markdown",
   "metadata": {},
   "source": [
    "Go back to master branch"
   ]
  },
  {
   "cell_type": "code",
   "execution_count": null,
   "metadata": {},
   "outputs": [],
   "source": [
    "# git checkout master\n",
    "# $ cat chapter_1.txt # What is there? THE MASTER BRANCH DOES NOT KNOW OF YOUR WORK IN BRANCH new_idea\n",
    "# $ git log --oneline --graph --all"
   ]
  },
  {
   "cell_type": "code",
   "execution_count": 3,
   "metadata": {},
   "outputs": [],
   "source": [
    "# git checkout new_idea\n",
    "\n",
    "# add a bigger mistake\n",
    "# $ echo 'De kullo nombre no quiero acordarme...' >> chapter_1.txt\n",
    "\n",
    "# Commit\n",
    "# git add chapter_1.txt\n",
    "# git commit -m \"new bigger mistake in chapter\""
   ]
  },
  {
   "cell_type": "code",
   "execution_count": 4,
   "metadata": {},
   "outputs": [],
   "source": [
    "# git log --oneline --graph --all"
   ]
  },
  {
   "cell_type": "markdown",
   "metadata": {},
   "source": [
    "Delete the terrible new branch"
   ]
  },
  {
   "cell_type": "code",
   "execution_count": null,
   "metadata": {},
   "outputs": [],
   "source": [
    "# DOES not work because it has not been merged\n",
    "# $ git branch -d new_idea  \n",
    "\n",
    "# $ git branch -D new_idea"
   ]
  },
  {
   "cell_type": "markdown",
   "metadata": {},
   "source": [
    "### Merging\n",
    "Bob no has a good first contribution and is ready to share his work \n"
   ]
  },
  {
   "cell_type": "code",
   "execution_count": null,
   "metadata": {},
   "outputs": [],
   "source": [
    "# one command approach\n",
    "# $ git checkout -b new_idea\n",
    "\n",
    "# Add text to the file\n",
    "# $ echo 'En un lugar de la mancha...' >> chapter_1.txt\n",
    "# $ cat chapter_1.txt # What is there?\n",
    "\n",
    "# Commit\n",
    "# git add chapter_1.txt\n",
    "# git commit -m \"new line in chapter\"\n",
    "\n",
    "# see what happened\n",
    "# git log --oneline --graph --all"
   ]
  },
  {
   "cell_type": "markdown",
   "metadata": {},
   "source": [
    "Do the actual merge"
   ]
  },
  {
   "cell_type": "code",
   "execution_count": null,
   "metadata": {},
   "outputs": [],
   "source": [
    "# git checkout master\n",
    "# git merge new_idea # (This is a fast-forward merge)\n",
    "\n",
    "# Delete the branch (not to be used anymore)"
   ]
  },
  {
   "cell_type": "markdown",
   "metadata": {},
   "source": [
    "### Resolving merge conflicts\n",
    "While working on his part, Bob saw a typo in Alice´s work. Of course, he is so nice that he corrects it. But... that causes a merge conflict! Would this be the end of their friendship !?!?\n"
   ]
  },
  {
   "cell_type": "code",
   "execution_count": null,
   "metadata": {},
   "outputs": [],
   "source": [
    "# Alice´s mistake\n",
    "# git checkout master\n",
    "\n",
    "# Add text to the file\n",
    "# $ echo 'En hun lugar de la mancha...' > chapter_1.txt\n",
    "# $ cat chapter_1.txt # What is there?\n",
    "\n",
    "# she commits changes\n",
    "# Commit\n",
    "# git add chapter_1.txt\n",
    "# git commit -m \"new line in chapter by Alice\""
   ]
  },
  {
   "cell_type": "code",
   "execution_count": 5,
   "metadata": {},
   "outputs": [],
   "source": [
    "# Bob´s branch\n",
    "# $ git checkout -b new_bob_branch\n",
    "# $ cat chapter_1.txt # What is there? A mistake\n",
    "\n",
    "# Bob corrects the mistake \n",
    "# $ echo 'En un lugar de la mancha...' > chapter_1.txt\n",
    "# $ cat chapter_1.txt # What is there?\n",
    "\n",
    "# he commits changes\n",
    "# Commit\n",
    "# git add chapter_1.txt\n",
    "# git commit -m \"corrected line in chapter by Bob\""
   ]
  },
  {
   "cell_type": "markdown",
   "metadata": {},
   "source": [
    "try merging"
   ]
  },
  {
   "cell_type": "code",
   "execution_count": null,
   "metadata": {},
   "outputs": [],
   "source": [
    "# git checkout master\n",
    "# Alice is not aware of Bob change and keeps changing\n",
    "# $ echo 'De cuyo nombre no quiero acordarme...' >> chapter_1.txt\n",
    "\n",
    "# she commits changes\n",
    "# Commit\n",
    "# git add chapter_1.txt\n",
    "# git commit -m \"new line in chapter by Alice\"\n",
    "\n",
    "# git merge new_bob_branch # Conflict!!!\n",
    "\n",
    "# nano chapter_1.txt # correct the changes\n",
    "# add chapter_1.txt\n",
    "# git commit \n",
    "# git log --oneline --graph --all"
   ]
  },
  {
   "cell_type": "markdown",
   "metadata": {},
   "source": [
    "## Summary \n",
    "Now it is your turn: What have we learnt?\n",
    "\n",
    "* GIT is the industry standard version control system\n",
    "* The use of branches and remote repositories allows for multiple people working on the same project\n",
    "* GIT basic commands: `clone`, `init`, `add`, `commit`, `pull`, `push`, `branch`, `checkout` "
   ]
  },
  {
   "cell_type": "markdown",
   "metadata": {},
   "source": [
    "## Further materials\n",
    "\n",
    "* Get to know Linus Torvals, the mind behind Linux and Git in this [interview at TED](https://www.ted.com/talks/linus_torvalds_the_mind_behind_linux?language=es)\n",
    "* See the [GIT docs](https://git-scm.com/) for the real deal...\n",
    "* Or a [simpler guide](https://rogerdudler.github.io/git-guide/index.html) for a quick reminder of basic concepts.\n",
    "* And don´t forget your [Cheatsheet](https://www.atlassian.com/dam/jcr:8132028b-024f-4b6b-953e-e68fcce0c5fa/atlassian-git-cheatsheet.pdf)!"
   ]
  },
  {
   "cell_type": "code",
   "execution_count": null,
   "metadata": {},
   "outputs": [],
   "source": []
  }
 ],
 "metadata": {
  "kernelspec": {
   "display_name": "Python 3",
   "language": "python",
   "name": "python3"
  },
  "language_info": {
   "codemirror_mode": {
    "name": "ipython",
    "version": 3
   },
   "file_extension": ".py",
   "mimetype": "text/x-python",
   "name": "python",
   "nbconvert_exporter": "python",
   "pygments_lexer": "ipython3",
   "version": "3.7.4"
  },
  "toc": {
   "base_numbering": 1,
   "nav_menu": {},
   "number_sections": true,
   "sideBar": true,
   "skip_h1_title": true,
   "title_cell": "Table of Contents",
   "title_sidebar": "Contents",
   "toc_cell": true,
   "toc_position": {},
   "toc_section_display": true,
   "toc_window_display": true
  },
  "varInspector": {
   "cols": {
    "lenName": 16,
    "lenType": 16,
    "lenVar": 40
   },
   "kernels_config": {
    "python": {
     "delete_cmd_postfix": "",
     "delete_cmd_prefix": "del ",
     "library": "var_list.py",
     "varRefreshCmd": "print(var_dic_list())"
    },
    "r": {
     "delete_cmd_postfix": ") ",
     "delete_cmd_prefix": "rm(",
     "library": "var_list.r",
     "varRefreshCmd": "cat(var_dic_list()) "
    }
   },
   "types_to_exclude": [
    "module",
    "function",
    "builtin_function_or_method",
    "instance",
    "_Feature"
   ],
   "window_display": false
  }
 },
 "nbformat": 4,
 "nbformat_minor": 4
}
